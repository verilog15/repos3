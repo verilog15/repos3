{
 "cells": [
  {
   "cell_type": "code",
   "execution_count": 1,
   "metadata": {},
   "outputs": [
    {
     "name": "stdout",
     "output_type": "stream",
     "text": [
      "env: CUDA_VISIBLE_DEVICES=0\n"
     ]
    }
   ],
   "source": [
    "%env CUDA_VISIBLE_DEVICES=0"
   ]
  },
  {
   "cell_type": "code",
   "execution_count": 2,
   "metadata": {},
   "outputs": [],
   "source": [
    "DATA_DIR = '/home/HDD6TB/datasets/emotions/ABAW/ABAW_8/EMI/'\n",
    "VIDEO_DIR=DATA_DIR+'raw/'\n",
    "AUDIO_DIR=DATA_DIR+'audio/'\n",
    "FRAMES_DIR=DATA_DIR+'frames/'\n",
    "#FACES_DIR=DATA_DIR+'detected_faces/'\n",
    "FACES_DIR=DATA_DIR+'face_images/'\n",
    "TRAIN_LABELS=DATA_DIR+'train_split.csv'\n",
    "VAL_LABELS=DATA_DIR+'valid_split.csv'\n",
    "\n",
    "TEST_DATA_DIR = DATA_DIR+'test_data/'\n",
    "TEST_VIDEO_DIR=TEST_DATA_DIR+'raw/'\n",
    "TEST_AUDIO_DIR=TEST_DATA_DIR+'audio/'\n",
    "TEST_FRAMES_DIR=TEST_DATA_DIR+'frames/'\n",
    "#TEST_FACES_DIR=TEST_DATA_DIR+'detected_faces/'\n",
    "TEST_FACES_DIR=TEST_DATA_DIR+'face_images/'"
   ]
  },
  {
   "cell_type": "code",
   "execution_count": 3,
   "metadata": {},
   "outputs": [],
   "source": [
    "import os\n",
    "from PIL import Image\n",
    "import cv2\n",
    "import pathlib\n",
    "\n",
    "from sklearn.model_selection import train_test_split\n",
    "from sklearn import preprocessing\n",
    "from sklearn import svm\n",
    "from sklearn.ensemble import RandomForestClassifier,RandomForestRegressor\n",
    "from sklearn import svm,metrics,preprocessing\n",
    "from sklearn.neighbors import KNeighborsClassifier\n",
    "from sklearn.decomposition import PCA\n",
    "from sklearn.pipeline import Pipeline\n",
    "from sklearn.metrics import precision_score, recall_score, accuracy_score, f1_score,roc_auc_score,average_precision_score\n",
    "\n",
    "from collections import defaultdict\n",
    "import os\n",
    "import glob\n",
    "import random\n",
    "import numpy as np\n",
    "from tqdm import tqdm\n",
    "import time\n",
    "import pickle\n",
    "import pandas as pd\n",
    "import random\n",
    "import csv  \n",
    "import matplotlib.pyplot as plt"
   ]
  },
  {
   "cell_type": "code",
   "execution_count": 4,
   "metadata": {},
   "outputs": [],
   "source": [
    "def get_names(id):\n",
    "    name = \"\"\n",
    "    if id>=0 and id<10:\n",
    "        name = \"0000\" + str(id)\n",
    "    elif id>=10 and id<100:\n",
    "        name = \"000\" + str(id)\n",
    "    elif id>=100 and id<1000:\n",
    "        name = \"00\" + str(id)\n",
    "    elif id>=1000 and id<10000:\n",
    "        name = \"0\" + str(id)\n",
    "    else:\n",
    "        name = str(id)\n",
    "    return name"
   ]
  },
  {
   "cell_type": "code",
   "execution_count": 5,
   "metadata": {},
   "outputs": [],
   "source": [
    "compare_filenames=lambda x: int(os.path.splitext(x)[0])"
   ]
  },
  {
   "cell_type": "markdown",
   "metadata": {},
   "source": [
    "# Extract frames"
   ]
  },
  {
   "cell_type": "code",
   "execution_count": null,
   "metadata": {},
   "outputs": [
    {
     "name": "stderr",
     "output_type": "stream",
     "text": [
      " 36%|███▋      | 4593/12660 [9:55:13<5:01:20,  2.24s/it]   "
     ]
    }
   ],
   "source": [
    "for filename in tqdm(sorted(os.listdir(VIDEO_DIR))):\n",
    "    frames_dir=os.path.join(FRAMES_DIR,str(os.path.splitext(filename)[0]))\n",
    "    if not os.path.exists(frames_dir):\n",
    "        os.makedirs(frames_dir)\n",
    "    command = \"ffmpeg -r 1 -i \" + VIDEO_DIR+str(filename) + \" -r 1 '\" + frames_dir + \"/%04d.jpg'\"\n",
    "    #print(command)\n",
    "    #break\n",
    "    os.system(command=command)"
   ]
  },
  {
   "cell_type": "code",
   "execution_count": null,
   "metadata": {},
   "outputs": [
    {
     "name": "stderr",
     "output_type": "stream",
     "text": [
      " 69%|██████▊   | 3143/4586 [9:05:17<4:04:45, 10.18s/it] "
     ]
    }
   ],
   "source": [
    "for filename in tqdm(sorted(os.listdir(TEST_VIDEO_DIR))):\n",
    "    frames_dir=os.path.join(TEST_FRAMES_DIR,str(os.path.splitext(filename)[0]))\n",
    "    if not os.path.exists(frames_dir):\n",
    "        os.makedirs(frames_dir)\n",
    "    command = \"ffmpeg -r 1 -i \" + TEST_VIDEO_DIR+str(filename) + \" -r 1 '\" + frames_dir + \"/%04d.jpg'\"\n",
    "    #print(command)\n",
    "    #break\n",
    "    os.system(command=command)"
   ]
  },
  {
   "cell_type": "markdown",
   "metadata": {},
   "source": [
    "# Extract features"
   ]
  },
  {
   "cell_type": "code",
   "execution_count": 9,
   "metadata": {},
   "outputs": [
    {
     "name": "stdout",
     "output_type": "stream",
     "text": [
      "Torch: 2.0.1+cu118\n",
      "True\n"
     ]
    }
   ],
   "source": [
    "import glob\n",
    "from itertools import chain\n",
    "import os\n",
    "import random\n",
    "import zipfile\n",
    "\n",
    "import matplotlib.pyplot as plt\n",
    "import numpy as np\n",
    "import pandas as pd\n",
    "import torch\n",
    "import torch.nn as nn\n",
    "import torch.nn.functional as F\n",
    "import torch.optim as optim\n",
    "from PIL import Image\n",
    "from sklearn.model_selection import train_test_split\n",
    "from torch.optim.lr_scheduler import StepLR\n",
    "from torch.utils.data import DataLoader, Dataset\n",
    "from torchvision import datasets, transforms\n",
    "from tqdm.notebook import tqdm\n",
    "\n",
    "print(f\"Torch: {torch.__version__}\")\n",
    "device = 'cuda'\n",
    "use_cuda = torch.cuda.is_available()\n",
    "print(use_cuda)"
   ]
  },
  {
   "cell_type": "code",
   "execution_count": 10,
   "metadata": {},
   "outputs": [],
   "source": [
    "if True:\n",
    "    if False:\n",
    "        model_name='mbf_va_mtl.pt'\n",
    "\n",
    "        IMG_SIZE=112\n",
    "\n",
    "        test_transforms = transforms.Compose(\n",
    "        [\n",
    "            transforms.Resize((112,112)),\n",
    "            #transforms.RandomHorizontalFlip(),\n",
    "            transforms.ToTensor(),\n",
    "            transforms.Normalize(mean=[0.5, 0.5, 0.5],std=[0.5, 0.5, 0.5])\n",
    "        ]\n",
    "        )\n",
    "\n",
    "        import sys\n",
    "        sys.path.append(\"../../../emotiefflib/backbones/\")\n",
    "        import mobilefacenet\n",
    "    else:\n",
    "        if False:\n",
    "            #model_name='affectnet_vggface2_enet2_gmp_smooth.pt'\n",
    "            model_name='enet_b2_8_best.pt'\n",
    "            #model_name='enet_b2_7.pt'\n",
    "            IMG_SIZE=260 #224 #\n",
    "        else:\n",
    "            #model_name='affectnet_vggface2_enet0.pt'\n",
    "            #model_name='affectnet_vggface2_enet0_new.pt'\n",
    "            #model_name='enet_b0_7.pt'\n",
    "            #model_name='enet_b0_8_best_afew.pt'\n",
    "            #model_name='enet_b0_8_best_vgaf.pt'\n",
    "            model_name='enet_b0_8_va_mtl.pt'\n",
    "            #model_name='mobilevit_va_mtl.pt'\n",
    "\n",
    "            IMG_SIZE=224\n",
    "\n",
    "        #IMG_SIZE=112\n",
    "\n",
    "        test_transforms = transforms.Compose(\n",
    "            [\n",
    "                transforms.Resize((IMG_SIZE,IMG_SIZE)),\n",
    "                #transforms.RandomHorizontalFlip(),\n",
    "                transforms.ToTensor(),\n",
    "                transforms.Normalize(mean=[0.485, 0.456, 0.406],\n",
    "                                             std=[0.229, 0.224, 0.225])\n",
    "            ]\n",
    "        )\n",
    "        np_transforms = transforms.Compose(\n",
    "            [\n",
    "                transforms.ToPILImage(None),\n",
    "                transforms.Resize((IMG_SIZE,IMG_SIZE)),\n",
    "                #transforms.RandomHorizontalFlip(),\n",
    "                transforms.ToTensor(),\n",
    "                transforms.Normalize(mean=[0.485, 0.456, 0.406],\n",
    "                                             std=[0.229, 0.224, 0.225])\n",
    "            ]\n",
    "        )\n",
    "\n",
    "\n",
    "    print(model_name)\n",
    "    feature_extractor_model = torch.load('../../../models/affectnet_emotions/'+model_name)\n",
    "\n",
    "else:\n",
    "    IMG_SIZE=112\n",
    "    \n",
    "    test_transforms = transforms.Compose([\n",
    "        transforms.Resize((IMG_SIZE, IMG_SIZE)),\n",
    "        transforms.ToTensor(),\n",
    "        transforms.Normalize(mean=[0.485, 0.456, 0.406],\n",
    "                                 std=[0.229, 0.224, 0.225])])  \n",
    "    \n",
    "    import sys\n",
    "    DDAMNFN_PATH='/home/avsavchenko/src/distr/DDAMFN'\n",
    "    sys.path.append(DDAMNFN_PATH)\n",
    "    from networks.DDAM import DDAMNet\n",
    "\n",
    "    if True:\n",
    "        feature_extractor_model = DDAMNet(num_class=8, num_head=2)\n",
    "        model_name='affectnet8_epoch4_acc0.6462'\n",
    "    else:\n",
    "        feature_extractor_model = DDAMNet(num_class=10, num_head=2)\n",
    "        model_name='affectnet8_epoch9_acc0.642_mtl_2'\n",
    "    feature_extractor_model.load_state_dict(torch.load(DDAMNFN_PATH+'/checkpoints/'+model_name+'.pth')['model_state_dict'])\n",
    "    feature_extractor_model.bn=torch.nn.Identity()\n",
    "    print(model_name)"
   ]
  },
  {
   "cell_type": "code",
   "execution_count": 12,
   "metadata": {},
   "outputs": [
    {
     "data": {
      "text/plain": [
       "EfficientNet(\n",
       "  (conv_stem): Conv2dSame(3, 32, kernel_size=(3, 3), stride=(2, 2), bias=False)\n",
       "  (bn1): BatchNormAct2d(\n",
       "    32, eps=0.001, momentum=0.1, affine=True, track_running_stats=True\n",
       "    (drop): Identity()\n",
       "    (act): SiLU(inplace=True)\n",
       "  )\n",
       "  (blocks): Sequential(\n",
       "    (0): Sequential(\n",
       "      (0): DepthwiseSeparableConv(\n",
       "        (conv_dw): Conv2d(32, 32, kernel_size=(3, 3), stride=(1, 1), padding=(1, 1), groups=32, bias=False)\n",
       "        (bn1): BatchNormAct2d(\n",
       "          32, eps=0.001, momentum=0.1, affine=True, track_running_stats=True\n",
       "          (drop): Identity()\n",
       "          (act): SiLU(inplace=True)\n",
       "        )\n",
       "        (se): SqueezeExcite(\n",
       "          (conv_reduce): Conv2d(32, 8, kernel_size=(1, 1), stride=(1, 1))\n",
       "          (act1): SiLU(inplace=True)\n",
       "          (conv_expand): Conv2d(8, 32, kernel_size=(1, 1), stride=(1, 1))\n",
       "          (gate): Sigmoid()\n",
       "        )\n",
       "        (conv_pw): Conv2d(32, 16, kernel_size=(1, 1), stride=(1, 1), bias=False)\n",
       "        (bn2): BatchNormAct2d(\n",
       "          16, eps=0.001, momentum=0.1, affine=True, track_running_stats=True\n",
       "          (drop): Identity()\n",
       "          (act): Identity()\n",
       "        )\n",
       "        (drop_path): Identity()\n",
       "      )\n",
       "    )\n",
       "    (1): Sequential(\n",
       "      (0): InvertedResidual(\n",
       "        (conv_pw): Conv2d(16, 96, kernel_size=(1, 1), stride=(1, 1), bias=False)\n",
       "        (bn1): BatchNormAct2d(\n",
       "          96, eps=0.001, momentum=0.1, affine=True, track_running_stats=True\n",
       "          (drop): Identity()\n",
       "          (act): SiLU(inplace=True)\n",
       "        )\n",
       "        (conv_dw): Conv2dSame(96, 96, kernel_size=(3, 3), stride=(2, 2), groups=96, bias=False)\n",
       "        (bn2): BatchNormAct2d(\n",
       "          96, eps=0.001, momentum=0.1, affine=True, track_running_stats=True\n",
       "          (drop): Identity()\n",
       "          (act): SiLU(inplace=True)\n",
       "        )\n",
       "        (se): SqueezeExcite(\n",
       "          (conv_reduce): Conv2d(96, 4, kernel_size=(1, 1), stride=(1, 1))\n",
       "          (act1): SiLU(inplace=True)\n",
       "          (conv_expand): Conv2d(4, 96, kernel_size=(1, 1), stride=(1, 1))\n",
       "          (gate): Sigmoid()\n",
       "        )\n",
       "        (conv_pwl): Conv2d(96, 24, kernel_size=(1, 1), stride=(1, 1), bias=False)\n",
       "        (bn3): BatchNormAct2d(\n",
       "          24, eps=0.001, momentum=0.1, affine=True, track_running_stats=True\n",
       "          (drop): Identity()\n",
       "          (act): Identity()\n",
       "        )\n",
       "        (drop_path): Identity()\n",
       "      )\n",
       "      (1): InvertedResidual(\n",
       "        (conv_pw): Conv2d(24, 144, kernel_size=(1, 1), stride=(1, 1), bias=False)\n",
       "        (bn1): BatchNormAct2d(\n",
       "          144, eps=0.001, momentum=0.1, affine=True, track_running_stats=True\n",
       "          (drop): Identity()\n",
       "          (act): SiLU(inplace=True)\n",
       "        )\n",
       "        (conv_dw): Conv2d(144, 144, kernel_size=(3, 3), stride=(1, 1), padding=(1, 1), groups=144, bias=False)\n",
       "        (bn2): BatchNormAct2d(\n",
       "          144, eps=0.001, momentum=0.1, affine=True, track_running_stats=True\n",
       "          (drop): Identity()\n",
       "          (act): SiLU(inplace=True)\n",
       "        )\n",
       "        (se): SqueezeExcite(\n",
       "          (conv_reduce): Conv2d(144, 6, kernel_size=(1, 1), stride=(1, 1))\n",
       "          (act1): SiLU(inplace=True)\n",
       "          (conv_expand): Conv2d(6, 144, kernel_size=(1, 1), stride=(1, 1))\n",
       "          (gate): Sigmoid()\n",
       "        )\n",
       "        (conv_pwl): Conv2d(144, 24, kernel_size=(1, 1), stride=(1, 1), bias=False)\n",
       "        (bn3): BatchNormAct2d(\n",
       "          24, eps=0.001, momentum=0.1, affine=True, track_running_stats=True\n",
       "          (drop): Identity()\n",
       "          (act): Identity()\n",
       "        )\n",
       "        (drop_path): Identity()\n",
       "      )\n",
       "    )\n",
       "    (2): Sequential(\n",
       "      (0): InvertedResidual(\n",
       "        (conv_pw): Conv2d(24, 144, kernel_size=(1, 1), stride=(1, 1), bias=False)\n",
       "        (bn1): BatchNormAct2d(\n",
       "          144, eps=0.001, momentum=0.1, affine=True, track_running_stats=True\n",
       "          (drop): Identity()\n",
       "          (act): SiLU(inplace=True)\n",
       "        )\n",
       "        (conv_dw): Conv2dSame(144, 144, kernel_size=(5, 5), stride=(2, 2), groups=144, bias=False)\n",
       "        (bn2): BatchNormAct2d(\n",
       "          144, eps=0.001, momentum=0.1, affine=True, track_running_stats=True\n",
       "          (drop): Identity()\n",
       "          (act): SiLU(inplace=True)\n",
       "        )\n",
       "        (se): SqueezeExcite(\n",
       "          (conv_reduce): Conv2d(144, 6, kernel_size=(1, 1), stride=(1, 1))\n",
       "          (act1): SiLU(inplace=True)\n",
       "          (conv_expand): Conv2d(6, 144, kernel_size=(1, 1), stride=(1, 1))\n",
       "          (gate): Sigmoid()\n",
       "        )\n",
       "        (conv_pwl): Conv2d(144, 40, kernel_size=(1, 1), stride=(1, 1), bias=False)\n",
       "        (bn3): BatchNormAct2d(\n",
       "          40, eps=0.001, momentum=0.1, affine=True, track_running_stats=True\n",
       "          (drop): Identity()\n",
       "          (act): Identity()\n",
       "        )\n",
       "        (drop_path): Identity()\n",
       "      )\n",
       "      (1): InvertedResidual(\n",
       "        (conv_pw): Conv2d(40, 240, kernel_size=(1, 1), stride=(1, 1), bias=False)\n",
       "        (bn1): BatchNormAct2d(\n",
       "          240, eps=0.001, momentum=0.1, affine=True, track_running_stats=True\n",
       "          (drop): Identity()\n",
       "          (act): SiLU(inplace=True)\n",
       "        )\n",
       "        (conv_dw): Conv2d(240, 240, kernel_size=(5, 5), stride=(1, 1), padding=(2, 2), groups=240, bias=False)\n",
       "        (bn2): BatchNormAct2d(\n",
       "          240, eps=0.001, momentum=0.1, affine=True, track_running_stats=True\n",
       "          (drop): Identity()\n",
       "          (act): SiLU(inplace=True)\n",
       "        )\n",
       "        (se): SqueezeExcite(\n",
       "          (conv_reduce): Conv2d(240, 10, kernel_size=(1, 1), stride=(1, 1))\n",
       "          (act1): SiLU(inplace=True)\n",
       "          (conv_expand): Conv2d(10, 240, kernel_size=(1, 1), stride=(1, 1))\n",
       "          (gate): Sigmoid()\n",
       "        )\n",
       "        (conv_pwl): Conv2d(240, 40, kernel_size=(1, 1), stride=(1, 1), bias=False)\n",
       "        (bn3): BatchNormAct2d(\n",
       "          40, eps=0.001, momentum=0.1, affine=True, track_running_stats=True\n",
       "          (drop): Identity()\n",
       "          (act): Identity()\n",
       "        )\n",
       "        (drop_path): Identity()\n",
       "      )\n",
       "    )\n",
       "    (3): Sequential(\n",
       "      (0): InvertedResidual(\n",
       "        (conv_pw): Conv2d(40, 240, kernel_size=(1, 1), stride=(1, 1), bias=False)\n",
       "        (bn1): BatchNormAct2d(\n",
       "          240, eps=0.001, momentum=0.1, affine=True, track_running_stats=True\n",
       "          (drop): Identity()\n",
       "          (act): SiLU(inplace=True)\n",
       "        )\n",
       "        (conv_dw): Conv2dSame(240, 240, kernel_size=(3, 3), stride=(2, 2), groups=240, bias=False)\n",
       "        (bn2): BatchNormAct2d(\n",
       "          240, eps=0.001, momentum=0.1, affine=True, track_running_stats=True\n",
       "          (drop): Identity()\n",
       "          (act): SiLU(inplace=True)\n",
       "        )\n",
       "        (se): SqueezeExcite(\n",
       "          (conv_reduce): Conv2d(240, 10, kernel_size=(1, 1), stride=(1, 1))\n",
       "          (act1): SiLU(inplace=True)\n",
       "          (conv_expand): Conv2d(10, 240, kernel_size=(1, 1), stride=(1, 1))\n",
       "          (gate): Sigmoid()\n",
       "        )\n",
       "        (conv_pwl): Conv2d(240, 80, kernel_size=(1, 1), stride=(1, 1), bias=False)\n",
       "        (bn3): BatchNormAct2d(\n",
       "          80, eps=0.001, momentum=0.1, affine=True, track_running_stats=True\n",
       "          (drop): Identity()\n",
       "          (act): Identity()\n",
       "        )\n",
       "        (drop_path): Identity()\n",
       "      )\n",
       "      (1): InvertedResidual(\n",
       "        (conv_pw): Conv2d(80, 480, kernel_size=(1, 1), stride=(1, 1), bias=False)\n",
       "        (bn1): BatchNormAct2d(\n",
       "          480, eps=0.001, momentum=0.1, affine=True, track_running_stats=True\n",
       "          (drop): Identity()\n",
       "          (act): SiLU(inplace=True)\n",
       "        )\n",
       "        (conv_dw): Conv2d(480, 480, kernel_size=(3, 3), stride=(1, 1), padding=(1, 1), groups=480, bias=False)\n",
       "        (bn2): BatchNormAct2d(\n",
       "          480, eps=0.001, momentum=0.1, affine=True, track_running_stats=True\n",
       "          (drop): Identity()\n",
       "          (act): SiLU(inplace=True)\n",
       "        )\n",
       "        (se): SqueezeExcite(\n",
       "          (conv_reduce): Conv2d(480, 20, kernel_size=(1, 1), stride=(1, 1))\n",
       "          (act1): SiLU(inplace=True)\n",
       "          (conv_expand): Conv2d(20, 480, kernel_size=(1, 1), stride=(1, 1))\n",
       "          (gate): Sigmoid()\n",
       "        )\n",
       "        (conv_pwl): Conv2d(480, 80, kernel_size=(1, 1), stride=(1, 1), bias=False)\n",
       "        (bn3): BatchNormAct2d(\n",
       "          80, eps=0.001, momentum=0.1, affine=True, track_running_stats=True\n",
       "          (drop): Identity()\n",
       "          (act): Identity()\n",
       "        )\n",
       "        (drop_path): Identity()\n",
       "      )\n",
       "      (2): InvertedResidual(\n",
       "        (conv_pw): Conv2d(80, 480, kernel_size=(1, 1), stride=(1, 1), bias=False)\n",
       "        (bn1): BatchNormAct2d(\n",
       "          480, eps=0.001, momentum=0.1, affine=True, track_running_stats=True\n",
       "          (drop): Identity()\n",
       "          (act): SiLU(inplace=True)\n",
       "        )\n",
       "        (conv_dw): Conv2d(480, 480, kernel_size=(3, 3), stride=(1, 1), padding=(1, 1), groups=480, bias=False)\n",
       "        (bn2): BatchNormAct2d(\n",
       "          480, eps=0.001, momentum=0.1, affine=True, track_running_stats=True\n",
       "          (drop): Identity()\n",
       "          (act): SiLU(inplace=True)\n",
       "        )\n",
       "        (se): SqueezeExcite(\n",
       "          (conv_reduce): Conv2d(480, 20, kernel_size=(1, 1), stride=(1, 1))\n",
       "          (act1): SiLU(inplace=True)\n",
       "          (conv_expand): Conv2d(20, 480, kernel_size=(1, 1), stride=(1, 1))\n",
       "          (gate): Sigmoid()\n",
       "        )\n",
       "        (conv_pwl): Conv2d(480, 80, kernel_size=(1, 1), stride=(1, 1), bias=False)\n",
       "        (bn3): BatchNormAct2d(\n",
       "          80, eps=0.001, momentum=0.1, affine=True, track_running_stats=True\n",
       "          (drop): Identity()\n",
       "          (act): Identity()\n",
       "        )\n",
       "        (drop_path): Identity()\n",
       "      )\n",
       "    )\n",
       "    (4): Sequential(\n",
       "      (0): InvertedResidual(\n",
       "        (conv_pw): Conv2d(80, 480, kernel_size=(1, 1), stride=(1, 1), bias=False)\n",
       "        (bn1): BatchNormAct2d(\n",
       "          480, eps=0.001, momentum=0.1, affine=True, track_running_stats=True\n",
       "          (drop): Identity()\n",
       "          (act): SiLU(inplace=True)\n",
       "        )\n",
       "        (conv_dw): Conv2d(480, 480, kernel_size=(5, 5), stride=(1, 1), padding=(2, 2), groups=480, bias=False)\n",
       "        (bn2): BatchNormAct2d(\n",
       "          480, eps=0.001, momentum=0.1, affine=True, track_running_stats=True\n",
       "          (drop): Identity()\n",
       "          (act): SiLU(inplace=True)\n",
       "        )\n",
       "        (se): SqueezeExcite(\n",
       "          (conv_reduce): Conv2d(480, 20, kernel_size=(1, 1), stride=(1, 1))\n",
       "          (act1): SiLU(inplace=True)\n",
       "          (conv_expand): Conv2d(20, 480, kernel_size=(1, 1), stride=(1, 1))\n",
       "          (gate): Sigmoid()\n",
       "        )\n",
       "        (conv_pwl): Conv2d(480, 112, kernel_size=(1, 1), stride=(1, 1), bias=False)\n",
       "        (bn3): BatchNormAct2d(\n",
       "          112, eps=0.001, momentum=0.1, affine=True, track_running_stats=True\n",
       "          (drop): Identity()\n",
       "          (act): Identity()\n",
       "        )\n",
       "        (drop_path): Identity()\n",
       "      )\n",
       "      (1): InvertedResidual(\n",
       "        (conv_pw): Conv2d(112, 672, kernel_size=(1, 1), stride=(1, 1), bias=False)\n",
       "        (bn1): BatchNormAct2d(\n",
       "          672, eps=0.001, momentum=0.1, affine=True, track_running_stats=True\n",
       "          (drop): Identity()\n",
       "          (act): SiLU(inplace=True)\n",
       "        )\n",
       "        (conv_dw): Conv2d(672, 672, kernel_size=(5, 5), stride=(1, 1), padding=(2, 2), groups=672, bias=False)\n",
       "        (bn2): BatchNormAct2d(\n",
       "          672, eps=0.001, momentum=0.1, affine=True, track_running_stats=True\n",
       "          (drop): Identity()\n",
       "          (act): SiLU(inplace=True)\n",
       "        )\n",
       "        (se): SqueezeExcite(\n",
       "          (conv_reduce): Conv2d(672, 28, kernel_size=(1, 1), stride=(1, 1))\n",
       "          (act1): SiLU(inplace=True)\n",
       "          (conv_expand): Conv2d(28, 672, kernel_size=(1, 1), stride=(1, 1))\n",
       "          (gate): Sigmoid()\n",
       "        )\n",
       "        (conv_pwl): Conv2d(672, 112, kernel_size=(1, 1), stride=(1, 1), bias=False)\n",
       "        (bn3): BatchNormAct2d(\n",
       "          112, eps=0.001, momentum=0.1, affine=True, track_running_stats=True\n",
       "          (drop): Identity()\n",
       "          (act): Identity()\n",
       "        )\n",
       "        (drop_path): Identity()\n",
       "      )\n",
       "      (2): InvertedResidual(\n",
       "        (conv_pw): Conv2d(112, 672, kernel_size=(1, 1), stride=(1, 1), bias=False)\n",
       "        (bn1): BatchNormAct2d(\n",
       "          672, eps=0.001, momentum=0.1, affine=True, track_running_stats=True\n",
       "          (drop): Identity()\n",
       "          (act): SiLU(inplace=True)\n",
       "        )\n",
       "        (conv_dw): Conv2d(672, 672, kernel_size=(5, 5), stride=(1, 1), padding=(2, 2), groups=672, bias=False)\n",
       "        (bn2): BatchNormAct2d(\n",
       "          672, eps=0.001, momentum=0.1, affine=True, track_running_stats=True\n",
       "          (drop): Identity()\n",
       "          (act): SiLU(inplace=True)\n",
       "        )\n",
       "        (se): SqueezeExcite(\n",
       "          (conv_reduce): Conv2d(672, 28, kernel_size=(1, 1), stride=(1, 1))\n",
       "          (act1): SiLU(inplace=True)\n",
       "          (conv_expand): Conv2d(28, 672, kernel_size=(1, 1), stride=(1, 1))\n",
       "          (gate): Sigmoid()\n",
       "        )\n",
       "        (conv_pwl): Conv2d(672, 112, kernel_size=(1, 1), stride=(1, 1), bias=False)\n",
       "        (bn3): BatchNormAct2d(\n",
       "          112, eps=0.001, momentum=0.1, affine=True, track_running_stats=True\n",
       "          (drop): Identity()\n",
       "          (act): Identity()\n",
       "        )\n",
       "        (drop_path): Identity()\n",
       "      )\n",
       "    )\n",
       "    (5): Sequential(\n",
       "      (0): InvertedResidual(\n",
       "        (conv_pw): Conv2d(112, 672, kernel_size=(1, 1), stride=(1, 1), bias=False)\n",
       "        (bn1): BatchNormAct2d(\n",
       "          672, eps=0.001, momentum=0.1, affine=True, track_running_stats=True\n",
       "          (drop): Identity()\n",
       "          (act): SiLU(inplace=True)\n",
       "        )\n",
       "        (conv_dw): Conv2dSame(672, 672, kernel_size=(5, 5), stride=(2, 2), groups=672, bias=False)\n",
       "        (bn2): BatchNormAct2d(\n",
       "          672, eps=0.001, momentum=0.1, affine=True, track_running_stats=True\n",
       "          (drop): Identity()\n",
       "          (act): SiLU(inplace=True)\n",
       "        )\n",
       "        (se): SqueezeExcite(\n",
       "          (conv_reduce): Conv2d(672, 28, kernel_size=(1, 1), stride=(1, 1))\n",
       "          (act1): SiLU(inplace=True)\n",
       "          (conv_expand): Conv2d(28, 672, kernel_size=(1, 1), stride=(1, 1))\n",
       "          (gate): Sigmoid()\n",
       "        )\n",
       "        (conv_pwl): Conv2d(672, 192, kernel_size=(1, 1), stride=(1, 1), bias=False)\n",
       "        (bn3): BatchNormAct2d(\n",
       "          192, eps=0.001, momentum=0.1, affine=True, track_running_stats=True\n",
       "          (drop): Identity()\n",
       "          (act): Identity()\n",
       "        )\n",
       "        (drop_path): Identity()\n",
       "      )\n",
       "      (1): InvertedResidual(\n",
       "        (conv_pw): Conv2d(192, 1152, kernel_size=(1, 1), stride=(1, 1), bias=False)\n",
       "        (bn1): BatchNormAct2d(\n",
       "          1152, eps=0.001, momentum=0.1, affine=True, track_running_stats=True\n",
       "          (drop): Identity()\n",
       "          (act): SiLU(inplace=True)\n",
       "        )\n",
       "        (conv_dw): Conv2d(1152, 1152, kernel_size=(5, 5), stride=(1, 1), padding=(2, 2), groups=1152, bias=False)\n",
       "        (bn2): BatchNormAct2d(\n",
       "          1152, eps=0.001, momentum=0.1, affine=True, track_running_stats=True\n",
       "          (drop): Identity()\n",
       "          (act): SiLU(inplace=True)\n",
       "        )\n",
       "        (se): SqueezeExcite(\n",
       "          (conv_reduce): Conv2d(1152, 48, kernel_size=(1, 1), stride=(1, 1))\n",
       "          (act1): SiLU(inplace=True)\n",
       "          (conv_expand): Conv2d(48, 1152, kernel_size=(1, 1), stride=(1, 1))\n",
       "          (gate): Sigmoid()\n",
       "        )\n",
       "        (conv_pwl): Conv2d(1152, 192, kernel_size=(1, 1), stride=(1, 1), bias=False)\n",
       "        (bn3): BatchNormAct2d(\n",
       "          192, eps=0.001, momentum=0.1, affine=True, track_running_stats=True\n",
       "          (drop): Identity()\n",
       "          (act): Identity()\n",
       "        )\n",
       "        (drop_path): Identity()\n",
       "      )\n",
       "      (2): InvertedResidual(\n",
       "        (conv_pw): Conv2d(192, 1152, kernel_size=(1, 1), stride=(1, 1), bias=False)\n",
       "        (bn1): BatchNormAct2d(\n",
       "          1152, eps=0.001, momentum=0.1, affine=True, track_running_stats=True\n",
       "          (drop): Identity()\n",
       "          (act): SiLU(inplace=True)\n",
       "        )\n",
       "        (conv_dw): Conv2d(1152, 1152, kernel_size=(5, 5), stride=(1, 1), padding=(2, 2), groups=1152, bias=False)\n",
       "        (bn2): BatchNormAct2d(\n",
       "          1152, eps=0.001, momentum=0.1, affine=True, track_running_stats=True\n",
       "          (drop): Identity()\n",
       "          (act): SiLU(inplace=True)\n",
       "        )\n",
       "        (se): SqueezeExcite(\n",
       "          (conv_reduce): Conv2d(1152, 48, kernel_size=(1, 1), stride=(1, 1))\n",
       "          (act1): SiLU(inplace=True)\n",
       "          (conv_expand): Conv2d(48, 1152, kernel_size=(1, 1), stride=(1, 1))\n",
       "          (gate): Sigmoid()\n",
       "        )\n",
       "        (conv_pwl): Conv2d(1152, 192, kernel_size=(1, 1), stride=(1, 1), bias=False)\n",
       "        (bn3): BatchNormAct2d(\n",
       "          192, eps=0.001, momentum=0.1, affine=True, track_running_stats=True\n",
       "          (drop): Identity()\n",
       "          (act): Identity()\n",
       "        )\n",
       "        (drop_path): Identity()\n",
       "      )\n",
       "      (3): InvertedResidual(\n",
       "        (conv_pw): Conv2d(192, 1152, kernel_size=(1, 1), stride=(1, 1), bias=False)\n",
       "        (bn1): BatchNormAct2d(\n",
       "          1152, eps=0.001, momentum=0.1, affine=True, track_running_stats=True\n",
       "          (drop): Identity()\n",
       "          (act): SiLU(inplace=True)\n",
       "        )\n",
       "        (conv_dw): Conv2d(1152, 1152, kernel_size=(5, 5), stride=(1, 1), padding=(2, 2), groups=1152, bias=False)\n",
       "        (bn2): BatchNormAct2d(\n",
       "          1152, eps=0.001, momentum=0.1, affine=True, track_running_stats=True\n",
       "          (drop): Identity()\n",
       "          (act): SiLU(inplace=True)\n",
       "        )\n",
       "        (se): SqueezeExcite(\n",
       "          (conv_reduce): Conv2d(1152, 48, kernel_size=(1, 1), stride=(1, 1))\n",
       "          (act1): SiLU(inplace=True)\n",
       "          (conv_expand): Conv2d(48, 1152, kernel_size=(1, 1), stride=(1, 1))\n",
       "          (gate): Sigmoid()\n",
       "        )\n",
       "        (conv_pwl): Conv2d(1152, 192, kernel_size=(1, 1), stride=(1, 1), bias=False)\n",
       "        (bn3): BatchNormAct2d(\n",
       "          192, eps=0.001, momentum=0.1, affine=True, track_running_stats=True\n",
       "          (drop): Identity()\n",
       "          (act): Identity()\n",
       "        )\n",
       "        (drop_path): Identity()\n",
       "      )\n",
       "    )\n",
       "    (6): Sequential(\n",
       "      (0): InvertedResidual(\n",
       "        (conv_pw): Conv2d(192, 1152, kernel_size=(1, 1), stride=(1, 1), bias=False)\n",
       "        (bn1): BatchNormAct2d(\n",
       "          1152, eps=0.001, momentum=0.1, affine=True, track_running_stats=True\n",
       "          (drop): Identity()\n",
       "          (act): SiLU(inplace=True)\n",
       "        )\n",
       "        (conv_dw): Conv2d(1152, 1152, kernel_size=(3, 3), stride=(1, 1), padding=(1, 1), groups=1152, bias=False)\n",
       "        (bn2): BatchNormAct2d(\n",
       "          1152, eps=0.001, momentum=0.1, affine=True, track_running_stats=True\n",
       "          (drop): Identity()\n",
       "          (act): SiLU(inplace=True)\n",
       "        )\n",
       "        (se): SqueezeExcite(\n",
       "          (conv_reduce): Conv2d(1152, 48, kernel_size=(1, 1), stride=(1, 1))\n",
       "          (act1): SiLU(inplace=True)\n",
       "          (conv_expand): Conv2d(48, 1152, kernel_size=(1, 1), stride=(1, 1))\n",
       "          (gate): Sigmoid()\n",
       "        )\n",
       "        (conv_pwl): Conv2d(1152, 320, kernel_size=(1, 1), stride=(1, 1), bias=False)\n",
       "        (bn3): BatchNormAct2d(\n",
       "          320, eps=0.001, momentum=0.1, affine=True, track_running_stats=True\n",
       "          (drop): Identity()\n",
       "          (act): Identity()\n",
       "        )\n",
       "        (drop_path): Identity()\n",
       "      )\n",
       "    )\n",
       "  )\n",
       "  (conv_head): Conv2d(320, 1280, kernel_size=(1, 1), stride=(1, 1), bias=False)\n",
       "  (bn2): BatchNormAct2d(\n",
       "    1280, eps=0.001, momentum=0.1, affine=True, track_running_stats=True\n",
       "    (drop): Identity()\n",
       "    (act): SiLU(inplace=True)\n",
       "  )\n",
       "  (global_pool): SelectAdaptivePool2d (pool_type=avg, flatten=Flatten(start_dim=1, end_dim=-1))\n",
       "  (classifier): Linear(in_features=1280, out_features=10, bias=True)\n",
       ")"
      ]
     },
     "execution_count": 12,
     "metadata": {},
     "output_type": "execute_result"
    }
   ],
   "source": [
    "feature_extractor_model"
   ]
  },
  {
   "cell_type": "code",
   "execution_count": 13,
   "metadata": {},
   "outputs": [
    {
     "name": "stdout",
     "output_type": "stream",
     "text": [
      "(10, 1280) [[ 0.00679121  0.09001139  0.0694934  ...  0.10351563 -0.00995514\n",
      "  -0.17376047]\n",
      " [-0.004085   -0.07134113 -0.12164655 ... -0.05029012  0.03059323\n",
      "   0.08198261]\n",
      " [-0.0034241  -0.06510569 -0.00448079 ...  0.04248156 -0.10535879\n",
      "  -0.00544419]\n",
      " ...\n",
      " [ 0.07878461 -0.03540913 -0.06665969 ... -0.10314589  0.1332206\n",
      "  -0.06119434]\n",
      " [-0.02409821 -0.00270485  0.00887998 ... -0.00501176  0.01345664\n",
      "  -0.02131553]\n",
      " [-0.04529824 -0.04590099 -0.00950194 ...  0.00753843  0.02128105\n",
      "  -0.05743075]]\n",
      "(10,) [-0.03629377 -0.00268708 -0.05411524  0.01482256  0.13788255  0.09921926\n",
      " -0.05259513 -0.0124341   0.0816549   0.04621203]\n"
     ]
    }
   ],
   "source": [
    "if False:\n",
    "    classifier_weights=feature_extractor_model.classifier[0].weight.cpu().data.numpy()\n",
    "    classifier_bias=feature_extractor_model.classifier[0].bias.cpu().data.numpy()\n",
    "elif True:\n",
    "    classifier_weights=feature_extractor_model.classifier.weight.cpu().data.numpy()\n",
    "    classifier_bias=feature_extractor_model.classifier.bias.cpu().data.numpy()\n",
    "elif False:\n",
    "    classifier_weights=feature_extractor_model.head.fc.weight.cpu().data.numpy()\n",
    "    classifier_bias=feature_extractor_model.head.fc.bias.cpu().data.numpy()\n",
    "else:\n",
    "    classifier_weights=feature_extractor_model.fc.weight.cpu().data.numpy()\n",
    "    classifier_bias=feature_extractor_model.fc.bias.cpu().data.numpy()\n",
    "print(classifier_weights.shape,classifier_weights)\n",
    "print(classifier_bias.shape,classifier_bias)"
   ]
  },
  {
   "cell_type": "code",
   "execution_count": 14,
   "metadata": {},
   "outputs": [
    {
     "data": {
      "text/plain": [
       "EfficientNet(\n",
       "  (conv_stem): Conv2dSame(3, 32, kernel_size=(3, 3), stride=(2, 2), bias=False)\n",
       "  (bn1): BatchNormAct2d(\n",
       "    32, eps=0.001, momentum=0.1, affine=True, track_running_stats=True\n",
       "    (drop): Identity()\n",
       "    (act): SiLU(inplace=True)\n",
       "  )\n",
       "  (blocks): Sequential(\n",
       "    (0): Sequential(\n",
       "      (0): DepthwiseSeparableConv(\n",
       "        (conv_dw): Conv2d(32, 32, kernel_size=(3, 3), stride=(1, 1), padding=(1, 1), groups=32, bias=False)\n",
       "        (bn1): BatchNormAct2d(\n",
       "          32, eps=0.001, momentum=0.1, affine=True, track_running_stats=True\n",
       "          (drop): Identity()\n",
       "          (act): SiLU(inplace=True)\n",
       "        )\n",
       "        (se): SqueezeExcite(\n",
       "          (conv_reduce): Conv2d(32, 8, kernel_size=(1, 1), stride=(1, 1))\n",
       "          (act1): SiLU(inplace=True)\n",
       "          (conv_expand): Conv2d(8, 32, kernel_size=(1, 1), stride=(1, 1))\n",
       "          (gate): Sigmoid()\n",
       "        )\n",
       "        (conv_pw): Conv2d(32, 16, kernel_size=(1, 1), stride=(1, 1), bias=False)\n",
       "        (bn2): BatchNormAct2d(\n",
       "          16, eps=0.001, momentum=0.1, affine=True, track_running_stats=True\n",
       "          (drop): Identity()\n",
       "          (act): Identity()\n",
       "        )\n",
       "        (drop_path): Identity()\n",
       "      )\n",
       "    )\n",
       "    (1): Sequential(\n",
       "      (0): InvertedResidual(\n",
       "        (conv_pw): Conv2d(16, 96, kernel_size=(1, 1), stride=(1, 1), bias=False)\n",
       "        (bn1): BatchNormAct2d(\n",
       "          96, eps=0.001, momentum=0.1, affine=True, track_running_stats=True\n",
       "          (drop): Identity()\n",
       "          (act): SiLU(inplace=True)\n",
       "        )\n",
       "        (conv_dw): Conv2dSame(96, 96, kernel_size=(3, 3), stride=(2, 2), groups=96, bias=False)\n",
       "        (bn2): BatchNormAct2d(\n",
       "          96, eps=0.001, momentum=0.1, affine=True, track_running_stats=True\n",
       "          (drop): Identity()\n",
       "          (act): SiLU(inplace=True)\n",
       "        )\n",
       "        (se): SqueezeExcite(\n",
       "          (conv_reduce): Conv2d(96, 4, kernel_size=(1, 1), stride=(1, 1))\n",
       "          (act1): SiLU(inplace=True)\n",
       "          (conv_expand): Conv2d(4, 96, kernel_size=(1, 1), stride=(1, 1))\n",
       "          (gate): Sigmoid()\n",
       "        )\n",
       "        (conv_pwl): Conv2d(96, 24, kernel_size=(1, 1), stride=(1, 1), bias=False)\n",
       "        (bn3): BatchNormAct2d(\n",
       "          24, eps=0.001, momentum=0.1, affine=True, track_running_stats=True\n",
       "          (drop): Identity()\n",
       "          (act): Identity()\n",
       "        )\n",
       "        (drop_path): Identity()\n",
       "      )\n",
       "      (1): InvertedResidual(\n",
       "        (conv_pw): Conv2d(24, 144, kernel_size=(1, 1), stride=(1, 1), bias=False)\n",
       "        (bn1): BatchNormAct2d(\n",
       "          144, eps=0.001, momentum=0.1, affine=True, track_running_stats=True\n",
       "          (drop): Identity()\n",
       "          (act): SiLU(inplace=True)\n",
       "        )\n",
       "        (conv_dw): Conv2d(144, 144, kernel_size=(3, 3), stride=(1, 1), padding=(1, 1), groups=144, bias=False)\n",
       "        (bn2): BatchNormAct2d(\n",
       "          144, eps=0.001, momentum=0.1, affine=True, track_running_stats=True\n",
       "          (drop): Identity()\n",
       "          (act): SiLU(inplace=True)\n",
       "        )\n",
       "        (se): SqueezeExcite(\n",
       "          (conv_reduce): Conv2d(144, 6, kernel_size=(1, 1), stride=(1, 1))\n",
       "          (act1): SiLU(inplace=True)\n",
       "          (conv_expand): Conv2d(6, 144, kernel_size=(1, 1), stride=(1, 1))\n",
       "          (gate): Sigmoid()\n",
       "        )\n",
       "        (conv_pwl): Conv2d(144, 24, kernel_size=(1, 1), stride=(1, 1), bias=False)\n",
       "        (bn3): BatchNormAct2d(\n",
       "          24, eps=0.001, momentum=0.1, affine=True, track_running_stats=True\n",
       "          (drop): Identity()\n",
       "          (act): Identity()\n",
       "        )\n",
       "        (drop_path): Identity()\n",
       "      )\n",
       "    )\n",
       "    (2): Sequential(\n",
       "      (0): InvertedResidual(\n",
       "        (conv_pw): Conv2d(24, 144, kernel_size=(1, 1), stride=(1, 1), bias=False)\n",
       "        (bn1): BatchNormAct2d(\n",
       "          144, eps=0.001, momentum=0.1, affine=True, track_running_stats=True\n",
       "          (drop): Identity()\n",
       "          (act): SiLU(inplace=True)\n",
       "        )\n",
       "        (conv_dw): Conv2dSame(144, 144, kernel_size=(5, 5), stride=(2, 2), groups=144, bias=False)\n",
       "        (bn2): BatchNormAct2d(\n",
       "          144, eps=0.001, momentum=0.1, affine=True, track_running_stats=True\n",
       "          (drop): Identity()\n",
       "          (act): SiLU(inplace=True)\n",
       "        )\n",
       "        (se): SqueezeExcite(\n",
       "          (conv_reduce): Conv2d(144, 6, kernel_size=(1, 1), stride=(1, 1))\n",
       "          (act1): SiLU(inplace=True)\n",
       "          (conv_expand): Conv2d(6, 144, kernel_size=(1, 1), stride=(1, 1))\n",
       "          (gate): Sigmoid()\n",
       "        )\n",
       "        (conv_pwl): Conv2d(144, 40, kernel_size=(1, 1), stride=(1, 1), bias=False)\n",
       "        (bn3): BatchNormAct2d(\n",
       "          40, eps=0.001, momentum=0.1, affine=True, track_running_stats=True\n",
       "          (drop): Identity()\n",
       "          (act): Identity()\n",
       "        )\n",
       "        (drop_path): Identity()\n",
       "      )\n",
       "      (1): InvertedResidual(\n",
       "        (conv_pw): Conv2d(40, 240, kernel_size=(1, 1), stride=(1, 1), bias=False)\n",
       "        (bn1): BatchNormAct2d(\n",
       "          240, eps=0.001, momentum=0.1, affine=True, track_running_stats=True\n",
       "          (drop): Identity()\n",
       "          (act): SiLU(inplace=True)\n",
       "        )\n",
       "        (conv_dw): Conv2d(240, 240, kernel_size=(5, 5), stride=(1, 1), padding=(2, 2), groups=240, bias=False)\n",
       "        (bn2): BatchNormAct2d(\n",
       "          240, eps=0.001, momentum=0.1, affine=True, track_running_stats=True\n",
       "          (drop): Identity()\n",
       "          (act): SiLU(inplace=True)\n",
       "        )\n",
       "        (se): SqueezeExcite(\n",
       "          (conv_reduce): Conv2d(240, 10, kernel_size=(1, 1), stride=(1, 1))\n",
       "          (act1): SiLU(inplace=True)\n",
       "          (conv_expand): Conv2d(10, 240, kernel_size=(1, 1), stride=(1, 1))\n",
       "          (gate): Sigmoid()\n",
       "        )\n",
       "        (conv_pwl): Conv2d(240, 40, kernel_size=(1, 1), stride=(1, 1), bias=False)\n",
       "        (bn3): BatchNormAct2d(\n",
       "          40, eps=0.001, momentum=0.1, affine=True, track_running_stats=True\n",
       "          (drop): Identity()\n",
       "          (act): Identity()\n",
       "        )\n",
       "        (drop_path): Identity()\n",
       "      )\n",
       "    )\n",
       "    (3): Sequential(\n",
       "      (0): InvertedResidual(\n",
       "        (conv_pw): Conv2d(40, 240, kernel_size=(1, 1), stride=(1, 1), bias=False)\n",
       "        (bn1): BatchNormAct2d(\n",
       "          240, eps=0.001, momentum=0.1, affine=True, track_running_stats=True\n",
       "          (drop): Identity()\n",
       "          (act): SiLU(inplace=True)\n",
       "        )\n",
       "        (conv_dw): Conv2dSame(240, 240, kernel_size=(3, 3), stride=(2, 2), groups=240, bias=False)\n",
       "        (bn2): BatchNormAct2d(\n",
       "          240, eps=0.001, momentum=0.1, affine=True, track_running_stats=True\n",
       "          (drop): Identity()\n",
       "          (act): SiLU(inplace=True)\n",
       "        )\n",
       "        (se): SqueezeExcite(\n",
       "          (conv_reduce): Conv2d(240, 10, kernel_size=(1, 1), stride=(1, 1))\n",
       "          (act1): SiLU(inplace=True)\n",
       "          (conv_expand): Conv2d(10, 240, kernel_size=(1, 1), stride=(1, 1))\n",
       "          (gate): Sigmoid()\n",
       "        )\n",
       "        (conv_pwl): Conv2d(240, 80, kernel_size=(1, 1), stride=(1, 1), bias=False)\n",
       "        (bn3): BatchNormAct2d(\n",
       "          80, eps=0.001, momentum=0.1, affine=True, track_running_stats=True\n",
       "          (drop): Identity()\n",
       "          (act): Identity()\n",
       "        )\n",
       "        (drop_path): Identity()\n",
       "      )\n",
       "      (1): InvertedResidual(\n",
       "        (conv_pw): Conv2d(80, 480, kernel_size=(1, 1), stride=(1, 1), bias=False)\n",
       "        (bn1): BatchNormAct2d(\n",
       "          480, eps=0.001, momentum=0.1, affine=True, track_running_stats=True\n",
       "          (drop): Identity()\n",
       "          (act): SiLU(inplace=True)\n",
       "        )\n",
       "        (conv_dw): Conv2d(480, 480, kernel_size=(3, 3), stride=(1, 1), padding=(1, 1), groups=480, bias=False)\n",
       "        (bn2): BatchNormAct2d(\n",
       "          480, eps=0.001, momentum=0.1, affine=True, track_running_stats=True\n",
       "          (drop): Identity()\n",
       "          (act): SiLU(inplace=True)\n",
       "        )\n",
       "        (se): SqueezeExcite(\n",
       "          (conv_reduce): Conv2d(480, 20, kernel_size=(1, 1), stride=(1, 1))\n",
       "          (act1): SiLU(inplace=True)\n",
       "          (conv_expand): Conv2d(20, 480, kernel_size=(1, 1), stride=(1, 1))\n",
       "          (gate): Sigmoid()\n",
       "        )\n",
       "        (conv_pwl): Conv2d(480, 80, kernel_size=(1, 1), stride=(1, 1), bias=False)\n",
       "        (bn3): BatchNormAct2d(\n",
       "          80, eps=0.001, momentum=0.1, affine=True, track_running_stats=True\n",
       "          (drop): Identity()\n",
       "          (act): Identity()\n",
       "        )\n",
       "        (drop_path): Identity()\n",
       "      )\n",
       "      (2): InvertedResidual(\n",
       "        (conv_pw): Conv2d(80, 480, kernel_size=(1, 1), stride=(1, 1), bias=False)\n",
       "        (bn1): BatchNormAct2d(\n",
       "          480, eps=0.001, momentum=0.1, affine=True, track_running_stats=True\n",
       "          (drop): Identity()\n",
       "          (act): SiLU(inplace=True)\n",
       "        )\n",
       "        (conv_dw): Conv2d(480, 480, kernel_size=(3, 3), stride=(1, 1), padding=(1, 1), groups=480, bias=False)\n",
       "        (bn2): BatchNormAct2d(\n",
       "          480, eps=0.001, momentum=0.1, affine=True, track_running_stats=True\n",
       "          (drop): Identity()\n",
       "          (act): SiLU(inplace=True)\n",
       "        )\n",
       "        (se): SqueezeExcite(\n",
       "          (conv_reduce): Conv2d(480, 20, kernel_size=(1, 1), stride=(1, 1))\n",
       "          (act1): SiLU(inplace=True)\n",
       "          (conv_expand): Conv2d(20, 480, kernel_size=(1, 1), stride=(1, 1))\n",
       "          (gate): Sigmoid()\n",
       "        )\n",
       "        (conv_pwl): Conv2d(480, 80, kernel_size=(1, 1), stride=(1, 1), bias=False)\n",
       "        (bn3): BatchNormAct2d(\n",
       "          80, eps=0.001, momentum=0.1, affine=True, track_running_stats=True\n",
       "          (drop): Identity()\n",
       "          (act): Identity()\n",
       "        )\n",
       "        (drop_path): Identity()\n",
       "      )\n",
       "    )\n",
       "    (4): Sequential(\n",
       "      (0): InvertedResidual(\n",
       "        (conv_pw): Conv2d(80, 480, kernel_size=(1, 1), stride=(1, 1), bias=False)\n",
       "        (bn1): BatchNormAct2d(\n",
       "          480, eps=0.001, momentum=0.1, affine=True, track_running_stats=True\n",
       "          (drop): Identity()\n",
       "          (act): SiLU(inplace=True)\n",
       "        )\n",
       "        (conv_dw): Conv2d(480, 480, kernel_size=(5, 5), stride=(1, 1), padding=(2, 2), groups=480, bias=False)\n",
       "        (bn2): BatchNormAct2d(\n",
       "          480, eps=0.001, momentum=0.1, affine=True, track_running_stats=True\n",
       "          (drop): Identity()\n",
       "          (act): SiLU(inplace=True)\n",
       "        )\n",
       "        (se): SqueezeExcite(\n",
       "          (conv_reduce): Conv2d(480, 20, kernel_size=(1, 1), stride=(1, 1))\n",
       "          (act1): SiLU(inplace=True)\n",
       "          (conv_expand): Conv2d(20, 480, kernel_size=(1, 1), stride=(1, 1))\n",
       "          (gate): Sigmoid()\n",
       "        )\n",
       "        (conv_pwl): Conv2d(480, 112, kernel_size=(1, 1), stride=(1, 1), bias=False)\n",
       "        (bn3): BatchNormAct2d(\n",
       "          112, eps=0.001, momentum=0.1, affine=True, track_running_stats=True\n",
       "          (drop): Identity()\n",
       "          (act): Identity()\n",
       "        )\n",
       "        (drop_path): Identity()\n",
       "      )\n",
       "      (1): InvertedResidual(\n",
       "        (conv_pw): Conv2d(112, 672, kernel_size=(1, 1), stride=(1, 1), bias=False)\n",
       "        (bn1): BatchNormAct2d(\n",
       "          672, eps=0.001, momentum=0.1, affine=True, track_running_stats=True\n",
       "          (drop): Identity()\n",
       "          (act): SiLU(inplace=True)\n",
       "        )\n",
       "        (conv_dw): Conv2d(672, 672, kernel_size=(5, 5), stride=(1, 1), padding=(2, 2), groups=672, bias=False)\n",
       "        (bn2): BatchNormAct2d(\n",
       "          672, eps=0.001, momentum=0.1, affine=True, track_running_stats=True\n",
       "          (drop): Identity()\n",
       "          (act): SiLU(inplace=True)\n",
       "        )\n",
       "        (se): SqueezeExcite(\n",
       "          (conv_reduce): Conv2d(672, 28, kernel_size=(1, 1), stride=(1, 1))\n",
       "          (act1): SiLU(inplace=True)\n",
       "          (conv_expand): Conv2d(28, 672, kernel_size=(1, 1), stride=(1, 1))\n",
       "          (gate): Sigmoid()\n",
       "        )\n",
       "        (conv_pwl): Conv2d(672, 112, kernel_size=(1, 1), stride=(1, 1), bias=False)\n",
       "        (bn3): BatchNormAct2d(\n",
       "          112, eps=0.001, momentum=0.1, affine=True, track_running_stats=True\n",
       "          (drop): Identity()\n",
       "          (act): Identity()\n",
       "        )\n",
       "        (drop_path): Identity()\n",
       "      )\n",
       "      (2): InvertedResidual(\n",
       "        (conv_pw): Conv2d(112, 672, kernel_size=(1, 1), stride=(1, 1), bias=False)\n",
       "        (bn1): BatchNormAct2d(\n",
       "          672, eps=0.001, momentum=0.1, affine=True, track_running_stats=True\n",
       "          (drop): Identity()\n",
       "          (act): SiLU(inplace=True)\n",
       "        )\n",
       "        (conv_dw): Conv2d(672, 672, kernel_size=(5, 5), stride=(1, 1), padding=(2, 2), groups=672, bias=False)\n",
       "        (bn2): BatchNormAct2d(\n",
       "          672, eps=0.001, momentum=0.1, affine=True, track_running_stats=True\n",
       "          (drop): Identity()\n",
       "          (act): SiLU(inplace=True)\n",
       "        )\n",
       "        (se): SqueezeExcite(\n",
       "          (conv_reduce): Conv2d(672, 28, kernel_size=(1, 1), stride=(1, 1))\n",
       "          (act1): SiLU(inplace=True)\n",
       "          (conv_expand): Conv2d(28, 672, kernel_size=(1, 1), stride=(1, 1))\n",
       "          (gate): Sigmoid()\n",
       "        )\n",
       "        (conv_pwl): Conv2d(672, 112, kernel_size=(1, 1), stride=(1, 1), bias=False)\n",
       "        (bn3): BatchNormAct2d(\n",
       "          112, eps=0.001, momentum=0.1, affine=True, track_running_stats=True\n",
       "          (drop): Identity()\n",
       "          (act): Identity()\n",
       "        )\n",
       "        (drop_path): Identity()\n",
       "      )\n",
       "    )\n",
       "    (5): Sequential(\n",
       "      (0): InvertedResidual(\n",
       "        (conv_pw): Conv2d(112, 672, kernel_size=(1, 1), stride=(1, 1), bias=False)\n",
       "        (bn1): BatchNormAct2d(\n",
       "          672, eps=0.001, momentum=0.1, affine=True, track_running_stats=True\n",
       "          (drop): Identity()\n",
       "          (act): SiLU(inplace=True)\n",
       "        )\n",
       "        (conv_dw): Conv2dSame(672, 672, kernel_size=(5, 5), stride=(2, 2), groups=672, bias=False)\n",
       "        (bn2): BatchNormAct2d(\n",
       "          672, eps=0.001, momentum=0.1, affine=True, track_running_stats=True\n",
       "          (drop): Identity()\n",
       "          (act): SiLU(inplace=True)\n",
       "        )\n",
       "        (se): SqueezeExcite(\n",
       "          (conv_reduce): Conv2d(672, 28, kernel_size=(1, 1), stride=(1, 1))\n",
       "          (act1): SiLU(inplace=True)\n",
       "          (conv_expand): Conv2d(28, 672, kernel_size=(1, 1), stride=(1, 1))\n",
       "          (gate): Sigmoid()\n",
       "        )\n",
       "        (conv_pwl): Conv2d(672, 192, kernel_size=(1, 1), stride=(1, 1), bias=False)\n",
       "        (bn3): BatchNormAct2d(\n",
       "          192, eps=0.001, momentum=0.1, affine=True, track_running_stats=True\n",
       "          (drop): Identity()\n",
       "          (act): Identity()\n",
       "        )\n",
       "        (drop_path): Identity()\n",
       "      )\n",
       "      (1): InvertedResidual(\n",
       "        (conv_pw): Conv2d(192, 1152, kernel_size=(1, 1), stride=(1, 1), bias=False)\n",
       "        (bn1): BatchNormAct2d(\n",
       "          1152, eps=0.001, momentum=0.1, affine=True, track_running_stats=True\n",
       "          (drop): Identity()\n",
       "          (act): SiLU(inplace=True)\n",
       "        )\n",
       "        (conv_dw): Conv2d(1152, 1152, kernel_size=(5, 5), stride=(1, 1), padding=(2, 2), groups=1152, bias=False)\n",
       "        (bn2): BatchNormAct2d(\n",
       "          1152, eps=0.001, momentum=0.1, affine=True, track_running_stats=True\n",
       "          (drop): Identity()\n",
       "          (act): SiLU(inplace=True)\n",
       "        )\n",
       "        (se): SqueezeExcite(\n",
       "          (conv_reduce): Conv2d(1152, 48, kernel_size=(1, 1), stride=(1, 1))\n",
       "          (act1): SiLU(inplace=True)\n",
       "          (conv_expand): Conv2d(48, 1152, kernel_size=(1, 1), stride=(1, 1))\n",
       "          (gate): Sigmoid()\n",
       "        )\n",
       "        (conv_pwl): Conv2d(1152, 192, kernel_size=(1, 1), stride=(1, 1), bias=False)\n",
       "        (bn3): BatchNormAct2d(\n",
       "          192, eps=0.001, momentum=0.1, affine=True, track_running_stats=True\n",
       "          (drop): Identity()\n",
       "          (act): Identity()\n",
       "        )\n",
       "        (drop_path): Identity()\n",
       "      )\n",
       "      (2): InvertedResidual(\n",
       "        (conv_pw): Conv2d(192, 1152, kernel_size=(1, 1), stride=(1, 1), bias=False)\n",
       "        (bn1): BatchNormAct2d(\n",
       "          1152, eps=0.001, momentum=0.1, affine=True, track_running_stats=True\n",
       "          (drop): Identity()\n",
       "          (act): SiLU(inplace=True)\n",
       "        )\n",
       "        (conv_dw): Conv2d(1152, 1152, kernel_size=(5, 5), stride=(1, 1), padding=(2, 2), groups=1152, bias=False)\n",
       "        (bn2): BatchNormAct2d(\n",
       "          1152, eps=0.001, momentum=0.1, affine=True, track_running_stats=True\n",
       "          (drop): Identity()\n",
       "          (act): SiLU(inplace=True)\n",
       "        )\n",
       "        (se): SqueezeExcite(\n",
       "          (conv_reduce): Conv2d(1152, 48, kernel_size=(1, 1), stride=(1, 1))\n",
       "          (act1): SiLU(inplace=True)\n",
       "          (conv_expand): Conv2d(48, 1152, kernel_size=(1, 1), stride=(1, 1))\n",
       "          (gate): Sigmoid()\n",
       "        )\n",
       "        (conv_pwl): Conv2d(1152, 192, kernel_size=(1, 1), stride=(1, 1), bias=False)\n",
       "        (bn3): BatchNormAct2d(\n",
       "          192, eps=0.001, momentum=0.1, affine=True, track_running_stats=True\n",
       "          (drop): Identity()\n",
       "          (act): Identity()\n",
       "        )\n",
       "        (drop_path): Identity()\n",
       "      )\n",
       "      (3): InvertedResidual(\n",
       "        (conv_pw): Conv2d(192, 1152, kernel_size=(1, 1), stride=(1, 1), bias=False)\n",
       "        (bn1): BatchNormAct2d(\n",
       "          1152, eps=0.001, momentum=0.1, affine=True, track_running_stats=True\n",
       "          (drop): Identity()\n",
       "          (act): SiLU(inplace=True)\n",
       "        )\n",
       "        (conv_dw): Conv2d(1152, 1152, kernel_size=(5, 5), stride=(1, 1), padding=(2, 2), groups=1152, bias=False)\n",
       "        (bn2): BatchNormAct2d(\n",
       "          1152, eps=0.001, momentum=0.1, affine=True, track_running_stats=True\n",
       "          (drop): Identity()\n",
       "          (act): SiLU(inplace=True)\n",
       "        )\n",
       "        (se): SqueezeExcite(\n",
       "          (conv_reduce): Conv2d(1152, 48, kernel_size=(1, 1), stride=(1, 1))\n",
       "          (act1): SiLU(inplace=True)\n",
       "          (conv_expand): Conv2d(48, 1152, kernel_size=(1, 1), stride=(1, 1))\n",
       "          (gate): Sigmoid()\n",
       "        )\n",
       "        (conv_pwl): Conv2d(1152, 192, kernel_size=(1, 1), stride=(1, 1), bias=False)\n",
       "        (bn3): BatchNormAct2d(\n",
       "          192, eps=0.001, momentum=0.1, affine=True, track_running_stats=True\n",
       "          (drop): Identity()\n",
       "          (act): Identity()\n",
       "        )\n",
       "        (drop_path): Identity()\n",
       "      )\n",
       "    )\n",
       "    (6): Sequential(\n",
       "      (0): InvertedResidual(\n",
       "        (conv_pw): Conv2d(192, 1152, kernel_size=(1, 1), stride=(1, 1), bias=False)\n",
       "        (bn1): BatchNormAct2d(\n",
       "          1152, eps=0.001, momentum=0.1, affine=True, track_running_stats=True\n",
       "          (drop): Identity()\n",
       "          (act): SiLU(inplace=True)\n",
       "        )\n",
       "        (conv_dw): Conv2d(1152, 1152, kernel_size=(3, 3), stride=(1, 1), padding=(1, 1), groups=1152, bias=False)\n",
       "        (bn2): BatchNormAct2d(\n",
       "          1152, eps=0.001, momentum=0.1, affine=True, track_running_stats=True\n",
       "          (drop): Identity()\n",
       "          (act): SiLU(inplace=True)\n",
       "        )\n",
       "        (se): SqueezeExcite(\n",
       "          (conv_reduce): Conv2d(1152, 48, kernel_size=(1, 1), stride=(1, 1))\n",
       "          (act1): SiLU(inplace=True)\n",
       "          (conv_expand): Conv2d(48, 1152, kernel_size=(1, 1), stride=(1, 1))\n",
       "          (gate): Sigmoid()\n",
       "        )\n",
       "        (conv_pwl): Conv2d(1152, 320, kernel_size=(1, 1), stride=(1, 1), bias=False)\n",
       "        (bn3): BatchNormAct2d(\n",
       "          320, eps=0.001, momentum=0.1, affine=True, track_running_stats=True\n",
       "          (drop): Identity()\n",
       "          (act): Identity()\n",
       "        )\n",
       "        (drop_path): Identity()\n",
       "      )\n",
       "    )\n",
       "  )\n",
       "  (conv_head): Conv2d(320, 1280, kernel_size=(1, 1), stride=(1, 1), bias=False)\n",
       "  (bn2): BatchNormAct2d(\n",
       "    1280, eps=0.001, momentum=0.1, affine=True, track_running_stats=True\n",
       "    (drop): Identity()\n",
       "    (act): SiLU(inplace=True)\n",
       "  )\n",
       "  (global_pool): SelectAdaptivePool2d (pool_type=avg, flatten=Flatten(start_dim=1, end_dim=-1))\n",
       "  (classifier): Identity()\n",
       ")"
      ]
     },
     "execution_count": 14,
     "metadata": {},
     "output_type": "execute_result"
    }
   ],
   "source": [
    "if True:\n",
    "    feature_extractor_model.classifier=torch.nn.Identity()\n",
    "elif False:\n",
    "    feature_extractor_model.head.fc=torch.nn.Identity()\n",
    "else:\n",
    "    feature_extractor_model.fc=torch.nn.Identity()\n",
    "feature_extractor_model=feature_extractor_model.to(device)\n",
    "feature_extractor_model.eval()"
   ]
  },
  {
   "cell_type": "code",
   "execution_count": 15,
   "metadata": {},
   "outputs": [],
   "source": [
    "def get_probab(features):\n",
    "    x=np.dot(features,np.transpose(classifier_weights))+classifier_bias\n",
    "    return x"
   ]
  },
  {
   "cell_type": "code",
   "execution_count": null,
   "metadata": {},
   "outputs": [
    {
     "name": "stdout",
     "output_type": "stream",
     "text": [
      "Compose(\n",
      "    Resize(size=(224, 224), interpolation=bilinear, max_size=None, antialias=warn)\n",
      "    ToTensor()\n",
      "    Normalize(mean=[0.485, 0.456, 0.406], std=[0.229, 0.224, 0.225])\n",
      ")\n",
      "/home/HDD6TB/datasets/emotions/ABAW/ABAW_6/ERI/detected_faces/\n"
     ]
    },
    {
     "data": {
      "application/vnd.jupyter.widget-view+json": {
       "model_id": "8cdabdde4aa14101a1b03aeaec9e5df5",
       "version_major": 2,
       "version_minor": 0
      },
      "text/plain": [
       "  0%|          | 0/12660 [00:00<?, ?it/s]"
      ]
     },
     "metadata": {},
     "output_type": "display_data"
    }
   ],
   "source": [
    "print(test_transforms)\n",
    "data_dir=FACES_DIR\n",
    "print(data_dir)\n",
    "\n",
    "videoname2features,videoname2scores={},{}\n",
    "for videoname in sorted(os.listdir(data_dir)):\n",
    "    video_dir=os.path.join(data_dir,videoname)   \n",
    "    print(videoname)\n",
    "    X_features,img_names=[],[]\n",
    "    imgs=[]\n",
    "    for img_name in sorted(os.listdir(video_dir), key=compare_filenames)[::5]:\n",
    "        #print(video_dir,img_name)\n",
    "        img = Image.open(os.path.join(video_dir,img_name))\n",
    "        img_tensor = test_transforms(img)\n",
    "        if img.size:\n",
    "            img_names.append(videoname+'/'+img_name)\n",
    "            imgs.append(img_tensor)\n",
    "            if len(imgs)>=64: #96: #48: #32:        \n",
    "                #features,_,_ = feature_extractor_model(torch.stack(imgs, dim=0).to(device))\n",
    "                features = feature_extractor_model(torch.stack(imgs, dim=0).to(device))\n",
    "                features=features.data.cpu().numpy()\n",
    "                #print(features.shape)\n",
    "\n",
    "                if len(X_features)==0:\n",
    "                    X_features=features\n",
    "                else:\n",
    "                    X_features=np.concatenate((X_features,features),axis=0)\n",
    "                imgs=[]\n",
    "    #if videoname=='00002':\n",
    "    #    break\n",
    "\n",
    "    if len(imgs)>0:        \n",
    "        #features,_,_ = feature_extractor_model(torch.stack(imgs, dim=0).to(device))\n",
    "        features = feature_extractor_model(torch.stack(imgs, dim=0).to(device))\n",
    "        features=features.data.cpu().numpy()\n",
    "\n",
    "        if len(X_features)==0:\n",
    "            X_features=features\n",
    "        else:\n",
    "            X_features=np.concatenate((X_features,features),axis=0)\n",
    "\n",
    "        imgs=[]\n",
    "    if len(X_features)>0:\n",
    "        X_scores=get_probab(X_features)\n",
    "        print(X_features.shape,X_scores.shape)\n",
    "        videoname2features[videoname]=X_features\n",
    "        videoname2scores[videoname]=X_scores"
   ]
  },
  {
   "cell_type": "code",
   "execution_count": null,
   "metadata": {},
   "outputs": [],
   "source": [
    "print(X_features.shape,X_scores.shape)"
   ]
  },
  {
   "cell_type": "markdown",
   "metadata": {},
   "source": [
    "### Save/load features "
   ]
  },
  {
   "cell_type": "code",
   "execution_count": 127,
   "metadata": {},
   "outputs": [
    {
     "name": "stdout",
     "output_type": "stream",
     "text": [
      "emi_mobilevit_va_mtl_orig_faces.pickle\n"
     ]
    }
   ],
   "source": [
    "import pickle\n",
    "if False:\n",
    "    #model_name='enet_b2_8_best'\n",
    "    #model_name='enet_b0_8_best_vgaf'\n",
    "    model_name='ddamfnet_8'\n",
    "    has_va=False\n",
    "else:\n",
    "    #model_name='enet_b0_8_va_mtl'\n",
    "    model_name='mobilevit_va_mtl'\n",
    "    #model_name='mbf_va'\n",
    "    #model_name='ddamfnet_mtl'\n",
    "    has_va=True\n",
    "    \n",
    "#MODEL2FEATURES='emi_dict_'+model_name+'.pickle' \n",
    "\n",
    "MODEL2FEATURES='emi_'+model_name+'_orig_faces.pickle' \n",
    "\n",
    "print(MODEL2FEATURES)"
   ]
  },
  {
   "cell_type": "code",
   "execution_count": null,
   "metadata": {},
   "outputs": [],
   "source": [
    "if False:\n",
    "    with open(MODEL2FEATURES, 'wb') as handle:\n",
    "        pickle.dump([videoname2features,videoname2scores], handle, protocol=pickle.HIGHEST_PROTOCOL)"
   ]
  },
  {
   "cell_type": "code",
   "execution_count": 128,
   "metadata": {},
   "outputs": [
    {
     "name": "stdout",
     "output_type": "stream",
     "text": [
      "17255 (39, 768) (39, 10)\n"
     ]
    }
   ],
   "source": [
    "filename=MODEL2FEATURES\n",
    "with open(filename, 'rb') as handle:\n",
    "    videoname2features,videoname2scores=pickle.load(handle)\n",
    "print(len(videoname2features),videoname2features['00001'].shape,videoname2scores['00001'].shape)"
   ]
  },
  {
   "cell_type": "code",
   "execution_count": 129,
   "metadata": {},
   "outputs": [
    {
     "name": "stdout",
     "output_type": "stream",
     "text": [
      "emi_test_mobilevit_va_mtl_orig_faces.pickle\n",
      "4586 (39, 768) (39, 10)\n"
     ]
    }
   ],
   "source": [
    "filename='emi_test_'+model_name+'_orig_faces.pickle'\n",
    "print(filename)\n",
    "with open(filename, 'rb') as handle:\n",
    "    videoname2features_test,videoname2scores_test=pickle.load(handle)\n",
    "print(len(videoname2features_test),videoname2features_test['12660'].shape,videoname2scores_test['12660'].shape)"
   ]
  },
  {
   "cell_type": "markdown",
   "metadata": {},
   "source": [
    "### Audio"
   ]
  },
  {
   "cell_type": "code",
   "execution_count": 8,
   "metadata": {},
   "outputs": [],
   "source": [
    "from transformers import Wav2Vec2Processor, Wav2Vec2Model,AutoProcessor, HubertModel\n",
    "import torchaudio\n",
    "import torch"
   ]
  },
  {
   "cell_type": "code",
   "execution_count": 9,
   "metadata": {},
   "outputs": [
    {
     "name": "stderr",
     "output_type": "stream",
     "text": [
      "/usr/local/lib/python3.8/dist-packages/huggingface_hub/file_download.py:795: FutureWarning: `resume_download` is deprecated and will be removed in version 1.0.0. Downloads always resume when possible. If you want to force a new download, use `force_download=True`.\n",
      "  warnings.warn(\n",
      "/usr/local/lib/python3.8/dist-packages/torch/_utils.py:776: UserWarning: TypedStorage is deprecated. It will be removed in the future and UntypedStorage will be the only storage class. This should only matter to you if you are using storages directly.  To access UntypedStorage directly, use tensor.untyped_storage() instead of tensor.storage()\n",
      "  return self.fget.__get__(instance, owner)()\n"
     ]
    },
    {
     "data": {
      "text/plain": [
       "HubertModel(\n",
       "  (feature_extractor): HubertFeatureEncoder(\n",
       "    (conv_layers): ModuleList(\n",
       "      (0): HubertLayerNormConvLayer(\n",
       "        (conv): Conv1d(1, 512, kernel_size=(10,), stride=(5,))\n",
       "        (layer_norm): LayerNorm((512,), eps=1e-05, elementwise_affine=True)\n",
       "        (activation): GELUActivation()\n",
       "      )\n",
       "      (1-4): 4 x HubertLayerNormConvLayer(\n",
       "        (conv): Conv1d(512, 512, kernel_size=(3,), stride=(2,))\n",
       "        (layer_norm): LayerNorm((512,), eps=1e-05, elementwise_affine=True)\n",
       "        (activation): GELUActivation()\n",
       "      )\n",
       "      (5-6): 2 x HubertLayerNormConvLayer(\n",
       "        (conv): Conv1d(512, 512, kernel_size=(2,), stride=(2,))\n",
       "        (layer_norm): LayerNorm((512,), eps=1e-05, elementwise_affine=True)\n",
       "        (activation): GELUActivation()\n",
       "      )\n",
       "    )\n",
       "  )\n",
       "  (feature_projection): HubertFeatureProjection(\n",
       "    (layer_norm): LayerNorm((512,), eps=1e-05, elementwise_affine=True)\n",
       "    (projection): Linear(in_features=512, out_features=1024, bias=True)\n",
       "    (dropout): Dropout(p=0.1, inplace=False)\n",
       "  )\n",
       "  (encoder): HubertEncoderStableLayerNorm(\n",
       "    (pos_conv_embed): HubertPositionalConvEmbedding(\n",
       "      (conv): Conv1d(1024, 1024, kernel_size=(128,), stride=(1,), padding=(64,), groups=16)\n",
       "      (padding): HubertSamePadLayer()\n",
       "      (activation): GELUActivation()\n",
       "    )\n",
       "    (layer_norm): LayerNorm((1024,), eps=1e-05, elementwise_affine=True)\n",
       "    (dropout): Dropout(p=0.1, inplace=False)\n",
       "    (layers): ModuleList(\n",
       "      (0-23): 24 x HubertEncoderLayerStableLayerNorm(\n",
       "        (attention): HubertAttention(\n",
       "          (k_proj): Linear(in_features=1024, out_features=1024, bias=True)\n",
       "          (v_proj): Linear(in_features=1024, out_features=1024, bias=True)\n",
       "          (q_proj): Linear(in_features=1024, out_features=1024, bias=True)\n",
       "          (out_proj): Linear(in_features=1024, out_features=1024, bias=True)\n",
       "        )\n",
       "        (dropout): Dropout(p=0.1, inplace=False)\n",
       "        (layer_norm): LayerNorm((1024,), eps=1e-05, elementwise_affine=True)\n",
       "        (feed_forward): HubertFeedForward(\n",
       "          (intermediate_dropout): Dropout(p=0.1, inplace=False)\n",
       "          (intermediate_dense): Linear(in_features=1024, out_features=4096, bias=True)\n",
       "          (intermediate_act_fn): GELUActivation()\n",
       "          (output_dense): Linear(in_features=4096, out_features=1024, bias=True)\n",
       "          (output_dropout): Dropout(p=0.1, inplace=False)\n",
       "        )\n",
       "        (final_layer_norm): LayerNorm((1024,), eps=1e-05, elementwise_affine=True)\n",
       "      )\n",
       "    )\n",
       "  )\n",
       ")"
      ]
     },
     "execution_count": 9,
     "metadata": {},
     "output_type": "execute_result"
    }
   ],
   "source": [
    "if False:\n",
    "    processor = Wav2Vec2Processor.from_pretrained(\"facebook/wav2vec2-base-960h\")\n",
    "    model = Wav2Vec2Model.from_pretrained(\"facebook/wav2vec2-base-960h\")\n",
    "else:\n",
    "    processor = AutoProcessor.from_pretrained(\"facebook/hubert-large-ls960-ft\")\n",
    "    model = HubertModel.from_pretrained(\"facebook/hubert-large-ls960-ft\")\n",
    "model.eval()"
   ]
  },
  {
   "cell_type": "code",
   "execution_count": 12,
   "metadata": {},
   "outputs": [
    {
     "name": "stderr",
     "output_type": "stream",
     "text": [
      "100%|██████████| 12660/12660 [06:22<00:00, 33.13it/s]   \n"
     ]
    }
   ],
   "source": [
    "#videoname2audio_features={}\n",
    "for filename in tqdm(sorted(os.listdir(AUDIO_DIR))):\n",
    "    videoname,_=os.path.splitext(filename)\n",
    "    #print(videoname)\n",
    "    if videoname in videoname2audio_features:\n",
    "        continue\n",
    "    array, fs = torchaudio.load(os.path.join(AUDIO_DIR,filename))\n",
    "    inp = processor(array.squeeze(), sampling_rate=fs, return_tensors=\"pt\")\n",
    "    with torch.no_grad():\n",
    "        outputs = model(**inp)\n",
    "    videoname2audio_features[videoname]=outputs.last_hidden_state.numpy()[0]\n",
    "    #print(videoname2audio_features[videoname].shape)"
   ]
  },
  {
   "cell_type": "code",
   "execution_count": 9,
   "metadata": {},
   "outputs": [
    {
     "name": "stdout",
     "output_type": "stream",
     "text": [
      "12660 (306, 1024)\n"
     ]
    }
   ],
   "source": [
    "#MODEL2AUDIOFEATURES='emi_dict_wav2vec2.pickle'\n",
    "MODEL2AUDIOFEATURES='emi_dict_hubert.pickle'\n",
    "\n",
    "if False:\n",
    "    with open(MODEL2AUDIOFEATURES, 'wb') as handle:\n",
    "        pickle.dump(videoname2audio_features, handle, protocol=pickle.HIGHEST_PROTOCOL)\n",
    "else:\n",
    "    with open(MODEL2AUDIOFEATURES, 'rb') as handle:\n",
    "        videoname2audio_features=pickle.load(handle)\n",
    "print(len(videoname2audio_features),videoname2audio_features['00001'].shape)"
   ]
  },
  {
   "cell_type": "code",
   "execution_count": null,
   "metadata": {},
   "outputs": [],
   "source": [
    "import wave, struct\n",
    "from fnmatch import fnmatch\n",
    "for filename in tqdm(os.listdir(TEST_VIDEO_DIR)):\n",
    "    #print(filename)\n",
    "    video_path=os.path.join(TEST_VIDEO_DIR,filename)\n",
    "    fn=os.path.splitext(filename)[0]\n",
    "    waveFile = os.path.join(TEST_AUDIO_DIR, fn+'.wav')\n",
    "    command = \"ffmpeg -i \"+video_path+\" -ac 1 -ar 16000 -vn \"+waveFile\n",
    "    #print(command)\n",
    "    os.system(command=command)"
   ]
  },
  {
   "cell_type": "code",
   "execution_count": 14,
   "metadata": {},
   "outputs": [
    {
     "name": "stderr",
     "output_type": "stream",
     "text": [
      "100%|██████████| 4586/4586 [00:00<00:00, 352426.36it/s]\n"
     ]
    }
   ],
   "source": [
    "videoname2audio_features_test={}\n",
    "for filename in tqdm(sorted(os.listdir(TEST_AUDIO_DIR))):\n",
    "    videoname,_=os.path.splitext(filename)\n",
    "    if videoname in videoname2audio_features_test:\n",
    "        continue\n",
    "    array, fs = torchaudio.load(os.path.join(TEST_AUDIO_DIR,filename))\n",
    "    inp = processor(array.squeeze(), sampling_rate=fs, return_tensors=\"pt\")\n",
    "    with torch.no_grad():\n",
    "        outputs = model(**inp)\n",
    "    videoname2audio_features_test[videoname]=outputs.last_hidden_state.numpy()[0]\n",
    "    #print(videoname,videoname2audio_features_test[videoname].shape)"
   ]
  },
  {
   "cell_type": "code",
   "execution_count": 10,
   "metadata": {},
   "outputs": [
    {
     "name": "stdout",
     "output_type": "stream",
     "text": [
      "4586 (305, 1024)\n"
     ]
    }
   ],
   "source": [
    "#MODEL2AUDIOFEATURES='emi_test_wav2vec2.pickle'\n",
    "MODEL2AUDIOFEATURES='emi_test_hubert.pickle'\n",
    "\n",
    "if False:\n",
    "    with open(MODEL2AUDIOFEATURES, 'wb') as handle:\n",
    "        pickle.dump(videoname2audio_features_test, handle, protocol=pickle.HIGHEST_PROTOCOL)\n",
    "else:\n",
    "    with open(MODEL2AUDIOFEATURES, 'rb') as handle:\n",
    "        videoname2audio_features_test=pickle.load(handle)\n",
    "print(len(videoname2audio_features_test),videoname2audio_features_test['12660'].shape)"
   ]
  },
  {
   "cell_type": "markdown",
   "metadata": {},
   "source": [
    "### Speech2text "
   ]
  },
  {
   "cell_type": "code",
   "execution_count": 15,
   "metadata": {},
   "outputs": [],
   "source": [
    "import whisper\n",
    "\n",
    "model = whisper.load_model(\"small.en\")"
   ]
  },
  {
   "cell_type": "code",
   "execution_count": 7,
   "metadata": {},
   "outputs": [
    {
     "name": "stdout",
     "output_type": "stream",
     "text": [
      "{'text': \" My whole family, you know, it's my team. I'm a huge Patriots fan, so.\", 'segments': [{'id': 0, 'seek': 0, 'start': 0.0, 'end': 3.2, 'text': \" My whole family, you know, it's my team.\", 'tokens': [50363, 2011, 2187, 1641, 11, 345, 760, 11, 340, 338, 616, 1074, 13, 50523], 'temperature': 0.0, 'avg_logprob': -0.399750306056096, 'compression_ratio': 0.9324324324324325, 'no_speech_prob': 0.052879199385643005}, {'id': 1, 'seek': 0, 'start': 3.2, 'end': 5.6000000000000005, 'text': \" I'm a huge Patriots fan, so.\", 'tokens': [50523, 314, 1101, 257, 3236, 13104, 4336, 11, 523, 13, 50643], 'temperature': 0.0, 'avg_logprob': -0.399750306056096, 'compression_ratio': 0.9324324324324325, 'no_speech_prob': 0.052879199385643005}], 'language': 'en'}  My whole family, you know, it's my team. I'm a huge Patriots fan, so.\n"
     ]
    }
   ],
   "source": [
    "result = model.transcribe(os.path.join(AUDIO_DIR,'00000.mp3'))\n",
    "print(result,result[\"text\"])"
   ]
  },
  {
   "cell_type": "code",
   "execution_count": 81,
   "metadata": {},
   "outputs": [
    {
     "name": "stderr",
     "output_type": "stream",
     "text": [
      "  0%|          | 0/12660 [00:00<?, ?it/s]\n"
     ]
    },
    {
     "ename": "NameError",
     "evalue": "name 'model' is not defined",
     "output_type": "error",
     "traceback": [
      "\u001b[0;31m---------------------------------------------------------------------------\u001b[0m",
      "\u001b[0;31mNameError\u001b[0m                                 Traceback (most recent call last)",
      "\u001b[0;32m<ipython-input-81-30ca797051a4>\u001b[0m in \u001b[0;36m<module>\u001b[0;34m\u001b[0m\n\u001b[1;32m      3\u001b[0m     \u001b[0mvideoname\u001b[0m\u001b[0;34m,\u001b[0m\u001b[0m_\u001b[0m\u001b[0;34m=\u001b[0m\u001b[0mos\u001b[0m\u001b[0;34m.\u001b[0m\u001b[0mpath\u001b[0m\u001b[0;34m.\u001b[0m\u001b[0msplitext\u001b[0m\u001b[0;34m(\u001b[0m\u001b[0mfilename\u001b[0m\u001b[0;34m)\u001b[0m\u001b[0;34m\u001b[0m\u001b[0;34m\u001b[0m\u001b[0m\n\u001b[1;32m      4\u001b[0m     \u001b[0;31m#print(videoname)\u001b[0m\u001b[0;34m\u001b[0m\u001b[0;34m\u001b[0m\u001b[0;34m\u001b[0m\u001b[0m\n\u001b[0;32m----> 5\u001b[0;31m     \u001b[0mresult\u001b[0m \u001b[0;34m=\u001b[0m \u001b[0mmodel\u001b[0m\u001b[0;34m.\u001b[0m\u001b[0mtranscribe\u001b[0m\u001b[0;34m(\u001b[0m\u001b[0mos\u001b[0m\u001b[0;34m.\u001b[0m\u001b[0mpath\u001b[0m\u001b[0;34m.\u001b[0m\u001b[0mjoin\u001b[0m\u001b[0;34m(\u001b[0m\u001b[0mAUDIO_DIR\u001b[0m\u001b[0;34m,\u001b[0m\u001b[0mfilename\u001b[0m\u001b[0;34m)\u001b[0m\u001b[0;34m)\u001b[0m\u001b[0;34m\u001b[0m\u001b[0;34m\u001b[0m\u001b[0m\n\u001b[0m\u001b[1;32m      6\u001b[0m     \u001b[0mvideoname2text\u001b[0m\u001b[0;34m[\u001b[0m\u001b[0mvideoname\u001b[0m\u001b[0;34m]\u001b[0m\u001b[0;34m=\u001b[0m\u001b[0mresult\u001b[0m\u001b[0;34m[\u001b[0m\u001b[0;34m\"text\"\u001b[0m\u001b[0;34m]\u001b[0m\u001b[0;34m\u001b[0m\u001b[0;34m\u001b[0m\u001b[0m\n\u001b[1;32m      7\u001b[0m     \u001b[0;32mif\u001b[0m \u001b[0mvideoname2text\u001b[0m\u001b[0;34m[\u001b[0m\u001b[0mvideoname\u001b[0m\u001b[0;34m]\u001b[0m\u001b[0;34m==\u001b[0m\u001b[0;34m''\u001b[0m\u001b[0;34m:\u001b[0m\u001b[0;34m\u001b[0m\u001b[0;34m\u001b[0m\u001b[0m\n",
      "\u001b[0;31mNameError\u001b[0m: name 'model' is not defined"
     ]
    }
   ],
   "source": [
    "videoname2text={}\n",
    "for filename in tqdm(sorted(os.listdir(AUDIO_DIR))):\n",
    "    videoname,_=os.path.splitext(filename)\n",
    "    #print(videoname)\n",
    "    result = model.transcribe(os.path.join(AUDIO_DIR,filename))\n",
    "    videoname2text[videoname]=result[\"text\"]\n",
    "    if videoname2text[videoname]=='':\n",
    "        print(filename)\n",
    "    #print(videoname2features[videoname].shape)"
   ]
  },
  {
   "cell_type": "code",
   "execution_count": 11,
   "metadata": {},
   "outputs": [
    {
     "name": "stdout",
     "output_type": "stream",
     "text": [
      "12660  See what he decides to do. If he decides to not make the weight or make the weight, see what happens.\n"
     ]
    }
   ],
   "source": [
    "AUDIO2TEXTS='emi_whisper.pickle'\n",
    "\n",
    "if False:\n",
    "    with open(AUDIO2TEXTS, 'wb') as handle:\n",
    "        pickle.dump(videoname2text, handle, protocol=pickle.HIGHEST_PROTOCOL)\n",
    "else:\n",
    "    with open(AUDIO2TEXTS, 'rb') as handle:\n",
    "        videoname2text=pickle.load(handle)\n",
    "print(len(videoname2text),videoname2text['12659'])"
   ]
  },
  {
   "cell_type": "code",
   "execution_count": 49,
   "metadata": {},
   "outputs": [
    {
     "name": "stdout",
     "output_type": "stream",
     "text": [
      "12660  I'm never going to be taking it on.\n"
     ]
    }
   ],
   "source": [
    "print(len(videoname2text),videoname2text['00001'])"
   ]
  },
  {
   "cell_type": "markdown",
   "metadata": {},
   "source": [
    "---------------"
   ]
  },
  {
   "cell_type": "code",
   "execution_count": 17,
   "metadata": {},
   "outputs": [
    {
     "name": "stderr",
     "output_type": "stream",
     "text": [
      "  0%|          | 13/4586 [00:07<40:11,  1.90it/s]"
     ]
    },
    {
     "name": "stdout",
     "output_type": "stream",
     "text": [
      "12672.wav\n"
     ]
    },
    {
     "name": "stderr",
     "output_type": "stream",
     "text": [
      "  2%|▏         | 76/4586 [00:42<38:07,  1.97it/s]"
     ]
    },
    {
     "name": "stdout",
     "output_type": "stream",
     "text": [
      "12735.wav\n"
     ]
    },
    {
     "name": "stderr",
     "output_type": "stream",
     "text": [
      "  4%|▎         | 167/4586 [01:36<39:25,  1.87it/s]"
     ]
    },
    {
     "name": "stdout",
     "output_type": "stream",
     "text": [
      "12826.wav\n"
     ]
    },
    {
     "name": "stderr",
     "output_type": "stream",
     "text": [
      "  8%|▊         | 376/4586 [03:37<35:37,  1.97it/s]"
     ]
    },
    {
     "name": "stdout",
     "output_type": "stream",
     "text": [
      "13035.wav\n"
     ]
    },
    {
     "name": "stderr",
     "output_type": "stream",
     "text": [
      " 15%|█▌        | 691/4586 [06:39<35:26,  1.83it/s]"
     ]
    },
    {
     "name": "stdout",
     "output_type": "stream",
     "text": [
      "13350.wav\n"
     ]
    },
    {
     "name": "stderr",
     "output_type": "stream",
     "text": [
      " 18%|█▊        | 807/4586 [07:47<34:33,  1.82it/s]"
     ]
    },
    {
     "name": "stdout",
     "output_type": "stream",
     "text": [
      "13466.wav\n"
     ]
    },
    {
     "name": "stderr",
     "output_type": "stream",
     "text": [
      " 19%|█▉        | 861/4586 [08:19<33:31,  1.85it/s]"
     ]
    },
    {
     "name": "stdout",
     "output_type": "stream",
     "text": [
      "13520.wav\n"
     ]
    },
    {
     "name": "stderr",
     "output_type": "stream",
     "text": [
      " 21%|██        | 970/4586 [09:25<30:31,  1.97it/s]  "
     ]
    },
    {
     "name": "stdout",
     "output_type": "stream",
     "text": [
      "13629.wav\n"
     ]
    },
    {
     "name": "stderr",
     "output_type": "stream",
     "text": [
      " 23%|██▎       | 1040/4586 [10:10<31:53,  1.85it/s] "
     ]
    },
    {
     "name": "stdout",
     "output_type": "stream",
     "text": [
      "13699.wav\n"
     ]
    },
    {
     "name": "stderr",
     "output_type": "stream",
     "text": [
      " 24%|██▍       | 1100/4586 [10:46<32:27,  1.79it/s]"
     ]
    },
    {
     "name": "stdout",
     "output_type": "stream",
     "text": [
      "13759.wav\n"
     ]
    },
    {
     "name": "stderr",
     "output_type": "stream",
     "text": [
      " 25%|██▍       | 1134/4586 [11:06<32:48,  1.75it/s]"
     ]
    },
    {
     "name": "stdout",
     "output_type": "stream",
     "text": [
      "13793.wav\n"
     ]
    },
    {
     "name": "stderr",
     "output_type": "stream",
     "text": [
      " 25%|██▌       | 1150/4586 [11:15<31:02,  1.84it/s]"
     ]
    },
    {
     "name": "stdout",
     "output_type": "stream",
     "text": [
      "13809.wav\n"
     ]
    },
    {
     "name": "stderr",
     "output_type": "stream",
     "text": [
      " 26%|██▌       | 1191/4586 [11:38<28:31,  1.98it/s]"
     ]
    },
    {
     "name": "stdout",
     "output_type": "stream",
     "text": [
      "13850.wav\n"
     ]
    },
    {
     "name": "stderr",
     "output_type": "stream",
     "text": [
      " 26%|██▌       | 1193/4586 [11:40<28:33,  1.98it/s]"
     ]
    },
    {
     "name": "stdout",
     "output_type": "stream",
     "text": [
      "13852.wav\n"
     ]
    },
    {
     "name": "stderr",
     "output_type": "stream",
     "text": [
      " 29%|██▉       | 1347/4586 [13:11<26:14,  2.06it/s]"
     ]
    },
    {
     "name": "stdout",
     "output_type": "stream",
     "text": [
      "14006.wav\n"
     ]
    },
    {
     "name": "stderr",
     "output_type": "stream",
     "text": [
      " 31%|███▏      | 1437/4586 [14:02<26:46,  1.96it/s]"
     ]
    },
    {
     "name": "stdout",
     "output_type": "stream",
     "text": [
      "14096.wav\n"
     ]
    },
    {
     "name": "stderr",
     "output_type": "stream",
     "text": [
      " 33%|███▎      | 1524/4586 [15:02<27:18,  1.87it/s]  "
     ]
    },
    {
     "name": "stdout",
     "output_type": "stream",
     "text": [
      "14183.wav\n"
     ]
    },
    {
     "name": "stderr",
     "output_type": "stream",
     "text": [
      " 37%|███▋      | 1688/4586 [16:39<27:26,  1.76it/s]"
     ]
    },
    {
     "name": "stdout",
     "output_type": "stream",
     "text": [
      "14347.wav\n"
     ]
    },
    {
     "name": "stderr",
     "output_type": "stream",
     "text": [
      " 37%|███▋      | 1713/4586 [16:53<24:40,  1.94it/s]"
     ]
    },
    {
     "name": "stdout",
     "output_type": "stream",
     "text": [
      "14372.wav\n"
     ]
    },
    {
     "name": "stderr",
     "output_type": "stream",
     "text": [
      " 40%|███▉      | 1834/4586 [18:07<22:44,  2.02it/s]  "
     ]
    },
    {
     "name": "stdout",
     "output_type": "stream",
     "text": [
      "14493.wav\n"
     ]
    },
    {
     "name": "stderr",
     "output_type": "stream",
     "text": [
      " 42%|████▏     | 1920/4586 [19:02<23:44,  1.87it/s]  "
     ]
    },
    {
     "name": "stdout",
     "output_type": "stream",
     "text": [
      "14579.wav\n"
     ]
    },
    {
     "name": "stderr",
     "output_type": "stream",
     "text": [
      " 43%|████▎     | 1950/4586 [19:20<25:29,  1.72it/s]"
     ]
    },
    {
     "name": "stdout",
     "output_type": "stream",
     "text": [
      "14609.wav\n"
     ]
    },
    {
     "name": "stderr",
     "output_type": "stream",
     "text": [
      " 43%|████▎     | 1972/4586 [19:32<22:55,  1.90it/s]"
     ]
    },
    {
     "name": "stdout",
     "output_type": "stream",
     "text": [
      "14631.wav\n"
     ]
    },
    {
     "name": "stderr",
     "output_type": "stream",
     "text": [
      " 43%|████▎     | 1993/4586 [19:44<21:27,  2.01it/s]"
     ]
    },
    {
     "name": "stdout",
     "output_type": "stream",
     "text": [
      "14652.wav\n"
     ]
    },
    {
     "name": "stderr",
     "output_type": "stream",
     "text": [
      " 47%|████▋     | 2153/4586 [21:19<20:11,  2.01it/s]"
     ]
    },
    {
     "name": "stdout",
     "output_type": "stream",
     "text": [
      "14812.wav\n"
     ]
    },
    {
     "name": "stderr",
     "output_type": "stream",
     "text": [
      " 48%|████▊     | 2181/4586 [21:36<21:32,  1.86it/s]"
     ]
    },
    {
     "name": "stdout",
     "output_type": "stream",
     "text": [
      "14840.wav\n"
     ]
    },
    {
     "name": "stderr",
     "output_type": "stream",
     "text": [
      " 48%|████▊     | 2194/4586 [21:44<20:44,  1.92it/s]"
     ]
    },
    {
     "name": "stdout",
     "output_type": "stream",
     "text": [
      "14853.wav\n"
     ]
    },
    {
     "name": "stderr",
     "output_type": "stream",
     "text": [
      " 50%|████▉     | 2271/4586 [22:34<21:07,  1.83it/s]  "
     ]
    },
    {
     "name": "stdout",
     "output_type": "stream",
     "text": [
      "14930.wav\n"
     ]
    },
    {
     "name": "stderr",
     "output_type": "stream",
     "text": [
      " 50%|████▉     | 2282/4586 [22:41<20:00,  1.92it/s]"
     ]
    },
    {
     "name": "stdout",
     "output_type": "stream",
     "text": [
      "14941.wav\n"
     ]
    },
    {
     "name": "stderr",
     "output_type": "stream",
     "text": [
      " 50%|█████     | 2300/4586 [22:51<19:20,  1.97it/s]"
     ]
    },
    {
     "name": "stdout",
     "output_type": "stream",
     "text": [
      "14959.wav\n"
     ]
    },
    {
     "name": "stderr",
     "output_type": "stream",
     "text": [
      " 51%|█████     | 2334/4586 [23:10<18:57,  1.98it/s]"
     ]
    },
    {
     "name": "stdout",
     "output_type": "stream",
     "text": [
      "14993.wav\n"
     ]
    },
    {
     "name": "stderr",
     "output_type": "stream",
     "text": [
      " 54%|█████▍    | 2491/4586 [24:46<18:22,  1.90it/s]"
     ]
    },
    {
     "name": "stdout",
     "output_type": "stream",
     "text": [
      "15150.wav\n"
     ]
    },
    {
     "name": "stderr",
     "output_type": "stream",
     "text": [
      " 55%|█████▍    | 2503/4586 [24:57<25:18,  1.37it/s]"
     ]
    },
    {
     "name": "stdout",
     "output_type": "stream",
     "text": [
      "15162.wav\n"
     ]
    },
    {
     "name": "stderr",
     "output_type": "stream",
     "text": [
      " 56%|█████▌    | 2548/4586 [25:23<15:58,  2.13it/s]"
     ]
    },
    {
     "name": "stdout",
     "output_type": "stream",
     "text": [
      "15207.wav\n"
     ]
    },
    {
     "name": "stderr",
     "output_type": "stream",
     "text": [
      " 59%|█████▉    | 2707/4586 [26:55<15:31,  2.02it/s]"
     ]
    },
    {
     "name": "stdout",
     "output_type": "stream",
     "text": [
      "15366.wav\n"
     ]
    },
    {
     "name": "stderr",
     "output_type": "stream",
     "text": [
      " 61%|██████    | 2785/4586 [27:43<15:04,  1.99it/s]"
     ]
    },
    {
     "name": "stdout",
     "output_type": "stream",
     "text": [
      "15444.wav\n"
     ]
    },
    {
     "name": "stderr",
     "output_type": "stream",
     "text": [
      "\r",
      " 61%|██████    | 2786/4586 [27:43<14:11,  2.11it/s]"
     ]
    },
    {
     "name": "stdout",
     "output_type": "stream",
     "text": [
      "15445.wav\n"
     ]
    },
    {
     "name": "stderr",
     "output_type": "stream",
     "text": [
      "\r",
      " 61%|██████    | 2787/4586 [27:43<13:27,  2.23it/s]"
     ]
    },
    {
     "name": "stdout",
     "output_type": "stream",
     "text": [
      "15446.wav\n"
     ]
    },
    {
     "name": "stderr",
     "output_type": "stream",
     "text": [
      " 62%|██████▏   | 2842/4586 [28:16<14:36,  1.99it/s]"
     ]
    },
    {
     "name": "stdout",
     "output_type": "stream",
     "text": [
      "15501.wav\n"
     ]
    },
    {
     "name": "stderr",
     "output_type": "stream",
     "text": [
      " 62%|██████▏   | 2857/4586 [28:24<14:28,  1.99it/s]"
     ]
    },
    {
     "name": "stdout",
     "output_type": "stream",
     "text": [
      "15516.wav\n"
     ]
    },
    {
     "name": "stderr",
     "output_type": "stream",
     "text": [
      " 63%|██████▎   | 2878/4586 [28:35<13:44,  2.07it/s]"
     ]
    },
    {
     "name": "stdout",
     "output_type": "stream",
     "text": [
      "15537.wav\n"
     ]
    },
    {
     "name": "stderr",
     "output_type": "stream",
     "text": [
      " 63%|██████▎   | 2883/4586 [28:37<13:30,  2.10it/s]"
     ]
    },
    {
     "name": "stdout",
     "output_type": "stream",
     "text": [
      "15542.wav\n"
     ]
    },
    {
     "name": "stderr",
     "output_type": "stream",
     "text": [
      " 65%|██████▌   | 2995/4586 [29:43<13:39,  1.94it/s]"
     ]
    },
    {
     "name": "stdout",
     "output_type": "stream",
     "text": [
      "15654.wav\n"
     ]
    },
    {
     "name": "stderr",
     "output_type": "stream",
     "text": [
      " 71%|███████   | 3267/4586 [32:17<10:59,  2.00it/s]"
     ]
    },
    {
     "name": "stdout",
     "output_type": "stream",
     "text": [
      "15926.wav\n"
     ]
    },
    {
     "name": "stderr",
     "output_type": "stream",
     "text": [
      " 74%|███████▍  | 3406/4586 [33:41<09:59,  1.97it/s]"
     ]
    },
    {
     "name": "stdout",
     "output_type": "stream",
     "text": [
      "16065.wav\n"
     ]
    },
    {
     "name": "stderr",
     "output_type": "stream",
     "text": [
      " 75%|███████▍  | 3423/4586 [33:50<09:12,  2.10it/s]"
     ]
    },
    {
     "name": "stdout",
     "output_type": "stream",
     "text": [
      "16082.wav\n"
     ]
    },
    {
     "name": "stderr",
     "output_type": "stream",
     "text": [
      " 76%|███████▋  | 3506/4586 [34:38<09:46,  1.84it/s]"
     ]
    },
    {
     "name": "stdout",
     "output_type": "stream",
     "text": [
      "16165.wav\n"
     ]
    },
    {
     "name": "stderr",
     "output_type": "stream",
     "text": [
      " 77%|███████▋  | 3533/4586 [34:53<09:30,  1.84it/s]"
     ]
    },
    {
     "name": "stdout",
     "output_type": "stream",
     "text": [
      "16192.wav\n"
     ]
    },
    {
     "name": "stderr",
     "output_type": "stream",
     "text": [
      " 78%|███████▊  | 3593/4586 [35:27<08:36,  1.92it/s]"
     ]
    },
    {
     "name": "stdout",
     "output_type": "stream",
     "text": [
      "16252.wav\n"
     ]
    },
    {
     "name": "stderr",
     "output_type": "stream",
     "text": [
      " 79%|███████▉  | 3641/4586 [35:54<08:13,  1.92it/s]"
     ]
    },
    {
     "name": "stdout",
     "output_type": "stream",
     "text": [
      "16300.wav\n"
     ]
    },
    {
     "name": "stderr",
     "output_type": "stream",
     "text": [
      " 80%|███████▉  | 3667/4586 [36:10<07:43,  1.98it/s]"
     ]
    },
    {
     "name": "stdout",
     "output_type": "stream",
     "text": [
      "16326.wav\n"
     ]
    },
    {
     "name": "stderr",
     "output_type": "stream",
     "text": [
      " 81%|████████  | 3708/4586 [36:33<07:12,  2.03it/s]"
     ]
    },
    {
     "name": "stdout",
     "output_type": "stream",
     "text": [
      "16367.wav\n"
     ]
    },
    {
     "name": "stderr",
     "output_type": "stream",
     "text": [
      " 82%|████████▏ | 3780/4586 [37:16<07:13,  1.86it/s]"
     ]
    },
    {
     "name": "stdout",
     "output_type": "stream",
     "text": [
      "16439.wav\n"
     ]
    },
    {
     "name": "stderr",
     "output_type": "stream",
     "text": [
      " 82%|████████▏ | 3782/4586 [37:17<06:27,  2.07it/s]"
     ]
    },
    {
     "name": "stdout",
     "output_type": "stream",
     "text": [
      "16441.wav\n"
     ]
    },
    {
     "name": "stderr",
     "output_type": "stream",
     "text": [
      " 83%|████████▎ | 3789/4586 [37:20<06:47,  1.95it/s]"
     ]
    },
    {
     "name": "stdout",
     "output_type": "stream",
     "text": [
      "16448.wav\n"
     ]
    },
    {
     "name": "stderr",
     "output_type": "stream",
     "text": [
      " 84%|████████▎ | 3833/4586 [37:46<06:28,  1.94it/s]"
     ]
    },
    {
     "name": "stdout",
     "output_type": "stream",
     "text": [
      "16492.wav\n"
     ]
    },
    {
     "name": "stderr",
     "output_type": "stream",
     "text": [
      " 92%|█████████▏| 4206/4586 [41:23<03:07,  2.03it/s]"
     ]
    },
    {
     "name": "stdout",
     "output_type": "stream",
     "text": [
      "16865.wav\n"
     ]
    },
    {
     "name": "stderr",
     "output_type": "stream",
     "text": [
      " 93%|█████████▎| 4269/4586 [42:00<02:50,  1.86it/s]"
     ]
    },
    {
     "name": "stdout",
     "output_type": "stream",
     "text": [
      "16928.wav\n"
     ]
    },
    {
     "name": "stderr",
     "output_type": "stream",
     "text": [
      " 95%|█████████▍| 4351/4586 [42:48<01:57,  2.00it/s]"
     ]
    },
    {
     "name": "stdout",
     "output_type": "stream",
     "text": [
      "17010.wav\n"
     ]
    },
    {
     "name": "stderr",
     "output_type": "stream",
     "text": [
      " 96%|█████████▌| 4409/4586 [43:22<01:26,  2.04it/s]"
     ]
    },
    {
     "name": "stdout",
     "output_type": "stream",
     "text": [
      "17068.wav\n"
     ]
    },
    {
     "name": "stderr",
     "output_type": "stream",
     "text": [
      " 97%|█████████▋| 4462/4586 [43:54<01:04,  1.92it/s]"
     ]
    },
    {
     "name": "stdout",
     "output_type": "stream",
     "text": [
      "17121.wav\n"
     ]
    },
    {
     "name": "stderr",
     "output_type": "stream",
     "text": [
      " 98%|█████████▊| 4506/4586 [44:19<00:41,  1.91it/s]"
     ]
    },
    {
     "name": "stdout",
     "output_type": "stream",
     "text": [
      "17165.wav\n"
     ]
    },
    {
     "name": "stderr",
     "output_type": "stream",
     "text": [
      " 99%|█████████▊| 4524/4586 [44:29<00:34,  1.81it/s]"
     ]
    },
    {
     "name": "stdout",
     "output_type": "stream",
     "text": [
      "17183.wav\n"
     ]
    },
    {
     "name": "stderr",
     "output_type": "stream",
     "text": [
      " 99%|█████████▉| 4548/4586 [44:45<00:19,  1.99it/s]"
     ]
    },
    {
     "name": "stdout",
     "output_type": "stream",
     "text": [
      "17207.wav\n"
     ]
    },
    {
     "name": "stderr",
     "output_type": "stream",
     "text": [
      "100%|██████████| 4586/4586 [45:07<00:00,  1.69it/s]\n"
     ]
    }
   ],
   "source": [
    "videoname2text_test={}\n",
    "for filename in tqdm(sorted(os.listdir(TEST_AUDIO_DIR))):\n",
    "    videoname,_=os.path.splitext(filename)\n",
    "    #print(videoname)\n",
    "    result = model.transcribe(os.path.join(TEST_AUDIO_DIR,filename))\n",
    "    videoname2text_test[videoname]=result[\"text\"]\n",
    "    if videoname2text_test[videoname]=='':\n",
    "        print(filename)\n",
    "    #print(videoname2text_test[videoname].shape)"
   ]
  },
  {
   "cell_type": "code",
   "execution_count": 12,
   "metadata": {},
   "outputs": [
    {
     "name": "stdout",
     "output_type": "stream",
     "text": [
      "4586  The best part of the day was to watch her up there. She came back to give me a hug and I...\n"
     ]
    }
   ],
   "source": [
    "AUDIO2TEXTS_TEST='test_emi_whisper.pickle'\n",
    "\n",
    "if False:\n",
    "    with open(AUDIO2TEXTS_TEST, 'wb') as handle:\n",
    "        pickle.dump(videoname2text_test, handle, protocol=pickle.HIGHEST_PROTOCOL)\n",
    "else:\n",
    "    with open(AUDIO2TEXTS_TEST, 'rb') as handle:\n",
    "        videoname2text_test=pickle.load(handle)\n",
    "print(len(videoname2text_test),videoname2text_test['12660'])"
   ]
  },
  {
   "cell_type": "markdown",
   "metadata": {},
   "source": [
    "#### Feature extraction "
   ]
  },
  {
   "cell_type": "code",
   "execution_count": 14,
   "metadata": {},
   "outputs": [
    {
     "name": "stderr",
     "output_type": "stream",
     "text": [
      "Some weights of RobertaModel were not initialized from the model checkpoint at SamLowe/roberta-base-go_emotions and are newly initialized: ['roberta.pooler.dense.bias', 'roberta.pooler.dense.weight']\n",
      "You should probably TRAIN this model on a down-stream task to be able to use it for predictions and inference.\n"
     ]
    }
   ],
   "source": [
    "from transformers import pipeline\n",
    "model_path=\"SamLowe/roberta-base-go_emotions\"\n",
    "classifier = pipeline(task=\"feature-extraction\", model=model_path, tokenizer=model_path, max_length=512, truncation=True)\n"
   ]
  },
  {
   "cell_type": "code",
   "execution_count": 83,
   "metadata": {},
   "outputs": [
    {
     "name": "stdout",
     "output_type": "stream",
     "text": [
      "[tensor([[[-0.6626, -0.0111, -0.6688,  ..., -0.1648, -0.2732, -0.4058],\n",
      "         [-0.7530,  0.2160, -0.8748,  ...,  0.0453, -0.3357, -0.7738],\n",
      "         [-0.7656,  0.0517, -0.7858,  ..., -0.0673, -0.3087, -0.5945],\n",
      "         ...,\n",
      "         [-0.5023,  0.0359, -0.7933,  ..., -0.2363, -0.3283, -0.5064],\n",
      "         [-0.6735,  0.1548, -0.5454,  ..., -0.1347, -0.1967, -0.7317],\n",
      "         [-0.7442,  0.0533, -0.7956,  ..., -0.0215, -0.3060, -0.4393]]]), tensor([[[-0.5198,  0.9053, -0.1771,  ..., -0.0179, -0.2662, -0.5434],\n",
      "         [-0.5071,  0.9350, -0.1965,  ...,  0.1282, -0.2558, -0.6599],\n",
      "         [-0.6546,  1.1305, -0.2201,  ..., -0.0175, -0.2161, -0.5269],\n",
      "         ...,\n",
      "         [-0.5976,  0.8133, -0.0179,  ..., -0.1762, -0.3943, -0.3269],\n",
      "         [-0.4429,  0.7702, -0.2875,  ...,  0.3837, -0.3819, -0.6284],\n",
      "         [-0.4844,  0.8901, -0.2096,  ...,  0.1222, -0.3600, -0.4821]]])]\n"
     ]
    }
   ],
   "source": [
    "sentences = [videoname2text['00000'],videoname2text['00001']]\n",
    "\n",
    "output=classifier(sentences, return_tensors=\"pt\")\n",
    "print(output)"
   ]
  },
  {
   "cell_type": "code",
   "execution_count": 84,
   "metadata": {},
   "outputs": [
    {
     "name": "stderr",
     "output_type": "stream",
     "text": [
      "100%|██████████| 12660/12660 [04:11<00:00, 50.36it/s]\n"
     ]
    }
   ],
   "source": [
    "text_embeddings_list=[]\n",
    "sentences=[]\n",
    "for videoname in tqdm(videoname2text):\n",
    "    sentences.append(videoname2text[videoname])\n",
    "    if len(sentences)>32:\n",
    "        outputs=classifier(sentences, return_tensors=\"pt\")\n",
    "        for output in outputs:\n",
    "            text_embeddings_list.append(output[0].numpy())\n",
    "        sentences=[]\n",
    "        #break\n",
    "if len(sentences)>0:\n",
    "    outputs=classifier(sentences, return_tensors=\"pt\")\n",
    "    for output in outputs:\n",
    "        text_embeddings_list.append(output[0].numpy())\n",
    "    sentences=[]"
   ]
  },
  {
   "cell_type": "code",
   "execution_count": 54,
   "metadata": {},
   "outputs": [
    {
     "name": "stderr",
     "output_type": "stream",
     "text": [
      "No sentence-transformers model found with name SamLowe/roberta-base-go_emotions. Creating a new one with mean pooling.\n",
      "Some weights of RobertaModel were not initialized from the model checkpoint at SamLowe/roberta-base-go_emotions and are newly initialized: ['roberta.pooler.dense.bias', 'roberta.pooler.dense.weight']\n",
      "You should probably TRAIN this model on a down-stream task to be able to use it for predictions and inference.\n"
     ]
    }
   ],
   "source": [
    "from sentence_transformers import SentenceTransformer\n",
    "#model_name='distilroberta-base'\n",
    "#model_name='all-MiniLM-L6-v1'\n",
    "model_name='intfloat/e5-base-v2'\n",
    "model_st = SentenceTransformer(model_name)"
   ]
  },
  {
   "cell_type": "code",
   "execution_count": 44,
   "metadata": {},
   "outputs": [
    {
     "name": "stderr",
     "output_type": "stream",
     "text": [
      "100%|██████████| 12660/12660 [00:19<00:00, 661.53it/s]\n"
     ]
    }
   ],
   "source": [
    "text_embeddings_list=[]\n",
    "sentences=[]\n",
    "for videoname in tqdm(videoname2text):\n",
    "    sentences.append(videoname2text[videoname])\n",
    "    if len(sentences)>32:\n",
    "        outputs=model_st.encode(sentences)\n",
    "        for output in outputs:\n",
    "            text_embeddings_list.append(output)\n",
    "        sentences=[]\n",
    "        #break\n",
    "if len(sentences)>0:\n",
    "    outputs=model_st.encode(sentences)\n",
    "    for output in outputs:\n",
    "        text_embeddings_list.append(output)\n",
    "    sentences=[]\n",
    "#print(text_embeddings_list[0].shape,text_embeddings_list[1].shape)"
   ]
  },
  {
   "cell_type": "code",
   "execution_count": 85,
   "metadata": {},
   "outputs": [],
   "source": [
    "#text_embeddings_list[2].shape\n",
    "text_embeddings={}\n",
    "for i,videoname in enumerate(videoname2text):\n",
    "    text_embeddings[videoname]=text_embeddings_list[i]"
   ]
  },
  {
   "cell_type": "code",
   "execution_count": 140,
   "metadata": {},
   "outputs": [
    {
     "name": "stdout",
     "output_type": "stream",
     "text": [
      "12660 (1536,)\n"
     ]
    }
   ],
   "source": [
    "#AUDIO2TEXT_EMBEDDINGS='emi_whisper_roberta-base-go_emotions.pickle'\n",
    "#AUDIO2TEXT_EMBEDDINGS='emi_whisper_distilroberta.pickle'\n",
    "#AUDIO2TEXT_EMBEDDINGS='emi_whisper_e5.pickle'\n",
    "AUDIO2TEXT_EMBEDDINGS='emi_whisper_openai_small.pickle'\n",
    "#AUDIO2TEXT_EMBEDDINGS='emi_whisper_gigachat.pickle'\n",
    "\n",
    "if False:\n",
    "    with open(AUDIO2TEXT_EMBEDDINGS, 'wb') as handle:\n",
    "        pickle.dump(text_embeddings, handle, protocol=pickle.HIGHEST_PROTOCOL)\n",
    "else:\n",
    "    with open(AUDIO2TEXT_EMBEDDINGS, 'rb') as handle:\n",
    "        text_embeddings=pickle.load(handle)\n",
    "print(len(text_embeddings),text_embeddings['12659'].shape)"
   ]
  },
  {
   "cell_type": "code",
   "execution_count": 141,
   "metadata": {},
   "outputs": [],
   "source": [
    "videoname2text_features={}\n",
    "for videoname in text_embeddings:\n",
    "    embs_all=text_embeddings[videoname]\n",
    "    #videoname2text_features[videoname]=embs_all[:1]\n",
    "    if len(embs_all.shape)>1:\n",
    "        videoname2text_features[videoname]=embs_all\n",
    "    else:\n",
    "        videoname2text_features[videoname]=np.reshape(embs_all,(1,-1))"
   ]
  },
  {
   "cell_type": "markdown",
   "metadata": {},
   "source": [
    "-----"
   ]
  },
  {
   "cell_type": "code",
   "execution_count": 17,
   "metadata": {},
   "outputs": [
    {
     "name": "stderr",
     "output_type": "stream",
     "text": [
      "100%|██████████| 4586/4586 [01:29<00:00, 51.08it/s]\n"
     ]
    }
   ],
   "source": [
    "text_embeddings_test_list=[]\n",
    "sentences=[]\n",
    "for videoname in tqdm(videoname2text_test):\n",
    "    sentences.append(videoname2text_test[videoname])\n",
    "    if len(sentences)>32:\n",
    "        outputs=classifier(sentences, return_tensors=\"pt\")\n",
    "        for output in outputs:\n",
    "            text_embeddings_test_list.append(output[0].numpy())\n",
    "        sentences=[]\n",
    "        #break\n",
    "if len(sentences)>0:\n",
    "    outputs=classifier(sentences, return_tensors=\"pt\")\n",
    "    for output in outputs:\n",
    "        text_embeddings_test_list.append(output[0].numpy())\n",
    "    sentences=[]\n",
    "    \n",
    "text_embeddings_test={}\n",
    "for i,videoname in enumerate(videoname2text_test):\n",
    "    text_embeddings_test[videoname]=text_embeddings_test_list[i]"
   ]
  },
  {
   "cell_type": "code",
   "execution_count": 142,
   "metadata": {},
   "outputs": [
    {
     "name": "stdout",
     "output_type": "stream",
     "text": [
      "4586 (1536,)\n"
     ]
    }
   ],
   "source": [
    "#AUDIO2TEXT_EMBEDDINGS_TEST='test_emi_whisper_roberta-base-go_emotions.pickle'\n",
    "AUDIO2TEXT_EMBEDDINGS_TEST='test_emi_whisper_openai_small.pickle'\n",
    "#AUDIO2TEXT_EMBEDDINGS_TEST='test_emi_whisper_gigachat.pickle'\n",
    "\n",
    "if False:\n",
    "    with open(AUDIO2TEXT_EMBEDDINGS_TEST, 'wb') as handle:\n",
    "        pickle.dump(text_embeddings_test, handle, protocol=pickle.HIGHEST_PROTOCOL)\n",
    "else:\n",
    "    with open(AUDIO2TEXT_EMBEDDINGS_TEST, 'rb') as handle:\n",
    "        text_embeddings_test=pickle.load(handle)\n",
    "print(len(text_embeddings_test),text_embeddings_test['12660'].shape)"
   ]
  },
  {
   "cell_type": "code",
   "execution_count": 143,
   "metadata": {},
   "outputs": [],
   "source": [
    "videoname2text_features_test={}\n",
    "for videoname in text_embeddings_test:\n",
    "    embs_all=text_embeddings_test[videoname]\n",
    "    #videoname2text_features_test[videoname]=embs_all[:1]\n",
    "    if len(embs_all.shape)>1:\n",
    "        videoname2text_features_test[videoname]=embs_all\n",
    "    else:\n",
    "        videoname2text_features_test[videoname]=np.reshape(embs_all,(1,-1))"
   ]
  },
  {
   "cell_type": "markdown",
   "metadata": {},
   "source": [
    "# Preprocess data"
   ]
  },
  {
   "cell_type": "code",
   "execution_count": 144,
   "metadata": {},
   "outputs": [
    {
     "name": "stdout",
     "output_type": "stream",
     "text": [
      "(8072, 1536) (8072, 6) 0\n",
      "(4588, 1536) (4588, 6) 0\n"
     ]
    }
   ],
   "source": [
    "def get_video2targets(videoname2features,filename,stat=False):\n",
    "    num_missed=0\n",
    "    X,y=[],[]\n",
    "    with open(os.path.join(DATA_DIR,filename)) as f:\n",
    "        lines = f.read().splitlines()\n",
    "        for i,line in enumerate(lines):\n",
    "            if i>0:\n",
    "                splitted_line=line.split(',')\n",
    "                videoname=splitted_line[0]\n",
    "                if videoname in videoname2features:\n",
    "                    features=videoname2features[videoname]\n",
    "\n",
    "                    mean_features=features.mean(axis=0)\n",
    "                    std_features=features.std(axis=0)\n",
    "                    min_features=features.min(axis=0)\n",
    "                    max_features=features.max(axis=0)\n",
    "                    \n",
    "                    if stat:\n",
    "                        aggregated_feature = np.concatenate((mean_features, std_features, min_features, max_features), axis=None)\n",
    "                    else:\n",
    "                        aggregated_feature=mean_features\n",
    "\n",
    "                    X.append(aggregated_feature)\n",
    "\n",
    "                    targets=[float(s) for s in splitted_line[1:]]\n",
    "                    y.append(targets)\n",
    "                else:\n",
    "                    num_missed+=1\n",
    "                    print('Missed:',videoname)\n",
    "        X=np.array(X)\n",
    "        y=np.array(y)\n",
    "        print(X.shape,y.shape,num_missed)\n",
    "        return X,y\n",
    "\n",
    "if False:\n",
    "    X_train,y_train=get_video2targets(videoname2scores,TRAIN_LABELS,True)\n",
    "    X_val,y_val=get_video2targets(videoname2scores,VAL_LABELS,True)\n",
    "elif False:\n",
    "    #Audio\n",
    "    X_train,y_train=get_video2targets(videoname2audio_features,TRAIN_LABELS)\n",
    "    X_val,y_val=get_video2targets(videoname2audio_features,VAL_LABELS)\n",
    "else:\n",
    "    #texts\n",
    "    X_train,y_train=get_video2targets(videoname2text_features,TRAIN_LABELS)\n",
    "    X_val,y_val=get_video2targets(videoname2text_features,VAL_LABELS)\n",
    "\n",
    "TRAIN_VAL=False"
   ]
  },
  {
   "cell_type": "code",
   "execution_count": 56,
   "metadata": {},
   "outputs": [
    {
     "name": "stdout",
     "output_type": "stream",
     "text": [
      "(8072, 2048) (8072, 6) 0\n",
      "(4588, 2048) (4588, 6) 0\n"
     ]
    }
   ],
   "source": [
    "def get_concat_features2targets(videoname2features,filename):\n",
    "    num_missed=0\n",
    "    X,y=[],[]\n",
    "    with open(os.path.join(DATA_DIR,filename)) as f:\n",
    "        lines = f.read().splitlines()\n",
    "        for i,line in enumerate(lines):\n",
    "            if i>0:\n",
    "                splitted_line=line.split(',')\n",
    "                videoname=splitted_line[0]\n",
    "                if videoname in videoname2features:\n",
    "                    features=videoname2features[videoname]\n",
    "                    mean_features=features.mean(axis=0)\n",
    "                    std_features=features.std(axis=0)\n",
    "                    min_features=features.min(axis=0)\n",
    "                    max_features=features.max(axis=0)\n",
    "                    \n",
    "                    visual_features = np.concatenate((mean_features, std_features, min_features, max_features), axis=None)\n",
    "                    #visual_features=mean_features\n",
    "                    \n",
    "                    audio_features=videoname2audio_features[videoname].mean(axis=0)\n",
    "                    text_features=videoname2text_features[videoname].mean(axis=0)\n",
    "                    #aggregated_feature = np.concatenate((visual_features,audio_features,text_features), axis=None)\n",
    "                    #aggregated_feature = np.concatenate((visual_features,text_features), axis=None)\n",
    "                    aggregated_feature = np.concatenate((audio_features,text_features), axis=None)\n",
    "\n",
    "                    X.append(aggregated_feature)\n",
    "\n",
    "                    targets=[float(s) for s in splitted_line[1:]]\n",
    "                    y.append(targets)\n",
    "                else:\n",
    "                    num_missed+=1\n",
    "                    print('Missed:',videoname)\n",
    "        X=np.array(X)\n",
    "        y=np.array(y)\n",
    "        print(X.shape,y.shape,num_missed)\n",
    "        return X,y\n",
    "    \n",
    "X_val,y_val=get_concat_features2targets(videoname2scores,TRAIN_LABELS)\n",
    "X_train,y_train=get_concat_features2targets(videoname2scores,VAL_LABELS)\n",
    "TRAIN_VAL=False"
   ]
  },
  {
   "cell_type": "code",
   "execution_count": 122,
   "metadata": {},
   "outputs": [
    {
     "name": "stdout",
     "output_type": "stream",
     "text": [
      "(12660, 1024) (12660, 6)\n"
     ]
    }
   ],
   "source": [
    "if True:\n",
    "    TRAIN_VAL=True\n",
    "    X_train=np.concatenate((X_train,X_val))\n",
    "    y_train=np.concatenate((y_train,y_val))\n",
    "    print(X_train.shape,y_train.shape)"
   ]
  },
  {
   "cell_type": "code",
   "execution_count": 18,
   "metadata": {},
   "outputs": [
    {
     "name": "stdout",
     "output_type": "stream",
     "text": [
      "['Admiration', 'Amusement', 'Determination', 'Empathic Pain', 'Excitement', 'Joy'] 6\n"
     ]
    }
   ],
   "source": [
    "classes=['Admiration','Amusement','Determination','Empathic Pain','Excitement','Joy']\n",
    "num_classes=len(classes)\n",
    "print(classes,num_classes)"
   ]
  },
  {
   "cell_type": "code",
   "execution_count": 22,
   "metadata": {},
   "outputs": [
    {
     "data": {
      "text/plain": [
       "<Figure size 216x216 with 0 Axes>"
      ]
     },
     "metadata": {},
     "output_type": "display_data"
    },
    {
     "data": {
      "image/png": "[encoded data removed]",
      "text/plain": [
       "<Figure size 432x288 with 2 Axes>"
      ]
     },
     "metadata": {
      "needs_background": "light"
     },
     "output_type": "display_data"
    },
    {
     "data": {
      "text/plain": [
       "<Figure size 216x216 with 0 Axes>"
      ]
     },
     "metadata": {},
     "output_type": "display_data"
    },
    {
     "data": {
      "image/png": "[encoded data removed]",
      "text/plain": [
       "<Figure size 432x288 with 2 Axes>"
      ]
     },
     "metadata": {
      "needs_background": "light"
     },
     "output_type": "display_data"
    },
    {
     "data": {
      "text/plain": [
       "<Figure size 216x216 with 0 Axes>"
      ]
     },
     "metadata": {},
     "output_type": "display_data"
    },
    {
     "data": {
      "image/png": "[encoded data removed]",
      "text/plain": [
       "<Figure size 432x288 with 2 Axes>"
      ]
     },
     "metadata": {
      "needs_background": "light"
     },
     "output_type": "display_data"
    },
    {
     "data": {
      "text/plain": [
       "<Figure size 216x216 with 0 Axes>"
      ]
     },
     "metadata": {},
     "output_type": "display_data"
    },
    {
     "data": {
      "image/png": "[encoded data removed]",
      "text/plain": [
       "<Figure size 432x288 with 2 Axes>"
      ]
     },
     "metadata": {
      "needs_background": "light"
     },
     "output_type": "display_data"
    },
    {
     "data": {
      "text/plain": [
       "<Figure size 216x216 with 0 Axes>"
      ]
     },
     "metadata": {},
     "output_type": "display_data"
    },
    {
     "data": {
      "image/png": "[encoded data removed]",
      "text/plain": [
       "<Figure size 432x288 with 2 Axes>"
      ]
     },
     "metadata": {
      "needs_background": "light"
     },
     "output_type": "display_data"
    },
    {
     "data": {
      "text/plain": [
       "<Figure size 216x216 with 0 Axes>"
      ]
     },
     "metadata": {},
     "output_type": "display_data"
    },
    {
     "data": {
      "image/png": "[encoded data removed]",
      "text/plain": [
       "<Figure size 432x288 with 2 Axes>"
      ]
     },
     "metadata": {
      "needs_background": "light"
     },
     "output_type": "display_data"
    }
   ],
   "source": [
    "for i, cls in enumerate(classes):\n",
    "    plt.figure(figsize=(3, 3))\n",
    "    fig, axs = plt.subplots(1, 2, sharey=True, tight_layout=True)\n",
    "    axs[0].hist(y_train[:,i], bins=20)\n",
    "    axs[0].set_title(cls+' (Train)')\n",
    "    axs[1].hist(y_val[:,i], bins=20)\n",
    "    axs[1].set_title(cls+' (val)')"
   ]
  },
  {
   "cell_type": "markdown",
   "metadata": {},
   "source": [
    "# Learning"
   ]
  },
  {
   "cell_type": "code",
   "execution_count": 19,
   "metadata": {},
   "outputs": [
    {
     "name": "stdout",
     "output_type": "stream",
     "text": [
      "2.13.1\n"
     ]
    }
   ],
   "source": [
    "import tensorflow as tf\n",
    "from tensorflow.keras.models import Model,Sequential, load_model,model_from_json\n",
    "from tensorflow.keras.applications import mobilenet,mobilenet_v2,densenet,inception_resnet_v2,inception_v3,vgg16,resnet_v2,resnet\n",
    "import efficientnet.tfkeras as enet\n",
    "from tensorflow.keras.layers import Flatten, Dense, Dropout,GlobalAveragePooling2D,Activation, Conv2D, Reshape,DepthwiseConv2D,Input\n",
    "from tensorflow.keras.optimizers import SGD, Adam\n",
    "from tensorflow.keras.utils import to_categorical\n",
    "from tensorflow.keras.callbacks import ModelCheckpoint, TensorBoard, Callback, CSVLogger, EarlyStopping\n",
    "from tensorflow.keras.metrics import top_k_categorical_accuracy\n",
    "import numpy as np\n",
    "from sklearn.metrics import confusion_matrix\n",
    "from tensorflow.keras.preprocessing.image import ImageDataGenerator\n",
    "\n",
    "import tensorflow.keras.backend as K \n",
    "\n",
    "print(tf.__version__)\n",
    "from tensorflow.compat.v1.keras.backend import set_session \n",
    "config = tf.compat.v1.ConfigProto()\n",
    "config.gpu_options.allow_growth = True\n",
    "sess=tf.compat.v1.Session(config=config)\n",
    "set_session(sess)"
   ]
  },
  {
   "cell_type": "code",
   "execution_count": 20,
   "metadata": {},
   "outputs": [],
   "source": [
    "from copy import deepcopy\n",
    "class SaveBestModel(tf.keras.callbacks.Callback):\n",
    "    def __init__(self, save_best_metric='val_loss', this_max=False):\n",
    "        self.save_best_metric = save_best_metric\n",
    "        self.max = this_max\n",
    "        if this_max:\n",
    "            self.best = float('-inf')\n",
    "        else:\n",
    "            self.best = float('inf')\n",
    "\n",
    "    def on_epoch_end(self, epoch, logs=None):\n",
    "        metric_value = logs[self.save_best_metric]\n",
    "        if self.max:\n",
    "            if metric_value > self.best:\n",
    "                self.best = metric_value\n",
    "                self.best_model_weights = deepcopy(self.model.get_weights())\n",
    "\n",
    "        else:\n",
    "            if metric_value < self.best:\n",
    "                self.best = metric_value\n",
    "                self.best_model_weights = deepcopy(self.model.get_weights())"
   ]
  },
  {
   "cell_type": "code",
   "execution_count": 21,
   "metadata": {},
   "outputs": [],
   "source": [
    "def CCC_score(x, y):\n",
    "    vx = x - np.mean(x)\n",
    "    vy = y - np.mean(y)\n",
    "    rho = np.sum(vx * vy) / (np.sqrt(np.sum(vx**2)) * np.sqrt(np.sum(vy**2)))\n",
    "    x_m = np.mean(x)\n",
    "    y_m = np.mean(y)\n",
    "    x_s = np.std(x)\n",
    "    y_s = np.std(y)\n",
    "    ccc = 2*rho*x_s*y_s/(x_s**2 + y_s**2 + (x_m - y_m)**2)\n",
    "    return ccc\n",
    "\n",
    "\n",
    "def CCC_numpy(y_true, y_pred):\n",
    "    '''Reference numpy implementation of Lin's Concordance correlation coefficient'''\n",
    "    \n",
    "    # covariance between y_true and y_pred\n",
    "    s_xy = np.cov([y_true, y_pred])[0,1]\n",
    "    # means\n",
    "    x_m = np.mean(y_true)\n",
    "    y_m = np.mean(y_pred)\n",
    "    # variances\n",
    "    s_x_sq = np.var(y_true)\n",
    "    s_y_sq = np.var(y_pred)\n",
    "    \n",
    "    # condordance correlation coefficient\n",
    "    ccc = (2.0*s_xy) / (s_x_sq + s_y_sq + (x_m-y_m)**2)\n",
    "    \n",
    "    return ccc\n",
    "\n",
    "def CCC(y_true, y_pred):\n",
    "    '''Lin's Concordance correlation coefficient: https://en.wikipedia.org/wiki/Concordance_correlation_coefficient\n",
    "    \n",
    "    The concordance correlation coefficient is the correlation between two variables that fall on the 45 degree line through the origin.\n",
    "    \n",
    "    It is a product of\n",
    "    - precision (Pearson correlation coefficient) and\n",
    "    - accuracy (closeness to 45 degree line)\n",
    "\n",
    "    Interpretation:\n",
    "    - `rho_c =  1` : perfect agreement\n",
    "    - `rho_c =  0` : no agreement\n",
    "    - `rho_c = -1` : perfect disagreement \n",
    "    \n",
    "    Args: \n",
    "    - y_true: ground truth\n",
    "    - y_pred: predicted values\n",
    "    \n",
    "    Returns:\n",
    "    - concordance correlation coefficient (float)\n",
    "    '''\n",
    "    \n",
    "    \n",
    "    # covariance between y_true and y_pred\n",
    "    #N = K.int_shape(y_pred)[-1]\n",
    "    #s_xy = 1.0 / (N - 1.0 + K.epsilon()) * K.sum((y_true - K.mean(y_true)) * (y_pred - K.mean(y_pred)))\n",
    "    #s_xy = K.mean(K.sum((y_true - K.mean(y_true)) * (y_pred - K.mean(y_pred))))\n",
    "    s_xy = K.mean((y_true - K.mean(y_true)) * (y_pred - K.mean(y_pred)))\n",
    "    # means\n",
    "    x_m = K.mean(y_true)\n",
    "    y_m = K.mean(y_pred)\n",
    "    # variances\n",
    "    s_x_sq = K.var(y_true)\n",
    "    s_y_sq = K.var(y_pred)\n",
    "    \n",
    "    # condordance correlation coefficient\n",
    "    ccc = (2.0*s_xy) / (s_x_sq + s_y_sq + (x_m-y_m)**2+K.epsilon())\n",
    "    #print(s_xy,s_x_sq,s_y_sq,x_m,y_m)\n",
    "    return ccc\n",
    "\n",
    "def CCC_EMI(y_true, y_pred):\n",
    "    loss=0\n",
    "    #print(y_true.shape,y_pred.shape)\n",
    "    for i in range(num_classes):\n",
    "        loss+=CCC(y_true[:,i], y_pred[:,i])\n",
    "    return 1-loss/num_classes\n",
    "\n",
    "from scipy import stats \n",
    "import numpy as np\n",
    "\n",
    "def calc_pearsons(preds,labels):\n",
    "    r = stats.pearsonr(preds, labels)\n",
    "    return r[0]\n",
    "\n",
    "def mean_pearsons(preds,labels):\n",
    "    preds = np.row_stack([np.array(p) for p in preds])\n",
    "    labels = np.row_stack([np.array(l) for l in labels])\n",
    "    num_classes = preds.shape[1]\n",
    "    class_wise_r = np.array([calc_pearsons(preds[:,i], labels[:,i]) for i in range(num_classes)])\n",
    "    mean_r = np.mean(class_wise_r)\n",
    "    return mean_r, class_wise_r"
   ]
  },
  {
   "cell_type": "code",
   "execution_count": 22,
   "metadata": {},
   "outputs": [
    {
     "name": "stdout",
     "output_type": "stream",
     "text": [
      "[0.47058824 0.05882353 0.11764706 0.23529412 0.05882353 0.05882353] 1.0\n"
     ]
    }
   ],
   "source": [
    "#counts=np.array([0.04752795, 0.25179336, 0.12408552, 0.08759098, 0.24792852, 0.28702279])\n",
    "counts=np.array([1, 8, 4, 2, 8, 8])\n",
    "class_weights=1/counts\n",
    "class_weights/=class_weights.sum()\n",
    "class_weights_sum=class_weights.sum()\n",
    "print(class_weights,class_weights_sum)"
   ]
  },
  {
   "cell_type": "code",
   "execution_count": 23,
   "metadata": {},
   "outputs": [],
   "source": [
    "def Pearson(y_true, y_pred):\n",
    "    # covariance between y_true and y_pred\n",
    "    #N = K.int_shape(y_pred)[-1]\n",
    "    #s_xy = 1.0 / (N - 1.0 + K.epsilon()) * K.sum((y_true - K.mean(y_true)) * (y_pred - K.mean(y_pred)))\n",
    "    #s_xy = K.mean(K.sum((y_true - K.mean(y_true)) * (y_pred - K.mean(y_pred))))\n",
    "    s_xy = K.mean((y_true - K.mean(y_true)) * (y_pred - K.mean(y_pred)))\n",
    "    # variances\n",
    "    s_x_sq = K.std(y_true)\n",
    "    s_y_sq = K.std(y_pred)\n",
    "    \n",
    "    # pearson correlation coefficient\n",
    "    pcc = (s_xy) / (s_x_sq * s_y_sq + K.epsilon())\n",
    "    return pcc\n",
    "\n",
    "def Pearson_EMI_loss(y_true, y_pred):\n",
    "    loss=0\n",
    "    #print(y_true.shape,y_pred.shape)\n",
    "    for i in range(y_true.shape[1]):\n",
    "        loss+=Pearson(y_true[:,i], y_pred[:,i])# *class_weights[i]\n",
    "    return 1-loss/y_true.shape[1]#+0.1*K.binary_crossentropy(y_true, y_pred)\n",
    "\n",
    "def Pearson_EMI_loss_weighted(y_true, y_pred):\n",
    "    loss=0\n",
    "    for i in range(y_true.shape[1]):\n",
    "        loss+=Pearson(y_true[:,i], y_pred[:,i]) *class_weights[i]\n",
    "    return 1-loss\n",
    "\n",
    "\n",
    "def ProdLoss(y_true, y_pred):\n",
    "    return K.mean(y_true  * y_pred)\n",
    "\n",
    "def Prod_EMI_loss(y_true, y_pred):\n",
    "    loss=0\n",
    "    for i in range(y_true.shape[1]):\n",
    "        loss+=ProdLoss(y_true[:,i], y_pred[:,i]) *class_weights[i]\n",
    "    return 1-loss/y_true.shape[1]\n",
    "\n",
    "def correlation(x, y):    \n",
    "    mx = tf.math.reduce_mean(x)\n",
    "    my = tf.math.reduce_mean(y)\n",
    "    xm, ym = x-mx, y-my\n",
    "    r_num = tf.math.reduce_mean(tf.multiply(xm,ym))        \n",
    "    r_den = tf.math.reduce_std(xm) * tf.math.reduce_std(ym)\n",
    "    return r_num / r_den\n",
    "\n",
    "def pearson_correlation(y_true, y_pred):\n",
    "    r=0\n",
    "    for i in range(y_true.shape[1]):\n",
    "        r+=correlation(y_true[:,i], y_pred[:,i])\n",
    "    return r/y_true.shape[1]\n"
   ]
  },
  {
   "cell_type": "code",
   "execution_count": 24,
   "metadata": {},
   "outputs": [],
   "source": [
    "def print_metrics():\n",
    "    y_val_preds=mlpModel.predict(X_val,verbose=0)\n",
    "    print(mean_pearsons(y_val_preds,y_val))"
   ]
  },
  {
   "cell_type": "code",
   "execution_count": 25,
   "metadata": {},
   "outputs": [],
   "source": [
    "if True:\n",
    "    loss='binary_crossentropy'\n",
    "    #loss='hinge'\n",
    "else:\n",
    "    import tensorflow.keras.backend as K\n",
    "    def get_weighted_loss(weights):\n",
    "        def weighted_loss(y_true, y_pred):\n",
    "            y_true=tf.cast(y_true, tf.float32)\n",
    "            ce=K.binary_crossentropy(y_true, y_pred)\n",
    "            return K.mean((weights[:,0]**(1-y_true))*(weights[:,1]**(y_true))*ce, axis=-1)\n",
    "        return weighted_loss\n",
    "    loss=get_weighted_loss(class_weights)"
   ]
  },
  {
   "cell_type": "code",
   "execution_count": 145,
   "metadata": {},
   "outputs": [
    {
     "name": "stdout",
     "output_type": "stream",
     "text": [
      "Model: \"sequential_21\"\n",
      "_________________________________________________________________\n",
      " Layer (type)                Output Shape              Param #   \n",
      "=================================================================\n",
      " dense_35 (Dense)            (None, 64)                98368     \n",
      "                                                                 \n",
      " dense_36 (Dense)            (None, 6)                 390       \n",
      "                                                                 \n",
      "=================================================================\n",
      "Total params: 98758 (385.77 KB)\n",
      "Trainable params: 98758 (385.77 KB)\n",
      "Non-trainable params: 0 (0.00 Byte)\n",
      "_________________________________________________________________\n",
      "Epoch 1/20\n",
      "16/16 [==============================] - 2s 32ms/step - loss: 0.6716 - pearson_correlation: 0.2385 - val_loss: 0.5968 - val_pearson_correlation: 0.3219\n",
      "Epoch 2/20\n",
      "16/16 [==============================] - 0s 15ms/step - loss: 0.5065 - pearson_correlation: 0.4213 - val_loss: 0.5627 - val_pearson_correlation: 0.3685\n",
      "Epoch 3/20\n",
      "16/16 [==============================] - 0s 16ms/step - loss: 0.4624 - pearson_correlation: 0.4713 - val_loss: 0.5490 - val_pearson_correlation: 0.3876\n",
      "Epoch 4/20\n",
      "16/16 [==============================] - 0s 16ms/step - loss: 0.4292 - pearson_correlation: 0.5037 - val_loss: 0.5443 - val_pearson_correlation: 0.3955\n",
      "Epoch 5/20\n",
      "16/16 [==============================] - 0s 16ms/step - loss: 0.4014 - pearson_correlation: 0.5300 - val_loss: 0.5458 - val_pearson_correlation: 0.3971\n",
      "Epoch 6/20\n",
      "16/16 [==============================] - 0s 15ms/step - loss: 0.3667 - pearson_correlation: 0.5590 - val_loss: 0.5537 - val_pearson_correlation: 0.3948\n",
      "Epoch 7/20\n",
      "16/16 [==============================] - 0s 15ms/step - loss: 0.3312 - pearson_correlation: 0.5862 - val_loss: 0.5672 - val_pearson_correlation: 0.3867\n",
      "Epoch 8/20\n",
      "16/16 [==============================] - 0s 15ms/step - loss: 0.2949 - pearson_correlation: 0.6121 - val_loss: 0.5754 - val_pearson_correlation: 0.3813\n",
      "Epoch 9/20\n",
      "16/16 [==============================] - 0s 15ms/step - loss: 0.2657 - pearson_correlation: 0.6341 - val_loss: 0.5743 - val_pearson_correlation: 0.3806\n",
      "Epoch 10/20\n",
      "16/16 [==============================] - 0s 15ms/step - loss: 0.2364 - pearson_correlation: 0.6568 - val_loss: 0.5872 - val_pearson_correlation: 0.3715\n",
      "Epoch 11/20\n",
      "16/16 [==============================] - 0s 16ms/step - loss: 0.2122 - pearson_correlation: 0.6760 - val_loss: 0.5872 - val_pearson_correlation: 0.3690\n",
      "Epoch 12/20\n",
      "16/16 [==============================] - 0s 15ms/step - loss: 0.1922 - pearson_correlation: 0.6941 - val_loss: 0.5975 - val_pearson_correlation: 0.3649\n",
      "Epoch 13/20\n",
      "16/16 [==============================] - 0s 15ms/step - loss: 0.1761 - pearson_correlation: 0.7099 - val_loss: 0.5990 - val_pearson_correlation: 0.3622\n",
      "Epoch 14/20\n",
      "16/16 [==============================] - 0s 15ms/step - loss: 0.1633 - pearson_correlation: 0.7233 - val_loss: 0.6021 - val_pearson_correlation: 0.3584\n",
      "Epoch 15/20\n",
      "16/16 [==============================] - 0s 15ms/step - loss: 0.1532 - pearson_correlation: 0.7357 - val_loss: 0.6036 - val_pearson_correlation: 0.3566\n",
      "Epoch 16/20\n",
      "16/16 [==============================] - 0s 15ms/step - loss: 0.1457 - pearson_correlation: 0.7454 - val_loss: 0.6032 - val_pearson_correlation: 0.3576\n",
      "Epoch 17/20\n",
      "16/16 [==============================] - 0s 15ms/step - loss: 0.1371 - pearson_correlation: 0.7567 - val_loss: 0.6087 - val_pearson_correlation: 0.3486\n",
      "Epoch 18/20\n",
      "16/16 [==============================] - 0s 16ms/step - loss: 0.1290 - pearson_correlation: 0.7670 - val_loss: 0.6094 - val_pearson_correlation: 0.3493\n",
      "Epoch 19/20\n",
      "16/16 [==============================] - 0s 15ms/step - loss: 0.1236 - pearson_correlation: 0.7757 - val_loss: 0.6259 - val_pearson_correlation: 0.3419\n",
      "Epoch 20/20\n",
      "16/16 [==============================] - 0s 16ms/step - loss: 0.1192 - pearson_correlation: 0.7835 - val_loss: 0.6117 - val_pearson_correlation: 0.3468\n",
      "0.3970717787742615\n",
      "(0.34836732605226867, array([0.43853955, 0.35174092, 0.29565431, 0.39172392, 0.31491796,\n",
      "       0.29762729]))\n",
      "Best weights:\n",
      "(0.3995747584096177, array([0.50708149, 0.36693714, 0.36887386, 0.48648606, 0.33596228,\n",
      "       0.33210772]))\n"
     ]
    }
   ],
   "source": [
    "batch_size=512 #128 #1024 #\n",
    "mlpModel=Sequential()\n",
    "mlpModel.add(Dense(64, input_shape=X_train.shape[1:],activation='relu'))\n",
    "#mlpModel.add(Dense(256, input_shape=X_train.shape[1:],activation='relu'))\n",
    "mlpModel.add(Dense(num_classes,activation='sigmoid'))\n",
    "    \n",
    "mlpModel.compile(optimizer=tf.keras.optimizers.Adam(learning_rate=1e-3), loss=Pearson_EMI_loss_weighted, metrics=[pearson_correlation])\n",
    "mlpModel.summary()\n",
    "\n",
    "import gc\n",
    "gc.collect()\n",
    "\n",
    "#save_best_model = SaveBestModel('val_loss',False)\n",
    "save_best_model = SaveBestModel('val_pearson_correlation',True)\n",
    "\n",
    "num_epochs=20\n",
    "#num_epochs=5\n",
    "\n",
    "mlpModel.fit(X_train,y_train, batch_size=batch_size, epochs=num_epochs, verbose=1, callbacks=[save_best_model], validation_data=(X_val,y_val))\n",
    "best_model_weights = save_best_model.best_model_weights\n",
    "print(save_best_model.best)\n",
    "\n",
    "print_metrics()\n",
    "if not TRAIN_VAL:\n",
    "    print('Best weights:')\n",
    "    mlpModel.set_weights(best_model_weights)\n",
    "    print_metrics()"
   ]
  },
  {
   "cell_type": "code",
   "execution_count": 123,
   "metadata": {},
   "outputs": [
    {
     "name": "stdout",
     "output_type": "stream",
     "text": [
      "Model: \"sequential_18\"\n",
      "_________________________________________________________________\n",
      " Layer (type)                Output Shape              Param #   \n",
      "=================================================================\n",
      " dense_30 (Dense)            (None, 6)                 6150      \n",
      "                                                                 \n",
      "=================================================================\n",
      "Total params: 6150 (24.02 KB)\n",
      "Trainable params: 6150 (24.02 KB)\n",
      "Non-trainable params: 0 (0.00 Byte)\n",
      "_________________________________________________________________\n",
      "Epoch 1/10\n",
      "25/25 [==============================] - 2s 22ms/step - loss: 0.8135 - pearson_correlation: 0.2110 - val_loss: 0.6951 - val_pearson_correlation: 0.3285\n",
      "Epoch 2/10\n",
      "25/25 [==============================] - 0s 12ms/step - loss: 0.6472 - pearson_correlation: 0.3768 - val_loss: 0.6395 - val_pearson_correlation: 0.3842\n",
      "Epoch 3/10\n",
      "25/25 [==============================] - 0s 12ms/step - loss: 0.6072 - pearson_correlation: 0.4161 - val_loss: 0.6131 - val_pearson_correlation: 0.4099\n",
      "Epoch 4/10\n",
      "25/25 [==============================] - 0s 13ms/step - loss: 0.5872 - pearson_correlation: 0.4360 - val_loss: 0.5968 - val_pearson_correlation: 0.4255\n",
      "Epoch 5/10\n",
      "25/25 [==============================] - 0s 12ms/step - loss: 0.5712 - pearson_correlation: 0.4506 - val_loss: 0.5855 - val_pearson_correlation: 0.4361\n",
      "Epoch 6/10\n",
      "25/25 [==============================] - 0s 12ms/step - loss: 0.5593 - pearson_correlation: 0.4624 - val_loss: 0.5735 - val_pearson_correlation: 0.4474\n",
      "Epoch 7/10\n",
      "25/25 [==============================] - 0s 12ms/step - loss: 0.5498 - pearson_correlation: 0.4706 - val_loss: 0.5627 - val_pearson_correlation: 0.4577\n",
      "Epoch 8/10\n",
      "25/25 [==============================] - 0s 12ms/step - loss: 0.5403 - pearson_correlation: 0.4799 - val_loss: 0.5573 - val_pearson_correlation: 0.4625\n",
      "Epoch 9/10\n",
      "25/25 [==============================] - 0s 12ms/step - loss: 0.5310 - pearson_correlation: 0.4889 - val_loss: 0.5470 - val_pearson_correlation: 0.4723\n",
      "Epoch 10/10\n",
      "25/25 [==============================] - 0s 12ms/step - loss: 0.5271 - pearson_correlation: 0.4917 - val_loss: 0.5411 - val_pearson_correlation: 0.4777\n",
      "0.4777432084083557\n",
      "(0.48115799325457626, array([0.53867218, 0.47253825, 0.45509473, 0.56628377, 0.45761543,\n",
      "       0.3967436 ]))\n"
     ]
    }
   ],
   "source": [
    "batch_size=512 #128 #1024 #\n",
    "mlpModel=Sequential()\n",
    "\n",
    "#mlpModel.add(Dense(num_classes, input_shape=X_train.shape[1:],activation='tanh',use_bias=True,kernel_regularizer=tf.keras.regularizers.l2(1.0/batch_size)))\n",
    "mlpModel.add(Dense(num_classes, input_shape=X_train.shape[1:],activation='sigmoid',use_bias=True,kernel_regularizer=tf.keras.regularizers.l2(1.0/batch_size)))\n",
    "    \n",
    "mlpModel.compile(optimizer=Adam(learning_rate=1e-3), loss=Pearson_EMI_loss, metrics=[pearson_correlation])\n",
    "\n",
    "mlpModel.summary()\n",
    "\n",
    "import gc\n",
    "gc.collect()\n",
    "\n",
    "#save_best_model = SaveBestModel('val_loss',False)\n",
    "save_best_model = SaveBestModel('val_pearson_correlation',True)\n",
    "\n",
    "num_epochs=100\n",
    "#num_epochs=10\n",
    "\n",
    "mlpModel.fit(X_train,y_train, batch_size=batch_size, epochs=num_epochs, verbose=1, callbacks=[save_best_model], validation_data=(X_val,y_val))\n",
    "best_model_weights = save_best_model.best_model_weights\n",
    "print(save_best_model.best)\n",
    "\n",
    "print_metrics()\n",
    "if not TRAIN_VAL:\n",
    "    print('Best weights:')\n",
    "    mlpModel.set_weights(best_model_weights)\n",
    "    print_metrics()"
   ]
  },
  {
   "cell_type": "code",
   "execution_count": 43,
   "metadata": {},
   "outputs": [
    {
     "name": "stdout",
     "output_type": "stream",
     "text": [
      "(0.3036114177130423, array([0.36225626, 0.31950403, 0.28417176, 0.31438462, 0.28659277,\n",
      "       0.25475907]))\n",
      "0.250325135884467\n"
     ]
    }
   ],
   "source": [
    "y_val_preds=mlpModel.predict(X_val,verbose=0)\n",
    "print(mean_pearsons(y_val_preds,y_val))\n",
    "def correlation_np(x, y):    \n",
    "    mx = np.mean(x)\n",
    "    my = np.mean(y)\n",
    "    xm, ym = x-mx, y-my\n",
    "    r_num = np.mean(np.multiply(xm,ym))        \n",
    "    r_den = np.std(xm) * np.std(ym)\n",
    "    return r_num / r_den\n",
    "print(correlation_np(y_val_preds,y_val))"
   ]
  },
  {
   "cell_type": "code",
   "execution_count": 38,
   "metadata": {},
   "outputs": [],
   "source": [
    "if True:\n",
    "    #mlpModel.save_weights('emi_mbf_va_face_images.h5')#0.181732535711447\n",
    "    #mlpModel.save_weights('emi_mobilevit_va_face_images.h5')#0.174064572542725\n",
    "    #mlpModel.save_weights('emi_audio_hubert.h5')#0.30440993311983106\n",
    "    #mlpModel.save_weights('emi_text_gigachat.h5')#logreg: 0.4001222448307076\n",
    "    #mlpModel.save_weights('emi_text_openai.h5')#1 layer: 0.3947932220697352\n",
    "    #mlpModel.save_weights('emi_text_openai_new.h5') #0.40139028171239866\n",
    "    #mlpModel.save_weights('emi_text_roberta.h5')#1 layer: 0.3764463318563458\n",
    "else:\n",
    "    #mlpModel.load_weights('emi_audio.h5')\n",
    "    mlpModel.load_weights('emi_mobilevit_va_face_images.h5') #0.17645105962016794\n",
    "    #mlpModel.load_weights('emi_mbf_va_face_images.h5')\n",
    "    print_metrics()"
   ]
  },
  {
   "cell_type": "code",
   "execution_count": 135,
   "metadata": {},
   "outputs": [
    {
     "name": "stdout",
     "output_type": "stream",
     "text": [
      "(0.17645105962016794, array([0.05056633, 0.26280262, 0.13856302, 0.0857433 , 0.24313548,\n",
      "       0.27789561]))\n"
     ]
    }
   ],
   "source": [
    "mlpModelFace=mlpModel\n",
    "#mlpModelFace.load_weights('emi_mbf_va_face_images.h5') #0 layers, all epochs\n",
    "mlpModel.load_weights('emi_mobilevit_va_face_images.h5') #1 layer, all epochs\n",
    "y_val_preds_video=mlpModelFace.predict(X_val,verbose=0)\n",
    "print(mean_pearsons(y_val_preds_video,y_val))"
   ]
  },
  {
   "cell_type": "code",
   "execution_count": 79,
   "metadata": {},
   "outputs": [
    {
     "name": "stdout",
     "output_type": "stream",
     "text": [
      "(0.30440993311983106, array([0.35629425, 0.32200886, 0.29701485, 0.30874692, 0.28921052,\n",
      "       0.2531842 ]))\n"
     ]
    }
   ],
   "source": [
    "mlpModelAudio=mlpModel\n",
    "mlpModelAudio.load_weights('emi_audio_hubert.h5') # 0 layers, all epochs\n",
    "y_val_preds_audio=mlpModelAudio.predict(X_val,verbose=0)\n",
    "print(mean_pearsons(y_val_preds_audio,y_val))"
   ]
  },
  {
   "cell_type": "code",
   "execution_count": 146,
   "metadata": {},
   "outputs": [
    {
     "name": "stdout",
     "output_type": "stream",
     "text": [
      "(0.40139028171239866, array([0.50693966, 0.38156038, 0.36729544, 0.48815603, 0.34613742,\n",
      "       0.31825276]))\n"
     ]
    }
   ],
   "source": [
    "mlpModelText=mlpModel\n",
    "#mlpModelText.load_weights('emi_text_roberta.h5') #1 layer 20 epochs\n",
    "mlpModelText.load_weights('emi_text_openai_new.h5') # 1 layer 5 epochs\n",
    "#mlpModelText.load_weights('emi_text_gigachat.h5') # 0 layers 10 epochs\n",
    "y_val_preds_text=mlpModelText.predict(X_val,verbose=0)\n",
    "print(mean_pearsons(y_val_preds_text,y_val))"
   ]
  },
  {
   "cell_type": "code",
   "execution_count": 124,
   "metadata": {},
   "outputs": [],
   "source": [
    "if True:\n",
    "    #mlpModelFace=mlpModel\n",
    "    #mlpModelFace.save_weights('test_mbf_va_face_images.h5') \n",
    "    #mlpModelFace.save_weights('test_mobilevit_va_face_images.h5') \n",
    "    \n",
    "    #mlpModelAudio.save_weights('test_audio_hubert.h5') \n",
    "    \n",
    "    mlpModelText=mlpModel\n",
    "    #mlpModelText.save_weights('test_emi_text_roberta.h5') \n",
    "    #mlpModelText.save_weights('test_emi_text_openai.h5') \n",
    "    mlpModelText.save_weights('test_emi_text_gigachat.h5') \n"
   ]
  },
  {
   "cell_type": "markdown",
   "metadata": {},
   "source": [
    "best_vgaf\n",
    "features: 0.16468719325142459, array([0.04719238, 0.23872681, 0.12715181, 0.10167664, 0.22254081,\n",
    "       0.25083472])\n",
    "agg features: 0.16581090507195018, array([0.05959792, 0.2307677 , 0.13180669, 0.07433949, 0.23725057,\n",
    "       0.26110306])\n",
    "scores: 0.15956704687617598, array([0.01631927, 0.23423282, 0.13149749, 0.07082677, 0.22806896,\n",
    "       0.27645697])\n",
    "agg scores: 0.16445071167985162, array([0.01858242, 0.24766241, 0.12774497, 0.07869363, 0.22775766,\n",
    "       0.28626319])\n",
    "\n",
    "       \n",
    "mbf_va\n",
    "features:0.15182967597822564, array([0.02151467, 0.22876023, 0.11397221, 0.0691848 , 0.22993618,\n",
    "       0.24760996])\n",
    "aggregate all features: 0.1645556550825007, array([0.05571004, 0.23802543, 0.13028415, 0.07030688, 0.23254514,\n",
    "       0.26046229])\n",
    "       \n",
    "scores:0.16669173598326226, array([0.02758822, 0.23673681, 0.13362706, 0.08069747, 0.25155482,\n",
    "       0.26994605])\n",
    "aggregate all scores: (0.1732400927843647, array([0.02851866, 0.24981956, 0.13175185, 0.09749259, 0.25425177,\n",
    "       0.27760613]))\n",
    "\n",
    "ddamfnet\n",
    "features:0.16198426966650922, array([0.01388326, 0.25147838, 0.12110723, 0.08410949, 0.23725866,\n",
    "       0.2640686 ])\n",
    "agg features: 0.16027512223492021, array([0.0594543 , 0.21693791, 0.13550432, 0.0687296 , 0.22447545,\n",
    "       0.25654916])\n",
    "scores:0.16402727920369453, array([0.01738167, 0.24622458, 0.12570119, 0.07402645, 0.24381048,\n",
    "       0.27701931])\n",
    "agg scores: 0.16844250684501985, array([0.03538154, 0.24612609, 0.1304421 , 0.06341882, 0.24262173,\n",
    "       0.29266476])\n",
    "       \n",
    "\n",
    "ddamfnet_mtl\n",
    "features:0.1628087073637761, array([0.02887615, 0.23853502, 0.128083  , 0.07613977, 0.23631758,\n",
    "       0.26890072])\n",
    "agg features: 0.17225771735921067, array([0.06134339, 0.23192009, 0.12823768, 0.10641768, 0.24464429,\n",
    "       0.26098318])\n",
    "scores: 0.1681939929777879, array([0.04078771, 0.23336167, 0.13869368, 0.08245851, 0.24289292,\n",
    "       0.27096947])\n",
    "agg scores:0.17033144680551396, array([0.02886761, 0.24497157, 0.12979594, 0.08784128, 0.24102297,\n",
    "       0.2894893 ])\n",
    "     \n",
    "enet_b0_8_va_mtl\n",
    "features: 0.16319175647904235, array([0.01617428, 0.23361139, 0.12388217, 0.10008462, 0.23394534,\n",
    "       0.27145273])\n",
    "agg features: (0.16725336033256263, array([0.03485187, 0.23179741, 0.13797108, 0.08773678, 0.24282352,\n",
    "       0.26833951]))\n",
    "scores:0.15836499311048943, array([0.02748861, 0.21146971, 0.1258152 , 0.08053375, 0.2273209 ,\n",
    "       0.27756179])\n",
    "agg scores: 0.15903670612437162, array([0.01880236, 0.23347567, 0.11501619, 0.07293681, 0.23117079,\n",
    "       0.28281842])\n",
    "\n",
    "mobile_vit\n",
    "features: (0.16443273392150856, array([0.03788293, 0.23138948, 0.13868397, 0.07806633, 0.23335648,\n",
    "       0.26721721]))\n",
    "agg features: (0.16830869683333383, array([0.04331888, 0.24586312, 0.13468709, 0.0778735 , 0.23820341,\n",
    "       0.26990619]))\n",
    "scores: (0.16418244416927788, array([0.03213561, 0.24843837, 0.14901467, 0.0674399 , 0.23996759,\n",
    "       0.24809851]))\n",
    "agg scores:(0.17267761008941043, array([0.06208776, 0.25483363, 0.14304662, 0.06244557, 0.23984525,\n",
    "       0.27380682]))\n",
    "       \n",
    "mobile_vit_orig_faces\n",
    "agg scores: 0.17534107901477416, array([0.04539285, 0.26071049, 0.12750846, 0.08337933, 0.25092688,\n",
    "       0.28412847])\n",
    "       \n",
    "       \n",
    "mbf_vggface2_orig_faces\n",
    "features: 0.07342328092964157, array([0.02346451, 0.05420641, 0.06448213, 0.08374254, 0.10532716,\n",
    "       0.10931693])\n",
    "aff features: 0.09717403864507052, array([0.03742797, 0.10086592, 0.0981474 , 0.09717746, 0.13195505,\n",
    "       0.11747044])\n",
    "\n",
    "\n",
    "all frames:\n",
    "mobile vit features: (0.017115893185091147, array([0.05163362, 0.00402961, 0.00614032, 0.00229844, 0.02800543,\n",
    "       0.01058794]))\n",
    "       \n",
    "audio\n",
    "\n",
    "agg features: \n",
    "(0.2361361954257474, array([0.30001496, 0.1883828 , 0.2457414 , 0.31087313, 0.22221633,\n",
    "       0.14958856]))\n",
    "       \n",
    "hubert \n",
    "mlp: (0.2566503357992987, array([ 0.37321765, -0.02273561,  0.30594737,  0.35452375,  0.29926156,\n",
    "        0.2296873 ]))\n",
    "0.020022255985746324\n",
    "\n",
    "1 layer:(0.2729309854837689, array([0.35849319, 0.24541548, 0.24315006, 0.30648155, 0.25658484,\n",
    "       0.22746078]))\n",
    "0.27352367619650475\n",
    "\n",
    "mean only\n",
    "1 layer: (0.30449101477526813, array([0.36437692, 0.31798373, 0.29872684, 0.31107806, 0.2848296 ,\n",
    "       0.24995093]))\n",
    "       \n",
    "       \n",
    "text\n",
    "emotional bert\n",
    "CLS features\n",
    "mean\n",
    "mlp: (0.3624763539042499, array([0.44802699, 0.31242056, 0.31842009, 0.48544192, 0.31198922,\n",
    "       0.29855935]))\n",
    "1 layer: (0.3703833548494964, array([0.45389287, 0.3135297 , 0.33872732, 0.49687694, 0.31459434,\n",
    "       0.30467896]))\n",
    "\n",
    "agg\n",
    "mlp: (0.3689413497748472, array([0.43276624, 0.30325708, 0.37450339, 0.49846289, 0.30705436,\n",
    "       0.29760413]))\n",
    "1 layer: (0.37196657056656185, array([0.44147762, 0.3212091 , 0.35603979, 0.49685955, 0.32328313,\n",
    "       0.29293024]))\n",
    "       \n",
    "all features\n",
    "mean\n",
    "1 layer: (0.3763245525414803, array([0.45583354, 0.33286587, 0.34274917, 0.49640517, 0.32014518,\n",
    "       0.30994838]))\n",
    "agg\n",
    "1 layer: (0.36972024149702304, array([0.45007343, 0.33263656, 0.31734953, 0.48433116, 0.33312498,\n",
    "       0.30080579]))\n",
    "       \n",
    "       \n",
    "sentence\n",
    "mlp: (0.3756251711509766, array([0.47102447, 0.35858792, 0.35890717, 0.43472434, 0.3186097 ,\n",
    "       0.31189743]))\n",
    "1 layer: (0.36881328279340725, array([0.47231894, 0.35581115, 0.35108682, 0.41006003, 0.31118456,\n",
    "       0.31241819]))\n",
    "\n",
    "all-MiniLM\n",
    "mlp: (0.35377481000396216, array([0.45516692, 0.30760683, 0.33711134, 0.41111195, 0.30933453,\n",
    "       0.30231729]))\n",
    "1 layer: (0.3564105020346291, array([0.44248233, 0.32841331, 0.3273488 , 0.39573131, 0.32410874,\n",
    "       0.32037852]))\n",
    "\n",
    "e5-base\n",
    "mlp: (0.37776087971415356, array([0.47199892, 0.34971704, 0.34176374, 0.45532956, 0.32932908,\n",
    "       0.31842694]))\n",
    "1 layer: (0.3676262574337894, array([0.47245965, 0.35057723, 0.33656556, 0.39940102, 0.33362242,\n",
    "       0.31313166]))\n",
    "\n",
    "openai\n",
    "mlp: (0.3965975596942793, array([0.50118498, 0.37473789, 0.37365498, 0.473989  , 0.33729684,\n",
    "       0.31872167]))\n",
    "1 layer: (0.3822749878977086, array([0.48429235, 0.37653378, 0.34894742, 0.42470829, 0.33812782,\n",
    "       0.32104027]))\n",
    "0.37833597044084655\n",
    "\n",
    "gigachat\n",
    "mlp: (0.4001222448307076, array([0.48878867, 0.36484019, 0.37319562, 0.48619641, 0.37261704,\n",
    "       0.31509554]))\n",
    "1 layer: (0.3950896230623835, array([0.49021581, 0.37724953, 0.3681413 , 0.46707521, 0.35468862,\n",
    "       0.31316725]))\n",
    "        "
   ]
  },
  {
   "cell_type": "markdown",
   "metadata": {},
   "source": [
    "-----"
   ]
  },
  {
   "cell_type": "code",
   "execution_count": 50,
   "metadata": {},
   "outputs": [
    {
     "name": "stdout",
     "output_type": "stream",
     "text": [
      "0.0 (0.3764463318563458, array([0.44500243, 0.31314351, 0.34923907, 0.52471125, 0.32128234,\n",
      "       0.30529939]))\n",
      "0.1 (0.39141318748329423, array([0.44610136, 0.34081204, 0.36145577, 0.52504852, 0.34676837,\n",
      "       0.32829306]))\n",
      "0.2 (0.3964775203845787, array([0.44407467, 0.36507846, 0.35450897, 0.49885602, 0.36622527,\n",
      "       0.35012173]))\n",
      "0.30000000000000004 (0.389701935578235, array([0.43652361, 0.38165807, 0.32993862, 0.44641799, 0.3755862 ,\n",
      "       0.36808712]))\n",
      "0.4 (0.3721840423037963, array([0.41983506, 0.38681808, 0.29581675, 0.37892412, 0.37274726,\n",
      "       0.37896299]))\n",
      "0.5 (0.34632212097491166, array([0.38942886, 0.37947376, 0.26015533, 0.3098705 , 0.35888541,\n",
      "       0.38011887]))\n",
      "0.6000000000000001 (0.31446467742198264, array([0.34142224, 0.36187083, 0.2274366 , 0.24756763, 0.33762522,\n",
      "       0.37086555]))\n",
      "0.7000000000000001 (0.2789734233916488, array([0.27591637, 0.33811158, 0.19916069, 0.19474871, 0.31300169,\n",
      "       0.3529015 ]))\n",
      "0.8 (0.24253424573050486, array([0.19922921, 0.31210939, 0.17531354, 0.15110602, 0.28804672,\n",
      "       0.32940059]))\n",
      "0.9 (0.20776639634492464, array([0.12135763, 0.28653578, 0.15533487, 0.11526995, 0.26450299,\n",
      "       0.30359717]))\n",
      "1.0 (0.17645105962016794, array([0.05056633, 0.26280262, 0.13856302, 0.0857433 , 0.24313548,\n",
      "       0.27789561]))\n"
     ]
    }
   ],
   "source": [
    "for w in np.linspace(0,1,11):\n",
    "    y_ensemble=w*y_val_preds_video+(1-w)*y_val_preds_text\n",
    "    print(w,mean_pearsons(y_ensemble,y_val))"
   ]
  },
  {
   "cell_type": "code",
   "execution_count": 51,
   "metadata": {},
   "outputs": [
    {
     "name": "stdout",
     "output_type": "stream",
     "text": [
      "0.0 (0.3036114177130423, array([0.36225626, 0.31950403, 0.28417176, 0.31438462, 0.28659277,\n",
      "       0.25475907]))\n",
      "0.1 (0.2793793185475263, array([0.31355092, 0.31765589, 0.21551395, 0.19615212, 0.31159962,\n",
      "       0.32180341]))\n",
      "0.2 (0.2356859240689679, array([0.22194061, 0.2905178 , 0.17698038, 0.14040675, 0.28179145,\n",
      "       0.30247855]))\n",
      "0.30000000000000004 (0.2137563442683649, array([0.16190939, 0.27962934, 0.16173255, 0.11851581, 0.26744142,\n",
      "       0.29330955]))\n",
      "0.4 (0.20120296042673544, array([0.12515063, 0.27383093, 0.15368857, 0.10705934, 0.25933231,\n",
      "       0.28815599]))\n",
      "0.5 (0.19321846443130328, array([0.10125251, 0.27023887, 0.14873572, 0.10004443, 0.25416201,\n",
      "       0.28487724]))\n",
      "0.6000000000000001 (0.1877334806997543, array([0.0847043 , 0.26779733, 0.14538336, 0.09531501, 0.25058787,\n",
      "       0.282613  ]))\n",
      "0.7000000000000001 (0.18374699289808805, array([0.07264364, 0.26603054, 0.14296489, 0.09191299, 0.24797273,\n",
      "       0.28095716]))\n",
      "0.8 (0.18072417571701568, array([0.06349294, 0.26469301, 0.14113826, 0.0893492 , 0.24597746,\n",
      "       0.27969418]))\n",
      "0.9 (0.1783557093990962, array([0.0563256 , 0.26364535, 0.13971013, 0.08734825, 0.24440557,\n",
      "       0.27869935]))\n",
      "1.0 (0.17645105962016794, array([0.05056633, 0.26280262, 0.13856302, 0.0857433 , 0.24313548,\n",
      "       0.27789561]))\n"
     ]
    }
   ],
   "source": [
    "for w in np.linspace(0,1,11):\n",
    "    y_ensemble=w*y_val_preds_video+(1-w)*y_val_preds_audio\n",
    "    print(w,mean_pearsons(y_ensemble,y_val))"
   ]
  },
  {
   "cell_type": "code",
   "execution_count": 52,
   "metadata": {},
   "outputs": [
    {
     "name": "stdout",
     "output_type": "stream",
     "text": [
      "0.0 (0.3036114177130423, array([0.36225626, 0.31950403, 0.28417176, 0.31438462, 0.28659277,\n",
      "       0.25475907]))\n",
      "0.1 (0.39778951270451296, array([0.46463328, 0.35813174, 0.37130978, 0.49621574, 0.36263994,\n",
      "       0.33380659]))\n",
      "0.2 (0.39569093056394383, array([0.46877573, 0.3379002 , 0.37066666, 0.52286384, 0.35141156,\n",
      "       0.3225276 ]))\n",
      "0.30000000000000004 (0.39067016686883477, array([0.46395138, 0.32862875, 0.3653041 , 0.52773562, 0.34200672,\n",
      "       0.31639443]))\n",
      "0.4 (0.3867334214813218, array([0.45919286, 0.32344622, 0.36091681, 0.5283292 , 0.33572936,\n",
      "       0.31278608]))\n",
      "0.5 (0.38380343041155873, array([0.45535608, 0.32015352, 0.35761051, 0.52787836, 0.33138627,\n",
      "       0.31043584]))\n",
      "0.6000000000000001 (0.3815848209002645, array([0.45232801, 0.31788037, 0.35509361, 0.52718333, 0.32823436,\n",
      "       0.30878925]))\n",
      "0.7000000000000001 (0.37986079210394763, array([0.44991441, 0.31621798, 0.35313241, 0.52647416, 0.32585252,\n",
      "       0.30757327]))\n",
      "0.8 (0.3784879450441722, array([0.44795912, 0.31494984, 0.35156823, 0.52581823, 0.32399303,\n",
      "       0.30663921]))\n",
      "0.9 (0.3773712661492512, array([0.44634881, 0.3139508 , 0.35029466, 0.52523111, 0.3225027 ,\n",
      "       0.30589952]))\n",
      "1.0 (0.3764463318563458, array([0.44500243, 0.31314351, 0.34923907, 0.52471125, 0.32128234,\n",
      "       0.30529939]))\n"
     ]
    }
   ],
   "source": [
    "for w in np.linspace(0,1,11):\n",
    "    y_ensemble=w*y_val_preds_text+(1-w)*y_val_preds_audio\n",
    "    print(w,mean_pearsons(y_ensemble,y_val))"
   ]
  },
  {
   "cell_type": "code",
   "execution_count": 75,
   "metadata": {},
   "outputs": [
    {
     "name": "stdout",
     "output_type": "stream",
     "text": [
      "(0.41573004772855343, array([0.47885011, 0.42180993, 0.37037907, 0.45244283, 0.40170781,\n",
      "       0.36919053]))\n"
     ]
    }
   ],
   "source": [
    "w1,w2=0.015,0.075\n",
    "y_ensemble=w1*y_val_preds+w2*y_val_preds_audio+(1-w1-w2)*y_val_preds_text\n",
    "#y_ensemble[:,-1]=w1*y_val_preds[:,-1]+w2*y_val_preds_audio[:,-1]+(1-w1-w2)*y_val_preds_text[:,-1]\n",
    "\n",
    "print(mean_pearsons(y_ensemble,y_val))\n"
   ]
  },
  {
   "cell_type": "code",
   "execution_count": 66,
   "metadata": {},
   "outputs": [
    {
     "name": "stdout",
     "output_type": "stream",
     "text": [
      "0.05 0.15000000000000002 0.42463218287969423\n",
      "(0.42463218287969423, array([0.50558697, 0.43107056, 0.35468195, 0.46860418, 0.39804785,\n",
      "       0.38980158]))\n"
     ]
    }
   ],
   "source": [
    "#w1,w2=0.5,0.1\n",
    "best_corr=0\n",
    "best_w1,best_w2=0,0\n",
    "for w1 in np.arange(0.0,0.95,0.05):\n",
    "    for w2 in np.arange(0.0,1-w1,0.05):\n",
    "        y_ensemble=w1*y_val_preds_video+w2*y_val_preds_audio+(1-w1-w2)*y_val_preds_text\n",
    "        corr,_=mean_pearsons(y_ensemble,y_val)\n",
    "        #print(w1,w2,corr)\n",
    "        if corr>best_corr:\n",
    "            best_corr=corr\n",
    "            best_w1,best_w2=w1,w2\n",
    "\n",
    "print(best_w1,best_w2,best_corr)\n",
    "\n",
    "y_ensemble=best_w1*y_val_preds_video+best_w2*y_val_preds_audio+(1-best_w1-best_w2)*y_val_preds_text\n",
    "print(mean_pearsons(y_ensemble,y_val))"
   ]
  },
  {
   "cell_type": "code",
   "execution_count": 147,
   "metadata": {},
   "outputs": [
    {
     "name": "stdout",
     "output_type": "stream",
     "text": [
      "[0.   0.05 0.   0.   0.05 0.05] [0.2  0.2  0.35 0.3  0.35 0.35] [0.51290709 0.43244998 0.38141109 0.49476375 0.4034097  0.3941513 ]\n",
      "(0.4365154840904386, array([0.51290709, 0.43244998, 0.38141109, 0.49476375, 0.4034097 ,\n",
      "       0.3941513 ]))\n"
     ]
    }
   ],
   "source": [
    "#w1,w2=0.5,0.1\n",
    "best_corr=np.zeros(num_classes)\n",
    "best_w1,best_w2=np.zeros(num_classes),np.zeros(num_classes)\n",
    "for w1 in np.arange(0.0,0.95,0.05):\n",
    "    for w2 in np.arange(0.0,1-w1,0.05):\n",
    "        y_ensemble=w1*y_val_preds_video+w2*y_val_preds_audio+(1-w1-w2)*y_val_preds_text\n",
    "        corr,class_wise_r=mean_pearsons(y_ensemble,y_val)\n",
    "        for i in range(num_classes):\n",
    "            if class_wise_r[i]>best_corr[i]:\n",
    "                best_corr[i]=class_wise_r[i]\n",
    "                best_w1[i],best_w2[i]=w1,w2\n",
    "\n",
    "print(best_w1,best_w2,best_corr)\n",
    "\n",
    "y_ensemble=np.zeros_like(y_val_preds_video)\n",
    "for i in range(num_classes):\n",
    "    y_ensemble[:,i]=best_w1[i]*y_val_preds_video[:,i]+best_w2[i]*y_val_preds_audio[:,i]+(1-best_w1[i]-best_w2[i])*y_val_preds_text[:,i]\n",
    "print(mean_pearsons(y_ensemble,y_val))"
   ]
  },
  {
   "cell_type": "markdown",
   "metadata": {},
   "source": [
    "mobilevit+hubert+roberta\n",
    "[0.   0.05 0.05 0.05 0.05 0.1 ] [0.8  0.9  0.7  0.4  0.85 0.8 ] [0.46687446 0.41836399 0.3807148  0.52988749 0.39705376 0.39120358]\n",
    "(0.4306830136169654, array([0.46687446, 0.41836399, 0.3807148 , 0.52988749, 0.39705376,\n",
    "       0.39120358]))\n",
    "       \n",
    "mobilevit+hubert+openai\n",
    "[0.   0.05 0.   0.   0.05 0.05] [0.2  0.2  0.35 0.3  0.35 0.35] [0.51290709 0.43244998 0.38141109 0.49476375 0.4034097  0.3941513 ]\n",
    "(0.4365154840904386, array([0.51290709, 0.43244998, 0.38141109, 0.49476375, 0.4034097 ,\n",
    "       0.3941513 ]))\n",
    "       \n",
    "mobilevit+hubert+gigachat\n",
    "[0.05 0.05 0.05 0.   0.1  0.1 ] [0.75 0.8  0.65 0.4  0.6  0.7 ] [0.49433237 0.44091871 0.39359524 0.49155982 0.4237371  0.39947285]\n",
    "(0.44060268359821003, array([0.49433237, 0.44091871, 0.39359524, 0.49155982, 0.4237371 ,\n",
    "       0.39947285]))\n",
    "       \n",
    "       \n",
    "       \n",
    "mbf+hubert+roberta\n",
    "[0.05 0.05 0.05 0.05 0.05 0.1 ] [0.75 0.85 0.75 0.5  0.8  0.75] [0.46844732 0.41324473 0.38176946 0.53361052 0.40212647 0.3939922 ]\n",
    "(0.43219844897490706, array([0.46844732, 0.41324473, 0.38176946, 0.53361052, 0.40212647,\n",
    "       0.3939922 ]))\n",
    "       \n",
    "       \n",
    "mbf+hubert+openai\n",
    "[0.   0.05 0.   0.   0.05 0.05] [0.2  0.05 0.35 0.3  0.2  0.25] [0.51290709 0.42016979 0.38141109 0.49476375 0.39749302 0.3961063 ]\n",
    "(0.4338085051984119, array([0.51290709, 0.42016979, 0.38141109, 0.49476375, 0.39749302,\n",
    "       0.3961063 ]))\n",
    "\n",
    "mbf+hubert+gigachat\n",
    "[0.05 0.05 0.05 0.05 0.05 0.1 ] [0.75 0.75 0.7  0.3  0.7  0.65] [0.49538242 0.43826385 0.3940833  0.49380334 0.429343   0.40250152]\n",
    "(0.44222957158669995, array([0.49538242, 0.43826385, 0.3940833 , 0.49380334, 0.429343  ,\n",
    "       0.40250152]))"
   ]
  },
  {
   "cell_type": "code",
   "execution_count": 58,
   "metadata": {},
   "outputs": [
    {
     "data": {
      "text/plain": [
       "<Figure size 216x216 with 0 Axes>"
      ]
     },
     "metadata": {},
     "output_type": "display_data"
    },
    {
     "data": {
      "image/png": "[encoded data removed]",
      "text/plain": [
       "<Figure size 432x288 with 2 Axes>"
      ]
     },
     "metadata": {
      "needs_background": "light"
     },
     "output_type": "display_data"
    },
    {
     "data": {
      "image/png": "[encoded data removed]",
      "text/plain": [
       "<Figure size 216x216 with 1 Axes>"
      ]
     },
     "metadata": {
      "needs_background": "light"
     },
     "output_type": "display_data"
    },
    {
     "data": {
      "text/plain": [
       "<Figure size 216x216 with 0 Axes>"
      ]
     },
     "metadata": {},
     "output_type": "display_data"
    },
    {
     "data": {
      "image/png": "[encoded data removed]",
      "text/plain": [
       "<Figure size 432x288 with 2 Axes>"
      ]
     },
     "metadata": {
      "needs_background": "light"
     },
     "output_type": "display_data"
    },
    {
     "data": {
      "image/png": "[encoded data removed]",
      "text/plain": [
       "<Figure size 216x216 with 1 Axes>"
      ]
     },
     "metadata": {
      "needs_background": "light"
     },
     "output_type": "display_data"
    },
    {
     "data": {
      "text/plain": [
       "<Figure size 216x216 with 0 Axes>"
      ]
     },
     "metadata": {},
     "output_type": "display_data"
    },
    {
     "data": {
      "image/png": "[encoded data removed]",
      "text/plain": [
       "<Figure size 432x288 with 2 Axes>"
      ]
     },
     "metadata": {
      "needs_background": "light"
     },
     "output_type": "display_data"
    },
    {
     "data": {
      "image/png": "[encoded data removed]",
      "text/plain": [
       "<Figure size 216x216 with 1 Axes>"
      ]
     },
     "metadata": {
      "needs_background": "light"
     },
     "output_type": "display_data"
    },
    {
     "data": {
      "text/plain": [
       "<Figure size 216x216 with 0 Axes>"
      ]
     },
     "metadata": {},
     "output_type": "display_data"
    },
    {
     "data": {
      "image/png": "[encoded data removed]",
      "text/plain": [
       "<Figure size 432x288 with 2 Axes>"
      ]
     },
     "metadata": {
      "needs_background": "light"
     },
     "output_type": "display_data"
    },
    {
     "data": {
      "image/png": "[encoded data removed]",
      "text/plain": [
       "<Figure size 216x216 with 1 Axes>"
      ]
     },
     "metadata": {
      "needs_background": "light"
     },
     "output_type": "display_data"
    },
    {
     "data": {
      "text/plain": [
       "<Figure size 216x216 with 0 Axes>"
      ]
     },
     "metadata": {},
     "output_type": "display_data"
    },
    {
     "data": {
      "image/png": "[encoded data removed]",
      "text/plain": [
       "<Figure size 432x288 with 2 Axes>"
      ]
     },
     "metadata": {
      "needs_background": "light"
     },
     "output_type": "display_data"
    },
    {
     "data": {
      "image/png": "[encoded data removed]",
      "text/plain": [
       "<Figure size 216x216 with 1 Axes>"
      ]
     },
     "metadata": {
      "needs_background": "light"
     },
     "output_type": "display_data"
    },
    {
     "data": {
      "text/plain": [
       "<Figure size 216x216 with 0 Axes>"
      ]
     },
     "metadata": {},
     "output_type": "display_data"
    },
    {
     "data": {
      "image/png": "[encoded data removed]",
      "text/plain": [
       "<Figure size 432x288 with 2 Axes>"
      ]
     },
     "metadata": {
      "needs_background": "light"
     },
     "output_type": "display_data"
    },
    {
     "data": {
      "image/png": "[encoded data removed]",
      "text/plain": [
       "<Figure size 216x216 with 1 Axes>"
      ]
     },
     "metadata": {
      "needs_background": "light"
     },
     "output_type": "display_data"
    }
   ],
   "source": [
    "for i, cls in enumerate(classes):\n",
    "    plt.figure(figsize=(3, 3))\n",
    "    fig, axs = plt.subplots(1, 2, sharey=True, tight_layout=True)\n",
    "    axs[0].hist(y_val[:,i], bins=20)\n",
    "    axs[0].set_title(cls+' (val)')\n",
    "    axs[1].hist(y_val_preds[:,i], bins=20)\n",
    "    axs[1].set_title(cls+' (pred)')\n",
    "\n",
    "    plt.figure(figsize=(3, 3))\n",
    "    plt.scatter(y_ensemble[:,i],y_val[:,i])\n",
    "    plt.xlabel('pred')\n",
    "    plt.ylabel('val')\n",
    "    plt.title(cls)"
   ]
  },
  {
   "cell_type": "markdown",
   "metadata": {},
   "source": [
    "ensemble\n",
    "audio agg features+ \n",
    "emi_mbf_va_face_images\n",
    "mbf_va agg features: (0.28981449809217746, array([0.30411956, 0.30041602, 0.25837018, 0.3147965 , 0.31599936,\n",
    "       0.24518537]))\n",
    "       \n",
    "#mbf va\n",
    "w=0.1\n",
    "y_ensemble=w*y_val_preds+(1-w)*y_val_preds_audio\n",
    "\n",
    "#y_ensemble[:,2]=y_val_preds_audio[:,2]\n",
    "#y_ensemble[:,3]=y_val_preds_audio[:,3]\n",
    "\n",
    "w=0.4\n",
    "y_ensemble[:,-1]=w*y_val_preds[:,-1]+(1-w)*y_val_preds_audio[:,-1]\n",
    "#(0.29894266463043945, array([0.30411956, 0.30041602, 0.25837018, 0.3147965 , 0.31599936,       0.29995437]))\n",
    "\n",
    "\n",
    "\n",
    "+mobilevit:\n",
    "0.1 (0.2828523451828629, array([0.30110888, 0.29684512, 0.25949711, 0.30738044, 0.31708184,\n",
    "       0.21520069]))\n",
    "w=0.1\n",
    "y_ensemble=w*y_val_preds+(1-w)*y_val_preds_audio\n",
    "\n",
    "y_ensemble[:,3]=y_val_preds_audio[:,3]\n",
    "\n",
    "w=0.5\n",
    "y_ensemble[:,-1]=w*y_val_preds[:,-1]+(1-w)*y_val_preds_audio[:,-1]\n",
    "#(0.2981795621039914, array([0.30110888, 0.29684512, 0.25949711, 0.31087313, 0.31708184, 0.3036713 ]))\n",
    "\n",
    "\n",
    "ddamfn_va\n",
    "0.1 (0.28359835070967354, array([0.3022263 , 0.29957365, 0.23646923, 0.30028883, 0.31403546,\n",
    "       0.24899663]))\n",
    "#ddamfnet\n",
    "w=0.1\n",
    "y_ensemble=w*y_val_preds+(1-w)*y_val_preds_audio\n",
    "\n",
    "y_ensemble[:,2]=y_val_preds_audio[:,2]\n",
    "y_ensemble[:,3]=y_val_preds_audio[:,3]\n",
    "\n",
    "w=0.4\n",
    "y_ensemble[:,-1]=w*y_val_preds[:,-1]+(1-w)*y_val_preds_audio[:,-1]\n",
    "\n",
    "print(mean_pearsons(y_ensemble,y_val))\n",
    "#(0.2952040356818089, array([0.3022263 , 0.29957365, 0.2457414 , 0.31087313, 0.31403546, 0.29877427]))"
   ]
  },
  {
   "cell_type": "markdown",
   "metadata": {},
   "source": [
    "# Save test results "
   ]
  },
  {
   "cell_type": "code",
   "execution_count": 45,
   "metadata": {},
   "outputs": [
    {
     "name": "stdout",
     "output_type": "stream",
     "text": [
      "/home/HDD6TB/datasets/emotions/ABAW/ABAW_8/EMI/test_data/outputs\n"
     ]
    }
   ],
   "source": [
    "OUTDIR=os.path.join(DATA_DIR,'test_data','outputs')\n",
    "print(OUTDIR)\n",
    "if not os.path.exists(OUTDIR):\n",
    "    os.makedirs(OUTDIR)"
   ]
  },
  {
   "cell_type": "code",
   "execution_count": 46,
   "metadata": {},
   "outputs": [],
   "source": [
    "def get_test_video_features(videoname2features,stat=False):\n",
    "    X=[]\n",
    "    for videoname in videoname2features:\n",
    "        features=videoname2features[videoname]\n",
    "\n",
    "        mean_features=features.mean(axis=0)\n",
    "        std_features=features.std(axis=0)\n",
    "        min_features=features.min(axis=0)\n",
    "        max_features=features.max(axis=0)\n",
    "        if stat:\n",
    "            aggregated_feature = np.concatenate((mean_features, std_features, min_features, max_features), axis=None)\n",
    "        else:\n",
    "            aggregated_feature=mean_features\n",
    "\n",
    "        X.append(aggregated_feature)\n",
    "    X=np.array(X)\n",
    "    print(X.shape)\n",
    "    return X"
   ]
  },
  {
   "cell_type": "code",
   "execution_count": 137,
   "metadata": {},
   "outputs": [
    {
     "name": "stdout",
     "output_type": "stream",
     "text": [
      "(4586, 40)\n",
      "(4586, 6)\n"
     ]
    }
   ],
   "source": [
    "#mlpModelFace.load_weights('test_mbf_va_face_images.h5') \n",
    "mlpModelFace.load_weights('test_mobilevit_va_face_images.h5') \n",
    "\n",
    "X_test=get_test_video_features(videoname2scores_test, True)\n",
    "y_test_video_preds=mlpModelFace.predict(X_test,verbose=0)\n",
    "print(y_test_preds.shape)"
   ]
  },
  {
   "cell_type": "code",
   "execution_count": 55,
   "metadata": {},
   "outputs": [
    {
     "name": "stdout",
     "output_type": "stream",
     "text": [
      "(4586, 1024)\n",
      "(4586, 6)\n"
     ]
    }
   ],
   "source": [
    "mlpModelAudio.load_weights('test_audio_hubert.h5') \n",
    "\n",
    "X_audio_test=get_test_video_features(videoname2audio_features_test)\n",
    "y_test_audio_preds=mlpModelAudio.predict(X_audio_test,verbose=0)\n",
    "print(y_test_audio_preds.shape)"
   ]
  },
  {
   "cell_type": "code",
   "execution_count": 148,
   "metadata": {},
   "outputs": [
    {
     "name": "stdout",
     "output_type": "stream",
     "text": [
      "(4586, 1536)\n",
      "(4586, 6)\n"
     ]
    }
   ],
   "source": [
    "#mlpModelText.load_weights('test_emi_text_roberta.h5') \n",
    "mlpModelText.load_weights('test_emi_text_openai.h5') \n",
    "#mlpModelText.load_weights('test_emi_text_gigachat.h5') \n",
    "\n",
    "X_text_test=get_test_video_features(videoname2text_features_test)\n",
    "y_test_text_preds=mlpModelText.predict(X_text_test,verbose=0)\n",
    "print(y_test_text_preds.shape)"
   ]
  },
  {
   "cell_type": "code",
   "execution_count": 149,
   "metadata": {},
   "outputs": [],
   "source": [
    "if False:\n",
    "    name='mobilevit_hubert_roberta'\n",
    "    best_w1=np.array([0.,   0.05, 0.05, 0.05, 0.05, 0.1 ])\n",
    "    best_w2=np.array([0.8,  0.9,  0.7,  0.4,  0.85, 0.8 ])\n",
    "elif True:\n",
    "    name='mobilevit_hubert_openai'\n",
    "    best_w1=np.array([0.,   0.05, 0.,   0.,   0.05, 0.05 ])\n",
    "    best_w2=np.array([0.2,  0.2,  0.35, 0.3,  0.35, 0.35])\n",
    "elif True:\n",
    "    name='mobilevit_hubert_gigachat'\n",
    "    best_w1=np.array([0.05, 0.05, 0.05, 0.,   0.1,  0.1 ])\n",
    "    best_w2=np.array([0.75, 0.8,  0.65, 0.4,  0.6,  0.7])\n",
    "elif False:\n",
    "    name='mbf_hubert_roberta'\n",
    "    best_w1=np.array([0.05, 0.05, 0.05, 0.05, 0.05, 0.1 ])\n",
    "    best_w2=np.array([0.75, 0.85, 0.75, 0.5,  0.8,  0.75])\n",
    "elif False:\n",
    "    name='mbf_hubert_openai'\n",
    "    best_w1=np.array([0.,   0.05, 0.,   0.,   0.05, 0.05 ])\n",
    "    best_w2=np.array([0.2,  0.05, 0.35, 0.3,  0.2,  0.25])\n",
    "elif False:\n",
    "    name='mbf_hubert_gigachat'\n",
    "    best_w1=np.array([0.05, 0.05, 0.05, 0.05, 0.05, 0.1 ])\n",
    "    best_w2=np.array([0.75, 0.75, 0.7,  0.3,  0.7,  0.65])\n",
    "\n",
    "y_ensemble=np.zeros_like(y_test_video_preds)\n",
    "for i in range(num_classes):\n",
    "    y_ensemble[:,i]=best_w1[i]*y_test_video_preds[:,i]+best_w2[i]*y_test_audio_preds[:,i]+(1-best_w1[i]-best_w2[i])*y_test_text_preds[:,i]\n",
    "\n",
    "with open(os.path.join(OUTDIR,name+'_train_val.txt'), 'w') as f:\n",
    "    f.write('Filename,Admiration,Amusement,Determination,Empathic Pain,Excitement,Joy\\n')\n",
    "    for videoname,y in zip(videoname2scores_test,y_ensemble):\n",
    "        f.write(videoname+','+','.join(map(str,y))+'\\n')"
   ]
  }
 ],
 "metadata": {
  "kernelspec": {
   "display_name": "Python 3",
   "language": "python",
   "name": "python3"
  },
  "language_info": {
   "codemirror_mode": {
    "name": "ipython",
    "version": 3
   },
   "file_extension": ".py",
   "mimetype": "text/x-python",
   "name": "python",
   "nbconvert_exporter": "python",
   "pygments_lexer": "ipython3",
   "version": "3.8.10"
  }
 },
 "nbformat": 4,
 "nbformat_minor": 2
}
