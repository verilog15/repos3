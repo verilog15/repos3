{
 "cells": [
  {
   "cell_type": "code",
   "execution_count": 1,
   "metadata": {},
   "outputs": [
    {
     "name": "stdout",
     "output_type": "stream",
     "text": [
      "env: CUDA_VISIBLE_DEVICES=1\n"
     ]
    }
   ],
   "source": [
    "%env CUDA_VISIBLE_DEVICES=1"
   ]
  },
  {
   "cell_type": "code",
   "execution_count": 2,
   "metadata": {},
   "outputs": [],
   "source": [
    "DATA_DIR = '/home/HDD6TB/datasets/emotions/ABAW/ABAW_5/VA_AU_FER'"
   ]
  },
  {
   "cell_type": "code",
   "execution_count": 3,
   "metadata": {},
   "outputs": [],
   "source": [
    "import os\n",
    "from PIL import Image\n",
    "import cv2\n",
    "import pathlib\n",
    "\n",
    "from sklearn.model_selection import train_test_split\n",
    "from sklearn import preprocessing\n",
    "from sklearn import svm\n",
    "from sklearn.ensemble import RandomForestClassifier,RandomForestRegressor\n",
    "from sklearn import svm,metrics,preprocessing\n",
    "from sklearn.neighbors import KNeighborsClassifier\n",
    "from sklearn.decomposition import PCA\n",
    "from sklearn.pipeline import Pipeline\n",
    "from sklearn.metrics import precision_score, recall_score, accuracy_score, f1_score,roc_auc_score,average_precision_score\n",
    "import mord\n",
    "\n",
    "from collections import defaultdict\n",
    "import os\n",
    "import glob\n",
    "import random\n",
    "import numpy as np\n",
    "from tqdm import tqdm\n",
    "import time\n",
    "import pickle\n",
    "import pandas as pd\n",
    "import random\n",
    "import csv  \n",
    "import matplotlib.pyplot as plt"
   ]
  },
  {
   "cell_type": "code",
   "execution_count": 4,
   "metadata": {},
   "outputs": [],
   "source": [
    "def get_names(id):\n",
    "    name = \"\"\n",
    "    if id>=0 and id<10:\n",
    "        name = \"0000\" + str(id)\n",
    "    elif id>=10 and id<100:\n",
    "        name = \"000\" + str(id)\n",
    "    elif id>=100 and id<1000:\n",
    "        name = \"00\" + str(id)\n",
    "    elif id>=1000 and id<10000:\n",
    "        name = \"0\" + str(id)\n",
    "    else:\n",
    "        name = str(id)\n",
    "    return name"
   ]
  },
  {
   "cell_type": "code",
   "execution_count": 5,
   "metadata": {},
   "outputs": [],
   "source": [
    "compare_filenames=lambda x: int(os.path.splitext(x)[0])"
   ]
  },
  {
   "cell_type": "markdown",
   "metadata": {},
   "source": [
    "## PyTorch"
   ]
  },
  {
   "cell_type": "code",
   "execution_count": 6,
   "metadata": {},
   "outputs": [
    {
     "name": "stdout",
     "output_type": "stream",
     "text": [
      "Torch: 1.7.1+cu110\n",
      "True\n"
     ]
    }
   ],
   "source": [
    "import glob\n",
    "from itertools import chain\n",
    "import os\n",
    "import random\n",
    "import zipfile\n",
    "\n",
    "import matplotlib.pyplot as plt\n",
    "import numpy as np\n",
    "import pandas as pd\n",
    "import torch\n",
    "import torch.nn as nn\n",
    "import torch.nn.functional as F\n",
    "import torch.optim as optim\n",
    "from PIL import Image\n",
    "from sklearn.model_selection import train_test_split\n",
    "from torch.optim.lr_scheduler import StepLR\n",
    "from torch.utils.data import DataLoader, Dataset\n",
    "from torchvision import datasets, transforms\n",
    "from tqdm.notebook import tqdm\n",
    "\n",
    "print(f\"Torch: {torch.__version__}\")\n",
    "device = 'cuda'\n",
    "use_cuda = torch.cuda.is_available()\n",
    "print(use_cuda)"
   ]
  },
  {
   "cell_type": "code",
   "execution_count": 7,
   "metadata": {},
   "outputs": [],
   "source": [
    "if False:\n",
    "    PATH='enet_b2_8.pt'\n",
    "    #PATH='enet_b2_7.pt'\n",
    "    IMG_SIZE=260 #224 #\n",
    "else:\n",
    "    #PATH='enet_b0_8_best_afew.pt'\n",
    "    PATH='enet_b0_8_best_vgaf.pt'\n",
    "    \n",
    "    #PATH='enet_b0_8_va_mtl.pt'\n",
    "    IMG_SIZE=224\n",
    "    \n",
    "#IMG_SIZE=112\n",
    "\n",
    "test_transforms = transforms.Compose(\n",
    "    [\n",
    "        transforms.Resize((IMG_SIZE,IMG_SIZE)),\n",
    "        #transforms.RandomHorizontalFlip(),\n",
    "        transforms.ToTensor(),\n",
    "        transforms.Normalize(mean=[0.485, 0.456, 0.406],\n",
    "                                     std=[0.229, 0.224, 0.225])\n",
    "    ]\n",
    ")\n",
    "np_transforms = transforms.Compose(\n",
    "    [\n",
    "        transforms.ToPILImage(None),\n",
    "        transforms.Resize((IMG_SIZE,IMG_SIZE)),\n",
    "        #transforms.RandomHorizontalFlip(),\n",
    "        transforms.ToTensor(),\n",
    "        transforms.Normalize(mean=[0.485, 0.456, 0.406],\n",
    "                                     std=[0.229, 0.224, 0.225])\n",
    "    ]\n",
    ")\n"
   ]
  },
  {
   "cell_type": "code",
   "execution_count": 22,
   "metadata": {},
   "outputs": [
    {
     "name": "stdout",
     "output_type": "stream",
     "text": [
      "enet_b0_8_best_vgaf.pt\n"
     ]
    }
   ],
   "source": [
    "print(PATH)\n",
    "feature_extractor_model = torch.load('../../models/affectnet_emotions/'+PATH)"
   ]
  },
  {
   "cell_type": "code",
   "execution_count": 8,
   "metadata": {},
   "outputs": [
    {
     "name": "stdout",
     "output_type": "stream",
     "text": [
      "(10, 1280) [[ 0.00679121  0.09001139  0.0694934  ...  0.10351563 -0.00995514\n",
      "  -0.17376047]\n",
      " [-0.004085   -0.07134113 -0.12164655 ... -0.05029012  0.03059323\n",
      "   0.08198261]\n",
      " [-0.0034241  -0.06510569 -0.00448079 ...  0.04248156 -0.10535879\n",
      "  -0.00544419]\n",
      " ...\n",
      " [ 0.07878461 -0.03540913 -0.06665969 ... -0.10314589  0.1332206\n",
      "  -0.06119434]\n",
      " [-0.02409821 -0.00270485  0.00887998 ... -0.00501176  0.01345664\n",
      "  -0.02131553]\n",
      " [-0.04529824 -0.04590099 -0.00950194 ...  0.00753843  0.02128105\n",
      "  -0.05743075]]\n",
      "(10,) [-0.03629377 -0.00268708 -0.05411524  0.01482256  0.13788255  0.09921926\n",
      " -0.05259513 -0.0124341   0.0816549   0.04621203]\n"
     ]
    }
   ],
   "source": [
    "if False:\n",
    "    classifier_weights=feature_extractor_model.classifier[0].weight.cpu().data.numpy()\n",
    "    classifier_bias=feature_extractor_model.classifier[0].bias.cpu().data.numpy()\n",
    "else:\n",
    "    classifier_weights=feature_extractor_model.classifier.weight.cpu().data.numpy()\n",
    "    classifier_bias=feature_extractor_model.classifier.bias.cpu().data.numpy()\n",
    "print(classifier_weights.shape,classifier_weights)\n",
    "print(classifier_bias.shape,classifier_bias)"
   ]
  },
  {
   "cell_type": "code",
   "execution_count": 9,
   "metadata": {},
   "outputs": [
    {
     "data": {
      "text/plain": [
       "EfficientNet(\n",
       "  (conv_stem): Conv2dSame(3, 32, kernel_size=(3, 3), stride=(2, 2), bias=False)\n",
       "  (bn1): BatchNormAct2d(\n",
       "    32, eps=0.001, momentum=0.1, affine=True, track_running_stats=True\n",
       "    (drop): Identity()\n",
       "    (act): SiLU(inplace=True)\n",
       "  )\n",
       "  (blocks): Sequential(\n",
       "    (0): Sequential(\n",
       "      (0): DepthwiseSeparableConv(\n",
       "        (conv_dw): Conv2d(32, 32, kernel_size=(3, 3), stride=(1, 1), padding=(1, 1), groups=32, bias=False)\n",
       "        (bn1): BatchNormAct2d(\n",
       "          32, eps=0.001, momentum=0.1, affine=True, track_running_stats=True\n",
       "          (drop): Identity()\n",
       "          (act): SiLU(inplace=True)\n",
       "        )\n",
       "        (se): SqueezeExcite(\n",
       "          (conv_reduce): Conv2d(32, 8, kernel_size=(1, 1), stride=(1, 1))\n",
       "          (act1): SiLU(inplace=True)\n",
       "          (conv_expand): Conv2d(8, 32, kernel_size=(1, 1), stride=(1, 1))\n",
       "          (gate): Sigmoid()\n",
       "        )\n",
       "        (conv_pw): Conv2d(32, 16, kernel_size=(1, 1), stride=(1, 1), bias=False)\n",
       "        (bn2): BatchNormAct2d(\n",
       "          16, eps=0.001, momentum=0.1, affine=True, track_running_stats=True\n",
       "          (drop): Identity()\n",
       "          (act): Identity()\n",
       "        )\n",
       "        (drop_path): Identity()\n",
       "      )\n",
       "    )\n",
       "    (1): Sequential(\n",
       "      (0): InvertedResidual(\n",
       "        (conv_pw): Conv2d(16, 96, kernel_size=(1, 1), stride=(1, 1), bias=False)\n",
       "        (bn1): BatchNormAct2d(\n",
       "          96, eps=0.001, momentum=0.1, affine=True, track_running_stats=True\n",
       "          (drop): Identity()\n",
       "          (act): SiLU(inplace=True)\n",
       "        )\n",
       "        (conv_dw): Conv2dSame(96, 96, kernel_size=(3, 3), stride=(2, 2), groups=96, bias=False)\n",
       "        (bn2): BatchNormAct2d(\n",
       "          96, eps=0.001, momentum=0.1, affine=True, track_running_stats=True\n",
       "          (drop): Identity()\n",
       "          (act): SiLU(inplace=True)\n",
       "        )\n",
       "        (se): SqueezeExcite(\n",
       "          (conv_reduce): Conv2d(96, 4, kernel_size=(1, 1), stride=(1, 1))\n",
       "          (act1): SiLU(inplace=True)\n",
       "          (conv_expand): Conv2d(4, 96, kernel_size=(1, 1), stride=(1, 1))\n",
       "          (gate): Sigmoid()\n",
       "        )\n",
       "        (conv_pwl): Conv2d(96, 24, kernel_size=(1, 1), stride=(1, 1), bias=False)\n",
       "        (bn3): BatchNormAct2d(\n",
       "          24, eps=0.001, momentum=0.1, affine=True, track_running_stats=True\n",
       "          (drop): Identity()\n",
       "          (act): Identity()\n",
       "        )\n",
       "        (drop_path): Identity()\n",
       "      )\n",
       "      (1): InvertedResidual(\n",
       "        (conv_pw): Conv2d(24, 144, kernel_size=(1, 1), stride=(1, 1), bias=False)\n",
       "        (bn1): BatchNormAct2d(\n",
       "          144, eps=0.001, momentum=0.1, affine=True, track_running_stats=True\n",
       "          (drop): Identity()\n",
       "          (act): SiLU(inplace=True)\n",
       "        )\n",
       "        (conv_dw): Conv2d(144, 144, kernel_size=(3, 3), stride=(1, 1), padding=(1, 1), groups=144, bias=False)\n",
       "        (bn2): BatchNormAct2d(\n",
       "          144, eps=0.001, momentum=0.1, affine=True, track_running_stats=True\n",
       "          (drop): Identity()\n",
       "          (act): SiLU(inplace=True)\n",
       "        )\n",
       "        (se): SqueezeExcite(\n",
       "          (conv_reduce): Conv2d(144, 6, kernel_size=(1, 1), stride=(1, 1))\n",
       "          (act1): SiLU(inplace=True)\n",
       "          (conv_expand): Conv2d(6, 144, kernel_size=(1, 1), stride=(1, 1))\n",
       "          (gate): Sigmoid()\n",
       "        )\n",
       "        (conv_pwl): Conv2d(144, 24, kernel_size=(1, 1), stride=(1, 1), bias=False)\n",
       "        (bn3): BatchNormAct2d(\n",
       "          24, eps=0.001, momentum=0.1, affine=True, track_running_stats=True\n",
       "          (drop): Identity()\n",
       "          (act): Identity()\n",
       "        )\n",
       "        (drop_path): Identity()\n",
       "      )\n",
       "    )\n",
       "    (2): Sequential(\n",
       "      (0): InvertedResidual(\n",
       "        (conv_pw): Conv2d(24, 144, kernel_size=(1, 1), stride=(1, 1), bias=False)\n",
       "        (bn1): BatchNormAct2d(\n",
       "          144, eps=0.001, momentum=0.1, affine=True, track_running_stats=True\n",
       "          (drop): Identity()\n",
       "          (act): SiLU(inplace=True)\n",
       "        )\n",
       "        (conv_dw): Conv2dSame(144, 144, kernel_size=(5, 5), stride=(2, 2), groups=144, bias=False)\n",
       "        (bn2): BatchNormAct2d(\n",
       "          144, eps=0.001, momentum=0.1, affine=True, track_running_stats=True\n",
       "          (drop): Identity()\n",
       "          (act): SiLU(inplace=True)\n",
       "        )\n",
       "        (se): SqueezeExcite(\n",
       "          (conv_reduce): Conv2d(144, 6, kernel_size=(1, 1), stride=(1, 1))\n",
       "          (act1): SiLU(inplace=True)\n",
       "          (conv_expand): Conv2d(6, 144, kernel_size=(1, 1), stride=(1, 1))\n",
       "          (gate): Sigmoid()\n",
       "        )\n",
       "        (conv_pwl): Conv2d(144, 40, kernel_size=(1, 1), stride=(1, 1), bias=False)\n",
       "        (bn3): BatchNormAct2d(\n",
       "          40, eps=0.001, momentum=0.1, affine=True, track_running_stats=True\n",
       "          (drop): Identity()\n",
       "          (act): Identity()\n",
       "        )\n",
       "        (drop_path): Identity()\n",
       "      )\n",
       "      (1): InvertedResidual(\n",
       "        (conv_pw): Conv2d(40, 240, kernel_size=(1, 1), stride=(1, 1), bias=False)\n",
       "        (bn1): BatchNormAct2d(\n",
       "          240, eps=0.001, momentum=0.1, affine=True, track_running_stats=True\n",
       "          (drop): Identity()\n",
       "          (act): SiLU(inplace=True)\n",
       "        )\n",
       "        (conv_dw): Conv2d(240, 240, kernel_size=(5, 5), stride=(1, 1), padding=(2, 2), groups=240, bias=False)\n",
       "        (bn2): BatchNormAct2d(\n",
       "          240, eps=0.001, momentum=0.1, affine=True, track_running_stats=True\n",
       "          (drop): Identity()\n",
       "          (act): SiLU(inplace=True)\n",
       "        )\n",
       "        (se): SqueezeExcite(\n",
       "          (conv_reduce): Conv2d(240, 10, kernel_size=(1, 1), stride=(1, 1))\n",
       "          (act1): SiLU(inplace=True)\n",
       "          (conv_expand): Conv2d(10, 240, kernel_size=(1, 1), stride=(1, 1))\n",
       "          (gate): Sigmoid()\n",
       "        )\n",
       "        (conv_pwl): Conv2d(240, 40, kernel_size=(1, 1), stride=(1, 1), bias=False)\n",
       "        (bn3): BatchNormAct2d(\n",
       "          40, eps=0.001, momentum=0.1, affine=True, track_running_stats=True\n",
       "          (drop): Identity()\n",
       "          (act): Identity()\n",
       "        )\n",
       "        (drop_path): Identity()\n",
       "      )\n",
       "    )\n",
       "    (3): Sequential(\n",
       "      (0): InvertedResidual(\n",
       "        (conv_pw): Conv2d(40, 240, kernel_size=(1, 1), stride=(1, 1), bias=False)\n",
       "        (bn1): BatchNormAct2d(\n",
       "          240, eps=0.001, momentum=0.1, affine=True, track_running_stats=True\n",
       "          (drop): Identity()\n",
       "          (act): SiLU(inplace=True)\n",
       "        )\n",
       "        (conv_dw): Conv2dSame(240, 240, kernel_size=(3, 3), stride=(2, 2), groups=240, bias=False)\n",
       "        (bn2): BatchNormAct2d(\n",
       "          240, eps=0.001, momentum=0.1, affine=True, track_running_stats=True\n",
       "          (drop): Identity()\n",
       "          (act): SiLU(inplace=True)\n",
       "        )\n",
       "        (se): SqueezeExcite(\n",
       "          (conv_reduce): Conv2d(240, 10, kernel_size=(1, 1), stride=(1, 1))\n",
       "          (act1): SiLU(inplace=True)\n",
       "          (conv_expand): Conv2d(10, 240, kernel_size=(1, 1), stride=(1, 1))\n",
       "          (gate): Sigmoid()\n",
       "        )\n",
       "        (conv_pwl): Conv2d(240, 80, kernel_size=(1, 1), stride=(1, 1), bias=False)\n",
       "        (bn3): BatchNormAct2d(\n",
       "          80, eps=0.001, momentum=0.1, affine=True, track_running_stats=True\n",
       "          (drop): Identity()\n",
       "          (act): Identity()\n",
       "        )\n",
       "        (drop_path): Identity()\n",
       "      )\n",
       "      (1): InvertedResidual(\n",
       "        (conv_pw): Conv2d(80, 480, kernel_size=(1, 1), stride=(1, 1), bias=False)\n",
       "        (bn1): BatchNormAct2d(\n",
       "          480, eps=0.001, momentum=0.1, affine=True, track_running_stats=True\n",
       "          (drop): Identity()\n",
       "          (act): SiLU(inplace=True)\n",
       "        )\n",
       "        (conv_dw): Conv2d(480, 480, kernel_size=(3, 3), stride=(1, 1), padding=(1, 1), groups=480, bias=False)\n",
       "        (bn2): BatchNormAct2d(\n",
       "          480, eps=0.001, momentum=0.1, affine=True, track_running_stats=True\n",
       "          (drop): Identity()\n",
       "          (act): SiLU(inplace=True)\n",
       "        )\n",
       "        (se): SqueezeExcite(\n",
       "          (conv_reduce): Conv2d(480, 20, kernel_size=(1, 1), stride=(1, 1))\n",
       "          (act1): SiLU(inplace=True)\n",
       "          (conv_expand): Conv2d(20, 480, kernel_size=(1, 1), stride=(1, 1))\n",
       "          (gate): Sigmoid()\n",
       "        )\n",
       "        (conv_pwl): Conv2d(480, 80, kernel_size=(1, 1), stride=(1, 1), bias=False)\n",
       "        (bn3): BatchNormAct2d(\n",
       "          80, eps=0.001, momentum=0.1, affine=True, track_running_stats=True\n",
       "          (drop): Identity()\n",
       "          (act): Identity()\n",
       "        )\n",
       "        (drop_path): Identity()\n",
       "      )\n",
       "      (2): InvertedResidual(\n",
       "        (conv_pw): Conv2d(80, 480, kernel_size=(1, 1), stride=(1, 1), bias=False)\n",
       "        (bn1): BatchNormAct2d(\n",
       "          480, eps=0.001, momentum=0.1, affine=True, track_running_stats=True\n",
       "          (drop): Identity()\n",
       "          (act): SiLU(inplace=True)\n",
       "        )\n",
       "        (conv_dw): Conv2d(480, 480, kernel_size=(3, 3), stride=(1, 1), padding=(1, 1), groups=480, bias=False)\n",
       "        (bn2): BatchNormAct2d(\n",
       "          480, eps=0.001, momentum=0.1, affine=True, track_running_stats=True\n",
       "          (drop): Identity()\n",
       "          (act): SiLU(inplace=True)\n",
       "        )\n",
       "        (se): SqueezeExcite(\n",
       "          (conv_reduce): Conv2d(480, 20, kernel_size=(1, 1), stride=(1, 1))\n",
       "          (act1): SiLU(inplace=True)\n",
       "          (conv_expand): Conv2d(20, 480, kernel_size=(1, 1), stride=(1, 1))\n",
       "          (gate): Sigmoid()\n",
       "        )\n",
       "        (conv_pwl): Conv2d(480, 80, kernel_size=(1, 1), stride=(1, 1), bias=False)\n",
       "        (bn3): BatchNormAct2d(\n",
       "          80, eps=0.001, momentum=0.1, affine=True, track_running_stats=True\n",
       "          (drop): Identity()\n",
       "          (act): Identity()\n",
       "        )\n",
       "        (drop_path): Identity()\n",
       "      )\n",
       "    )\n",
       "    (4): Sequential(\n",
       "      (0): InvertedResidual(\n",
       "        (conv_pw): Conv2d(80, 480, kernel_size=(1, 1), stride=(1, 1), bias=False)\n",
       "        (bn1): BatchNormAct2d(\n",
       "          480, eps=0.001, momentum=0.1, affine=True, track_running_stats=True\n",
       "          (drop): Identity()\n",
       "          (act): SiLU(inplace=True)\n",
       "        )\n",
       "        (conv_dw): Conv2d(480, 480, kernel_size=(5, 5), stride=(1, 1), padding=(2, 2), groups=480, bias=False)\n",
       "        (bn2): BatchNormAct2d(\n",
       "          480, eps=0.001, momentum=0.1, affine=True, track_running_stats=True\n",
       "          (drop): Identity()\n",
       "          (act): SiLU(inplace=True)\n",
       "        )\n",
       "        (se): SqueezeExcite(\n",
       "          (conv_reduce): Conv2d(480, 20, kernel_size=(1, 1), stride=(1, 1))\n",
       "          (act1): SiLU(inplace=True)\n",
       "          (conv_expand): Conv2d(20, 480, kernel_size=(1, 1), stride=(1, 1))\n",
       "          (gate): Sigmoid()\n",
       "        )\n",
       "        (conv_pwl): Conv2d(480, 112, kernel_size=(1, 1), stride=(1, 1), bias=False)\n",
       "        (bn3): BatchNormAct2d(\n",
       "          112, eps=0.001, momentum=0.1, affine=True, track_running_stats=True\n",
       "          (drop): Identity()\n",
       "          (act): Identity()\n",
       "        )\n",
       "        (drop_path): Identity()\n",
       "      )\n",
       "      (1): InvertedResidual(\n",
       "        (conv_pw): Conv2d(112, 672, kernel_size=(1, 1), stride=(1, 1), bias=False)\n",
       "        (bn1): BatchNormAct2d(\n",
       "          672, eps=0.001, momentum=0.1, affine=True, track_running_stats=True\n",
       "          (drop): Identity()\n",
       "          (act): SiLU(inplace=True)\n",
       "        )\n",
       "        (conv_dw): Conv2d(672, 672, kernel_size=(5, 5), stride=(1, 1), padding=(2, 2), groups=672, bias=False)\n",
       "        (bn2): BatchNormAct2d(\n",
       "          672, eps=0.001, momentum=0.1, affine=True, track_running_stats=True\n",
       "          (drop): Identity()\n",
       "          (act): SiLU(inplace=True)\n",
       "        )\n",
       "        (se): SqueezeExcite(\n",
       "          (conv_reduce): Conv2d(672, 28, kernel_size=(1, 1), stride=(1, 1))\n",
       "          (act1): SiLU(inplace=True)\n",
       "          (conv_expand): Conv2d(28, 672, kernel_size=(1, 1), stride=(1, 1))\n",
       "          (gate): Sigmoid()\n",
       "        )\n",
       "        (conv_pwl): Conv2d(672, 112, kernel_size=(1, 1), stride=(1, 1), bias=False)\n",
       "        (bn3): BatchNormAct2d(\n",
       "          112, eps=0.001, momentum=0.1, affine=True, track_running_stats=True\n",
       "          (drop): Identity()\n",
       "          (act): Identity()\n",
       "        )\n",
       "        (drop_path): Identity()\n",
       "      )\n",
       "      (2): InvertedResidual(\n",
       "        (conv_pw): Conv2d(112, 672, kernel_size=(1, 1), stride=(1, 1), bias=False)\n",
       "        (bn1): BatchNormAct2d(\n",
       "          672, eps=0.001, momentum=0.1, affine=True, track_running_stats=True\n",
       "          (drop): Identity()\n",
       "          (act): SiLU(inplace=True)\n",
       "        )\n",
       "        (conv_dw): Conv2d(672, 672, kernel_size=(5, 5), stride=(1, 1), padding=(2, 2), groups=672, bias=False)\n",
       "        (bn2): BatchNormAct2d(\n",
       "          672, eps=0.001, momentum=0.1, affine=True, track_running_stats=True\n",
       "          (drop): Identity()\n",
       "          (act): SiLU(inplace=True)\n",
       "        )\n",
       "        (se): SqueezeExcite(\n",
       "          (conv_reduce): Conv2d(672, 28, kernel_size=(1, 1), stride=(1, 1))\n",
       "          (act1): SiLU(inplace=True)\n",
       "          (conv_expand): Conv2d(28, 672, kernel_size=(1, 1), stride=(1, 1))\n",
       "          (gate): Sigmoid()\n",
       "        )\n",
       "        (conv_pwl): Conv2d(672, 112, kernel_size=(1, 1), stride=(1, 1), bias=False)\n",
       "        (bn3): BatchNormAct2d(\n",
       "          112, eps=0.001, momentum=0.1, affine=True, track_running_stats=True\n",
       "          (drop): Identity()\n",
       "          (act): Identity()\n",
       "        )\n",
       "        (drop_path): Identity()\n",
       "      )\n",
       "    )\n",
       "    (5): Sequential(\n",
       "      (0): InvertedResidual(\n",
       "        (conv_pw): Conv2d(112, 672, kernel_size=(1, 1), stride=(1, 1), bias=False)\n",
       "        (bn1): BatchNormAct2d(\n",
       "          672, eps=0.001, momentum=0.1, affine=True, track_running_stats=True\n",
       "          (drop): Identity()\n",
       "          (act): SiLU(inplace=True)\n",
       "        )\n",
       "        (conv_dw): Conv2dSame(672, 672, kernel_size=(5, 5), stride=(2, 2), groups=672, bias=False)\n",
       "        (bn2): BatchNormAct2d(\n",
       "          672, eps=0.001, momentum=0.1, affine=True, track_running_stats=True\n",
       "          (drop): Identity()\n",
       "          (act): SiLU(inplace=True)\n",
       "        )\n",
       "        (se): SqueezeExcite(\n",
       "          (conv_reduce): Conv2d(672, 28, kernel_size=(1, 1), stride=(1, 1))\n",
       "          (act1): SiLU(inplace=True)\n",
       "          (conv_expand): Conv2d(28, 672, kernel_size=(1, 1), stride=(1, 1))\n",
       "          (gate): Sigmoid()\n",
       "        )\n",
       "        (conv_pwl): Conv2d(672, 192, kernel_size=(1, 1), stride=(1, 1), bias=False)\n",
       "        (bn3): BatchNormAct2d(\n",
       "          192, eps=0.001, momentum=0.1, affine=True, track_running_stats=True\n",
       "          (drop): Identity()\n",
       "          (act): Identity()\n",
       "        )\n",
       "        (drop_path): Identity()\n",
       "      )\n",
       "      (1): InvertedResidual(\n",
       "        (conv_pw): Conv2d(192, 1152, kernel_size=(1, 1), stride=(1, 1), bias=False)\n",
       "        (bn1): BatchNormAct2d(\n",
       "          1152, eps=0.001, momentum=0.1, affine=True, track_running_stats=True\n",
       "          (drop): Identity()\n",
       "          (act): SiLU(inplace=True)\n",
       "        )\n",
       "        (conv_dw): Conv2d(1152, 1152, kernel_size=(5, 5), stride=(1, 1), padding=(2, 2), groups=1152, bias=False)\n",
       "        (bn2): BatchNormAct2d(\n",
       "          1152, eps=0.001, momentum=0.1, affine=True, track_running_stats=True\n",
       "          (drop): Identity()\n",
       "          (act): SiLU(inplace=True)\n",
       "        )\n",
       "        (se): SqueezeExcite(\n",
       "          (conv_reduce): Conv2d(1152, 48, kernel_size=(1, 1), stride=(1, 1))\n",
       "          (act1): SiLU(inplace=True)\n",
       "          (conv_expand): Conv2d(48, 1152, kernel_size=(1, 1), stride=(1, 1))\n",
       "          (gate): Sigmoid()\n",
       "        )\n",
       "        (conv_pwl): Conv2d(1152, 192, kernel_size=(1, 1), stride=(1, 1), bias=False)\n",
       "        (bn3): BatchNormAct2d(\n",
       "          192, eps=0.001, momentum=0.1, affine=True, track_running_stats=True\n",
       "          (drop): Identity()\n",
       "          (act): Identity()\n",
       "        )\n",
       "        (drop_path): Identity()\n",
       "      )\n",
       "      (2): InvertedResidual(\n",
       "        (conv_pw): Conv2d(192, 1152, kernel_size=(1, 1), stride=(1, 1), bias=False)\n",
       "        (bn1): BatchNormAct2d(\n",
       "          1152, eps=0.001, momentum=0.1, affine=True, track_running_stats=True\n",
       "          (drop): Identity()\n",
       "          (act): SiLU(inplace=True)\n",
       "        )\n",
       "        (conv_dw): Conv2d(1152, 1152, kernel_size=(5, 5), stride=(1, 1), padding=(2, 2), groups=1152, bias=False)\n",
       "        (bn2): BatchNormAct2d(\n",
       "          1152, eps=0.001, momentum=0.1, affine=True, track_running_stats=True\n",
       "          (drop): Identity()\n",
       "          (act): SiLU(inplace=True)\n",
       "        )\n",
       "        (se): SqueezeExcite(\n",
       "          (conv_reduce): Conv2d(1152, 48, kernel_size=(1, 1), stride=(1, 1))\n",
       "          (act1): SiLU(inplace=True)\n",
       "          (conv_expand): Conv2d(48, 1152, kernel_size=(1, 1), stride=(1, 1))\n",
       "          (gate): Sigmoid()\n",
       "        )\n",
       "        (conv_pwl): Conv2d(1152, 192, kernel_size=(1, 1), stride=(1, 1), bias=False)\n",
       "        (bn3): BatchNormAct2d(\n",
       "          192, eps=0.001, momentum=0.1, affine=True, track_running_stats=True\n",
       "          (drop): Identity()\n",
       "          (act): Identity()\n",
       "        )\n",
       "        (drop_path): Identity()\n",
       "      )\n",
       "      (3): InvertedResidual(\n",
       "        (conv_pw): Conv2d(192, 1152, kernel_size=(1, 1), stride=(1, 1), bias=False)\n",
       "        (bn1): BatchNormAct2d(\n",
       "          1152, eps=0.001, momentum=0.1, affine=True, track_running_stats=True\n",
       "          (drop): Identity()\n",
       "          (act): SiLU(inplace=True)\n",
       "        )\n",
       "        (conv_dw): Conv2d(1152, 1152, kernel_size=(5, 5), stride=(1, 1), padding=(2, 2), groups=1152, bias=False)\n",
       "        (bn2): BatchNormAct2d(\n",
       "          1152, eps=0.001, momentum=0.1, affine=True, track_running_stats=True\n",
       "          (drop): Identity()\n",
       "          (act): SiLU(inplace=True)\n",
       "        )\n",
       "        (se): SqueezeExcite(\n",
       "          (conv_reduce): Conv2d(1152, 48, kernel_size=(1, 1), stride=(1, 1))\n",
       "          (act1): SiLU(inplace=True)\n",
       "          (conv_expand): Conv2d(48, 1152, kernel_size=(1, 1), stride=(1, 1))\n",
       "          (gate): Sigmoid()\n",
       "        )\n",
       "        (conv_pwl): Conv2d(1152, 192, kernel_size=(1, 1), stride=(1, 1), bias=False)\n",
       "        (bn3): BatchNormAct2d(\n",
       "          192, eps=0.001, momentum=0.1, affine=True, track_running_stats=True\n",
       "          (drop): Identity()\n",
       "          (act): Identity()\n",
       "        )\n",
       "        (drop_path): Identity()\n",
       "      )\n",
       "    )\n",
       "    (6): Sequential(\n",
       "      (0): InvertedResidual(\n",
       "        (conv_pw): Conv2d(192, 1152, kernel_size=(1, 1), stride=(1, 1), bias=False)\n",
       "        (bn1): BatchNormAct2d(\n",
       "          1152, eps=0.001, momentum=0.1, affine=True, track_running_stats=True\n",
       "          (drop): Identity()\n",
       "          (act): SiLU(inplace=True)\n",
       "        )\n",
       "        (conv_dw): Conv2d(1152, 1152, kernel_size=(3, 3), stride=(1, 1), padding=(1, 1), groups=1152, bias=False)\n",
       "        (bn2): BatchNormAct2d(\n",
       "          1152, eps=0.001, momentum=0.1, affine=True, track_running_stats=True\n",
       "          (drop): Identity()\n",
       "          (act): SiLU(inplace=True)\n",
       "        )\n",
       "        (se): SqueezeExcite(\n",
       "          (conv_reduce): Conv2d(1152, 48, kernel_size=(1, 1), stride=(1, 1))\n",
       "          (act1): SiLU(inplace=True)\n",
       "          (conv_expand): Conv2d(48, 1152, kernel_size=(1, 1), stride=(1, 1))\n",
       "          (gate): Sigmoid()\n",
       "        )\n",
       "        (conv_pwl): Conv2d(1152, 320, kernel_size=(1, 1), stride=(1, 1), bias=False)\n",
       "        (bn3): BatchNormAct2d(\n",
       "          320, eps=0.001, momentum=0.1, affine=True, track_running_stats=True\n",
       "          (drop): Identity()\n",
       "          (act): Identity()\n",
       "        )\n",
       "        (drop_path): Identity()\n",
       "      )\n",
       "    )\n",
       "  )\n",
       "  (conv_head): Conv2d(320, 1280, kernel_size=(1, 1), stride=(1, 1), bias=False)\n",
       "  (bn2): BatchNormAct2d(\n",
       "    1280, eps=0.001, momentum=0.1, affine=True, track_running_stats=True\n",
       "    (drop): Identity()\n",
       "    (act): SiLU(inplace=True)\n",
       "  )\n",
       "  (global_pool): SelectAdaptivePool2d (pool_type=avg, flatten=Flatten(start_dim=1, end_dim=-1))\n",
       "  (classifier): Identity()\n",
       ")"
      ]
     },
     "execution_count": 9,
     "metadata": {},
     "output_type": "execute_result"
    }
   ],
   "source": [
    "feature_extractor_model.classifier=torch.nn.Identity()\n",
    "feature_extractor_model=feature_extractor_model.to(device)\n",
    "feature_extractor_model.eval()"
   ]
  },
  {
   "cell_type": "code",
   "execution_count": 79,
   "metadata": {},
   "outputs": [],
   "source": [
    "def get_probab(features):\n",
    "    x=np.dot(features,np.transpose(classifier_weights))+classifier_bias\n",
    "    return x"
   ]
  },
  {
   "cell_type": "markdown",
   "metadata": {},
   "source": [
    "## Aligned"
   ]
  },
  {
   "cell_type": "code",
   "execution_count": 12,
   "metadata": {},
   "outputs": [
    {
     "name": "stdout",
     "output_type": "stream",
     "text": [
      "Compose(\n",
      "    Resize(size=(112, 112), interpolation=PIL.Image.BILINEAR)\n",
      "    ToTensor()\n",
      "    Normalize(mean=[0.485, 0.456, 0.406], std=[0.229, 0.224, 0.225])\n",
      ")\n",
      "/home/HDD6TB/datasets/emotions/ABAW/ABAW_5/VA_AU_FER/cropped_aligned/cropped_aligned\n"
     ]
    },
    {
     "data": {
      "application/vnd.jupyter.widget-view+json": {
       "model_id": "f3fec6744e1848ca80ff742775bf11e8",
       "version_major": 2,
       "version_minor": 0
      },
      "text/plain": [
       "  0%|          | 0/564 [00:00<?, ?it/s]"
      ]
     },
     "metadata": {},
     "output_type": "display_data"
    },
    {
     "name": "stdout",
     "output_type": "stream",
     "text": [
      "/home/HDD6TB/datasets/emotions/ABAW/ABAW_5/VA_AU_FER/cropped_aligned/cropped_aligned_new_50_vids\n"
     ]
    },
    {
     "data": {
      "application/vnd.jupyter.widget-view+json": {
       "model_id": "b69ddd6232c14cc3bde6e5526b9b7f9f",
       "version_major": 2,
       "version_minor": 0
      },
      "text/plain": [
       "  0%|          | 0/31 [00:00<?, ?it/s]"
      ]
     },
     "metadata": {},
     "output_type": "display_data"
    }
   ],
   "source": [
    "print(test_transforms)\n",
    "img_names=[]\n",
    "X_global_features=[]\n",
    "imgs=[]\n",
    "for d in ['cropped_aligned','cropped_aligned_new_50_vids']:\n",
    "    data_dir=os.path.join(DATA_DIR,'cropped_aligned',d)\n",
    "    print(data_dir)\n",
    "    for filename in tqdm(os.listdir(data_dir)):\n",
    "        frames_dir=os.path.join(data_dir,filename)   \n",
    "        if not os.path.isdir(frames_dir):\n",
    "            continue\n",
    "        for img_name in os.listdir(frames_dir):\n",
    "            if img_name.lower().endswith('.jpg'):\n",
    "                img = Image.open(os.path.join(frames_dir,img_name))\n",
    "                img_tensor = test_transforms(img)\n",
    "                if img.size:\n",
    "                    img_names.append(filename+'/'+img_name)\n",
    "                    imgs.append(img_tensor)\n",
    "                    if len(imgs)>=64: #96: #48: #32:        \n",
    "                        features = feature_extractor_model(torch.stack(imgs, dim=0).to(device))\n",
    "                        features=features.data.cpu().numpy()\n",
    "                        #print(features.shape)\n",
    "\n",
    "                        if len(X_global_features)==0:\n",
    "                            X_global_features=features\n",
    "                        else:\n",
    "                            X_global_features=np.concatenate((X_global_features,features),axis=0)\n",
    "                        imgs=[]\n",
    "\n",
    "if len(imgs)>0:        \n",
    "    features = feature_extractor_model(torch.stack(imgs, dim=0).to(device))\n",
    "    features=features.data.cpu().numpy()\n",
    "\n",
    "    if len(X_global_features)==0:\n",
    "        X_global_features=features\n",
    "    else:\n",
    "        X_global_features=np.concatenate((X_global_features,features),axis=0)\n",
    "\n",
    "    imgs=[]\n",
    "\n",
    "    #X_scores=X_global_features #get_probab(X_global_features)\n",
    "    #print(X_global_features.shape,X_scores.shape)"
   ]
  },
  {
   "cell_type": "code",
   "execution_count": 26,
   "metadata": {},
   "outputs": [
    {
     "data": {
      "application/vnd.jupyter.widget-view+json": {
       "model_id": "b95fdbc250b4451b90b1753cb9166a9b",
       "version_major": 2,
       "version_minor": 0
      },
      "text/plain": [
       "  0%|          | 0/23 [00:00<?, ?it/s]"
      ]
     },
     "metadata": {},
     "output_type": "display_data"
    }
   ],
   "source": [
    "for filename in tqdm(os.listdir(data_dir)[8:]):\n",
    "    frames_dir=os.path.join(data_dir,filename)   \n",
    "    if not os.path.isdir(frames_dir):\n",
    "        continue\n",
    "    for img_name in os.listdir(frames_dir):\n",
    "        if img_name.lower().endswith('.jpg'):\n",
    "            img = Image.open(os.path.join(frames_dir,img_name))\n",
    "            img_tensor = test_transforms(img)\n",
    "            if img.size:\n",
    "                img_names.append(filename+'/'+img_name)\n",
    "                imgs.append(img_tensor)\n",
    "                if len(imgs)>=96: #64: #48: #32:        \n",
    "                    features = feature_extractor_model(torch.stack(imgs, dim=0).to(device))\n",
    "                    features=features.data.cpu().numpy()\n",
    "                    #print(features.shape)\n",
    "\n",
    "                    if len(X_global_features)==0:\n",
    "                        X_global_features=features\n",
    "                    else:\n",
    "                        X_global_features=np.concatenate((X_global_features,features),axis=0)\n",
    "                    imgs=[]\n",
    "\n",
    "if len(imgs)>0:        \n",
    "    features = feature_extractor_model(torch.stack(imgs, dim=0).to(device))\n",
    "    features=features.data.cpu().numpy()\n",
    "\n",
    "    if len(X_global_features)==0:\n",
    "        X_global_features=features\n",
    "    else:\n",
    "        X_global_features=np.concatenate((X_global_features,features),axis=0)\n",
    "\n",
    "    imgs=[]"
   ]
  },
  {
   "cell_type": "markdown",
   "metadata": {},
   "source": [
    "## Cropped"
   ]
  },
  {
   "cell_type": "code",
   "execution_count": 11,
   "metadata": {},
   "outputs": [
    {
     "data": {
      "text/plain": [
       "'/home/HDD6TB/datasets/emotions/ABAW/ABAW_5/VA_AU_FER'"
      ]
     },
     "execution_count": 11,
     "metadata": {},
     "output_type": "execute_result"
    }
   ],
   "source": [
    "DATA_DIR"
   ]
  },
  {
   "cell_type": "code",
   "execution_count": 12,
   "metadata": {},
   "outputs": [
    {
     "name": "stdout",
     "output_type": "stream",
     "text": [
      "Compose(\n",
      "    Resize(size=(224, 224), interpolation=PIL.Image.BILINEAR)\n",
      "    ToTensor()\n",
      "    Normalize(mean=[0.485, 0.456, 0.406], std=[0.229, 0.224, 0.225])\n",
      ")\n",
      "/home/HDD6TB/datasets/emotions/ABAW/ABAW_5/VA_AU_FER/cropped\n"
     ]
    },
    {
     "data": {
      "application/vnd.jupyter.widget-view+json": {
       "model_id": "f5a2505bef1d49a98930f28163c390b6",
       "version_major": 2,
       "version_minor": 0
      },
      "text/plain": [
       "  0%|          | 0/594 [00:00<?, ?it/s]"
      ]
     },
     "metadata": {},
     "output_type": "display_data"
    }
   ],
   "source": [
    "print(test_transforms)\n",
    "img_names=[]\n",
    "X_global_features=[]\n",
    "imgs=[]\n",
    "data_dir=os.path.join(DATA_DIR,'cropped')\n",
    "print(data_dir)\n",
    "for filename in tqdm(os.listdir(data_dir)):\n",
    "    frames_dir=os.path.join(data_dir,filename)   \n",
    "    if not os.path.isdir(frames_dir):\n",
    "        continue\n",
    "    for img_name in os.listdir(frames_dir):\n",
    "        if img_name.lower().endswith('.jpg'):\n",
    "            img = Image.open(os.path.join(frames_dir,img_name))\n",
    "            img_tensor = test_transforms(img)\n",
    "            if img.size:\n",
    "                img_names.append(filename+'/'+img_name)\n",
    "                imgs.append(img_tensor)\n",
    "                if len(imgs)>=64: #96: #48: #32:        \n",
    "                    features = feature_extractor_model(torch.stack(imgs, dim=0).to(device))\n",
    "                    features=features.data.cpu().numpy()\n",
    "                    #print(features.shape)\n",
    "\n",
    "                    if len(X_global_features)==0:\n",
    "                        X_global_features=features\n",
    "                    else:\n",
    "                        X_global_features=np.concatenate((X_global_features,features),axis=0)\n",
    "                    imgs=[]\n",
    "\n",
    "if len(imgs)>0:        \n",
    "    features = feature_extractor_model(torch.stack(imgs, dim=0).to(device))\n",
    "    features=features.data.cpu().numpy()\n",
    "\n",
    "    if len(X_global_features)==0:\n",
    "        X_global_features=features\n",
    "    else:\n",
    "        X_global_features=np.concatenate((X_global_features,features),axis=0)\n",
    "\n",
    "    imgs=[]"
   ]
  },
  {
   "cell_type": "markdown",
   "metadata": {},
   "source": [
    "----------------------------------"
   ]
  },
  {
   "cell_type": "code",
   "execution_count": 13,
   "metadata": {},
   "outputs": [],
   "source": [
    "X_scores=get_probab(X_global_features)"
   ]
  },
  {
   "cell_type": "code",
   "execution_count": 14,
   "metadata": {},
   "outputs": [
    {
     "data": {
      "text/plain": [
       "((2942996, 10), (2942996, 1280))"
      ]
     },
     "execution_count": 14,
     "metadata": {},
     "output_type": "execute_result"
    }
   ],
   "source": [
    "X_scores.shape,X_global_features.shape"
   ]
  },
  {
   "cell_type": "code",
   "execution_count": 15,
   "metadata": {},
   "outputs": [
    {
     "name": "stdout",
     "output_type": "stream",
     "text": [
      "2942996\n"
     ]
    }
   ],
   "source": [
    "filename2featuresAll={img_name:(global_features,scores) for img_name,global_features,scores in zip(img_names,X_global_features,X_scores)}\n",
    "#filename2featuresAll={img_name:(global_features,) for img_name,global_features, in zip(img_names,X_global_features)}\n",
    "print(len(filename2featuresAll))\n",
    "#cropped 2942996, aligned 2941546"
   ]
  },
  {
   "cell_type": "markdown",
   "metadata": {},
   "source": [
    "### Save/load features "
   ]
  },
  {
   "cell_type": "code",
   "execution_count": 6,
   "metadata": {},
   "outputs": [
    {
     "name": "stdout",
     "output_type": "stream",
     "text": [
      "enet_b0_8_best_vgaf_cropped.pickle\n"
     ]
    }
   ],
   "source": [
    "import pickle\n",
    "num_classes=8\n",
    "model_name='enet_b0_8_best_vgaf' #first three challenges\n",
    "\n",
    "#model_name='enet_b0_8_va_mtl'\n",
    "\n",
    "#MODEL2FEATURES=model_name+'_aligned_112.pickle'\n",
    "MODEL2FEATURES=model_name+'_cropped.pickle' \n",
    "\n",
    "print(MODEL2FEATURES)"
   ]
  },
  {
   "cell_type": "code",
   "execution_count": 17,
   "metadata": {},
   "outputs": [],
   "source": [
    "if False:\n",
    "    with open(MODEL2FEATURES, 'wb') as handle:\n",
    "        pickle.dump(filename2featuresAll, handle, protocol=pickle.HIGHEST_PROTOCOL)"
   ]
  },
  {
   "cell_type": "code",
   "execution_count": 7,
   "metadata": {},
   "outputs": [
    {
     "name": "stdout",
     "output_type": "stream",
     "text": [
      "2942996\n"
     ]
    }
   ],
   "source": [
    "with open(MODEL2FEATURES, 'rb') as handle:\n",
    "    filename2featuresAll=pickle.load(handle)\n",
    "print(len(filename2featuresAll))"
   ]
  },
  {
   "cell_type": "markdown",
   "metadata": {},
   "source": [
    "# Classifiers"
   ]
  },
  {
   "cell_type": "code",
   "execution_count": 8,
   "metadata": {},
   "outputs": [
    {
     "name": "stdout",
     "output_type": "stream",
     "text": [
      "2.4.1\n"
     ]
    }
   ],
   "source": [
    "import tensorflow as tf\n",
    "from tensorflow.keras.models import Model,Sequential, load_model,model_from_json\n",
    "from tensorflow.keras.applications import mobilenet,mobilenet_v2,densenet,inception_resnet_v2,inception_v3,vgg16,resnet_v2,resnet\n",
    "import efficientnet.tfkeras as enet\n",
    "from tensorflow.keras.layers import Flatten, Dense, Dropout,GlobalAveragePooling2D,Activation, Conv2D, Reshape,DepthwiseConv2D,Input\n",
    "from tensorflow.keras.optimizers import SGD, Adam\n",
    "from tensorflow.keras.utils import to_categorical\n",
    "from tensorflow.keras.callbacks import ModelCheckpoint, TensorBoard, Callback, CSVLogger, EarlyStopping\n",
    "from tensorflow.keras.metrics import top_k_categorical_accuracy\n",
    "import numpy as np\n",
    "from sklearn.metrics import confusion_matrix\n",
    "from tensorflow.keras.preprocessing.image import ImageDataGenerator\n",
    "\n",
    "import tensorflow.keras.backend as K \n",
    "\n",
    "print(tf.__version__)\n",
    "from tensorflow.compat.v1.keras.backend import set_session \n",
    "config = tf.compat.v1.ConfigProto()\n",
    "config.gpu_options.allow_growth = True\n",
    "sess=tf.compat.v1.Session(config=config)\n",
    "set_session(sess)"
   ]
  },
  {
   "cell_type": "code",
   "execution_count": 9,
   "metadata": {},
   "outputs": [],
   "source": [
    "from copy import deepcopy\n",
    "class SaveBestModel(tf.keras.callbacks.Callback):\n",
    "    def __init__(self, save_best_metric='val_loss', this_max=False):\n",
    "        self.save_best_metric = save_best_metric\n",
    "        self.max = this_max\n",
    "        if this_max:\n",
    "            self.best = float('-inf')\n",
    "        else:\n",
    "            self.best = float('inf')\n",
    "\n",
    "    def on_epoch_end(self, epoch, logs=None):\n",
    "        metric_value = logs[self.save_best_metric]\n",
    "        if self.max:\n",
    "            if metric_value > self.best:\n",
    "                self.best = metric_value\n",
    "                self.best_model_weights = deepcopy(self.model.get_weights())\n",
    "\n",
    "        else:\n",
    "            if metric_value < self.best:\n",
    "                self.best = metric_value\n",
    "                self.best_model_weights = deepcopy(self.model.get_weights())"
   ]
  },
  {
   "cell_type": "code",
   "execution_count": 10,
   "metadata": {},
   "outputs": [],
   "source": [
    "def one_hot_transfer(label,class_num):\n",
    "    return np.eye(class_num)[label]\n",
    "\n",
    "def metric_for_Exp(gt,pred,class_num=8):\n",
    "    # compute_acc\n",
    "    acc = accuracy_score(gt,pred)\n",
    "    # compute_F1\n",
    "    gt = one_hot_transfer(gt,class_num)\n",
    "    pred = one_hot_transfer(pred,class_num)\n",
    "    F1 = []\n",
    "    for i in range(class_num):\n",
    "        gt_ = gt[:,i]\n",
    "        pred_ = pred[:,i]\n",
    "        F1.append(f1_score(gt_.flatten(), pred_))\n",
    "    F1_mean = np.mean(F1)\n",
    "    return F1_mean,acc,F1"
   ]
  },
  {
   "cell_type": "code",
   "execution_count": 11,
   "metadata": {},
   "outputs": [],
   "source": [
    "def CCC_score(x, y):\n",
    "    vx = x - np.mean(x)\n",
    "    vy = y - np.mean(y)\n",
    "    rho = np.sum(vx * vy) / (np.sqrt(np.sum(vx**2)) * np.sqrt(np.sum(vy**2)))\n",
    "    x_m = np.mean(x)\n",
    "    y_m = np.mean(y)\n",
    "    x_s = np.std(x)\n",
    "    y_s = np.std(y)\n",
    "    ccc = 2*rho*x_s*y_s/(x_s**2 + y_s**2 + (x_m - y_m)**2)\n",
    "    return ccc\n",
    "\n",
    "def metric_for_VA(gt_V,gt_A,pred_V,pred_A):\n",
    "    ccc_V,ccc_A = CCC_score(gt_V,pred_V),CCC_score(gt_A,pred_A)\n",
    "    return ccc_V,ccc_A, 0.5*(ccc_V+ccc_A)\n",
    "\n",
    "def CCC_numpy(y_true, y_pred):\n",
    "    '''Reference numpy implementation of Lin's Concordance correlation coefficient'''\n",
    "    \n",
    "    # covariance between y_true and y_pred\n",
    "    s_xy = np.cov([y_true, y_pred])[0,1]\n",
    "    # means\n",
    "    x_m = np.mean(y_true)\n",
    "    y_m = np.mean(y_pred)\n",
    "    # variances\n",
    "    s_x_sq = np.var(y_true)\n",
    "    s_y_sq = np.var(y_pred)\n",
    "    \n",
    "    # condordance correlation coefficient\n",
    "    ccc = (2.0*s_xy) / (s_x_sq + s_y_sq + (x_m-y_m)**2)\n",
    "    \n",
    "    return ccc\n",
    "\n",
    "def CCC(y_true, y_pred):\n",
    "    '''Lin's Concordance correlation coefficient: https://en.wikipedia.org/wiki/Concordance_correlation_coefficient\n",
    "    \n",
    "    The concordance correlation coefficient is the correlation between two variables that fall on the 45 degree line through the origin.\n",
    "    \n",
    "    It is a product of\n",
    "    - precision (Pearson correlation coefficient) and\n",
    "    - accuracy (closeness to 45 degree line)\n",
    "\n",
    "    Interpretation:\n",
    "    - `rho_c =  1` : perfect agreement\n",
    "    - `rho_c =  0` : no agreement\n",
    "    - `rho_c = -1` : perfect disagreement \n",
    "    \n",
    "    Args: \n",
    "    - y_true: ground truth\n",
    "    - y_pred: predicted values\n",
    "    \n",
    "    Returns:\n",
    "    - concordance correlation coefficient (float)\n",
    "    '''\n",
    "    \n",
    "    \n",
    "    # covariance between y_true and y_pred\n",
    "    #N = K.int_shape(y_pred)[-1]\n",
    "    #s_xy = 1.0 / (N - 1.0 + K.epsilon()) * K.sum((y_true - K.mean(y_true)) * (y_pred - K.mean(y_pred)))\n",
    "    #s_xy = K.mean(K.sum((y_true - K.mean(y_true)) * (y_pred - K.mean(y_pred))))\n",
    "    s_xy = K.mean((y_true - K.mean(y_true)) * (y_pred - K.mean(y_pred)))\n",
    "    # means\n",
    "    x_m = K.mean(y_true)\n",
    "    y_m = K.mean(y_pred)\n",
    "    # variances\n",
    "    s_x_sq = K.var(y_true)\n",
    "    s_y_sq = K.var(y_pred)\n",
    "    \n",
    "    # condordance correlation coefficient\n",
    "    ccc = (2.0*s_xy) / (s_x_sq + s_y_sq + (x_m-y_m)**2+K.epsilon())\n",
    "    #print(s_xy,s_x_sq,s_y_sq,x_m,y_m)\n",
    "    return ccc\n",
    "\n",
    "def CCC_VA(y_true, y_pred):\n",
    "    return 1-0.5*(CCC(y_true[:,0], y_pred[:,0])+CCC(y_true[:,1], y_pred[:,1]))\n"
   ]
  },
  {
   "cell_type": "code",
   "execution_count": 12,
   "metadata": {},
   "outputs": [],
   "source": [
    "import math\n",
    "def f1_score_max_for_AU_one_class(gt, pred, thresh,type=0):\n",
    "    gt = gt[:,type]\n",
    "    pred = pred[:,type]\n",
    "    P = []\n",
    "    R = []\n",
    "    ACC = []\n",
    "    F1 = []\n",
    "    for i in thresh:\n",
    "        new_pred = ((pred >= i) * 1).flatten()\n",
    "        P.append(precision_score(gt.flatten(), new_pred))\n",
    "        R.append(recall_score(gt.flatten(), new_pred))\n",
    "        ACC.append(accuracy_score(gt.flatten(), new_pred))\n",
    "        F1.append(f1_score(gt.flatten(), new_pred))\n",
    "\n",
    "    F1_MAX = max(F1)\n",
    "    if F1_MAX < 0 or math.isnan(F1_MAX):\n",
    "        F1_MAX = 0\n",
    "        F1_THRESH = 0\n",
    "        accuracy = 0\n",
    "    else:\n",
    "        idx_thresh = np.argmax(F1)\n",
    "        F1_THRESH = thresh[idx_thresh]\n",
    "        accuracy = ACC[idx_thresh]\n",
    "    return F1,F1_MAX,F1_THRESH,accuracy\n",
    "\n",
    "def f1_score_max(gt, pred, thresh,c=12):\n",
    "    F1_s = []\n",
    "    F1_t = []\n",
    "    ACC = []\n",
    "    from sklearn.metrics import precision_score, recall_score, accuracy_score, f1_score\n",
    "    for i in range(c):\n",
    "        F1, F1_MAX, F1_THRESH,acc = f1_score_max_for_AU_one_class(gt,pred,thresh,i)\n",
    "        F1_s.append(F1_MAX)\n",
    "        F1_t.append(F1_THRESH)\n",
    "        ACC.append(acc)\n",
    "    F1_s=np.array(F1_s)\n",
    "    F1_t=np.array(F1_t)\n",
    "    ACC=np.array(ACC)\n",
    "    return F1_s.mean(),F1_t.mean(),F1_s,F1_t,ACC"
   ]
  },
  {
   "cell_type": "markdown",
   "metadata": {},
   "source": [
    "## Expr "
   ]
  },
  {
   "cell_type": "code",
   "execution_count": 14,
   "metadata": {},
   "outputs": [
    {
     "name": "stdout",
     "output_type": "stream",
     "text": [
      "AffectNet: {'Angry': 0, 'Contempt': 1, 'Disgust': 2, 'Fear': 3, 'Happy': 4, 'Neutral': 5, 'Sad': 6, 'Surprise': 7}\n",
      "[5 0 2 3 4 6 7 1]\n"
     ]
    }
   ],
   "source": [
    "idx_to_class={0: 'Angry', 1: 'Contempt', 2: 'Disgust', 3: 'Fear', 4: 'Happy', 5: 'Neutral', 6: 'Sad', 7: 'Surprise'}\n",
    "class_to_idx={cls:idx for idx,cls in idx_to_class.items()}\n",
    "print('AffectNet:',class_to_idx)\n",
    "\n",
    "#idx_to_class_2={0: 'Neutral', 1:'Angry', 2:'Disgust', 3:'Fear', 4:'Happy', 5:'Sad', 6:'Surprised', 7:'Other'} #ABAW\n",
    "#idx_to_class={0: 'Angry', 1: 'Contempt', 2: 'Disgust', 3: 'Fear', 4: 'Happy', 5: 'Neutral', 6: 'Sad', 7: 'Surprised'} #AffectNet\n",
    "AFFECTNET2MTL=np.array([5,0,2,3,4,6,7,1])\n",
    "print(AFFECTNET2MTL)"
   ]
  },
  {
   "cell_type": "code",
   "execution_count": 15,
   "metadata": {},
   "outputs": [
    {
     "name": "stdout",
     "output_type": "stream",
     "text": [
      "(585317, 1280) (585317,) 12044 1\n",
      "(280532, 1280) (280532,) 3698 3\n"
     ]
    }
   ],
   "source": [
    "def get_image2Expr(dirname):\n",
    "    dirpath=os.path.join(DATA_DIR,'EXPR_Classification_Challenge/',dirname)\n",
    "    num_missed=0\n",
    "    X,y=[],[]\n",
    "    minConstantFrames,numConstant=100000,0\n",
    "    for filename in os.listdir(dirpath):\n",
    "        fn, ext = os.path.splitext(os.path.basename(filename))\n",
    "        if ext.lower()=='.txt':\n",
    "            with open(os.path.join(dirpath,filename)) as f:\n",
    "                lines = f.read().splitlines()\n",
    "                prev_val=None\n",
    "                for i,line in enumerate(lines):\n",
    "                    if i>0:\n",
    "                        expression=int(line)\n",
    "                        if expression>=0:\n",
    "                            if prev_val is None:\n",
    "                                prev_val=expression\n",
    "                                numConstant=1\n",
    "                            elif prev_val==expression:\n",
    "                                numConstant+=1\n",
    "                            else:\n",
    "                                if numConstant<minConstantFrames:\n",
    "                                    minConstantFrames=numConstant\n",
    "                                prev_val=expression\n",
    "                                numConstant=1\n",
    "                            imagename=fn+'/'+get_names(i)+'.jpg'\n",
    "                            if imagename in filename2featuresAll:\n",
    "                                X.append(filename2featuresAll[imagename][0])\n",
    "                                #X.append(filename2featuresAll[imagename][1])\n",
    "                                y.append(expression)\n",
    "                            else:\n",
    "                                num_missed+=1\n",
    "    X=np.array(X)\n",
    "    y=np.array(y)\n",
    "    print(X.shape,y.shape,num_missed,minConstantFrames)\n",
    "    return X,y\n",
    "\n",
    "X_train,y_train=get_image2Expr('Train_Set')\n",
    "X_val,y_val=get_image2Expr('Validation_Set')\n",
    "TRAIN_VAL=False\n",
    "#cropped: (585317, 1280) (585317,) 12044 1\n",
    "#(280532, 1280) (280532,) 3698 3\n",
    "\n",
    "#aligned: (586959, 1280) (586959,) 10402 1\n",
    "#(279749, 1280) (279749,) 4481 3"
   ]
  },
  {
   "cell_type": "code",
   "execution_count": 42,
   "metadata": {},
   "outputs": [
    {
     "name": "stdout",
     "output_type": "stream",
     "text": [
      "(1146381, 1280) (1146381,)\n"
     ]
    }
   ],
   "source": [
    "if True:\n",
    "    TRAIN_VAL=True\n",
    "    X_train=np.concatenate((X_train,X_val))\n",
    "    y_train=np.concatenate((y_train,y_val))\n",
    "    print(X_train.shape,y_train.shape)"
   ]
  },
  {
   "cell_type": "code",
   "execution_count": 16,
   "metadata": {},
   "outputs": [],
   "source": [
    "def print_expr():\n",
    "    y_val_preds=mlpModel.predict(X_val)\n",
    "    y_pred=np.argmax(y_val_preds,axis=1)\n",
    "    print('Acc:',(y_pred==y_val).mean(), 'F1:',f1_score(y_true=y_val,y_pred=y_pred, average=\"macro\"))\n",
    "    print(metric_for_Exp(y_val,y_pred))"
   ]
  },
  {
   "cell_type": "code",
   "execution_count": 43,
   "metadata": {},
   "outputs": [
    {
     "name": "stdout",
     "output_type": "stream",
     "text": [
      "[341714  28825  21363  25896 164485 129065  56279 378754] {0: 1.1083947394604845, 1: 13.139774501300954, 2: 17.72943874923934, 3: 14.625965400061785, 4: 2.3026658965863147, 5: 2.9345988455429435, 6: 6.729934789175358, 7: 1.0} 8 [0 1 2 3 4 5 6 7]\n",
      "(array([0, 1, 2, 3, 4, 5, 6, 7]), array([ 82258,   6126,   5296,   8408,  34511,  25157,  12332, 106444]))\n"
     ]
    }
   ],
   "source": [
    "(unique, counts) = np.unique(y_train, return_counts=True)\n",
    "num_classes=len(unique)\n",
    "cw=1/counts\n",
    "cw/=cw.min()\n",
    "class_weights = {i:cwi for i,cwi in zip(unique,cw)}\n",
    "print(counts, class_weights, num_classes, unique)\n",
    "print(np.unique(y_val, return_counts=True))"
   ]
  },
  {
   "cell_type": "code",
   "execution_count": 44,
   "metadata": {},
   "outputs": [],
   "source": [
    "batch_size=256 #128\n",
    "mlpModel=Sequential()\n",
    "if False:\n",
    "    mlpModel.add(Dense(num_classes, input_shape=X_train.shape[1:],activation='softmax',use_bias=True,kernel_regularizer=tf.keras.regularizers.l2(1.0/batch_size)))\n",
    "else:\n",
    "    mlpModel.add(Dense(128, input_shape=X_train.shape[1:],activation='relu')) #256\n",
    "    mlpModel.add(Dense(num_classes,activation='softmax'))"
   ]
  },
  {
   "cell_type": "code",
   "execution_count": 45,
   "metadata": {},
   "outputs": [
    {
     "name": "stdout",
     "output_type": "stream",
     "text": [
      "Model: \"sequential_1\"\n",
      "_________________________________________________________________\n",
      "Layer (type)                 Output Shape              Param #   \n",
      "=================================================================\n",
      "dense_2 (Dense)              (None, 128)               163968    \n",
      "_________________________________________________________________\n",
      "dense_3 (Dense)              (None, 8)                 1032      \n",
      "=================================================================\n",
      "Total params: 165,000\n",
      "Trainable params: 165,000\n",
      "Non-trainable params: 0\n",
      "_________________________________________________________________\n",
      "4479/4479 [==============================] - 19s 4ms/step - loss: 1.4780 - accuracy: 0.7774 - val_loss: 0.2638 - val_accuracy: 0.9082\n",
      "0.9082100987434387\n"
     ]
    }
   ],
   "source": [
    "mlpModel.compile(optimizer=Adam(lr=1e-3), loss='sparse_categorical_crossentropy', metrics=['accuracy'])\n",
    "mlpModel.summary()\n",
    "\n",
    "save_best_model = SaveBestModel('val_accuracy',True)\n",
    "mlpModel.fit(X_train,y_train, batch_size=batch_size, epochs=1 if TRAIN_VAL else 10, verbose=1, \n",
    "             callbacks=[save_best_model], validation_data=(X_val,y_val),class_weight=class_weights)\n",
    "best_model_weights = save_best_model.best_model_weights\n",
    "print(save_best_model.best)"
   ]
  },
  {
   "cell_type": "code",
   "execution_count": 90,
   "metadata": {},
   "outputs": [
    {
     "name": "stdout",
     "output_type": "stream",
     "text": [
      "Acc: 0.44149687023227296 F1: 0.33779997894441405\n",
      "(0.33779997894441405, 0.44149687023227296, [0.4416201062812616, 0.15014895729890765, 0.4473529411764706, 0.03736895502198174, 0.44162295893122216, 0.4805736532655331, 0.1928639673178928, 0.5108482922620425])\n",
      "Best weights:\n",
      "Acc: 0.4512782855431822 F1: 0.32977590239234855\n",
      "(0.32977590239234855, 0.4512782855431822, [0.5265049308722749, 0.136551724137931, 0.23451630063074705, 0.034811438043928715, 0.5094281502343286, 0.5118863619636418, 0.22221146632462913, 0.4622968469313074])\n"
     ]
    }
   ],
   "source": [
    "if True:\n",
    "    print_expr()\n",
    "    print('Best weights:')\n",
    "    mlpModel.set_weights(best_model_weights)\n",
    "print_expr()"
   ]
  },
  {
   "cell_type": "code",
   "execution_count": 19,
   "metadata": {},
   "outputs": [
    {
     "name": "stdout",
     "output_type": "stream",
     "text": [
      "Acc: 0.49544436998274705 F1: 0.3844313672414089\n",
      "(0.3844313672414089, 0.49544436998274705, [0.5975792617828053, 0.18688981868898186, 0.5203826342899192, 0.01771963235902956, 0.4792554615273745, 0.4860550818814191, 0.289585043895661, 0.4979840035060809])\n"
     ]
    }
   ],
   "source": [
    "if False:\n",
    "    mlpModel.save_weights('expr_enet0_vgaf.h5')#Acc: 0.49544436998274705 F1: 0.3844313672414089\n",
    "else:\n",
    "    #mlpModel.load_weights('../expr_enet0_vgaf.h5') #Acc: 0.500285172458044 F1: 0.3807067519117502\n",
    "    mlpModel.load_weights('expr_enet0_vgaf.h5') #Acc: 0.49544436998274705 F1: 0.3844313672414089\n",
    "    print_expr()"
   ]
  },
  {
   "cell_type": "code",
   "execution_count": 19,
   "metadata": {},
   "outputs": [
    {
     "name": "stdout",
     "output_type": "stream",
     "text": [
      "Acc: 0.49544436998274705 F1: 0.3844313672414089\n",
      "(0.3844313672414089, 0.49544436998274705, [0.5975792617828053, 0.18688981868898186, 0.5203826342899192, 0.01771963235902956, 0.4792554615273745, 0.4860550818814191, 0.289585043895661, 0.4979840035060809])\n"
     ]
    }
   ],
   "source": [
    "mlpModel.load_weights('expr_enet0_vgaf.h5')\n",
    "y_val_preds=mlpModel.predict(X_val)\n",
    "y_pred=np.argmax(y_val_preds,axis=1)\n",
    "print('Acc:',(y_pred==y_val).mean(), 'F1:',f1_score(y_true=y_val,y_pred=y_pred, average=\"macro\"))\n",
    "print(metric_for_Exp(y_val,y_pred))"
   ]
  },
  {
   "cell_type": "code",
   "execution_count": 18,
   "metadata": {},
   "outputs": [
    {
     "name": "stdout",
     "output_type": "stream",
     "text": [
      "(280532,) (280532,) 0.49544436998274705\n"
     ]
    },
    {
     "data": {
      "image/png": "[encoded data removed]",
      "text/plain": [
       "<Figure size 576x576 with 1 Axes>"
      ]
     },
     "metadata": {
      "needs_background": "light"
     },
     "output_type": "display_data"
    }
   ],
   "source": [
    "labels=['Neutral','Anger','Disgust','Fear','Happiness','Sadness','Surprise','Other']\n",
    "IC = type('IdentityClassifier', (), {\"predict\": lambda i : i, \"_estimator_type\": \"classifier\"})\n",
    "import matplotlib.pyplot as plt\n",
    "from sklearn.metrics import plot_confusion_matrix\n",
    "def plt_conf_matrix(y_true,y_pred,labels):\n",
    "    print(y_pred.shape,y_true.shape, (y_pred==y_true).mean())\n",
    "\n",
    "    fig, ax = plt.subplots(figsize=(8, 8))\n",
    "    plot_confusion_matrix(IC, y_pred,y_true,display_labels=labels,cmap=plt.cm.Blues,ax=ax,colorbar=False,values_format='d') #,normalize='true'\n",
    "    plt.tight_layout()\n",
    "    plt.show()\n",
    "plt_conf_matrix(y_val,y_pred,labels)"
   ]
  },
  {
   "cell_type": "markdown",
   "metadata": {},
   "source": [
    "enet_b0_8_best_vgaf\n",
    "aligned\n",
    "112\n",
    "Acc: 0.36997808749986594 F1: 0.21352704404593095\n",
    "(0.21352704404593095, 0.36997808749986594, [0.45700583162587527, 0.07635619242579324, 0.003076194983435873, 0.009468317552804079, 0.34928095010272137, 0.21187660892709106, 0.1647308567096285, 0.4364214000400981])\n",
    "\n",
    "../expr_enet0_vgaf.h5\n",
    "Acc: 0.20843684874655494 F1: 0.0910746772554131\n",
    "\n",
    "\n",
    "224\n",
    "Acc: 0.47395701146384794 F1: 0.3045351324629094\n",
    "(0.3045351324629094, 0.47395701146384794, [0.5518323928131282, 0.11104639875752281, 0.028970239662891757, 0.029782898346265387, 0.42825757737346165, 0.5113845517526626, 0.2515561703388993, 0.5234508306584433])\n",
    "\n",
    "../expr_enet0_vgaf.h5\n",
    "Acc: 0.42862351608048643 F1: 0.3395506137533413\n",
    "\n",
    "\n",
    "cropped\n",
    "Acc: 0.49544436998274705 F1: 0.3844313672414089\n",
    "(0.3844313672414089, 0.49544436998274705, [0.5975792617828053, 0.18688981868898186, 0.5203826342899192, 0.01771963235902956, 0.4792554615273745, 0.4860550818814191, 0.289585043895661, 0.4979840035060809])\n",
    "../expr_enet0_vgaf.h5\n",
    "Acc: 0.500285172458044 F1: 0.3807067519117502\n",
    "(0.3807067519117502, 0.500285172458044, [0.608643679809698, 0.15128569174948728, 0.5162256615077384, 0.01599360255897641, 0.4778312968664514, 0.4611138100075078, 0.3029224246739377, 0.5116378481202044])\n",
    "\n",
    "\n",
    "enet_b0_8_va_mtl\n",
    "aligned\n",
    "112\n",
    "Acc: 0.36310406828978836 F1: 0.21416588541497295\n",
    "(0.21416588541497295, 0.36310406828978836, [0.5104795189391993, 0.1258546760922471, 0.010939722131057872, 0.009548019096038193, 0.33523095946425735, 0.18541315145321896, 0.19094959313671342, 0.3449114430070513])\n",
    "\n",
    "../expr_enet0_vgaf.h5\n",
    "Acc: 0.17444566379147022 F1: 0.09599142979803564\n",
    "\n",
    "\n",
    "224\n",
    "\n",
    "\n",
    "cropped\n",
    "Acc: 0.44668344431294826 F1: 0.3355545672821115\n",
    "(0.3355545672821115, 0.44668344431294826, [0.510145234564414, 0.16641097373883224, 0.3162162162162162, 0.0352055352055352, 0.5013185136754931, 0.4799950349621416, 0.2053190850693402, 0.4698259448249195])\n",
    "../expr_enet0_vgaf.h5\n",
    "Acc: 0.4230711647869049 F1: 0.30920724751192785"
   ]
  },
  {
   "cell_type": "markdown",
   "metadata": {},
   "source": [
    "#### Fine-tuning "
   ]
  },
  {
   "cell_type": "code",
   "execution_count": 23,
   "metadata": {},
   "outputs": [
    {
     "name": "stdout",
     "output_type": "stream",
     "text": [
      "(1280, 8) (8,)\n",
      "EfficientNet(\n",
      "  (conv_stem): Conv2dSame(3, 32, kernel_size=(3, 3), stride=(2, 2), bias=False)\n",
      "  (bn1): BatchNormAct2d(\n",
      "    32, eps=0.001, momentum=0.1, affine=True, track_running_stats=True\n",
      "    (drop): Identity()\n",
      "    (act): SiLU(inplace=True)\n",
      "  )\n",
      "  (blocks): Sequential(\n",
      "    (0): Sequential(\n",
      "      (0): DepthwiseSeparableConv(\n",
      "        (conv_dw): Conv2d(32, 32, kernel_size=(3, 3), stride=(1, 1), padding=(1, 1), groups=32, bias=False)\n",
      "        (bn1): BatchNormAct2d(\n",
      "          32, eps=0.001, momentum=0.1, affine=True, track_running_stats=True\n",
      "          (drop): Identity()\n",
      "          (act): SiLU(inplace=True)\n",
      "        )\n",
      "        (se): SqueezeExcite(\n",
      "          (conv_reduce): Conv2d(32, 8, kernel_size=(1, 1), stride=(1, 1))\n",
      "          (act1): SiLU(inplace=True)\n",
      "          (conv_expand): Conv2d(8, 32, kernel_size=(1, 1), stride=(1, 1))\n",
      "          (gate): Sigmoid()\n",
      "        )\n",
      "        (conv_pw): Conv2d(32, 16, kernel_size=(1, 1), stride=(1, 1), bias=False)\n",
      "        (bn2): BatchNormAct2d(\n",
      "          16, eps=0.001, momentum=0.1, affine=True, track_running_stats=True\n",
      "          (drop): Identity()\n",
      "          (act): Identity()\n",
      "        )\n",
      "        (drop_path): Identity()\n",
      "      )\n",
      "    )\n",
      "    (1): Sequential(\n",
      "      (0): InvertedResidual(\n",
      "        (conv_pw): Conv2d(16, 96, kernel_size=(1, 1), stride=(1, 1), bias=False)\n",
      "        (bn1): BatchNormAct2d(\n",
      "          96, eps=0.001, momentum=0.1, affine=True, track_running_stats=True\n",
      "          (drop): Identity()\n",
      "          (act): SiLU(inplace=True)\n",
      "        )\n",
      "        (conv_dw): Conv2dSame(96, 96, kernel_size=(3, 3), stride=(2, 2), groups=96, bias=False)\n",
      "        (bn2): BatchNormAct2d(\n",
      "          96, eps=0.001, momentum=0.1, affine=True, track_running_stats=True\n",
      "          (drop): Identity()\n",
      "          (act): SiLU(inplace=True)\n",
      "        )\n",
      "        (se): SqueezeExcite(\n",
      "          (conv_reduce): Conv2d(96, 4, kernel_size=(1, 1), stride=(1, 1))\n",
      "          (act1): SiLU(inplace=True)\n",
      "          (conv_expand): Conv2d(4, 96, kernel_size=(1, 1), stride=(1, 1))\n",
      "          (gate): Sigmoid()\n",
      "        )\n",
      "        (conv_pwl): Conv2d(96, 24, kernel_size=(1, 1), stride=(1, 1), bias=False)\n",
      "        (bn3): BatchNormAct2d(\n",
      "          24, eps=0.001, momentum=0.1, affine=True, track_running_stats=True\n",
      "          (drop): Identity()\n",
      "          (act): Identity()\n",
      "        )\n",
      "        (drop_path): Identity()\n",
      "      )\n",
      "      (1): InvertedResidual(\n",
      "        (conv_pw): Conv2d(24, 144, kernel_size=(1, 1), stride=(1, 1), bias=False)\n",
      "        (bn1): BatchNormAct2d(\n",
      "          144, eps=0.001, momentum=0.1, affine=True, track_running_stats=True\n",
      "          (drop): Identity()\n",
      "          (act): SiLU(inplace=True)\n",
      "        )\n",
      "        (conv_dw): Conv2d(144, 144, kernel_size=(3, 3), stride=(1, 1), padding=(1, 1), groups=144, bias=False)\n",
      "        (bn2): BatchNormAct2d(\n",
      "          144, eps=0.001, momentum=0.1, affine=True, track_running_stats=True\n",
      "          (drop): Identity()\n",
      "          (act): SiLU(inplace=True)\n",
      "        )\n",
      "        (se): SqueezeExcite(\n",
      "          (conv_reduce): Conv2d(144, 6, kernel_size=(1, 1), stride=(1, 1))\n",
      "          (act1): SiLU(inplace=True)\n",
      "          (conv_expand): Conv2d(6, 144, kernel_size=(1, 1), stride=(1, 1))\n",
      "          (gate): Sigmoid()\n",
      "        )\n",
      "        (conv_pwl): Conv2d(144, 24, kernel_size=(1, 1), stride=(1, 1), bias=False)\n",
      "        (bn3): BatchNormAct2d(\n",
      "          24, eps=0.001, momentum=0.1, affine=True, track_running_stats=True\n",
      "          (drop): Identity()\n",
      "          (act): Identity()\n",
      "        )\n",
      "        (drop_path): Identity()\n",
      "      )\n",
      "    )\n",
      "    (2): Sequential(\n",
      "      (0): InvertedResidual(\n",
      "        (conv_pw): Conv2d(24, 144, kernel_size=(1, 1), stride=(1, 1), bias=False)\n",
      "        (bn1): BatchNormAct2d(\n",
      "          144, eps=0.001, momentum=0.1, affine=True, track_running_stats=True\n",
      "          (drop): Identity()\n",
      "          (act): SiLU(inplace=True)\n",
      "        )\n",
      "        (conv_dw): Conv2dSame(144, 144, kernel_size=(5, 5), stride=(2, 2), groups=144, bias=False)\n",
      "        (bn2): BatchNormAct2d(\n",
      "          144, eps=0.001, momentum=0.1, affine=True, track_running_stats=True\n",
      "          (drop): Identity()\n",
      "          (act): SiLU(inplace=True)\n",
      "        )\n",
      "        (se): SqueezeExcite(\n",
      "          (conv_reduce): Conv2d(144, 6, kernel_size=(1, 1), stride=(1, 1))\n",
      "          (act1): SiLU(inplace=True)\n",
      "          (conv_expand): Conv2d(6, 144, kernel_size=(1, 1), stride=(1, 1))\n",
      "          (gate): Sigmoid()\n",
      "        )\n",
      "        (conv_pwl): Conv2d(144, 40, kernel_size=(1, 1), stride=(1, 1), bias=False)\n",
      "        (bn3): BatchNormAct2d(\n",
      "          40, eps=0.001, momentum=0.1, affine=True, track_running_stats=True\n",
      "          (drop): Identity()\n",
      "          (act): Identity()\n",
      "        )\n",
      "        (drop_path): Identity()\n",
      "      )\n",
      "      (1): InvertedResidual(\n",
      "        (conv_pw): Conv2d(40, 240, kernel_size=(1, 1), stride=(1, 1), bias=False)\n",
      "        (bn1): BatchNormAct2d(\n",
      "          240, eps=0.001, momentum=0.1, affine=True, track_running_stats=True\n",
      "          (drop): Identity()\n",
      "          (act): SiLU(inplace=True)\n",
      "        )\n",
      "        (conv_dw): Conv2d(240, 240, kernel_size=(5, 5), stride=(1, 1), padding=(2, 2), groups=240, bias=False)\n",
      "        (bn2): BatchNormAct2d(\n",
      "          240, eps=0.001, momentum=0.1, affine=True, track_running_stats=True\n",
      "          (drop): Identity()\n",
      "          (act): SiLU(inplace=True)\n",
      "        )\n",
      "        (se): SqueezeExcite(\n",
      "          (conv_reduce): Conv2d(240, 10, kernel_size=(1, 1), stride=(1, 1))\n",
      "          (act1): SiLU(inplace=True)\n",
      "          (conv_expand): Conv2d(10, 240, kernel_size=(1, 1), stride=(1, 1))\n",
      "          (gate): Sigmoid()\n",
      "        )\n",
      "        (conv_pwl): Conv2d(240, 40, kernel_size=(1, 1), stride=(1, 1), bias=False)\n",
      "        (bn3): BatchNormAct2d(\n",
      "          40, eps=0.001, momentum=0.1, affine=True, track_running_stats=True\n",
      "          (drop): Identity()\n",
      "          (act): Identity()\n",
      "        )\n",
      "        (drop_path): Identity()\n",
      "      )\n",
      "    )\n",
      "    (3): Sequential(\n",
      "      (0): InvertedResidual(\n",
      "        (conv_pw): Conv2d(40, 240, kernel_size=(1, 1), stride=(1, 1), bias=False)\n",
      "        (bn1): BatchNormAct2d(\n",
      "          240, eps=0.001, momentum=0.1, affine=True, track_running_stats=True\n",
      "          (drop): Identity()\n",
      "          (act): SiLU(inplace=True)\n",
      "        )\n",
      "        (conv_dw): Conv2dSame(240, 240, kernel_size=(3, 3), stride=(2, 2), groups=240, bias=False)\n",
      "        (bn2): BatchNormAct2d(\n",
      "          240, eps=0.001, momentum=0.1, affine=True, track_running_stats=True\n",
      "          (drop): Identity()\n",
      "          (act): SiLU(inplace=True)\n",
      "        )\n",
      "        (se): SqueezeExcite(\n",
      "          (conv_reduce): Conv2d(240, 10, kernel_size=(1, 1), stride=(1, 1))\n",
      "          (act1): SiLU(inplace=True)\n",
      "          (conv_expand): Conv2d(10, 240, kernel_size=(1, 1), stride=(1, 1))\n",
      "          (gate): Sigmoid()\n",
      "        )\n",
      "        (conv_pwl): Conv2d(240, 80, kernel_size=(1, 1), stride=(1, 1), bias=False)\n",
      "        (bn3): BatchNormAct2d(\n",
      "          80, eps=0.001, momentum=0.1, affine=True, track_running_stats=True\n",
      "          (drop): Identity()\n",
      "          (act): Identity()\n",
      "        )\n",
      "        (drop_path): Identity()\n",
      "      )\n",
      "      (1): InvertedResidual(\n",
      "        (conv_pw): Conv2d(80, 480, kernel_size=(1, 1), stride=(1, 1), bias=False)\n",
      "        (bn1): BatchNormAct2d(\n",
      "          480, eps=0.001, momentum=0.1, affine=True, track_running_stats=True\n",
      "          (drop): Identity()\n",
      "          (act): SiLU(inplace=True)\n",
      "        )\n",
      "        (conv_dw): Conv2d(480, 480, kernel_size=(3, 3), stride=(1, 1), padding=(1, 1), groups=480, bias=False)\n",
      "        (bn2): BatchNormAct2d(\n",
      "          480, eps=0.001, momentum=0.1, affine=True, track_running_stats=True\n",
      "          (drop): Identity()\n",
      "          (act): SiLU(inplace=True)\n",
      "        )\n",
      "        (se): SqueezeExcite(\n",
      "          (conv_reduce): Conv2d(480, 20, kernel_size=(1, 1), stride=(1, 1))\n",
      "          (act1): SiLU(inplace=True)\n",
      "          (conv_expand): Conv2d(20, 480, kernel_size=(1, 1), stride=(1, 1))\n",
      "          (gate): Sigmoid()\n",
      "        )\n",
      "        (conv_pwl): Conv2d(480, 80, kernel_size=(1, 1), stride=(1, 1), bias=False)\n",
      "        (bn3): BatchNormAct2d(\n",
      "          80, eps=0.001, momentum=0.1, affine=True, track_running_stats=True\n",
      "          (drop): Identity()\n",
      "          (act): Identity()\n",
      "        )\n",
      "        (drop_path): Identity()\n",
      "      )\n",
      "      (2): InvertedResidual(\n",
      "        (conv_pw): Conv2d(80, 480, kernel_size=(1, 1), stride=(1, 1), bias=False)\n",
      "        (bn1): BatchNormAct2d(\n",
      "          480, eps=0.001, momentum=0.1, affine=True, track_running_stats=True\n",
      "          (drop): Identity()\n",
      "          (act): SiLU(inplace=True)\n",
      "        )\n",
      "        (conv_dw): Conv2d(480, 480, kernel_size=(3, 3), stride=(1, 1), padding=(1, 1), groups=480, bias=False)\n",
      "        (bn2): BatchNormAct2d(\n",
      "          480, eps=0.001, momentum=0.1, affine=True, track_running_stats=True\n",
      "          (drop): Identity()\n",
      "          (act): SiLU(inplace=True)\n",
      "        )\n",
      "        (se): SqueezeExcite(\n",
      "          (conv_reduce): Conv2d(480, 20, kernel_size=(1, 1), stride=(1, 1))\n",
      "          (act1): SiLU(inplace=True)\n",
      "          (conv_expand): Conv2d(20, 480, kernel_size=(1, 1), stride=(1, 1))\n",
      "          (gate): Sigmoid()\n",
      "        )\n",
      "        (conv_pwl): Conv2d(480, 80, kernel_size=(1, 1), stride=(1, 1), bias=False)\n",
      "        (bn3): BatchNormAct2d(\n",
      "          80, eps=0.001, momentum=0.1, affine=True, track_running_stats=True\n",
      "          (drop): Identity()\n",
      "          (act): Identity()\n",
      "        )\n",
      "        (drop_path): Identity()\n",
      "      )\n",
      "    )\n",
      "    (4): Sequential(\n",
      "      (0): InvertedResidual(\n",
      "        (conv_pw): Conv2d(80, 480, kernel_size=(1, 1), stride=(1, 1), bias=False)\n",
      "        (bn1): BatchNormAct2d(\n",
      "          480, eps=0.001, momentum=0.1, affine=True, track_running_stats=True\n",
      "          (drop): Identity()\n",
      "          (act): SiLU(inplace=True)\n",
      "        )\n",
      "        (conv_dw): Conv2d(480, 480, kernel_size=(5, 5), stride=(1, 1), padding=(2, 2), groups=480, bias=False)\n",
      "        (bn2): BatchNormAct2d(\n",
      "          480, eps=0.001, momentum=0.1, affine=True, track_running_stats=True\n",
      "          (drop): Identity()\n",
      "          (act): SiLU(inplace=True)\n",
      "        )\n",
      "        (se): SqueezeExcite(\n",
      "          (conv_reduce): Conv2d(480, 20, kernel_size=(1, 1), stride=(1, 1))\n",
      "          (act1): SiLU(inplace=True)\n",
      "          (conv_expand): Conv2d(20, 480, kernel_size=(1, 1), stride=(1, 1))\n",
      "          (gate): Sigmoid()\n",
      "        )\n",
      "        (conv_pwl): Conv2d(480, 112, kernel_size=(1, 1), stride=(1, 1), bias=False)\n",
      "        (bn3): BatchNormAct2d(\n",
      "          112, eps=0.001, momentum=0.1, affine=True, track_running_stats=True\n",
      "          (drop): Identity()\n",
      "          (act): Identity()\n",
      "        )\n",
      "        (drop_path): Identity()\n",
      "      )\n",
      "      (1): InvertedResidual(\n",
      "        (conv_pw): Conv2d(112, 672, kernel_size=(1, 1), stride=(1, 1), bias=False)\n",
      "        (bn1): BatchNormAct2d(\n",
      "          672, eps=0.001, momentum=0.1, affine=True, track_running_stats=True\n",
      "          (drop): Identity()\n",
      "          (act): SiLU(inplace=True)\n",
      "        )\n",
      "        (conv_dw): Conv2d(672, 672, kernel_size=(5, 5), stride=(1, 1), padding=(2, 2), groups=672, bias=False)\n",
      "        (bn2): BatchNormAct2d(\n",
      "          672, eps=0.001, momentum=0.1, affine=True, track_running_stats=True\n",
      "          (drop): Identity()\n",
      "          (act): SiLU(inplace=True)\n",
      "        )\n",
      "        (se): SqueezeExcite(\n",
      "          (conv_reduce): Conv2d(672, 28, kernel_size=(1, 1), stride=(1, 1))\n",
      "          (act1): SiLU(inplace=True)\n",
      "          (conv_expand): Conv2d(28, 672, kernel_size=(1, 1), stride=(1, 1))\n",
      "          (gate): Sigmoid()\n",
      "        )\n",
      "        (conv_pwl): Conv2d(672, 112, kernel_size=(1, 1), stride=(1, 1), bias=False)\n",
      "        (bn3): BatchNormAct2d(\n",
      "          112, eps=0.001, momentum=0.1, affine=True, track_running_stats=True\n",
      "          (drop): Identity()\n",
      "          (act): Identity()\n",
      "        )\n",
      "        (drop_path): Identity()\n",
      "      )\n",
      "      (2): InvertedResidual(\n",
      "        (conv_pw): Conv2d(112, 672, kernel_size=(1, 1), stride=(1, 1), bias=False)\n",
      "        (bn1): BatchNormAct2d(\n",
      "          672, eps=0.001, momentum=0.1, affine=True, track_running_stats=True\n",
      "          (drop): Identity()\n",
      "          (act): SiLU(inplace=True)\n",
      "        )\n",
      "        (conv_dw): Conv2d(672, 672, kernel_size=(5, 5), stride=(1, 1), padding=(2, 2), groups=672, bias=False)\n",
      "        (bn2): BatchNormAct2d(\n",
      "          672, eps=0.001, momentum=0.1, affine=True, track_running_stats=True\n",
      "          (drop): Identity()\n",
      "          (act): SiLU(inplace=True)\n",
      "        )\n",
      "        (se): SqueezeExcite(\n",
      "          (conv_reduce): Conv2d(672, 28, kernel_size=(1, 1), stride=(1, 1))\n",
      "          (act1): SiLU(inplace=True)\n",
      "          (conv_expand): Conv2d(28, 672, kernel_size=(1, 1), stride=(1, 1))\n",
      "          (gate): Sigmoid()\n",
      "        )\n",
      "        (conv_pwl): Conv2d(672, 112, kernel_size=(1, 1), stride=(1, 1), bias=False)\n",
      "        (bn3): BatchNormAct2d(\n",
      "          112, eps=0.001, momentum=0.1, affine=True, track_running_stats=True\n",
      "          (drop): Identity()\n",
      "          (act): Identity()\n",
      "        )\n",
      "        (drop_path): Identity()\n",
      "      )\n",
      "    )\n",
      "    (5): Sequential(\n",
      "      (0): InvertedResidual(\n",
      "        (conv_pw): Conv2d(112, 672, kernel_size=(1, 1), stride=(1, 1), bias=False)\n",
      "        (bn1): BatchNormAct2d(\n",
      "          672, eps=0.001, momentum=0.1, affine=True, track_running_stats=True\n",
      "          (drop): Identity()\n",
      "          (act): SiLU(inplace=True)\n",
      "        )\n",
      "        (conv_dw): Conv2dSame(672, 672, kernel_size=(5, 5), stride=(2, 2), groups=672, bias=False)\n",
      "        (bn2): BatchNormAct2d(\n",
      "          672, eps=0.001, momentum=0.1, affine=True, track_running_stats=True\n",
      "          (drop): Identity()\n",
      "          (act): SiLU(inplace=True)\n",
      "        )\n",
      "        (se): SqueezeExcite(\n",
      "          (conv_reduce): Conv2d(672, 28, kernel_size=(1, 1), stride=(1, 1))\n",
      "          (act1): SiLU(inplace=True)\n",
      "          (conv_expand): Conv2d(28, 672, kernel_size=(1, 1), stride=(1, 1))\n",
      "          (gate): Sigmoid()\n",
      "        )\n",
      "        (conv_pwl): Conv2d(672, 192, kernel_size=(1, 1), stride=(1, 1), bias=False)\n",
      "        (bn3): BatchNormAct2d(\n",
      "          192, eps=0.001, momentum=0.1, affine=True, track_running_stats=True\n",
      "          (drop): Identity()\n",
      "          (act): Identity()\n",
      "        )\n",
      "        (drop_path): Identity()\n",
      "      )\n",
      "      (1): InvertedResidual(\n",
      "        (conv_pw): Conv2d(192, 1152, kernel_size=(1, 1), stride=(1, 1), bias=False)\n",
      "        (bn1): BatchNormAct2d(\n",
      "          1152, eps=0.001, momentum=0.1, affine=True, track_running_stats=True\n",
      "          (drop): Identity()\n",
      "          (act): SiLU(inplace=True)\n",
      "        )\n",
      "        (conv_dw): Conv2d(1152, 1152, kernel_size=(5, 5), stride=(1, 1), padding=(2, 2), groups=1152, bias=False)\n",
      "        (bn2): BatchNormAct2d(\n",
      "          1152, eps=0.001, momentum=0.1, affine=True, track_running_stats=True\n",
      "          (drop): Identity()\n",
      "          (act): SiLU(inplace=True)\n",
      "        )\n",
      "        (se): SqueezeExcite(\n",
      "          (conv_reduce): Conv2d(1152, 48, kernel_size=(1, 1), stride=(1, 1))\n",
      "          (act1): SiLU(inplace=True)\n",
      "          (conv_expand): Conv2d(48, 1152, kernel_size=(1, 1), stride=(1, 1))\n",
      "          (gate): Sigmoid()\n",
      "        )\n",
      "        (conv_pwl): Conv2d(1152, 192, kernel_size=(1, 1), stride=(1, 1), bias=False)\n",
      "        (bn3): BatchNormAct2d(\n",
      "          192, eps=0.001, momentum=0.1, affine=True, track_running_stats=True\n",
      "          (drop): Identity()\n",
      "          (act): Identity()\n",
      "        )\n",
      "        (drop_path): Identity()\n",
      "      )\n",
      "      (2): InvertedResidual(\n",
      "        (conv_pw): Conv2d(192, 1152, kernel_size=(1, 1), stride=(1, 1), bias=False)\n",
      "        (bn1): BatchNormAct2d(\n",
      "          1152, eps=0.001, momentum=0.1, affine=True, track_running_stats=True\n",
      "          (drop): Identity()\n",
      "          (act): SiLU(inplace=True)\n",
      "        )\n",
      "        (conv_dw): Conv2d(1152, 1152, kernel_size=(5, 5), stride=(1, 1), padding=(2, 2), groups=1152, bias=False)\n",
      "        (bn2): BatchNormAct2d(\n",
      "          1152, eps=0.001, momentum=0.1, affine=True, track_running_stats=True\n",
      "          (drop): Identity()\n",
      "          (act): SiLU(inplace=True)\n",
      "        )\n",
      "        (se): SqueezeExcite(\n",
      "          (conv_reduce): Conv2d(1152, 48, kernel_size=(1, 1), stride=(1, 1))\n",
      "          (act1): SiLU(inplace=True)\n",
      "          (conv_expand): Conv2d(48, 1152, kernel_size=(1, 1), stride=(1, 1))\n",
      "          (gate): Sigmoid()\n",
      "        )\n",
      "        (conv_pwl): Conv2d(1152, 192, kernel_size=(1, 1), stride=(1, 1), bias=False)\n",
      "        (bn3): BatchNormAct2d(\n",
      "          192, eps=0.001, momentum=0.1, affine=True, track_running_stats=True\n",
      "          (drop): Identity()\n",
      "          (act): Identity()\n",
      "        )\n",
      "        (drop_path): Identity()\n",
      "      )\n",
      "      (3): InvertedResidual(\n",
      "        (conv_pw): Conv2d(192, 1152, kernel_size=(1, 1), stride=(1, 1), bias=False)\n",
      "        (bn1): BatchNormAct2d(\n",
      "          1152, eps=0.001, momentum=0.1, affine=True, track_running_stats=True\n",
      "          (drop): Identity()\n",
      "          (act): SiLU(inplace=True)\n",
      "        )\n",
      "        (conv_dw): Conv2d(1152, 1152, kernel_size=(5, 5), stride=(1, 1), padding=(2, 2), groups=1152, bias=False)\n",
      "        (bn2): BatchNormAct2d(\n",
      "          1152, eps=0.001, momentum=0.1, affine=True, track_running_stats=True\n",
      "          (drop): Identity()\n",
      "          (act): SiLU(inplace=True)\n",
      "        )\n",
      "        (se): SqueezeExcite(\n",
      "          (conv_reduce): Conv2d(1152, 48, kernel_size=(1, 1), stride=(1, 1))\n",
      "          (act1): SiLU(inplace=True)\n",
      "          (conv_expand): Conv2d(48, 1152, kernel_size=(1, 1), stride=(1, 1))\n",
      "          (gate): Sigmoid()\n",
      "        )\n",
      "        (conv_pwl): Conv2d(1152, 192, kernel_size=(1, 1), stride=(1, 1), bias=False)\n",
      "        (bn3): BatchNormAct2d(\n",
      "          192, eps=0.001, momentum=0.1, affine=True, track_running_stats=True\n",
      "          (drop): Identity()\n",
      "          (act): Identity()\n",
      "        )\n",
      "        (drop_path): Identity()\n",
      "      )\n",
      "    )\n",
      "    (6): Sequential(\n",
      "      (0): InvertedResidual(\n",
      "        (conv_pw): Conv2d(192, 1152, kernel_size=(1, 1), stride=(1, 1), bias=False)\n",
      "        (bn1): BatchNormAct2d(\n",
      "          1152, eps=0.001, momentum=0.1, affine=True, track_running_stats=True\n",
      "          (drop): Identity()\n",
      "          (act): SiLU(inplace=True)\n",
      "        )\n",
      "        (conv_dw): Conv2d(1152, 1152, kernel_size=(3, 3), stride=(1, 1), padding=(1, 1), groups=1152, bias=False)\n",
      "        (bn2): BatchNormAct2d(\n",
      "          1152, eps=0.001, momentum=0.1, affine=True, track_running_stats=True\n",
      "          (drop): Identity()\n",
      "          (act): SiLU(inplace=True)\n",
      "        )\n",
      "        (se): SqueezeExcite(\n",
      "          (conv_reduce): Conv2d(1152, 48, kernel_size=(1, 1), stride=(1, 1))\n",
      "          (act1): SiLU(inplace=True)\n",
      "          (conv_expand): Conv2d(48, 1152, kernel_size=(1, 1), stride=(1, 1))\n",
      "          (gate): Sigmoid()\n",
      "        )\n",
      "        (conv_pwl): Conv2d(1152, 320, kernel_size=(1, 1), stride=(1, 1), bias=False)\n",
      "        (bn3): BatchNormAct2d(\n",
      "          320, eps=0.001, momentum=0.1, affine=True, track_running_stats=True\n",
      "          (drop): Identity()\n",
      "          (act): Identity()\n",
      "        )\n",
      "        (drop_path): Identity()\n",
      "      )\n",
      "    )\n",
      "  )\n",
      "  (conv_head): Conv2d(320, 1280, kernel_size=(1, 1), stride=(1, 1), bias=False)\n",
      "  (bn2): BatchNormAct2d(\n",
      "    1280, eps=0.001, momentum=0.1, affine=True, track_running_stats=True\n",
      "    (drop): Identity()\n",
      "    (act): SiLU(inplace=True)\n",
      "  )\n",
      "  (global_pool): SelectAdaptivePool2d (pool_type=avg, flatten=Flatten(start_dim=1, end_dim=-1))\n",
      "  (classifier): Linear(in_features=1280, out_features=8, bias=True)\n",
      ")\n"
     ]
    }
   ],
   "source": [
    "w0,b0=mlpModel.layers[0].get_weights()\n",
    "print(w0.shape,b0.shape)\n",
    "\n",
    "with torch.no_grad():\n",
    "    l0=nn.Linear(X_train.shape[1],num_classes)\n",
    "    l0.weight.copy_(torch.from_numpy(np.transpose(w0)).float())\n",
    "    l0.bias.copy_(torch.from_numpy(b0).float())\n",
    "model=feature_extractor_model\n",
    "model.classifier=l0\n",
    "model=model.to(device)\n",
    "print(model)"
   ]
  },
  {
   "cell_type": "code",
   "execution_count": 20,
   "metadata": {},
   "outputs": [],
   "source": [
    "#FINETUNED_PATH='enet_b0_vgaf_finetuned_logreg_expr.pt'\n",
    "FINETUNED_PATH='enet_b0_vgaf_finetuned_expr.pt'"
   ]
  },
  {
   "cell_type": "markdown",
   "metadata": {},
   "source": [
    "---------------------"
   ]
  },
  {
   "cell_type": "code",
   "execution_count": 20,
   "metadata": {},
   "outputs": [
    {
     "name": "stdout",
     "output_type": "stream",
     "text": [
      "(1280, 128) (128,)\n",
      "(128, 8) (8,)\n",
      "EfficientNet(\n",
      "  (conv_stem): Conv2dSame(3, 32, kernel_size=(3, 3), stride=(2, 2), bias=False)\n",
      "  (bn1): BatchNormAct2d(\n",
      "    32, eps=0.001, momentum=0.1, affine=True, track_running_stats=True\n",
      "    (drop): Identity()\n",
      "    (act): SiLU(inplace=True)\n",
      "  )\n",
      "  (blocks): Sequential(\n",
      "    (0): Sequential(\n",
      "      (0): DepthwiseSeparableConv(\n",
      "        (conv_dw): Conv2d(32, 32, kernel_size=(3, 3), stride=(1, 1), padding=(1, 1), groups=32, bias=False)\n",
      "        (bn1): BatchNormAct2d(\n",
      "          32, eps=0.001, momentum=0.1, affine=True, track_running_stats=True\n",
      "          (drop): Identity()\n",
      "          (act): SiLU(inplace=True)\n",
      "        )\n",
      "        (se): SqueezeExcite(\n",
      "          (conv_reduce): Conv2d(32, 8, kernel_size=(1, 1), stride=(1, 1))\n",
      "          (act1): SiLU(inplace=True)\n",
      "          (conv_expand): Conv2d(8, 32, kernel_size=(1, 1), stride=(1, 1))\n",
      "          (gate): Sigmoid()\n",
      "        )\n",
      "        (conv_pw): Conv2d(32, 16, kernel_size=(1, 1), stride=(1, 1), bias=False)\n",
      "        (bn2): BatchNormAct2d(\n",
      "          16, eps=0.001, momentum=0.1, affine=True, track_running_stats=True\n",
      "          (drop): Identity()\n",
      "          (act): Identity()\n",
      "        )\n",
      "        (drop_path): Identity()\n",
      "      )\n",
      "    )\n",
      "    (1): Sequential(\n",
      "      (0): InvertedResidual(\n",
      "        (conv_pw): Conv2d(16, 96, kernel_size=(1, 1), stride=(1, 1), bias=False)\n",
      "        (bn1): BatchNormAct2d(\n",
      "          96, eps=0.001, momentum=0.1, affine=True, track_running_stats=True\n",
      "          (drop): Identity()\n",
      "          (act): SiLU(inplace=True)\n",
      "        )\n",
      "        (conv_dw): Conv2dSame(96, 96, kernel_size=(3, 3), stride=(2, 2), groups=96, bias=False)\n",
      "        (bn2): BatchNormAct2d(\n",
      "          96, eps=0.001, momentum=0.1, affine=True, track_running_stats=True\n",
      "          (drop): Identity()\n",
      "          (act): SiLU(inplace=True)\n",
      "        )\n",
      "        (se): SqueezeExcite(\n",
      "          (conv_reduce): Conv2d(96, 4, kernel_size=(1, 1), stride=(1, 1))\n",
      "          (act1): SiLU(inplace=True)\n",
      "          (conv_expand): Conv2d(4, 96, kernel_size=(1, 1), stride=(1, 1))\n",
      "          (gate): Sigmoid()\n",
      "        )\n",
      "        (conv_pwl): Conv2d(96, 24, kernel_size=(1, 1), stride=(1, 1), bias=False)\n",
      "        (bn3): BatchNormAct2d(\n",
      "          24, eps=0.001, momentum=0.1, affine=True, track_running_stats=True\n",
      "          (drop): Identity()\n",
      "          (act): Identity()\n",
      "        )\n",
      "        (drop_path): Identity()\n",
      "      )\n",
      "      (1): InvertedResidual(\n",
      "        (conv_pw): Conv2d(24, 144, kernel_size=(1, 1), stride=(1, 1), bias=False)\n",
      "        (bn1): BatchNormAct2d(\n",
      "          144, eps=0.001, momentum=0.1, affine=True, track_running_stats=True\n",
      "          (drop): Identity()\n",
      "          (act): SiLU(inplace=True)\n",
      "        )\n",
      "        (conv_dw): Conv2d(144, 144, kernel_size=(3, 3), stride=(1, 1), padding=(1, 1), groups=144, bias=False)\n",
      "        (bn2): BatchNormAct2d(\n",
      "          144, eps=0.001, momentum=0.1, affine=True, track_running_stats=True\n",
      "          (drop): Identity()\n",
      "          (act): SiLU(inplace=True)\n",
      "        )\n",
      "        (se): SqueezeExcite(\n",
      "          (conv_reduce): Conv2d(144, 6, kernel_size=(1, 1), stride=(1, 1))\n",
      "          (act1): SiLU(inplace=True)\n",
      "          (conv_expand): Conv2d(6, 144, kernel_size=(1, 1), stride=(1, 1))\n",
      "          (gate): Sigmoid()\n",
      "        )\n",
      "        (conv_pwl): Conv2d(144, 24, kernel_size=(1, 1), stride=(1, 1), bias=False)\n",
      "        (bn3): BatchNormAct2d(\n",
      "          24, eps=0.001, momentum=0.1, affine=True, track_running_stats=True\n",
      "          (drop): Identity()\n",
      "          (act): Identity()\n",
      "        )\n",
      "        (drop_path): Identity()\n",
      "      )\n",
      "    )\n",
      "    (2): Sequential(\n",
      "      (0): InvertedResidual(\n",
      "        (conv_pw): Conv2d(24, 144, kernel_size=(1, 1), stride=(1, 1), bias=False)\n",
      "        (bn1): BatchNormAct2d(\n",
      "          144, eps=0.001, momentum=0.1, affine=True, track_running_stats=True\n",
      "          (drop): Identity()\n",
      "          (act): SiLU(inplace=True)\n",
      "        )\n",
      "        (conv_dw): Conv2dSame(144, 144, kernel_size=(5, 5), stride=(2, 2), groups=144, bias=False)\n",
      "        (bn2): BatchNormAct2d(\n",
      "          144, eps=0.001, momentum=0.1, affine=True, track_running_stats=True\n",
      "          (drop): Identity()\n",
      "          (act): SiLU(inplace=True)\n",
      "        )\n",
      "        (se): SqueezeExcite(\n",
      "          (conv_reduce): Conv2d(144, 6, kernel_size=(1, 1), stride=(1, 1))\n",
      "          (act1): SiLU(inplace=True)\n",
      "          (conv_expand): Conv2d(6, 144, kernel_size=(1, 1), stride=(1, 1))\n",
      "          (gate): Sigmoid()\n",
      "        )\n",
      "        (conv_pwl): Conv2d(144, 40, kernel_size=(1, 1), stride=(1, 1), bias=False)\n",
      "        (bn3): BatchNormAct2d(\n",
      "          40, eps=0.001, momentum=0.1, affine=True, track_running_stats=True\n",
      "          (drop): Identity()\n",
      "          (act): Identity()\n",
      "        )\n",
      "        (drop_path): Identity()\n",
      "      )\n",
      "      (1): InvertedResidual(\n",
      "        (conv_pw): Conv2d(40, 240, kernel_size=(1, 1), stride=(1, 1), bias=False)\n",
      "        (bn1): BatchNormAct2d(\n",
      "          240, eps=0.001, momentum=0.1, affine=True, track_running_stats=True\n",
      "          (drop): Identity()\n",
      "          (act): SiLU(inplace=True)\n",
      "        )\n",
      "        (conv_dw): Conv2d(240, 240, kernel_size=(5, 5), stride=(1, 1), padding=(2, 2), groups=240, bias=False)\n",
      "        (bn2): BatchNormAct2d(\n",
      "          240, eps=0.001, momentum=0.1, affine=True, track_running_stats=True\n",
      "          (drop): Identity()\n",
      "          (act): SiLU(inplace=True)\n",
      "        )\n",
      "        (se): SqueezeExcite(\n",
      "          (conv_reduce): Conv2d(240, 10, kernel_size=(1, 1), stride=(1, 1))\n",
      "          (act1): SiLU(inplace=True)\n",
      "          (conv_expand): Conv2d(10, 240, kernel_size=(1, 1), stride=(1, 1))\n",
      "          (gate): Sigmoid()\n",
      "        )\n",
      "        (conv_pwl): Conv2d(240, 40, kernel_size=(1, 1), stride=(1, 1), bias=False)\n",
      "        (bn3): BatchNormAct2d(\n",
      "          40, eps=0.001, momentum=0.1, affine=True, track_running_stats=True\n",
      "          (drop): Identity()\n",
      "          (act): Identity()\n",
      "        )\n",
      "        (drop_path): Identity()\n",
      "      )\n",
      "    )\n",
      "    (3): Sequential(\n",
      "      (0): InvertedResidual(\n",
      "        (conv_pw): Conv2d(40, 240, kernel_size=(1, 1), stride=(1, 1), bias=False)\n",
      "        (bn1): BatchNormAct2d(\n",
      "          240, eps=0.001, momentum=0.1, affine=True, track_running_stats=True\n",
      "          (drop): Identity()\n",
      "          (act): SiLU(inplace=True)\n",
      "        )\n",
      "        (conv_dw): Conv2dSame(240, 240, kernel_size=(3, 3), stride=(2, 2), groups=240, bias=False)\n",
      "        (bn2): BatchNormAct2d(\n",
      "          240, eps=0.001, momentum=0.1, affine=True, track_running_stats=True\n",
      "          (drop): Identity()\n",
      "          (act): SiLU(inplace=True)\n",
      "        )\n",
      "        (se): SqueezeExcite(\n",
      "          (conv_reduce): Conv2d(240, 10, kernel_size=(1, 1), stride=(1, 1))\n",
      "          (act1): SiLU(inplace=True)\n",
      "          (conv_expand): Conv2d(10, 240, kernel_size=(1, 1), stride=(1, 1))\n",
      "          (gate): Sigmoid()\n",
      "        )\n",
      "        (conv_pwl): Conv2d(240, 80, kernel_size=(1, 1), stride=(1, 1), bias=False)\n",
      "        (bn3): BatchNormAct2d(\n",
      "          80, eps=0.001, momentum=0.1, affine=True, track_running_stats=True\n",
      "          (drop): Identity()\n",
      "          (act): Identity()\n",
      "        )\n",
      "        (drop_path): Identity()\n",
      "      )\n",
      "      (1): InvertedResidual(\n",
      "        (conv_pw): Conv2d(80, 480, kernel_size=(1, 1), stride=(1, 1), bias=False)\n",
      "        (bn1): BatchNormAct2d(\n",
      "          480, eps=0.001, momentum=0.1, affine=True, track_running_stats=True\n",
      "          (drop): Identity()\n",
      "          (act): SiLU(inplace=True)\n",
      "        )\n",
      "        (conv_dw): Conv2d(480, 480, kernel_size=(3, 3), stride=(1, 1), padding=(1, 1), groups=480, bias=False)\n",
      "        (bn2): BatchNormAct2d(\n",
      "          480, eps=0.001, momentum=0.1, affine=True, track_running_stats=True\n",
      "          (drop): Identity()\n",
      "          (act): SiLU(inplace=True)\n",
      "        )\n",
      "        (se): SqueezeExcite(\n",
      "          (conv_reduce): Conv2d(480, 20, kernel_size=(1, 1), stride=(1, 1))\n",
      "          (act1): SiLU(inplace=True)\n",
      "          (conv_expand): Conv2d(20, 480, kernel_size=(1, 1), stride=(1, 1))\n",
      "          (gate): Sigmoid()\n",
      "        )\n",
      "        (conv_pwl): Conv2d(480, 80, kernel_size=(1, 1), stride=(1, 1), bias=False)\n",
      "        (bn3): BatchNormAct2d(\n",
      "          80, eps=0.001, momentum=0.1, affine=True, track_running_stats=True\n",
      "          (drop): Identity()\n",
      "          (act): Identity()\n",
      "        )\n",
      "        (drop_path): Identity()\n",
      "      )\n",
      "      (2): InvertedResidual(\n",
      "        (conv_pw): Conv2d(80, 480, kernel_size=(1, 1), stride=(1, 1), bias=False)\n",
      "        (bn1): BatchNormAct2d(\n",
      "          480, eps=0.001, momentum=0.1, affine=True, track_running_stats=True\n",
      "          (drop): Identity()\n",
      "          (act): SiLU(inplace=True)\n",
      "        )\n",
      "        (conv_dw): Conv2d(480, 480, kernel_size=(3, 3), stride=(1, 1), padding=(1, 1), groups=480, bias=False)\n",
      "        (bn2): BatchNormAct2d(\n",
      "          480, eps=0.001, momentum=0.1, affine=True, track_running_stats=True\n",
      "          (drop): Identity()\n",
      "          (act): SiLU(inplace=True)\n",
      "        )\n",
      "        (se): SqueezeExcite(\n",
      "          (conv_reduce): Conv2d(480, 20, kernel_size=(1, 1), stride=(1, 1))\n",
      "          (act1): SiLU(inplace=True)\n",
      "          (conv_expand): Conv2d(20, 480, kernel_size=(1, 1), stride=(1, 1))\n",
      "          (gate): Sigmoid()\n",
      "        )\n",
      "        (conv_pwl): Conv2d(480, 80, kernel_size=(1, 1), stride=(1, 1), bias=False)\n",
      "        (bn3): BatchNormAct2d(\n",
      "          80, eps=0.001, momentum=0.1, affine=True, track_running_stats=True\n",
      "          (drop): Identity()\n",
      "          (act): Identity()\n",
      "        )\n",
      "        (drop_path): Identity()\n",
      "      )\n",
      "    )\n",
      "    (4): Sequential(\n",
      "      (0): InvertedResidual(\n",
      "        (conv_pw): Conv2d(80, 480, kernel_size=(1, 1), stride=(1, 1), bias=False)\n",
      "        (bn1): BatchNormAct2d(\n",
      "          480, eps=0.001, momentum=0.1, affine=True, track_running_stats=True\n",
      "          (drop): Identity()\n",
      "          (act): SiLU(inplace=True)\n",
      "        )\n",
      "        (conv_dw): Conv2d(480, 480, kernel_size=(5, 5), stride=(1, 1), padding=(2, 2), groups=480, bias=False)\n",
      "        (bn2): BatchNormAct2d(\n",
      "          480, eps=0.001, momentum=0.1, affine=True, track_running_stats=True\n",
      "          (drop): Identity()\n",
      "          (act): SiLU(inplace=True)\n",
      "        )\n",
      "        (se): SqueezeExcite(\n",
      "          (conv_reduce): Conv2d(480, 20, kernel_size=(1, 1), stride=(1, 1))\n",
      "          (act1): SiLU(inplace=True)\n",
      "          (conv_expand): Conv2d(20, 480, kernel_size=(1, 1), stride=(1, 1))\n",
      "          (gate): Sigmoid()\n",
      "        )\n",
      "        (conv_pwl): Conv2d(480, 112, kernel_size=(1, 1), stride=(1, 1), bias=False)\n",
      "        (bn3): BatchNormAct2d(\n",
      "          112, eps=0.001, momentum=0.1, affine=True, track_running_stats=True\n",
      "          (drop): Identity()\n",
      "          (act): Identity()\n",
      "        )\n",
      "        (drop_path): Identity()\n",
      "      )\n",
      "      (1): InvertedResidual(\n",
      "        (conv_pw): Conv2d(112, 672, kernel_size=(1, 1), stride=(1, 1), bias=False)\n",
      "        (bn1): BatchNormAct2d(\n",
      "          672, eps=0.001, momentum=0.1, affine=True, track_running_stats=True\n",
      "          (drop): Identity()\n",
      "          (act): SiLU(inplace=True)\n",
      "        )\n",
      "        (conv_dw): Conv2d(672, 672, kernel_size=(5, 5), stride=(1, 1), padding=(2, 2), groups=672, bias=False)\n",
      "        (bn2): BatchNormAct2d(\n",
      "          672, eps=0.001, momentum=0.1, affine=True, track_running_stats=True\n",
      "          (drop): Identity()\n",
      "          (act): SiLU(inplace=True)\n",
      "        )\n",
      "        (se): SqueezeExcite(\n",
      "          (conv_reduce): Conv2d(672, 28, kernel_size=(1, 1), stride=(1, 1))\n",
      "          (act1): SiLU(inplace=True)\n",
      "          (conv_expand): Conv2d(28, 672, kernel_size=(1, 1), stride=(1, 1))\n",
      "          (gate): Sigmoid()\n",
      "        )\n",
      "        (conv_pwl): Conv2d(672, 112, kernel_size=(1, 1), stride=(1, 1), bias=False)\n",
      "        (bn3): BatchNormAct2d(\n",
      "          112, eps=0.001, momentum=0.1, affine=True, track_running_stats=True\n",
      "          (drop): Identity()\n",
      "          (act): Identity()\n",
      "        )\n",
      "        (drop_path): Identity()\n",
      "      )\n",
      "      (2): InvertedResidual(\n",
      "        (conv_pw): Conv2d(112, 672, kernel_size=(1, 1), stride=(1, 1), bias=False)\n",
      "        (bn1): BatchNormAct2d(\n",
      "          672, eps=0.001, momentum=0.1, affine=True, track_running_stats=True\n",
      "          (drop): Identity()\n",
      "          (act): SiLU(inplace=True)\n",
      "        )\n",
      "        (conv_dw): Conv2d(672, 672, kernel_size=(5, 5), stride=(1, 1), padding=(2, 2), groups=672, bias=False)\n",
      "        (bn2): BatchNormAct2d(\n",
      "          672, eps=0.001, momentum=0.1, affine=True, track_running_stats=True\n",
      "          (drop): Identity()\n",
      "          (act): SiLU(inplace=True)\n",
      "        )\n",
      "        (se): SqueezeExcite(\n",
      "          (conv_reduce): Conv2d(672, 28, kernel_size=(1, 1), stride=(1, 1))\n",
      "          (act1): SiLU(inplace=True)\n",
      "          (conv_expand): Conv2d(28, 672, kernel_size=(1, 1), stride=(1, 1))\n",
      "          (gate): Sigmoid()\n",
      "        )\n",
      "        (conv_pwl): Conv2d(672, 112, kernel_size=(1, 1), stride=(1, 1), bias=False)\n",
      "        (bn3): BatchNormAct2d(\n",
      "          112, eps=0.001, momentum=0.1, affine=True, track_running_stats=True\n",
      "          (drop): Identity()\n",
      "          (act): Identity()\n",
      "        )\n",
      "        (drop_path): Identity()\n",
      "      )\n",
      "    )\n",
      "    (5): Sequential(\n",
      "      (0): InvertedResidual(\n",
      "        (conv_pw): Conv2d(112, 672, kernel_size=(1, 1), stride=(1, 1), bias=False)\n",
      "        (bn1): BatchNormAct2d(\n",
      "          672, eps=0.001, momentum=0.1, affine=True, track_running_stats=True\n",
      "          (drop): Identity()\n",
      "          (act): SiLU(inplace=True)\n",
      "        )\n",
      "        (conv_dw): Conv2dSame(672, 672, kernel_size=(5, 5), stride=(2, 2), groups=672, bias=False)\n",
      "        (bn2): BatchNormAct2d(\n",
      "          672, eps=0.001, momentum=0.1, affine=True, track_running_stats=True\n",
      "          (drop): Identity()\n",
      "          (act): SiLU(inplace=True)\n",
      "        )\n",
      "        (se): SqueezeExcite(\n",
      "          (conv_reduce): Conv2d(672, 28, kernel_size=(1, 1), stride=(1, 1))\n",
      "          (act1): SiLU(inplace=True)\n",
      "          (conv_expand): Conv2d(28, 672, kernel_size=(1, 1), stride=(1, 1))\n",
      "          (gate): Sigmoid()\n",
      "        )\n",
      "        (conv_pwl): Conv2d(672, 192, kernel_size=(1, 1), stride=(1, 1), bias=False)\n",
      "        (bn3): BatchNormAct2d(\n",
      "          192, eps=0.001, momentum=0.1, affine=True, track_running_stats=True\n",
      "          (drop): Identity()\n",
      "          (act): Identity()\n",
      "        )\n",
      "        (drop_path): Identity()\n",
      "      )\n",
      "      (1): InvertedResidual(\n",
      "        (conv_pw): Conv2d(192, 1152, kernel_size=(1, 1), stride=(1, 1), bias=False)\n",
      "        (bn1): BatchNormAct2d(\n",
      "          1152, eps=0.001, momentum=0.1, affine=True, track_running_stats=True\n",
      "          (drop): Identity()\n",
      "          (act): SiLU(inplace=True)\n",
      "        )\n",
      "        (conv_dw): Conv2d(1152, 1152, kernel_size=(5, 5), stride=(1, 1), padding=(2, 2), groups=1152, bias=False)\n",
      "        (bn2): BatchNormAct2d(\n",
      "          1152, eps=0.001, momentum=0.1, affine=True, track_running_stats=True\n",
      "          (drop): Identity()\n",
      "          (act): SiLU(inplace=True)\n",
      "        )\n",
      "        (se): SqueezeExcite(\n",
      "          (conv_reduce): Conv2d(1152, 48, kernel_size=(1, 1), stride=(1, 1))\n",
      "          (act1): SiLU(inplace=True)\n",
      "          (conv_expand): Conv2d(48, 1152, kernel_size=(1, 1), stride=(1, 1))\n",
      "          (gate): Sigmoid()\n",
      "        )\n",
      "        (conv_pwl): Conv2d(1152, 192, kernel_size=(1, 1), stride=(1, 1), bias=False)\n",
      "        (bn3): BatchNormAct2d(\n",
      "          192, eps=0.001, momentum=0.1, affine=True, track_running_stats=True\n",
      "          (drop): Identity()\n",
      "          (act): Identity()\n",
      "        )\n",
      "        (drop_path): Identity()\n",
      "      )\n",
      "      (2): InvertedResidual(\n",
      "        (conv_pw): Conv2d(192, 1152, kernel_size=(1, 1), stride=(1, 1), bias=False)\n",
      "        (bn1): BatchNormAct2d(\n",
      "          1152, eps=0.001, momentum=0.1, affine=True, track_running_stats=True\n",
      "          (drop): Identity()\n",
      "          (act): SiLU(inplace=True)\n",
      "        )\n",
      "        (conv_dw): Conv2d(1152, 1152, kernel_size=(5, 5), stride=(1, 1), padding=(2, 2), groups=1152, bias=False)\n",
      "        (bn2): BatchNormAct2d(\n",
      "          1152, eps=0.001, momentum=0.1, affine=True, track_running_stats=True\n",
      "          (drop): Identity()\n",
      "          (act): SiLU(inplace=True)\n",
      "        )\n",
      "        (se): SqueezeExcite(\n",
      "          (conv_reduce): Conv2d(1152, 48, kernel_size=(1, 1), stride=(1, 1))\n",
      "          (act1): SiLU(inplace=True)\n",
      "          (conv_expand): Conv2d(48, 1152, kernel_size=(1, 1), stride=(1, 1))\n",
      "          (gate): Sigmoid()\n",
      "        )\n",
      "        (conv_pwl): Conv2d(1152, 192, kernel_size=(1, 1), stride=(1, 1), bias=False)\n",
      "        (bn3): BatchNormAct2d(\n",
      "          192, eps=0.001, momentum=0.1, affine=True, track_running_stats=True\n",
      "          (drop): Identity()\n",
      "          (act): Identity()\n",
      "        )\n",
      "        (drop_path): Identity()\n",
      "      )\n",
      "      (3): InvertedResidual(\n",
      "        (conv_pw): Conv2d(192, 1152, kernel_size=(1, 1), stride=(1, 1), bias=False)\n",
      "        (bn1): BatchNormAct2d(\n",
      "          1152, eps=0.001, momentum=0.1, affine=True, track_running_stats=True\n",
      "          (drop): Identity()\n",
      "          (act): SiLU(inplace=True)\n",
      "        )\n",
      "        (conv_dw): Conv2d(1152, 1152, kernel_size=(5, 5), stride=(1, 1), padding=(2, 2), groups=1152, bias=False)\n",
      "        (bn2): BatchNormAct2d(\n",
      "          1152, eps=0.001, momentum=0.1, affine=True, track_running_stats=True\n",
      "          (drop): Identity()\n",
      "          (act): SiLU(inplace=True)\n",
      "        )\n",
      "        (se): SqueezeExcite(\n",
      "          (conv_reduce): Conv2d(1152, 48, kernel_size=(1, 1), stride=(1, 1))\n",
      "          (act1): SiLU(inplace=True)\n",
      "          (conv_expand): Conv2d(48, 1152, kernel_size=(1, 1), stride=(1, 1))\n",
      "          (gate): Sigmoid()\n",
      "        )\n",
      "        (conv_pwl): Conv2d(1152, 192, kernel_size=(1, 1), stride=(1, 1), bias=False)\n",
      "        (bn3): BatchNormAct2d(\n",
      "          192, eps=0.001, momentum=0.1, affine=True, track_running_stats=True\n",
      "          (drop): Identity()\n",
      "          (act): Identity()\n",
      "        )\n",
      "        (drop_path): Identity()\n",
      "      )\n",
      "    )\n",
      "    (6): Sequential(\n",
      "      (0): InvertedResidual(\n",
      "        (conv_pw): Conv2d(192, 1152, kernel_size=(1, 1), stride=(1, 1), bias=False)\n",
      "        (bn1): BatchNormAct2d(\n",
      "          1152, eps=0.001, momentum=0.1, affine=True, track_running_stats=True\n",
      "          (drop): Identity()\n",
      "          (act): SiLU(inplace=True)\n",
      "        )\n",
      "        (conv_dw): Conv2d(1152, 1152, kernel_size=(3, 3), stride=(1, 1), padding=(1, 1), groups=1152, bias=False)\n",
      "        (bn2): BatchNormAct2d(\n",
      "          1152, eps=0.001, momentum=0.1, affine=True, track_running_stats=True\n",
      "          (drop): Identity()\n",
      "          (act): SiLU(inplace=True)\n",
      "        )\n",
      "        (se): SqueezeExcite(\n",
      "          (conv_reduce): Conv2d(1152, 48, kernel_size=(1, 1), stride=(1, 1))\n",
      "          (act1): SiLU(inplace=True)\n",
      "          (conv_expand): Conv2d(48, 1152, kernel_size=(1, 1), stride=(1, 1))\n",
      "          (gate): Sigmoid()\n",
      "        )\n",
      "        (conv_pwl): Conv2d(1152, 320, kernel_size=(1, 1), stride=(1, 1), bias=False)\n",
      "        (bn3): BatchNormAct2d(\n",
      "          320, eps=0.001, momentum=0.1, affine=True, track_running_stats=True\n",
      "          (drop): Identity()\n",
      "          (act): Identity()\n",
      "        )\n",
      "        (drop_path): Identity()\n",
      "      )\n",
      "    )\n",
      "  )\n",
      "  (conv_head): Conv2d(320, 1280, kernel_size=(1, 1), stride=(1, 1), bias=False)\n",
      "  (bn2): BatchNormAct2d(\n",
      "    1280, eps=0.001, momentum=0.1, affine=True, track_running_stats=True\n",
      "    (drop): Identity()\n",
      "    (act): SiLU(inplace=True)\n",
      "  )\n",
      "  (global_pool): SelectAdaptivePool2d (pool_type=avg, flatten=Flatten(start_dim=1, end_dim=-1))\n",
      "  (classifier): Sequential(\n",
      "    (0): Linear(in_features=1280, out_features=128, bias=True)\n",
      "    (1): ReLU()\n",
      "    (2): Linear(in_features=128, out_features=8, bias=True)\n",
      "  )\n",
      ")\n"
     ]
    }
   ],
   "source": [
    "w0,b0=mlpModel.layers[0].get_weights()\n",
    "print(w0.shape,b0.shape)\n",
    "\n",
    "w1,b1=mlpModel.layers[1].get_weights()\n",
    "print(w1.shape,b1.shape)\n",
    "\n",
    "with torch.no_grad():\n",
    "    l0=nn.Linear(X_train.shape[1],128)\n",
    "    l0.weight.copy_(torch.from_numpy(np.transpose(w0)).float())\n",
    "    l0.bias.copy_(torch.from_numpy(b0).float())\n",
    "    l1=nn.Linear(128,num_classes)\n",
    "    l1.weight.copy_(torch.from_numpy(np.transpose(w1)).float())\n",
    "    l1.bias.copy_(torch.from_numpy(b1).float())\n",
    "model=feature_extractor_model\n",
    "model.classifier=nn.Sequential(l0,\n",
    "          nn.ReLU(),\n",
    "          l1)\n",
    "model=model.to(device)\n",
    "print(model)"
   ]
  },
  {
   "cell_type": "code",
   "execution_count": 8,
   "metadata": {},
   "outputs": [],
   "source": [
    "FINETUNED_PATH='enet_b0_vgaf_finetuned_2layers_expr.pt'"
   ]
  },
  {
   "cell_type": "markdown",
   "metadata": {},
   "source": [
    "--------------"
   ]
  },
  {
   "cell_type": "code",
   "execution_count": 22,
   "metadata": {},
   "outputs": [
    {
     "name": "stdout",
     "output_type": "stream",
     "text": [
      "enet_b0_vgaf_finetuned_expr.pt\n"
     ]
    }
   ],
   "source": [
    "if False:\n",
    "    torch.save(model, FINETUNED_PATH)\n",
    "else:\n",
    "    print(FINETUNED_PATH)\n",
    "    model = torch.load(FINETUNED_PATH)"
   ]
  },
  {
   "cell_type": "code",
   "execution_count": 21,
   "metadata": {},
   "outputs": [
    {
     "name": "stdout",
     "output_type": "stream",
     "text": [
      "/home/HDD6TB/datasets/emotions/ABAW/ABAW_5/VA_AU_FER/cropped\n"
     ]
    }
   ],
   "source": [
    "data_dir=os.path.join(DATA_DIR,'cropped')\n",
    "print(data_dir)"
   ]
  },
  {
   "cell_type": "code",
   "execution_count": 36,
   "metadata": {},
   "outputs": [],
   "source": [
    "def get_filename2Expr(dirname,step=1):\n",
    "    dirpath=os.path.join(DATA_DIR,'EXPR_Classification_Challenge/',dirname)\n",
    "    num_missed=0\n",
    "    X,y=[],[]\n",
    "    numConstant=0\n",
    "    for filename in os.listdir(dirpath):\n",
    "        fn, ext = os.path.splitext(os.path.basename(filename))\n",
    "        if ext.lower()=='.txt':\n",
    "            with open(os.path.join(dirpath,filename)) as f:\n",
    "                lines = f.read().splitlines()\n",
    "                prev_val=None\n",
    "                for i,line in enumerate(lines):\n",
    "                    if i>0:\n",
    "                        expression=int(line)\n",
    "                        if expression>=0:\n",
    "                            if prev_val is None:\n",
    "                                prev_val=expression\n",
    "                                numConstant=1\n",
    "                            elif prev_val==expression:\n",
    "                                numConstant+=1\n",
    "                            else:\n",
    "                                prev_val=expression\n",
    "                                numConstant=1\n",
    "                            if i%step!=step-1:\n",
    "                                continue\n",
    "                            imagename=fn+'/'+get_names(i)+'.jpg'\n",
    "                            if os.path.exists(os.path.join(data_dir,imagename)):\n",
    "                                X.append(imagename)\n",
    "                                y.append(expression)\n",
    "                            else:\n",
    "                                num_missed+=1\n",
    "    y=np.array(y)\n",
    "    print(len(X),y.shape,num_missed)\n",
    "    return X,y\n"
   ]
  },
  {
   "cell_type": "code",
   "execution_count": 11,
   "metadata": {},
   "outputs": [
    {
     "name": "stdout",
     "output_type": "stream",
     "text": [
      "585317 (585317,) 12044\n",
      "56087 (56087,) 729\n"
     ]
    }
   ],
   "source": [
    "filenames_train,y_train=get_filename2Expr('Train_Set',1)\n",
    "filenames_val,y_val=get_filename2Expr('Validation_Set',5)"
   ]
  },
  {
   "cell_type": "code",
   "execution_count": 133,
   "metadata": {},
   "outputs": [
    {
     "ename": "NameError",
     "evalue": "name 'transforms' is not defined",
     "output_type": "error",
     "traceback": [
      "\u001b[0;31m---------------------------------------------------------------------------\u001b[0m",
      "\u001b[0;31mNameError\u001b[0m                                 Traceback (most recent call last)",
      "\u001b[0;32m<ipython-input-133-6b4e797efb86>\u001b[0m in \u001b[0;36m<module>\u001b[0;34m\u001b[0m\n\u001b[1;32m     14\u001b[0m         \u001b[0;32mreturn\u001b[0m \u001b[0mimg\u001b[0m\u001b[0;34m,\u001b[0m\u001b[0mself\u001b[0m\u001b[0;34m.\u001b[0m\u001b[0my\u001b[0m\u001b[0;34m[\u001b[0m\u001b[0mindex\u001b[0m\u001b[0;34m]\u001b[0m\u001b[0;34m\u001b[0m\u001b[0;34m\u001b[0m\u001b[0m\n\u001b[1;32m     15\u001b[0m \u001b[0;34m\u001b[0m\u001b[0m\n\u001b[0;32m---> 16\u001b[0;31m train_transforms = transforms.Compose(\n\u001b[0m\u001b[1;32m     17\u001b[0m     [\n\u001b[1;32m     18\u001b[0m         \u001b[0;31m#transforms.Resize((IMG_SIZE_ORIG,IMG_SIZE_ORIG)),\u001b[0m\u001b[0;34m\u001b[0m\u001b[0;34m\u001b[0m\u001b[0;34m\u001b[0m\u001b[0m\n",
      "\u001b[0;31mNameError\u001b[0m: name 'transforms' is not defined"
     ]
    }
   ],
   "source": [
    "from torch.utils import data\n",
    "class ABAW2_Exp_data_img(data.dataset.Dataset):\n",
    "    def __init__(self,filenames,y,transform):\n",
    "        self.transform=transform\n",
    "        self.filenames=filenames\n",
    "        self.y=y\n",
    "    \n",
    "    def __len__(self):\n",
    "        return len(self.filenames)\n",
    "\n",
    "    def __getitem__(self, index):\n",
    "        img = Image.open(os.path.join(data_dir, self.filenames[index]))\n",
    "        img = self.transform(img)\n",
    "        return img,self.y[index]\n",
    "\n",
    "train_transforms = transforms.Compose(\n",
    "    [\n",
    "        #transforms.Resize((IMG_SIZE_ORIG,IMG_SIZE_ORIG)),\n",
    "        #transforms.RandomResizedCrop(IMG_SIZE),\n",
    "        transforms.Resize((IMG_SIZE,IMG_SIZE)),\n",
    "        transforms.RandomHorizontalFlip(),\n",
    "        transforms.ToTensor(),\n",
    "        transforms.Normalize(mean=[0.485, 0.456, 0.406],\n",
    "                                     std=[0.229, 0.224, 0.225])\n",
    "    ]\n",
    ")\n",
    "\n",
    "batch_size=64\n",
    "kwargs = {'num_workers': 4, 'pin_memory': True} if use_cuda else {}\n",
    "\n",
    "train_dataset = ABAW2_Exp_data_img(filenames_train,y_train,train_transforms)\n",
    "train_loader = torch.utils.data.DataLoader(train_dataset, batch_size=batch_size, shuffle=True, **kwargs)\n",
    "test_dataset = ABAW2_Exp_data_img(filenames_val,y_val,test_transforms)\n",
    "test_loader  = torch.utils.data.DataLoader(test_dataset, batch_size=batch_size, shuffle=False, **kwargs) \n",
    "\n",
    "print(len(train_dataset), len(test_dataset))"
   ]
  },
  {
   "cell_type": "code",
   "execution_count": 13,
   "metadata": {},
   "outputs": [
    {
     "name": "stdout",
     "output_type": "stream",
     "text": [
      "8 [177198  16573  10771   9080  95463  78751  31615 165866] dict_values([1.0, 10.691968865021419, 16.451397270448425, 19.515198237885464, 1.856195594104522, 2.2501047605744686, 5.6048711054879, 1.0683202102902343])\n"
     ]
    }
   ],
   "source": [
    "(unique, counts) = np.unique(y_train, return_counts=True)\n",
    "cw=1/counts\n",
    "cw/=cw.min()\n",
    "class_weights = {i:cwi for i,cwi in zip(unique,cw)}\n",
    "num_classes=len(unique)\n",
    "print(num_classes,counts, class_weights.values())"
   ]
  },
  {
   "cell_type": "code",
   "execution_count": 14,
   "metadata": {},
   "outputs": [],
   "source": [
    "\"\"\" Label smooth \"\"\"\n",
    "def label_smooth(target, n_classes: int, label_smoothing=0.1):\n",
    "    # convert to one-hot\n",
    "    batch_size = target.size(0)\n",
    "    target = torch.unsqueeze(target, 1)\n",
    "    soft_target = torch.zeros((batch_size, n_classes), device=target.device)\n",
    "    soft_target.scatter_(1, target, 1)\n",
    "    # label smoothing\n",
    "    soft_target = soft_target * (1 - label_smoothing) + label_smoothing / n_classes\n",
    "    return soft_target\n",
    "\n",
    "def cross_entropy_loss_with_soft_target(pred, soft_target):\n",
    "    #logsoftmax = nn.LogSoftmax(dim=-1)\n",
    "    return torch.mean(torch.sum(- weights*soft_target * torch.nn.functional.log_softmax(pred, -1), 1))\n",
    "\n",
    "def cross_entropy_with_label_smoothing(pred, target):\n",
    "    soft_target = label_smooth(target, pred.size(1)) #num_classes) #\n",
    "    return cross_entropy_loss_with_soft_target(pred, soft_target)\n"
   ]
  },
  {
   "cell_type": "code",
   "execution_count": 15,
   "metadata": {},
   "outputs": [],
   "source": [
    "# loss function\n",
    "weights = torch.FloatTensor(list(class_weights.values())).cuda()\n",
    "if False:\n",
    "    criterion = nn.CrossEntropyLoss(weight=weights)\n",
    "    #criterion = nn.CrossEntropyLoss()\n",
    "else:\n",
    "    criterion=cross_entropy_with_label_smoothing"
   ]
  },
  {
   "cell_type": "code",
   "execution_count": 16,
   "metadata": {},
   "outputs": [
    {
     "data": {
      "text/plain": [
       "(0.41608572396455507, 0.2999480217211319)"
      ]
     },
     "execution_count": 16,
     "metadata": {},
     "output_type": "execute_result"
    }
   ],
   "source": [
    "def test(model):\n",
    "    model.eval()\n",
    "    with torch.no_grad():\n",
    "        labels,preds=[],[]\n",
    "        epoch_val_accuracy,epoch_val_f1=0,0\n",
    "        for data, label in test_loader:\n",
    "            data = data.to(device)\n",
    "            #label = label.to(device)\n",
    "\n",
    "            val_output = model(data)\n",
    "            val_preds=val_output.argmax(dim=1).cpu()\n",
    "            \n",
    "            labels.extend(label)\n",
    "            preds.extend(val_preds)\n",
    "\n",
    "    labels=np.array(labels)\n",
    "    preds=np.array(preds)\n",
    "    epoch_val_accuracy = (preds == labels).mean()\n",
    "    epoch_val_f1=f1_score(y_true=labels,y_pred=preds, average=\"macro\")\n",
    "    return epoch_val_accuracy,epoch_val_f1\n",
    "\n",
    "test(model) #(0.39825628042148803, 0.2818708210857309)"
   ]
  },
  {
   "cell_type": "code",
   "execution_count": 17,
   "metadata": {},
   "outputs": [],
   "source": [
    "import sys\n",
    "sys.path.append('../affectnet')\n",
    "from robust_optimization import RobustOptimizer\n",
    "import copy\n",
    "def train(model,n_epochs, learningrate, use_sam=False, optimizer=optim.Adam, need_train_acc=True):\n",
    "    # optimizer\n",
    "    if use_sam:\n",
    "        optimizer = RobustOptimizer(filter(lambda p: p.requires_grad, model.parameters()), optimizer, lr=learningrate)\n",
    "    else:\n",
    "        optimizer=optimizer(filter(lambda p: p.requires_grad, model.parameters()), lr=learningrate)\n",
    "    # scheduler\n",
    "    #scheduler = StepLR(optimizer, step_size=1, gamma=gamma)\n",
    "    best_f1=0\n",
    "    best_model=None\n",
    "    for epoch in range(n_epochs):\n",
    "        epoch_loss = 0\n",
    "        epoch_accuracy = 0\n",
    "        model.train()\n",
    "        for data, label in tqdm(train_loader):\n",
    "            data = data.to(device)\n",
    "            label = label.to(device)\n",
    "\n",
    "            output = model(data)\n",
    "            loss = criterion(output, label)\n",
    "\n",
    "            if use_sam:\n",
    "                #optimizer.zero_grad()\n",
    "                loss.backward()\n",
    "                optimizer.first_step(zero_grad=True)\n",
    "  \n",
    "                # second forward-backward pass\n",
    "                output = model(data)\n",
    "                loss = criterion(output, label)\n",
    "                loss.backward()\n",
    "                optimizer.second_step(zero_grad=True)\n",
    "            else:\n",
    "                optimizer.zero_grad()\n",
    "                loss.backward()\n",
    "                optimizer.step()\n",
    "\n",
    "            if need_train_acc:\n",
    "                acc = (output.argmax(dim=1) == label).float().sum()\n",
    "                epoch_accuracy += acc / len(train_dataset)\n",
    "            epoch_loss += loss / len(train_loader)\n",
    "\n",
    "        epoch_val_accuracy,epoch_val_f1=test(model)\n",
    "        if need_train_acc:\n",
    "            print(f\"Epoch : {epoch+1} - loss : {epoch_loss:.4f} - acc: {epoch_accuracy:.4f} - val_f1: {epoch_val_f1:.4f} - val_acc: {epoch_val_accuracy:.4f}\\n\")\n",
    "        else:\n",
    "            print(f\"Epoch : {epoch+1} - loss : {epoch_loss:.4f} - val_f1: {epoch_val_f1:.4f} - val_acc: {epoch_val_accuracy:.4f}\\n\")\n",
    "        if best_f1<epoch_val_f1:\n",
    "            best_f1=epoch_val_f1\n",
    "            best_model=copy.deepcopy(model.state_dict())\n",
    "        #scheduler.step()\n",
    "    \n",
    "    if best_model is not None:\n",
    "        model.load_state_dict(best_model)\n",
    "        print(f\"Best f1:{best_f1}\")\n",
    "        epoch_val_accuracy,epoch_val_f1=test(model)\n",
    "        print(\n",
    "            f\"val_f1: {epoch_val_f1:.4f} - val_acc: {epoch_val_accuracy:.4f}\\n\"\n",
    "        )\n",
    "    else:\n",
    "        print(f\"No best model Best acc:{best_acc}\")"
   ]
  },
  {
   "cell_type": "code",
   "execution_count": 18,
   "metadata": {},
   "outputs": [],
   "source": [
    "#adapted from https://pytorch.org/tutorials/beginner/finetuning_torchvision_models_tutorial.html\n",
    "def set_parameter_requires_grad(model, requires_grad):\n",
    "    for param in model.parameters():\n",
    "        param.requires_grad = requires_grad\n",
    "set_parameter_requires_grad(model, requires_grad=True)"
   ]
  },
  {
   "cell_type": "code",
   "execution_count": 19,
   "metadata": {},
   "outputs": [
    {
     "data": {
      "application/vnd.jupyter.widget-view+json": {
       "model_id": "941cf360de664fac9a2e7921dcfe3e38",
       "version_major": 2,
       "version_minor": 0
      },
      "text/plain": [
       "  0%|          | 0/9146 [00:00<?, ?it/s]"
      ]
     },
     "metadata": {},
     "output_type": "display_data"
    },
    {
     "name": "stderr",
     "output_type": "stream",
     "text": [
      "IOPub message rate exceeded.\n",
      "The notebook server will temporarily stop sending output\n",
      "to the client in order to avoid crashing it.\n",
      "To change this limit, set the config variable\n",
      "`--NotebookApp.iopub_msg_rate_limit`.\n",
      "\n",
      "Current values:\n",
      "NotebookApp.iopub_msg_rate_limit=1000.0 (msgs/sec)\n",
      "NotebookApp.rate_limit_window=3.0 (secs)\n",
      "\n",
      "IOPub message rate exceeded.\n",
      "The notebook server will temporarily stop sending output\n",
      "to the client in order to avoid crashing it.\n",
      "To change this limit, set the config variable\n",
      "`--NotebookApp.iopub_msg_rate_limit`.\n",
      "\n",
      "Current values:\n",
      "NotebookApp.iopub_msg_rate_limit=1000.0 (msgs/sec)\n",
      "NotebookApp.rate_limit_window=3.0 (secs)\n",
      "\n",
      "IOPub message rate exceeded.\n",
      "The notebook server will temporarily stop sending output\n",
      "to the client in order to avoid crashing it.\n",
      "To change this limit, set the config variable\n",
      "`--NotebookApp.iopub_msg_rate_limit`.\n",
      "\n",
      "Current values:\n",
      "NotebookApp.iopub_msg_rate_limit=1000.0 (msgs/sec)\n",
      "NotebookApp.rate_limit_window=3.0 (secs)\n",
      "\n",
      "IOPub message rate exceeded.\n",
      "The notebook server will temporarily stop sending output\n",
      "to the client in order to avoid crashing it.\n",
      "To change this limit, set the config variable\n",
      "`--NotebookApp.iopub_msg_rate_limit`.\n",
      "\n",
      "Current values:\n",
      "NotebookApp.iopub_msg_rate_limit=1000.0 (msgs/sec)\n",
      "NotebookApp.rate_limit_window=3.0 (secs)\n",
      "\n"
     ]
    },
    {
     "name": "stdout",
     "output_type": "stream",
     "text": [
      "Epoch : 3 - loss : 2.5846 - acc: 0.9725 - val_f1: 0.3553 - val_acc: 0.4595\n",
      "\n"
     ]
    },
    {
     "data": {
      "application/vnd.jupyter.widget-view+json": {
       "model_id": "3cacee10a9ee46e09aed281fbee1378e",
       "version_major": 2,
       "version_minor": 0
      },
      "text/plain": [
       "  0%|          | 0/9146 [00:00<?, ?it/s]"
      ]
     },
     "metadata": {},
     "output_type": "display_data"
    },
    {
     "name": "stderr",
     "output_type": "stream",
     "text": [
      "IOPub message rate exceeded.\n",
      "The notebook server will temporarily stop sending output\n",
      "to the client in order to avoid crashing it.\n",
      "To change this limit, set the config variable\n",
      "`--NotebookApp.iopub_msg_rate_limit`.\n",
      "\n",
      "Current values:\n",
      "NotebookApp.iopub_msg_rate_limit=1000.0 (msgs/sec)\n",
      "NotebookApp.rate_limit_window=3.0 (secs)\n",
      "\n",
      "IOPub message rate exceeded.\n",
      "The notebook server will temporarily stop sending output\n",
      "to the client in order to avoid crashing it.\n",
      "To change this limit, set the config variable\n",
      "`--NotebookApp.iopub_msg_rate_limit`.\n",
      "\n",
      "Current values:\n",
      "NotebookApp.iopub_msg_rate_limit=1000.0 (msgs/sec)\n",
      "NotebookApp.rate_limit_window=3.0 (secs)\n",
      "\n",
      "IOPub message rate exceeded.\n",
      "The notebook server will temporarily stop sending output\n",
      "to the client in order to avoid crashing it.\n",
      "To change this limit, set the config variable\n",
      "`--NotebookApp.iopub_msg_rate_limit`.\n",
      "\n",
      "Current values:\n",
      "NotebookApp.iopub_msg_rate_limit=1000.0 (msgs/sec)\n",
      "NotebookApp.rate_limit_window=3.0 (secs)\n",
      "\n"
     ]
    },
    {
     "name": "stdout",
     "output_type": "stream",
     "text": [
      "Epoch : 5 - loss : 2.5213 - acc: 0.9853 - val_f1: 0.3565 - val_acc: 0.4713\n",
      "\n",
      "Best f1:0.37740892891459465\n",
      "val_f1: 0.3774 - val_acc: 0.4903\n",
      "\n"
     ]
    }
   ],
   "source": [
    "train(model,5,1e-4,use_sam=True)\n",
    "#Epoch : 5 - loss : 2.5206 - acc: 0.9855 - val_f1: 0.3805 - val_acc: 0.4829"
   ]
  },
  {
   "cell_type": "code",
   "execution_count": 23,
   "metadata": {},
   "outputs": [
    {
     "name": "stdout",
     "output_type": "stream",
     "text": [
      "enet_b0_vgaf_finetuned_expr.pt\n"
     ]
    }
   ],
   "source": [
    "if False:\n",
    "    torch.save(model, FINETUNED_PATH)\n",
    "else:\n",
    "    print(FINETUNED_PATH)\n",
    "    model = torch.load(FINETUNED_PATH)"
   ]
  },
  {
   "cell_type": "code",
   "execution_count": 37,
   "metadata": {},
   "outputs": [
    {
     "name": "stdout",
     "output_type": "stream",
     "text": [
      "280532 (280532,) 3698\n"
     ]
    },
    {
     "data": {
      "application/vnd.jupyter.widget-view+json": {
       "model_id": "bfd8c0b5cfeb4b09a92ae66664a21bc2",
       "version_major": 2,
       "version_minor": 0
      },
      "text/plain": [
       "  0%|          | 0/280532 [00:00<?, ?it/s]"
      ]
     },
     "metadata": {},
     "output_type": "display_data"
    }
   ],
   "source": [
    "#model.eval()\n",
    "filenames_val_all,y_val_all=get_filename2Expr('Validation_Set',1)\n",
    "val_scores=[]\n",
    "imgs=[]\n",
    "for filename in tqdm(filenames_val_all):\n",
    "    filepath=os.path.join(data_dir,filename)   \n",
    "    img = Image.open(filepath)\n",
    "    img_tensor = test_transforms(img)\n",
    "    if img.size:\n",
    "        imgs.append(img_tensor)\n",
    "        if len(imgs)>=64: #96: #48: #32:        \n",
    "            scores = model(torch.stack(imgs, dim=0).to(device))\n",
    "            scores=scores.data.cpu().numpy()\n",
    "            #preds=np.argmax(scores,axis=1)\n",
    "            #print(scores.shape,preds.shape)\n",
    "\n",
    "            if len(val_scores)==0:\n",
    "                val_scores=scores\n",
    "            else:\n",
    "                val_scores=np.concatenate((val_scores,scores),axis=0)\n",
    "            imgs=[]\n",
    "\n",
    "if len(imgs)>0:        \n",
    "    scores = model(torch.stack(imgs, dim=0).to(device))\n",
    "    scores=scores.data.cpu().numpy()\n",
    "    #preds=np.argmax(scores,axis=1)\n",
    "    #print(scores.shape,preds.shape)\n",
    "\n",
    "    if len(val_scores)==0:\n",
    "        val_scores=scores\n",
    "    else:\n",
    "        val_scores=np.concatenate((val_scores,scores),axis=0)\n",
    "    imgs=[]\n"
   ]
  },
  {
   "cell_type": "code",
   "execution_count": 38,
   "metadata": {},
   "outputs": [
    {
     "name": "stdout",
     "output_type": "stream",
     "text": [
      "0.4836667474655298 0.3801234273402112\n",
      "(0.3801234273402112, 0.4836667474655298, [0.580467222914545, 0.2462413652986591, 0.47159423685135293, 0.05278283748229103, 0.5092937576754157, 0.4012854191639675, 0.2608122114388015, 0.5185103678966566])\n"
     ]
    }
   ],
   "source": [
    "val_preds=np.argmax(val_scores,axis=1)\n",
    "acc= (val_preds == y_val_all).mean()\n",
    "f1=f1_score(y_true=y_val_all,y_pred=val_preds, average=\"macro\")\n",
    "print(acc,f1)\n",
    "print(metric_for_Exp(y_val,val_preds))\n",
    "#first model 0.4836667474655298 0.3801234273402112\n",
    "#2 layers:0.4426197367858212 0.3418797148135464\n",
    "#1layer and bias:"
   ]
  },
  {
   "cell_type": "code",
   "execution_count": 41,
   "metadata": {},
   "outputs": [
    {
     "name": "stdout",
     "output_type": "stream",
     "text": [
      "(0.37755217409013575, 0.48992271826387007, [0.565062109777239, 0.2572753280063135, 0.4055436081242533, 0.054577097111033764, 0.5136565742113064, 0.41232826235721426, 0.25534346014249226, 0.5566309529912339])\n"
     ]
    }
   ],
   "source": [
    "print(metric_for_Exp(y_val,val_preds)) #logreg"
   ]
  },
  {
   "cell_type": "markdown",
   "metadata": {},
   "source": [
    "##### Ensemble "
   ]
  },
  {
   "cell_type": "code",
   "execution_count": 39,
   "metadata": {},
   "outputs": [
    {
     "name": "stdout",
     "output_type": "stream",
     "text": [
      "Acc: 0.49544436998274705 F1: 0.3844313672414089\n",
      "(0.3844313672414089, 0.49544436998274705, [0.5975792617828053, 0.18688981868898186, 0.5203826342899192, 0.01771963235902956, 0.4792554615273745, 0.4860550818814191, 0.289585043895661, 0.4979840035060809])\n"
     ]
    }
   ],
   "source": [
    "#y_val_preds=mlpModel.predict(X_val)\n",
    "y_pred=np.argmax(y_val_preds,axis=1)\n",
    "print('Acc:',(y_pred==y_val).mean(), 'F1:',f1_score(y_true=y_val,y_pred=y_pred, average=\"macro\"))\n",
    "print(metric_for_Exp(y_val,y_pred))"
   ]
  },
  {
   "cell_type": "code",
   "execution_count": 40,
   "metadata": {},
   "outputs": [
    {
     "name": "stdout",
     "output_type": "stream",
     "text": [
      "0.0 (0.3801234273402112, 0.4836667474655298, [0.580467222914545, 0.2462413652986591, 0.47159423685135293, 0.05278283748229103, 0.5092937576754157, 0.4012854191639675, 0.2608122114388015, 0.5185103678966566])\n",
      "0.1 (0.3827371740485952, 0.487245661813982, [0.5854303801455072, 0.24899334374229598, 0.4796374694412974, 0.05061279123269335, 0.5097745922925105, 0.4046989422294548, 0.2619399930737021, 0.5208098802313003])\n",
      "0.2 (0.3848571300247635, 0.4908851753097686, [0.5909438312054427, 0.25137522920486743, 0.4864209505334627, 0.04656435298221137, 0.5097381070777391, 0.40697143437008476, 0.26393406385195944, 0.5229090709723402])\n",
      "0.30000000000000004 (0.3877536218010715, 0.4955584389659647, [0.5974731152665433, 0.25398710553104853, 0.4949894841024372, 0.04293495674463313, 0.5098946498657302, 0.4096733350215244, 0.26678473166566524, 0.5262915962109895])\n",
      "0.4 (0.3904217485408135, 0.5004206293756149, [0.6047069590274428, 0.2561782109293421, 0.5042567951062622, 0.035819739580812235, 0.5105966876987843, 0.41341149123250287, 0.26952244962716165, 0.5288816551241998])\n",
      "0.5 (0.3937842464461888, 0.5057462250295867, [0.612246652745363, 0.2554478342079516, 0.5153524299967815, 0.0312339463680263, 0.5108036877134331, 0.41841846882001965, 0.27506065636572596, 0.5317102953522094])\n",
      "0.6000000000000001 (0.3971101746519401, 0.5122944975974221, [0.6226320854702937, 0.2507189072609633, 0.5272943037974684, 0.02347859792901047, 0.5112977036855438, 0.42690380761523045, 0.2798004184773861, 0.5347555729796247])\n",
      "0.7000000000000001 (0.4007284600565896, 0.5195129254416608, [0.6335573225142334, 0.2409484724122207, 0.5351810939278302, 0.018159951894167168, 0.5110523467731232, 0.441167709264224, 0.28779126371130004, 0.5379695199556179])\n",
      "0.8 (0.4051360355253487, 0.5243287753268789, [0.6378242074927953, 0.22352622551232285, 0.537062363238512, 0.01793903425950904, 0.5099218404061415, 0.47957471943295926, 0.3005083420229406, 0.5347315518376093])\n",
      "0.9 (0.3977041872431498, 0.5142942694594556, [0.6222866973989462, 0.20052816901408452, 0.5326689592252088, 0.016837877500579284, 0.4989875196297215, 0.488337401681584, 0.302406819857065, 0.5195800536380089])\n",
      "1.0 (0.3844313672414089, 0.49544436998274705, [0.5975792617828053, 0.18688981868898186, 0.5203826342899192, 0.01771963235902956, 0.4792554615273745, 0.4860550818814191, 0.289585043895661, 0.4979840035060809])\n"
     ]
    }
   ],
   "source": [
    "for w in np.linspace(0,1,11):\n",
    "    y_ensemble=w*y_val_preds+(1-w)*val_scores\n",
    "    y_ensemble_pred=np.argmax(y_ensemble,axis=1)\n",
    "    print(w,metric_for_Exp(y_val,y_ensemble_pred))"
   ]
  },
  {
   "cell_type": "code",
   "execution_count": 55,
   "metadata": {},
   "outputs": [
    {
     "name": "stdout",
     "output_type": "stream",
     "text": [
      "0.0 (0.3952488491649343, 0.517563058759785, [0.6016788248226242, 0.1918739931984965, 0.5253380888690742, 0.016344229486324215, 0.48850525596102906, 0.49619380261508145, 0.2903130634322242, 0.5517435349346206])\n",
      "0.1 (0.40953213649205417, 0.5274407197752841, [0.6148188421290555, 0.17785527462946818, 0.5444070332959222, 0.017477562588568727, 0.5067708555124983, 0.5583590338004264, 0.3141117359331847, 0.5424567540473093])\n",
      "0.2 (0.4074720160149119, 0.5272410990546533, [0.6116878860768102, 0.13929040735873852, 0.5155406391361447, 0.03301680058436816, 0.5130563701884057, 0.5855199682173329, 0.3228455116263024, 0.5388185449311923])\n",
      "0.30000000000000004 (0.3953708890368174, 0.5149002609327991, [0.5876591201161074, 0.11233642111454196, 0.4490543014032947, 0.06676266527032335, 0.5096215030170049, 0.5766154717248213, 0.32346439572386304, 0.5374532339245822])\n",
      "0.4 (0.37880367622786354, 0.49849927993954346, [0.5566701701635113, 0.09710902124695228, 0.3909755322529393, 0.07857573928786964, 0.4992648765766463, 0.553218127604896, 0.31798787334381323, 0.5366280693462803])\n",
      "0.5 (0.36408085511963023, 0.48252605763335377, [0.5217361221623342, 0.08609271523178808, 0.3484446587894864, 0.0858924036019395, 0.489214849938513, 0.535450988949329, 0.30971782103515916, 0.5360972812484927])\n",
      "0.6000000000000001 (0.35209537838264715, 0.4692013745312478, [0.49100915859430216, 0.079488, 0.3151452162365032, 0.0919770614108346, 0.48011019650970327, 0.522696217547337, 0.30086089714544634, 0.5354762796170509])\n",
      "0.7000000000000001 (0.34319871033413785, 0.4590848815821368, [0.4671776269599813, 0.07448327229842963, 0.2933034463435136, 0.09541424141870206, 0.472073995019566, 0.5134129912727698, 0.29486112162264433, 0.5348629877374959])\n",
      "0.8 (0.3361536745996882, 0.45145651832945977, [0.44956922549946754, 0.07096342279836894, 0.27575242585384574, 0.09636111407533882, 0.46535976832256626, 0.5067016023380025, 0.29011950088588984, 0.534402337024026])\n",
      "0.9 (0.32973407824768636, 0.4453395691044159, [0.4352391095802458, 0.06863805745882919, 0.25553754727174494, 0.09709351305812974, 0.46098096714128023, 0.5010363135629312, 0.2852739983462377, 0.534073119562092])\n",
      "1.0 (0.32483321668376286, 0.4405950123337088, [0.4240743711376431, 0.06527802504302416, 0.2422075149444919, 0.0975381252277104, 0.4575306382123803, 0.496758497517895, 0.28145869287911757, 0.5338198685078406])\n"
     ]
    }
   ],
   "source": [
    "if False:\n",
    "    y_pred_new=y_pred.copy()\n",
    "else:\n",
    "    w=0.8\n",
    "    y_ensemble=w*y_val_preds+(1-w)*val_scores\n",
    "    y_pred_new=np.argmax(y_ensemble,axis=1)\n",
    "y_preds_other_inds=y_pred_new!=7\n",
    "for w in np.linspace(0,1,11):\n",
    "    y_ensemble=w*y_scores_all+(1-w)*y_val_preds\n",
    "    y_ensemble_pred=np.argmax(y_ensemble,axis=1)\n",
    "    y_pred_new[y_preds_other_inds]=y_ensemble_pred[y_preds_other_inds]\n",
    "    print(w,metric_for_Exp(y_val,y_pred_new))"
   ]
  },
  {
   "cell_type": "code",
   "execution_count": 64,
   "metadata": {},
   "outputs": [
    {
     "name": "stdout",
     "output_type": "stream",
     "text": [
      "0.0 0.0 0.31628854771760845 0.42296422511513837\n",
      "0.0 0.1 0.33351319443379285 0.43878773188085496\n",
      "0.0 0.2 0.35001497045027763 0.45577688106882636\n",
      "0.0 0.30000000000000004 0.36505587960731756 0.4720174525544323\n",
      "0.0 0.4 0.3781678458913733 0.4860764547360016\n",
      "0.0 0.5 0.387350397497928 0.49730868492720975\n",
      "0.0 0.6000000000000001 0.3929559903501187 0.5055394749975047\n",
      "0.0 0.7000000000000001 0.39871138770705294 0.5128185019890779\n",
      "0.0 0.8 0.3981373406751429 0.5147327221136982\n",
      "0.0 0.9 0.3975421585544657 0.5150749290633511\n",
      "0.0 1.0 0.3934100528686891 0.5109256697988108\n",
      "0.1 0.0 0.3212405732052011 0.4277622517217287\n",
      "0.1 0.1 0.3399231588671779 0.4456140475952832\n",
      "0.1 0.2 0.35757414961998873 0.46411104615516235\n",
      "0.1 0.30000000000000004 0.37418430652299184 0.48159211783325967\n",
      "0.1 0.4 0.385944677637158 0.4950344345743088\n",
      "0.1 0.5 0.39326409457250483 0.5056072034562902\n",
      "0.1 0.6000000000000001 0.39963161160788646 0.5137061012647398\n",
      "0.1 0.7000000000000001 0.3999661268009579 0.5163760284031769\n",
      "0.1 0.8 0.3994261351760848 0.517024795745227\n",
      "0.1 0.9 0.39522069596148846 0.513007428742532\n",
      "0.2 0.0 0.3276497856324089 0.43387920094677257\n",
      "0.2 0.1 0.34765616695338586 0.4544044886144896\n",
      "0.2 0.2 0.36681755348346684 0.4741455520225857\n",
      "0.2 0.30000000000000004 0.38335203857086936 0.49172643406099836\n",
      "0.2 0.4 0.3928253824851334 0.504491466214193\n",
      "0.2 0.5 0.4007610175048399 0.5146756876220895\n",
      "0.2 0.6000000000000001 0.40505776445520575 0.5202472445211241\n",
      "0.2 0.7000000000000001 0.40088706662806345 0.5189425805255728\n",
      "0.2 0.8 0.3964490952090012 0.5150535411289978\n",
      "0.30000000000000004 0.0 0.33476444978931585 0.4415218228223518\n",
      "0.30000000000000004 0.1 0.3569826391710018 0.4644104772361085\n",
      "0.30000000000000004 0.2 0.3779454756354539 0.4859338685069796\n",
      "0.30000000000000004 0.30000000000000004 0.3924263949738754 0.5024417891720018\n",
      "0.30000000000000004 0.4 0.40140925491281226 0.5149965066373889\n",
      "0.30000000000000004 0.5 0.40861159657931145 0.523480387264198\n",
      "0.30000000000000004 0.6000000000000001 0.402966145852942 0.5212132662227482\n",
      "0.30000000000000004 0.7000000000000001 0.3982557301255214 0.5176450458414726\n",
      "0.4 0.0 0.3437141241418305 0.45164188042718834\n",
      "0.4 0.1 0.3690337015911378 0.4775034577160538\n",
      "0.4 0.2 0.3900090136377007 0.4989662498395905\n",
      "0.4 0.30000000000000004 0.401704317902953 0.5135492564128157\n",
      "0.4 0.4 0.410914297355207 0.5252413271926197\n",
      "0.4 0.5 0.4056893215162033 0.5241184606390715\n",
      "0.4 0.6000000000000001 0.39943472591386486 0.5200832703577488\n",
      "0.5 0.0 0.35569748324772577 0.46489527041478335\n",
      "0.5 0.1 0.3831449278419225 0.4923609427801463\n",
      "0.5 0.2 0.4010817282092441 0.510797342192691\n",
      "0.5 0.30000000000000004 0.41300866990781626 0.526182396304165\n",
      "0.5 0.4 0.41278735521071663 0.5298504270457559\n",
      "0.5 0.5 0.400808861387248 0.5226284345457916\n",
      "0.6000000000000001 0.0 0.3706947720957845 0.4809968203270928\n",
      "0.6000000000000001 0.1 0.39712294868238057 0.506591048436542\n",
      "0.6000000000000001 0.2 0.4119382869318323 0.5227353742175581\n",
      "0.6000000000000001 0.30000000000000004 0.41613799562599263 0.5323991558895242\n",
      "0.6000000000000001 0.4 0.40206010690321015 0.5256298746667047\n",
      "0.7000000000000001 0.0 0.38766874830452747 0.4974584004676828\n",
      "0.7000000000000001 0.1 0.4088630677128243 0.5177626794804158\n",
      "0.7000000000000001 0.2 0.41522458931019224 0.5279611595112144\n",
      "0.7000000000000001 0.30000000000000004 0.4024988127832412 0.5280217586585487\n",
      "0.8 0.0 0.3991088131752204 0.50926810488643\n",
      "0.8 0.1 0.40922461119223497 0.5177733734475924\n",
      "0.8 0.2 0.40432369896511494 0.5273230861363409\n",
      "0.9 0.0 0.3990138102717483 0.5071827812869834\n",
      "0.9 0.1 0.39656398709070273 0.5136847133303866\n",
      "1.0 0.0 0.3844313672414089 0.49544436998274705\n",
      "0.6000000000000001 0.30000000000000004 0.41613799562599263\n"
     ]
    }
   ],
   "source": [
    "if True: #0.6000000000000001 0.30000000000000004 0.41613799562599263\n",
    "    y_pred_new=y_pred.copy()\n",
    "else: #0.6000000000000001 0.2 0.418041991345558\n",
    "    w=0.8\n",
    "    y_ensemble=w*y_val_preds+(1-w)*val_scores\n",
    "    y_pred_new=np.argmax(y_ensemble,axis=1)\n",
    "y_preds_other_inds=y_pred_new!=7\n",
    "\n",
    "best_f1=0\n",
    "best_w1,best_w2=0,0\n",
    "for w1 in np.linspace(0,1,11):\n",
    "    for w2 in np.arange(0,1.05-w1,0.1):\n",
    "        y_ensemble=w1*y_val_preds+w2*val_scores+(1-w1-w2)*y_scores_all\n",
    "        y_ensemble_pred=np.argmax(y_ensemble,axis=1)\n",
    "        y_pred_new[y_preds_other_inds]=y_ensemble_pred[y_preds_other_inds]\n",
    "        f1,acc,_=metric_for_Exp(y_val,y_pred_new)\n",
    "        print(w1,w2,f1,acc)\n",
    "        if best_f1<f1:\n",
    "            best_f1=f1\n",
    "            best_w1,best_w2=w1,w2\n",
    "\n",
    "print(best_w1,best_w2,best_f1)"
   ]
  },
  {
   "cell_type": "markdown",
   "metadata": {},
   "source": [
    "##### Smoothing "
   ]
  },
  {
   "cell_type": "code",
   "execution_count": 32,
   "metadata": {},
   "outputs": [
    {
     "data": {
      "application/vnd.jupyter.widget-view+json": {
       "model_id": "b786484dfca44db4b13ec876cf90b69f",
       "version_major": 2,
       "version_minor": 0
      },
      "text/plain": [
       "  0%|          | 0/70 [00:00<?, ?it/s]"
      ]
     },
     "metadata": {},
     "output_type": "display_data"
    },
    {
     "name": "stdout",
     "output_type": "stream",
     "text": [
      "70\n"
     ]
    }
   ],
   "source": [
    "import os\n",
    "dirpath=os.path.join(DATA_DIR,'EXPR_Classification_Challenge/Validation_Set')\n",
    "test_videos={}\n",
    "ind=0\n",
    "for filename in tqdm(os.listdir(dirpath)):\n",
    "    fn, ext = os.path.splitext(os.path.basename(filename))\n",
    "    if ext.lower()=='.txt':\n",
    "        X,indices,expressions,scores,cnn_preds=[],[],[],[],[]\n",
    "        with open(os.path.join(dirpath,filename)) as f:\n",
    "            lines = f.read().splitlines()\n",
    "            prev_val=None\n",
    "            for i,line in enumerate(lines):\n",
    "                if i>0:\n",
    "                    expression=int(line)\n",
    "                    if expression>=0:\n",
    "                        imagename=fn+'/'+get_names(i)+'.jpg'\n",
    "                        if imagename in filename2featuresAll:\n",
    "                            X.append(y_val_preds[ind])\n",
    "                            indices.append(i)\n",
    "                            expressions.append(int(line))\n",
    "                            scores.append(filename2featuresAll[imagename][1][AFFECTNET2MTL])\n",
    "                            cnn_preds.append(val_scores[ind])\n",
    "                            ind+=1\n",
    "        test_videos[fn]=(np.array(X),indices,np.array(expressions),np.array(scores),np.array(cnn_preds))\n",
    "print(len(test_videos))"
   ]
  },
  {
   "cell_type": "code",
   "execution_count": 40,
   "metadata": {},
   "outputs": [
    {
     "name": "stdout",
     "output_type": "stream",
     "text": [
      "Acc: 0.5462585373504627 F1: 0.431761062689951\n",
      "(0.431761062689951, 0.5462585373504627, [0.6514788912381793, 0.1867602808425276, 0.5948337151433762, 0.01820367508157307, 0.5227065138189021, 0.6097208101978572, 0.34942028985507245, 0.5209643253421202])\n"
     ]
    }
   ],
   "source": [
    "delta=50\n",
    "total_true=[]\n",
    "total_preds=[]\n",
    "weight=0.1\n",
    "for videoname,(y_pred_expr,indices,expressions,scores,cnn_preds) in test_videos.items():\n",
    "    for i,ind in enumerate(indices):\n",
    "        if expressions[i]>=0:\n",
    "            total_true.append(expressions[i])\n",
    "    \n",
    "    y_pred_test_new=weight*y_pred_expr+(1-w)*cnn_preds\n",
    "    y_preds_test_other_inds=np.argmax(y_pred_expr,axis=1)!=7    \n",
    "\n",
    "    y_ensemble=weight*scores+(1-weight)*y_pred_expr\n",
    "    y_pred_test_new=y_pred_expr.copy()\n",
    "    y_preds_test_other_inds=np.argmax(y_pred_expr,axis=1)!=7\n",
    "    y_pred_test_new[y_preds_test_other_inds]=y_ensemble[y_preds_test_other_inds]\n",
    "    cur_ind=0\n",
    "    preds_proba=[]\n",
    "    for i in range(indices[-1]):\n",
    "        if indices[cur_ind]-1==i:\n",
    "            preds_proba.append(y_pred_test_new[cur_ind])\n",
    "            cur_ind+=1\n",
    "        else:\n",
    "            if cur_ind==0:\n",
    "                preds_proba.append(y_pred_test_new[cur_ind])\n",
    "            else:\n",
    "                w=(i-indices[cur_ind-1]+1)/(indices[cur_ind]-indices[cur_ind-1])\n",
    "                pred=w*y_pred_test_new[cur_ind-1]+(1-w)*y_pred_test_new[cur_ind]\n",
    "                preds_proba.append(pred)\n",
    "    \n",
    "    preds_proba=np.array(preds_proba)\n",
    "    preds=[]\n",
    "    for i in range(len(preds_proba)):\n",
    "        i1=max(i-delta,0)\n",
    "        proba=np.mean(preds_proba[i1:i+delta+1],axis=0)\n",
    "        preds.append(np.argmax(proba))\n",
    "    for i,ind in enumerate(indices):\n",
    "        if expressions[i]>=0:\n",
    "            total_preds.append(preds[ind-1])\n",
    "\n",
    "total_true=np.array(total_true)\n",
    "total_preds=np.array(total_preds)\n",
    "print('Acc:',(total_preds==total_true).mean(), 'F1:',f1_score(y_true=total_true,y_pred=total_preds, average=\"macro\"))\n",
    "print(metric_for_Exp(total_true,total_preds))"
   ]
  },
  {
   "cell_type": "code",
   "execution_count": 42,
   "metadata": {},
   "outputs": [
    {
     "name": "stdout",
     "output_type": "stream",
     "text": [
      "Acc: 0.5574194744271598 F1: 0.4326929159405485\n",
      "(0.4326929159405485, 0.5574194744271598, [0.68389709814856, 0.2779291553133515, 0.5947668112798264, 0.014085377154506704, 0.5126921923629709, 0.4894285642456696, 0.3112056009677065, 0.5775385280517961])\n"
     ]
    }
   ],
   "source": [
    "delta=50\n",
    "total_true=[]\n",
    "total_preds=[]\n",
    "weight=0.8\n",
    "for videoname,(y_pred_expr,indices,expressions,scores,cnn_preds) in test_videos.items():\n",
    "    for i,ind in enumerate(indices):\n",
    "        if expressions[i]>=0:\n",
    "            total_true.append(expressions[i])\n",
    "    \n",
    "    y_pred_test_new=weight*y_pred_expr+(1-weight)*cnn_preds\n",
    "    cur_ind=0\n",
    "    preds_proba=[]\n",
    "    for i in range(indices[-1]):\n",
    "        if indices[cur_ind]-1==i:\n",
    "            preds_proba.append(y_pred_test_new[cur_ind])\n",
    "            cur_ind+=1\n",
    "        else:\n",
    "            if cur_ind==0:\n",
    "                preds_proba.append(y_pred_test_new[cur_ind])\n",
    "            else:\n",
    "                w=(i-indices[cur_ind-1]+1)/(indices[cur_ind]-indices[cur_ind-1])\n",
    "                pred=w*y_pred_test_new[cur_ind-1]+(1-w)*y_pred_test_new[cur_ind]\n",
    "                preds_proba.append(pred)\n",
    "    \n",
    "    preds_proba=np.array(preds_proba)\n",
    "    preds=[]\n",
    "    for i in range(len(preds_proba)):\n",
    "        i1=max(i-delta,0)\n",
    "        proba=np.mean(preds_proba[i1:i+delta+1],axis=0)\n",
    "        preds.append(np.argmax(proba))\n",
    "    for i,ind in enumerate(indices):\n",
    "        if expressions[i]>=0:\n",
    "            total_preds.append(preds[ind-1])\n",
    "\n",
    "total_true=np.array(total_true)\n",
    "total_preds=np.array(total_preds)\n",
    "print('Acc:',(total_preds==total_true).mean(), 'F1:',f1_score(y_true=total_true,y_pred=total_preds, average=\"macro\"))\n",
    "print(metric_for_Exp(total_true,total_preds))"
   ]
  },
  {
   "cell_type": "code",
   "execution_count": 65,
   "metadata": {},
   "outputs": [
    {
     "name": "stdout",
     "output_type": "stream",
     "text": [
      "Acc: 0.5501725293371166 F1: 0.43916875305797154\n",
      "(0.43916875305797154, 0.5501725293371166, [0.6782491740007602, 0.17332314160137588, 0.5830826278597915, 0.08264081255771008, 0.5324214584529572, 0.6043088998814439, 0.3384857396894877, 0.520838170420246])\n"
     ]
    }
   ],
   "source": [
    "delta=50\n",
    "total_true=[]\n",
    "total_preds=[]\n",
    "weight=0.8\n",
    "w1,w2=0.6,0.2\n",
    "for videoname,(y_pred_expr,indices,expressions,scores,cnn_preds) in test_videos.items():\n",
    "    for i,ind in enumerate(indices):\n",
    "        if expressions[i]>=0:\n",
    "            total_true.append(expressions[i])\n",
    "    \n",
    "    y_pred_test_new=weight*y_pred_expr+(1-weight)*cnn_preds\n",
    "    y_preds_test_other_inds=np.argmax(y_pred_expr,axis=1)!=7\n",
    "    y_ensemble=w1*y_pred_expr+w2*cnn_preds+(1-w1-w2)*scores\n",
    "    y_pred_test_new[y_preds_test_other_inds]=y_ensemble[y_preds_test_other_inds]\n",
    "\n",
    "    cur_ind=0\n",
    "    preds_proba=[]\n",
    "    for i in range(indices[-1]):\n",
    "        if indices[cur_ind]-1==i:\n",
    "            preds_proba.append(y_pred_test_new[cur_ind])\n",
    "            cur_ind+=1\n",
    "        else:\n",
    "            if cur_ind==0:\n",
    "                preds_proba.append(y_pred_test_new[cur_ind])\n",
    "            else:\n",
    "                w=(i-indices[cur_ind-1]+1)/(indices[cur_ind]-indices[cur_ind-1])\n",
    "                pred=w*y_pred_test_new[cur_ind-1]+(1-w)*y_pred_test_new[cur_ind]\n",
    "                preds_proba.append(pred)\n",
    "    \n",
    "    preds_proba=np.array(preds_proba)\n",
    "    preds=[]\n",
    "    for i in range(len(preds_proba)):\n",
    "        i1=max(i-delta,0)\n",
    "        proba=np.mean(preds_proba[i1:i+delta+1],axis=0)\n",
    "        preds.append(np.argmax(proba))\n",
    "    for i,ind in enumerate(indices):\n",
    "        if expressions[i]>=0:\n",
    "            total_preds.append(preds[ind-1])\n",
    "\n",
    "total_true=np.array(total_true)\n",
    "total_preds=np.array(total_preds)\n",
    "print('Acc:',(total_preds==total_true).mean(), 'F1:',f1_score(y_true=total_true,y_pred=total_preds, average=\"macro\"))\n",
    "print(metric_for_Exp(total_true,total_preds))"
   ]
  },
  {
   "cell_type": "markdown",
   "metadata": {},
   "source": [
    "### Ensemble "
   ]
  },
  {
   "cell_type": "markdown",
   "metadata": {},
   "source": [
    "#### Scores"
   ]
  },
  {
   "cell_type": "code",
   "execution_count": 104,
   "metadata": {},
   "outputs": [
    {
     "name": "stdout",
     "output_type": "stream",
     "text": [
      "(280532, 8) (280532,) 3698\n",
      "(0.2574340560684253, 0.32562417121754383, [0.47261988187005705, 0.08159349444926674, 0.16895322458679918, 0.08013937282229966, 0.462785267165087, 0.4738317407716553, 0.28230688149375094, 0.037242585388486384])\n"
     ]
    }
   ],
   "source": [
    "dirpath=os.path.join(DATA_DIR,'EXPR_Classification_Challenge/Validation_Set')\n",
    "num_missed=0\n",
    "y_scores_all,y_val=[],[]\n",
    "\n",
    "for filename in os.listdir(dirpath):\n",
    "    fn, ext = os.path.splitext(os.path.basename(filename))\n",
    "    if ext.lower()=='.txt':\n",
    "        with open(os.path.join(dirpath,filename)) as f:\n",
    "            lines = f.read().splitlines()\n",
    "            prev_val=None\n",
    "            for i,line in enumerate(lines):\n",
    "                if i>0:\n",
    "                    expression=int(line)\n",
    "                    #if expression>=0:\n",
    "                    if expression>=0:\n",
    "                        imagename=fn+'/'+get_names(i)+'.jpg'\n",
    "                        if imagename in filename2featuresAll:\n",
    "                            scores=filename2featuresAll[imagename][1]\n",
    "                            if False:\n",
    "                                scores=scores[:-2]\n",
    "                            y_scores_all.append(scores[AFFECTNET2MTL])\n",
    "                            y_val.append(expression)\n",
    "                        else:\n",
    "                            num_missed+=1\n",
    "y_scores_all=np.array(y_scores_all)\n",
    "y_val=np.array(y_val)\n",
    "print(y_scores_all.shape,y_val.shape,num_missed)\n",
    "\n",
    "USE_OTHER=True\n",
    "if USE_OTHER:\n",
    "    y_scores=np.argmax(y_scores_all,axis=1)\n",
    "    print(metric_for_Exp(y_val,y_scores,8))\n",
    "else:\n",
    "    y_scores=np.argmax(y_scores_all[y_val!=7,:7],axis=1)\n",
    "    print(metric_for_Exp(y_val[y_val!=7],y_scores,7))"
   ]
  },
  {
   "cell_type": "markdown",
   "metadata": {},
   "source": [
    "USE_OTHER=True\n",
    "(280532,) (280532,) 3698\n",
    "(0.2574340560684253, 0.32562417121754383, [0.47261988187005705, 0.08159349444926674, 0.16895322458679918, 0.08013937282229966, 0.462785267165087, 0.4738317407716553, 0.28230688149375094, 0.037242585388486384])\n",
    "\n",
    "USE_OTHER=False\n",
    "(174088,) (174088,) 1883\n",
    "(0.38315520007157966, 0.5219142043104636, [0.5941131445271728, 0.11673050704408232, 0.2563962686160057, 0.1146315414738341, 0.6221359518916038, 0.574566439059762, 0.40351254788859714])"
   ]
  },
  {
   "cell_type": "code",
   "execution_count": 16,
   "metadata": {},
   "outputs": [
    {
     "name": "stdout",
     "output_type": "stream",
     "text": [
      "(280532,) (280532,) 0.32562417121754383\n"
     ]
    },
    {
     "data": {
      "image/png": "[encoded data removed]",
      "text/plain": [
       "<Figure size 576x576 with 1 Axes>"
      ]
     },
     "metadata": {
      "needs_background": "light"
     },
     "output_type": "display_data"
    }
   ],
   "source": [
    "labels=['Neutral','Anger','Disgust','Fear','Happiness','Sadness','Surprise','Other']\n",
    "IC = type('IdentityClassifier', (), {\"predict\": lambda i : i, \"_estimator_type\": \"classifier\"})\n",
    "import matplotlib.pyplot as plt\n",
    "from sklearn.metrics import plot_confusion_matrix\n",
    "def plt_conf_matrix(y_true,y_pred,labels):\n",
    "    print(y_pred.shape,y_true.shape, (y_pred==y_true).mean())\n",
    "\n",
    "    fig, ax = plt.subplots(figsize=(8, 8))\n",
    "    plot_confusion_matrix(IC, y_pred,y_true,display_labels=labels,cmap=plt.cm.Blues,ax=ax,colorbar=False,values_format='d') #,normalize='true'\n",
    "    plt.tight_layout()\n",
    "    plt.show()\n",
    "plt_conf_matrix(y_val,y_scores,labels)"
   ]
  },
  {
   "cell_type": "code",
   "execution_count": 105,
   "metadata": {},
   "outputs": [
    {
     "name": "stdout",
     "output_type": "stream",
     "text": [
      "[[0.14431557 0.04700894 0.7286932  ... 0.00801708 0.01772265 0.03276507]\n",
      " [0.12623148 0.05338586 0.74596107 ... 0.00828965 0.0161922  0.02721561]\n",
      " [0.12411553 0.05135258 0.74902546 ... 0.00888397 0.01757528 0.02525777]\n",
      " ...\n",
      " [0.61938715 0.09317015 0.15505028 ... 0.11088556 0.00744538 0.0130494 ]\n",
      " [0.4615972  0.0987     0.27191597 ... 0.15485528 0.00422211 0.00742036]\n",
      " [0.62540436 0.10433636 0.1733591  ... 0.08387769 0.00457728 0.00741982]]\n"
     ]
    }
   ],
   "source": [
    "e_x = np.exp(y_scores_all - np.max(y_scores_all,axis=0))\n",
    "y_probab_all=e_x / e_x.sum(axis=1)[:,None]\n",
    "print(y_probab_all)"
   ]
  },
  {
   "cell_type": "code",
   "execution_count": 36,
   "metadata": {},
   "outputs": [
    {
     "data": {
      "text/plain": [
       "0.40469536452169447"
      ]
     },
     "execution_count": 36,
     "metadata": {},
     "output_type": "execute_result"
    }
   ],
   "source": [
    "y_scores=np.argmax(y_probab_all,axis=1)\n",
    "y_max_scores=np.array([y_probab_all[i,y] for i,y in enumerate(y_scores)])"
   ]
  },
  {
   "cell_type": "code",
   "execution_count": 39,
   "metadata": {},
   "outputs": [
    {
     "name": "stdout",
     "output_type": "stream",
     "text": [
      "0.0 0.620563785949553 0.37943621405044703\n",
      "0.1 0.620563785949553 0.37943621405044703\n",
      "0.2 0.620563785949553 0.37943621405044703\n",
      "0.30000000000000004 0.6185319321859895 0.38146806781401055\n",
      "0.4 0.5953046354783055 0.40469536452169447\n",
      "0.5 0.5527497754266892 0.4472502245733107\n",
      "0.6000000000000001 0.5082165314473928 0.4917834685526072\n",
      "0.7000000000000001 0.47205666376741334 0.5279433362325866\n",
      "0.8 0.44366418091340737 0.5563358190865926\n",
      "0.9 0.4196455306346513 0.5803544693653487\n",
      "1.0 0.37948255457487917 0.6205174454251209\n"
     ]
    }
   ],
   "source": [
    "for w in np.linspace(0,1,11):\n",
    "    print(w,((y_max_scores<w)==(y_val==7)).mean(),((y_max_scores>=w)==(y_val==7)).mean())"
   ]
  },
  {
   "cell_type": "code",
   "execution_count": 42,
   "metadata": {},
   "outputs": [
    {
     "name": "stdout",
     "output_type": "stream",
     "text": [
      "0.0 (0.2574340560684253, 0.32562417121754383, [0.47261988187005705, 0.08159349444926674, 0.16895322458679918, 0.08013937282229966, 0.462785267165087, 0.4738317407716553, 0.28230688149375094, 0.037242585388486384])\n",
      "0.1 (0.2574340560684253, 0.32562417121754383, [0.47261988187005705, 0.08159349444926674, 0.16895322458679918, 0.08013937282229966, 0.462785267165087, 0.4738317407716553, 0.28230688149375094, 0.037242585388486384])\n",
      "0.2 (0.2574340560684253, 0.32562417121754383, [0.47261988187005705, 0.08159349444926674, 0.16895322458679918, 0.08013937282229966, 0.462785267165087, 0.4738317407716553, 0.28230688149375094, 0.037242585388486384])\n",
      "0.30000000000000004 (0.2597911730430537, 0.3275526499650664, [0.47211816735363765, 0.08163451869457902, 0.16895322458679918, 0.08002747724540615, 0.4611789865547216, 0.46926102518053847, 0.2843253425698052, 0.06083064215894236])\n",
      "0.4 (0.2725398854298629, 0.3382573111088931, [0.4533068150998954, 0.08461096205442699, 0.1692091312344477, 0.07889215274863619, 0.45454058398071256, 0.44727622929082866, 0.29571061474599725, 0.1967725942839586])\n",
      "0.5 (0.2792704298930966, 0.35221293827442146, [0.40001118325866175, 0.08849154376174477, 0.17688358749811262, 0.07985456504174522, 0.4371276887415568, 0.39594196138533044, 0.31378423013404, 0.3420686793235813])\n",
      "0.6000000000000001 (0.2701312351710332, 0.3661471775055965, [0.3419384852390504, 0.06984730035800395, 0.20335429769392033, 0.06273608145836755, 0.4109322351179333, 0.3342184671092336, 0.312201650680348, 0.4258213637114083])\n",
      "0.7000000000000001 (0.25480054775068295, 0.3779533172686182, [0.27285345356965607, 0.06590783917752892, 0.24801010045561836, 0.049856184084372, 0.3626678936098674, 0.27186624142263455, 0.2889932185706834, 0.478249451115103])\n",
      "0.8 (0.2308637084845556, 0.3895705302781857, [0.19213825502089485, 0.05032156154800858, 0.3215250675472831, 0.035114013488919814, 0.2948954044155683, 0.20654134900774024, 0.22878968129735142, 0.5175843355506784])\n",
      "0.9 (0.19404656489715782, 0.3997583163418077, [0.08681419405525731, 0.012089572743508725, 0.39492753623188404, 0.013232733604178757, 0.21955436035343837, 0.14412409139915835, 0.13391941391941392, 0.5477106168704231])\n",
      "1.0 (0.06886993095015415, 0.37948255457487917, [0.0, 0.0, 0.0, 0.0, 0.000810983027283786, 0.0, 0.0, 0.5501484645739494])\n"
     ]
    }
   ],
   "source": [
    "for w in np.linspace(0,1,11):\n",
    "    y_scores=np.argmax(y_scores_all,axis=1)\n",
    "    y_scores[y_max_scores<w]=7\n",
    "    print(w,metric_for_Exp(y_val,y_scores,8))"
   ]
  },
  {
   "cell_type": "code",
   "execution_count": 49,
   "metadata": {},
   "outputs": [],
   "source": [
    "y_probab_sorted=np.sort(y_probab_all,axis=1)[:,6:]\n",
    "diff_probab=y_probab_sorted[:,1]-y_probab_sorted[:,0]"
   ]
  },
  {
   "cell_type": "code",
   "execution_count": 53,
   "metadata": {},
   "outputs": [
    {
     "name": "stdout",
     "output_type": "stream",
     "text": [
      "0.0 (0.2574340560684253, 0.32562417121754383, [0.47261988187005705, 0.08159349444926674, 0.16895322458679918, 0.08013937282229966, 0.462785267165087, 0.4738317407716553, 0.28230688149375094, 0.037242585388486384])\n",
      "0.05 (0.2681231420530048, 0.33464631485891094, [0.46212387682665557, 0.07746784217372453, 0.16895322458679918, 0.07394834625441533, 0.45749439549554255, 0.4582260333979346, 0.2945822454308094, 0.15218917225815703])\n",
      "0.1 (0.27388884984049766, 0.34275590663453726, [0.45001472561274913, 0.07235275851361143, 0.16895322458679918, 0.07036466358500257, 0.4508702540410587, 0.44050747365149334, 0.3046417619180373, 0.23340593681522961])\n",
      "0.15000000000000002 (0.27592473960131664, 0.34920436884205724, [0.43565206887758523, 0.06796116504854369, 0.1694596937301358, 0.06743928717022887, 0.4450506808400555, 0.42020299370538805, 0.3103675020092058, 0.2912645254293902])\n",
      "0.2 (0.2763043505776614, 0.35459056364336333, [0.4179745193037669, 0.0646645676919351, 0.17304713432175262, 0.06678841638403339, 0.43759338579539797, 0.40256134550881867, 0.3123713697690373, 0.33543406584654917])\n",
      "0.25 (0.27559754588175234, 0.3588146806781401, [0.39737839163473776, 0.06293388697852462, 0.18000921942224954, 0.06576680068925905, 0.4292174830245897, 0.38458520274996155, 0.3158439078722304, 0.3690454746824659])\n",
      "0.30000000000000004 (0.2739757112120928, 0.36247558210827996, [0.37457125267509017, 0.06231309548647333, 0.1888207775447653, 0.0642962274382214, 0.4216766634119124, 0.36577084236382024, 0.3181799310831569, 0.3961768996933028])\n",
      "0.35000000000000003 (0.2703664723795608, 0.36568733691700056, [0.35198718287826003, 0.06315157878946974, 0.19841540296472995, 0.05973597359735974, 0.41028588269967586, 0.34604836699077535, 0.3141735717400785, 0.41913381937613714])\n",
      "0.4 (0.2662347193927155, 0.3694551780189069, [0.33069812319088676, 0.06143399886832108, 0.20865162952583285, 0.05434876676763306, 0.3989543785398644, 0.3274624918460534, 0.30940798531436436, 0.43892038108876824])\n",
      "0.45 (0.261208202755798, 0.3725742517787632, [0.30853591958637083, 0.06217616580310881, 0.22079365846585144, 0.0502996186671509, 0.38575667655786344, 0.30491079161614415, 0.30146881772212863, 0.4557239736277655])\n",
      "0.5 (0.2554841648927956, 0.3758572997019948, [0.28561484918793506, 0.061284947231994076, 0.2352390365707746, 0.04723665564478035, 0.36988526403096494, 0.284087517505797, 0.2895137549487362, 0.4710112940213822])\n"
     ]
    }
   ],
   "source": [
    "for w in np.linspace(0,0.5,11):\n",
    "    y_scores=np.argmax(y_scores_all,axis=1)\n",
    "    y_scores[diff_probab<w]=7\n",
    "    print(w,metric_for_Exp(y_val,y_scores,8))"
   ]
  },
  {
   "cell_type": "markdown",
   "metadata": {},
   "source": [
    "#### Basic emotions w/o Other "
   ]
  },
  {
   "cell_type": "code",
   "execution_count": 88,
   "metadata": {},
   "outputs": [
    {
     "name": "stdout",
     "output_type": "stream",
     "text": [
      "w/o other: (0.4564635736682434, 0.6291358393456183, [0.7635503588911151, 0.24420428795537738, 0.5580413016270338, 0.048256128683009825, 0.6517256296865988, 0.5464432412247946, 0.383024067609774])\n",
      "other vs remaining: (array([False,  True]), array([204436,  76096])) 0.6733420786220466 0.4979840035060809\n"
     ]
    }
   ],
   "source": [
    "y_val_7=y_val[y_val!=7]\n",
    "#print(y_val_7.shape)\n",
    "y_pred_7=np.argmax(y_val_preds[y_val!=7,:7],axis=1)\n",
    "#print(y_pred_7.shape)\n",
    "print('w/o other:',metric_for_Exp(y_val_7,y_pred_7,7))\n",
    "#0.4564635736682434, 0.6291358393456183, [0.7635503588911151, 0.24420428795537738, 0.5580413016270338, 0.048256128683009825, 0.6517256296865988, 0.5464432412247946, 0.383024067609774])\n",
    "\n",
    "print('other vs remaining:',np.unique(y_pred==7,return_counts=True),((y_val==7)==(y_pred==7)).mean(),f1_score((y_val==7),(y_pred==7)))\n"
   ]
  },
  {
   "cell_type": "code",
   "execution_count": 107,
   "metadata": {},
   "outputs": [
    {
     "name": "stdout",
     "output_type": "stream",
     "text": [
      "(0.31628854771760845, 0.42296422511513837, [0.4155234848887438, 0.06360920752064665, 0.23902049507585837, 0.0983332462511103, 0.4447653591259179, 0.4795904014403466, 0.289364538586876, 0.500101648851368])\n"
     ]
    }
   ],
   "source": [
    "y_pred_new=y_pred.copy()\n",
    "y_preds_other_inds=y_pred!=7\n",
    "y_pred_new[y_preds_other_inds]=y_scores[y_preds_other_inds]\n",
    "print(metric_for_Exp(y_val,y_pred_new))\n"
   ]
  },
  {
   "cell_type": "code",
   "execution_count": 47,
   "metadata": {},
   "outputs": [],
   "source": [
    "y_preds_other_inds=y_pred!=7\n",
    "y_pred_new=y_pred.copy()\n"
   ]
  },
  {
   "cell_type": "markdown",
   "metadata": {},
   "source": [
    "#### Ensemble "
   ]
  },
  {
   "cell_type": "code",
   "execution_count": 112,
   "metadata": {},
   "outputs": [
    {
     "name": "stdout",
     "output_type": "stream",
     "text": [
      "0.0 (0.3844313672414089, 0.49544436998274705, [0.5975792617828053, 0.18688981868898186, 0.5203826342899192, 0.01771963235902956, 0.4792554615273745, 0.4860550818814191, 0.289585043895661, 0.4979840035060809])\n",
      "0.1 (0.3990138102717483, 0.5071827812869834, [0.6051385462991303, 0.17309534175010885, 0.5479885490432425, 0.01929101401483924, 0.49132881348827945, 0.5413419423824309, 0.3141176470588235, 0.4998086281371316])\n",
      "0.2 (0.3991088131752204, 0.50926810488643, [0.6024987189185232, 0.13802840295656507, 0.5226733847065798, 0.03456902433477371, 0.49833186250242145, 0.5680585580460424, 0.3275767918088737, 0.5011337621279843])\n",
      "0.30000000000000004 (0.38766874830452747, 0.4974584004676828, [0.5783292290206479, 0.11204273948208057, 0.45502718326336794, 0.06921529175050302, 0.4954688731284476, 0.5593136035811987, 0.3304741054444963, 0.5014789607654776])\n",
      "0.4 (0.3706947720957845, 0.4809968203270928, [0.5475349216688707, 0.09621848739495799, 0.3932325044860293, 0.08038782523318605, 0.48535259809119835, 0.5355207507269363, 0.3259017850529591, 0.5014093041121384])\n",
      "0.5 (0.35569748324772577, 0.46489527041478335, [0.5126176585519685, 0.08491753328475855, 0.3479997579132119, 0.08741830065359478, 0.4757945613976743, 0.5173021992601495, 0.31810553794517993, 0.5014243169752687])\n",
      "0.6000000000000001 (0.3437141241418305, 0.45164188042718834, [0.48229631202661566, 0.07830134540585347, 0.3139864591169492, 0.09314606741573034, 0.46697074201802197, 0.5044322245259775, 0.30940381528353306, 0.501176027341963])\n",
      "0.7000000000000001 (0.33476444978931585, 0.4415218228223518, [0.4586949580563699, 0.07317825630900228, 0.2911739983188568, 0.09652678864906322, 0.4590912635202121, 0.495547222873213, 0.30320481657380055, 0.5006982940140089])\n",
      "0.8 (0.3276497856324089, 0.43387920094677257, [0.4410398982579634, 0.06948549369684541, 0.27296127936907827, 0.09727292248228472, 0.45243837084673094, 0.489128243527345, 0.29838409412465555, 0.5004879827543678])\n",
      "0.9 (0.3212405732052011, 0.4277622517217287, [0.4267340997088574, 0.06703113857855955, 0.25249420266407807, 0.09798941798941799, 0.4481910469120343, 0.48377706780262697, 0.2934451785316606, 0.500262433454374])\n",
      "1.0 (0.31628854771760845, 0.42296422511513837, [0.4155234848887438, 0.06360920752064665, 0.23902049507585837, 0.0983332462511103, 0.4447653591259179, 0.4795904014403466, 0.289364538586876, 0.500101648851368])\n"
     ]
    }
   ],
   "source": [
    "for w in np.linspace(0,1,11):\n",
    "    y_ensemble=w*y_scores_all+(1-w)*y_val_preds\n",
    "    y_ensemble_pred=np.argmax(y_ensemble,axis=1)\n",
    "    y_pred_new[y_preds_other_inds]=y_ensemble_pred[y_preds_other_inds]\n",
    "    print(w,metric_for_Exp(y_val,y_pred_new))"
   ]
  },
  {
   "cell_type": "code",
   "execution_count": 113,
   "metadata": {},
   "outputs": [
    {
     "name": "stdout",
     "output_type": "stream",
     "text": [
      "0.0 (0.3844313672414089, 0.49544436998274705, [0.5975792617828053, 0.18688981868898186, 0.5203826342899192, 0.01771963235902956, 0.4792554615273745, 0.4860550818814191, 0.289585043895661, 0.4979840035060809])\n",
      "0.1 (0.3869468990999296, 0.49833530577616814, [0.599990480496918, 0.18471392711849735, 0.5263917972416782, 0.017994222038794885, 0.48338330572620725, 0.48817029502866804, 0.2950404858299595, 0.49989067931871356])\n",
      "0.2 (0.3892900688667766, 0.5014436855688478, [0.6026704990546645, 0.18197454420364634, 0.5286951623125132, 0.018593171534348005, 0.48816650573972753, 0.4908756291713785, 0.3017421602787456, 0.5016028786391887])\n",
      "0.30000000000000004 (0.3899076400262561, 0.5043773972309754, [0.6044550286062788, 0.17687307560725282, 0.5215391898289037, 0.018482172064115145, 0.49458047194825655, 0.4926622850454668, 0.30669245157404174, 0.5039764455357336])\n",
      "0.4 (0.38589448364177026, 0.5058353414227253, [0.604190753914237, 0.1681992977762916, 0.4781281790437436, 0.021141987667173862, 0.504546850272811, 0.4882703407186743, 0.3162379574576325, 0.506440502283598])\n",
      "0.5 (0.3747651976451156, 0.4988806981021773, [0.59262686683651, 0.14600942478869028, 0.4004940852297021, 0.03437050495874025, 0.5066153866988069, 0.4736842105263158, 0.3360876369327074, 0.5082334651894522])\n",
      "0.6000000000000001 (0.3426857946964438, 0.4690231417449703, [0.5662002746510332, 0.10902188741918264, 0.30180449540961696, 0.06301351259591227, 0.4245366131734871, 0.43675404654204586, 0.3331268582755203, 0.5070286695047523])\n",
      "0.7000000000000001 (0.3072011775553471, 0.43735474027918386, [0.540085182744125, 0.08776609128881284, 0.24125520188955127, 0.0844880441446965, 0.2911130021164714, 0.387884213667562, 0.31980484830004574, 0.505212836291512])\n",
      "0.8 (0.28706203747869863, 0.41742475011763364, [0.5167835163101061, 0.07566868388229316, 0.21607371513219012, 0.10254362951979011, 0.22182896498947774, 0.35270465539988693, 0.30680085391887774, 0.5040922806769672])\n",
      "0.9 (0.2770370986828573, 0.4046062481285557, [0.4955802187417165, 0.06384943494129545, 0.20330176424741978, 0.11041322314049587, 0.21131910977647542, 0.33108108108108114, 0.2978125381889283, 0.5029394193454457])\n",
      "1.0 (0.2696310437723727, 0.3941083370168109, [0.47665763749852785, 0.052958317496515896, 0.1933884669986705, 0.11606663084363245, 0.2040696680264797, 0.3210061094501495, 0.2911299676454429, 0.5017715522195625])\n"
     ]
    }
   ],
   "source": [
    "for w in np.linspace(0,1,11):\n",
    "    y_ensemble=w*y_probab_all+(1-w)*y_val_preds\n",
    "    y_ensemble_pred=np.argmax(y_ensemble,axis=1)\n",
    "    y_pred_new[y_preds_other_inds]=y_ensemble_pred[y_preds_other_inds]\n",
    "    print(w,metric_for_Exp(y_val,y_pred_new))"
   ]
  },
  {
   "cell_type": "markdown",
   "metadata": {},
   "source": [
    "### Smooth validation predictions  "
   ]
  },
  {
   "cell_type": "code",
   "execution_count": 114,
   "metadata": {},
   "outputs": [
    {
     "name": "stderr",
     "output_type": "stream",
     "text": [
      "100%|██████████| 70/70 [00:22<00:00,  3.05it/s]"
     ]
    },
    {
     "name": "stdout",
     "output_type": "stream",
     "text": [
      "70\n"
     ]
    },
    {
     "name": "stderr",
     "output_type": "stream",
     "text": [
      "\n"
     ]
    }
   ],
   "source": [
    "data_dir=os.path.join(DATA_DIR,'faces')\n",
    "dirpath=os.path.join(DATA_DIR,'EXPR_Classification_Challenge/Validation_Set')\n",
    "test_videos={}\n",
    "for filename in tqdm(os.listdir(dirpath)):\n",
    "    fn, ext = os.path.splitext(os.path.basename(filename))\n",
    "    if ext.lower()=='.txt':\n",
    "        X,indices,expressions,scores=[],[],[],[]\n",
    "        with open(os.path.join(dirpath,filename)) as f:\n",
    "            lines = f.read().splitlines()\n",
    "            prev_val=None\n",
    "            for i,line in enumerate(lines):\n",
    "                if i>0:\n",
    "                    imagename=fn+'/'+get_names(i)+'.jpg'\n",
    "                    if imagename in filename2featuresAll:\n",
    "                        X.append(filename2featuresAll[imagename][0])\n",
    "                        indices.append(i)\n",
    "                        expressions.append(int(line))\n",
    "                        scores.append(filename2featuresAll[imagename][1][AFFECTNET2MTL])\n",
    "        test_videos[fn]=(mlpModel.predict(np.array(X)),indices,np.array(expressions),np.array(scores))\n",
    "print(len(test_videos))"
   ]
  },
  {
   "cell_type": "code",
   "execution_count": 186,
   "metadata": {},
   "outputs": [
    {
     "name": "stdout",
     "output_type": "stream",
     "text": [
      "mean 0 Acc: 0.49544436998274705 F1: 0.3844313672414089\n",
      "mean 2 Acc: 0.5069760312549014 F1: 0.3941767294737465\n",
      "median 2 Acc: 0.504380961886701 F1: 0.39215704057456224\n",
      "mean 7 Acc: 0.5185326451171346 F1: 0.40358838037718475\n",
      "median 7 Acc: 0.5156880498481456 F1: 0.40149206796741554\n"
     ]
    }
   ],
   "source": [
    "hyperparams=[(isMean,delta) for delta in [0,2,7]  for isMean in [1,0] if not (isMean==0 and delta==0)]\n",
    "total_true=[]\n",
    "total_preds=[[] for _ in range(len(hyperparams))]\n",
    "for videoname,(y_pred_expr,indices,expressions,scores) in test_videos.items():\n",
    "    for i,ind in enumerate(indices):\n",
    "        if expressions[i]>=0:\n",
    "            total_true.append(expressions[i])\n",
    "    cur_ind=0\n",
    "    preds_proba=[]\n",
    "    for i in range(indices[-1]):\n",
    "        if indices[cur_ind]-1==i:\n",
    "            preds_proba.append(y_pred_expr[cur_ind])\n",
    "            cur_ind+=1\n",
    "        else:\n",
    "            if cur_ind==0:\n",
    "                preds_proba.append(y_pred_expr[cur_ind])\n",
    "            else:\n",
    "                w=(i-indices[cur_ind-1]+1)/(indices[cur_ind]-indices[cur_ind-1])\n",
    "                pred=w*y_pred_expr[cur_ind-1]+(1-w)*y_pred_expr[cur_ind]\n",
    "                preds_proba.append(pred)\n",
    "    \n",
    "    preds_proba=np.array(preds_proba)\n",
    "    for hInd,(isMean,delta) in enumerate(hyperparams):\n",
    "        preds=[]\n",
    "        for i in range(len(preds_proba)):\n",
    "            i1=max(i-delta,0)\n",
    "            if isMean:\n",
    "                proba=np.mean(preds_proba[i1:i+delta+1],axis=0)\n",
    "            else:\n",
    "                proba=np.median(preds_proba[i1:i+delta+1],axis=0)\n",
    "            preds.append(np.argmax(proba))\n",
    "        for i,ind in enumerate(indices):\n",
    "            if expressions[i]>=0:\n",
    "                total_preds[hInd].append(preds[ind-1])\n",
    "\n",
    "total_true=np.array(total_true)\n",
    "for hInd,(isMean,delta) in enumerate(hyperparams):\n",
    "    preds=np.array(total_preds[hInd])\n",
    "    print('mean' if isMean else 'median',delta,'Acc:',(preds==total_true).mean(), 'F1:',f1_score(y_true=total_true,y_pred=preds, average=\"macro\"))"
   ]
  },
  {
   "cell_type": "code",
   "execution_count": 187,
   "metadata": {},
   "outputs": [
    {
     "name": "stdout",
     "output_type": "stream",
     "text": [
      "0 Acc: 0.49544436998274705 F1: 0.3844313672414089\n",
      "5 Acc: 0.5147255928022472 F1: 0.40041647458913604\n",
      "15 Acc: 0.5290234269174283 F1: 0.41233375265784433\n",
      "25 Acc: 0.5352187985684342 F1: 0.41830667436931435\n",
      "50 Acc: 0.542572683330244 F1: 0.4236698679610459\n",
      "100 Acc: 0.5408224373689989 F1: 0.4197549134058517\n",
      "200 Acc: 0.5397387820284317 F1: 0.41970605922798776\n",
      "500 Acc: 0.5307736728786734 F1: 0.4031952312654022\n"
     ]
    }
   ],
   "source": [
    "#deltas=[0,1,5,7,15]\n",
    "deltas=[0,5,15,25,50,100,200,500]\n",
    "total_true=[]\n",
    "total_preds=[[] for _ in range(len(deltas))]\n",
    "for videoname,(y_pred_expr,indices,expressions,scores) in test_videos.items():\n",
    "    for i,ind in enumerate(indices):\n",
    "        if expressions[i]>=0:\n",
    "            total_true.append(expressions[i])\n",
    "    cur_ind=0\n",
    "    preds_proba=[]\n",
    "    for i in range(indices[-1]):\n",
    "        if indices[cur_ind]-1==i:\n",
    "            preds_proba.append(y_pred_expr[cur_ind])\n",
    "            cur_ind+=1\n",
    "        else:\n",
    "            if cur_ind==0:\n",
    "                preds_proba.append(y_pred_expr[cur_ind])\n",
    "            else:\n",
    "                w=(i-indices[cur_ind-1]+1)/(indices[cur_ind]-indices[cur_ind-1])\n",
    "                pred=w*y_pred_expr[cur_ind-1]+(1-w)*y_pred_expr[cur_ind]\n",
    "                preds_proba.append(pred)\n",
    "    \n",
    "    preds_proba=np.array(preds_proba)\n",
    "    for hInd,delta in enumerate(deltas):\n",
    "        preds=[]\n",
    "        for i in range(len(preds_proba)):\n",
    "            i1=max(i-delta,0)\n",
    "            proba=np.mean(preds_proba[i1:i+delta+1],axis=0)\n",
    "            preds.append(np.argmax(proba))\n",
    "        for i,ind in enumerate(indices):\n",
    "            if expressions[i]>=0:\n",
    "                total_preds[hInd].append(preds[ind-1])\n",
    "\n",
    "total_true=np.array(total_true)\n",
    "for hInd,delta in enumerate(deltas):\n",
    "    preds=np.array(total_preds[hInd])\n",
    "    print(delta,'Acc:',(preds==total_true).mean(), 'F1:',f1_score(y_true=total_true,y_pred=preds, average=\"macro\"))"
   ]
  },
  {
   "cell_type": "code",
   "execution_count": 44,
   "metadata": {},
   "outputs": [
    {
     "name": "stdout",
     "output_type": "stream",
     "text": [
      "0 Acc: 0.49302753340082417 F1: 0.3830806902655762\n",
      "5 Acc: 0.5112928293385425 F1: 0.3984449112888923\n",
      "15 Acc: 0.5252484565040708 F1: 0.4102184763684504\n",
      "25 Acc: 0.5313440177947614 F1: 0.4164778611208603\n",
      "50 Acc: 0.5389545577688107 F1: 0.42223307250557535\n",
      "100 Acc: 0.5359317297135443 F1: 0.41796605670219833\n",
      "200 Acc: 0.5328589964781202 F1: 0.4164616736756614\n",
      "500 Acc: 0.5271769352515934 F1: 0.4067049624885466\n"
     ]
    }
   ],
   "source": [
    "#deltas=[0,1,5,7,15]\n",
    "deltas=[0,5,15,25,50,100,200,500]\n",
    "total_true=[]\n",
    "total_preds=[[] for _ in range(len(deltas))]\n",
    "for videoname,(y_pred_expr,indices,expressions,scores) in test_videos.items():\n",
    "    for i,ind in enumerate(indices):\n",
    "        if expressions[i]>=0:\n",
    "            total_true.append(expressions[i])\n",
    "    cur_ind=0\n",
    "    preds_proba=[]\n",
    "    for i in range(indices[-1]):\n",
    "        if indices[cur_ind]-1==i:\n",
    "            preds_proba.append(y_pred_expr[cur_ind])\n",
    "            cur_ind+=1\n",
    "        else:\n",
    "            if cur_ind==0:\n",
    "                preds_proba.append(y_pred_expr[cur_ind])\n",
    "            else:\n",
    "                w=(i-indices[cur_ind-1]+1)/(indices[cur_ind]-indices[cur_ind-1])\n",
    "                pred=w*y_pred_expr[cur_ind-1]+(1-w)*y_pred_expr[cur_ind]\n",
    "                preds_proba.append(pred)\n",
    "    \n",
    "    preds_proba=np.array(preds_proba)\n",
    "    for hInd,delta in enumerate(deltas):\n",
    "        preds=[]\n",
    "        for i in range(len(preds_proba)):\n",
    "            i1=max(i-delta,0)\n",
    "            proba=np.mean(preds_proba[i1:i+delta+1],axis=0)\n",
    "            best_ind=np.argmax(proba)\n",
    "            best_ind_no_other=np.argmax(proba[:7])\n",
    "            if best_ind==7 and proba[best_ind]-proba[best_ind_no_other]<0.05:\n",
    "                best_ind=best_ind_no_other\n",
    "            preds.append(best_ind)\n",
    "        for i,ind in enumerate(indices):\n",
    "            if expressions[i]>=0:\n",
    "                total_preds[hInd].append(preds[ind-1])\n",
    "\n",
    "total_true=np.array(total_true)\n",
    "for hInd,delta in enumerate(deltas):\n",
    "    preds=np.array(total_preds[hInd])\n",
    "    print(delta,'Acc:',(preds==total_true).mean(), 'F1:',f1_score(y_true=total_true,y_pred=preds, average=\"macro\"))"
   ]
  },
  {
   "cell_type": "markdown",
   "metadata": {},
   "source": [
    "#### Ensemble "
   ]
  },
  {
   "cell_type": "code",
   "execution_count": 120,
   "metadata": {},
   "outputs": [
    {
     "name": "stdout",
     "output_type": "stream",
     "text": [
      "Acc: 0.546454593415368 F1: 0.4312567829587687\n"
     ]
    }
   ],
   "source": [
    "delta=50\n",
    "total_true=[]\n",
    "total_preds=[]\n",
    "weight=0.1\n",
    "def get_probab(x):\n",
    "    #print(x)\n",
    "    e_x = np.exp(x - np.max(x))\n",
    "    return e_x / e_x.sum()\n",
    "\n",
    "for videoname,(y_pred_expr,indices,expressions,scores) in test_videos.items():\n",
    "    for i,ind in enumerate(indices):\n",
    "        if expressions[i]>=0:\n",
    "            total_true.append(expressions[i])\n",
    "    \n",
    "    y_ensemble=weight*scores+(1-weight)*y_pred_expr\n",
    "    #y_ensemble=weight*get_probab(scores)+(1-weight)*y_pred_expr\n",
    "    \n",
    "    y_pred_test_new=y_pred_expr.copy()\n",
    "    y_preds_test_other_inds=np.argmax(y_pred_expr,axis=1)!=7\n",
    "    y_pred_test_new[y_preds_test_other_inds]=y_ensemble[y_preds_test_other_inds]\n",
    "    cur_ind=0\n",
    "    preds_proba=[]\n",
    "    for i in range(indices[-1]):\n",
    "        if indices[cur_ind]-1==i:\n",
    "            preds_proba.append(y_pred_test_new[cur_ind])\n",
    "            cur_ind+=1\n",
    "        else:\n",
    "            if cur_ind==0:\n",
    "                preds_proba.append(y_pred_test_new[cur_ind])\n",
    "            else:\n",
    "                w=(i-indices[cur_ind-1]+1)/(indices[cur_ind]-indices[cur_ind-1])\n",
    "                pred=w*y_pred_test_new[cur_ind-1]+(1-w)*y_pred_test_new[cur_ind]\n",
    "                preds_proba.append(pred)\n",
    "    \n",
    "    preds_proba=np.array(preds_proba)\n",
    "    preds=[]\n",
    "    for i in range(len(preds_proba)):\n",
    "        i1=max(i-delta,0)\n",
    "        proba=np.mean(preds_proba[i1:i+delta+1],axis=0)\n",
    "        preds.append(np.argmax(proba))\n",
    "    for i,ind in enumerate(indices):\n",
    "        if expressions[i]>=0:\n",
    "            total_preds.append(preds[ind-1])\n",
    "\n",
    "total_true=np.array(total_true)\n",
    "total_preds=np.array(total_preds)\n",
    "print('Acc:',(total_preds==total_true).mean(), 'F1:',f1_score(y_true=total_true,y_pred=total_preds, average=\"macro\"))"
   ]
  },
  {
   "cell_type": "markdown",
   "metadata": {},
   "source": [
    "### Save test results "
   ]
  },
  {
   "cell_type": "code",
   "execution_count": 24,
   "metadata": {},
   "outputs": [
    {
     "name": "stdout",
     "output_type": "stream",
     "text": [
      "1022656 ['image_location,Neutral,Anger,Disgust,Fear,Happiness,Sadness,Surprise,Other', '14-30-1920x1080/00001.jpg,', '14-30-1920x1080/00002.jpg,', '14-30-1920x1080/00003.jpg,', '14-30-1920x1080/00004.jpg,']\n",
      "228\n"
     ]
    }
   ],
   "source": [
    "with open(os.path.join(DATA_DIR,'test_set','CVPR_5th_ABAW_EXPR_test_set_sample.txt'),'r') as f:\n",
    "    test_set_sample=f.read().splitlines()\n",
    "print(len(test_set_sample),test_set_sample[:5])\n",
    "\n",
    "test_set_videos={}\n",
    "for s in test_set_sample[1:]:\n",
    "    videoname,img_name=s[:-1].split('/')\n",
    "    if videoname not in test_set_videos:\n",
    "        test_set_videos[videoname]=[]\n",
    "    test_set_videos[videoname].append(img_name)\n",
    "    \n",
    "print(len(test_set_videos))"
   ]
  },
  {
   "cell_type": "code",
   "execution_count": 46,
   "metadata": {},
   "outputs": [
    {
     "data": {
      "application/vnd.jupyter.widget-view+json": {
       "model_id": "e29b24e392504aa5b6c158871f729647",
       "version_major": 2,
       "version_minor": 0
      },
      "text/plain": [
       "  0%|          | 0/228 [00:00<?, ?it/s]"
      ]
     },
     "metadata": {},
     "output_type": "display_data"
    },
    {
     "name": "stdout",
     "output_type": "stream",
     "text": [
      "228\n"
     ]
    }
   ],
   "source": [
    "test_videos={}\n",
    "test_videos_num_frames={}\n",
    "for videoname,img_files in tqdm(test_set_videos.items()):\n",
    "    X,indices,filenames,scores=[],[],[],[]\n",
    "    num_present=num_missed=0\n",
    "    for img_name in img_files:\n",
    "        k=videoname+'/'+img_name\n",
    "        if k in filename2featuresAll:\n",
    "            X.append(filename2featuresAll[k][0])\n",
    "            indices.append(int(img_name[:-4]))\n",
    "            filenames.append(k)\n",
    "            scores.append(filename2featuresAll[k][1][AFFECTNET2MTL])\n",
    "            num_present+=1\n",
    "        else:\n",
    "            num_missed+=1\n",
    "    test_videos[videoname]=(mlpModel.predict(np.array(X)),indices,filenames,np.array(scores))\n",
    "    test_videos_num_frames[videoname]=(num_present,num_missed)\n",
    "print(len(test_videos))"
   ]
  },
  {
   "cell_type": "code",
   "execution_count": 33,
   "metadata": {},
   "outputs": [
    {
     "name": "stdout",
     "output_type": "stream",
     "text": [
      "{'14-30-1920x1080': (5311, 0), '16-30-1920x1080': (5474, 0), '40-30-1280x720': (8767, 893), '43-30-406x720': (2129, 745), '44-25-426x240': (301, 0), '48-30-720x1280': (1543, 50), '55-25-1280x720': (1476, 30), '79-30-960x720': (2479, 16), '83-24-1920x1080': (5344, 0), '92-24-1920x1080': (8164, 0), '119-30-848x480': (1652, 0), '126-30-1080x1920': (4378, 216), '130-25-1280x720_left': (8086, 376), '130-25-1280x720_right': (8462, 0), '134-30-1280x720': (3681, 194), '136-30-1920x1080': (7209, 321), '166': (4515, 0), '167': (4718, 0), '168': (2979, 0), '169': (2863, 0), '171': (3931, 46), '172': (11333, 312), '175': (2503, 0), '176': (6416, 0), '177': (3127, 0), '178': (5841, 0), '179': (4451, 0), '181': (5848, 14), '182': (4356, 0), '183': (2770, 0), '184': (3791, 0), '185': (4053, 0), '186': (4158, 8), '187': (4377, 28), '188': (5987, 0), '189': (3855, 0), '190': (5421, 6), '191': (5249, 0), '192': (3592, 7), '193': (3984, 0), '194': (4537, 0), '195': (6118, 0), '196': (5453, 1), '197': (1784, 86), '199': (2850, 68), '200': (5040, 0), '201': (1359, 1), '202': (940, 0), '203': (3954, 11), '204': (5879, 46), '206': (4449, 27), '208': (5118, 41), '209': (2455, 401), '210': (3238, 0), '211': (2162, 0), '212': (4140, 422), '213': (6397, 0), '214': (2526, 29), '215': (2818, 591), '216': (456, 1), '218': (3787, 62), '219': (3576, 315), '220': (4321, 704), '221': (4355, 769), '223': (2794, 3), '224': (2077, 156), '226': (4027, 69), '227': (4417, 0), '228': (2155, 0), '229': (3563, 0), '230': (3893, 77), '231': (4179, 29), '232': (2372, 0), '233': (4328, 151), '234': (2905, 14), '235': (3683, 0), '236': (3673, 0), '237': (5434, 0), '238': (3013, 0), '239': (1964, 0), '240': (6791, 0), '241': (3512, 0), '242': (6558, 452), '243': (4121, 0), '244': (2286, 35), '245': (2530, 0), '246': (1345, 0), '247': (2270, 0), '248': (2267, 0), '249': (2621, 0), '250': (2928, 0), '251': (2106, 0), '252': (2726, 31), '253': (2277, 0), '254': (3386, 0), '255': (1677, 15), '256': (3336, 0), '257': (4389, 0), '258': (1446, 18), '259': (2393, 0), '260': (2387, 18), '261': (2866, 0), '262': (4753, 0), '264': (4745, 0), '265': (6691, 28), '266': (2465, 0), '267': (3841, 0), '268': (4364, 2), '269': (4697, 0), '270': (3935, 2), '271': (2224, 0), '272': (3205, 128), '273': (4619, 0), '274': (3526, 0), '275': (2447, 0), '276': (1583, 0), '277': (5038, 133), '278': (4287, 0), '279': (2212, 0), '280': (3857, 88), '281': (7011, 0), '283': (4615, 153), '284': (4054, 0), '285': (2988, 0), '286': (2678, 0), '287': (1273, 0), '288': (3199, 0), '289': (4203, 0), '290': (3159, 3), '291': (1818, 13), '292': (4698, 5), '293': (2110, 0), '294': (3285, 3), '295': (3769, 0), '296': (6486, 0), '297': (3286, 2), '298': (2836, 0), '299': (2337, 0), '303': (3897, 53), '304': (2694, 0), '305': (4579, 0), '306': (2297, 0), '307': (3311, 0), '308': (4634, 17), '309': (2498, 0), '311': (1930, 0), '312': (5090, 19), '313': (3140, 0), '314': (2203, 57), '315': (3932, 5), '317': (1685, 0), '318': (4046, 61), '319': (2137, 0), '320': (4587, 151), '321': (3401, 154), '322': (2429, 0), '323': (2936, 0), '324': (5472, 142), 'video9': (3773, 22), 'video11': (4132, 248), 'video12': (5580, 0), 'video13': (10551, 16), 'video14': (7583, 3), 'video15': (4288, 0), 'video16': (12486, 1), 'video17': (21938, 0), 'video18': (3784, 0), 'video19': (775, 10), 'video20': (11272, 0), 'video21': (6787, 22), 'video22': (10458, 12), 'video23': (8783, 7), 'video25': (3641, 4), 'video26': (11021, 0), 'video27': (16410, 9), 'video28': (8728, 0), 'video30': (8209, 5), 'video32': (2751, 25), 'video33': (7538, 16), 'video35': (3568, 0), 'video36': (2386, 39), 'video37': (8820, 367), 'video38': (2936, 9), 'video39': (10671, 8), 'video40': (5877, 0), 'video41': (3466, 29), 'video42': (9217, 10), 'video44': (7778, 8), 'video45_1': (805, 8), 'video45_2': (1096, 0), 'video45_4': (1039, 0), 'video46': (3167, 6), 'video49_right': (6071, 51), 'video51': (4406, 2), 'video52': (10671, 9), 'video53': (7967, 13), 'video54': (3591, 0), 'video56': (10661, 34), 'video57': (8273, 106), 'video59': (6693, 9), 'video60': (1906, 13), 'video62': (5562, 17), 'video64': (6087, 13), 'video65': (3313, 1259), 'video69': (8609, 13), 'video70': (11826, 42), 'video71': (11204, 0), 'video75': (580, 60), 'video76': (3912, 362), 'video77': (3004, 0), 'video78': (419, 0), 'video80': (369, 50), 'video81': (7709, 724), 'video82': (10362, 309), 'video83': (2490, 212), 'video84': (525, 0), 'video85': (7946, 0), 'video86_1': (1770, 1), 'video86_2': (886, 0), 'video86_3': (402, 0), 'video87': (1808, 14), 'video88': (8828, 22), 'video89': (2241, 0), 'video90': (3518, 52), 'video91': (710, 0), 'video92': (2476, 77), 'video95': (9455, 1400), 'video96': (7905, 141)}\n"
     ]
    }
   ],
   "source": [
    "print(test_videos_num_frames)"
   ]
  },
  {
   "cell_type": "code",
   "execution_count": 47,
   "metadata": {},
   "outputs": [],
   "source": [
    "delta=50\n",
    "resdir=os.path.join(DATA_DIR,'test_set/test_results/EXPR')\n",
    "if not os.path.exists(resdir):\n",
    "    os.makedirs(resdir)"
   ]
  },
  {
   "cell_type": "code",
   "execution_count": 48,
   "metadata": {},
   "outputs": [],
   "source": [
    "#with open(os.path.join(resdir,'predictions_1_emb.txt'), 'w') as f:\n",
    "with open(os.path.join(resdir,'predictions_5_emb_train_val.txt'), 'w') as f:\n",
    "    f.write(test_set_sample[0]+'\\n')\n",
    "    for videoname,(y_pred_expr,indices,filenames,scores) in test_videos.items():\n",
    "        cur_ind=0\n",
    "        preds_proba=[]\n",
    "        for i in range(indices[-1]):\n",
    "            if indices[cur_ind]-1==i:\n",
    "                preds_proba.append(y_pred_expr[cur_ind])\n",
    "                cur_ind+=1\n",
    "            else:\n",
    "                if cur_ind==0:\n",
    "                    preds_proba.append(y_pred_expr[cur_ind])\n",
    "                else:\n",
    "                    w=(i-indices[cur_ind-1]+1)/(indices[cur_ind]-indices[cur_ind-1])\n",
    "                    pred=w*y_pred_expr[cur_ind-1]+(1-w)*y_pred_expr[cur_ind]\n",
    "                    preds_proba.append(pred)\n",
    "\n",
    "        pred=y_pred_expr[cur_ind-1]\n",
    "        for _ in range(indices[-1],len(test_set_videos[videoname])):\n",
    "            preds_proba.append(pred)\n",
    "\n",
    "        preds_proba=np.array(preds_proba)\n",
    "        for i,img_name in enumerate(test_set_videos[videoname]):\n",
    "            i1=max(i-delta,0)\n",
    "            proba=np.mean(preds_proba[i1:i+delta+1],axis=0)\n",
    "            f.write(videoname+'/'+img_name+','+str(np.argmax(proba))+'\\n')"
   ]
  },
  {
   "cell_type": "code",
   "execution_count": 129,
   "metadata": {},
   "outputs": [],
   "source": [
    "weight=0.1\n",
    "with open(os.path.join(resdir,'predictions_2_emb_scores.txt'), 'w') as f:\n",
    "    f.write(test_set_sample[0]+'\\n')\n",
    "    for videoname,(y_pred_expr,indices,filenames,scores) in test_videos.items():\n",
    "        cur_ind=0\n",
    "        preds_proba=[]\n",
    "        y_ensemble=weight*scores+(1-weight)*y_pred_expr\n",
    "        #y_ensemble=weight*get_probab(scores)+(1-weight)*y_pred_expr\n",
    "        y_pred_test_new=y_pred_expr.copy()\n",
    "        y_preds_test_other_inds=np.argmax(y_pred_expr,axis=1)!=7\n",
    "        y_pred_test_new[y_preds_test_other_inds]=y_ensemble[y_preds_test_other_inds]\n",
    "\n",
    "        for i in range(indices[-1]):\n",
    "            if indices[cur_ind]-1==i:\n",
    "                preds_proba.append(y_pred_test_new[cur_ind])\n",
    "                cur_ind+=1\n",
    "            else:\n",
    "                if cur_ind==0:\n",
    "                    preds_proba.append(y_pred_test_new[cur_ind])\n",
    "                else:\n",
    "                    w=(i-indices[cur_ind-1]+1)/(indices[cur_ind]-indices[cur_ind-1])\n",
    "                    pred=w*y_pred_test_new[cur_ind-1]+(1-w)*y_pred_test_new[cur_ind]\n",
    "                    preds_proba.append(pred)\n",
    "\n",
    "        pred=y_pred_test_new[cur_ind-1]\n",
    "        for _ in range(indices[-1],len(test_set_videos[videoname])):\n",
    "            preds_proba.append(pred)\n",
    "\n",
    "        preds_proba=np.array(preds_proba)\n",
    "        for i,img_name in enumerate(test_set_videos[videoname]):\n",
    "            i1=max(i-delta,0)\n",
    "            proba=np.mean(preds_proba[i1:i+delta+1],axis=0)\n",
    "            f.write(videoname+'/'+img_name+','+str(np.argmax(proba))+'\\n')"
   ]
  },
  {
   "cell_type": "markdown",
   "metadata": {},
   "source": [
    "-----------------"
   ]
  },
  {
   "cell_type": "code",
   "execution_count": 25,
   "metadata": {},
   "outputs": [
    {
     "data": {
      "application/vnd.jupyter.widget-view+json": {
       "model_id": "304880d9ec574382a525aa28209fdc5c",
       "version_major": 2,
       "version_minor": 0
      },
      "text/plain": [
       "  0%|          | 0/228 [00:00<?, ?it/s]"
      ]
     },
     "metadata": {},
     "output_type": "display_data"
    },
    {
     "name": "stdout",
     "output_type": "stream",
     "text": [
      "228\n"
     ]
    }
   ],
   "source": [
    "test_videos={}\n",
    "for videoname,img_files in tqdm(test_set_videos.items()):\n",
    "    indices,filenames,test_scores=[],[],[]\n",
    "    imgs=[]\n",
    "    for img_name in img_files:\n",
    "        k=videoname+'/'+img_name\n",
    "        filepath=os.path.join(data_dir,videoname,img_name)   \n",
    "        if os.path.exists(filepath):\n",
    "            img = Image.open(filepath)\n",
    "            img_tensor = test_transforms(img)\n",
    "            if img.size:\n",
    "                imgs.append(img_tensor)\n",
    "                indices.append(int(img_name[:-4]))\n",
    "                filenames.append(k)\n",
    "                if len(imgs)>=64: #96: #48: #32:        \n",
    "                    scores = model(torch.stack(imgs, dim=0).to(device))\n",
    "                    scores=scores.data.cpu().numpy()\n",
    "                    if len(test_scores)==0:\n",
    "                        test_scores=scores\n",
    "                    else:\n",
    "                        test_scores=np.concatenate((test_scores,scores),axis=0)\n",
    "                    imgs=[]\n",
    "\n",
    "    if len(imgs)>0:        \n",
    "        scores = model(torch.stack(imgs, dim=0).to(device))\n",
    "        scores=scores.data.cpu().numpy()\n",
    "\n",
    "        if len(test_scores)==0:\n",
    "            test_scores=scores\n",
    "        else:\n",
    "            test_scores=np.concatenate((test_scores,scores),axis=0)\n",
    "        imgs=[]\n",
    "    test_videos[videoname]=(test_scores,indices,filenames)\n",
    "print(len(test_videos))"
   ]
  },
  {
   "cell_type": "code",
   "execution_count": 26,
   "metadata": {},
   "outputs": [],
   "source": [
    "import pickle\n",
    "FT_TEST_PREDS='enet_b0_vgaf_finetuned_expr_test.pickle' \n",
    "if True:\n",
    "    with open(FT_TEST_PREDS, 'wb') as handle:\n",
    "        pickle.dump(test_videos, handle, protocol=pickle.HIGHEST_PROTOCOL)\n",
    "    test_videos_ft=test_videos"
   ]
  },
  {
   "cell_type": "code",
   "execution_count": 29,
   "metadata": {},
   "outputs": [
    {
     "name": "stdout",
     "output_type": "stream",
     "text": [
      "228\n"
     ]
    }
   ],
   "source": [
    "with open(FT_TEST_PREDS, 'rb') as handle:\n",
    "    test_videos_ft=pickle.load(handle)\n",
    "print(len(test_videos))"
   ]
  },
  {
   "cell_type": "code",
   "execution_count": 31,
   "metadata": {},
   "outputs": [],
   "source": [
    "with open(os.path.join(resdir,'predictions_3_ft.txt'), 'w') as f:\n",
    "    f.write(test_set_sample[0]+'\\n')\n",
    "    for videoname,(y_pred_ft,indices,filenames) in test_videos_ft.items():\n",
    "        cur_ind=0\n",
    "        preds_proba=[]\n",
    "        for i in range(indices[-1]):\n",
    "            if indices[cur_ind]-1==i:\n",
    "                preds_proba.append(y_pred_ft[cur_ind])\n",
    "                cur_ind+=1\n",
    "            else:\n",
    "                if cur_ind==0:\n",
    "                    preds_proba.append(y_pred_ft[cur_ind])\n",
    "                else:\n",
    "                    w=(i-indices[cur_ind-1]+1)/(indices[cur_ind]-indices[cur_ind-1])\n",
    "                    pred=w*y_pred_ft[cur_ind-1]+(1-w)*y_pred_ft[cur_ind]\n",
    "                    preds_proba.append(pred)\n",
    "\n",
    "        pred=y_pred_ft[cur_ind-1]\n",
    "        for _ in range(indices[-1],len(test_set_videos[videoname])):\n",
    "            preds_proba.append(pred)\n",
    "\n",
    "        preds_proba=np.array(preds_proba)\n",
    "        for i,img_name in enumerate(test_set_videos[videoname]):\n",
    "            i1=max(i-delta,0)\n",
    "            proba=np.mean(preds_proba[i1:i+delta+1],axis=0)\n",
    "            f.write(videoname+'/'+img_name+','+str(np.argmax(proba))+'\\n')"
   ]
  },
  {
   "cell_type": "code",
   "execution_count": 34,
   "metadata": {},
   "outputs": [],
   "source": [
    "weight=0.8\n",
    "with open(os.path.join(resdir,'predictions_4_emb_ft.txt'), 'w') as f:\n",
    "    f.write(test_set_sample[0]+'\\n')\n",
    "    for videoname,(y_pred_expr,indices,filenames,scores) in test_videos.items():\n",
    "        cur_ind=0\n",
    "        preds_proba=[]\n",
    "        y_pred_ft=test_videos_ft[videoname][0]\n",
    "        y_ensemble=weight*y_pred_expr+(1-weight)*y_pred_ft\n",
    "        for i in range(indices[-1]):\n",
    "            if indices[cur_ind]-1==i:\n",
    "                preds_proba.append(y_ensemble[cur_ind])\n",
    "                cur_ind+=1\n",
    "            else:\n",
    "                if cur_ind==0:\n",
    "                    preds_proba.append(y_ensemble[cur_ind])\n",
    "                else:\n",
    "                    w=(i-indices[cur_ind-1]+1)/(indices[cur_ind]-indices[cur_ind-1])\n",
    "                    pred=w*y_ensemble[cur_ind-1]+(1-w)*y_ensemble[cur_ind]\n",
    "                    preds_proba.append(pred)\n",
    "\n",
    "        pred=y_ensemble[cur_ind-1]\n",
    "        for _ in range(indices[-1],len(test_set_videos[videoname])):\n",
    "            preds_proba.append(pred)\n",
    "\n",
    "        preds_proba=np.array(preds_proba)\n",
    "        for i,img_name in enumerate(test_set_videos[videoname]):\n",
    "            i1=max(i-delta,0)\n",
    "            proba=np.mean(preds_proba[i1:i+delta+1],axis=0)\n",
    "            f.write(videoname+'/'+img_name+','+str(np.argmax(proba))+'\\n')"
   ]
  },
  {
   "cell_type": "markdown",
   "metadata": {},
   "source": [
    "## Valence-Arousal "
   ]
  },
  {
   "cell_type": "code",
   "execution_count": 13,
   "metadata": {},
   "outputs": [
    {
     "name": "stdout",
     "output_type": "stream",
     "text": [
      "(1653757, 10) (1653757, 2) 26387\n",
      "(376323, 10) (376323, 2) 5698\n"
     ]
    }
   ],
   "source": [
    "def get_image2VA(dirname):\n",
    "    dirpath=os.path.join(DATA_DIR,'VA_Estimation_Challenge/',dirname)\n",
    "    num_missed=0\n",
    "    X,y=[],[]\n",
    "    for filename in os.listdir(dirpath):\n",
    "        fn, ext = os.path.splitext(os.path.basename(filename))\n",
    "        if ext.lower()=='.txt':\n",
    "            with open(os.path.join(dirpath,filename)) as f:\n",
    "                lines = f.read().splitlines()\n",
    "                for i,line in enumerate(lines):\n",
    "                    if i>0:\n",
    "                        splitted_line=line.split(',')\n",
    "                        valence=float(splitted_line[0])\n",
    "                        arousal=float(splitted_line[1])\n",
    "                        if valence>=-1 and arousal>=-1:\n",
    "                            imagename=fn+'/'+get_names(i)+'.jpg'\n",
    "                            if imagename in filename2featuresAll:\n",
    "                                X.append(filename2featuresAll[imagename][1])\n",
    "                                y.append((valence,arousal))\n",
    "                            else:\n",
    "                                num_missed+=1\n",
    "    X=np.array(X)\n",
    "    y=np.array(y)\n",
    "    print(X.shape,y.shape,num_missed)\n",
    "    return X,y\n",
    "\n",
    "X_train,y_train=get_image2VA('Train_Set')\n",
    "X_val,y_val=get_image2VA('Validation_Set')\n",
    "TRAIN_VAL=False"
   ]
  },
  {
   "cell_type": "code",
   "execution_count": 61,
   "metadata": {},
   "outputs": [
    {
     "name": "stdout",
     "output_type": "stream",
     "text": [
      "(2030080, 10) (2030080, 2)\n"
     ]
    }
   ],
   "source": [
    "if True:\n",
    "    TRAIN_VAL=True\n",
    "    X_train=np.concatenate((X_train,X_val))\n",
    "    y_train=np.concatenate((y_train,y_val))\n",
    "    print(X_train.shape,y_train.shape)"
   ]
  },
  {
   "cell_type": "code",
   "execution_count": 14,
   "metadata": {},
   "outputs": [],
   "source": [
    "def print_ccc_for_val_preds(y_val_preds):\n",
    "    gt_V=y_val[:,0]\n",
    "    gt_A=y_val[:,1]\n",
    "    pred_V=y_val_preds[:,0]\n",
    "    pred_A=y_val_preds[:,1]\n",
    "    print(metric_for_VA(gt_V,gt_A,pred_V,pred_A))\n",
    "    print(CCC_numpy(gt_V,pred_V),CCC_numpy(gt_A,pred_A))\n",
    "\n",
    "def print_ccc():\n",
    "    y_val_preds=mlpModel.predict(X_val)\n",
    "    print_ccc_for_val_preds(y_val_preds)"
   ]
  },
  {
   "cell_type": "code",
   "execution_count": 16,
   "metadata": {},
   "outputs": [
    {
     "name": "stdout",
     "output_type": "stream",
     "text": [
      "(376323, 2)\n",
      "(0.28258248565203836, 0.3319371832442485, 0.3072598344481434)\n"
     ]
    }
   ],
   "source": [
    "np.random.seed(1)\n",
    "res=RandomForestRegressor(n_estimators=10,max_depth=3, n_jobs=-1)\n",
    "\n",
    "#import xgboost as xgb\n",
    "#clf = xgb.XGBClassifier(n_estimators=1000,use_label_encoder=False)\n",
    "\n",
    "res.fit(X_train, y_train)\n",
    "y_val_preds = res.predict(X_val)\n",
    "print(y_val_preds.shape)\n",
    "\n",
    "gt_V=y_val[:,0]\n",
    "gt_A=y_val[:,1]\n",
    "pred_V=y_val_preds[:,0]\n",
    "pred_A=y_val_preds[:,1]\n",
    "print(metric_for_VA(gt_V,gt_A,pred_V,pred_A))"
   ]
  },
  {
   "cell_type": "markdown",
   "metadata": {},
   "source": [
    "-------------"
   ]
  },
  {
   "cell_type": "code",
   "execution_count": 61,
   "metadata": {},
   "outputs": [],
   "source": [
    "from lightautoml.automl.presets.tabular_presets import TabularAutoML\n",
    "from lightautoml.tasks import Task\n",
    "\n",
    "if False:\n",
    "    automl = TabularAutoML(\n",
    "        task = Task(\n",
    "            name = 'reg',\n",
    "            metric = lambda y_true, y_pred: CCC_score(y_true, y_pred),\n",
    "            greater_is_better =True),\n",
    "        timeout=600#,cpu_limit=4\n",
    "    )\n",
    "else:\n",
    "    automl = TabularAutoML(\n",
    "        task = Task(\n",
    "            name = 'reg'),\n",
    "        timeout=1200#,cpu_limit=4\n",
    "    )\n",
    "\n",
    "import pandas as pd\n",
    "def get_df(X,y):\n",
    "    #xy=np.concatenate((y.reshape((-1,1)),X),axis=1)\n",
    "    df=pd.DataFrame(data=X,columns=['f'+str(i) for i in range(X.shape[1])])\n",
    "    df['y']=y\n",
    "    return df"
   ]
  },
  {
   "cell_type": "code",
   "execution_count": 24,
   "metadata": {},
   "outputs": [
    {
     "name": "stdout",
     "output_type": "stream",
     "text": [
      "         f0        f1        f2        f3        f4        f5        f6  \\\n",
      "0 -0.856850 -0.980964 -2.897677  1.878489  1.875324 -0.136829 -1.996574   \n",
      "1 -0.967150 -1.147540 -2.688983  1.967857  1.798332 -0.150944 -1.944596   \n",
      "2 -1.044203 -0.984244 -2.608128  1.913518  1.709237 -0.250167 -1.958941   \n",
      "3 -1.181610 -0.557486 -1.883281  1.390435  1.850232 -0.227555 -2.620486   \n",
      "4 -0.938104 -0.570756 -1.308646  1.305721  1.405185  0.012821 -2.574656   \n",
      "\n",
      "         f7        f8        f9      y  \n",
      "0  4.760030  0.507206  0.745402  0.701  \n",
      "1  4.828946  0.498256  0.767358  0.701  \n",
      "2  4.655427  0.483607  0.754648  0.701  \n",
      "3  4.311441  0.534481  0.691723  0.701  \n",
      "4  3.889822  0.449230  0.653974  0.701  \n",
      "         f0        f1        f2        f3        f4        f5        f6  \\\n",
      "0  2.257816 -0.336461  1.935838 -2.232281 -0.734275  1.416191 -1.842518   \n",
      "1  2.543057 -0.586280  1.028857 -1.770419 -0.725319  1.601804 -1.894101   \n",
      "2  2.513208 -0.559739  1.128592 -1.599575 -0.891215  1.550411 -2.040169   \n",
      "3  2.663307 -0.487385  1.403275 -1.855448 -1.041836  1.614423 -1.727581   \n",
      "4  2.546333 -0.551208  1.510843 -1.734837 -0.905420  1.587841 -1.996134   \n",
      "\n",
      "         f7        f8        f9    y  \n",
      "0  1.522441 -0.245796  0.520590  0.0  \n",
      "1  2.318928 -0.241154  0.581099  0.0  \n",
      "2  2.037113 -0.252706  0.578838  0.0  \n",
      "3  1.604249 -0.320088  0.535692  0.0  \n",
      "4  1.700374 -0.291751  0.540065  0.0  \n",
      "[16:46:53] Stdout logging level is INFO.\n",
      "[16:46:53] Task: reg\n",
      "\n",
      "[16:46:53] Start automl preset with listed constraints:\n",
      "[16:46:53] - time: 1200.00 seconds\n",
      "[16:46:53] - CPU: 4 cores\n",
      "[16:46:53] - memory: 16 GB\n",
      "\n",
      "[16:46:53] \u001b[1mTrain data shape: (1653757, 11)\u001b[0m\n",
      "\n",
      "[16:46:56] Layer \u001b[1m1\u001b[0m train process start. Time left 1196.84 secs\n",
      "[16:46:57] \u001b[1mLvl_0_Pipe_0_Mod_0_LinearL2\u001b[0m fitting and predicting completed\n",
      "[16:46:57] Time left 1195.96 secs\n",
      "\n",
      "[16:47:03] \u001b[1mSelector_LightGBM\u001b[0m fitting and predicting completed\n",
      "[16:47:10] \u001b[1mLvl_0_Pipe_1_Mod_0_LightGBM\u001b[0m fitting and predicting completed\n",
      "[16:47:10] Start hyperparameters optimization for \u001b[1mLvl_0_Pipe_1_Mod_1_Tuned_LightGBM\u001b[0m ... Time budget is 300.00 secs\n",
      "[16:52:14] Hyperparameters optimization for \u001b[1mLvl_0_Pipe_1_Mod_1_Tuned_LightGBM\u001b[0m completed\n",
      "[16:52:23] \u001b[1mLvl_0_Pipe_1_Mod_2_CatBoost\u001b[0m fitting and predicting completed\n",
      "[16:52:23] Start hyperparameters optimization for \u001b[1mLvl_0_Pipe_1_Mod_3_Tuned_CatBoost\u001b[0m ... Time budget is 300.00 secs\n",
      "[16:57:25] Hyperparameters optimization for \u001b[1mLvl_0_Pipe_1_Mod_3_Tuned_CatBoost\u001b[0m completed\n",
      "[16:57:28] Time left 564.77 secs\n",
      "\n",
      "[16:57:28] \u001b[1mLayer 1 training completed.\u001b[0m\n",
      "\n",
      "[16:57:28] Blending: optimization starts with equal weights and score \u001b[1m-0.12227247658618863\u001b[0m\n",
      "[16:57:29] Blending: iteration \u001b[1m0\u001b[0m: score = \u001b[1m-0.12214332476818883\u001b[0m, weights = \u001b[1m[0.1300542  0.2591489  0.46940076 0.         0.14139616]\u001b[0m\n",
      "[16:57:29] Blending: iteration \u001b[1m1\u001b[0m: score = \u001b[1m-0.12212674432245148\u001b[0m, weights = \u001b[1m[0.1813051  0.26551464 0.38086453 0.         0.17231566]\u001b[0m\n",
      "[16:57:30] Blending: iteration \u001b[1m2\u001b[0m: score = \u001b[1m-0.12212664573036092\u001b[0m, weights = \u001b[1m[0.18225773 0.25620162 0.38587382 0.         0.17566684]\u001b[0m\n",
      "[16:57:30] Blending: iteration \u001b[1m3\u001b[0m: score = \u001b[1m-0.12212664393889239\u001b[0m, weights = \u001b[1m[0.18256697 0.2550815  0.38662153 0.         0.17573005]\u001b[0m\n",
      "[16:57:30] Blending: iteration \u001b[1m4\u001b[0m: score = \u001b[1m-0.12212664373791898\u001b[0m, weights = \u001b[1m[0.18230385 0.2551636  0.386746   0.         0.1757866 ]\u001b[0m\n",
      "[16:57:30] \u001b[1mAutoml preset training completed in 637.18 seconds\u001b[0m\n",
      "\n",
      "[16:57:30] Model description:\n",
      "Final prediction for new objects (level 0) = \n",
      "\t 0.18230 * (1 averaged models Lvl_0_Pipe_0_Mod_0_LinearL2) +\n",
      "\t 0.25516 * (1 averaged models Lvl_0_Pipe_1_Mod_0_LightGBM) +\n",
      "\t 0.38675 * (1 averaged models Lvl_0_Pipe_1_Mod_1_Tuned_LightGBM) +\n",
      "\t 0.17579 * (1 averaged models Lvl_0_Pipe_1_Mod_3_Tuned_CatBoost) \n",
      "\n",
      "oof_pred:\n",
      "array([[ 0.09696145],\n",
      "       [ 0.13545461],\n",
      "       [ 0.14065892],\n",
      "       [ 0.05365848],\n",
      "       [ 0.07476036],\n",
      "       [ 0.00080519],\n",
      "       [ 0.031294  ],\n",
      "       [-0.03026773],\n",
      "       [ 0.01208194],\n",
      "       [ 0.0241767 ]], dtype=float32)\n",
      "Shape = (376323, 1)\n",
      "(376323, 1)\n",
      "(376323,) (376323, 1)\n",
      "Valence: 0.37053283592957337\n"
     ]
    }
   ],
   "source": [
    "#Valence\n",
    "df_train=get_df(X_train,y_train[:,0])\n",
    "print(df_train.head())\n",
    "\n",
    "df_val=get_df(X_val,y_val[:,0])\n",
    "print(df_val.head())\n",
    "\n",
    "oof_pred = automl.fit_predict(df_train, roles = {'target': 'y'}, valid_data=df_val,verbose=1)\n",
    "print('oof_pred:\\n{}\\nShape = {}'.format(oof_pred[:10], oof_pred.shape))\n",
    "\n",
    "y_val_preds_v = automl.predict(df_val)\n",
    "print(y_val_preds_v.shape)\n",
    "gt_V=y_val[:,0]\n",
    "print(gt_V.shape,y_val_preds_v.data.shape)\n",
    "print('Valence:',CCC_score(gt_V, y_val_preds_v.data[:,0]))"
   ]
  },
  {
   "cell_type": "code",
   "execution_count": 26,
   "metadata": {},
   "outputs": [
    {
     "name": "stdout",
     "output_type": "stream",
     "text": [
      "(376323,) (376323, 1)\n",
      "Valence: 0.3750780432302715\n"
     ]
    }
   ],
   "source": [
    "print(gt_V.shape,y_val_preds.data.shape)\n",
    "print('Valence:',CCC_score(gt_V, y_val_preds.data[:,0]))"
   ]
  },
  {
   "cell_type": "code",
   "execution_count": 23,
   "metadata": {},
   "outputs": [
    {
     "name": "stdout",
     "output_type": "stream",
     "text": [
      "         f0        f1        f2        f3        f4        f5        f6  \\\n",
      "0 -0.856850 -0.980964 -2.897677  1.878489  1.875324 -0.136829 -1.996574   \n",
      "1 -0.967150 -1.147540 -2.688983  1.967857  1.798332 -0.150944 -1.944596   \n",
      "2 -1.044203 -0.984244 -2.608128  1.913518  1.709237 -0.250167 -1.958941   \n",
      "3 -1.181610 -0.557486 -1.883281  1.390435  1.850232 -0.227555 -2.620486   \n",
      "4 -0.938104 -0.570756 -1.308646  1.305721  1.405185  0.012821 -2.574656   \n",
      "\n",
      "         f7        f8        f9      y  \n",
      "0  4.760030  0.507206  0.745402  0.385  \n",
      "1  4.828946  0.498256  0.767358  0.385  \n",
      "2  4.655427  0.483607  0.754648  0.385  \n",
      "3  4.311441  0.534481  0.691723  0.385  \n",
      "4  3.889822  0.449230  0.653974  0.385  \n",
      "         f0        f1        f2        f3        f4        f5        f6  \\\n",
      "0  2.257816 -0.336461  1.935838 -2.232281 -0.734275  1.416191 -1.842518   \n",
      "1  2.543057 -0.586280  1.028857 -1.770419 -0.725319  1.601804 -1.894101   \n",
      "2  2.513208 -0.559739  1.128592 -1.599575 -0.891215  1.550411 -2.040169   \n",
      "3  2.663307 -0.487385  1.403275 -1.855448 -1.041836  1.614423 -1.727581   \n",
      "4  2.546333 -0.551208  1.510843 -1.734837 -0.905420  1.587841 -1.996134   \n",
      "\n",
      "         f7        f8        f9     y  \n",
      "0  1.522441 -0.245796  0.520590  0.14  \n",
      "1  2.318928 -0.241154  0.581099  0.14  \n",
      "2  2.037113 -0.252706  0.578838  0.14  \n",
      "3  1.604249 -0.320088  0.535692  0.14  \n",
      "4  1.700374 -0.291751  0.540065  0.14  \n",
      "[16:37:09] Stdout logging level is INFO.\n",
      "[16:37:09] Task: reg\n",
      "\n",
      "[16:37:09] Start automl preset with listed constraints:\n",
      "[16:37:09] - time: 1200.00 seconds\n",
      "[16:37:09] - CPU: 4 cores\n",
      "[16:37:09] - memory: 16 GB\n",
      "\n",
      "[16:37:09] \u001b[1mTrain data shape: (1653757, 11)\u001b[0m\n",
      "\n",
      "[16:37:12] Layer \u001b[1m1\u001b[0m train process start. Time left 1196.76 secs\n",
      "[16:37:13] \u001b[1mLvl_0_Pipe_0_Mod_0_LinearL2\u001b[0m fitting and predicting completed\n",
      "[16:37:13] Time left 1195.97 secs\n",
      "\n",
      "[16:37:19] \u001b[1mSelector_LightGBM\u001b[0m fitting and predicting completed\n",
      "[16:37:24] \u001b[1mLvl_0_Pipe_1_Mod_0_LightGBM\u001b[0m fitting and predicting completed\n",
      "[16:37:24] Start hyperparameters optimization for \u001b[1mLvl_0_Pipe_1_Mod_1_Tuned_LightGBM\u001b[0m ... Time budget is 300.00 secs\n",
      "[16:42:27] Hyperparameters optimization for \u001b[1mLvl_0_Pipe_1_Mod_1_Tuned_LightGBM\u001b[0m completed\n",
      "[16:42:33] \u001b[1mLvl_0_Pipe_1_Mod_2_CatBoost\u001b[0m fitting and predicting completed\n",
      "[16:42:33] Start hyperparameters optimization for \u001b[1mLvl_0_Pipe_1_Mod_3_Tuned_CatBoost\u001b[0m ... Time budget is 300.00 secs\n",
      "[16:45:41] Hyperparameters optimization for \u001b[1mLvl_0_Pipe_1_Mod_3_Tuned_CatBoost\u001b[0m completed\n",
      "[16:45:42] Time left 686.63 secs\n",
      "\n",
      "[16:45:42] \u001b[1mLayer 1 training completed.\u001b[0m\n",
      "\n",
      "[16:45:42] Blending: optimization starts with equal weights and score \u001b[1m-0.05218975424373731\u001b[0m\n",
      "[16:45:43] Blending: iteration \u001b[1m0\u001b[0m: score = \u001b[1m-0.05217784032118552\u001b[0m, weights = \u001b[1m[0.17490457 0.17770986 0.18210869 0.11159484 0.353682  ]\u001b[0m\n",
      "[16:45:43] Blending: iteration \u001b[1m1\u001b[0m: score = \u001b[1m-0.05217202482969164\u001b[0m, weights = \u001b[1m[0.16813712 0.21569492 0.18510999 0.         0.431058  ]\u001b[0m\n",
      "[16:45:43] Blending: iteration \u001b[1m2\u001b[0m: score = \u001b[1m-0.05217189113469734\u001b[0m, weights = \u001b[1m[0.15961032 0.21497451 0.19617607 0.         0.42923915]\u001b[0m\n",
      "[16:45:44] Blending: iteration \u001b[1m3\u001b[0m: score = \u001b[1m-0.05217187570408276\u001b[0m, weights = \u001b[1m[0.16131532 0.21294816 0.19860573 0.         0.42713085]\u001b[0m\n",
      "[16:45:44] Blending: iteration \u001b[1m4\u001b[0m: score = \u001b[1m-0.05217187570408276\u001b[0m, weights = \u001b[1m[0.16131532 0.21294816 0.19860573 0.         0.42713085]\u001b[0m\n",
      "[16:45:44] Blending: no score update. Terminated\n",
      "\n",
      "[16:45:44] \u001b[1mAutoml preset training completed in 515.33 seconds\u001b[0m\n",
      "\n",
      "[16:45:44] Model description:\n",
      "Final prediction for new objects (level 0) = \n",
      "\t 0.16132 * (1 averaged models Lvl_0_Pipe_0_Mod_0_LinearL2) +\n",
      "\t 0.21295 * (1 averaged models Lvl_0_Pipe_1_Mod_0_LightGBM) +\n",
      "\t 0.19861 * (1 averaged models Lvl_0_Pipe_1_Mod_1_Tuned_LightGBM) +\n",
      "\t 0.42713 * (1 averaged models Lvl_0_Pipe_1_Mod_3_Tuned_CatBoost) \n",
      "\n",
      "oof_pred:\n",
      "array([[0.2796959 ],\n",
      "       [0.29722407],\n",
      "       [0.28203318],\n",
      "       [0.2721067 ],\n",
      "       [0.27553916],\n",
      "       [0.29188573],\n",
      "       [0.27646416],\n",
      "       [0.27547148],\n",
      "       [0.27743182],\n",
      "       [0.27863595]], dtype=float32)\n",
      "Shape = (376323, 1)\n",
      "(376323, 1)\n",
      "Arousal: 0.4418819604216678\n"
     ]
    }
   ],
   "source": [
    "#Arousal\n",
    "df_train=get_df(X_train,y_train[:,1])\n",
    "print(df_train.head())\n",
    "\n",
    "df_val=get_df(X_val,y_val[:,1])\n",
    "print(df_val.head())\n",
    "\n",
    "oof_pred = automl.fit_predict(df_train, roles = {'target': 'y'}, valid_data=df_val,verbose=1)\n",
    "print('oof_pred:\\n{}\\nShape = {}'.format(oof_pred[:10], oof_pred.shape))\n",
    "\n",
    "y_val_preds_a = automl.predict(df_val)\n",
    "print(y_val_preds_a.shape)\n",
    "gt_A=y_val[:,1]\n",
    "print('Arousal:',CCC_score(gt_A, y_val_preds_a.data[:,0]))"
   ]
  },
  {
   "cell_type": "code",
   "execution_count": 18,
   "metadata": {},
   "outputs": [
    {
     "name": "stdout",
     "output_type": "stream",
     "text": [
      "multi:reg isn`t supported in lgb\n",
      "         f0        f1        f2        f3        f4        f5        f6  \\\n",
      "0 -0.856850 -0.980964 -2.897677  1.878489  1.875324 -0.136829 -1.996574   \n",
      "1 -0.967150 -1.147540 -2.688983  1.967857  1.798332 -0.150944 -1.944596   \n",
      "2 -1.044203 -0.984244 -2.608128  1.913518  1.709237 -0.250167 -1.958941   \n",
      "3 -1.181610 -0.557486 -1.883281  1.390435  1.850232 -0.227555 -2.620486   \n",
      "4 -0.938104 -0.570756 -1.308646  1.305721  1.405185  0.012821 -2.574656   \n",
      "\n",
      "         f7        f8        f9     y1     y2  \n",
      "0  4.760030  0.507206  0.745402  0.701  0.385  \n",
      "1  4.828946  0.498256  0.767358  0.701  0.385  \n",
      "2  4.655427  0.483607  0.754648  0.701  0.385  \n",
      "3  4.311441  0.534481  0.691723  0.701  0.385  \n",
      "4  3.889822  0.449230  0.653974  0.701  0.385  \n",
      "         f0        f1        f2        f3        f4        f5        f6  \\\n",
      "0  2.257816 -0.336461  1.935838 -2.232281 -0.734275  1.416191 -1.842518   \n",
      "1  2.543057 -0.586280  1.028857 -1.770419 -0.725319  1.601804 -1.894101   \n",
      "2  2.513208 -0.559739  1.128592 -1.599575 -0.891215  1.550411 -2.040169   \n",
      "3  2.663307 -0.487385  1.403275 -1.855448 -1.041836  1.614423 -1.727581   \n",
      "4  2.546333 -0.551208  1.510843 -1.734837 -0.905420  1.587841 -1.996134   \n",
      "\n",
      "         f7        f8        f9   y1    y2  \n",
      "0  1.522441 -0.245796  0.520590  0.0  0.14  \n",
      "1  2.318928 -0.241154  0.581099  0.0  0.14  \n",
      "2  2.037113 -0.252706  0.578838  0.0  0.14  \n",
      "3  1.604249 -0.320088  0.535692  0.0  0.14  \n",
      "4  1.700374 -0.291751  0.540065  0.0  0.14  \n",
      "[09:12:57] Stdout logging level is INFO.\n",
      "[09:12:57] Copying TaskTimer may affect the parent PipelineTimer, so copy will create new unlimited TaskTimer\n",
      "[09:12:57] Task: multi:reg\n",
      "\n",
      "[09:12:57] Start automl preset with listed constraints:\n",
      "[09:12:57] - time: 1200.00 seconds\n",
      "[09:12:57] - CPU: 4 cores\n",
      "[09:12:57] - memory: 16 GB\n",
      "\n",
      "[09:12:57] \u001b[1mTrain data shape: (1653757, 12)\u001b[0m\n",
      "\n",
      "[09:13:02] Layer \u001b[1m1\u001b[0m train process start. Time left 1195.33 secs\n",
      "[09:33:34] \u001b[1mLvl_0_Pipe_0_Mod_0_RFSklearn\u001b[0m fitting and predicting completed\n",
      "[09:33:34] Time left -36.42 secs\n",
      "\n",
      "[09:33:34] Time limit exceeded. Last level models will be blended and unused pipelines will be pruned.\n",
      "\n",
      "[09:33:34] \u001b[1mLayer 1 training completed.\u001b[0m\n",
      "\n",
      "[09:33:34] \u001b[1mAutoml preset training completed in 1236.43 seconds\u001b[0m\n",
      "\n",
      "[09:33:34] Model description:\n",
      "Final prediction for new objects (level 0) = \n",
      "\t 1.00000 * (1 averaged models Lvl_0_Pipe_0_Mod_0_RFSklearn) \n",
      "\n",
      "oof_pred:\n",
      "array([[0.13198842, 0.2814972 ],\n",
      "       [0.20883214, 0.2616655 ],\n",
      "       [0.18320854, 0.27665052],\n",
      "       [0.26213622, 0.30856887],\n",
      "       [0.23022656, 0.29256853],\n",
      "       [0.10743932, 0.34168473],\n",
      "       [0.08179417, 0.30655575],\n",
      "       [0.09170152, 0.26083595],\n",
      "       [0.04025571, 0.3030013 ],\n",
      "       [0.08554899, 0.24478228]], dtype=float32)\n",
      "Shape = (376323, 2)\n"
     ]
    }
   ],
   "source": [
    "from lightautoml.automl.presets.tabular_presets import TabularAutoML\n",
    "from lightautoml.tasks import Task\n",
    "\n",
    "automl = TabularAutoML(\n",
    "    task = Task(\n",
    "        name = 'multi:reg'),\n",
    "    timeout=1200#,cpu_limit=4\n",
    ")\n",
    "\n",
    "import pandas as pd\n",
    "def get_df_multi(X,y1,y2):\n",
    "    #xy=np.concatenate((y.reshape((-1,1)),X),axis=1)\n",
    "    df=pd.DataFrame(data=X,columns=['f'+str(i) for i in range(X.shape[1])])\n",
    "    df['y1']=y1\n",
    "    df['y2']=y2\n",
    "    return df\n",
    "\n",
    "#Valence\n",
    "df_train=get_df_multi(X_train,y_train[:,0],y_train[:,1])\n",
    "print(df_train.head())\n",
    "\n",
    "df_val=get_df_multi(X_val,y_val[:,0],y_val[:,1])\n",
    "print(df_val.head())\n",
    "\n",
    "oof_pred = automl.fit_predict(df_train, roles = {'target': ['y1','y2']}, valid_data=df_val,verbose=1)\n",
    "print('oof_pred:\\n{}\\nShape = {}'.format(oof_pred[:10], oof_pred.shape))"
   ]
  },
  {
   "cell_type": "code",
   "execution_count": 19,
   "metadata": {},
   "outputs": [
    {
     "name": "stdout",
     "output_type": "stream",
     "text": [
      "(376323, 2)\n",
      "(0.37270991068427667, 0.43333181223266476, 0.4030208614584707)\n",
      "0.3727109115028784 0.43333298467999354\n"
     ]
    }
   ],
   "source": [
    "y_val_lama = automl.predict(df_val).data\n",
    "print(y_val_lama.shape)\n",
    "print_ccc_for_val_preds(y_val_lama)"
   ]
  },
  {
   "cell_type": "code",
   "execution_count": 51,
   "metadata": {},
   "outputs": [
    {
     "name": "stdout",
     "output_type": "stream",
     "text": [
      "(376323, 2)\n",
      "(0.37270991068427667, 0.43333181223266476, 0.4030208614584707)\n",
      "0.3727109115028784 0.43333298467999354\n"
     ]
    }
   ],
   "source": [
    "df_test=pd.DataFrame(data=X_val,columns=['f'+str(i) for i in range(X_val.shape[1])])\n",
    "y_test_lama = automl.predict(df_test).data\n",
    "print(y_test_lama.shape)\n",
    "print_ccc_for_val_preds(y_test_lama)"
   ]
  },
  {
   "cell_type": "markdown",
   "metadata": {},
   "source": [
    "---------------------"
   ]
  },
  {
   "cell_type": "code",
   "execution_count": 15,
   "metadata": {},
   "outputs": [],
   "source": [
    "batch_size=1024 #512 #128\n",
    "mlpModel=Sequential()\n",
    "if True:\n",
    "    mlpModel.add(Dense(2, input_shape=X_train.shape[1:],activation='tanh',use_bias=True,kernel_regularizer=tf.keras.regularizers.l2(1.0/batch_size)))\n",
    "else:\n",
    "    mlpModel.add(Dense(128, input_shape=X_train.shape[1:],activation='relu')) #256\n",
    "    mlpModel.add(Dense(2,activation='tanh'))"
   ]
  },
  {
   "cell_type": "code",
   "execution_count": 27,
   "metadata": {},
   "outputs": [
    {
     "name": "stdout",
     "output_type": "stream",
     "text": [
      "Model: \"sequential_1\"\n",
      "_________________________________________________________________\n",
      "Layer (type)                 Output Shape              Param #   \n",
      "=================================================================\n",
      "dense_1 (Dense)              (None, 2)                 18        \n",
      "=================================================================\n",
      "Total params: 18\n",
      "Trainable params: 18\n",
      "Non-trainable params: 0\n",
      "_________________________________________________________________\n",
      "Epoch 1/20\n",
      "1615/1615 [==============================] - 9s 5ms/step - loss: 0.8139 - mae: 0.6754 - mse: 0.6544 - val_loss: 0.7772 - val_mae: 0.2682 - val_mse: 0.1216\n",
      "Epoch 2/20\n",
      "1615/1615 [==============================] - 8s 5ms/step - loss: 0.5022 - mae: 0.2752 - mse: 0.1256 - val_loss: 0.7775 - val_mae: 0.2706 - val_mse: 0.1237\n",
      "Epoch 3/20\n",
      "1615/1615 [==============================] - 8s 5ms/step - loss: 0.5016 - mae: 0.2751 - mse: 0.1254 - val_loss: 0.7767 - val_mae: 0.2705 - val_mse: 0.1237\n",
      "Epoch 4/20\n",
      "1615/1615 [==============================] - 8s 5ms/step - loss: 0.5022 - mae: 0.2752 - mse: 0.1254 - val_loss: 0.7767 - val_mae: 0.2689 - val_mse: 0.1220\n",
      "Epoch 5/20\n",
      "1615/1615 [==============================] - 8s 5ms/step - loss: 0.5017 - mae: 0.2750 - mse: 0.1253 - val_loss: 0.7784 - val_mae: 0.2719 - val_mse: 0.1247\n",
      "Epoch 6/20\n",
      "1615/1615 [==============================] - 8s 5ms/step - loss: 0.5019 - mae: 0.2752 - mse: 0.1254 - val_loss: 0.7764 - val_mae: 0.2710 - val_mse: 0.1243\n",
      "Epoch 7/20\n",
      "1615/1615 [==============================] - 8s 5ms/step - loss: 0.5022 - mae: 0.2753 - mse: 0.1255 - val_loss: 0.7769 - val_mae: 0.2706 - val_mse: 0.1239\n",
      "Epoch 8/20\n",
      "1615/1615 [==============================] - 8s 5ms/step - loss: 0.5016 - mae: 0.2756 - mse: 0.1258 - val_loss: 0.7771 - val_mae: 0.2704 - val_mse: 0.1234\n",
      "Epoch 9/20\n",
      "1615/1615 [==============================] - 8s 5ms/step - loss: 0.5020 - mae: 0.2752 - mse: 0.1255 - val_loss: 0.7770 - val_mae: 0.2700 - val_mse: 0.1231\n",
      "Epoch 10/20\n",
      "1615/1615 [==============================] - 8s 5ms/step - loss: 0.5013 - mae: 0.2751 - mse: 0.1255 - val_loss: 0.7784 - val_mae: 0.2713 - val_mse: 0.1240\n",
      "Epoch 11/20\n",
      "1615/1615 [==============================] - 8s 5ms/step - loss: 0.5024 - mae: 0.2755 - mse: 0.1257 - val_loss: 0.7784 - val_mae: 0.2712 - val_mse: 0.1245\n",
      "Epoch 12/20\n",
      "1615/1615 [==============================] - 8s 5ms/step - loss: 0.5026 - mae: 0.2753 - mse: 0.1257 - val_loss: 0.7769 - val_mae: 0.2691 - val_mse: 0.1225\n",
      "Epoch 13/20\n",
      "1615/1615 [==============================] - 8s 5ms/step - loss: 0.5020 - mae: 0.2753 - mse: 0.1256 - val_loss: 0.7777 - val_mae: 0.2704 - val_mse: 0.1234\n",
      "Epoch 14/20\n",
      "1615/1615 [==============================] - 8s 5ms/step - loss: 0.5020 - mae: 0.2755 - mse: 0.1256 - val_loss: 0.7772 - val_mae: 0.2718 - val_mse: 0.1244\n",
      "Epoch 15/20\n",
      "1615/1615 [==============================] - 8s 5ms/step - loss: 0.5025 - mae: 0.2754 - mse: 0.1256 - val_loss: 0.7775 - val_mae: 0.2721 - val_mse: 0.1248\n",
      "Epoch 16/20\n",
      "1615/1615 [==============================] - 8s 5ms/step - loss: 0.5019 - mae: 0.2751 - mse: 0.1254 - val_loss: 0.7757 - val_mae: 0.2691 - val_mse: 0.1227\n",
      "Epoch 17/20\n",
      "1615/1615 [==============================] - 8s 5ms/step - loss: 0.5023 - mae: 0.2753 - mse: 0.1256 - val_loss: 0.7789 - val_mae: 0.2728 - val_mse: 0.1251\n",
      "Epoch 18/20\n",
      "1615/1615 [==============================] - 8s 5ms/step - loss: 0.5025 - mae: 0.2753 - mse: 0.1255 - val_loss: 0.7754 - val_mae: 0.2681 - val_mse: 0.1219\n",
      "Epoch 19/20\n",
      "1615/1615 [==============================] - 8s 5ms/step - loss: 0.5025 - mae: 0.2752 - mse: 0.1255 - val_loss: 0.7787 - val_mae: 0.2683 - val_mse: 0.1216\n",
      "Epoch 20/20\n",
      "1615/1615 [==============================] - 8s 5ms/step - loss: 0.5021 - mae: 0.2753 - mse: 0.1256 - val_loss: 0.7770 - val_mae: 0.2689 - val_mse: 0.1226\n",
      "0.7754276394844055\n"
     ]
    }
   ],
   "source": [
    "mlpModel.compile(optimizer=Adam(lr=1e-3), loss=CCC_VA, metrics=['mae','mse'])\n",
    "#mlpModel.compile(optimizer=Adam(lr=1e-3), loss='mae', metrics=['mse'])\n",
    "mlpModel.summary()\n",
    "\n",
    "save_best_model = SaveBestModel('val_loss',False)\n",
    "mlpModel.fit(X_train,y_train, batch_size=batch_size, epochs=1 if TRAIN_VAL else 20, verbose=1, callbacks=[save_best_model], validation_data=(X_val,y_val))\n",
    "best_model_weights = save_best_model.best_model_weights\n",
    "print(save_best_model.best)"
   ]
  },
  {
   "cell_type": "code",
   "execution_count": 31,
   "metadata": {},
   "outputs": [
    {
     "name": "stdout",
     "output_type": "stream",
     "text": [
      "(0.441334608674687, 0.5202774992344983, 0.48080605395459264)\n",
      "0.44133577393795315 0.5202789017080741\n",
      "Best weights:\n",
      "(0.442104359857453, 0.5205547252402459, 0.48132954254884946)\n",
      "0.4421055516316734 0.5205560853612039\n"
     ]
    }
   ],
   "source": [
    "print_ccc()\n",
    "print('Best weights:')\n",
    "mlpModel.set_weights(best_model_weights)\n",
    "print_ccc()"
   ]
  },
  {
   "cell_type": "code",
   "execution_count": 16,
   "metadata": {},
   "outputs": [
    {
     "name": "stdout",
     "output_type": "stream",
     "text": [
      "(0.44533125143390107, 0.5212460625489065, 0.4832886569914038)\n",
      "0.44533243932761624 0.5212474631941809\n"
     ]
    }
   ],
   "source": [
    "if False:\n",
    "    #mlpModel.save_weights('va_enet0_mtl.h5') #(0.44533125143390107, 0.5212460625489065, 0.4832886569914038)\n",
    "    mlpModel.save_weights('va_enet0_vgaf.h5')#(0.442104359857453, 0.5205547252402459, 0.48132954254884946)\n",
    "else:\n",
    "    mlpModel.load_weights('va_enet0_mtl.h5')\n",
    "    #mlpModel.load_weights('../va_enet0_vgaf.h5')\n",
    "print_ccc()"
   ]
  },
  {
   "cell_type": "markdown",
   "metadata": {},
   "source": [
    "VA only emotions\n",
    "\n",
    "enet_b0_8_best_vgaf\n",
    "logreg: (0.4436768680313978, 0.5195607326809414, 0.48161880035616955)\n",
    "new: (0.4433857992438458, 0.5198270222465867, 0.48160641074521626)\n",
    "\n",
    "enet_b0_8_va_mtl\n",
    "logreg:(0.44436749382135277, 0.5207544767285259, 0.48256098527493935)\n",
    "new: (0.44533125143390107, 0.5212460625489065, 0.4832886569914038)"
   ]
  },
  {
   "cell_type": "code",
   "execution_count": 33,
   "metadata": {},
   "outputs": [],
   "source": [
    "y_val_preds=mlpModel.predict(X_val)"
   ]
  },
  {
   "cell_type": "code",
   "execution_count": 17,
   "metadata": {},
   "outputs": [],
   "source": [
    "y_val_preds_mt=y_val_preds"
   ]
  },
  {
   "cell_type": "code",
   "execution_count": 34,
   "metadata": {},
   "outputs": [
    {
     "name": "stdout",
     "output_type": "stream",
     "text": [
      "0.0\n",
      "(0.44533125143390107, 0.5212460625489065, 0.4832886569914038)\n",
      "0.44533243932761624 0.5212474631941809\n",
      "0.1\n",
      "(0.4472432373858708, 0.5243837427478731, 0.48581349006687197)\n",
      "0.4472444059862267 0.5243851355437936\n",
      "0.2\n",
      "(0.4486640037079531, 0.5268238739648625, 0.4877439388364078)\n",
      "0.4486652166588616 0.526825269082366\n",
      "0.30000000000000004\n",
      "(0.44958588759643003, 0.5285505539287618, 0.48906822076259593)\n",
      "0.4495870923742291 0.5285519721614755\n",
      "0.4\n",
      "(0.45000417068117793, 0.5295536347691299, 0.4897789027251539)\n",
      "0.4500053909838998 0.5295550471389583\n",
      "0.5\n",
      "(0.4499177402672424, 0.5298290663257271, 0.48987340329648477)\n",
      "0.4499189281574363 0.5298304787130718\n",
      "0.6000000000000001\n",
      "(0.44932871359207455, 0.5293784963776423, 0.48935360498485847)\n",
      "0.44932990405292494 0.52937990723402\n",
      "0.7000000000000001\n",
      "(0.4482425165740871, 0.5282096289840014, 0.48822607277904423)\n",
      "0.448243713587009 0.5282110467919442\n",
      "0.8\n",
      "(0.44666803339002187, 0.5263359082754697, 0.4865019708327458)\n",
      "0.4466692113810503 0.526337302635638\n",
      "0.9\n",
      "(0.444617073323084, 0.5237763519201131, 0.4841967126215985)\n",
      "0.4446182273865714 0.5237777286424512\n",
      "1.0\n",
      "(0.442104359857453, 0.5205547252402459, 0.48132954254884946)\n",
      "0.4421055516316734 0.5205560853612039\n"
     ]
    }
   ],
   "source": [
    "for w in np.linspace(0,1,11):\n",
    "    y_ensemble=w*y_val_preds+(1-w)*y_val_preds_mt\n",
    "    print(w)\n",
    "    print_ccc_for_val_preds(y_ensemble)"
   ]
  },
  {
   "cell_type": "markdown",
   "metadata": {},
   "source": [
    "#### VA predictions "
   ]
  },
  {
   "cell_type": "code",
   "execution_count": 24,
   "metadata": {},
   "outputs": [
    {
     "name": "stdout",
     "output_type": "stream",
     "text": [
      "(0.40439760158295573, 0.24760572372463172, 0.3260016626537937)\n",
      "0.4043986703619577 0.24760637766404267\n"
     ]
    }
   ],
   "source": [
    "va_val=X_val[:,-2:]\n",
    "print_ccc_for_val_preds(va_val)"
   ]
  },
  {
   "cell_type": "code",
   "execution_count": 37,
   "metadata": {},
   "outputs": [
    {
     "name": "stdout",
     "output_type": "stream",
     "text": [
      "0.4622121581507096 0.21993529738752612\n"
     ]
    }
   ],
   "source": [
    "va_train=X_train[:,-2:]\n",
    "print(CCC_numpy(y_train[:,0],va_train[:,0]),CCC_numpy(y_train[:,1],va_train[:,1]))"
   ]
  },
  {
   "cell_type": "markdown",
   "metadata": {},
   "source": [
    "------------------"
   ]
  },
  {
   "cell_type": "code",
   "execution_count": 39,
   "metadata": {},
   "outputs": [
    {
     "name": "stdout",
     "output_type": "stream",
     "text": [
      "0.0\n",
      "(0.40439760158295573, 0.24760572372463172, 0.3260016626537937)\n",
      "0.4043986703619577 0.24760637766404267\n",
      "0.1\n",
      "(0.4110179099715824, 0.28532816169609304, 0.34817303583383774)\n",
      "0.4110190318160167 0.2853289110925135\n",
      "0.2\n",
      "(0.41722193234471355, 0.3241398315263659, 0.3706808819355397)\n",
      "0.4172230490479516 0.3241406976657168\n",
      "0.30000000000000004\n",
      "(0.42295215206955106, 0.3628579836388764, 0.39290506785421375)\n",
      "0.422953263607878 0.36285894350585873\n",
      "0.4\n",
      "(0.42815149525389584, 0.4000751525514553, 0.4141133239026756)\n",
      "0.4281526386078791 0.40007620822274853\n",
      "0.5\n",
      "(0.4327644223834461, 0.4342824222043513, 0.43352342229389873)\n",
      "0.4327655800176927 0.43428355854628065\n",
      "0.6000000000000001\n",
      "(0.4367377368849927, 0.4640391415563975, 0.4503884392206951)\n",
      "0.43673892123505276 0.46404036907212104\n",
      "0.7000000000000001\n",
      "(0.44002238392203763, 0.48815666718291845, 0.46408952555247807)\n",
      "0.4400235568344202 0.4881579564997686\n",
      "0.8\n",
      "(0.44257385531515087, 0.5058499274032312, 0.47421189135919106)\n",
      "0.4425750293078031 0.5058512494390425\n",
      "0.9\n",
      "(0.4443538675475203, 0.5168194601879664, 0.4805866638677434)\n",
      "0.4443550392568737 0.5168208492269166\n",
      "1.0\n",
      "(0.44533125143390107, 0.5212460625489065, 0.4832886569914038)\n",
      "0.44533243932761624 0.5212474631941809\n"
     ]
    }
   ],
   "source": [
    "for w in np.linspace(0,1,11):\n",
    "    y_ensemble=w*y_val_preds+(1-w)*va_val\n",
    "    print(w)\n",
    "    print_ccc_for_val_preds(y_ensemble)"
   ]
  },
  {
   "cell_type": "code",
   "execution_count": 41,
   "metadata": {},
   "outputs": [
    {
     "name": "stdout",
     "output_type": "stream",
     "text": [
      "0.0\n",
      "(0.40439760158295573, 0.5212460625489065, 0.4628218320659311)\n",
      "0.4043986703619577 0.5212474631941809\n",
      "0.1\n",
      "(0.4110179099715824, 0.5212460625489065, 0.46613198626024444)\n",
      "0.4110190318160167 0.5212474631941809\n",
      "0.2\n",
      "(0.41722193234471355, 0.5212460625489065, 0.46923399744681005)\n",
      "0.4172230490479516 0.5212474631941809\n",
      "0.30000000000000004\n",
      "(0.42295215206955106, 0.5212460625489065, 0.47209910730922877)\n",
      "0.422953263607878 0.5212474631941809\n",
      "0.4\n",
      "(0.42815149525389584, 0.5212460625489065, 0.47469877890140116)\n",
      "0.4281526386078791 0.5212474631941809\n",
      "0.5\n",
      "(0.4327644223834461, 0.5212460625489065, 0.47700524246617626)\n",
      "0.4327655800176927 0.5212474631941809\n",
      "0.6000000000000001\n",
      "(0.4367377368849927, 0.5212460625489065, 0.47899189971694955)\n",
      "0.43673892123505276 0.5212474631941809\n",
      "0.7000000000000001\n",
      "(0.44002238392203763, 0.5212460625489065, 0.48063422323547206)\n",
      "0.4400235568344202 0.5212474631941809\n",
      "0.8\n",
      "(0.44257385531515087, 0.5212460625489065, 0.4819099589320287)\n",
      "0.4425750293078031 0.5212474631941809\n",
      "0.9\n",
      "(0.4443538675475203, 0.5212460625489065, 0.48279996504821343)\n",
      "0.4443550392568737 0.5212474631941809\n",
      "1.0\n",
      "(0.44533125143390107, 0.5212460625489065, 0.4832886569914038)\n",
      "0.44533243932761624 0.5212474631941809\n"
     ]
    }
   ],
   "source": [
    "y_ensemble=y_val_preds.copy()\n",
    "for w in np.linspace(0,1,11):\n",
    "    y_ensemble[:,0]=w*y_val_preds[:,0]+(1-w)*va_val[:,0]\n",
    "    print(w)\n",
    "    print_ccc_for_val_preds(y_ensemble)"
   ]
  },
  {
   "cell_type": "code",
   "execution_count": 40,
   "metadata": {},
   "outputs": [
    {
     "name": "stdout",
     "output_type": "stream",
     "text": [
      "(376323, 2)\n",
      "0.0\n",
      "(0.37270991068427667, 0.43333181223266476, 0.4030208614584707)\n",
      "0.3727109115028784 0.43333298467999354\n",
      "0.1\n",
      "(0.39129001376125133, 0.45826665032728586, 0.4247783320442686)\n",
      "0.39129103477967164 0.45826786912345396\n",
      "0.2\n",
      "(0.40713674817011875, 0.4789862168810887, 0.44306148252560373)\n",
      "0.4071378255383473 0.4789874687100041\n",
      "0.30000000000000004\n",
      "(0.42022403307022205, 0.49558779102277206, 0.45790591204649705)\n",
      "0.4202251365517627 0.4955891184646774\n",
      "0.4\n",
      "(0.43060394047792316, 0.5082827736165365, 0.46944335704722984)\n",
      "0.4306050743180796 0.5082841050059028\n",
      "0.5\n",
      "(0.4383938934882027, 0.517365185377603, 0.47787953943290284)\n",
      "0.4383950563011882 0.5173665696023647\n",
      "0.6000000000000001\n",
      "(0.4437619713537105, 0.5231821954650566, 0.4834720834093835)\n",
      "0.4437631292172675 0.5231835985782921\n",
      "0.7000000000000001\n",
      "(0.4469114379879105, 0.5261072554165196, 0.486509346702215)\n",
      "0.44691264343391773 0.5261086588279758\n",
      "0.8\n",
      "(0.4480673032488605, 0.5265186238286722, 0.4872929635387664)\n",
      "0.44806850657592673 0.5265200484346377\n",
      "0.9\n",
      "(0.44746300512438114, 0.5247834656334658, 0.48612323537892344)\n",
      "0.4474641960070375 0.5247848438505497\n",
      "1.0\n",
      "(0.44533125143390107, 0.5212460625489065, 0.4832886569914038)\n",
      "0.44533243932761624 0.5212474631941809\n"
     ]
    }
   ],
   "source": [
    "#y_val_lama=np.concatenate((y_val_preds_v.data,y_val_preds_a.data),axis=1)\n",
    "print(y_val_lama.shape)\n",
    "for w in np.linspace(0,1,11):\n",
    "    y_ensemble=w*y_val_preds+(1-w)*y_val_lama\n",
    "    print(w)\n",
    "    print_ccc_for_val_preds(y_ensemble)"
   ]
  },
  {
   "cell_type": "code",
   "execution_count": 42,
   "metadata": {},
   "outputs": [
    {
     "name": "stdout",
     "output_type": "stream",
     "text": [
      "(0.4480673032488605, 0.5265186238286722, 0.4872929635387664)\n",
      "0.44806850657592673 0.5265200484346377\n"
     ]
    }
   ],
   "source": [
    "w=0.8\n",
    "y_ensemble=w*y_val_preds+(1-w)*y_val_lama\n",
    "print_ccc_for_val_preds(y_ensemble)"
   ]
  },
  {
   "cell_type": "code",
   "execution_count": 35,
   "metadata": {},
   "outputs": [
    {
     "name": "stdout",
     "output_type": "stream",
     "text": [
      "(0.4499177402672424, 0.5298290663257271, 0.48987340329648477)\n",
      "0.4499189281574363 0.5298304787130718\n"
     ]
    }
   ],
   "source": [
    "w=0.5\n",
    "y_ensemble=w*y_val_preds+(1-w)*y_val_preds_mt\n",
    "print_ccc_for_val_preds(y_ensemble)"
   ]
  },
  {
   "cell_type": "code",
   "execution_count": 36,
   "metadata": {},
   "outputs": [
    {
     "name": "stderr",
     "output_type": "stream",
     "text": [
      "100%|██████████| 76/76 [00:00<00:00, 76.75it/s]"
     ]
    },
    {
     "name": "stdout",
     "output_type": "stream",
     "text": [
      "76\n"
     ]
    },
    {
     "name": "stderr",
     "output_type": "stream",
     "text": [
      "\n"
     ]
    }
   ],
   "source": [
    "dirpath=os.path.join(DATA_DIR,'VA_Estimation_Challenge/Validation_Set')\n",
    "ind=0\n",
    "test_videos={}\n",
    "for filename in tqdm(os.listdir(dirpath)):\n",
    "    fn, ext = os.path.splitext(os.path.basename(filename))\n",
    "    if ext.lower()=='.txt':\n",
    "        X,indices,y_true=[],[],[]\n",
    "        with open(os.path.join(dirpath,filename)) as f:\n",
    "            lines = f.read().splitlines()\n",
    "            prev_val=None\n",
    "            for i,line in enumerate(lines):\n",
    "                if i>0:\n",
    "                    splitted_line=line.split(',')\n",
    "                    valence=float(splitted_line[0])\n",
    "                    arousal=float(splitted_line[1])\n",
    "                    if valence>=-1 and arousal>=-1:\n",
    "                        imagename=fn+'/'+get_names(i)+'.jpg'\n",
    "                        if imagename in filename2featuresAll:\n",
    "                            #X.append(y_val_preds[ind])\n",
    "                            X.append(y_ensemble[ind])\n",
    "                            indices.append(i)\n",
    "\n",
    "                            y_true.append((valence,arousal))\n",
    "                            ind+=1\n",
    "                        \n",
    "        test_videos[fn]=(np.array(X),indices,np.array(y_true))\n",
    "print(len(test_videos))"
   ]
  },
  {
   "cell_type": "code",
   "execution_count": 37,
   "metadata": {},
   "outputs": [
    {
     "name": "stdout",
     "output_type": "stream",
     "text": [
      "1 (0.45467808539350846, 0.5384962410483103, 0.49658716322090934)\n",
      "10 (0.4735034168577817, 0.5771482697977821, 0.5253258433277819)\n",
      "25 (0.4880783142242917, 0.6040955053246918, 0.5460869097744918)\n",
      "50 (0.4935198754791566, 0.6068185446719148, 0.5501692100755357)\n",
      "100 (0.4853385612499721, 0.5783366485114904, 0.5318376048807312)\n",
      "200 (0.4638047085529785, 0.5265323923684997, 0.4951685504607391)\n"
     ]
    }
   ],
   "source": [
    "deltas=[1,10,25,50,100,200]\n",
    "total_true=[]\n",
    "total_preds=[[] for _ in range(len(deltas))]\n",
    "for videoname,(y_pred_va,indices,y_true) in test_videos.items():\n",
    "    for i,ind in enumerate(indices):\n",
    "        if y_true[i][0]>=-1 and y_true[i][1]>=-1:\n",
    "            total_true.append(y_true[i])\n",
    "    cur_ind=0\n",
    "    preds=[]\n",
    "    for i in range(indices[-1]):\n",
    "        if indices[cur_ind]-1==i:\n",
    "            preds.append(y_pred_va[cur_ind])\n",
    "            cur_ind+=1\n",
    "        else:\n",
    "            if cur_ind==0:\n",
    "                preds.append(y_pred_va[cur_ind])\n",
    "            else:\n",
    "                w=(i-indices[cur_ind-1]+1)/(indices[cur_ind]-indices[cur_ind-1])\n",
    "                pred=w*y_pred_va[cur_ind-1]+(1-w)*y_pred_va[cur_ind]\n",
    "                preds.append(pred)\n",
    "    \n",
    "    preds=np.array(preds)\n",
    "    for hInd,delta in enumerate(deltas):\n",
    "        cur_preds=[]\n",
    "        for i in range(len(preds)):\n",
    "            i1=max(i-delta,0)\n",
    "            pred=np.mean(preds[i1:i+delta+1],axis=0)\n",
    "            cur_preds.append(pred)\n",
    "        for i,ind in enumerate(indices):\n",
    "            if y_true[i][0]>=-1 and y_true[i][1]>=-1:\n",
    "                total_preds[hInd].append(cur_preds[ind-1])\n",
    "\n",
    "total_true=np.array(total_true)\n",
    "gt_V=total_true[:,0]\n",
    "gt_A=total_true[:,1]\n",
    "\n",
    "for hInd,delta in enumerate(deltas):\n",
    "    preds=np.array(total_preds[hInd])\n",
    "    pred_V=preds[:,0]\n",
    "    pred_A=preds[:,1]\n",
    "    print(delta,metric_for_VA(gt_V,gt_A,pred_V,pred_A))"
   ]
  },
  {
   "cell_type": "markdown",
   "metadata": {},
   "source": [
    "### Smooth validation predictions"
   ]
  },
  {
   "cell_type": "code",
   "execution_count": 95,
   "metadata": {},
   "outputs": [
    {
     "name": "stderr",
     "output_type": "stream",
     "text": [
      "100%|██████████| 76/76 [00:11<00:00,  6.44it/s]"
     ]
    },
    {
     "name": "stdout",
     "output_type": "stream",
     "text": [
      "76\n"
     ]
    },
    {
     "name": "stderr",
     "output_type": "stream",
     "text": [
      "\n"
     ]
    }
   ],
   "source": [
    "data_dir=os.path.join(DATA_DIR,'faces')\n",
    "dirpath=os.path.join(DATA_DIR,'VA_Estimation_Challenge/Validation_Set')\n",
    "test_videos={}\n",
    "for filename in tqdm(os.listdir(dirpath)):\n",
    "    fn, ext = os.path.splitext(os.path.basename(filename))\n",
    "    if ext.lower()=='.txt':\n",
    "        X,indices,y_true=[],[],[]\n",
    "        with open(os.path.join(dirpath,filename)) as f:\n",
    "            lines = f.read().splitlines()\n",
    "            prev_val=None\n",
    "            for i,line in enumerate(lines):\n",
    "                if i>0:\n",
    "                    imagename=fn+'/'+get_names(i)+'.jpg'\n",
    "                    if imagename in filename2featuresAll:\n",
    "                        X.append(filename2featuresAll[imagename][1])\n",
    "                        indices.append(i)\n",
    "                        \n",
    "                        splitted_line=line.split(',')\n",
    "                        valence=float(splitted_line[0])\n",
    "                        arousal=float(splitted_line[1])\n",
    "                        y_true.append((valence,arousal))\n",
    "                        \n",
    "        test_videos[fn]=(mlpModel.predict(np.array(X)),indices,np.array(y_true))\n",
    "print(len(test_videos))"
   ]
  },
  {
   "cell_type": "code",
   "execution_count": 96,
   "metadata": {},
   "outputs": [
    {
     "name": "stdout",
     "output_type": "stream",
     "text": [
      "1 (0.4497322853156013, 0.5302893781650251, 0.4900108317403132)\n",
      "10 (0.46963786100578786, 0.5716260813822904, 0.5206319711940391)\n",
      "25 (0.4843495213418185, 0.6004171233716765, 0.5423833223567476)\n",
      "50 (0.48997545654787067, 0.6038755689432846, 0.5469255127455777)\n",
      "100 (0.48241128098915237, 0.5749223688356685, 0.5286668249124105)\n",
      "200 (0.46145788788100156, 0.5220036569168273, 0.4917307723989144)\n"
     ]
    }
   ],
   "source": [
    "deltas=[1,10,25,50,100,200]\n",
    "total_true=[]\n",
    "total_preds=[[] for _ in range(len(deltas))]\n",
    "for videoname,(y_pred_va,indices,y_true) in test_videos.items():\n",
    "    for i,ind in enumerate(indices):\n",
    "        if y_true[i][0]>=-1 and y_true[i][1]>=-1:\n",
    "            total_true.append(y_true[i])\n",
    "    cur_ind=0\n",
    "    preds=[]\n",
    "    for i in range(indices[-1]):\n",
    "        if indices[cur_ind]-1==i:\n",
    "            preds.append(y_pred_va[cur_ind])\n",
    "            cur_ind+=1\n",
    "        else:\n",
    "            if cur_ind==0:\n",
    "                preds.append(y_pred_va[cur_ind])\n",
    "            else:\n",
    "                w=(i-indices[cur_ind-1]+1)/(indices[cur_ind]-indices[cur_ind-1])\n",
    "                pred=w*y_pred_va[cur_ind-1]+(1-w)*y_pred_va[cur_ind]\n",
    "                preds.append(pred)\n",
    "    \n",
    "    preds=np.array(preds)\n",
    "    for hInd,delta in enumerate(deltas):\n",
    "        cur_preds=[]\n",
    "        for i in range(len(preds)):\n",
    "            i1=max(i-delta,0)\n",
    "            pred=np.mean(preds[i1:i+delta+1],axis=0)\n",
    "            cur_preds.append(pred)\n",
    "        for i,ind in enumerate(indices):\n",
    "            if y_true[i][0]>=-1 and y_true[i][1]>=-1:\n",
    "                total_preds[hInd].append(cur_preds[ind-1])\n",
    "\n",
    "total_true=np.array(total_true)\n",
    "gt_V=total_true[:,0]\n",
    "gt_A=total_true[:,1]\n",
    "\n",
    "for hInd,delta in enumerate(deltas):\n",
    "    preds=np.array(total_preds[hInd])\n",
    "    pred_V=preds[:,0]\n",
    "    pred_A=preds[:,1]\n",
    "    print(delta,metric_for_VA(gt_V,gt_A,pred_V,pred_A))"
   ]
  },
  {
   "cell_type": "markdown",
   "metadata": {},
   "source": [
    "vgaf:\n",
    "1 (0.44875087823993354, 0.5283116909318734, 0.48853128458590345)\n",
    "10 (0.4684252179690231, 0.5658810666512365, 0.5171531423101298)\n",
    "25 (0.4838215785829268, 0.5921912567094488, 0.5380064176461878)\n",
    "50 (0.48999702278941953, 0.5955375478706236, 0.5427672853300216)\n",
    "100 (0.4824520565285041, 0.5694326567832584, 0.5259423566558812)\n",
    "200 (0.46156615573225407, 0.5209989880709679, 0.49128257190161095)\n",
    "\n",
    "mtl:\n",
    "1 (0.4497322853156013, 0.5302893781650251, 0.4900108317403132)\n",
    "10 (0.46963786100578786, 0.5716260813822904, 0.5206319711940391)\n",
    "25 (0.4843495213418185, 0.6004171233716765, 0.5423833223567476)\n",
    "50 (0.48997545654787067, 0.6038755689432846, 0.5469255127455777)\n",
    "100 (0.48241128098915237, 0.5749223688356685, 0.5286668249124105)\n",
    "200 (0.46145788788100156, 0.5220036569168273, 0.4917307723989144)"
   ]
  },
  {
   "cell_type": "markdown",
   "metadata": {},
   "source": [
    "### Save test results "
   ]
  },
  {
   "cell_type": "code",
   "execution_count": 17,
   "metadata": {},
   "outputs": [
    {
     "name": "stdout",
     "output_type": "stream",
     "text": [
      "927211 ['image_location,valence,arousal', '2-30-640x360/00001.jpg,', '2-30-640x360/00002.jpg,', '2-30-640x360/00003.jpg,', '2-30-640x360/00004.jpg,']\n",
      "162\n"
     ]
    }
   ],
   "source": [
    "with open(os.path.join(DATA_DIR,'test_set','CVPR_5th_ABAW_VA_test_set_sample.txt'),'r') as f:\n",
    "    test_set_sample=f.read().splitlines()\n",
    "print(len(test_set_sample),test_set_sample[:5])\n",
    "\n",
    "test_set_videos={}\n",
    "for s in test_set_sample[1:]:\n",
    "    videoname,img_name=s[:-1].split('/')\n",
    "    if videoname not in test_set_videos:\n",
    "        test_set_videos[videoname]=[]\n",
    "    test_set_videos[videoname].append(img_name)\n",
    "    \n",
    "print(len(test_set_videos))"
   ]
  },
  {
   "cell_type": "code",
   "execution_count": 18,
   "metadata": {},
   "outputs": [
    {
     "name": "stderr",
     "output_type": "stream",
     "text": [
      "100%|██████████| 162/162 [00:26<00:00,  6.20it/s]"
     ]
    },
    {
     "name": "stdout",
     "output_type": "stream",
     "text": [
      "162\n"
     ]
    },
    {
     "name": "stderr",
     "output_type": "stream",
     "text": [
      "\n"
     ]
    }
   ],
   "source": [
    "test_videos={}\n",
    "test_videos_num_frames={}\n",
    "for videoname,img_files in tqdm(test_set_videos.items()):\n",
    "    X,indices,filenames=[],[],[]\n",
    "    num_present=num_missed=0\n",
    "    for img_name in img_files:\n",
    "        k=videoname+'/'+img_name\n",
    "        if k in filename2featuresAll:\n",
    "            X.append(filename2featuresAll[k][1])\n",
    "            indices.append(int(img_name[:-4]))\n",
    "            filenames.append(k)\n",
    "            num_present+=1\n",
    "        else:\n",
    "            num_missed+=1\n",
    "    X=np.array(X)\n",
    "    test_videos[videoname]=(mlpModel.predict(X),indices,filenames)\n",
    "    test_videos_num_frames[videoname]=(num_present,num_missed)\n",
    "print(len(test_videos))"
   ]
  },
  {
   "cell_type": "code",
   "execution_count": 45,
   "metadata": {},
   "outputs": [
    {
     "name": "stdout",
     "output_type": "stream",
     "text": [
      "{'2-30-640x360': (19347, 6), '3-25-1920x1080': (6189, 0), '6-30-1920x1080_left': (7672, 314), '6-30-1920x1080_right': (7984, 2), '11-24-1920x1080': (5302, 88), '14-30-1920x1080': (5311, 0), '32-60-1920x1080': (4460, 0), '36-24-1280x720': (5124, 137), '38-30-1920x1080': (2401, 31), '40-30-1280x720': (8767, 893), '42-30-480x480': (1395, 0), '43-30-406x720': (2129, 745), '49-30-1280x720_left': (644, 204), '49-30-1280x720_right': (830, 18), '55-25-1280x720': (1476, 30), '56-30-1080x1920': (4168, 133), '58-30-640x480': (2843, 34), '62-30-654x480': (12034, 0), '70-30-720x1280': (2781, 3), '74-25-1920x1080': (5042, 0), '80-30-320x240': (5674, 0), '88-30-360x480': (3658, 65), '91-30-1920x1080': (10779, 143), '102-30-640x360': (2979, 5), '102': (4508, 270), '103-30-384x480': (772, 0), '103': (26551, 67), '105-30-1280x720': (1479, 23), '108-15-640x480': (466, 13), '109-30-1280x720': (1046, 0), '119': (4578, 0), '128-24-1920x1080': (3794, 19), '130-25-1280x720_left': (8086, 376), '130-25-1280x720_right': (8462, 0), '130': (4002, 0), '133-30-1280x720': (2401, 3), '134-30-1280x720': (3681, 194), '137-30-1920x1080': (8503, 50), '139': (7100, 1066), '147': (19406, 289), '159': (3366, 93), '164': (7044, 0), '165': (4350, 218), '171': (3931, 46), '194': (4537, 0), '197': (1784, 86), '199': (2850, 68), '204': (5879, 46), '209': (2455, 401), '212': (4140, 422), '219': (3576, 315), '234': (2905, 14), '239': (1964, 0), '241': (3512, 0), '244': (2286, 35), '265': (6691, 28), '266': (2465, 0), '267': (3841, 0), '268': (4364, 2), '270': (3935, 2), '274': (3526, 0), '281': (7011, 0), '284': (4054, 0), '286': (2678, 0), '289': (4203, 0), '303': (3897, 53), '304': (2694, 0), '307': (3311, 0), '311': (1930, 0), '313': (3140, 0), '322': (2429, 0), '336': (4344, 0), '344': (4263, 0), '349': (4054, 0), '353': (2775, 81), '357': (1373, 0), '358': (324, 0), '365': (1067, 0), '367': (4169, 0), '370': (1939, 0), '375': (2947, 10), '380': (2288, 87), '381': (1265, 0), '382': (2713, 0), '408': (2978, 0), '416': (6509, 3), '434': (5233, 0), '439': (2308, 0), '450': (9820, 87), '461': (7676, 0), '462': (3729, 28), '463': (22510, 0), '464': (14577, 0), '465': (25030, 33), '466': (22869, 0), '467': (15185, 0), '468': (9967, 261), '469': (18248, 0), '470': (9076, 25), 'video2': (1778, 287), 'video2_left': (144, 1921), 'video3': (7802, 0), 'video4': (1072, 479), 'video5_left': (2339, 130), 'video5_right': (2214, 255), 'video6': (4620, 705), 'video7': (3027, 351), 'video8': (5256, 112), 'video9': (3773, 22), 'video10_1_left': (4036, 221), 'video10_1_right': (4243, 14), 'video11': (4132, 248), 'video12': (5580, 0), 'video13': (10551, 16), 'video14': (7583, 3), 'video15': (4288, 0), 'video16': (12486, 1), 'video17': (21938, 0), 'video18': (3784, 0), 'video19': (775, 10), 'video20': (11272, 0), 'video21': (6787, 22), 'video22': (10458, 12), 'video23': (8783, 7), 'video24': (5202, 3), 'video25': (3641, 4), 'video26': (11021, 0), 'video27': (16410, 9), 'video28': (8728, 0), 'video29_left': (11243, 17), 'video29_right': (11227, 33), 'video30': (8209, 5), 'video32': (2751, 25), 'video33': (7538, 16), 'video34': (10262, 20), 'video35': (3568, 0), 'video36': (2386, 39), 'video37': (8820, 367), 'video38': (2936, 9), 'video39': (10671, 8), 'video40': (5877, 0), 'video41': (3466, 29), 'video42': (9217, 10), 'video44': (7778, 8), 'video45_1': (805, 8), 'video45_2': (1096, 0), 'video45_3': (295, 0), 'video45_4': (1039, 0), 'video45_5': (415, 0), 'video45_6': (309, 0), 'video45_7': (180, 0), 'video46': (3167, 6), 'video47': (812, 9), 'video48': (2532, 11), 'video49_left': (6109, 13), 'video49_right': (6071, 51), 'video51': (4406, 2), 'video52': (10671, 9), 'video53': (7967, 13), 'video65': (3313, 1259), 'video72': (120, 8), 'video73': (5759, 192)}\n"
     ]
    }
   ],
   "source": [
    "print(test_videos_num_frames)"
   ]
  },
  {
   "cell_type": "code",
   "execution_count": 19,
   "metadata": {},
   "outputs": [],
   "source": [
    "delta=50\n",
    "resdir=os.path.join(DATA_DIR,'test_set/test_results/VA')\n",
    "if not os.path.exists(resdir):\n",
    "    os.makedirs(resdir)"
   ]
  },
  {
   "cell_type": "code",
   "execution_count": 20,
   "metadata": {},
   "outputs": [],
   "source": [
    "def write_va_results(res_filename):\n",
    "    with open(os.path.join(resdir,res_filename), 'w') as f:\n",
    "        f.write(test_set_sample[0]+'\\n')\n",
    "        for videoname,(y_pred_va,indices,filenames) in test_videos.items():\n",
    "            cur_ind=0\n",
    "            preds=[]\n",
    "            for i in range(indices[-1]):\n",
    "                if indices[cur_ind]-1==i:\n",
    "                    preds.append(y_pred_va[cur_ind])\n",
    "                    cur_ind+=1\n",
    "                else:\n",
    "                    if cur_ind==0:\n",
    "                        preds.append(y_pred_va[cur_ind])\n",
    "                    else:\n",
    "                        w=(i-indices[cur_ind-1]+1)/(indices[cur_ind]-indices[cur_ind-1])\n",
    "                        pred=w*y_pred_va[cur_ind-1]+(1-w)*y_pred_va[cur_ind]\n",
    "                        preds.append(pred)\n",
    "\n",
    "            pred=y_pred_va[cur_ind-1]\n",
    "            for _ in range(indices[-1],len(test_set_videos[videoname])):\n",
    "                preds.append(pred)\n",
    "\n",
    "            preds=np.array(preds)\n",
    "            for i,img_name in enumerate(test_set_videos[videoname]):\n",
    "                i1=max(i-delta,0)\n",
    "                pred=np.mean(preds[i1:i+delta+1],axis=0)\n",
    "                f.write(videoname+'/'+img_name+','+str(pred[0])+','+str(pred[1])+'\\n')"
   ]
  },
  {
   "cell_type": "code",
   "execution_count": 21,
   "metadata": {},
   "outputs": [],
   "source": [
    "res_filename='predictions_1_mt_mlp.txt'\n",
    "#res_filename='predictions_3_mt_mlp_train_val.txt'\n",
    "#res_filename='predictions_4_vgaf_mlp.txt'\n",
    "write_va_results(res_filename)"
   ]
  },
  {
   "cell_type": "markdown",
   "metadata": {},
   "source": [
    "-----------------"
   ]
  },
  {
   "cell_type": "code",
   "execution_count": 22,
   "metadata": {},
   "outputs": [],
   "source": [
    "test_videos_mt=test_videos"
   ]
  },
  {
   "cell_type": "code",
   "execution_count": 41,
   "metadata": {},
   "outputs": [],
   "source": [
    "weight=0.5\n",
    "\n",
    "with open(os.path.join(resdir,'predictions_5_mt_vgaf.txt'), 'w') as f:\n",
    "    f.write(test_set_sample[0]+'\\n')\n",
    "    for videoname,(y_pred_va,indices,filenames) in test_videos.items():\n",
    "        cur_ind=0\n",
    "        y_pred_va_mt,_,_=test_videos_mt[videoname]\n",
    "        y_ensemble=weight*y_pred_va+(1-weight)*y_pred_va_mt\n",
    "        preds=[]\n",
    "        for i in range(indices[-1]):\n",
    "            if indices[cur_ind]-1==i:\n",
    "                preds.append(y_ensemble[cur_ind])\n",
    "                cur_ind+=1\n",
    "            else:\n",
    "                if cur_ind==0:\n",
    "                    preds.append(y_ensemble[cur_ind])\n",
    "                else:\n",
    "                    w=(i-indices[cur_ind-1]+1)/(indices[cur_ind]-indices[cur_ind-1])\n",
    "                    pred=w*y_ensemble[cur_ind-1]+(1-w)*y_ensemble[cur_ind]\n",
    "                    preds.append(pred)\n",
    "\n",
    "        pred=y_ensemble[cur_ind-1]\n",
    "        for _ in range(indices[-1],len(test_set_videos[videoname])):\n",
    "            preds.append(pred)\n",
    "\n",
    "        preds=np.array(preds)\n",
    "        for i,img_name in enumerate(test_set_videos[videoname]):\n",
    "            i1=max(i-delta,0)\n",
    "            pred=np.mean(preds[i1:i+delta+1],axis=0)\n",
    "            f.write(videoname+'/'+img_name+','+str(pred[0])+','+str(pred[1])+'\\n')"
   ]
  },
  {
   "cell_type": "markdown",
   "metadata": {},
   "source": [
    "-------------"
   ]
  },
  {
   "cell_type": "code",
   "execution_count": 55,
   "metadata": {},
   "outputs": [
    {
     "name": "stderr",
     "output_type": "stream",
     "text": [
      "100%|██████████| 162/162 [00:45<00:00,  3.54it/s]"
     ]
    },
    {
     "name": "stdout",
     "output_type": "stream",
     "text": [
      "162\n"
     ]
    },
    {
     "name": "stderr",
     "output_type": "stream",
     "text": [
      "\n"
     ]
    }
   ],
   "source": [
    "test_videos={}\n",
    "test_videos_num_frames={}\n",
    "for videoname,img_files in tqdm(test_set_videos.items()):\n",
    "    X,indices,filenames=[],[],[]\n",
    "    num_present=num_missed=0\n",
    "    for img_name in img_files:\n",
    "        k=videoname+'/'+img_name\n",
    "        if k in filename2featuresAll:\n",
    "            X.append(filename2featuresAll[k][1])\n",
    "            indices.append(int(img_name[:-4]))\n",
    "            filenames.append(k)\n",
    "            num_present+=1\n",
    "        else:\n",
    "            num_missed+=1\n",
    "    X=np.array(X)\n",
    "    df_test=pd.DataFrame(data=X,columns=['f'+str(i) for i in range(X.shape[1])])\n",
    "    test_videos[videoname]=(mlpModel.predict(X),indices,filenames,automl.predict(df_test).data)\n",
    "    test_videos_num_frames[videoname]=(num_present,num_missed)\n",
    "print(len(test_videos))"
   ]
  },
  {
   "cell_type": "code",
   "execution_count": 56,
   "metadata": {},
   "outputs": [],
   "source": [
    "weight=0.8\n",
    "\n",
    "with open(os.path.join(resdir,'predictions_2_mt_mlp_lama.txt'), 'w') as f:\n",
    "    f.write(test_set_sample[0]+'\\n')\n",
    "    for videoname,(y_pred_va,indices,filenames,y_lama_va) in test_videos.items():\n",
    "        cur_ind=0\n",
    "        y_ensemble=weight*y_pred_va+(1-weight)*y_lama_va\n",
    "        preds=[]\n",
    "        for i in range(indices[-1]):\n",
    "            if indices[cur_ind]-1==i:\n",
    "                preds.append(y_ensemble[cur_ind])\n",
    "                cur_ind+=1\n",
    "            else:\n",
    "                if cur_ind==0:\n",
    "                    preds.append(y_ensemble[cur_ind])\n",
    "                else:\n",
    "                    w=(i-indices[cur_ind-1]+1)/(indices[cur_ind]-indices[cur_ind-1])\n",
    "                    pred=w*y_ensemble[cur_ind-1]+(1-w)*y_ensemble[cur_ind]\n",
    "                    preds.append(pred)\n",
    "\n",
    "        pred=y_ensemble[cur_ind-1]\n",
    "        for _ in range(indices[-1],len(test_set_videos[videoname])):\n",
    "            preds.append(pred)\n",
    "\n",
    "        preds=np.array(preds)\n",
    "        for i,img_name in enumerate(test_set_videos[videoname]):\n",
    "            i1=max(i-delta,0)\n",
    "            pred=np.mean(preds[i1:i+delta+1],axis=0)\n",
    "            f.write(videoname+'/'+img_name+','+str(pred[0])+','+str(pred[1])+'\\n')"
   ]
  },
  {
   "cell_type": "code",
   "execution_count": 60,
   "metadata": {},
   "outputs": [
    {
     "name": "stderr",
     "output_type": "stream",
     "text": [
      "100%|██████████| 162/162 [00:01<00:00, 127.68it/s]\n"
     ]
    },
    {
     "name": "stdout",
     "output_type": "stream",
     "text": [
      "162\n"
     ]
    }
   ],
   "source": [
    "test_videos={}\n",
    "test_videos_num_frames={}\n",
    "for videoname,img_files in tqdm(test_set_videos.items()):\n",
    "    X,indices,filenames=[],[],[]\n",
    "    num_present=num_missed=0\n",
    "    for img_name in img_files:\n",
    "        k=videoname+'/'+img_name\n",
    "        if k in filename2featuresAll:\n",
    "            X.append(filename2featuresAll[k][1])\n",
    "            indices.append(int(img_name[:-4]))\n",
    "            filenames.append(k)\n",
    "            num_present+=1\n",
    "        else:\n",
    "            num_missed+=1\n",
    "    X=np.array(X)\n",
    "    test_videos[videoname]=(X[:,-2:],indices,filenames)\n",
    "    test_videos_num_frames[videoname]=(num_present,num_missed)\n",
    "print(len(test_videos))\n",
    "\n",
    "write_va_results('predictions_3_mt_pretrained.txt')"
   ]
  },
  {
   "cell_type": "markdown",
   "metadata": {},
   "source": [
    "## AU (Action Units)"
   ]
  },
  {
   "cell_type": "code",
   "execution_count": 21,
   "metadata": {},
   "outputs": [
    {
     "name": "stdout",
     "output_type": "stream",
     "text": [
      "(1356694, 1280) (1356694, 12) 2829\n",
      "(445836, 1280) (445836, 12) 9\n"
     ]
    }
   ],
   "source": [
    "def get_image2AU(dirname):\n",
    "    dirpath=os.path.join(DATA_DIR,'AU_Detection_Challenge/',dirname)\n",
    "    num_missed=0\n",
    "    X,y=[],[]\n",
    "    for filename in os.listdir(dirpath):\n",
    "        fn, ext = os.path.splitext(os.path.basename(filename))\n",
    "        if ext.lower()=='.txt':\n",
    "            with open(os.path.join(dirpath,filename)) as f:\n",
    "                lines = f.read().splitlines()\n",
    "                for i,line in enumerate(lines):\n",
    "                    if i>0:\n",
    "                        splitted_line=line.split(',')\n",
    "                        aus=list(map(int,splitted_line))\n",
    "                        if min(aus)>=0:\n",
    "                            imagename=fn+'/'+get_names(i)+'.jpg'\n",
    "                            if imagename in filename2featuresAll:\n",
    "                                X.append(filename2featuresAll[imagename][0])\n",
    "                                #X.append(filename2featuresAll[imagename][1])\n",
    "                                y.append(aus)\n",
    "                            else:\n",
    "                                num_missed+=1\n",
    "    X=np.array(X)\n",
    "    y=np.array(y)\n",
    "    print(X.shape,y.shape,num_missed)\n",
    "    return X,y\n",
    "\n",
    "X_train,y_train=get_image2AU('Train_Set')\n",
    "X_val,y_val=get_image2AU('Validation_Set')\n",
    "TRAIN_VAL=False"
   ]
  },
  {
   "cell_type": "code",
   "execution_count": 32,
   "metadata": {},
   "outputs": [
    {
     "name": "stdout",
     "output_type": "stream",
     "text": [
      "(1802530, 1280) (1802530, 12)\n"
     ]
    }
   ],
   "source": [
    "if True:\n",
    "    TRAIN_VAL=True\n",
    "    X_train=np.concatenate((X_train,X_val))\n",
    "    y_train=np.concatenate((y_train,y_val))\n",
    "    print(X_train.shape,y_train.shape)"
   ]
  },
  {
   "cell_type": "code",
   "execution_count": 14,
   "metadata": {},
   "outputs": [],
   "source": [
    "def print_au():\n",
    "    y_val_preds=mlpModel.predict(X_val)\n",
    "    new_pred = ((y_val_preds >= 0.5) * 1)\n",
    "    print(np.mean([f1_score(y_true=y_val[:,i],y_pred=new_pred[:,i]) for i in range(y_val_preds.shape[1])]))\n",
    "    print(f1_score_max(y_val,y_val_preds,thresh=np.arange(0.1,1,0.1)))\n"
   ]
  },
  {
   "cell_type": "code",
   "execution_count": 33,
   "metadata": {},
   "outputs": [
    {
     "name": "stdout",
     "output_type": "stream",
     "text": [
      "12\n",
      "[[ 0.57051513  4.04533846]\n",
      " [ 0.53198811  8.31540342]\n",
      " [ 0.59103142  3.24630441]\n",
      " [ 0.67779727  1.90609581]\n",
      " [ 0.82975276  1.25814377]\n",
      " [ 0.76448554  1.44523126]\n",
      " [ 0.66392849  2.02505522]\n",
      " [ 0.51469358 17.51423463]\n",
      " [ 0.51536815 16.76740898]\n",
      " [ 0.5136215  18.85333863]\n",
      " [ 1.35901329  0.79103158]\n",
      " [ 0.54473359  6.08864103]]\n"
     ]
    }
   ],
   "source": [
    "num_labels=y_train.shape[1]\n",
    "print(num_labels)\n",
    "from sklearn.utils.class_weight import compute_class_weight\n",
    "class_weights = np.empty([num_labels, 2])\n",
    "for i in range(num_labels):\n",
    "    neg, pos = np.bincount(y_train[:, i])\n",
    "    total = neg + pos\n",
    "    weight_for_0 = (1 / neg) * (total / 2.0)\n",
    "    weight_for_1 = (1 / pos) * (total / 2.0)\n",
    "\n",
    "    class_weights[i][0]=weight_for_0\n",
    "    class_weights[i][1]=weight_for_1\n",
    "    #class_weights[i] = compute_class_weight('balanced', [0,1], y_train[:, i])\n",
    "print(class_weights)"
   ]
  },
  {
   "cell_type": "code",
   "execution_count": 34,
   "metadata": {},
   "outputs": [],
   "source": [
    "if False:\n",
    "    loss='binary_crossentropy'\n",
    "    #loss='hinge'\n",
    "else:\n",
    "    import tensorflow.keras.backend as K\n",
    "    def get_weighted_loss(weights):\n",
    "        def weighted_loss(y_true, y_pred):\n",
    "            y_true=tf.cast(y_true, tf.float32)\n",
    "            ce=K.binary_crossentropy(y_true, y_pred)\n",
    "            return K.mean((weights[:,0]**(1-y_true))*(weights[:,1]**(y_true))*ce, axis=-1)\n",
    "        return weighted_loss\n",
    "    loss=get_weighted_loss(class_weights)"
   ]
  },
  {
   "cell_type": "code",
   "execution_count": 35,
   "metadata": {},
   "outputs": [],
   "source": [
    "metrics=[tf.keras.metrics.AUC(multi_label=True,name='auc'), tf.keras.metrics.BinaryAccuracy(),tf.keras.metrics.Recall(),tf.keras.metrics.Precision()] # "
   ]
  },
  {
   "cell_type": "code",
   "execution_count": 36,
   "metadata": {},
   "outputs": [],
   "source": [
    "batch_size=512 #128\n",
    "mlpModel=Sequential()\n",
    "if False:\n",
    "    mlpModel.add(Dense(y_train.shape[1], input_shape=X_train.shape[1:],activation='sigmoid',use_bias=True,kernel_regularizer=tf.keras.regularizers.l2(1.0/batch_size)))\n",
    "else:\n",
    "    mlpModel.add(Dense(128, input_shape=X_train.shape[1:],activation='relu')) #256\n",
    "    mlpModel.add(Dense(y_train.shape[1],activation='sigmoid'))"
   ]
  },
  {
   "cell_type": "code",
   "execution_count": 37,
   "metadata": {},
   "outputs": [
    {
     "name": "stdout",
     "output_type": "stream",
     "text": [
      "Model: \"sequential_1\"\n",
      "_________________________________________________________________\n",
      "Layer (type)                 Output Shape              Param #   \n",
      "=================================================================\n",
      "dense_2 (Dense)              (None, 128)               163968    \n",
      "_________________________________________________________________\n",
      "dense_3 (Dense)              (None, 12)                1548      \n",
      "=================================================================\n",
      "Total params: 165,516\n",
      "Trainable params: 165,516\n",
      "Non-trainable params: 0\n",
      "_________________________________________________________________\n",
      "3521/3521 [==============================] - 30s 8ms/step - loss: 0.3661 - auc: 0.9135 - binary_accuracy: 0.8372 - recall: 0.8102 - precision: 0.5658 - val_loss: 0.2862 - val_auc: 0.9495 - val_binary_accuracy: 0.8765 - val_recall: 0.8517 - val_precision: 0.6543\n",
      "0.2862222194671631\n"
     ]
    }
   ],
   "source": [
    "mlpModel.compile(optimizer=Adam(lr=1e-3), loss=loss, metrics=metrics)\n",
    "mlpModel.summary()\n",
    "\n",
    "save_best_model = SaveBestModel('val_loss',False)\n",
    "mlpModel.fit(X_train,y_train, batch_size=batch_size, epochs=1 if TRAIN_VAL else 5, verbose=1, callbacks=[save_best_model], validation_data=(X_val,y_val))\n",
    "best_model_weights = save_best_model.best_model_weights\n",
    "print(save_best_model.best)"
   ]
  },
  {
   "cell_type": "code",
   "execution_count": 54,
   "metadata": {},
   "outputs": [
    {
     "name": "stdout",
     "output_type": "stream",
     "text": [
      "0.49187050179992964\n",
      "(0.5015130438723765, 0.6166666666666666, array([0.51754899, 0.36724473, 0.54567861, 0.61147033, 0.73053152,\n",
      "       0.73840495, 0.70563868, 0.29698362, 0.16128799, 0.19354461,\n",
      "       0.83596954, 0.31385295]), array([0.7, 0.6, 0.7, 0.6, 0.5, 0.5, 0.7, 0.7, 0.8, 0.8, 0.3, 0.5]), array([0.85382742, 0.87077535, 0.85694515, 0.80133951, 0.77028549,\n",
      "       0.80315183, 0.85623413, 0.94782835, 0.94788667, 0.93812972,\n",
      "       0.76932549, 0.810603  ]))\n",
      "Best weights:\n",
      "0.5051735938712013\n",
      "(0.5231335444336457, 0.6333333333333332, array([0.55359708, 0.42572046, 0.55692077, 0.62379969, 0.74228902,\n",
      "       0.75003274, 0.72522065, 0.32031986, 0.17980525, 0.1976453 ,\n",
      "       0.83940959, 0.36284212]), array([0.8, 0.7, 0.7, 0.6, 0.4, 0.5, 0.7, 0.8, 0.7, 0.8, 0.3, 0.6]), array([0.88707058, 0.89098458, 0.85974663, 0.81194879, 0.77336734,\n",
      "       0.81160337, 0.8677406 , 0.94661938, 0.94067774, 0.92311298,\n",
      "       0.77641554, 0.84230973]))\n"
     ]
    }
   ],
   "source": [
    "print_au()\n",
    "print('Best weights:')\n",
    "mlpModel.set_weights(best_model_weights)\n",
    "print_au()"
   ]
  },
  {
   "cell_type": "code",
   "execution_count": 19,
   "metadata": {},
   "outputs": [
    {
     "name": "stdout",
     "output_type": "stream",
     "text": [
      "0.5051735938712013\n",
      "(0.5231335444336457, 0.6333333333333332, array([0.55359708, 0.42572046, 0.55692077, 0.62379969, 0.74228902,\n",
      "       0.75003274, 0.72522065, 0.32031986, 0.17980525, 0.1976453 ,\n",
      "       0.83940959, 0.36284212]), array([0.8, 0.7, 0.7, 0.6, 0.4, 0.5, 0.7, 0.8, 0.7, 0.8, 0.3, 0.6]), array([0.88707058, 0.89098458, 0.85974663, 0.81194879, 0.77336734,\n",
      "       0.81160337, 0.8677406 , 0.94661938, 0.94067774, 0.92311298,\n",
      "       0.77641554, 0.84230973]))\n"
     ]
    }
   ],
   "source": [
    "if False:\n",
    "    #mlpModel.save_weights('au_enet0_vgaf.h5') #0.49859147455269043   with thresholds 0.5265306930000911\n",
    "    mlpModel.save_weights('au_enet0_mtl.h5') #0.5051735938712013\n",
    "else:\n",
    "    mlpModel.load_weights('au_enet0_mtl.h5') #0.5051735938712013\n",
    "    #mlpModel.load_weights('../au_enet0_vgaf.h5') #0.507568027779308\n",
    "    print_au()"
   ]
  },
  {
   "cell_type": "code",
   "execution_count": 23,
   "metadata": {},
   "outputs": [
    {
     "name": "stdout",
     "output_type": "stream",
     "text": [
      "0.5367145284583944\n"
     ]
    }
   ],
   "source": [
    "#mlpModel.load_weights('au_enet0_mtl.h5') \n",
    "mlpModel.load_weights('../au_enet0_vgaf.h5')\n",
    "y_val_preds=mlpModel.predict(X_val)\n",
    "\n",
    "thresholds=0.5\n",
    "#thresholds=np.array([0.8, 0.7, 0.7, 0.6, 0.4, 0.5, 0.7, 0.8, 0.7, 0.8, 0.3, 0.6]) #mtl 0.5231335444336457\n",
    "thresholds=np.array([0.8, 0.8, 0.7, 0.5, 0.5, 0.5, 0.6, 0.8, 0.8, 0.8, 0.3, 0.7]) #vgaf 0.5367145284583944\n",
    "\n",
    "new_pred = ((y_val_preds >= thresholds) * 1)\n",
    "print(np.mean([f1_score(y_true=y_val[:,i],y_pred=new_pred[:,i]) for i in range(y_val_preds.shape[1])]))"
   ]
  },
  {
   "cell_type": "markdown",
   "metadata": {},
   "source": [
    "enet_b0_8_best_vgaf\n",
    "features\n",
    "dense: 0.507568027779308\n",
    "(0.5367145284583944, 0.65, array([0.56438654, 0.47163507, 0.57207889, 0.61677155, 0.74818918,\n",
    "       0.74534595, 0.71942028, 0.35743029, 0.19360184, 0.24140214,\n",
    "       0.83680711, 0.37350551]), array([0.8, 0.8, 0.7, 0.5, 0.5, 0.5, 0.6, 0.8, 0.8, 0.8, 0.3, 0.7]), array([0.8884859 , 0.90530374, 0.8692748 , 0.79757579, 0.78782557,\n",
    "       0.80682583, 0.8569631 , 0.94949937, 0.94323473, 0.95116814,\n",
    "       0.77594452, 0.85026333]))\n",
    "       \n",
    "       \n",
    " mtl\n",
    " 0.49428877376095776\n",
    "(0.524806956530541, 0.7000000000000001, array([0.54610128, 0.42494575, 0.55170266, 0.62691763, 0.74382282,\n",
    "       0.74725918, 0.7251595 , 0.31431459, 0.21263799, 0.1999356 ,\n",
    "       0.83512272, 0.36976376]), array([0.8, 0.8, 0.8, 0.6, 0.6, 0.6, 0.6, 0.9, 0.8, 0.9, 0.3, 0.7]), array([0.87291964, 0.89063243, 0.86118887, 0.81252075, 0.78728725,\n",
    "       0.81416036, 0.86124943, 0.95587391, 0.95360626, 0.94984479,\n",
    "       0.76649485, 0.83221633]))"
   ]
  },
  {
   "cell_type": "code",
   "execution_count": 19,
   "metadata": {},
   "outputs": [],
   "source": [
    "#y_val_preds_vgaf=y_val_preds\n",
    "y_val_preds_mtl=y_val_preds"
   ]
  },
  {
   "cell_type": "code",
   "execution_count": 77,
   "metadata": {},
   "outputs": [
    {
     "name": "stdout",
     "output_type": "stream",
     "text": [
      "0.0\n",
      "0.5051735938712013\n",
      "(0.5231335444336457, 0.6333333333333332, array([0.55359708, 0.42572046, 0.55692077, 0.62379969, 0.74228902,\n",
      "       0.75003274, 0.72522065, 0.32031986, 0.17980525, 0.1976453 ,\n",
      "       0.83940959, 0.36284212]), array([0.8, 0.7, 0.7, 0.6, 0.4, 0.5, 0.7, 0.8, 0.7, 0.8, 0.3, 0.6]), array([0.88707058, 0.89098458, 0.85974663, 0.81194879, 0.77336734,\n",
      "       0.81160337, 0.8677406 , 0.94661938, 0.94067774, 0.92311298,\n",
      "       0.77641554, 0.84230973]))\n",
      "0.1\n",
      "0.5091455374196453\n",
      "(0.5279939392250242, 0.6166666666666666, array([0.55987886, 0.43465787, 0.56224317, 0.62654832, 0.74539631,\n",
      "       0.75222757, 0.7285629 , 0.33105139, 0.18511054, 0.20258621,\n",
      "       0.8408712 , 0.36679294]), array([0.8, 0.7, 0.7, 0.6, 0.4, 0.5, 0.6, 0.8, 0.7, 0.8, 0.3, 0.5]), array([0.89047318, 0.89392512, 0.86332642, 0.81484223, 0.77535237,\n",
      "       0.81338429, 0.86023336, 0.9498089 , 0.94286913, 0.92862846,\n",
      "       0.77820992, 0.8147884 ]))\n",
      "0.2\n",
      "0.5127973921074275\n",
      "(0.533017397148989, 0.6249999999999999, array([0.56484658, 0.44359876, 0.56877713, 0.62935288, 0.74865063,\n",
      "       0.754916  , 0.73146233, 0.34267134, 0.19023254, 0.20882875,\n",
      "       0.84174832, 0.37112349]), array([0.7, 0.7, 0.7, 0.6, 0.5, 0.5, 0.6, 0.8, 0.7, 0.8, 0.3, 0.6]), array([0.87937717, 0.89669968, 0.86721575, 0.81786801, 0.79496272,\n",
      "       0.8154097 , 0.86255933, 0.95284365, 0.94462313, 0.93507702,\n",
      "       0.77923721, 0.84530859]))\n",
      "0.30000000000000004\n",
      "0.5161879402744332\n",
      "(0.5375026584034432, 0.6166666666666666, array([0.56976915, 0.45084511, 0.57360552, 0.63160508, 0.75165132,\n",
      "       0.75679927, 0.73335565, 0.35297151, 0.19374649, 0.21774768,\n",
      "       0.84249049, 0.37544463]), array([0.7, 0.7, 0.7, 0.5, 0.5, 0.5, 0.6, 0.8, 0.7, 0.8, 0.3, 0.6]), array([0.88203286, 0.89877668, 0.87046134, 0.80362286, 0.79684234,\n",
      "       0.81687885, 0.8642281 , 0.95496999, 0.94522874, 0.94091998,\n",
      "       0.78018599, 0.84601288]))\n",
      "0.4\n",
      "0.5187270490065781\n",
      "(0.541014384144264, 0.6166666666666666, array([0.57316591, 0.45698558, 0.57729665, 0.63373932, 0.7542145 ,\n",
      "       0.75784588, 0.73414719, 0.35982333, 0.19863126, 0.2245393 ,\n",
      "       0.84299787, 0.37878582]), array([0.7, 0.7, 0.7, 0.5, 0.5, 0.5, 0.6, 0.8, 0.7, 0.8, 0.3, 0.6]), array([0.88380481, 0.89999013, 0.87300487, 0.80574471, 0.79829354,\n",
      "       0.81769081, 0.8652352 , 0.95611166, 0.94510762, 0.94478463,\n",
      "       0.78093739, 0.84583345]))\n",
      "0.5\n",
      "0.5199393283667891\n",
      "(0.5430868951332039, 0.6166666666666666, array([0.57564271, 0.46087072, 0.57899923, 0.6347521 , 0.75550435,\n",
      "       0.75756078, 0.73303063, 0.36535557, 0.20331393, 0.22754806,\n",
      "       0.84300553, 0.38145913]), array([0.7, 0.7, 0.7, 0.5, 0.5, 0.5, 0.6, 0.8, 0.7, 0.8, 0.3, 0.6]), array([0.88474461, 0.90025705, 0.87444935, 0.80709947, 0.79867261,\n",
      "       0.81742614, 0.86495483, 0.95664325, 0.94413641, 0.94737078,\n",
      "       0.78120654, 0.84459757]))\n",
      "0.6000000000000001\n",
      "0.5198255232950532\n",
      "(0.543975201831992, 0.6249999999999999, array([0.57638351, 0.46688322, 0.57987711, 0.6332615 , 0.7558231 ,\n",
      "       0.755736  , 0.73109244, 0.36942135, 0.20410174, 0.23078234,\n",
      "       0.84263162, 0.38170849]), array([0.7, 0.8, 0.7, 0.5, 0.5, 0.5, 0.6, 0.8, 0.7, 0.8, 0.3, 0.6]), array([0.88472443, 0.91312501, 0.87501458, 0.80686172, 0.7981141 ,\n",
      "       0.81579774, 0.86405764, 0.95661409, 0.94202801, 0.94938722,\n",
      "       0.78110337, 0.84139011]))\n",
      "0.7000000000000001\n",
      "0.5178935122387572\n",
      "(0.5436623812129876, 0.6333333333333332, array([0.57502695, 0.47127263, 0.58108291, 0.62987163, 0.75483367,\n",
      "       0.75371778, 0.72896558, 0.36984061, 0.20351354, 0.23411769,\n",
      "       0.84176021, 0.37994538]), array([0.7, 0.8, 0.7, 0.5, 0.5, 0.5, 0.6, 0.8, 0.8, 0.8, 0.3, 0.6]), array([0.88329341, 0.91254407, 0.8750886 , 0.80534546, 0.79638926,\n",
      "       0.81397195, 0.8629496 , 0.95592774, 0.95789932, 0.95086758,\n",
      "       0.78052692, 0.83702976]))\n",
      "0.8\n",
      "0.5149169725953825\n",
      "(0.5426215845931188, 0.6416666666666666, array([0.57209059, 0.47380567, 0.57948074, 0.6253632 , 0.75328333,\n",
      "       0.75140504, 0.72562433, 0.36879743, 0.20502473, 0.23820447,\n",
      "       0.84024417, 0.37813532]), array([0.7, 0.8, 0.7, 0.5, 0.5, 0.5, 0.6, 0.8, 0.8, 0.8, 0.3, 0.7]), array([0.88070277, 0.91101212, 0.87379216, 0.80276604, 0.79408347,\n",
      "       0.8119914 , 0.86091298, 0.9546627 , 0.95493186, 0.95158085,\n",
      "       0.77910936, 0.86103186]))\n",
      "0.9\n",
      "0.511355118935657\n",
      "(0.5398550602179175, 0.65, array([0.56802046, 0.47297454, 0.57562929, 0.62092852, 0.7507178 ,\n",
      "       0.74875759, 0.72278971, 0.36296607, 0.20020751, 0.24060946,\n",
      "       0.83867702, 0.37598276]), array([0.8, 0.8, 0.7, 0.5, 0.5, 0.5, 0.6, 0.8, 0.8, 0.8, 0.3, 0.7]), array([0.89164177, 0.90838559, 0.87161871, 0.8001754 , 0.79085134,\n",
      "       0.80972375, 0.85908496, 0.95232776, 0.94985824, 0.95170646,\n",
      "       0.77771647, 0.85579899]))\n",
      "1.0\n",
      "0.5075692080786435\n",
      "(0.5367145284583944, 0.65, array([0.56438654, 0.47163507, 0.57207889, 0.61677155, 0.74818918,\n",
      "       0.74534595, 0.71942028, 0.35743029, 0.19360184, 0.24140214,\n",
      "       0.83680711, 0.37350551]), array([0.8, 0.8, 0.7, 0.5, 0.5, 0.5, 0.6, 0.8, 0.8, 0.8, 0.3, 0.7]), array([0.8884859 , 0.90530374, 0.8692748 , 0.79757579, 0.78782557,\n",
      "       0.80682583, 0.8569631 , 0.94949937, 0.94323473, 0.95116814,\n",
      "       0.77594452, 0.85026333]))\n"
     ]
    }
   ],
   "source": [
    "for w in np.linspace(0,1,11):\n",
    "    print(w)\n",
    "    y_ensemble=w*y_val_preds+(1-w)*y_val_preds_mtl\n",
    "    new_pred = ((y_ensemble >= 0.5) * 1)\n",
    "    print(np.mean([f1_score(y_true=y_val[:,i],y_pred=new_pred[:,i]) for i in range(val_pred.shape[1])]))\n",
    "    print(f1_score_max(y_val,y_ensemble,thresh=np.arange(0.1,1,0.1)))"
   ]
  },
  {
   "cell_type": "code",
   "execution_count": 35,
   "metadata": {},
   "outputs": [
    {
     "name": "stdout",
     "output_type": "stream",
     "text": [
      "0.543975201831992\n"
     ]
    }
   ],
   "source": [
    "weight=0.6\n",
    "y_ensemble=weight*y_val_preds+(1-weight)*y_val_preds_mtl\n",
    "thresholds=0.5\n",
    "thresholds=np.array([0.7, 0.8, 0.7, 0.5, 0.5, 0.5, 0.6, 0.8, 0.7, 0.8, 0.3, 0.6])\n",
    "new_pred = ((y_ensemble >= thresholds) * 1)\n",
    "print(np.mean([f1_score(y_true=y_val[:,i],y_pred=new_pred[:,i]) for i in range(new_pred.shape[1])]))"
   ]
  },
  {
   "cell_type": "code",
   "execution_count": 80,
   "metadata": {},
   "outputs": [
    {
     "name": "stdout",
     "output_type": "stream",
     "text": [
      "105\n"
     ]
    }
   ],
   "source": [
    "import os\n",
    "dirpath=os.path.join(DATA_DIR,'AU_Detection_Challenge/Validation_Set')\n",
    "ind=0\n",
    "test_videos={}\n",
    "for filename in os.listdir(dirpath):\n",
    "    fn, ext = os.path.splitext(os.path.basename(filename))\n",
    "    if ext.lower()=='.txt':\n",
    "        X,indices,y_true=[],[],[]\n",
    "        with open(os.path.join(dirpath,filename)) as f:\n",
    "            lines = f.read().splitlines()\n",
    "            prev_val=None\n",
    "            for i,line in enumerate(lines):\n",
    "                if i>0:\n",
    "                    splitted_line=line.split(',')\n",
    "                    aus=list(map(int,splitted_line))\n",
    "                    if min(aus)>=0:\n",
    "                        imagename=fn+'/'+get_names(i)+'.jpg'\n",
    "                        if imagename in filename2featuresAll:\n",
    "                            X.append(y_ensemble[ind])\n",
    "                            indices.append(i)\n",
    "                            y_true.append(aus)\n",
    "                            ind+=1\n",
    "        test_videos[fn]=(np.array(X),indices,np.array(y_true))\n",
    "\n",
    "print(len(test_videos))"
   ]
  },
  {
   "cell_type": "code",
   "execution_count": 83,
   "metadata": {},
   "outputs": [
    {
     "name": "stdout",
     "output_type": "stream",
     "text": [
      "0 0.543975201831992 [0.5763835083496809, 0.46688322413698174, 0.5798771063444793, 0.6332614973125378, 0.7558231014220684, 0.7557359983343744, 0.73109243697479, 0.3694213528932355, 0.20410174293280778, 0.23078234191239133, 0.8426316213819238, 0.3817084899886334]\n",
      "3 0.5527115882582081 [0.5863481228668942, 0.4721199707807554, 0.5901815547818772, 0.6429130573166222, 0.7654025210312815, 0.7654152609288636, 0.7417232244455538, 0.3823310271420968, 0.21511930424440645, 0.2346071024489945, 0.8479743813241369, 0.38840353178701353]\n",
      "5 0.5528469599376815 [0.5878298218723751, 0.47152221412964307, 0.591238406897257, 0.646294690429658, 0.7674270435696511, 0.7649485894280461, 0.7451706010622415, 0.3810434910589448, 0.2041967054653832, 0.23787061994609163, 0.8473113423530224, 0.3893099930398634]\n",
      "7 0.5514931236426248 [0.58772722883952, 0.46844986058039856, 0.5917521689181159, 0.6493052551435344, 0.7676100046822086, 0.7633270174241268, 0.7463173635004249, 0.3764385221078134, 0.193131762391481, 0.23859595457500093, 0.8460185828073926, 0.38924376274148137]\n",
      "10 0.5490788247920431 [0.585313966480447, 0.46396639663966394, 0.5908621641737294, 0.6531620081670204, 0.7672097061272921, 0.7613176120976826, 0.7455704072116879, 0.3684767692609292, 0.1798265632131447, 0.23993413572744737, 0.844130066715603, 0.3891761016898697]\n",
      "15 0.5433385627648376 [0.5767132815932055, 0.4553985579351837, 0.5867414782862518, 0.657092264921753, 0.7661134087940793, 0.7572345966096209, 0.744280578855194, 0.35817484286996987, 0.15000745563894827, 0.23775028487709587, 0.8415967415700911, 0.3889592612266579]\n",
      "20 0.5380824835642478 [0.5674562498835194, 0.4473359856463063, 0.584570315696447, 0.6598227435533207, 0.7639202581867065, 0.7540537380726121, 0.7414957461325313, 0.3490597716588314, 0.126479250334672, 0.237909810325336, 0.8395157842147124, 0.38537014906597894]\n",
      "25 0.5329111662587908 [0.5583159886471144, 0.4380913008220572, 0.5794182521127808, 0.66210344466548, 0.7618733904294185, 0.7512326203529314, 0.7370720232983607, 0.34011552720062077, 0.11122448979591837, 0.23681720430107528, 0.8381811133461738, 0.3804886401335574]\n",
      "50 0.5109522680195706 [0.5168802328721903, 0.4027777777777778, 0.5507567558281364, 0.6664528515757148, 0.7509992191262377, 0.7390181500043594, 0.7216663808053666, 0.27588860564667406, 0.06722240746915639, 0.23893429070811092, 0.8333818540546981, 0.3674486903664242]\n"
     ]
    }
   ],
   "source": [
    "deltas=[0,3,5,7,10,15,20,25,50]\n",
    "total_true=[]\n",
    "total_preds=[[] for _ in range(len(deltas))]\n",
    "for videoname,(y_pred_aus,indices,y_true) in test_videos.items():\n",
    "    for i,ind in enumerate(indices):\n",
    "        if min(y_true[i])>=0:\n",
    "            total_true.append(y_true[i])\n",
    "    cur_ind=0\n",
    "    preds=[]\n",
    "    for i in range(indices[-1]):\n",
    "        if indices[cur_ind]-1==i:\n",
    "            preds.append(y_pred_aus[cur_ind])\n",
    "            cur_ind+=1\n",
    "        else:\n",
    "            if cur_ind==0:\n",
    "                preds.append(y_pred_aus[cur_ind])\n",
    "            else:\n",
    "                w=(i-indices[cur_ind-1]+1)/(indices[cur_ind]-indices[cur_ind-1])\n",
    "                pred=w*y_pred_aus[cur_ind-1]+(1-w)*y_pred_aus[cur_ind]\n",
    "                preds.append(pred)\n",
    "    \n",
    "    preds=np.array(preds)\n",
    "    for hInd,delta in enumerate(deltas):\n",
    "        cur_preds=[]\n",
    "        for i in range(len(preds)):\n",
    "            i1=max(i-delta,0)\n",
    "            pred=np.mean(preds[i1:i+delta+1],axis=0)\n",
    "            aus=(pred>=thresholds)*1\n",
    "            #aus=(pred>=0.5)*1\n",
    "            cur_preds.append(aus)\n",
    "        for i,ind in enumerate(indices):\n",
    "            if min(y_true[i])>=0:\n",
    "                total_preds[hInd].append(cur_preds[ind-1])\n",
    "    \n",
    "\n",
    "total_true=np.array(total_true)\n",
    "for hInd,delta in enumerate(deltas):\n",
    "    preds=np.array(total_preds[hInd])\n",
    "    f1scores=[f1_score(y_true=total_true[:,i],y_pred=preds[:,i]) for i in range(preds.shape[1])]\n",
    "    print(delta,np.mean(f1scores),f1scores)"
   ]
  },
  {
   "cell_type": "markdown",
   "metadata": {},
   "source": [
    "### Lama "
   ]
  },
  {
   "cell_type": "code",
   "execution_count": 15,
   "metadata": {},
   "outputs": [],
   "source": [
    "from lightautoml.automl.presets.tabular_presets import TabularAutoML\n",
    "from lightautoml.tasks import Task"
   ]
  },
  {
   "cell_type": "code",
   "execution_count": 16,
   "metadata": {},
   "outputs": [
    {
     "name": "stdout",
     "output_type": "stream",
     "text": [
      "multilabel isn`t supported in lgb\n"
     ]
    }
   ],
   "source": [
    "automl = TabularAutoML(\n",
    "    task = Task(\n",
    "        name = 'multilabel'#,loss='f1',\n",
    "        #metric = lambda y_true, y_pred: f1_score(y_true=y_true,y_pred=np.argmax(y_pred,axis=1), average=\"macro\")\n",
    "    ),\n",
    "    timeout=600 #*6*8 #,cpu_limit=4\n",
    ")"
   ]
  },
  {
   "cell_type": "code",
   "execution_count": 17,
   "metadata": {},
   "outputs": [
    {
     "name": "stdout",
     "output_type": "stream",
     "text": [
      "1356694          f0        f1        f2        f3        f4        f5        f6  \\\n",
      "0 -0.740520 -0.044359 -1.846506  1.321128  1.217274  0.086414 -2.281916   \n",
      "1 -0.760110 -0.151064 -1.863520  1.420068  1.229155  0.062401 -2.325460   \n",
      "2 -0.725249 -0.172695 -1.468626  1.499178  0.889816 -0.092044 -2.158123   \n",
      "3 -0.658872 -0.183799 -1.228663  1.180651  0.912762  0.037123 -2.416795   \n",
      "4 -0.474594 -0.389611 -1.076806  1.023775  0.932743  0.383680 -2.453935   \n",
      "\n",
      "         f7  AU_1  AU_2  AU_3  AU_4  AU_5  AU_6  AU_7  AU_8  AU_9  AU_10  \\\n",
      "0  4.121276     0     0     0     0     1     1     1     0     0      0   \n",
      "1  4.212641     0     0     0     0     1     1     1     0     0      0   \n",
      "2  3.987385     0     0     0     0     1     1     1     0     0      0   \n",
      "3  3.962024     0     0     0     0     1     1     1     0     0      0   \n",
      "4  3.765034     0     0     0     0     1     1     1     0     0      0   \n",
      "\n",
      "   AU_11  AU_12  \n",
      "0      1      0  \n",
      "1      1      0  \n",
      "2      1      0  \n",
      "3      1      0  \n",
      "4      1      0  \n",
      "445836          f0        f1        f2        f3        f4        f5        f6  \\\n",
      "0 -1.367348  3.447955 -1.198485 -2.192642  3.894852  1.771455 -1.081753   \n",
      "1 -1.254405  3.550966 -1.179791 -2.200516  3.805342  1.735472 -1.139996   \n",
      "2 -0.728573  2.162614 -0.872399 -0.766737  3.160072  0.980653 -1.365254   \n",
      "3 -0.728573  2.162614 -0.872399 -0.766737  3.160072  0.980653 -1.365254   \n",
      "4 -1.510414  2.111998 -0.488893 -1.078952  3.365052  0.986065 -1.907691   \n",
      "\n",
      "         f7  AU_1  AU_2  AU_3  AU_4  AU_5  AU_6  AU_7  AU_8  AU_9  AU_10  \\\n",
      "0  2.578589     0     0     0     0     1     1     1     0     0      0   \n",
      "1  2.515839     0     0     0     0     1     1     1     0     0      0   \n",
      "2  2.699691     1     1     0     0     0     0     1     0     0      0   \n",
      "3  2.699691     1     1     0     0     0     0     1     0     0      0   \n",
      "4  3.034719     1     1     0     0     0     0     1     0     0      0   \n",
      "\n",
      "   AU_11  AU_12  \n",
      "0      1      0  \n",
      "1      1      0  \n",
      "2      0      0  \n",
      "3      0      0  \n",
      "4      0      0  \n"
     ]
    }
   ],
   "source": [
    "import pandas as pd\n",
    "def get_df(X,y):\n",
    "    #xy=np.concatenate((y.reshape((-1,1)),X),axis=1)\n",
    "    df=pd.DataFrame(data=X,columns=['f'+str(i) for i in range(X.shape[1])])\n",
    "    for i in range(y.shape[1]):\n",
    "        df['AU_'+str(i+1)]=y[:,i]\n",
    "    return df\n",
    "\n",
    "if True:\n",
    "    df_train=get_df(X_train,y_train)\n",
    "    print(len(df_train),df_train.head())\n",
    "\n",
    "df_val=get_df(X_val,y_val)\n",
    "print(len(df_val),df_val.head())"
   ]
  },
  {
   "cell_type": "code",
   "execution_count": 18,
   "metadata": {},
   "outputs": [
    {
     "name": "stdout",
     "output_type": "stream",
     "text": [
      "[14:44:27] Stdout logging level is INFO.\n",
      "[14:44:27] Copying TaskTimer may affect the parent PipelineTimer, so copy will create new unlimited TaskTimer\n",
      "[14:44:27] Task: multilabel\n",
      "\n",
      "[14:44:27] Start automl preset with listed constraints:\n",
      "[14:44:27] - time: 600.00 seconds\n",
      "[14:44:27] - CPU: 4 cores\n",
      "[14:44:27] - memory: 16 GB\n",
      "\n",
      "[14:44:27] \u001b[1mTrain data shape: (1356694, 20)\u001b[0m\n",
      "\n",
      "[14:44:32] Layer \u001b[1m1\u001b[0m train process start. Time left 595.17 secs\n",
      "[14:44:32] Start fitting \u001b[1mLvl_0_Pipe_0_Mod_0_RFSklearn\u001b[0m ...\n",
      "[15:04:03] Time limit exceeded after calculating fold 0\n",
      "\n",
      "[15:04:04] Fitting \u001b[1mLvl_0_Pipe_0_Mod_0_RFSklearn\u001b[0m finished. score = \u001b[1m-4.1065008922970385\u001b[0m\n",
      "[15:04:04] \u001b[1mLvl_0_Pipe_0_Mod_0_RFSklearn\u001b[0m fitting and predicting completed\n",
      "[15:04:04] Time left -577.10 secs\n",
      "\n",
      "[15:04:04] Time limit exceeded. Last level models will be blended and unused pipelines will be pruned.\n",
      "\n",
      "[15:04:04] \u001b[1mLayer 1 training completed.\u001b[0m\n",
      "\n",
      "[15:04:04] \u001b[1mAutoml preset training completed in 1177.10 seconds\u001b[0m\n",
      "\n",
      "[15:04:04] Model description:\n",
      "Final prediction for new objects (level 0) = \n",
      "\t 1.00000 * (1 averaged models Lvl_0_Pipe_0_Mod_0_RFSklearn) \n",
      "\n",
      "oof_pred:\n",
      "array([[          nan,           nan,           nan,           nan,\n",
      "                  nan,           nan,           nan,           nan,\n",
      "                  nan,           nan,           nan,           nan],\n",
      "       [          nan,           nan,           nan,           nan,\n",
      "                  nan,           nan,           nan,           nan,\n",
      "                  nan,           nan,           nan,           nan],\n",
      "       [          nan,           nan,           nan,           nan,\n",
      "                  nan,           nan,           nan,           nan,\n",
      "                  nan,           nan,           nan,           nan],\n",
      "       [          nan,           nan,           nan,           nan,\n",
      "                  nan,           nan,           nan,           nan,\n",
      "                  nan,           nan,           nan,           nan],\n",
      "       [          nan,           nan,           nan,           nan,\n",
      "                  nan,           nan,           nan,           nan,\n",
      "                  nan,           nan,           nan,           nan],\n",
      "       [6.3491523e-01, 4.8485181e-01, 1.0942842e-02, 1.5161571e-01,\n",
      "        4.3640050e-01, 7.1763337e-01, 3.2579169e-01, 5.4490659e-02,\n",
      "        3.1482738e-02, 4.9808429e-04, 8.2856470e-01, 3.4123144e-01],\n",
      "       [          nan,           nan,           nan,           nan,\n",
      "                  nan,           nan,           nan,           nan,\n",
      "                  nan,           nan,           nan,           nan],\n",
      "       [5.9290636e-01, 3.7974653e-01, 1.7602852e-02, 1.2693006e-01,\n",
      "        4.3074667e-01, 6.2994671e-01, 1.7355594e-01, 1.2281007e-02,\n",
      "        3.6067873e-02, 1.3907645e-02, 8.0582130e-01, 2.5354394e-01],\n",
      "       [          nan,           nan,           nan,           nan,\n",
      "                  nan,           nan,           nan,           nan,\n",
      "                  nan,           nan,           nan,           nan],\n",
      "       [          nan,           nan,           nan,           nan,\n",
      "                  nan,           nan,           nan,           nan,\n",
      "                  nan,           nan,           nan,           nan]],\n",
      "      dtype=float32)\n",
      "Shape = (1356694, 12)\n"
     ]
    }
   ],
   "source": [
    "oof_pred = automl.fit_predict(df_train, roles = {'target': ['AU_'+str(i+1) for i in range(y_train.shape[1])]}, verbose = 1) #, valid_data=df_val)\n",
    "print('oof_pred:\\n{}\\nShape = {}'.format(oof_pred[:10], oof_pred.shape))"
   ]
  },
  {
   "cell_type": "code",
   "execution_count": 19,
   "metadata": {},
   "outputs": [
    {
     "name": "stdout",
     "output_type": "stream",
     "text": [
      "(445836, 12)\n",
      "0.3967976517739536\n"
     ]
    },
    {
     "name": "stderr",
     "output_type": "stream",
     "text": [
      "/usr/local/lib/python3.8/dist-packages/sklearn/metrics/_classification.py:1248: UndefinedMetricWarning: Precision is ill-defined and being set to 0.0 due to no predicted samples. Use `zero_division` parameter to control this behavior.\n",
      "  _warn_prf(average, modifier, msg_start, len(result))\n"
     ]
    },
    {
     "name": "stdout",
     "output_type": "stream",
     "text": [
      "(0.47712935942351486, 0.25000000000000006, array([0.48615976, 0.39929463, 0.51798481, 0.60161062, 0.68653855,\n",
      "       0.71018885, 0.71865606, 0.18148784, 0.06501251, 0.19240359,\n",
      "       0.811192  , 0.35502308]), array([0.2, 0.2, 0.2, 0.3, 0.4, 0.4, 0.4, 0.1, 0.1, 0.1, 0.4, 0.2]), array([0.82858046, 0.90449179, 0.82563768, 0.79050593, 0.73450103,\n",
      "       0.78638782, 0.86375483, 0.92623521, 0.93212975, 0.91281996,\n",
      "       0.72501772, 0.86053392]))\n"
     ]
    }
   ],
   "source": [
    "val_pred = automl.predict(df_val).data #complete lama\n",
    "print(val_pred.shape)\n",
    "\n",
    "new_pred = ((val_pred >= 0.5) * 1)\n",
    "print(np.mean([f1_score(y_true=y_val[:,i],y_pred=new_pred[:,i]) for i in range(val_pred.shape[1])]))\n",
    "print(f1_score_max(y_val,val_pred,thresh=np.arange(0.1,1,0.1)))"
   ]
  },
  {
   "cell_type": "code",
   "execution_count": 55,
   "metadata": {},
   "outputs": [
    {
     "name": "stdout",
     "output_type": "stream",
     "text": [
      "0.39161635065008743\n"
     ]
    },
    {
     "name": "stderr",
     "output_type": "stream",
     "text": [
      "/usr/local/lib/python3.8/dist-packages/sklearn/metrics/_classification.py:1248: UndefinedMetricWarning: Precision is ill-defined and being set to 0.0 due to no predicted samples. Use `zero_division` parameter to control this behavior.\n",
      "  _warn_prf(average, modifier, msg_start, len(result))\n"
     ]
    },
    {
     "name": "stdout",
     "output_type": "stream",
     "text": [
      "(0.47801455675819343, 0.25000000000000006, array([0.48729388, 0.40392079, 0.53907524, 0.60048323, 0.69929169,\n",
      "       0.72261939, 0.72593995, 0.15211746, 0.059756  , 0.18386043,\n",
      "       0.81331989, 0.34849671]), array([0.2, 0.2, 0.2, 0.3, 0.4, 0.4, 0.4, 0.1, 0.1, 0.1, 0.4, 0.2]), array([0.83631874, 0.90561103, 0.83711275, 0.79378964, 0.74755964,\n",
      "       0.79922886, 0.86624454, 0.9216371 , 0.94571995, 0.90808279,\n",
      "       0.72760387, 0.86565912]))\n"
     ]
    }
   ],
   "source": [
    "val_pred = automl.predict(df_val).data #600 s: 0.39161635065008743, (0.47801455675819343, 0.25\n",
    "new_pred = ((val_pred >= 0.5) * 1)\n",
    "print(np.mean([f1_score(y_true=y_val[:,i],y_pred=new_pred[:,i]) for i in range(val_pred.shape[1])]))\n",
    "print(f1_score_max(y_val,val_pred,thresh=np.arange(0.1,1,0.1)))"
   ]
  },
  {
   "cell_type": "code",
   "execution_count": 45,
   "metadata": {},
   "outputs": [
    {
     "name": "stdout",
     "output_type": "stream",
     "text": [
      "0.0\n",
      "0.3967976517739536\n"
     ]
    },
    {
     "name": "stderr",
     "output_type": "stream",
     "text": [
      "/usr/local/lib/python3.8/dist-packages/sklearn/metrics/_classification.py:1248: UndefinedMetricWarning: Precision is ill-defined and being set to 0.0 due to no predicted samples. Use `zero_division` parameter to control this behavior.\n",
      "  _warn_prf(average, modifier, msg_start, len(result))\n"
     ]
    },
    {
     "name": "stdout",
     "output_type": "stream",
     "text": [
      "(0.47712935942351486, 0.25000000000000006, array([0.48615976, 0.39929463, 0.51798481, 0.60161062, 0.68653855,\n",
      "       0.71018885, 0.71865606, 0.18148784, 0.06501251, 0.19240359,\n",
      "       0.811192  , 0.35502308]), array([0.2, 0.2, 0.2, 0.3, 0.4, 0.4, 0.4, 0.1, 0.1, 0.1, 0.4, 0.2]), array([0.82858046, 0.90449179, 0.82563768, 0.79050593, 0.73450103,\n",
      "       0.78638782, 0.86375483, 0.92623521, 0.93212975, 0.91281996,\n",
      "       0.72501772, 0.86053392]))\n",
      "0.1\n",
      "0.412161016994298\n"
     ]
    },
    {
     "name": "stderr",
     "output_type": "stream",
     "text": [
      "/usr/local/lib/python3.8/dist-packages/sklearn/metrics/_classification.py:1248: UndefinedMetricWarning: Precision is ill-defined and being set to 0.0 due to no predicted samples. Use `zero_division` parameter to control this behavior.\n",
      "  _warn_prf(average, modifier, msg_start, len(result))\n",
      "/usr/local/lib/python3.8/dist-packages/sklearn/metrics/_classification.py:1248: UndefinedMetricWarning: Precision is ill-defined and being set to 0.0 due to no predicted samples. Use `zero_division` parameter to control this behavior.\n",
      "  _warn_prf(average, modifier, msg_start, len(result))\n"
     ]
    },
    {
     "name": "stdout",
     "output_type": "stream",
     "text": [
      "(0.5039515433117274, 0.26666666666666666, array([0.51446046, 0.44160531, 0.53645566, 0.61495244, 0.70221956,\n",
      "       0.72041016, 0.72473944, 0.2508855 , 0.13836355, 0.21719737,\n",
      "       0.81689322, 0.36923585]), array([0.3, 0.2, 0.2, 0.3, 0.4, 0.4, 0.4, 0.1, 0.1, 0.2, 0.4, 0.2]), array([0.86680977, 0.89588997, 0.82169228, 0.79370441, 0.74593124,\n",
      "       0.79181582, 0.86511408, 0.87903399, 0.86194251, 0.94331548,\n",
      "       0.73438888, 0.83705443]))\n",
      "0.2\n",
      "0.43008000305533\n"
     ]
    },
    {
     "name": "stderr",
     "output_type": "stream",
     "text": [
      "/usr/local/lib/python3.8/dist-packages/sklearn/metrics/_classification.py:1248: UndefinedMetricWarning: Precision is ill-defined and being set to 0.0 due to no predicted samples. Use `zero_division` parameter to control this behavior.\n",
      "  _warn_prf(average, modifier, msg_start, len(result))\n",
      "/usr/local/lib/python3.8/dist-packages/sklearn/metrics/_classification.py:1248: UndefinedMetricWarning: Precision is ill-defined and being set to 0.0 due to no predicted samples. Use `zero_division` parameter to control this behavior.\n",
      "  _warn_prf(average, modifier, msg_start, len(result))\n",
      "/usr/local/lib/python3.8/dist-packages/sklearn/metrics/_classification.py:1248: UndefinedMetricWarning: Precision is ill-defined and being set to 0.0 due to no predicted samples. Use `zero_division` parameter to control this behavior.\n",
      "  _warn_prf(average, modifier, msg_start, len(result))\n"
     ]
    },
    {
     "name": "stdout",
     "output_type": "stream",
     "text": [
      "(0.5263361953207768, 0.3083333333333334, array([0.53891288, 0.44917796, 0.55782671, 0.62452623, 0.71781616,\n",
      "       0.72956851, 0.72961114, 0.3332561 , 0.19157184, 0.24114475,\n",
      "       0.82268266, 0.37993941]), array([0.3, 0.3, 0.3, 0.3, 0.4, 0.4, 0.4, 0.2, 0.2, 0.2, 0.4, 0.3]), array([0.86251447, 0.91102558, 0.85696086, 0.79402067, 0.75661678,\n",
      "       0.79622103, 0.86537202, 0.9354516 , 0.94199661, 0.92993836,\n",
      "       0.74431854, 0.87329422]))\n",
      "0.30000000000000004\n",
      "0.45242858432824645\n"
     ]
    },
    {
     "name": "stderr",
     "output_type": "stream",
     "text": [
      "/usr/local/lib/python3.8/dist-packages/sklearn/metrics/_classification.py:1248: UndefinedMetricWarning: Precision is ill-defined and being set to 0.0 due to no predicted samples. Use `zero_division` parameter to control this behavior.\n",
      "  _warn_prf(average, modifier, msg_start, len(result))\n",
      "/usr/local/lib/python3.8/dist-packages/sklearn/metrics/_classification.py:1248: UndefinedMetricWarning: Precision is ill-defined and being set to 0.0 due to no predicted samples. Use `zero_division` parameter to control this behavior.\n",
      "  _warn_prf(average, modifier, msg_start, len(result))\n",
      "/usr/local/lib/python3.8/dist-packages/sklearn/metrics/_classification.py:1248: UndefinedMetricWarning: Precision is ill-defined and being set to 0.0 due to no predicted samples. Use `zero_division` parameter to control this behavior.\n",
      "  _warn_prf(average, modifier, msg_start, len(result))\n"
     ]
    },
    {
     "name": "stdout",
     "output_type": "stream",
     "text": [
      "(0.536179212780311, 0.35000000000000003, array([0.54886708, 0.46748638, 0.56821065, 0.6304995 , 0.73074094,\n",
      "       0.73699005, 0.73184365, 0.35637481, 0.19879013, 0.25396349,\n",
      "       0.82815662, 0.38222726]), array([0.4, 0.3, 0.3, 0.4, 0.4, 0.4, 0.4, 0.3, 0.3, 0.3, 0.4, 0.3]), array([0.88214725, 0.89567016, 0.84882782, 0.82155097, 0.76513785,\n",
      "       0.79894401, 0.86355745, 0.95300963, 0.96138042, 0.94427099,\n",
      "       0.75426839, 0.84597251]))\n",
      "0.4\n",
      "0.4815151275537799\n"
     ]
    },
    {
     "name": "stderr",
     "output_type": "stream",
     "text": [
      "/usr/local/lib/python3.8/dist-packages/sklearn/metrics/_classification.py:1248: UndefinedMetricWarning: Precision is ill-defined and being set to 0.0 due to no predicted samples. Use `zero_division` parameter to control this behavior.\n",
      "  _warn_prf(average, modifier, msg_start, len(result))\n",
      "/usr/local/lib/python3.8/dist-packages/sklearn/metrics/_classification.py:1248: UndefinedMetricWarning: Precision is ill-defined and being set to 0.0 due to no predicted samples. Use `zero_division` parameter to control this behavior.\n",
      "  _warn_prf(average, modifier, msg_start, len(result))\n",
      "/usr/local/lib/python3.8/dist-packages/sklearn/metrics/_classification.py:1248: UndefinedMetricWarning: Precision is ill-defined and being set to 0.0 due to no predicted samples. Use `zero_division` parameter to control this behavior.\n",
      "  _warn_prf(average, modifier, msg_start, len(result))\n"
     ]
    },
    {
     "name": "stdout",
     "output_type": "stream",
     "text": [
      "(0.5396252279672301, 0.40000000000000013, array([0.5637537 , 0.47794323, 0.57948681, 0.6373418 , 0.73975404,\n",
      "       0.74224612, 0.73584192, 0.34912945, 0.18174282, 0.25149827,\n",
      "       0.83251636, 0.38424821]), array([0.4, 0.4, 0.4, 0.4, 0.4, 0.4, 0.5, 0.4, 0.3, 0.4, 0.4, 0.4]), array([0.87385496, 0.90767906, 0.86950807, 0.81894015, 0.77046268,\n",
      "       0.79989727, 0.87466243, 0.96142976, 0.91143604, 0.95237711,\n",
      "       0.76303843, 0.86921648]))\n",
      "0.5\n",
      "0.5330206309128257\n"
     ]
    },
    {
     "name": "stderr",
     "output_type": "stream",
     "text": [
      "/usr/local/lib/python3.8/dist-packages/sklearn/metrics/_classification.py:1248: UndefinedMetricWarning: Precision is ill-defined and being set to 0.0 due to no predicted samples. Use `zero_division` parameter to control this behavior.\n",
      "  _warn_prf(average, modifier, msg_start, len(result))\n",
      "/usr/local/lib/python3.8/dist-packages/sklearn/metrics/_classification.py:1248: UndefinedMetricWarning: Precision is ill-defined and being set to 0.0 due to no predicted samples. Use `zero_division` parameter to control this behavior.\n",
      "  _warn_prf(average, modifier, msg_start, len(result))\n",
      "/usr/local/lib/python3.8/dist-packages/sklearn/metrics/_classification.py:1248: UndefinedMetricWarning: Precision is ill-defined and being set to 0.0 due to no predicted samples. Use `zero_division` parameter to control this behavior.\n",
      "  _warn_prf(average, modifier, msg_start, len(result))\n"
     ]
    },
    {
     "name": "stdout",
     "output_type": "stream",
     "text": [
      "(0.5415474938273397, 0.4500000000000001, array([0.56704785, 0.4791801 , 0.57647411, 0.63721316, 0.74443683,\n",
      "       0.74743735, 0.7361386 , 0.35047214, 0.19804193, 0.24378612,\n",
      "       0.83522394, 0.3831178 ]), array([0.5, 0.5, 0.5, 0.4, 0.4, 0.5, 0.5, 0.4, 0.4, 0.5, 0.4, 0.4]), array([0.8861218 , 0.91485434, 0.87955661, 0.81252075, 0.77259351,\n",
      "       0.82039135, 0.87141909, 0.93828672, 0.93238769, 0.95803165,\n",
      "       0.77007465, 0.84335944]))\n",
      "0.6000000000000001\n",
      "0.5416010326422609\n"
     ]
    },
    {
     "name": "stderr",
     "output_type": "stream",
     "text": [
      "/usr/local/lib/python3.8/dist-packages/sklearn/metrics/_classification.py:1248: UndefinedMetricWarning: Precision is ill-defined and being set to 0.0 due to no predicted samples. Use `zero_division` parameter to control this behavior.\n",
      "  _warn_prf(average, modifier, msg_start, len(result))\n",
      "/usr/local/lib/python3.8/dist-packages/sklearn/metrics/_classification.py:1248: UndefinedMetricWarning: Precision is ill-defined and being set to 0.0 due to no predicted samples. Use `zero_division` parameter to control this behavior.\n",
      "  _warn_prf(average, modifier, msg_start, len(result))\n"
     ]
    },
    {
     "name": "stdout",
     "output_type": "stream",
     "text": [
      "(0.5426797952756166, 0.4916666666666667, array([0.56766117, 0.47527219, 0.58069546, 0.6319157 , 0.74789084,\n",
      "       0.74977854, 0.7328288 , 0.36167423, 0.20147168, 0.24571675,\n",
      "       0.83708673, 0.38016545]), array([0.5, 0.6, 0.5, 0.4, 0.5, 0.5, 0.5, 0.5, 0.5, 0.5, 0.4, 0.5]), array([0.87512449, 0.91968123, 0.8709346 , 0.80412528, 0.79557057,\n",
      "       0.81879884, 0.86602248, 0.94759508, 0.94425977, 0.9450964 ,\n",
      "       0.77619797, 0.86085018]))\n",
      "0.7000000000000001\n",
      "0.5330069982904867\n"
     ]
    },
    {
     "name": "stderr",
     "output_type": "stream",
     "text": [
      "/usr/local/lib/python3.8/dist-packages/sklearn/metrics/_classification.py:1248: UndefinedMetricWarning: Precision is ill-defined and being set to 0.0 due to no predicted samples. Use `zero_division` parameter to control this behavior.\n",
      "  _warn_prf(average, modifier, msg_start, len(result))\n",
      "/usr/local/lib/python3.8/dist-packages/sklearn/metrics/_classification.py:1248: UndefinedMetricWarning: Precision is ill-defined and being set to 0.0 due to no predicted samples. Use `zero_division` parameter to control this behavior.\n",
      "  _warn_prf(average, modifier, msg_start, len(result))\n"
     ]
    },
    {
     "name": "stdout",
     "output_type": "stream",
     "text": [
      "(0.5427279745528589, 0.5416666666666666, array([0.57031407, 0.47620718, 0.5777379 , 0.62912817, 0.74983669,\n",
      "       0.74953848, 0.73052723, 0.36558017, 0.20239204, 0.24525344,\n",
      "       0.83738303, 0.3788373 ]), array([0.6, 0.6, 0.6, 0.5, 0.5, 0.5, 0.6, 0.6, 0.6, 0.6, 0.3, 0.5]), array([0.88486349, 0.90623009, 0.87862129, 0.81813941, 0.79471151,\n",
      "       0.81589419, 0.87242843, 0.95368028, 0.95198459, 0.9514059 ,\n",
      "       0.76710046, 0.83983572]))\n",
      "0.8\n",
      "0.5233746153162943\n"
     ]
    },
    {
     "name": "stderr",
     "output_type": "stream",
     "text": [
      "/usr/local/lib/python3.8/dist-packages/sklearn/metrics/_classification.py:1248: UndefinedMetricWarning: Precision is ill-defined and being set to 0.0 due to no predicted samples. Use `zero_division` parameter to control this behavior.\n",
      "  _warn_prf(average, modifier, msg_start, len(result))\n"
     ]
    },
    {
     "name": "stdout",
     "output_type": "stream",
     "text": [
      "(0.5418482761273528, 0.5833333333333334, array([0.56660896, 0.47785687, 0.57756748, 0.62563396, 0.75022258,\n",
      "       0.74875582, 0.72816836, 0.36333946, 0.19684505, 0.25098745,\n",
      "       0.83837813, 0.37781519]), array([0.6, 0.7, 0.6, 0.5, 0.5, 0.5, 0.6, 0.7, 0.7, 0.7, 0.3, 0.6]), array([0.87477682, 0.91164688, 0.87043891, 0.81108973, 0.79297544,\n",
      "       0.81305009, 0.86768453, 0.95802492, 0.95751801, 0.95704026,\n",
      "       0.77221893, 0.85493993]))\n",
      "0.9\n",
      "0.5151790025942177\n",
      "(0.5389088935584706, 0.6166666666666666, array([0.56699325, 0.47582438, 0.57242174, 0.62108665, 0.74923953,\n",
      "       0.74737354, 0.72397726, 0.35490109, 0.19370557, 0.24806202,\n",
      "       0.83811841, 0.3752033 ]), array([0.7, 0.8, 0.6, 0.5, 0.5, 0.5, 0.6, 0.8, 0.7, 0.8, 0.3, 0.6]), array([0.88262949, 0.9158906 , 0.86177428, 0.80407818, 0.790322  ,\n",
      "       0.81009385, 0.862344  , 0.96108883, 0.93690505, 0.96105519,\n",
      "       0.77500022, 0.83714415]))\n",
      "1.0\n",
      "0.5075692080786435\n",
      "(0.5367145284583944, 0.65, array([0.56438654, 0.47163507, 0.57207889, 0.61677155, 0.74818918,\n",
      "       0.74534595, 0.71942028, 0.35743029, 0.19360184, 0.24140214,\n",
      "       0.83680711, 0.37350551]), array([0.8, 0.8, 0.7, 0.5, 0.5, 0.5, 0.6, 0.8, 0.8, 0.8, 0.3, 0.7]), array([0.8884859 , 0.90530374, 0.8692748 , 0.79757579, 0.78782557,\n",
      "       0.80682583, 0.8569631 , 0.94949937, 0.94323473, 0.95116814,\n",
      "       0.77594452, 0.85026333]))\n"
     ]
    }
   ],
   "source": [
    "#Lama\n",
    "for w in np.linspace(0,1,11):\n",
    "    y_ensemble=w*y_val_preds+(1-w)*val_pred\n",
    "    print(w)\n",
    "    new_pred = ((y_ensemble >= 0.5) * 1)\n",
    "    print(np.mean([f1_score(y_true=y_val[:,i],y_pred=new_pred[:,i]) for i in range(val_pred.shape[1])]))\n",
    "    print(f1_score_max(y_val,y_ensemble,thresh=np.arange(0.1,1,0.1)))"
   ]
  },
  {
   "cell_type": "code",
   "execution_count": 45,
   "metadata": {},
   "outputs": [
    {
     "name": "stdout",
     "output_type": "stream",
     "text": [
      "0.0\n",
      "0.4580072685224435\n",
      "(0.49359570246201073, 0.6249999999999999, array([0.52567855, 0.43852914, 0.54602399, 0.59209251, 0.69997531,\n",
      "       0.72424481, 0.72971041, 0.17204494, 0.08372545, 0.22091029,\n",
      "       0.81851463, 0.37169841]), array([0.7, 0.8, 0.6, 0.5, 0.5, 0.6, 0.7, 0.7, 0.6, 0.8, 0.3, 0.7]), array([0.86222064, 0.9114338 , 0.84654447, 0.77814936, 0.75199625,\n",
      "       0.8100288 , 0.87108264, 0.89652697, 0.80563929, 0.92156084,\n",
      "       0.74013987, 0.84585588]))\n",
      "0.1\n",
      "0.4686004562840463\n"
     ]
    },
    {
     "name": "stderr",
     "output_type": "stream",
     "text": [
      "/usr/local/lib/python3.8/dist-packages/sklearn/metrics/_classification.py:1248: UndefinedMetricWarning: Precision is ill-defined and being set to 0.0 due to no predicted samples. Use `zero_division` parameter to control this behavior.\n",
      "  _warn_prf(average, modifier, msg_start, len(result))\n"
     ]
    },
    {
     "name": "stdout",
     "output_type": "stream",
     "text": [
      "(0.5077485438891499, 0.6249999999999999, array([0.53876687, 0.44769293, 0.55349253, 0.6046315 , 0.71357628,\n",
      "       0.73048127, 0.73376549, 0.2110483 , 0.11884438, 0.23701055,\n",
      "       0.82371557, 0.37995686]), array([0.7, 0.8, 0.6, 0.5, 0.5, 0.6, 0.7, 0.7, 0.6, 0.8, 0.3, 0.7]), array([0.86811742, 0.91440799, 0.85107304, 0.78811716, 0.76209413,\n",
      "       0.81453494, 0.87434842, 0.91328426, 0.87474094, 0.93396002,\n",
      "       0.74661535, 0.85298181]))\n",
      "0.2\n",
      "0.47911647975123506\n"
     ]
    },
    {
     "name": "stderr",
     "output_type": "stream",
     "text": [
      "/usr/local/lib/python3.8/dist-packages/sklearn/metrics/_classification.py:1248: UndefinedMetricWarning: Precision is ill-defined and being set to 0.0 due to no predicted samples. Use `zero_division` parameter to control this behavior.\n",
      "  _warn_prf(average, modifier, msg_start, len(result))\n"
     ]
    },
    {
     "name": "stdout",
     "output_type": "stream",
     "text": [
      "(0.5208088603704856, 0.6083333333333333, array([0.54764374, 0.45347116, 0.55988382, 0.61586546, 0.72683025,\n",
      "       0.73533016, 0.73805155, 0.25154886, 0.16777879, 0.24061164,\n",
      "       0.82804723, 0.38464367]), array([0.7, 0.7, 0.6, 0.5, 0.5, 0.6, 0.6, 0.7, 0.6, 0.8, 0.3, 0.7]), array([0.87182955, 0.89564324, 0.85453844, 0.79655524, 0.77139352,\n",
      "       0.81785679, 0.86648229, 0.92440045, 0.91831525, 0.94185306,\n",
      "       0.75202541, 0.85734216]))\n",
      "0.30000000000000004\n",
      "0.4898939990798123\n"
     ]
    },
    {
     "name": "stderr",
     "output_type": "stream",
     "text": [
      "/usr/local/lib/python3.8/dist-packages/sklearn/metrics/_classification.py:1248: UndefinedMetricWarning: Precision is ill-defined and being set to 0.0 due to no predicted samples. Use `zero_division` parameter to control this behavior.\n",
      "  _warn_prf(average, modifier, msg_start, len(result))\n"
     ]
    },
    {
     "name": "stdout",
     "output_type": "stream",
     "text": [
      "(0.529193228141319, 0.6166666666666667, array([0.55399821, 0.45701692, 0.56404024, 0.62566893, 0.73816914,\n",
      "       0.74031251, 0.74113622, 0.27613616, 0.19835587, 0.23745275,\n",
      "       0.83195788, 0.38607392]), array([0.7, 0.8, 0.6, 0.5, 0.5, 0.5, 0.6, 0.7, 0.6, 0.8, 0.4, 0.7]), array([0.87388412, 0.91600275, 0.85596497, 0.80309576, 0.7786316 ,\n",
      "       0.80101203, 0.86916938, 0.9276909 , 0.9321948 , 0.94434949,\n",
      "       0.77177931, 0.85860047]))\n",
      "0.4\n",
      "0.49800040213247393\n",
      "(0.5337851886083411, 0.6166666666666667, array([0.55652982, 0.45884744, 0.56532689, 0.63315776, 0.74524761,\n",
      "       0.74576952, 0.74175066, 0.29235051, 0.2097307 , 0.23649808,\n",
      "       0.83628029, 0.38393299]), array([0.7, 0.8, 0.6, 0.5, 0.5, 0.5, 0.6, 0.7, 0.6, 0.8, 0.4, 0.7]), array([0.87374057, 0.915202  , 0.8548233 , 0.80722508, 0.78201401,\n",
      "       0.80397949, 0.87029087, 0.92756305, 0.93292825, 0.9451121 ,\n",
      "       0.77713554, 0.8574745 ]))\n",
      "0.5\n",
      "0.5016388822928762\n",
      "(0.53572301396097, 0.6333333333333334, array([0.55651741, 0.45837313, 0.56519989, 0.63756528, 0.74879143,\n",
      "       0.74944277, 0.74054456, 0.30150796, 0.21689457, 0.23384711,\n",
      "       0.83856363, 0.38142842]), array([0.7, 0.8, 0.7, 0.5, 0.5, 0.5, 0.6, 0.7, 0.7, 0.8, 0.4, 0.7]), array([0.87210768, 0.91349734, 0.87156488, 0.80885348, 0.78262635,\n",
      "       0.80560341, 0.8701361 , 0.92602661, 0.96094977, 0.94481155,\n",
      "       0.78021515, 0.85482778]))\n",
      "0.6000000000000001\n",
      "0.5019551098097399\n",
      "(0.536135316544336, 0.65, array([0.55558351, 0.45712721, 0.56788435, 0.63771128, 0.74883982,\n",
      "       0.75050487, 0.73818981, 0.30517518, 0.22270194, 0.2304381 ,\n",
      "       0.83909962, 0.3803681 ]), array([0.7, 0.8, 0.7, 0.5, 0.5, 0.6, 0.6, 0.8, 0.7, 0.8, 0.4, 0.7]), array([0.86927256, 0.91107492, 0.8681892 , 0.807649  , 0.78040131,\n",
      "       0.82292816, 0.86900564, 0.9515158 , 0.95558008, 0.94346127,\n",
      "       0.78116393, 0.85161584]))\n",
      "0.7000000000000001\n",
      "0.5005593874755307\n",
      "(0.5353146512475647, 0.6583333333333334, array([0.5575532 , 0.45298477, 0.56470156, 0.63525305, 0.74762337,\n",
      "       0.7513855 , 0.7352616 , 0.32201361, 0.2184456 , 0.22200653,\n",
      "       0.8384799 , 0.37806714]), array([0.8, 0.8, 0.7, 0.5, 0.5, 0.6, 0.6, 0.8, 0.7, 0.8, 0.4, 0.7]), array([0.88750572, 0.90744803, 0.86190886, 0.80498659, 0.77747647,\n",
      "       0.82160032, 0.86735706, 0.94792031, 0.9492504 , 0.94067101,\n",
      "       0.78068841, 0.8471254 ]))\n",
      "0.8\n",
      "0.4987307823740115\n",
      "(0.5321629552433124, 0.6833333333333335, array([0.55559449, 0.44401702, 0.56085834, 0.63264881, 0.74641925,\n",
      "       0.75047294, 0.73193113, 0.3227909 , 0.21370088, 0.21404858,\n",
      "       0.83719945, 0.37627369]), array([0.8, 0.8, 0.8, 0.5, 0.6, 0.6, 0.6, 0.8, 0.7, 0.9, 0.4, 0.7]), array([0.88335845, 0.90209853, 0.87523888, 0.80235333, 0.79402067,\n",
      "       0.81923174, 0.86541239, 0.94313604, 0.94421043, 0.95964435,\n",
      "       0.77923721, 0.84251833]))\n",
      "0.9\n",
      "0.49665616669472407\n",
      "(0.5285669812053401, 0.6833333333333332, array([0.55081517, 0.43389042, 0.55646503, 0.62976533, 0.74556575,\n",
      "       0.74915488, 0.72870028, 0.31869886, 0.21183827, 0.2080038 ,\n",
      "       0.83608681, 0.37381916]), array([0.8, 0.8, 0.8, 0.5, 0.6, 0.6, 0.6, 0.8, 0.8, 0.9, 0.3, 0.7]), array([0.878074  , 0.89629146, 0.8678864 , 0.79963933, 0.79089396,\n",
      "       0.816751  , 0.86351708, 0.93873981, 0.95815726, 0.95507765,\n",
      "       0.7670242 , 0.83764434]))\n",
      "1.0\n",
      "0.49428877376095776\n",
      "(0.524806956530541, 0.7000000000000001, array([0.54610128, 0.42494575, 0.55170266, 0.62691763, 0.74382282,\n",
      "       0.74725918, 0.7251595 , 0.31431459, 0.21263799, 0.1999356 ,\n",
      "       0.83512272, 0.36976376]), array([0.8, 0.8, 0.8, 0.6, 0.6, 0.6, 0.6, 0.9, 0.8, 0.9, 0.3, 0.7]), array([0.87291964, 0.89063243, 0.86118887, 0.81252075, 0.78728725,\n",
      "       0.81416036, 0.86124943, 0.95587391, 0.95360626, 0.94984479,\n",
      "       0.76649485, 0.83221633]))\n"
     ]
    }
   ],
   "source": [
    "#Scores\n",
    "for w in np.linspace(0,1,11):\n",
    "    print(w)\n",
    "    y_ensemble=w*y_val_preds+(1-w)*y_val_scores\n",
    "    new_pred = ((y_ensemble >= 0.5) * 1)\n",
    "    print(np.mean([f1_score(y_true=y_val[:,i],y_pred=new_pred[:,i]) for i in range(val_pred.shape[1])]))\n",
    "    print(f1_score_max(y_val,y_ensemble,thresh=np.arange(0.1,1,0.1)))"
   ]
  },
  {
   "cell_type": "code",
   "execution_count": 24,
   "metadata": {},
   "outputs": [
    {
     "name": "stdout",
     "output_type": "stream",
     "text": [
      "0.6\n",
      "0.5416010326422609\n"
     ]
    },
    {
     "name": "stderr",
     "output_type": "stream",
     "text": [
      "/usr/local/lib/python3.8/dist-packages/sklearn/metrics/_classification.py:1248: UndefinedMetricWarning: Precision is ill-defined and being set to 0.0 due to no predicted samples. Use `zero_division` parameter to control this behavior.\n",
      "  _warn_prf(average, modifier, msg_start, len(result))\n",
      "/usr/local/lib/python3.8/dist-packages/sklearn/metrics/_classification.py:1248: UndefinedMetricWarning: Precision is ill-defined and being set to 0.0 due to no predicted samples. Use `zero_division` parameter to control this behavior.\n",
      "  _warn_prf(average, modifier, msg_start, len(result))\n"
     ]
    },
    {
     "name": "stdout",
     "output_type": "stream",
     "text": [
      "(0.5426797952756166, 0.4916666666666667, array([0.56766117, 0.47527219, 0.58069546, 0.6319157 , 0.74789084,\n",
      "       0.74977854, 0.7328288 , 0.36167423, 0.20147168, 0.24571675,\n",
      "       0.83708673, 0.38016545]), array([0.5, 0.6, 0.5, 0.4, 0.5, 0.5, 0.5, 0.5, 0.5, 0.5, 0.4, 0.5]), array([0.87512449, 0.91968123, 0.8709346 , 0.80412528, 0.79557057,\n",
      "       0.81879884, 0.86602248, 0.94759508, 0.94425977, 0.9450964 ,\n",
      "       0.77619797, 0.86085018]))\n"
     ]
    }
   ],
   "source": [
    "if True: #lama, full: 0.5291060382620348, short 0.5289615773736197 (0.5328972153003431,\n",
    "    w=0.6\n",
    "    y_ensemble=w*y_val_preds+(1-w)*val_pred\n",
    "else: #scores 0.5019551098097399\n",
    "    w=0.6 \n",
    "    y_ensemble=w*y_val_preds+(1-w)*y_val_scores\n",
    "print(w)\n",
    "new_pred = ((y_ensemble >= 0.5) * 1)\n",
    "print(np.mean([f1_score(y_true=y_val[:,i],y_pred=new_pred[:,i]) for i in range(val_pred.shape[1])]))\n",
    "print(f1_score_max(y_val,y_ensemble,thresh=np.arange(0.1,1,0.1)))"
   ]
  },
  {
   "cell_type": "code",
   "execution_count": 58,
   "metadata": {},
   "outputs": [],
   "source": [
    "thresholds=np.array([0.6, 0.6, 0.6, 0.5, 0.5, 0.5, 0.5, 0.5, 0.5, 0.6, 0.4, 0.5]) #lama\n",
    "#thresholds=np.array([0.7, 0.8, 0.7, 0.5, 0.5, 0.6, 0.6, 0.8, 0.7, 0.8, 0.4, 0.7]) #scores"
   ]
  },
  {
   "cell_type": "code",
   "execution_count": 47,
   "metadata": {},
   "outputs": [
    {
     "name": "stderr",
     "output_type": "stream",
     "text": [
      "100%|██████████| 105/105 [00:01<00:00, 52.63it/s]"
     ]
    },
    {
     "name": "stdout",
     "output_type": "stream",
     "text": [
      "105\n"
     ]
    },
    {
     "name": "stderr",
     "output_type": "stream",
     "text": [
      "\n"
     ]
    }
   ],
   "source": [
    "import os\n",
    "dirpath=os.path.join(DATA_DIR,'AU_Detection_Challenge/Validation_Set')\n",
    "ind=0\n",
    "test_videos={}\n",
    "for filename in tqdm(os.listdir(dirpath)):\n",
    "    fn, ext = os.path.splitext(os.path.basename(filename))\n",
    "    if ext.lower()=='.txt':\n",
    "        X,indices,y_true=[],[],[]\n",
    "        with open(os.path.join(dirpath,filename)) as f:\n",
    "            lines = f.read().splitlines()\n",
    "            prev_val=None\n",
    "            for i,line in enumerate(lines):\n",
    "                if i>0:\n",
    "                    splitted_line=line.split(',')\n",
    "                    aus=list(map(int,splitted_line))\n",
    "                    if min(aus)>=0:\n",
    "                        imagename=fn+'/'+get_names(i)+'.jpg'\n",
    "                        if imagename in filename2featuresAll:\n",
    "                            #X.append(y_val_preds[ind])\n",
    "                            X.append(y_ensemble[ind])\n",
    "                            indices.append(i)\n",
    "                            y_true.append(aus)\n",
    "                            ind+=1\n",
    "        test_videos[fn]=(np.array(X),indices,np.array(y_true))\n",
    "\n",
    "print(len(test_videos))"
   ]
  },
  {
   "cell_type": "code",
   "execution_count": 48,
   "metadata": {},
   "outputs": [
    {
     "name": "stdout",
     "output_type": "stream",
     "text": [
      "0 0.5416010326422609 [0.5676611738394397, 0.4719440992332404, 0.5806954646146671, 0.6309714712797007, 0.7478908380772189, 0.7497785404109547, 0.7328287978816668, 0.36167422545216105, 0.2014716750747084, 0.2457167508936275, 0.8284139005496169, 0.38016545440012783]\n",
      "3 0.5528112024399152 [0.579910441029606, 0.4827713694173321, 0.5948808207535107, 0.6405822164577029, 0.7580980856922936, 0.7599123206914424, 0.7460848493616405, 0.3835401855645259, 0.2075584405240731, 0.25345560871876666, 0.8383582181511984, 0.38858187291689067]\n",
      "5 0.5539261586365561 [0.5837142179668527, 0.4875051826165618, 0.5975835304105269, 0.6427864539332352, 0.7599265830529214, 0.7606266638337228, 0.7492707799365819, 0.3877104061072523, 0.19459881903438694, 0.25562372188139065, 0.8390952599935277, 0.3886722848717128]\n",
      "7 0.5535949604016204 [0.5849253385425288, 0.4882283846585976, 0.598285905999329, 0.6448600846562897, 0.7599842032661417, 0.7595888976089901, 0.7511314687032346, 0.38849568910050186, 0.18566489974648534, 0.25570935462501304, 0.8389007706147945, 0.38736452729753806]\n",
      "10 0.5520381951293492 [0.5858861132138953, 0.4892454940310541, 0.5994257991218105, 0.6482460916232402, 0.759585155205435, 0.756372892380047, 0.7512664871525717, 0.387801305100546, 0.16670789018055898, 0.25566701174454715, 0.8376924899312959, 0.38656161186718735]\n",
      "15 0.5485896969154594 [0.5841417558077643, 0.490353719184566, 0.5999332873067466, 0.6527151309237889, 0.7573808299873571, 0.7520911929027697, 0.7506394213580484, 0.3881010990534965, 0.13347055955798712, 0.2544073172530796, 0.8361106284048367, 0.38373142124507337]\n",
      "20 0.544495477255726 [0.5795117698343506, 0.48976701752474844, 0.5981893442045713, 0.6541919758011229, 0.7557591899601319, 0.749670466606761, 0.7492850597049978, 0.381527683454266, 0.10712428497139885, 0.25398981324278436, 0.8346107776372104, 0.3803183441263693]\n",
      "25 0.5397615003471172 [0.5744880108847383, 0.4898665964785903, 0.5965498227648681, 0.6533694734154343, 0.753253541293076, 0.7465471559839899, 0.7468233946013879, 0.3701172233858817, 0.08538945331398162, 0.25419145484045425, 0.8330960567314925, 0.3734458204715113]\n",
      "50 0.5235874148818092 [0.5477516616538561, 0.4722528969182973, 0.5837329908471656, 0.6478288219024891, 0.7410296021042962, 0.7346796810127376, 0.7345966239432269, 0.3321682535856334, 0.049862666384956685, 0.2529989094874591, 0.8276227775044217, 0.3585240932371694]\n"
     ]
    }
   ],
   "source": [
    "deltas=[0,3,5,7,10,15,20,25,50]\n",
    "total_true=[]\n",
    "total_preds=[[] for _ in range(len(deltas))]\n",
    "for videoname,(y_pred_aus,indices,y_true) in test_videos.items():\n",
    "    for i,ind in enumerate(indices):\n",
    "        if min(y_true[i])>=0:\n",
    "            total_true.append(y_true[i])\n",
    "    cur_ind=0\n",
    "    preds=[]\n",
    "    for i in range(indices[-1]):\n",
    "        if indices[cur_ind]-1==i:\n",
    "            preds.append(y_pred_aus[cur_ind])\n",
    "            cur_ind+=1\n",
    "        else:\n",
    "            if cur_ind==0:\n",
    "                preds.append(y_pred_aus[cur_ind])\n",
    "            else:\n",
    "                w=(i-indices[cur_ind-1]+1)/(indices[cur_ind]-indices[cur_ind-1])\n",
    "                pred=w*y_pred_aus[cur_ind-1]+(1-w)*y_pred_aus[cur_ind]\n",
    "                preds.append(pred)\n",
    "    \n",
    "    preds=np.array(preds)\n",
    "    for hInd,delta in enumerate(deltas):\n",
    "        cur_preds=[]\n",
    "        for i in range(len(preds)):\n",
    "            i1=max(i-delta,0)\n",
    "            pred=np.mean(preds[i1:i+delta+1],axis=0)\n",
    "            #aus=(pred>=thresholds)*1\n",
    "            aus=(pred>=0.5)*1\n",
    "            cur_preds.append(aus)\n",
    "        for i,ind in enumerate(indices):\n",
    "            if min(y_true[i])>=0:\n",
    "                total_preds[hInd].append(cur_preds[ind-1])\n",
    "    \n",
    "\n",
    "total_true=np.array(total_true)\n",
    "for hInd,delta in enumerate(deltas):\n",
    "    preds=np.array(total_preds[hInd])\n",
    "    f1scores=[f1_score(y_true=total_true[:,i],y_pred=preds[:,i]) for i in range(preds.shape[1])]\n",
    "    print(delta,np.mean(f1scores),f1scores)"
   ]
  },
  {
   "cell_type": "markdown",
   "metadata": {},
   "source": [
    "ensemble\n",
    "lama\n",
    "full\n",
    "0.5: 7 0.5427202485732338 [0.5622850736998378, 0.45635588056063375, 0.5834574644157564, 0.6499061984267667, 0.7627329722580009, 0.7617615138869782, 0.7543433571649475, 0.3409326700540023, 0.18967013888888887, 0.21496013713912548, 0.8455688622754491, 0.39066871410841625]\n",
    "thresholds: 5 0.5432475964435367 [0.5642816654171771, 0.4488306111494517, 0.5772163887845584, 0.6476236040168667, 0.7623334408840132, 0.7630356063335431, 0.7523382714481408, 0.33635214283871306, 0.20305710342007058, 0.2317432941496846, 0.8427327858772562, 0.3894262430029634]\n",
    "\n",
    "\n",
    "short:\n",
    "0.5:7 0.5427907663334933 [0.5630333621329938, 0.4562853520577336, 0.5832971546312185, 0.6500648776726781, 0.762558855052603, 0.7617918112209808, 0.7543074431890543, 0.3407990636803745, 0.19031610909288077, 0.21513900955690704, 0.845619942504259, 0.3902762152102369]\n",
    "thresholds:5 0.5431849232592929 [0.5644161684857127, 0.4485259171815352, 0.577370220195312, 0.647618422163638, 0.7621896595853596, 0.7629270079677626, 0.7524146096929171, 0.33580819798917244, 0.20416304403416355, 0.23122118774292688, 0.8427077480177311, 0.38885689605528356]\n",
    "\n",
    "scores:\n",
    "0.5:15 0.517485099031021 [0.5110772245768854, 0.3995639808872825, 0.5626289591177739, 0.6629337763450671, 0.7581380057840585, 0.7529381632332309, 0.7477873881122398, 0.24575849893564136, 0.18515073358420361, 0.19044676876002176, 0.836244169874346, 0.35715351916150173]\n",
    "thresholds:5 0.544937801517075 [0.5689467619638525, 0.46471474766984183, 0.5794526569042496, 0.6510396393236463, 0.7598485881695998, 0.7577554053313476, 0.752400073006023, 0.31074004906807284, 0.22262266385213406, 0.23435941759191542, 0.8465570983281383, 0.3908165169960802]"
   ]
  },
  {
   "cell_type": "markdown",
   "metadata": {},
   "source": [
    "### Smooth validation predictions"
   ]
  },
  {
   "cell_type": "code",
   "execution_count": 37,
   "metadata": {},
   "outputs": [
    {
     "name": "stderr",
     "output_type": "stream",
     "text": [
      "100%|██████████| 105/105 [00:25<00:00,  4.17it/s]"
     ]
    },
    {
     "name": "stdout",
     "output_type": "stream",
     "text": [
      "105\n"
     ]
    },
    {
     "name": "stderr",
     "output_type": "stream",
     "text": [
      "\n"
     ]
    }
   ],
   "source": [
    "data_dir=os.path.join(DATA_DIR,'faces')\n",
    "dirpath=os.path.join(DATA_DIR,'AU_Detection_Challenge/Validation_Set')\n",
    "test_videos={}\n",
    "for filename in tqdm(os.listdir(dirpath)):\n",
    "    fn, ext = os.path.splitext(os.path.basename(filename))\n",
    "    if ext.lower()=='.txt':\n",
    "        X,indices,y_true=[],[],[]\n",
    "        with open(os.path.join(dirpath,filename)) as f:\n",
    "            lines = f.read().splitlines()\n",
    "            prev_val=None\n",
    "            for i,line in enumerate(lines):\n",
    "                if i>0:\n",
    "                    imagename=fn+'/'+get_names(i)+'.jpg'\n",
    "                    if imagename in filename2featuresAll:\n",
    "                        X.append(filename2featuresAll[imagename][0])\n",
    "                        indices.append(i)\n",
    "                        splitted_line=line.split(',')\n",
    "                        aus=list(map(int,splitted_line))\n",
    "                        y_true.append(aus)\n",
    "        test_videos[fn]=(mlpModel.predict(np.array(X)),indices,np.array(y_true))\n",
    "print(len(test_videos))"
   ]
  },
  {
   "cell_type": "code",
   "execution_count": 32,
   "metadata": {},
   "outputs": [
    {
     "data": {
      "text/plain": [
       "array([0.8, 0.8, 0.8, 0.6, 0.6, 0.6, 0.6, 0.9, 0.8, 0.9, 0.3, 0.7])"
      ]
     },
     "execution_count": 32,
     "metadata": {},
     "output_type": "execute_result"
    }
   ],
   "source": [
    "thresholds"
   ]
  },
  {
   "cell_type": "code",
   "execution_count": 30,
   "metadata": {},
   "outputs": [
    {
     "name": "stdout",
     "output_type": "stream",
     "text": [
      "mean 0 0.524806956530541\n",
      "mean 2 0.5318321046837913\n",
      "median 2 0.5307851342641186\n",
      "mean 7 0.5309452680793919\n",
      "median 7 0.5353606647251313\n"
     ]
    }
   ],
   "source": [
    "hyperparams=[(isMean,delta) for delta in [0,2,7]  for isMean in [1,0] if not (isMean==0 and delta==0)]\n",
    "total_true=[]\n",
    "total_preds=[[] for _ in range(len(hyperparams))]\n",
    "for videoname,(y_pred_aus,indices,y_true) in test_videos.items():\n",
    "    for i,ind in enumerate(indices):\n",
    "        if min(y_true[i])>=0:\n",
    "            total_true.append(y_true[i])\n",
    "    cur_ind=0\n",
    "    preds=[]\n",
    "    for i in range(indices[-1]):\n",
    "        if indices[cur_ind]-1==i:\n",
    "            preds.append(y_pred_aus[cur_ind])\n",
    "            cur_ind+=1\n",
    "        else:\n",
    "            if cur_ind==0:\n",
    "                preds.append(y_pred_aus[cur_ind])\n",
    "            else:\n",
    "                w=(i-indices[cur_ind-1]+1)/(indices[cur_ind]-indices[cur_ind-1])\n",
    "                pred=w*y_pred_aus[cur_ind-1]+(1-w)*y_pred_aus[cur_ind]\n",
    "                preds.append(pred)\n",
    "    \n",
    "    preds=np.array(preds)\n",
    "    for hInd,(isMean,delta) in enumerate(hyperparams):\n",
    "        cur_preds=[]\n",
    "        for i in range(len(preds)):\n",
    "            i1=max(i-delta,0)\n",
    "            if isMean:\n",
    "                pred=np.mean(preds[i1:i+delta+1],axis=0)\n",
    "            else:\n",
    "                pred=np.median(preds[i1:i+delta+1],axis=0)\n",
    "            aus=(pred>=thresholds)*1\n",
    "            cur_preds.append(aus)\n",
    "        for i,ind in enumerate(indices):\n",
    "            if min(y_true[i])>=0:\n",
    "                total_preds[hInd].append(cur_preds[ind-1])\n",
    "\n",
    "total_true=np.array(total_true)\n",
    "for hInd,(isMean,delta) in enumerate(hyperparams):\n",
    "    preds=np.array(total_preds[hInd])\n",
    "    print('mean' if isMean else 'median',delta,np.mean([f1_score(y_true=total_true[:,i],y_pred=preds[:,i]) for i in range(preds.shape[1])]))\n"
   ]
  },
  {
   "cell_type": "code",
   "execution_count": 38,
   "metadata": {},
   "outputs": [
    {
     "name": "stdout",
     "output_type": "stream",
     "text": [
      "0 0.5367145284583944 [0.5643865382761913, 0.47163506664163696, 0.5720788851524985, 0.6167715525660951, 0.7481891822104622, 0.7453459491425192, 0.7194202822032445, 0.35743029196038706, 0.1936018353301045, 0.24140213944736752, 0.8368071098332, 0.37350550873702587]\n",
      "3 0.5456568248392965 [0.5674285557114173, 0.47954985800355654, 0.5847582276153704, 0.6280900760667186, 0.7568499180944555, 0.7563628582636914, 0.730513605990577, 0.3764893278114049, 0.19621683784748384, 0.24640049809323683, 0.8441518388609688, 0.38107029571267775]\n",
      "5 0.5453739302190261 [0.5657975774994868, 0.48083283630645773, 0.585573303174431, 0.6316280153828225, 0.758441128845092, 0.7566440885600956, 0.7331032058619416, 0.37811175847457634, 0.18319553266092375, 0.24745175456266874, 0.8443020458426168, 0.37940591545719965]\n",
      "7 0.5445119128957571 [0.5608856788087317, 0.48035608472170543, 0.5852735306768857, 0.6356666291677845, 0.7593075924360897, 0.7553905469084677, 0.7336282104100361, 0.37789685654800503, 0.17457900807381777, 0.24949983327775926, 0.8436271056879239, 0.37803187803187804]\n",
      "10 0.5416391816305005 [0.5536061247571267, 0.4781175144427223, 0.5844450595073346, 0.6388744228031802, 0.7587162219759611, 0.7537906868042716, 0.7336720512177897, 0.37462364067868653, 0.15719228868017796, 0.2502683900888908, 0.8422396572735154, 0.37412412133634854]\n",
      "15 0.5349712162447015 [0.5369723204003019, 0.47098611091037845, 0.5814611255745187, 0.642444354441846, 0.757447193836107, 0.7510888410917606, 0.731626208575431, 0.36889102967875803, 0.12419215855234814, 0.24533786503286972, 0.8399887018169164, 0.36921868502518135]\n",
      "20 0.5294193258656613 [0.5239654176337635, 0.4650310375406444, 0.5781963516780491, 0.6447642367976535, 0.7556429175599402, 0.7482370458606314, 0.7284599045798875, 0.36176087123245654, 0.09939101459266919, 0.24514585442164352, 0.8384024305571737, 0.3640348279334242]\n",
      "25 0.5234582906500872 [0.5102743965339386, 0.4577631956939173, 0.57358185966444, 0.6468365722681874, 0.7538473814400085, 0.7453365822852683, 0.7260954507396036, 0.3503164556962025, 0.08060331825037707, 0.24310068757652822, 0.8371963493067922, 0.35654723834578306]\n",
      "50 0.5008177570051234 [0.4520388434836101, 0.42419829789988023, 0.5473778205172236, 0.6483403773718368, 0.744024364964202, 0.7334021245757707, 0.7102284880432354, 0.30636065573770493, 0.042986425339366516, 0.23424820385589495, 0.8325120818000162, 0.33409540047274]\n"
     ]
    }
   ],
   "source": [
    "deltas=[0,3,5,7,10,15,20,25,50]\n",
    "total_true=[]\n",
    "total_preds=[[] for _ in range(len(deltas))]\n",
    "for videoname,(y_pred_aus,indices,y_true) in test_videos.items():\n",
    "    for i,ind in enumerate(indices):\n",
    "        if min(y_true[i])>=0:\n",
    "            total_true.append(y_true[i])\n",
    "    cur_ind=0\n",
    "    preds=[]\n",
    "    for i in range(indices[-1]):\n",
    "        if indices[cur_ind]-1==i:\n",
    "            preds.append(y_pred_aus[cur_ind])\n",
    "            cur_ind+=1\n",
    "        else:\n",
    "            if cur_ind==0:\n",
    "                preds.append(y_pred_aus[cur_ind])\n",
    "            else:\n",
    "                w=(i-indices[cur_ind-1]+1)/(indices[cur_ind]-indices[cur_ind-1])\n",
    "                pred=w*y_pred_aus[cur_ind-1]+(1-w)*y_pred_aus[cur_ind]\n",
    "                preds.append(pred)\n",
    "    \n",
    "    preds=np.array(preds)\n",
    "    for hInd,delta in enumerate(deltas):\n",
    "        cur_preds=[]\n",
    "        for i in range(len(preds)):\n",
    "            i1=max(i-delta,0)\n",
    "            pred=np.mean(preds[i1:i+delta+1],axis=0)\n",
    "            aus=(pred>=thresholds)*1\n",
    "            #aus=(pred>=0.5)*1\n",
    "            cur_preds.append(aus)\n",
    "        for i,ind in enumerate(indices):\n",
    "            if min(y_true[i])>=0:\n",
    "                total_preds[hInd].append(cur_preds[ind-1])\n",
    "    \n",
    "\n",
    "total_true=np.array(total_true)\n",
    "for hInd,delta in enumerate(deltas):\n",
    "    preds=np.array(total_preds[hInd])\n",
    "    f1scores=[f1_score(y_true=total_true[:,i],y_pred=preds[:,i]) for i in range(preds.shape[1])]\n",
    "    print(delta,np.mean(f1scores),f1scores)"
   ]
  },
  {
   "cell_type": "markdown",
   "metadata": {},
   "source": [
    "### Save test results"
   ]
  },
  {
   "cell_type": "code",
   "execution_count": 26,
   "metadata": {},
   "outputs": [
    {
     "name": "stdout",
     "output_type": "stream",
     "text": [
      "729737 ['image_location,AU1,AU2,AU4,AU6,AU7,AU10,AU12,AU15,AU23,AU24,AU25,AU26', '2-30-640x360/00001.jpg,', '2-30-640x360/00002.jpg,', '2-30-640x360/00003.jpg,', '2-30-640x360/00004.jpg,']\n",
      "141\n"
     ]
    }
   ],
   "source": [
    "with open(os.path.join(DATA_DIR,'test_set','CVPR_5th_ABAW_AU_test_set_sample.txt'),'r') as f:\n",
    "    test_set_sample=f.read().splitlines()\n",
    "print(len(test_set_sample),test_set_sample[:5])\n",
    "\n",
    "test_set_videos={}\n",
    "for s in test_set_sample[1:]:\n",
    "    videoname,img_name=s[:-1].split('/')\n",
    "    if videoname not in test_set_videos:\n",
    "        test_set_videos[videoname]=[]\n",
    "    test_set_videos[videoname].append(img_name)\n",
    "    \n",
    "print(len(test_set_videos))\n"
   ]
  },
  {
   "cell_type": "code",
   "execution_count": 38,
   "metadata": {},
   "outputs": [
    {
     "name": "stderr",
     "output_type": "stream",
     "text": [
      "100%|██████████| 141/141 [00:34<00:00,  4.04it/s]"
     ]
    },
    {
     "name": "stdout",
     "output_type": "stream",
     "text": [
      "141\n"
     ]
    },
    {
     "name": "stderr",
     "output_type": "stream",
     "text": [
      "\n"
     ]
    }
   ],
   "source": [
    "test_videos={}\n",
    "test_videos_num_frames={}\n",
    "for videoname,img_files in tqdm(test_set_videos.items()):\n",
    "    X,indices,filenames=[],[],[]\n",
    "    num_present=num_missed=0\n",
    "    for img_name in img_files:\n",
    "        k=videoname+'/'+img_name\n",
    "        if k in filename2featuresAll:\n",
    "            X.append(filename2featuresAll[k][0])\n",
    "            indices.append(int(img_name[:-4]))\n",
    "            filenames.append(k)\n",
    "            num_present+=1\n",
    "        else:\n",
    "            num_missed+=1\n",
    "    X=np.array(X)\n",
    "    test_videos[videoname]=(mlpModel.predict(X),indices,filenames)\n",
    "    test_videos_num_frames[videoname]=(num_present,num_missed)\n",
    "print(len(test_videos))\n"
   ]
  },
  {
   "cell_type": "code",
   "execution_count": 23,
   "metadata": {},
   "outputs": [
    {
     "name": "stdout",
     "output_type": "stream",
     "text": [
      "{'2-30-640x360': (19347, 6), '3-25-1920x1080': (6189, 0), '6-30-1920x1080_left': (7672, 314), '6-30-1920x1080_right': (7984, 2), '11-24-1920x1080': (5302, 88), '14-30-1920x1080': (5311, 0), '27-60-1280x720': (2933, 0), '32-60-1920x1080': (4460, 0), '36-24-1280x720': (5124, 137), '38-30-1920x1080': (2401, 31), '40-30-1280x720': (8767, 893), '42-30-480x480': (1395, 0), '55-25-1280x720': (1476, 30), '56-30-1080x1920': (4168, 133), '58-30-640x480': (2843, 34), '62-30-654x480': (12034, 0), '70-30-720x1280': (2781, 3), '74-25-1920x1080': (5042, 0), '80-30-320x240': (5674, 0), '88-30-360x480': (3658, 65), '91-30-1920x1080': (10779, 143), '102-30-640x360': (2979, 5), '102': (4508, 270), '103-30-384x480': (772, 0), '103': (26551, 67), '105-30-1280x720': (1479, 23), '108-15-640x480': (466, 13), '109-30-1280x720': (1046, 0), '119': (4578, 0), '128-24-1920x1080': (3794, 19), '130-25-1280x720_left': (8086, 376), '130-25-1280x720_right': (8462, 0), '130': (4002, 0), '133-30-1280x720': (2401, 3), '134-30-1280x720': (3681, 194), '137-30-1920x1080': (8503, 50), '139': (7100, 1066), '147': (19406, 289), '159': (3366, 93), '164': (7044, 0), '165': (4350, 218), '171': (3931, 46), '194': (4537, 0), '197': (1784, 86), '199': (2850, 68), '204': (5879, 46), '209': (2455, 401), '212': (4140, 422), '219': (3576, 315), '234': (2905, 14), '239': (1964, 0), '241': (3512, 0), '244': (2286, 35), '265': (6691, 28), '266': (2465, 0), '267': (3841, 0), '268': (4364, 2), '270': (3935, 2), '274': (3526, 0), '281': (7011, 0), '284': (4054, 0), '286': (2678, 0), '289': (4203, 0), '303': (3897, 53), '304': (2694, 0), '307': (3311, 0), '311': (1930, 0), '313': (3140, 0), '322': (2429, 0), '336': (4344, 0), '344': (4263, 0), '349': (4054, 0), '353': (2775, 81), '357': (1373, 0), '358': (324, 0), '365': (1067, 0), '367': (4169, 0), '370': (1939, 0), '375': (2947, 10), '380': (2288, 87), '381': (1265, 0), '382': (2713, 0), '408': (2978, 0), '416': (6509, 3), '434': (5233, 0), '439': (2308, 0), '450': (9820, 87), 'video2': (1778, 287), 'video2_left': (144, 1921), 'video3': (7802, 0), 'video4': (1072, 479), 'video6': (4620, 705), 'video7': (3027, 351), 'video8': (5256, 112), 'video9': (3773, 22), 'video11': (4132, 248), 'video12': (5580, 0), 'video13': (10551, 16), 'video14': (7583, 3), 'video15': (4288, 0), 'video16': (12486, 1), 'video17': (21938, 0), 'video18': (3784, 0), 'video19': (775, 10), 'video20': (11272, 0), 'video21': (6787, 22), 'video22': (10458, 12), 'video23': (8783, 7), 'video24': (5202, 3), 'video25': (3641, 4), 'video26': (11021, 0), 'video27': (16410, 9), 'video28': (8728, 0), 'video30': (8209, 5), 'video32': (2751, 25), 'video33': (7538, 16), 'video34': (10262, 20), 'video35': (3568, 0), 'video36': (2386, 39), 'video37': (8820, 367), 'video38': (2936, 9), 'video39': (10671, 8), 'video40': (5877, 0), 'video41': (3466, 29), 'video42': (9217, 10), 'video44': (7778, 8), 'video45_1': (805, 8), 'video45_2': (1096, 0), 'video45_3': (295, 0), 'video45_4': (1039, 0), 'video45_5': (415, 0), 'video45_6': (309, 0), 'video45_7': (180, 0), 'video46': (3167, 6), 'video47': (812, 9), 'video48': (2532, 11), 'video49_left': (6109, 13), 'video49_right': (6071, 51), 'video51': (4406, 2), 'video52': (10671, 9), 'video53': (7967, 13)}\n"
     ]
    }
   ],
   "source": [
    "print(test_videos_num_frames)"
   ]
  },
  {
   "cell_type": "code",
   "execution_count": 28,
   "metadata": {},
   "outputs": [],
   "source": [
    "delta=5\n",
    "resdir=os.path.join(DATA_DIR,'test_set/test_results/AU')\n",
    "if not os.path.exists(resdir):\n",
    "    os.makedirs(resdir)"
   ]
  },
  {
   "cell_type": "code",
   "execution_count": 39,
   "metadata": {},
   "outputs": [],
   "source": [
    "def write_au_results(res_filename):\n",
    "    with open(os.path.join(resdir,res_filename), 'w') as f:\n",
    "        f.write(test_set_sample[0]+'\\n')\n",
    "        for videoname,(y_pred_au,indices,filenames) in test_videos.items():\n",
    "            cur_ind=0\n",
    "            preds=[]\n",
    "            for i in range(indices[-1]):\n",
    "                if indices[cur_ind]-1==i:\n",
    "                    preds.append(y_pred_au[cur_ind])\n",
    "                    cur_ind+=1\n",
    "                else:\n",
    "                    if cur_ind==0:\n",
    "                        preds.append(y_pred_au[cur_ind])\n",
    "                    else:\n",
    "                        w=(i-indices[cur_ind-1]+1)/(indices[cur_ind]-indices[cur_ind-1])\n",
    "                        pred=w*y_pred_au[cur_ind-1]+(1-w)*y_pred_au[cur_ind]\n",
    "                        preds.append(pred)\n",
    "\n",
    "            pred=y_pred_au[cur_ind-1]\n",
    "            for _ in range(indices[-1],len(test_set_videos[videoname])):\n",
    "                preds.append(pred)\n",
    "\n",
    "            preds=np.array(preds)\n",
    "            for i,img_name in enumerate(test_set_videos[videoname]):\n",
    "                i1=max(i-delta,0)\n",
    "                pred=np.mean(preds[i1:i+delta+1],axis=0)\n",
    "                aus=(pred>=thresholds)*1\n",
    "                f.write(videoname+'/'+img_name+','+','.join(map(str,aus))+'\\n')\n"
   ]
  },
  {
   "cell_type": "code",
   "execution_count": 41,
   "metadata": {},
   "outputs": [],
   "source": [
    "#res_filename='predictions_1_mt_mlp.txt'\n",
    "#res_filename='predictions_2_vgaf_mlp.txt'\n",
    "res_filename='predictions_5_vgaf_mlp_train_val.txt'\n",
    "write_au_results(res_filename)"
   ]
  },
  {
   "cell_type": "markdown",
   "metadata": {},
   "source": [
    "--------------------"
   ]
  },
  {
   "cell_type": "code",
   "execution_count": 28,
   "metadata": {},
   "outputs": [],
   "source": [
    "test_videos_mt=test_videos"
   ]
  },
  {
   "cell_type": "code",
   "execution_count": 40,
   "metadata": {},
   "outputs": [
    {
     "name": "stdout",
     "output_type": "stream",
     "text": [
      "0.6 [0.7 0.8 0.7 0.5 0.5 0.5 0.6 0.8 0.7 0.8 0.3 0.6]\n"
     ]
    }
   ],
   "source": [
    "print(weight,thresholds)\n",
    "with open(os.path.join(resdir,'predictions_3_mt_vgaf.txt'), 'w') as f:\n",
    "    f.write(test_set_sample[0]+'\\n')\n",
    "    for videoname,(y_pred_au,indices,filenames) in test_videos.items():\n",
    "        cur_ind=0\n",
    "        preds=[]\n",
    "        y_pred_au_mtl,_,_=test_videos_mt[videoname]\n",
    "        y_ensemble=weight*y_pred_au+(1-weight)*y_pred_au_mtl\n",
    "        for i in range(indices[-1]):\n",
    "            if indices[cur_ind]-1==i:\n",
    "                preds.append(y_ensemble[cur_ind])\n",
    "                cur_ind+=1\n",
    "            else:\n",
    "                if cur_ind==0:\n",
    "                    preds.append(y_ensemble[cur_ind])\n",
    "                else:\n",
    "                    w=(i-indices[cur_ind-1]+1)/(indices[cur_ind]-indices[cur_ind-1])\n",
    "                    pred=w*y_ensemble[cur_ind-1]+(1-w)*y_ensemble[cur_ind]\n",
    "                    preds.append(pred)\n",
    "\n",
    "        pred=y_ensemble[cur_ind-1]\n",
    "        for _ in range(indices[-1],len(test_set_videos[videoname])):\n",
    "            preds.append(pred)\n",
    "\n",
    "        preds=np.array(preds)\n",
    "        for i,img_name in enumerate(test_set_videos[videoname]):\n",
    "            i1=max(i-delta,0)\n",
    "            pred=np.mean(preds[i1:i+delta+1],axis=0)\n",
    "            aus=(pred>=thresholds)*1\n",
    "            f.write(videoname+'/'+img_name+','+','.join(map(str,aus))+'\\n')"
   ]
  },
  {
   "cell_type": "markdown",
   "metadata": {},
   "source": [
    "--------------"
   ]
  },
  {
   "cell_type": "code",
   "execution_count": 29,
   "metadata": {},
   "outputs": [
    {
     "name": "stderr",
     "output_type": "stream",
     "text": [
      "100%|██████████| 141/141 [01:33<00:00,  1.50it/s]"
     ]
    },
    {
     "name": "stdout",
     "output_type": "stream",
     "text": [
      "141\n"
     ]
    },
    {
     "name": "stderr",
     "output_type": "stream",
     "text": [
      "\n"
     ]
    }
   ],
   "source": [
    "test_videos_lama={}\n",
    "for videoname,img_files in tqdm(test_set_videos.items()):\n",
    "    X,indices,filenames=[],[],[]\n",
    "    for img_name in img_files:\n",
    "        k=videoname+'/'+img_name\n",
    "        if k in filename2featuresAll:\n",
    "            X.append(filename2featuresAll[k][1])\n",
    "            indices.append(int(img_name[:-4]))\n",
    "            filenames.append(k)\n",
    "    X=np.array(X)\n",
    "    df_test=pd.DataFrame(data=X,columns=['f'+str(i) for i in range(X.shape[1])])\n",
    "    test_videos_lama[videoname]=automl.predict(df_test).data\n",
    "\n",
    "print(len(test_videos_lama))"
   ]
  },
  {
   "cell_type": "code",
   "execution_count": 30,
   "metadata": {},
   "outputs": [],
   "source": [
    "weight=0.6\n",
    "\n",
    "with open(os.path.join(resdir,'predictions_4_vgaf_lama.txt'), 'w') as f:\n",
    "    f.write(test_set_sample[0]+'\\n')\n",
    "    for videoname,(y_pred_au,indices,filenames) in test_videos.items():\n",
    "        cur_ind=0\n",
    "        preds=[]\n",
    "        y_pred_au_lama=test_videos_lama[videoname]\n",
    "        y_ensemble=weight*y_pred_au+(1-weight)*y_pred_au_lama\n",
    "        for i in range(indices[-1]):\n",
    "            if indices[cur_ind]-1==i:\n",
    "                preds.append(y_ensemble[cur_ind])\n",
    "                cur_ind+=1\n",
    "            else:\n",
    "                if cur_ind==0:\n",
    "                    preds.append(y_ensemble[cur_ind])\n",
    "                else:\n",
    "                    w=(i-indices[cur_ind-1]+1)/(indices[cur_ind]-indices[cur_ind-1])\n",
    "                    pred=w*y_ensemble[cur_ind-1]+(1-w)*y_ensemble[cur_ind]\n",
    "                    preds.append(pred)\n",
    "\n",
    "        pred=y_ensemble[cur_ind-1]\n",
    "        for _ in range(indices[-1],len(test_set_videos[videoname])):\n",
    "            preds.append(pred)\n",
    "\n",
    "        preds=np.array(preds)\n",
    "        for i,img_name in enumerate(test_set_videos[videoname]):\n",
    "            i1=max(i-delta,0)\n",
    "            pred=np.mean(preds[i1:i+delta+1],axis=0)\n",
    "            aus=(pred>=0.5)*1\n",
    "            f.write(videoname+'/'+img_name+','+','.join(map(str,aus))+'\\n')"
   ]
  },
  {
   "cell_type": "code",
   "execution_count": 22,
   "metadata": {},
   "outputs": [],
   "source": []
  }
 ],
 "metadata": {
  "kernelspec": {
   "display_name": "Python 3",
   "language": "python",
   "name": "python3"
  },
  "language_info": {
   "codemirror_mode": {
    "name": "ipython",
    "version": 3
   },
   "file_extension": ".py",
   "mimetype": "text/x-python",
   "name": "python",
   "nbconvert_exporter": "python",
   "pygments_lexer": "ipython3",
   "version": "3.8.10"
  }
 },
 "nbformat": 4,
 "nbformat_minor": 2
}
