{
 "cells": [
  {
   "cell_type": "code",
   "execution_count": 1,
   "metadata": {},
   "outputs": [
    {
     "name": "stdout",
     "output_type": "stream",
     "text": [
      "env: CUDA_VISIBLE_DEVICES=0\n"
     ]
    }
   ],
   "source": [
    "%env CUDA_VISIBLE_DEVICES=0"
   ]
  },
  {
   "cell_type": "code",
   "execution_count": 2,
   "metadata": {},
   "outputs": [],
   "source": [
    "DATA_DIR = '/home/HDD6TB/datasets/emotions/ABAW/ABAW_6/6th_ABAW_Annotations'"
   ]
  },
  {
   "cell_type": "code",
   "execution_count": 3,
   "metadata": {},
   "outputs": [],
   "source": [
    "import os\n",
    "from PIL import Image\n",
    "import cv2\n",
    "import pathlib\n",
    "\n",
    "from sklearn.model_selection import train_test_split\n",
    "from sklearn import preprocessing\n",
    "from sklearn import svm\n",
    "from sklearn.ensemble import RandomForestClassifier,RandomForestRegressor\n",
    "from sklearn import svm,metrics,preprocessing\n",
    "from sklearn.neighbors import KNeighborsClassifier\n",
    "from sklearn.decomposition import PCA\n",
    "from sklearn.pipeline import Pipeline\n",
    "from sklearn.metrics import precision_score, recall_score, accuracy_score, f1_score,roc_auc_score,average_precision_score\n",
    "import mord\n",
    "\n",
    "from collections import defaultdict\n",
    "import os\n",
    "import glob\n",
    "import gc\n",
    "import random\n",
    "import numpy as np\n",
    "from tqdm import tqdm\n",
    "import time\n",
    "import pickle\n",
    "import pandas as pd\n",
    "import random\n",
    "import csv  \n",
    "import matplotlib.pyplot as plt"
   ]
  },
  {
   "cell_type": "code",
   "execution_count": 4,
   "metadata": {},
   "outputs": [],
   "source": [
    "def get_names(id):\n",
    "    name = \"\"\n",
    "    if id>=0 and id<10:\n",
    "        name = \"0000\" + str(id)\n",
    "    elif id>=10 and id<100:\n",
    "        name = \"000\" + str(id)\n",
    "    elif id>=100 and id<1000:\n",
    "        name = \"00\" + str(id)\n",
    "    elif id>=1000 and id<10000:\n",
    "        name = \"0\" + str(id)\n",
    "    else:\n",
    "        name = str(id)\n",
    "    return name"
   ]
  },
  {
   "cell_type": "code",
   "execution_count": 5,
   "metadata": {},
   "outputs": [],
   "source": [
    "compare_filenames=lambda x: int(os.path.splitext(x)[0])"
   ]
  },
  {
   "cell_type": "markdown",
   "metadata": {},
   "source": [
    "## PyTorch"
   ]
  },
  {
   "cell_type": "code",
   "execution_count": 6,
   "metadata": {},
   "outputs": [
    {
     "name": "stdout",
     "output_type": "stream",
     "text": [
      "Torch: 2.0.1+cu118\n",
      "True\n"
     ]
    }
   ],
   "source": [
    "import glob\n",
    "from itertools import chain\n",
    "import os\n",
    "import random\n",
    "import zipfile\n",
    "\n",
    "import matplotlib.pyplot as plt\n",
    "import numpy as np\n",
    "import pandas as pd\n",
    "import torch\n",
    "import torch.nn as nn\n",
    "import torch.nn.functional as F\n",
    "import torch.optim as optim\n",
    "from PIL import Image\n",
    "from sklearn.model_selection import train_test_split\n",
    "from torch.optim.lr_scheduler import StepLR\n",
    "from torch.utils.data import DataLoader, Dataset\n",
    "from torchvision import datasets, transforms\n",
    "from tqdm.notebook import tqdm\n",
    "\n",
    "print(f\"Torch: {torch.__version__}\")\n",
    "device = 'cuda'\n",
    "use_cuda = torch.cuda.is_available()\n",
    "print(use_cuda)"
   ]
  },
  {
   "cell_type": "code",
   "execution_count": 7,
   "metadata": {},
   "outputs": [],
   "source": [
    "#num_classes=7\n",
    "if True:\n",
    "    #PATH='affectnet_vggface2_enet2_gmp_smooth.pt'\n",
    "    PATH='enet_b2_8_best.pt'\n",
    "    #PATH='enet_b2_7.pt'\n",
    "    IMG_SIZE=260 #224 #\n",
    "else:\n",
    "    #PATH='affectnet_vggface2_enet0.pt'\n",
    "    #PATH='affectnet_vggface2_enet0_new.pt'\n",
    "    #PATH='enet_b0_7.pt'\n",
    "    #PATH='enet_b0_8_best_afew.pt'\n",
    "    #PATH='enet_b0_8_best_vgaf.pt'\n",
    "    PATH='mobilevit_mtl_new.pt'\n",
    "    \n",
    "    #PATH='enet_b0_8_va_mtl.pt'\n",
    "    IMG_SIZE=224\n",
    "    \n",
    "#IMG_SIZE=112\n",
    "\n",
    "test_transforms = transforms.Compose(\n",
    "    [\n",
    "        transforms.Resize((IMG_SIZE,IMG_SIZE)),\n",
    "        #transforms.RandomHorizontalFlip(),\n",
    "        transforms.ToTensor(),\n",
    "        transforms.Normalize(mean=[0.485, 0.456, 0.406],\n",
    "                                     std=[0.229, 0.224, 0.225])\n",
    "    ]\n",
    ")\n",
    "np_transforms = transforms.Compose(\n",
    "    [\n",
    "        transforms.ToPILImage(None),\n",
    "        transforms.Resize((IMG_SIZE,IMG_SIZE)),\n",
    "        #transforms.RandomHorizontalFlip(),\n",
    "        transforms.ToTensor(),\n",
    "        transforms.Normalize(mean=[0.485, 0.456, 0.406],\n",
    "                                     std=[0.229, 0.224, 0.225])\n",
    "    ]\n",
    ")\n"
   ]
  },
  {
   "cell_type": "code",
   "execution_count": 7,
   "metadata": {},
   "outputs": [],
   "source": [
    "if False:\n",
    "    PATH='mbf_mtl.pt'\n",
    "    \n",
    "    IMG_SIZE=112\n",
    "    \n",
    "    test_transforms = transforms.Compose(\n",
    "    [\n",
    "        transforms.Resize((112,112)),\n",
    "        #transforms.RandomHorizontalFlip(),\n",
    "        transforms.ToTensor(),\n",
    "        transforms.Normalize(mean=[0.5, 0.5, 0.5],std=[0.5, 0.5, 0.5])\n",
    "    ]\n",
    "    )\n",
    "    \n",
    "    import sys\n",
    "    import os\n",
    "    FILE_DIR = pathlib.Path(__file__).parent.resolve()\n",
    "    path_to_backbones = os.path.join(FILE_DIR, \"..\", \"..\", \"..\", \"emotiefflib\", \"backbones\")\n",
    "    if path_to_backbones not in sys.path:\n",
    "        sys.path.append(path_to_backbones)\n",
    "    import mobilefacenet"
   ]
  },
  {
   "cell_type": "code",
   "execution_count": 12,
   "metadata": {},
   "outputs": [
    {
     "name": "stdout",
     "output_type": "stream",
     "text": [
      "enet_b2_8_best.pt\n"
     ]
    }
   ],
   "source": [
    "print(PATH)\n",
    "feature_extractor_model = torch.load('/home/avsavchenko/src/face-emotion-recognition/models/affectnet_emotions/'+PATH)"
   ]
  },
  {
   "cell_type": "code",
   "execution_count": 7,
   "metadata": {},
   "outputs": [],
   "source": [
    "if True:\n",
    "    IMG_SIZE=112\n",
    "    \n",
    "    test_transforms = transforms.Compose([\n",
    "        transforms.Resize((IMG_SIZE, IMG_SIZE)),\n",
    "        transforms.ToTensor(),\n",
    "        transforms.Normalize(mean=[0.485, 0.456, 0.406],\n",
    "                                 std=[0.229, 0.224, 0.225])])  \n",
    "    \n",
    "    import sys\n",
    "    DDAMNFN_PATH='/home/avsavchenko/src/distr/DDAMFN'\n",
    "    sys.path.append(DDAMNFN_PATH)\n",
    "    from networks.DDAM import DDAMNet\n",
    "\n",
    "    if False:\n",
    "        feature_extractor_model = DDAMNet(num_class=8, num_head=2)\n",
    "        model_name='affectnet8_epoch4_acc0.6462'\n",
    "    else:\n",
    "        feature_extractor_model = DDAMNet(num_class=10, num_head=2)\n",
    "        model_name='affectnet8_epoch9_acc0.642_mtl_2'\n",
    "    feature_extractor_model.load_state_dict(torch.load(DDAMNFN_PATH+'/checkpoints/'+model_name+'.pth')['model_state_dict'])\n",
    "    feature_extractor_model.bn=torch.nn.Identity()\n",
    "    "
   ]
  },
  {
   "cell_type": "code",
   "execution_count": 8,
   "metadata": {},
   "outputs": [
    {
     "data": {
      "text/plain": [
       "DDAMNet(\n",
       "  (features): Sequential(\n",
       "    (0): Conv_block(\n",
       "      (conv): Conv2d(3, 64, kernel_size=(3, 3), stride=(2, 2), padding=(1, 1), bias=False)\n",
       "      (bn): BatchNorm2d(64, eps=1e-05, momentum=0.1, affine=True, track_running_stats=True)\n",
       "      (prelu): PReLU(num_parameters=64)\n",
       "    )\n",
       "    (1): Conv_block(\n",
       "      (conv): Conv2d(64, 64, kernel_size=(3, 3), stride=(1, 1), padding=(1, 1), groups=64, bias=False)\n",
       "      (bn): BatchNorm2d(64, eps=1e-05, momentum=0.1, affine=True, track_running_stats=True)\n",
       "      (prelu): PReLU(num_parameters=64)\n",
       "    )\n",
       "    (2): Mix_Depth_Wise(\n",
       "      (conv): Conv_block(\n",
       "        (conv): Conv2d(64, 128, kernel_size=(1, 1), stride=(1, 1), bias=False)\n",
       "        (bn): BatchNorm2d(128, eps=1e-05, momentum=0.1, affine=True, track_running_stats=True)\n",
       "        (prelu): PReLU(num_parameters=128)\n",
       "      )\n",
       "      (conv_dw): MDConv(\n",
       "        (mixed_depthwise_conv): ModuleList(\n",
       "          (0): Conv2d(64, 64, kernel_size=(3, 3), stride=(2, 2), padding=(1, 1), groups=64, bias=False)\n",
       "          (1): Conv2d(32, 32, kernel_size=(5, 5), stride=(2, 2), padding=(2, 2), groups=32, bias=False)\n",
       "          (2): Conv2d(32, 32, kernel_size=(7, 7), stride=(2, 2), padding=(3, 3), groups=32, bias=False)\n",
       "        )\n",
       "        (bn): BatchNorm2d(128, eps=1e-05, momentum=0.1, affine=True, track_running_stats=True)\n",
       "        (prelu): PReLU(num_parameters=128)\n",
       "      )\n",
       "      (CA): CoordAtt(\n",
       "        (pool_h): AdaptiveAvgPool2d(output_size=(None, 1))\n",
       "        (pool_w): AdaptiveAvgPool2d(output_size=(1, None))\n",
       "        (conv1): Conv2d(128, 8, kernel_size=(1, 1), stride=(1, 1))\n",
       "        (bn1): BatchNorm2d(8, eps=1e-05, momentum=0.1, affine=True, track_running_stats=True)\n",
       "        (conv2): Conv2d(8, 128, kernel_size=(1, 1), stride=(1, 1))\n",
       "        (conv3): Conv2d(8, 128, kernel_size=(1, 1), stride=(1, 1))\n",
       "        (relu): h_swish(\n",
       "          (sigmoid): h_sigmoid(\n",
       "            (relu): ReLU6(inplace=True)\n",
       "          )\n",
       "        )\n",
       "      )\n",
       "      (project): Linear_block(\n",
       "        (conv): Conv2d(128, 64, kernel_size=(1, 1), stride=(1, 1), bias=False)\n",
       "        (bn): BatchNorm2d(64, eps=1e-05, momentum=0.1, affine=True, track_running_stats=True)\n",
       "      )\n",
       "    )\n",
       "    (3): Mix_Residual(\n",
       "      (model): Sequential(\n",
       "        (0): Mix_Depth_Wise(\n",
       "          (conv): Conv_block(\n",
       "            (conv): Conv2d(64, 128, kernel_size=(1, 1), stride=(1, 1), bias=False)\n",
       "            (bn): BatchNorm2d(128, eps=1e-05, momentum=0.1, affine=True, track_running_stats=True)\n",
       "            (prelu): PReLU(num_parameters=128)\n",
       "          )\n",
       "          (conv_dw): MDConv(\n",
       "            (mixed_depthwise_conv): ModuleList(\n",
       "              (0): Conv2d(96, 96, kernel_size=(3, 3), stride=(1, 1), padding=(1, 1), groups=96, bias=False)\n",
       "              (1): Conv2d(32, 32, kernel_size=(5, 5), stride=(1, 1), padding=(2, 2), groups=32, bias=False)\n",
       "            )\n",
       "            (bn): BatchNorm2d(128, eps=1e-05, momentum=0.1, affine=True, track_running_stats=True)\n",
       "            (prelu): PReLU(num_parameters=128)\n",
       "          )\n",
       "          (CA): CoordAtt(\n",
       "            (pool_h): AdaptiveAvgPool2d(output_size=(None, 1))\n",
       "            (pool_w): AdaptiveAvgPool2d(output_size=(1, None))\n",
       "            (conv1): Conv2d(128, 8, kernel_size=(1, 1), stride=(1, 1))\n",
       "            (bn1): BatchNorm2d(8, eps=1e-05, momentum=0.1, affine=True, track_running_stats=True)\n",
       "            (conv2): Conv2d(8, 128, kernel_size=(1, 1), stride=(1, 1))\n",
       "            (conv3): Conv2d(8, 128, kernel_size=(1, 1), stride=(1, 1))\n",
       "            (relu): h_swish(\n",
       "              (sigmoid): h_sigmoid(\n",
       "                (relu): ReLU6(inplace=True)\n",
       "              )\n",
       "            )\n",
       "          )\n",
       "          (project): Linear_block(\n",
       "            (conv): Conv2d(128, 64, kernel_size=(1, 1), stride=(1, 1), bias=False)\n",
       "            (bn): BatchNorm2d(64, eps=1e-05, momentum=0.1, affine=True, track_running_stats=True)\n",
       "          )\n",
       "        )\n",
       "        (1): Mix_Depth_Wise(\n",
       "          (conv): Conv_block(\n",
       "            (conv): Conv2d(64, 128, kernel_size=(1, 1), stride=(1, 1), bias=False)\n",
       "            (bn): BatchNorm2d(128, eps=1e-05, momentum=0.1, affine=True, track_running_stats=True)\n",
       "            (prelu): PReLU(num_parameters=128)\n",
       "          )\n",
       "          (conv_dw): MDConv(\n",
       "            (mixed_depthwise_conv): ModuleList(\n",
       "              (0): Conv2d(96, 96, kernel_size=(3, 3), stride=(1, 1), padding=(1, 1), groups=96, bias=False)\n",
       "              (1): Conv2d(32, 32, kernel_size=(5, 5), stride=(1, 1), padding=(2, 2), groups=32, bias=False)\n",
       "            )\n",
       "            (bn): BatchNorm2d(128, eps=1e-05, momentum=0.1, affine=True, track_running_stats=True)\n",
       "            (prelu): PReLU(num_parameters=128)\n",
       "          )\n",
       "          (CA): CoordAtt(\n",
       "            (pool_h): AdaptiveAvgPool2d(output_size=(None, 1))\n",
       "            (pool_w): AdaptiveAvgPool2d(output_size=(1, None))\n",
       "            (conv1): Conv2d(128, 8, kernel_size=(1, 1), stride=(1, 1))\n",
       "            (bn1): BatchNorm2d(8, eps=1e-05, momentum=0.1, affine=True, track_running_stats=True)\n",
       "            (conv2): Conv2d(8, 128, kernel_size=(1, 1), stride=(1, 1))\n",
       "            (conv3): Conv2d(8, 128, kernel_size=(1, 1), stride=(1, 1))\n",
       "            (relu): h_swish(\n",
       "              (sigmoid): h_sigmoid(\n",
       "                (relu): ReLU6(inplace=True)\n",
       "              )\n",
       "            )\n",
       "          )\n",
       "          (project): Linear_block(\n",
       "            (conv): Conv2d(128, 64, kernel_size=(1, 1), stride=(1, 1), bias=False)\n",
       "            (bn): BatchNorm2d(64, eps=1e-05, momentum=0.1, affine=True, track_running_stats=True)\n",
       "          )\n",
       "        )\n",
       "        (2): Mix_Depth_Wise(\n",
       "          (conv): Conv_block(\n",
       "            (conv): Conv2d(64, 128, kernel_size=(1, 1), stride=(1, 1), bias=False)\n",
       "            (bn): BatchNorm2d(128, eps=1e-05, momentum=0.1, affine=True, track_running_stats=True)\n",
       "            (prelu): PReLU(num_parameters=128)\n",
       "          )\n",
       "          (conv_dw): MDConv(\n",
       "            (mixed_depthwise_conv): ModuleList(\n",
       "              (0): Conv2d(96, 96, kernel_size=(3, 3), stride=(1, 1), padding=(1, 1), groups=96, bias=False)\n",
       "              (1): Conv2d(32, 32, kernel_size=(5, 5), stride=(1, 1), padding=(2, 2), groups=32, bias=False)\n",
       "            )\n",
       "            (bn): BatchNorm2d(128, eps=1e-05, momentum=0.1, affine=True, track_running_stats=True)\n",
       "            (prelu): PReLU(num_parameters=128)\n",
       "          )\n",
       "          (CA): CoordAtt(\n",
       "            (pool_h): AdaptiveAvgPool2d(output_size=(None, 1))\n",
       "            (pool_w): AdaptiveAvgPool2d(output_size=(1, None))\n",
       "            (conv1): Conv2d(128, 8, kernel_size=(1, 1), stride=(1, 1))\n",
       "            (bn1): BatchNorm2d(8, eps=1e-05, momentum=0.1, affine=True, track_running_stats=True)\n",
       "            (conv2): Conv2d(8, 128, kernel_size=(1, 1), stride=(1, 1))\n",
       "            (conv3): Conv2d(8, 128, kernel_size=(1, 1), stride=(1, 1))\n",
       "            (relu): h_swish(\n",
       "              (sigmoid): h_sigmoid(\n",
       "                (relu): ReLU6(inplace=True)\n",
       "              )\n",
       "            )\n",
       "          )\n",
       "          (project): Linear_block(\n",
       "            (conv): Conv2d(128, 64, kernel_size=(1, 1), stride=(1, 1), bias=False)\n",
       "            (bn): BatchNorm2d(64, eps=1e-05, momentum=0.1, affine=True, track_running_stats=True)\n",
       "          )\n",
       "        )\n",
       "        (3): Mix_Depth_Wise(\n",
       "          (conv): Conv_block(\n",
       "            (conv): Conv2d(64, 128, kernel_size=(1, 1), stride=(1, 1), bias=False)\n",
       "            (bn): BatchNorm2d(128, eps=1e-05, momentum=0.1, affine=True, track_running_stats=True)\n",
       "            (prelu): PReLU(num_parameters=128)\n",
       "          )\n",
       "          (conv_dw): MDConv(\n",
       "            (mixed_depthwise_conv): ModuleList(\n",
       "              (0): Conv2d(96, 96, kernel_size=(3, 3), stride=(1, 1), padding=(1, 1), groups=96, bias=False)\n",
       "              (1): Conv2d(32, 32, kernel_size=(5, 5), stride=(1, 1), padding=(2, 2), groups=32, bias=False)\n",
       "            )\n",
       "            (bn): BatchNorm2d(128, eps=1e-05, momentum=0.1, affine=True, track_running_stats=True)\n",
       "            (prelu): PReLU(num_parameters=128)\n",
       "          )\n",
       "          (CA): CoordAtt(\n",
       "            (pool_h): AdaptiveAvgPool2d(output_size=(None, 1))\n",
       "            (pool_w): AdaptiveAvgPool2d(output_size=(1, None))\n",
       "            (conv1): Conv2d(128, 8, kernel_size=(1, 1), stride=(1, 1))\n",
       "            (bn1): BatchNorm2d(8, eps=1e-05, momentum=0.1, affine=True, track_running_stats=True)\n",
       "            (conv2): Conv2d(8, 128, kernel_size=(1, 1), stride=(1, 1))\n",
       "            (conv3): Conv2d(8, 128, kernel_size=(1, 1), stride=(1, 1))\n",
       "            (relu): h_swish(\n",
       "              (sigmoid): h_sigmoid(\n",
       "                (relu): ReLU6(inplace=True)\n",
       "              )\n",
       "            )\n",
       "          )\n",
       "          (project): Linear_block(\n",
       "            (conv): Conv2d(128, 64, kernel_size=(1, 1), stride=(1, 1), bias=False)\n",
       "            (bn): BatchNorm2d(64, eps=1e-05, momentum=0.1, affine=True, track_running_stats=True)\n",
       "          )\n",
       "        )\n",
       "        (4): Mix_Depth_Wise(\n",
       "          (conv): Conv_block(\n",
       "            (conv): Conv2d(64, 128, kernel_size=(1, 1), stride=(1, 1), bias=False)\n",
       "            (bn): BatchNorm2d(128, eps=1e-05, momentum=0.1, affine=True, track_running_stats=True)\n",
       "            (prelu): PReLU(num_parameters=128)\n",
       "          )\n",
       "          (conv_dw): MDConv(\n",
       "            (mixed_depthwise_conv): ModuleList(\n",
       "              (0): Conv2d(96, 96, kernel_size=(3, 3), stride=(1, 1), padding=(1, 1), groups=96, bias=False)\n",
       "              (1): Conv2d(32, 32, kernel_size=(5, 5), stride=(1, 1), padding=(2, 2), groups=32, bias=False)\n",
       "            )\n",
       "            (bn): BatchNorm2d(128, eps=1e-05, momentum=0.1, affine=True, track_running_stats=True)\n",
       "            (prelu): PReLU(num_parameters=128)\n",
       "          )\n",
       "          (CA): CoordAtt(\n",
       "            (pool_h): AdaptiveAvgPool2d(output_size=(None, 1))\n",
       "            (pool_w): AdaptiveAvgPool2d(output_size=(1, None))\n",
       "            (conv1): Conv2d(128, 8, kernel_size=(1, 1), stride=(1, 1))\n",
       "            (bn1): BatchNorm2d(8, eps=1e-05, momentum=0.1, affine=True, track_running_stats=True)\n",
       "            (conv2): Conv2d(8, 128, kernel_size=(1, 1), stride=(1, 1))\n",
       "            (conv3): Conv2d(8, 128, kernel_size=(1, 1), stride=(1, 1))\n",
       "            (relu): h_swish(\n",
       "              (sigmoid): h_sigmoid(\n",
       "                (relu): ReLU6(inplace=True)\n",
       "              )\n",
       "            )\n",
       "          )\n",
       "          (project): Linear_block(\n",
       "            (conv): Conv2d(128, 64, kernel_size=(1, 1), stride=(1, 1), bias=False)\n",
       "            (bn): BatchNorm2d(64, eps=1e-05, momentum=0.1, affine=True, track_running_stats=True)\n",
       "          )\n",
       "        )\n",
       "        (5): Mix_Depth_Wise(\n",
       "          (conv): Conv_block(\n",
       "            (conv): Conv2d(64, 128, kernel_size=(1, 1), stride=(1, 1), bias=False)\n",
       "            (bn): BatchNorm2d(128, eps=1e-05, momentum=0.1, affine=True, track_running_stats=True)\n",
       "            (prelu): PReLU(num_parameters=128)\n",
       "          )\n",
       "          (conv_dw): MDConv(\n",
       "            (mixed_depthwise_conv): ModuleList(\n",
       "              (0): Conv2d(96, 96, kernel_size=(3, 3), stride=(1, 1), padding=(1, 1), groups=96, bias=False)\n",
       "              (1): Conv2d(32, 32, kernel_size=(5, 5), stride=(1, 1), padding=(2, 2), groups=32, bias=False)\n",
       "            )\n",
       "            (bn): BatchNorm2d(128, eps=1e-05, momentum=0.1, affine=True, track_running_stats=True)\n",
       "            (prelu): PReLU(num_parameters=128)\n",
       "          )\n",
       "          (CA): CoordAtt(\n",
       "            (pool_h): AdaptiveAvgPool2d(output_size=(None, 1))\n",
       "            (pool_w): AdaptiveAvgPool2d(output_size=(1, None))\n",
       "            (conv1): Conv2d(128, 8, kernel_size=(1, 1), stride=(1, 1))\n",
       "            (bn1): BatchNorm2d(8, eps=1e-05, momentum=0.1, affine=True, track_running_stats=True)\n",
       "            (conv2): Conv2d(8, 128, kernel_size=(1, 1), stride=(1, 1))\n",
       "            (conv3): Conv2d(8, 128, kernel_size=(1, 1), stride=(1, 1))\n",
       "            (relu): h_swish(\n",
       "              (sigmoid): h_sigmoid(\n",
       "                (relu): ReLU6(inplace=True)\n",
       "              )\n",
       "            )\n",
       "          )\n",
       "          (project): Linear_block(\n",
       "            (conv): Conv2d(128, 64, kernel_size=(1, 1), stride=(1, 1), bias=False)\n",
       "            (bn): BatchNorm2d(64, eps=1e-05, momentum=0.1, affine=True, track_running_stats=True)\n",
       "          )\n",
       "        )\n",
       "        (6): Mix_Depth_Wise(\n",
       "          (conv): Conv_block(\n",
       "            (conv): Conv2d(64, 128, kernel_size=(1, 1), stride=(1, 1), bias=False)\n",
       "            (bn): BatchNorm2d(128, eps=1e-05, momentum=0.1, affine=True, track_running_stats=True)\n",
       "            (prelu): PReLU(num_parameters=128)\n",
       "          )\n",
       "          (conv_dw): MDConv(\n",
       "            (mixed_depthwise_conv): ModuleList(\n",
       "              (0): Conv2d(96, 96, kernel_size=(3, 3), stride=(1, 1), padding=(1, 1), groups=96, bias=False)\n",
       "              (1): Conv2d(32, 32, kernel_size=(5, 5), stride=(1, 1), padding=(2, 2), groups=32, bias=False)\n",
       "            )\n",
       "            (bn): BatchNorm2d(128, eps=1e-05, momentum=0.1, affine=True, track_running_stats=True)\n",
       "            (prelu): PReLU(num_parameters=128)\n",
       "          )\n",
       "          (CA): CoordAtt(\n",
       "            (pool_h): AdaptiveAvgPool2d(output_size=(None, 1))\n",
       "            (pool_w): AdaptiveAvgPool2d(output_size=(1, None))\n",
       "            (conv1): Conv2d(128, 8, kernel_size=(1, 1), stride=(1, 1))\n",
       "            (bn1): BatchNorm2d(8, eps=1e-05, momentum=0.1, affine=True, track_running_stats=True)\n",
       "            (conv2): Conv2d(8, 128, kernel_size=(1, 1), stride=(1, 1))\n",
       "            (conv3): Conv2d(8, 128, kernel_size=(1, 1), stride=(1, 1))\n",
       "            (relu): h_swish(\n",
       "              (sigmoid): h_sigmoid(\n",
       "                (relu): ReLU6(inplace=True)\n",
       "              )\n",
       "            )\n",
       "          )\n",
       "          (project): Linear_block(\n",
       "            (conv): Conv2d(128, 64, kernel_size=(1, 1), stride=(1, 1), bias=False)\n",
       "            (bn): BatchNorm2d(64, eps=1e-05, momentum=0.1, affine=True, track_running_stats=True)\n",
       "          )\n",
       "        )\n",
       "        (7): Mix_Depth_Wise(\n",
       "          (conv): Conv_block(\n",
       "            (conv): Conv2d(64, 128, kernel_size=(1, 1), stride=(1, 1), bias=False)\n",
       "            (bn): BatchNorm2d(128, eps=1e-05, momentum=0.1, affine=True, track_running_stats=True)\n",
       "            (prelu): PReLU(num_parameters=128)\n",
       "          )\n",
       "          (conv_dw): MDConv(\n",
       "            (mixed_depthwise_conv): ModuleList(\n",
       "              (0): Conv2d(96, 96, kernel_size=(3, 3), stride=(1, 1), padding=(1, 1), groups=96, bias=False)\n",
       "              (1): Conv2d(32, 32, kernel_size=(5, 5), stride=(1, 1), padding=(2, 2), groups=32, bias=False)\n",
       "            )\n",
       "            (bn): BatchNorm2d(128, eps=1e-05, momentum=0.1, affine=True, track_running_stats=True)\n",
       "            (prelu): PReLU(num_parameters=128)\n",
       "          )\n",
       "          (CA): CoordAtt(\n",
       "            (pool_h): AdaptiveAvgPool2d(output_size=(None, 1))\n",
       "            (pool_w): AdaptiveAvgPool2d(output_size=(1, None))\n",
       "            (conv1): Conv2d(128, 8, kernel_size=(1, 1), stride=(1, 1))\n",
       "            (bn1): BatchNorm2d(8, eps=1e-05, momentum=0.1, affine=True, track_running_stats=True)\n",
       "            (conv2): Conv2d(8, 128, kernel_size=(1, 1), stride=(1, 1))\n",
       "            (conv3): Conv2d(8, 128, kernel_size=(1, 1), stride=(1, 1))\n",
       "            (relu): h_swish(\n",
       "              (sigmoid): h_sigmoid(\n",
       "                (relu): ReLU6(inplace=True)\n",
       "              )\n",
       "            )\n",
       "          )\n",
       "          (project): Linear_block(\n",
       "            (conv): Conv2d(128, 64, kernel_size=(1, 1), stride=(1, 1), bias=False)\n",
       "            (bn): BatchNorm2d(64, eps=1e-05, momentum=0.1, affine=True, track_running_stats=True)\n",
       "          )\n",
       "        )\n",
       "        (8): Mix_Depth_Wise(\n",
       "          (conv): Conv_block(\n",
       "            (conv): Conv2d(64, 128, kernel_size=(1, 1), stride=(1, 1), bias=False)\n",
       "            (bn): BatchNorm2d(128, eps=1e-05, momentum=0.1, affine=True, track_running_stats=True)\n",
       "            (prelu): PReLU(num_parameters=128)\n",
       "          )\n",
       "          (conv_dw): MDConv(\n",
       "            (mixed_depthwise_conv): ModuleList(\n",
       "              (0): Conv2d(96, 96, kernel_size=(3, 3), stride=(1, 1), padding=(1, 1), groups=96, bias=False)\n",
       "              (1): Conv2d(32, 32, kernel_size=(5, 5), stride=(1, 1), padding=(2, 2), groups=32, bias=False)\n",
       "            )\n",
       "            (bn): BatchNorm2d(128, eps=1e-05, momentum=0.1, affine=True, track_running_stats=True)\n",
       "            (prelu): PReLU(num_parameters=128)\n",
       "          )\n",
       "          (CA): CoordAtt(\n",
       "            (pool_h): AdaptiveAvgPool2d(output_size=(None, 1))\n",
       "            (pool_w): AdaptiveAvgPool2d(output_size=(1, None))\n",
       "            (conv1): Conv2d(128, 8, kernel_size=(1, 1), stride=(1, 1))\n",
       "            (bn1): BatchNorm2d(8, eps=1e-05, momentum=0.1, affine=True, track_running_stats=True)\n",
       "            (conv2): Conv2d(8, 128, kernel_size=(1, 1), stride=(1, 1))\n",
       "            (conv3): Conv2d(8, 128, kernel_size=(1, 1), stride=(1, 1))\n",
       "            (relu): h_swish(\n",
       "              (sigmoid): h_sigmoid(\n",
       "                (relu): ReLU6(inplace=True)\n",
       "              )\n",
       "            )\n",
       "          )\n",
       "          (project): Linear_block(\n",
       "            (conv): Conv2d(128, 64, kernel_size=(1, 1), stride=(1, 1), bias=False)\n",
       "            (bn): BatchNorm2d(64, eps=1e-05, momentum=0.1, affine=True, track_running_stats=True)\n",
       "          )\n",
       "        )\n",
       "      )\n",
       "    )\n",
       "    (4): Mix_Depth_Wise(\n",
       "      (conv): Conv_block(\n",
       "        (conv): Conv2d(64, 256, kernel_size=(1, 1), stride=(1, 1), bias=False)\n",
       "        (bn): BatchNorm2d(256, eps=1e-05, momentum=0.1, affine=True, track_running_stats=True)\n",
       "        (prelu): PReLU(num_parameters=256)\n",
       "      )\n",
       "      (conv_dw): MDConv(\n",
       "        (mixed_depthwise_conv): ModuleList(\n",
       "          (0): Conv2d(128, 128, kernel_size=(3, 3), stride=(2, 2), padding=(1, 1), groups=128, bias=False)\n",
       "          (1): Conv2d(64, 64, kernel_size=(5, 5), stride=(2, 2), padding=(2, 2), groups=64, bias=False)\n",
       "          (2): Conv2d(64, 64, kernel_size=(7, 7), stride=(2, 2), padding=(3, 3), groups=64, bias=False)\n",
       "        )\n",
       "        (bn): BatchNorm2d(256, eps=1e-05, momentum=0.1, affine=True, track_running_stats=True)\n",
       "        (prelu): PReLU(num_parameters=256)\n",
       "      )\n",
       "      (CA): CoordAtt(\n",
       "        (pool_h): AdaptiveAvgPool2d(output_size=(None, 1))\n",
       "        (pool_w): AdaptiveAvgPool2d(output_size=(1, None))\n",
       "        (conv1): Conv2d(256, 8, kernel_size=(1, 1), stride=(1, 1))\n",
       "        (bn1): BatchNorm2d(8, eps=1e-05, momentum=0.1, affine=True, track_running_stats=True)\n",
       "        (conv2): Conv2d(8, 256, kernel_size=(1, 1), stride=(1, 1))\n",
       "        (conv3): Conv2d(8, 256, kernel_size=(1, 1), stride=(1, 1))\n",
       "        (relu): h_swish(\n",
       "          (sigmoid): h_sigmoid(\n",
       "            (relu): ReLU6(inplace=True)\n",
       "          )\n",
       "        )\n",
       "      )\n",
       "      (project): Linear_block(\n",
       "        (conv): Conv2d(256, 128, kernel_size=(1, 1), stride=(1, 1), bias=False)\n",
       "        (bn): BatchNorm2d(128, eps=1e-05, momentum=0.1, affine=True, track_running_stats=True)\n",
       "      )\n",
       "    )\n",
       "    (5): Mix_Residual(\n",
       "      (model): Sequential(\n",
       "        (0): Mix_Depth_Wise(\n",
       "          (conv): Conv_block(\n",
       "            (conv): Conv2d(128, 256, kernel_size=(1, 1), stride=(1, 1), bias=False)\n",
       "            (bn): BatchNorm2d(256, eps=1e-05, momentum=0.1, affine=True, track_running_stats=True)\n",
       "            (prelu): PReLU(num_parameters=256)\n",
       "          )\n",
       "          (conv_dw): MDConv(\n",
       "            (mixed_depthwise_conv): ModuleList(\n",
       "              (0): Conv2d(192, 192, kernel_size=(3, 3), stride=(1, 1), padding=(1, 1), groups=192, bias=False)\n",
       "              (1): Conv2d(64, 64, kernel_size=(5, 5), stride=(1, 1), padding=(2, 2), groups=64, bias=False)\n",
       "            )\n",
       "            (bn): BatchNorm2d(256, eps=1e-05, momentum=0.1, affine=True, track_running_stats=True)\n",
       "            (prelu): PReLU(num_parameters=256)\n",
       "          )\n",
       "          (CA): CoordAtt(\n",
       "            (pool_h): AdaptiveAvgPool2d(output_size=(None, 1))\n",
       "            (pool_w): AdaptiveAvgPool2d(output_size=(1, None))\n",
       "            (conv1): Conv2d(256, 8, kernel_size=(1, 1), stride=(1, 1))\n",
       "            (bn1): BatchNorm2d(8, eps=1e-05, momentum=0.1, affine=True, track_running_stats=True)\n",
       "            (conv2): Conv2d(8, 256, kernel_size=(1, 1), stride=(1, 1))\n",
       "            (conv3): Conv2d(8, 256, kernel_size=(1, 1), stride=(1, 1))\n",
       "            (relu): h_swish(\n",
       "              (sigmoid): h_sigmoid(\n",
       "                (relu): ReLU6(inplace=True)\n",
       "              )\n",
       "            )\n",
       "          )\n",
       "          (project): Linear_block(\n",
       "            (conv): Conv2d(256, 128, kernel_size=(1, 1), stride=(1, 1), bias=False)\n",
       "            (bn): BatchNorm2d(128, eps=1e-05, momentum=0.1, affine=True, track_running_stats=True)\n",
       "          )\n",
       "        )\n",
       "        (1): Mix_Depth_Wise(\n",
       "          (conv): Conv_block(\n",
       "            (conv): Conv2d(128, 256, kernel_size=(1, 1), stride=(1, 1), bias=False)\n",
       "            (bn): BatchNorm2d(256, eps=1e-05, momentum=0.1, affine=True, track_running_stats=True)\n",
       "            (prelu): PReLU(num_parameters=256)\n",
       "          )\n",
       "          (conv_dw): MDConv(\n",
       "            (mixed_depthwise_conv): ModuleList(\n",
       "              (0): Conv2d(192, 192, kernel_size=(3, 3), stride=(1, 1), padding=(1, 1), groups=192, bias=False)\n",
       "              (1): Conv2d(64, 64, kernel_size=(5, 5), stride=(1, 1), padding=(2, 2), groups=64, bias=False)\n",
       "            )\n",
       "            (bn): BatchNorm2d(256, eps=1e-05, momentum=0.1, affine=True, track_running_stats=True)\n",
       "            (prelu): PReLU(num_parameters=256)\n",
       "          )\n",
       "          (CA): CoordAtt(\n",
       "            (pool_h): AdaptiveAvgPool2d(output_size=(None, 1))\n",
       "            (pool_w): AdaptiveAvgPool2d(output_size=(1, None))\n",
       "            (conv1): Conv2d(256, 8, kernel_size=(1, 1), stride=(1, 1))\n",
       "            (bn1): BatchNorm2d(8, eps=1e-05, momentum=0.1, affine=True, track_running_stats=True)\n",
       "            (conv2): Conv2d(8, 256, kernel_size=(1, 1), stride=(1, 1))\n",
       "            (conv3): Conv2d(8, 256, kernel_size=(1, 1), stride=(1, 1))\n",
       "            (relu): h_swish(\n",
       "              (sigmoid): h_sigmoid(\n",
       "                (relu): ReLU6(inplace=True)\n",
       "              )\n",
       "            )\n",
       "          )\n",
       "          (project): Linear_block(\n",
       "            (conv): Conv2d(256, 128, kernel_size=(1, 1), stride=(1, 1), bias=False)\n",
       "            (bn): BatchNorm2d(128, eps=1e-05, momentum=0.1, affine=True, track_running_stats=True)\n",
       "          )\n",
       "        )\n",
       "        (2): Mix_Depth_Wise(\n",
       "          (conv): Conv_block(\n",
       "            (conv): Conv2d(128, 256, kernel_size=(1, 1), stride=(1, 1), bias=False)\n",
       "            (bn): BatchNorm2d(256, eps=1e-05, momentum=0.1, affine=True, track_running_stats=True)\n",
       "            (prelu): PReLU(num_parameters=256)\n",
       "          )\n",
       "          (conv_dw): MDConv(\n",
       "            (mixed_depthwise_conv): ModuleList(\n",
       "              (0): Conv2d(192, 192, kernel_size=(3, 3), stride=(1, 1), padding=(1, 1), groups=192, bias=False)\n",
       "              (1): Conv2d(64, 64, kernel_size=(5, 5), stride=(1, 1), padding=(2, 2), groups=64, bias=False)\n",
       "            )\n",
       "            (bn): BatchNorm2d(256, eps=1e-05, momentum=0.1, affine=True, track_running_stats=True)\n",
       "            (prelu): PReLU(num_parameters=256)\n",
       "          )\n",
       "          (CA): CoordAtt(\n",
       "            (pool_h): AdaptiveAvgPool2d(output_size=(None, 1))\n",
       "            (pool_w): AdaptiveAvgPool2d(output_size=(1, None))\n",
       "            (conv1): Conv2d(256, 8, kernel_size=(1, 1), stride=(1, 1))\n",
       "            (bn1): BatchNorm2d(8, eps=1e-05, momentum=0.1, affine=True, track_running_stats=True)\n",
       "            (conv2): Conv2d(8, 256, kernel_size=(1, 1), stride=(1, 1))\n",
       "            (conv3): Conv2d(8, 256, kernel_size=(1, 1), stride=(1, 1))\n",
       "            (relu): h_swish(\n",
       "              (sigmoid): h_sigmoid(\n",
       "                (relu): ReLU6(inplace=True)\n",
       "              )\n",
       "            )\n",
       "          )\n",
       "          (project): Linear_block(\n",
       "            (conv): Conv2d(256, 128, kernel_size=(1, 1), stride=(1, 1), bias=False)\n",
       "            (bn): BatchNorm2d(128, eps=1e-05, momentum=0.1, affine=True, track_running_stats=True)\n",
       "          )\n",
       "        )\n",
       "        (3): Mix_Depth_Wise(\n",
       "          (conv): Conv_block(\n",
       "            (conv): Conv2d(128, 256, kernel_size=(1, 1), stride=(1, 1), bias=False)\n",
       "            (bn): BatchNorm2d(256, eps=1e-05, momentum=0.1, affine=True, track_running_stats=True)\n",
       "            (prelu): PReLU(num_parameters=256)\n",
       "          )\n",
       "          (conv_dw): MDConv(\n",
       "            (mixed_depthwise_conv): ModuleList(\n",
       "              (0): Conv2d(192, 192, kernel_size=(3, 3), stride=(1, 1), padding=(1, 1), groups=192, bias=False)\n",
       "              (1): Conv2d(64, 64, kernel_size=(5, 5), stride=(1, 1), padding=(2, 2), groups=64, bias=False)\n",
       "            )\n",
       "            (bn): BatchNorm2d(256, eps=1e-05, momentum=0.1, affine=True, track_running_stats=True)\n",
       "            (prelu): PReLU(num_parameters=256)\n",
       "          )\n",
       "          (CA): CoordAtt(\n",
       "            (pool_h): AdaptiveAvgPool2d(output_size=(None, 1))\n",
       "            (pool_w): AdaptiveAvgPool2d(output_size=(1, None))\n",
       "            (conv1): Conv2d(256, 8, kernel_size=(1, 1), stride=(1, 1))\n",
       "            (bn1): BatchNorm2d(8, eps=1e-05, momentum=0.1, affine=True, track_running_stats=True)\n",
       "            (conv2): Conv2d(8, 256, kernel_size=(1, 1), stride=(1, 1))\n",
       "            (conv3): Conv2d(8, 256, kernel_size=(1, 1), stride=(1, 1))\n",
       "            (relu): h_swish(\n",
       "              (sigmoid): h_sigmoid(\n",
       "                (relu): ReLU6(inplace=True)\n",
       "              )\n",
       "            )\n",
       "          )\n",
       "          (project): Linear_block(\n",
       "            (conv): Conv2d(256, 128, kernel_size=(1, 1), stride=(1, 1), bias=False)\n",
       "            (bn): BatchNorm2d(128, eps=1e-05, momentum=0.1, affine=True, track_running_stats=True)\n",
       "          )\n",
       "        )\n",
       "        (4): Mix_Depth_Wise(\n",
       "          (conv): Conv_block(\n",
       "            (conv): Conv2d(128, 256, kernel_size=(1, 1), stride=(1, 1), bias=False)\n",
       "            (bn): BatchNorm2d(256, eps=1e-05, momentum=0.1, affine=True, track_running_stats=True)\n",
       "            (prelu): PReLU(num_parameters=256)\n",
       "          )\n",
       "          (conv_dw): MDConv(\n",
       "            (mixed_depthwise_conv): ModuleList(\n",
       "              (0): Conv2d(192, 192, kernel_size=(3, 3), stride=(1, 1), padding=(1, 1), groups=192, bias=False)\n",
       "              (1): Conv2d(64, 64, kernel_size=(5, 5), stride=(1, 1), padding=(2, 2), groups=64, bias=False)\n",
       "            )\n",
       "            (bn): BatchNorm2d(256, eps=1e-05, momentum=0.1, affine=True, track_running_stats=True)\n",
       "            (prelu): PReLU(num_parameters=256)\n",
       "          )\n",
       "          (CA): CoordAtt(\n",
       "            (pool_h): AdaptiveAvgPool2d(output_size=(None, 1))\n",
       "            (pool_w): AdaptiveAvgPool2d(output_size=(1, None))\n",
       "            (conv1): Conv2d(256, 8, kernel_size=(1, 1), stride=(1, 1))\n",
       "            (bn1): BatchNorm2d(8, eps=1e-05, momentum=0.1, affine=True, track_running_stats=True)\n",
       "            (conv2): Conv2d(8, 256, kernel_size=(1, 1), stride=(1, 1))\n",
       "            (conv3): Conv2d(8, 256, kernel_size=(1, 1), stride=(1, 1))\n",
       "            (relu): h_swish(\n",
       "              (sigmoid): h_sigmoid(\n",
       "                (relu): ReLU6(inplace=True)\n",
       "              )\n",
       "            )\n",
       "          )\n",
       "          (project): Linear_block(\n",
       "            (conv): Conv2d(256, 128, kernel_size=(1, 1), stride=(1, 1), bias=False)\n",
       "            (bn): BatchNorm2d(128, eps=1e-05, momentum=0.1, affine=True, track_running_stats=True)\n",
       "          )\n",
       "        )\n",
       "        (5): Mix_Depth_Wise(\n",
       "          (conv): Conv_block(\n",
       "            (conv): Conv2d(128, 256, kernel_size=(1, 1), stride=(1, 1), bias=False)\n",
       "            (bn): BatchNorm2d(256, eps=1e-05, momentum=0.1, affine=True, track_running_stats=True)\n",
       "            (prelu): PReLU(num_parameters=256)\n",
       "          )\n",
       "          (conv_dw): MDConv(\n",
       "            (mixed_depthwise_conv): ModuleList(\n",
       "              (0): Conv2d(192, 192, kernel_size=(3, 3), stride=(1, 1), padding=(1, 1), groups=192, bias=False)\n",
       "              (1): Conv2d(64, 64, kernel_size=(5, 5), stride=(1, 1), padding=(2, 2), groups=64, bias=False)\n",
       "            )\n",
       "            (bn): BatchNorm2d(256, eps=1e-05, momentum=0.1, affine=True, track_running_stats=True)\n",
       "            (prelu): PReLU(num_parameters=256)\n",
       "          )\n",
       "          (CA): CoordAtt(\n",
       "            (pool_h): AdaptiveAvgPool2d(output_size=(None, 1))\n",
       "            (pool_w): AdaptiveAvgPool2d(output_size=(1, None))\n",
       "            (conv1): Conv2d(256, 8, kernel_size=(1, 1), stride=(1, 1))\n",
       "            (bn1): BatchNorm2d(8, eps=1e-05, momentum=0.1, affine=True, track_running_stats=True)\n",
       "            (conv2): Conv2d(8, 256, kernel_size=(1, 1), stride=(1, 1))\n",
       "            (conv3): Conv2d(8, 256, kernel_size=(1, 1), stride=(1, 1))\n",
       "            (relu): h_swish(\n",
       "              (sigmoid): h_sigmoid(\n",
       "                (relu): ReLU6(inplace=True)\n",
       "              )\n",
       "            )\n",
       "          )\n",
       "          (project): Linear_block(\n",
       "            (conv): Conv2d(256, 128, kernel_size=(1, 1), stride=(1, 1), bias=False)\n",
       "            (bn): BatchNorm2d(128, eps=1e-05, momentum=0.1, affine=True, track_running_stats=True)\n",
       "          )\n",
       "        )\n",
       "        (6): Mix_Depth_Wise(\n",
       "          (conv): Conv_block(\n",
       "            (conv): Conv2d(128, 256, kernel_size=(1, 1), stride=(1, 1), bias=False)\n",
       "            (bn): BatchNorm2d(256, eps=1e-05, momentum=0.1, affine=True, track_running_stats=True)\n",
       "            (prelu): PReLU(num_parameters=256)\n",
       "          )\n",
       "          (conv_dw): MDConv(\n",
       "            (mixed_depthwise_conv): ModuleList(\n",
       "              (0): Conv2d(192, 192, kernel_size=(3, 3), stride=(1, 1), padding=(1, 1), groups=192, bias=False)\n",
       "              (1): Conv2d(64, 64, kernel_size=(5, 5), stride=(1, 1), padding=(2, 2), groups=64, bias=False)\n",
       "            )\n",
       "            (bn): BatchNorm2d(256, eps=1e-05, momentum=0.1, affine=True, track_running_stats=True)\n",
       "            (prelu): PReLU(num_parameters=256)\n",
       "          )\n",
       "          (CA): CoordAtt(\n",
       "            (pool_h): AdaptiveAvgPool2d(output_size=(None, 1))\n",
       "            (pool_w): AdaptiveAvgPool2d(output_size=(1, None))\n",
       "            (conv1): Conv2d(256, 8, kernel_size=(1, 1), stride=(1, 1))\n",
       "            (bn1): BatchNorm2d(8, eps=1e-05, momentum=0.1, affine=True, track_running_stats=True)\n",
       "            (conv2): Conv2d(8, 256, kernel_size=(1, 1), stride=(1, 1))\n",
       "            (conv3): Conv2d(8, 256, kernel_size=(1, 1), stride=(1, 1))\n",
       "            (relu): h_swish(\n",
       "              (sigmoid): h_sigmoid(\n",
       "                (relu): ReLU6(inplace=True)\n",
       "              )\n",
       "            )\n",
       "          )\n",
       "          (project): Linear_block(\n",
       "            (conv): Conv2d(256, 128, kernel_size=(1, 1), stride=(1, 1), bias=False)\n",
       "            (bn): BatchNorm2d(128, eps=1e-05, momentum=0.1, affine=True, track_running_stats=True)\n",
       "          )\n",
       "        )\n",
       "        (7): Mix_Depth_Wise(\n",
       "          (conv): Conv_block(\n",
       "            (conv): Conv2d(128, 256, kernel_size=(1, 1), stride=(1, 1), bias=False)\n",
       "            (bn): BatchNorm2d(256, eps=1e-05, momentum=0.1, affine=True, track_running_stats=True)\n",
       "            (prelu): PReLU(num_parameters=256)\n",
       "          )\n",
       "          (conv_dw): MDConv(\n",
       "            (mixed_depthwise_conv): ModuleList(\n",
       "              (0): Conv2d(192, 192, kernel_size=(3, 3), stride=(1, 1), padding=(1, 1), groups=192, bias=False)\n",
       "              (1): Conv2d(64, 64, kernel_size=(5, 5), stride=(1, 1), padding=(2, 2), groups=64, bias=False)\n",
       "            )\n",
       "            (bn): BatchNorm2d(256, eps=1e-05, momentum=0.1, affine=True, track_running_stats=True)\n",
       "            (prelu): PReLU(num_parameters=256)\n",
       "          )\n",
       "          (CA): CoordAtt(\n",
       "            (pool_h): AdaptiveAvgPool2d(output_size=(None, 1))\n",
       "            (pool_w): AdaptiveAvgPool2d(output_size=(1, None))\n",
       "            (conv1): Conv2d(256, 8, kernel_size=(1, 1), stride=(1, 1))\n",
       "            (bn1): BatchNorm2d(8, eps=1e-05, momentum=0.1, affine=True, track_running_stats=True)\n",
       "            (conv2): Conv2d(8, 256, kernel_size=(1, 1), stride=(1, 1))\n",
       "            (conv3): Conv2d(8, 256, kernel_size=(1, 1), stride=(1, 1))\n",
       "            (relu): h_swish(\n",
       "              (sigmoid): h_sigmoid(\n",
       "                (relu): ReLU6(inplace=True)\n",
       "              )\n",
       "            )\n",
       "          )\n",
       "          (project): Linear_block(\n",
       "            (conv): Conv2d(256, 128, kernel_size=(1, 1), stride=(1, 1), bias=False)\n",
       "            (bn): BatchNorm2d(128, eps=1e-05, momentum=0.1, affine=True, track_running_stats=True)\n",
       "          )\n",
       "        )\n",
       "        (8): Mix_Depth_Wise(\n",
       "          (conv): Conv_block(\n",
       "            (conv): Conv2d(128, 256, kernel_size=(1, 1), stride=(1, 1), bias=False)\n",
       "            (bn): BatchNorm2d(256, eps=1e-05, momentum=0.1, affine=True, track_running_stats=True)\n",
       "            (prelu): PReLU(num_parameters=256)\n",
       "          )\n",
       "          (conv_dw): MDConv(\n",
       "            (mixed_depthwise_conv): ModuleList(\n",
       "              (0): Conv2d(192, 192, kernel_size=(3, 3), stride=(1, 1), padding=(1, 1), groups=192, bias=False)\n",
       "              (1): Conv2d(64, 64, kernel_size=(5, 5), stride=(1, 1), padding=(2, 2), groups=64, bias=False)\n",
       "            )\n",
       "            (bn): BatchNorm2d(256, eps=1e-05, momentum=0.1, affine=True, track_running_stats=True)\n",
       "            (prelu): PReLU(num_parameters=256)\n",
       "          )\n",
       "          (CA): CoordAtt(\n",
       "            (pool_h): AdaptiveAvgPool2d(output_size=(None, 1))\n",
       "            (pool_w): AdaptiveAvgPool2d(output_size=(1, None))\n",
       "            (conv1): Conv2d(256, 8, kernel_size=(1, 1), stride=(1, 1))\n",
       "            (bn1): BatchNorm2d(8, eps=1e-05, momentum=0.1, affine=True, track_running_stats=True)\n",
       "            (conv2): Conv2d(8, 256, kernel_size=(1, 1), stride=(1, 1))\n",
       "            (conv3): Conv2d(8, 256, kernel_size=(1, 1), stride=(1, 1))\n",
       "            (relu): h_swish(\n",
       "              (sigmoid): h_sigmoid(\n",
       "                (relu): ReLU6(inplace=True)\n",
       "              )\n",
       "            )\n",
       "          )\n",
       "          (project): Linear_block(\n",
       "            (conv): Conv2d(256, 128, kernel_size=(1, 1), stride=(1, 1), bias=False)\n",
       "            (bn): BatchNorm2d(128, eps=1e-05, momentum=0.1, affine=True, track_running_stats=True)\n",
       "          )\n",
       "        )\n",
       "        (9): Mix_Depth_Wise(\n",
       "          (conv): Conv_block(\n",
       "            (conv): Conv2d(128, 256, kernel_size=(1, 1), stride=(1, 1), bias=False)\n",
       "            (bn): BatchNorm2d(256, eps=1e-05, momentum=0.1, affine=True, track_running_stats=True)\n",
       "            (prelu): PReLU(num_parameters=256)\n",
       "          )\n",
       "          (conv_dw): MDConv(\n",
       "            (mixed_depthwise_conv): ModuleList(\n",
       "              (0): Conv2d(192, 192, kernel_size=(3, 3), stride=(1, 1), padding=(1, 1), groups=192, bias=False)\n",
       "              (1): Conv2d(64, 64, kernel_size=(5, 5), stride=(1, 1), padding=(2, 2), groups=64, bias=False)\n",
       "            )\n",
       "            (bn): BatchNorm2d(256, eps=1e-05, momentum=0.1, affine=True, track_running_stats=True)\n",
       "            (prelu): PReLU(num_parameters=256)\n",
       "          )\n",
       "          (CA): CoordAtt(\n",
       "            (pool_h): AdaptiveAvgPool2d(output_size=(None, 1))\n",
       "            (pool_w): AdaptiveAvgPool2d(output_size=(1, None))\n",
       "            (conv1): Conv2d(256, 8, kernel_size=(1, 1), stride=(1, 1))\n",
       "            (bn1): BatchNorm2d(8, eps=1e-05, momentum=0.1, affine=True, track_running_stats=True)\n",
       "            (conv2): Conv2d(8, 256, kernel_size=(1, 1), stride=(1, 1))\n",
       "            (conv3): Conv2d(8, 256, kernel_size=(1, 1), stride=(1, 1))\n",
       "            (relu): h_swish(\n",
       "              (sigmoid): h_sigmoid(\n",
       "                (relu): ReLU6(inplace=True)\n",
       "              )\n",
       "            )\n",
       "          )\n",
       "          (project): Linear_block(\n",
       "            (conv): Conv2d(256, 128, kernel_size=(1, 1), stride=(1, 1), bias=False)\n",
       "            (bn): BatchNorm2d(128, eps=1e-05, momentum=0.1, affine=True, track_running_stats=True)\n",
       "          )\n",
       "        )\n",
       "        (10): Mix_Depth_Wise(\n",
       "          (conv): Conv_block(\n",
       "            (conv): Conv2d(128, 256, kernel_size=(1, 1), stride=(1, 1), bias=False)\n",
       "            (bn): BatchNorm2d(256, eps=1e-05, momentum=0.1, affine=True, track_running_stats=True)\n",
       "            (prelu): PReLU(num_parameters=256)\n",
       "          )\n",
       "          (conv_dw): MDConv(\n",
       "            (mixed_depthwise_conv): ModuleList(\n",
       "              (0): Conv2d(192, 192, kernel_size=(3, 3), stride=(1, 1), padding=(1, 1), groups=192, bias=False)\n",
       "              (1): Conv2d(64, 64, kernel_size=(5, 5), stride=(1, 1), padding=(2, 2), groups=64, bias=False)\n",
       "            )\n",
       "            (bn): BatchNorm2d(256, eps=1e-05, momentum=0.1, affine=True, track_running_stats=True)\n",
       "            (prelu): PReLU(num_parameters=256)\n",
       "          )\n",
       "          (CA): CoordAtt(\n",
       "            (pool_h): AdaptiveAvgPool2d(output_size=(None, 1))\n",
       "            (pool_w): AdaptiveAvgPool2d(output_size=(1, None))\n",
       "            (conv1): Conv2d(256, 8, kernel_size=(1, 1), stride=(1, 1))\n",
       "            (bn1): BatchNorm2d(8, eps=1e-05, momentum=0.1, affine=True, track_running_stats=True)\n",
       "            (conv2): Conv2d(8, 256, kernel_size=(1, 1), stride=(1, 1))\n",
       "            (conv3): Conv2d(8, 256, kernel_size=(1, 1), stride=(1, 1))\n",
       "            (relu): h_swish(\n",
       "              (sigmoid): h_sigmoid(\n",
       "                (relu): ReLU6(inplace=True)\n",
       "              )\n",
       "            )\n",
       "          )\n",
       "          (project): Linear_block(\n",
       "            (conv): Conv2d(256, 128, kernel_size=(1, 1), stride=(1, 1), bias=False)\n",
       "            (bn): BatchNorm2d(128, eps=1e-05, momentum=0.1, affine=True, track_running_stats=True)\n",
       "          )\n",
       "        )\n",
       "        (11): Mix_Depth_Wise(\n",
       "          (conv): Conv_block(\n",
       "            (conv): Conv2d(128, 256, kernel_size=(1, 1), stride=(1, 1), bias=False)\n",
       "            (bn): BatchNorm2d(256, eps=1e-05, momentum=0.1, affine=True, track_running_stats=True)\n",
       "            (prelu): PReLU(num_parameters=256)\n",
       "          )\n",
       "          (conv_dw): MDConv(\n",
       "            (mixed_depthwise_conv): ModuleList(\n",
       "              (0): Conv2d(192, 192, kernel_size=(3, 3), stride=(1, 1), padding=(1, 1), groups=192, bias=False)\n",
       "              (1): Conv2d(64, 64, kernel_size=(5, 5), stride=(1, 1), padding=(2, 2), groups=64, bias=False)\n",
       "            )\n",
       "            (bn): BatchNorm2d(256, eps=1e-05, momentum=0.1, affine=True, track_running_stats=True)\n",
       "            (prelu): PReLU(num_parameters=256)\n",
       "          )\n",
       "          (CA): CoordAtt(\n",
       "            (pool_h): AdaptiveAvgPool2d(output_size=(None, 1))\n",
       "            (pool_w): AdaptiveAvgPool2d(output_size=(1, None))\n",
       "            (conv1): Conv2d(256, 8, kernel_size=(1, 1), stride=(1, 1))\n",
       "            (bn1): BatchNorm2d(8, eps=1e-05, momentum=0.1, affine=True, track_running_stats=True)\n",
       "            (conv2): Conv2d(8, 256, kernel_size=(1, 1), stride=(1, 1))\n",
       "            (conv3): Conv2d(8, 256, kernel_size=(1, 1), stride=(1, 1))\n",
       "            (relu): h_swish(\n",
       "              (sigmoid): h_sigmoid(\n",
       "                (relu): ReLU6(inplace=True)\n",
       "              )\n",
       "            )\n",
       "          )\n",
       "          (project): Linear_block(\n",
       "            (conv): Conv2d(256, 128, kernel_size=(1, 1), stride=(1, 1), bias=False)\n",
       "            (bn): BatchNorm2d(128, eps=1e-05, momentum=0.1, affine=True, track_running_stats=True)\n",
       "          )\n",
       "        )\n",
       "        (12): Mix_Depth_Wise(\n",
       "          (conv): Conv_block(\n",
       "            (conv): Conv2d(128, 256, kernel_size=(1, 1), stride=(1, 1), bias=False)\n",
       "            (bn): BatchNorm2d(256, eps=1e-05, momentum=0.1, affine=True, track_running_stats=True)\n",
       "            (prelu): PReLU(num_parameters=256)\n",
       "          )\n",
       "          (conv_dw): MDConv(\n",
       "            (mixed_depthwise_conv): ModuleList(\n",
       "              (0): Conv2d(192, 192, kernel_size=(3, 3), stride=(1, 1), padding=(1, 1), groups=192, bias=False)\n",
       "              (1): Conv2d(64, 64, kernel_size=(5, 5), stride=(1, 1), padding=(2, 2), groups=64, bias=False)\n",
       "            )\n",
       "            (bn): BatchNorm2d(256, eps=1e-05, momentum=0.1, affine=True, track_running_stats=True)\n",
       "            (prelu): PReLU(num_parameters=256)\n",
       "          )\n",
       "          (CA): CoordAtt(\n",
       "            (pool_h): AdaptiveAvgPool2d(output_size=(None, 1))\n",
       "            (pool_w): AdaptiveAvgPool2d(output_size=(1, None))\n",
       "            (conv1): Conv2d(256, 8, kernel_size=(1, 1), stride=(1, 1))\n",
       "            (bn1): BatchNorm2d(8, eps=1e-05, momentum=0.1, affine=True, track_running_stats=True)\n",
       "            (conv2): Conv2d(8, 256, kernel_size=(1, 1), stride=(1, 1))\n",
       "            (conv3): Conv2d(8, 256, kernel_size=(1, 1), stride=(1, 1))\n",
       "            (relu): h_swish(\n",
       "              (sigmoid): h_sigmoid(\n",
       "                (relu): ReLU6(inplace=True)\n",
       "              )\n",
       "            )\n",
       "          )\n",
       "          (project): Linear_block(\n",
       "            (conv): Conv2d(256, 128, kernel_size=(1, 1), stride=(1, 1), bias=False)\n",
       "            (bn): BatchNorm2d(128, eps=1e-05, momentum=0.1, affine=True, track_running_stats=True)\n",
       "          )\n",
       "        )\n",
       "        (13): Mix_Depth_Wise(\n",
       "          (conv): Conv_block(\n",
       "            (conv): Conv2d(128, 256, kernel_size=(1, 1), stride=(1, 1), bias=False)\n",
       "            (bn): BatchNorm2d(256, eps=1e-05, momentum=0.1, affine=True, track_running_stats=True)\n",
       "            (prelu): PReLU(num_parameters=256)\n",
       "          )\n",
       "          (conv_dw): MDConv(\n",
       "            (mixed_depthwise_conv): ModuleList(\n",
       "              (0): Conv2d(192, 192, kernel_size=(3, 3), stride=(1, 1), padding=(1, 1), groups=192, bias=False)\n",
       "              (1): Conv2d(64, 64, kernel_size=(5, 5), stride=(1, 1), padding=(2, 2), groups=64, bias=False)\n",
       "            )\n",
       "            (bn): BatchNorm2d(256, eps=1e-05, momentum=0.1, affine=True, track_running_stats=True)\n",
       "            (prelu): PReLU(num_parameters=256)\n",
       "          )\n",
       "          (CA): CoordAtt(\n",
       "            (pool_h): AdaptiveAvgPool2d(output_size=(None, 1))\n",
       "            (pool_w): AdaptiveAvgPool2d(output_size=(1, None))\n",
       "            (conv1): Conv2d(256, 8, kernel_size=(1, 1), stride=(1, 1))\n",
       "            (bn1): BatchNorm2d(8, eps=1e-05, momentum=0.1, affine=True, track_running_stats=True)\n",
       "            (conv2): Conv2d(8, 256, kernel_size=(1, 1), stride=(1, 1))\n",
       "            (conv3): Conv2d(8, 256, kernel_size=(1, 1), stride=(1, 1))\n",
       "            (relu): h_swish(\n",
       "              (sigmoid): h_sigmoid(\n",
       "                (relu): ReLU6(inplace=True)\n",
       "              )\n",
       "            )\n",
       "          )\n",
       "          (project): Linear_block(\n",
       "            (conv): Conv2d(256, 128, kernel_size=(1, 1), stride=(1, 1), bias=False)\n",
       "            (bn): BatchNorm2d(128, eps=1e-05, momentum=0.1, affine=True, track_running_stats=True)\n",
       "          )\n",
       "        )\n",
       "        (14): Mix_Depth_Wise(\n",
       "          (conv): Conv_block(\n",
       "            (conv): Conv2d(128, 256, kernel_size=(1, 1), stride=(1, 1), bias=False)\n",
       "            (bn): BatchNorm2d(256, eps=1e-05, momentum=0.1, affine=True, track_running_stats=True)\n",
       "            (prelu): PReLU(num_parameters=256)\n",
       "          )\n",
       "          (conv_dw): MDConv(\n",
       "            (mixed_depthwise_conv): ModuleList(\n",
       "              (0): Conv2d(192, 192, kernel_size=(3, 3), stride=(1, 1), padding=(1, 1), groups=192, bias=False)\n",
       "              (1): Conv2d(64, 64, kernel_size=(5, 5), stride=(1, 1), padding=(2, 2), groups=64, bias=False)\n",
       "            )\n",
       "            (bn): BatchNorm2d(256, eps=1e-05, momentum=0.1, affine=True, track_running_stats=True)\n",
       "            (prelu): PReLU(num_parameters=256)\n",
       "          )\n",
       "          (CA): CoordAtt(\n",
       "            (pool_h): AdaptiveAvgPool2d(output_size=(None, 1))\n",
       "            (pool_w): AdaptiveAvgPool2d(output_size=(1, None))\n",
       "            (conv1): Conv2d(256, 8, kernel_size=(1, 1), stride=(1, 1))\n",
       "            (bn1): BatchNorm2d(8, eps=1e-05, momentum=0.1, affine=True, track_running_stats=True)\n",
       "            (conv2): Conv2d(8, 256, kernel_size=(1, 1), stride=(1, 1))\n",
       "            (conv3): Conv2d(8, 256, kernel_size=(1, 1), stride=(1, 1))\n",
       "            (relu): h_swish(\n",
       "              (sigmoid): h_sigmoid(\n",
       "                (relu): ReLU6(inplace=True)\n",
       "              )\n",
       "            )\n",
       "          )\n",
       "          (project): Linear_block(\n",
       "            (conv): Conv2d(256, 128, kernel_size=(1, 1), stride=(1, 1), bias=False)\n",
       "            (bn): BatchNorm2d(128, eps=1e-05, momentum=0.1, affine=True, track_running_stats=True)\n",
       "          )\n",
       "        )\n",
       "        (15): Mix_Depth_Wise(\n",
       "          (conv): Conv_block(\n",
       "            (conv): Conv2d(128, 256, kernel_size=(1, 1), stride=(1, 1), bias=False)\n",
       "            (bn): BatchNorm2d(256, eps=1e-05, momentum=0.1, affine=True, track_running_stats=True)\n",
       "            (prelu): PReLU(num_parameters=256)\n",
       "          )\n",
       "          (conv_dw): MDConv(\n",
       "            (mixed_depthwise_conv): ModuleList(\n",
       "              (0): Conv2d(192, 192, kernel_size=(3, 3), stride=(1, 1), padding=(1, 1), groups=192, bias=False)\n",
       "              (1): Conv2d(64, 64, kernel_size=(5, 5), stride=(1, 1), padding=(2, 2), groups=64, bias=False)\n",
       "            )\n",
       "            (bn): BatchNorm2d(256, eps=1e-05, momentum=0.1, affine=True, track_running_stats=True)\n",
       "            (prelu): PReLU(num_parameters=256)\n",
       "          )\n",
       "          (CA): CoordAtt(\n",
       "            (pool_h): AdaptiveAvgPool2d(output_size=(None, 1))\n",
       "            (pool_w): AdaptiveAvgPool2d(output_size=(1, None))\n",
       "            (conv1): Conv2d(256, 8, kernel_size=(1, 1), stride=(1, 1))\n",
       "            (bn1): BatchNorm2d(8, eps=1e-05, momentum=0.1, affine=True, track_running_stats=True)\n",
       "            (conv2): Conv2d(8, 256, kernel_size=(1, 1), stride=(1, 1))\n",
       "            (conv3): Conv2d(8, 256, kernel_size=(1, 1), stride=(1, 1))\n",
       "            (relu): h_swish(\n",
       "              (sigmoid): h_sigmoid(\n",
       "                (relu): ReLU6(inplace=True)\n",
       "              )\n",
       "            )\n",
       "          )\n",
       "          (project): Linear_block(\n",
       "            (conv): Conv2d(256, 128, kernel_size=(1, 1), stride=(1, 1), bias=False)\n",
       "            (bn): BatchNorm2d(128, eps=1e-05, momentum=0.1, affine=True, track_running_stats=True)\n",
       "          )\n",
       "        )\n",
       "      )\n",
       "    )\n",
       "    (6): Mix_Depth_Wise(\n",
       "      (conv): Conv_block(\n",
       "        (conv): Conv2d(128, 1024, kernel_size=(1, 1), stride=(1, 1), bias=False)\n",
       "        (bn): BatchNorm2d(1024, eps=1e-05, momentum=0.1, affine=True, track_running_stats=True)\n",
       "        (prelu): PReLU(num_parameters=1024)\n",
       "      )\n",
       "      (conv_dw): MDConv(\n",
       "        (mixed_depthwise_conv): ModuleList(\n",
       "          (0): Conv2d(256, 256, kernel_size=(3, 3), stride=(2, 2), padding=(1, 1), groups=256, bias=False)\n",
       "          (1): Conv2d(256, 256, kernel_size=(5, 5), stride=(2, 2), padding=(2, 2), groups=256, bias=False)\n",
       "          (2): Conv2d(256, 256, kernel_size=(7, 7), stride=(2, 2), padding=(3, 3), groups=256, bias=False)\n",
       "          (3): Conv2d(256, 256, kernel_size=(9, 9), stride=(2, 2), padding=(4, 4), groups=256, bias=False)\n",
       "        )\n",
       "        (bn): BatchNorm2d(1024, eps=1e-05, momentum=0.1, affine=True, track_running_stats=True)\n",
       "        (prelu): PReLU(num_parameters=1024)\n",
       "      )\n",
       "      (CA): CoordAtt(\n",
       "        (pool_h): AdaptiveAvgPool2d(output_size=(None, 1))\n",
       "        (pool_w): AdaptiveAvgPool2d(output_size=(1, None))\n",
       "        (conv1): Conv2d(1024, 32, kernel_size=(1, 1), stride=(1, 1))\n",
       "        (bn1): BatchNorm2d(32, eps=1e-05, momentum=0.1, affine=True, track_running_stats=True)\n",
       "        (conv2): Conv2d(32, 1024, kernel_size=(1, 1), stride=(1, 1))\n",
       "        (conv3): Conv2d(32, 1024, kernel_size=(1, 1), stride=(1, 1))\n",
       "        (relu): h_swish(\n",
       "          (sigmoid): h_sigmoid(\n",
       "            (relu): ReLU6(inplace=True)\n",
       "          )\n",
       "        )\n",
       "      )\n",
       "      (project): Linear_block(\n",
       "        (conv): Conv2d(1024, 256, kernel_size=(1, 1), stride=(1, 1), bias=False)\n",
       "        (bn): BatchNorm2d(256, eps=1e-05, momentum=0.1, affine=True, track_running_stats=True)\n",
       "      )\n",
       "    )\n",
       "    (7): Mix_Residual(\n",
       "      (model): Sequential(\n",
       "        (0): Mix_Depth_Wise(\n",
       "          (conv): Conv_block(\n",
       "            (conv): Conv2d(256, 512, kernel_size=(1, 1), stride=(1, 1), bias=False)\n",
       "            (bn): BatchNorm2d(512, eps=1e-05, momentum=0.1, affine=True, track_running_stats=True)\n",
       "            (prelu): PReLU(num_parameters=512)\n",
       "          )\n",
       "          (conv_dw): MDConv(\n",
       "            (mixed_depthwise_conv): ModuleList(\n",
       "              (0): Conv2d(172, 172, kernel_size=(3, 3), stride=(1, 1), padding=(1, 1), groups=172, bias=False)\n",
       "              (1): Conv2d(170, 170, kernel_size=(5, 5), stride=(1, 1), padding=(2, 2), groups=170, bias=False)\n",
       "              (2): Conv2d(170, 170, kernel_size=(7, 7), stride=(1, 1), padding=(3, 3), groups=170, bias=False)\n",
       "            )\n",
       "            (bn): BatchNorm2d(512, eps=1e-05, momentum=0.1, affine=True, track_running_stats=True)\n",
       "            (prelu): PReLU(num_parameters=512)\n",
       "          )\n",
       "          (CA): CoordAtt(\n",
       "            (pool_h): AdaptiveAvgPool2d(output_size=(None, 1))\n",
       "            (pool_w): AdaptiveAvgPool2d(output_size=(1, None))\n",
       "            (conv1): Conv2d(512, 16, kernel_size=(1, 1), stride=(1, 1))\n",
       "            (bn1): BatchNorm2d(16, eps=1e-05, momentum=0.1, affine=True, track_running_stats=True)\n",
       "            (conv2): Conv2d(16, 512, kernel_size=(1, 1), stride=(1, 1))\n",
       "            (conv3): Conv2d(16, 512, kernel_size=(1, 1), stride=(1, 1))\n",
       "            (relu): h_swish(\n",
       "              (sigmoid): h_sigmoid(\n",
       "                (relu): ReLU6(inplace=True)\n",
       "              )\n",
       "            )\n",
       "          )\n",
       "          (project): Linear_block(\n",
       "            (conv): Conv2d(512, 256, kernel_size=(1, 1), stride=(1, 1), bias=False)\n",
       "            (bn): BatchNorm2d(256, eps=1e-05, momentum=0.1, affine=True, track_running_stats=True)\n",
       "          )\n",
       "        )\n",
       "        (1): Mix_Depth_Wise(\n",
       "          (conv): Conv_block(\n",
       "            (conv): Conv2d(256, 512, kernel_size=(1, 1), stride=(1, 1), bias=False)\n",
       "            (bn): BatchNorm2d(512, eps=1e-05, momentum=0.1, affine=True, track_running_stats=True)\n",
       "            (prelu): PReLU(num_parameters=512)\n",
       "          )\n",
       "          (conv_dw): MDConv(\n",
       "            (mixed_depthwise_conv): ModuleList(\n",
       "              (0): Conv2d(172, 172, kernel_size=(3, 3), stride=(1, 1), padding=(1, 1), groups=172, bias=False)\n",
       "              (1): Conv2d(170, 170, kernel_size=(5, 5), stride=(1, 1), padding=(2, 2), groups=170, bias=False)\n",
       "              (2): Conv2d(170, 170, kernel_size=(7, 7), stride=(1, 1), padding=(3, 3), groups=170, bias=False)\n",
       "            )\n",
       "            (bn): BatchNorm2d(512, eps=1e-05, momentum=0.1, affine=True, track_running_stats=True)\n",
       "            (prelu): PReLU(num_parameters=512)\n",
       "          )\n",
       "          (CA): CoordAtt(\n",
       "            (pool_h): AdaptiveAvgPool2d(output_size=(None, 1))\n",
       "            (pool_w): AdaptiveAvgPool2d(output_size=(1, None))\n",
       "            (conv1): Conv2d(512, 16, kernel_size=(1, 1), stride=(1, 1))\n",
       "            (bn1): BatchNorm2d(16, eps=1e-05, momentum=0.1, affine=True, track_running_stats=True)\n",
       "            (conv2): Conv2d(16, 512, kernel_size=(1, 1), stride=(1, 1))\n",
       "            (conv3): Conv2d(16, 512, kernel_size=(1, 1), stride=(1, 1))\n",
       "            (relu): h_swish(\n",
       "              (sigmoid): h_sigmoid(\n",
       "                (relu): ReLU6(inplace=True)\n",
       "              )\n",
       "            )\n",
       "          )\n",
       "          (project): Linear_block(\n",
       "            (conv): Conv2d(512, 256, kernel_size=(1, 1), stride=(1, 1), bias=False)\n",
       "            (bn): BatchNorm2d(256, eps=1e-05, momentum=0.1, affine=True, track_running_stats=True)\n",
       "          )\n",
       "        )\n",
       "        (2): Mix_Depth_Wise(\n",
       "          (conv): Conv_block(\n",
       "            (conv): Conv2d(256, 512, kernel_size=(1, 1), stride=(1, 1), bias=False)\n",
       "            (bn): BatchNorm2d(512, eps=1e-05, momentum=0.1, affine=True, track_running_stats=True)\n",
       "            (prelu): PReLU(num_parameters=512)\n",
       "          )\n",
       "          (conv_dw): MDConv(\n",
       "            (mixed_depthwise_conv): ModuleList(\n",
       "              (0): Conv2d(172, 172, kernel_size=(3, 3), stride=(1, 1), padding=(1, 1), groups=172, bias=False)\n",
       "              (1): Conv2d(170, 170, kernel_size=(5, 5), stride=(1, 1), padding=(2, 2), groups=170, bias=False)\n",
       "              (2): Conv2d(170, 170, kernel_size=(7, 7), stride=(1, 1), padding=(3, 3), groups=170, bias=False)\n",
       "            )\n",
       "            (bn): BatchNorm2d(512, eps=1e-05, momentum=0.1, affine=True, track_running_stats=True)\n",
       "            (prelu): PReLU(num_parameters=512)\n",
       "          )\n",
       "          (CA): CoordAtt(\n",
       "            (pool_h): AdaptiveAvgPool2d(output_size=(None, 1))\n",
       "            (pool_w): AdaptiveAvgPool2d(output_size=(1, None))\n",
       "            (conv1): Conv2d(512, 16, kernel_size=(1, 1), stride=(1, 1))\n",
       "            (bn1): BatchNorm2d(16, eps=1e-05, momentum=0.1, affine=True, track_running_stats=True)\n",
       "            (conv2): Conv2d(16, 512, kernel_size=(1, 1), stride=(1, 1))\n",
       "            (conv3): Conv2d(16, 512, kernel_size=(1, 1), stride=(1, 1))\n",
       "            (relu): h_swish(\n",
       "              (sigmoid): h_sigmoid(\n",
       "                (relu): ReLU6(inplace=True)\n",
       "              )\n",
       "            )\n",
       "          )\n",
       "          (project): Linear_block(\n",
       "            (conv): Conv2d(512, 256, kernel_size=(1, 1), stride=(1, 1), bias=False)\n",
       "            (bn): BatchNorm2d(256, eps=1e-05, momentum=0.1, affine=True, track_running_stats=True)\n",
       "          )\n",
       "        )\n",
       "        (3): Mix_Depth_Wise(\n",
       "          (conv): Conv_block(\n",
       "            (conv): Conv2d(256, 512, kernel_size=(1, 1), stride=(1, 1), bias=False)\n",
       "            (bn): BatchNorm2d(512, eps=1e-05, momentum=0.1, affine=True, track_running_stats=True)\n",
       "            (prelu): PReLU(num_parameters=512)\n",
       "          )\n",
       "          (conv_dw): MDConv(\n",
       "            (mixed_depthwise_conv): ModuleList(\n",
       "              (0): Conv2d(172, 172, kernel_size=(3, 3), stride=(1, 1), padding=(1, 1), groups=172, bias=False)\n",
       "              (1): Conv2d(170, 170, kernel_size=(5, 5), stride=(1, 1), padding=(2, 2), groups=170, bias=False)\n",
       "              (2): Conv2d(170, 170, kernel_size=(7, 7), stride=(1, 1), padding=(3, 3), groups=170, bias=False)\n",
       "            )\n",
       "            (bn): BatchNorm2d(512, eps=1e-05, momentum=0.1, affine=True, track_running_stats=True)\n",
       "            (prelu): PReLU(num_parameters=512)\n",
       "          )\n",
       "          (CA): CoordAtt(\n",
       "            (pool_h): AdaptiveAvgPool2d(output_size=(None, 1))\n",
       "            (pool_w): AdaptiveAvgPool2d(output_size=(1, None))\n",
       "            (conv1): Conv2d(512, 16, kernel_size=(1, 1), stride=(1, 1))\n",
       "            (bn1): BatchNorm2d(16, eps=1e-05, momentum=0.1, affine=True, track_running_stats=True)\n",
       "            (conv2): Conv2d(16, 512, kernel_size=(1, 1), stride=(1, 1))\n",
       "            (conv3): Conv2d(16, 512, kernel_size=(1, 1), stride=(1, 1))\n",
       "            (relu): h_swish(\n",
       "              (sigmoid): h_sigmoid(\n",
       "                (relu): ReLU6(inplace=True)\n",
       "              )\n",
       "            )\n",
       "          )\n",
       "          (project): Linear_block(\n",
       "            (conv): Conv2d(512, 256, kernel_size=(1, 1), stride=(1, 1), bias=False)\n",
       "            (bn): BatchNorm2d(256, eps=1e-05, momentum=0.1, affine=True, track_running_stats=True)\n",
       "          )\n",
       "        )\n",
       "        (4): Mix_Depth_Wise(\n",
       "          (conv): Conv_block(\n",
       "            (conv): Conv2d(256, 512, kernel_size=(1, 1), stride=(1, 1), bias=False)\n",
       "            (bn): BatchNorm2d(512, eps=1e-05, momentum=0.1, affine=True, track_running_stats=True)\n",
       "            (prelu): PReLU(num_parameters=512)\n",
       "          )\n",
       "          (conv_dw): MDConv(\n",
       "            (mixed_depthwise_conv): ModuleList(\n",
       "              (0): Conv2d(172, 172, kernel_size=(3, 3), stride=(1, 1), padding=(1, 1), groups=172, bias=False)\n",
       "              (1): Conv2d(170, 170, kernel_size=(5, 5), stride=(1, 1), padding=(2, 2), groups=170, bias=False)\n",
       "              (2): Conv2d(170, 170, kernel_size=(7, 7), stride=(1, 1), padding=(3, 3), groups=170, bias=False)\n",
       "            )\n",
       "            (bn): BatchNorm2d(512, eps=1e-05, momentum=0.1, affine=True, track_running_stats=True)\n",
       "            (prelu): PReLU(num_parameters=512)\n",
       "          )\n",
       "          (CA): CoordAtt(\n",
       "            (pool_h): AdaptiveAvgPool2d(output_size=(None, 1))\n",
       "            (pool_w): AdaptiveAvgPool2d(output_size=(1, None))\n",
       "            (conv1): Conv2d(512, 16, kernel_size=(1, 1), stride=(1, 1))\n",
       "            (bn1): BatchNorm2d(16, eps=1e-05, momentum=0.1, affine=True, track_running_stats=True)\n",
       "            (conv2): Conv2d(16, 512, kernel_size=(1, 1), stride=(1, 1))\n",
       "            (conv3): Conv2d(16, 512, kernel_size=(1, 1), stride=(1, 1))\n",
       "            (relu): h_swish(\n",
       "              (sigmoid): h_sigmoid(\n",
       "                (relu): ReLU6(inplace=True)\n",
       "              )\n",
       "            )\n",
       "          )\n",
       "          (project): Linear_block(\n",
       "            (conv): Conv2d(512, 256, kernel_size=(1, 1), stride=(1, 1), bias=False)\n",
       "            (bn): BatchNorm2d(256, eps=1e-05, momentum=0.1, affine=True, track_running_stats=True)\n",
       "          )\n",
       "        )\n",
       "        (5): Mix_Depth_Wise(\n",
       "          (conv): Conv_block(\n",
       "            (conv): Conv2d(256, 512, kernel_size=(1, 1), stride=(1, 1), bias=False)\n",
       "            (bn): BatchNorm2d(512, eps=1e-05, momentum=0.1, affine=True, track_running_stats=True)\n",
       "            (prelu): PReLU(num_parameters=512)\n",
       "          )\n",
       "          (conv_dw): MDConv(\n",
       "            (mixed_depthwise_conv): ModuleList(\n",
       "              (0): Conv2d(172, 172, kernel_size=(3, 3), stride=(1, 1), padding=(1, 1), groups=172, bias=False)\n",
       "              (1): Conv2d(170, 170, kernel_size=(5, 5), stride=(1, 1), padding=(2, 2), groups=170, bias=False)\n",
       "              (2): Conv2d(170, 170, kernel_size=(7, 7), stride=(1, 1), padding=(3, 3), groups=170, bias=False)\n",
       "            )\n",
       "            (bn): BatchNorm2d(512, eps=1e-05, momentum=0.1, affine=True, track_running_stats=True)\n",
       "            (prelu): PReLU(num_parameters=512)\n",
       "          )\n",
       "          (CA): CoordAtt(\n",
       "            (pool_h): AdaptiveAvgPool2d(output_size=(None, 1))\n",
       "            (pool_w): AdaptiveAvgPool2d(output_size=(1, None))\n",
       "            (conv1): Conv2d(512, 16, kernel_size=(1, 1), stride=(1, 1))\n",
       "            (bn1): BatchNorm2d(16, eps=1e-05, momentum=0.1, affine=True, track_running_stats=True)\n",
       "            (conv2): Conv2d(16, 512, kernel_size=(1, 1), stride=(1, 1))\n",
       "            (conv3): Conv2d(16, 512, kernel_size=(1, 1), stride=(1, 1))\n",
       "            (relu): h_swish(\n",
       "              (sigmoid): h_sigmoid(\n",
       "                (relu): ReLU6(inplace=True)\n",
       "              )\n",
       "            )\n",
       "          )\n",
       "          (project): Linear_block(\n",
       "            (conv): Conv2d(512, 256, kernel_size=(1, 1), stride=(1, 1), bias=False)\n",
       "            (bn): BatchNorm2d(256, eps=1e-05, momentum=0.1, affine=True, track_running_stats=True)\n",
       "          )\n",
       "        )\n",
       "      )\n",
       "    )\n",
       "    (8): Conv_block(\n",
       "      (conv): Conv2d(256, 512, kernel_size=(1, 1), stride=(1, 1), bias=False)\n",
       "      (bn): BatchNorm2d(512, eps=1e-05, momentum=0.1, affine=True, track_running_stats=True)\n",
       "      (prelu): PReLU(num_parameters=512)\n",
       "    )\n",
       "  )\n",
       "  (cat_head0): CoordAttHead(\n",
       "    (CoordAtt): CoordAtt(\n",
       "      (Linear_h): Linear_block(\n",
       "        (conv): Conv2d(512, 512, kernel_size=(1, 7), stride=(1, 1), groups=512, bias=False)\n",
       "        (bn): BatchNorm2d(512, eps=1e-05, momentum=0.1, affine=True, track_running_stats=True)\n",
       "      )\n",
       "      (Linear_w): Linear_block(\n",
       "        (conv): Conv2d(512, 512, kernel_size=(7, 1), stride=(1, 1), groups=512, bias=False)\n",
       "        (bn): BatchNorm2d(512, eps=1e-05, momentum=0.1, affine=True, track_running_stats=True)\n",
       "      )\n",
       "      (conv1): Conv2d(512, 16, kernel_size=(1, 1), stride=(1, 1))\n",
       "      (bn1): BatchNorm2d(16, eps=1e-05, momentum=0.1, affine=True, track_running_stats=True)\n",
       "      (conv2): Conv2d(16, 512, kernel_size=(1, 1), stride=(1, 1))\n",
       "      (conv3): Conv2d(16, 512, kernel_size=(1, 1), stride=(1, 1))\n",
       "      (relu): h_swish(\n",
       "        (sigmoid): h_sigmoid(\n",
       "          (relu): ReLU6(inplace=True)\n",
       "        )\n",
       "      )\n",
       "      (Linear): Linear_block(\n",
       "        (conv): Conv2d(512, 512, kernel_size=(7, 7), stride=(1, 1), groups=512, bias=False)\n",
       "        (bn): BatchNorm2d(512, eps=1e-05, momentum=0.1, affine=True, track_running_stats=True)\n",
       "      )\n",
       "      (flatten): Flatten()\n",
       "    )\n",
       "  )\n",
       "  (cat_head1): CoordAttHead(\n",
       "    (CoordAtt): CoordAtt(\n",
       "      (Linear_h): Linear_block(\n",
       "        (conv): Conv2d(512, 512, kernel_size=(1, 7), stride=(1, 1), groups=512, bias=False)\n",
       "        (bn): BatchNorm2d(512, eps=1e-05, momentum=0.1, affine=True, track_running_stats=True)\n",
       "      )\n",
       "      (Linear_w): Linear_block(\n",
       "        (conv): Conv2d(512, 512, kernel_size=(7, 1), stride=(1, 1), groups=512, bias=False)\n",
       "        (bn): BatchNorm2d(512, eps=1e-05, momentum=0.1, affine=True, track_running_stats=True)\n",
       "      )\n",
       "      (conv1): Conv2d(512, 16, kernel_size=(1, 1), stride=(1, 1))\n",
       "      (bn1): BatchNorm2d(16, eps=1e-05, momentum=0.1, affine=True, track_running_stats=True)\n",
       "      (conv2): Conv2d(16, 512, kernel_size=(1, 1), stride=(1, 1))\n",
       "      (conv3): Conv2d(16, 512, kernel_size=(1, 1), stride=(1, 1))\n",
       "      (relu): h_swish(\n",
       "        (sigmoid): h_sigmoid(\n",
       "          (relu): ReLU6(inplace=True)\n",
       "        )\n",
       "      )\n",
       "      (Linear): Linear_block(\n",
       "        (conv): Conv2d(512, 512, kernel_size=(7, 7), stride=(1, 1), groups=512, bias=False)\n",
       "        (bn): BatchNorm2d(512, eps=1e-05, momentum=0.1, affine=True, track_running_stats=True)\n",
       "      )\n",
       "      (flatten): Flatten()\n",
       "    )\n",
       "  )\n",
       "  (Linear): Linear_block(\n",
       "    (conv): Conv2d(512, 512, kernel_size=(7, 7), stride=(1, 1), groups=512, bias=False)\n",
       "    (bn): BatchNorm2d(512, eps=1e-05, momentum=0.1, affine=True, track_running_stats=True)\n",
       "  )\n",
       "  (flatten): Flatten()\n",
       "  (fc): Linear(in_features=512, out_features=10, bias=True)\n",
       "  (bn): Identity()\n",
       ")"
      ]
     },
     "execution_count": 8,
     "metadata": {},
     "output_type": "execute_result"
    }
   ],
   "source": [
    "feature_extractor_model"
   ]
  },
  {
   "cell_type": "code",
   "execution_count": 8,
   "metadata": {},
   "outputs": [
    {
     "name": "stdout",
     "output_type": "stream",
     "text": [
      "(10, 512) [[ 0.01794354 -0.03431091 -0.00016818 ... -0.0268224  -0.02347743\n",
      "   0.02176051]\n",
      " [-0.02611435 -0.02214147  0.03573207 ... -0.00466314  0.04239551\n",
      "  -0.01990408]\n",
      " [-0.05963856 -0.01730311  0.04917104 ... -0.01539477 -0.00746309\n",
      "  -0.01494454]\n",
      " ...\n",
      " [ 0.04475736 -0.00453137  0.0154746  ... -0.00426385 -0.00999709\n",
      "  -0.01408496]\n",
      " [ 0.0183069  -0.00611857 -0.00720661 ...  0.00141637 -0.01378473\n",
      "  -0.00045164]\n",
      " [ 0.01398357  0.00257701  0.00391316 ... -0.00689993 -0.0030514\n",
      "   0.03322613]]\n",
      "(10,) [ 0.00227628  0.00355737 -0.00111303 -0.03025234 -0.0463375   0.0778885\n",
      "  0.01492943 -0.01847218 -0.05123357  0.05881068]\n"
     ]
    }
   ],
   "source": [
    "if False:\n",
    "    classifier_weights=feature_extractor_model.classifier[0].weight.cpu().data.numpy()\n",
    "    classifier_bias=feature_extractor_model.classifier[0].bias.cpu().data.numpy()\n",
    "elif False:\n",
    "    classifier_weights=feature_extractor_model.classifier.weight.cpu().data.numpy()\n",
    "    classifier_bias=feature_extractor_model.classifier.bias.cpu().data.numpy()\n",
    "elif False:\n",
    "    classifier_weights=feature_extractor_model.head.fc.weight.cpu().data.numpy()\n",
    "    classifier_bias=feature_extractor_model.head.fc.bias.cpu().data.numpy()\n",
    "else:\n",
    "    classifier_weights=feature_extractor_model.fc.weight.cpu().data.numpy()\n",
    "    classifier_bias=feature_extractor_model.fc.bias.cpu().data.numpy()\n",
    "print(classifier_weights.shape,classifier_weights)\n",
    "print(classifier_bias.shape,classifier_bias)"
   ]
  },
  {
   "cell_type": "code",
   "execution_count": 9,
   "metadata": {},
   "outputs": [
    {
     "data": {
      "text/plain": [
       "DDAMNet(\n",
       "  (features): Sequential(\n",
       "    (0): Conv_block(\n",
       "      (conv): Conv2d(3, 64, kernel_size=(3, 3), stride=(2, 2), padding=(1, 1), bias=False)\n",
       "      (bn): BatchNorm2d(64, eps=1e-05, momentum=0.1, affine=True, track_running_stats=True)\n",
       "      (prelu): PReLU(num_parameters=64)\n",
       "    )\n",
       "    (1): Conv_block(\n",
       "      (conv): Conv2d(64, 64, kernel_size=(3, 3), stride=(1, 1), padding=(1, 1), groups=64, bias=False)\n",
       "      (bn): BatchNorm2d(64, eps=1e-05, momentum=0.1, affine=True, track_running_stats=True)\n",
       "      (prelu): PReLU(num_parameters=64)\n",
       "    )\n",
       "    (2): Mix_Depth_Wise(\n",
       "      (conv): Conv_block(\n",
       "        (conv): Conv2d(64, 128, kernel_size=(1, 1), stride=(1, 1), bias=False)\n",
       "        (bn): BatchNorm2d(128, eps=1e-05, momentum=0.1, affine=True, track_running_stats=True)\n",
       "        (prelu): PReLU(num_parameters=128)\n",
       "      )\n",
       "      (conv_dw): MDConv(\n",
       "        (mixed_depthwise_conv): ModuleList(\n",
       "          (0): Conv2d(64, 64, kernel_size=(3, 3), stride=(2, 2), padding=(1, 1), groups=64, bias=False)\n",
       "          (1): Conv2d(32, 32, kernel_size=(5, 5), stride=(2, 2), padding=(2, 2), groups=32, bias=False)\n",
       "          (2): Conv2d(32, 32, kernel_size=(7, 7), stride=(2, 2), padding=(3, 3), groups=32, bias=False)\n",
       "        )\n",
       "        (bn): BatchNorm2d(128, eps=1e-05, momentum=0.1, affine=True, track_running_stats=True)\n",
       "        (prelu): PReLU(num_parameters=128)\n",
       "      )\n",
       "      (CA): CoordAtt(\n",
       "        (pool_h): AdaptiveAvgPool2d(output_size=(None, 1))\n",
       "        (pool_w): AdaptiveAvgPool2d(output_size=(1, None))\n",
       "        (conv1): Conv2d(128, 8, kernel_size=(1, 1), stride=(1, 1))\n",
       "        (bn1): BatchNorm2d(8, eps=1e-05, momentum=0.1, affine=True, track_running_stats=True)\n",
       "        (conv2): Conv2d(8, 128, kernel_size=(1, 1), stride=(1, 1))\n",
       "        (conv3): Conv2d(8, 128, kernel_size=(1, 1), stride=(1, 1))\n",
       "        (relu): h_swish(\n",
       "          (sigmoid): h_sigmoid(\n",
       "            (relu): ReLU6(inplace=True)\n",
       "          )\n",
       "        )\n",
       "      )\n",
       "      (project): Linear_block(\n",
       "        (conv): Conv2d(128, 64, kernel_size=(1, 1), stride=(1, 1), bias=False)\n",
       "        (bn): BatchNorm2d(64, eps=1e-05, momentum=0.1, affine=True, track_running_stats=True)\n",
       "      )\n",
       "    )\n",
       "    (3): Mix_Residual(\n",
       "      (model): Sequential(\n",
       "        (0): Mix_Depth_Wise(\n",
       "          (conv): Conv_block(\n",
       "            (conv): Conv2d(64, 128, kernel_size=(1, 1), stride=(1, 1), bias=False)\n",
       "            (bn): BatchNorm2d(128, eps=1e-05, momentum=0.1, affine=True, track_running_stats=True)\n",
       "            (prelu): PReLU(num_parameters=128)\n",
       "          )\n",
       "          (conv_dw): MDConv(\n",
       "            (mixed_depthwise_conv): ModuleList(\n",
       "              (0): Conv2d(96, 96, kernel_size=(3, 3), stride=(1, 1), padding=(1, 1), groups=96, bias=False)\n",
       "              (1): Conv2d(32, 32, kernel_size=(5, 5), stride=(1, 1), padding=(2, 2), groups=32, bias=False)\n",
       "            )\n",
       "            (bn): BatchNorm2d(128, eps=1e-05, momentum=0.1, affine=True, track_running_stats=True)\n",
       "            (prelu): PReLU(num_parameters=128)\n",
       "          )\n",
       "          (CA): CoordAtt(\n",
       "            (pool_h): AdaptiveAvgPool2d(output_size=(None, 1))\n",
       "            (pool_w): AdaptiveAvgPool2d(output_size=(1, None))\n",
       "            (conv1): Conv2d(128, 8, kernel_size=(1, 1), stride=(1, 1))\n",
       "            (bn1): BatchNorm2d(8, eps=1e-05, momentum=0.1, affine=True, track_running_stats=True)\n",
       "            (conv2): Conv2d(8, 128, kernel_size=(1, 1), stride=(1, 1))\n",
       "            (conv3): Conv2d(8, 128, kernel_size=(1, 1), stride=(1, 1))\n",
       "            (relu): h_swish(\n",
       "              (sigmoid): h_sigmoid(\n",
       "                (relu): ReLU6(inplace=True)\n",
       "              )\n",
       "            )\n",
       "          )\n",
       "          (project): Linear_block(\n",
       "            (conv): Conv2d(128, 64, kernel_size=(1, 1), stride=(1, 1), bias=False)\n",
       "            (bn): BatchNorm2d(64, eps=1e-05, momentum=0.1, affine=True, track_running_stats=True)\n",
       "          )\n",
       "        )\n",
       "        (1): Mix_Depth_Wise(\n",
       "          (conv): Conv_block(\n",
       "            (conv): Conv2d(64, 128, kernel_size=(1, 1), stride=(1, 1), bias=False)\n",
       "            (bn): BatchNorm2d(128, eps=1e-05, momentum=0.1, affine=True, track_running_stats=True)\n",
       "            (prelu): PReLU(num_parameters=128)\n",
       "          )\n",
       "          (conv_dw): MDConv(\n",
       "            (mixed_depthwise_conv): ModuleList(\n",
       "              (0): Conv2d(96, 96, kernel_size=(3, 3), stride=(1, 1), padding=(1, 1), groups=96, bias=False)\n",
       "              (1): Conv2d(32, 32, kernel_size=(5, 5), stride=(1, 1), padding=(2, 2), groups=32, bias=False)\n",
       "            )\n",
       "            (bn): BatchNorm2d(128, eps=1e-05, momentum=0.1, affine=True, track_running_stats=True)\n",
       "            (prelu): PReLU(num_parameters=128)\n",
       "          )\n",
       "          (CA): CoordAtt(\n",
       "            (pool_h): AdaptiveAvgPool2d(output_size=(None, 1))\n",
       "            (pool_w): AdaptiveAvgPool2d(output_size=(1, None))\n",
       "            (conv1): Conv2d(128, 8, kernel_size=(1, 1), stride=(1, 1))\n",
       "            (bn1): BatchNorm2d(8, eps=1e-05, momentum=0.1, affine=True, track_running_stats=True)\n",
       "            (conv2): Conv2d(8, 128, kernel_size=(1, 1), stride=(1, 1))\n",
       "            (conv3): Conv2d(8, 128, kernel_size=(1, 1), stride=(1, 1))\n",
       "            (relu): h_swish(\n",
       "              (sigmoid): h_sigmoid(\n",
       "                (relu): ReLU6(inplace=True)\n",
       "              )\n",
       "            )\n",
       "          )\n",
       "          (project): Linear_block(\n",
       "            (conv): Conv2d(128, 64, kernel_size=(1, 1), stride=(1, 1), bias=False)\n",
       "            (bn): BatchNorm2d(64, eps=1e-05, momentum=0.1, affine=True, track_running_stats=True)\n",
       "          )\n",
       "        )\n",
       "        (2): Mix_Depth_Wise(\n",
       "          (conv): Conv_block(\n",
       "            (conv): Conv2d(64, 128, kernel_size=(1, 1), stride=(1, 1), bias=False)\n",
       "            (bn): BatchNorm2d(128, eps=1e-05, momentum=0.1, affine=True, track_running_stats=True)\n",
       "            (prelu): PReLU(num_parameters=128)\n",
       "          )\n",
       "          (conv_dw): MDConv(\n",
       "            (mixed_depthwise_conv): ModuleList(\n",
       "              (0): Conv2d(96, 96, kernel_size=(3, 3), stride=(1, 1), padding=(1, 1), groups=96, bias=False)\n",
       "              (1): Conv2d(32, 32, kernel_size=(5, 5), stride=(1, 1), padding=(2, 2), groups=32, bias=False)\n",
       "            )\n",
       "            (bn): BatchNorm2d(128, eps=1e-05, momentum=0.1, affine=True, track_running_stats=True)\n",
       "            (prelu): PReLU(num_parameters=128)\n",
       "          )\n",
       "          (CA): CoordAtt(\n",
       "            (pool_h): AdaptiveAvgPool2d(output_size=(None, 1))\n",
       "            (pool_w): AdaptiveAvgPool2d(output_size=(1, None))\n",
       "            (conv1): Conv2d(128, 8, kernel_size=(1, 1), stride=(1, 1))\n",
       "            (bn1): BatchNorm2d(8, eps=1e-05, momentum=0.1, affine=True, track_running_stats=True)\n",
       "            (conv2): Conv2d(8, 128, kernel_size=(1, 1), stride=(1, 1))\n",
       "            (conv3): Conv2d(8, 128, kernel_size=(1, 1), stride=(1, 1))\n",
       "            (relu): h_swish(\n",
       "              (sigmoid): h_sigmoid(\n",
       "                (relu): ReLU6(inplace=True)\n",
       "              )\n",
       "            )\n",
       "          )\n",
       "          (project): Linear_block(\n",
       "            (conv): Conv2d(128, 64, kernel_size=(1, 1), stride=(1, 1), bias=False)\n",
       "            (bn): BatchNorm2d(64, eps=1e-05, momentum=0.1, affine=True, track_running_stats=True)\n",
       "          )\n",
       "        )\n",
       "        (3): Mix_Depth_Wise(\n",
       "          (conv): Conv_block(\n",
       "            (conv): Conv2d(64, 128, kernel_size=(1, 1), stride=(1, 1), bias=False)\n",
       "            (bn): BatchNorm2d(128, eps=1e-05, momentum=0.1, affine=True, track_running_stats=True)\n",
       "            (prelu): PReLU(num_parameters=128)\n",
       "          )\n",
       "          (conv_dw): MDConv(\n",
       "            (mixed_depthwise_conv): ModuleList(\n",
       "              (0): Conv2d(96, 96, kernel_size=(3, 3), stride=(1, 1), padding=(1, 1), groups=96, bias=False)\n",
       "              (1): Conv2d(32, 32, kernel_size=(5, 5), stride=(1, 1), padding=(2, 2), groups=32, bias=False)\n",
       "            )\n",
       "            (bn): BatchNorm2d(128, eps=1e-05, momentum=0.1, affine=True, track_running_stats=True)\n",
       "            (prelu): PReLU(num_parameters=128)\n",
       "          )\n",
       "          (CA): CoordAtt(\n",
       "            (pool_h): AdaptiveAvgPool2d(output_size=(None, 1))\n",
       "            (pool_w): AdaptiveAvgPool2d(output_size=(1, None))\n",
       "            (conv1): Conv2d(128, 8, kernel_size=(1, 1), stride=(1, 1))\n",
       "            (bn1): BatchNorm2d(8, eps=1e-05, momentum=0.1, affine=True, track_running_stats=True)\n",
       "            (conv2): Conv2d(8, 128, kernel_size=(1, 1), stride=(1, 1))\n",
       "            (conv3): Conv2d(8, 128, kernel_size=(1, 1), stride=(1, 1))\n",
       "            (relu): h_swish(\n",
       "              (sigmoid): h_sigmoid(\n",
       "                (relu): ReLU6(inplace=True)\n",
       "              )\n",
       "            )\n",
       "          )\n",
       "          (project): Linear_block(\n",
       "            (conv): Conv2d(128, 64, kernel_size=(1, 1), stride=(1, 1), bias=False)\n",
       "            (bn): BatchNorm2d(64, eps=1e-05, momentum=0.1, affine=True, track_running_stats=True)\n",
       "          )\n",
       "        )\n",
       "        (4): Mix_Depth_Wise(\n",
       "          (conv): Conv_block(\n",
       "            (conv): Conv2d(64, 128, kernel_size=(1, 1), stride=(1, 1), bias=False)\n",
       "            (bn): BatchNorm2d(128, eps=1e-05, momentum=0.1, affine=True, track_running_stats=True)\n",
       "            (prelu): PReLU(num_parameters=128)\n",
       "          )\n",
       "          (conv_dw): MDConv(\n",
       "            (mixed_depthwise_conv): ModuleList(\n",
       "              (0): Conv2d(96, 96, kernel_size=(3, 3), stride=(1, 1), padding=(1, 1), groups=96, bias=False)\n",
       "              (1): Conv2d(32, 32, kernel_size=(5, 5), stride=(1, 1), padding=(2, 2), groups=32, bias=False)\n",
       "            )\n",
       "            (bn): BatchNorm2d(128, eps=1e-05, momentum=0.1, affine=True, track_running_stats=True)\n",
       "            (prelu): PReLU(num_parameters=128)\n",
       "          )\n",
       "          (CA): CoordAtt(\n",
       "            (pool_h): AdaptiveAvgPool2d(output_size=(None, 1))\n",
       "            (pool_w): AdaptiveAvgPool2d(output_size=(1, None))\n",
       "            (conv1): Conv2d(128, 8, kernel_size=(1, 1), stride=(1, 1))\n",
       "            (bn1): BatchNorm2d(8, eps=1e-05, momentum=0.1, affine=True, track_running_stats=True)\n",
       "            (conv2): Conv2d(8, 128, kernel_size=(1, 1), stride=(1, 1))\n",
       "            (conv3): Conv2d(8, 128, kernel_size=(1, 1), stride=(1, 1))\n",
       "            (relu): h_swish(\n",
       "              (sigmoid): h_sigmoid(\n",
       "                (relu): ReLU6(inplace=True)\n",
       "              )\n",
       "            )\n",
       "          )\n",
       "          (project): Linear_block(\n",
       "            (conv): Conv2d(128, 64, kernel_size=(1, 1), stride=(1, 1), bias=False)\n",
       "            (bn): BatchNorm2d(64, eps=1e-05, momentum=0.1, affine=True, track_running_stats=True)\n",
       "          )\n",
       "        )\n",
       "        (5): Mix_Depth_Wise(\n",
       "          (conv): Conv_block(\n",
       "            (conv): Conv2d(64, 128, kernel_size=(1, 1), stride=(1, 1), bias=False)\n",
       "            (bn): BatchNorm2d(128, eps=1e-05, momentum=0.1, affine=True, track_running_stats=True)\n",
       "            (prelu): PReLU(num_parameters=128)\n",
       "          )\n",
       "          (conv_dw): MDConv(\n",
       "            (mixed_depthwise_conv): ModuleList(\n",
       "              (0): Conv2d(96, 96, kernel_size=(3, 3), stride=(1, 1), padding=(1, 1), groups=96, bias=False)\n",
       "              (1): Conv2d(32, 32, kernel_size=(5, 5), stride=(1, 1), padding=(2, 2), groups=32, bias=False)\n",
       "            )\n",
       "            (bn): BatchNorm2d(128, eps=1e-05, momentum=0.1, affine=True, track_running_stats=True)\n",
       "            (prelu): PReLU(num_parameters=128)\n",
       "          )\n",
       "          (CA): CoordAtt(\n",
       "            (pool_h): AdaptiveAvgPool2d(output_size=(None, 1))\n",
       "            (pool_w): AdaptiveAvgPool2d(output_size=(1, None))\n",
       "            (conv1): Conv2d(128, 8, kernel_size=(1, 1), stride=(1, 1))\n",
       "            (bn1): BatchNorm2d(8, eps=1e-05, momentum=0.1, affine=True, track_running_stats=True)\n",
       "            (conv2): Conv2d(8, 128, kernel_size=(1, 1), stride=(1, 1))\n",
       "            (conv3): Conv2d(8, 128, kernel_size=(1, 1), stride=(1, 1))\n",
       "            (relu): h_swish(\n",
       "              (sigmoid): h_sigmoid(\n",
       "                (relu): ReLU6(inplace=True)\n",
       "              )\n",
       "            )\n",
       "          )\n",
       "          (project): Linear_block(\n",
       "            (conv): Conv2d(128, 64, kernel_size=(1, 1), stride=(1, 1), bias=False)\n",
       "            (bn): BatchNorm2d(64, eps=1e-05, momentum=0.1, affine=True, track_running_stats=True)\n",
       "          )\n",
       "        )\n",
       "        (6): Mix_Depth_Wise(\n",
       "          (conv): Conv_block(\n",
       "            (conv): Conv2d(64, 128, kernel_size=(1, 1), stride=(1, 1), bias=False)\n",
       "            (bn): BatchNorm2d(128, eps=1e-05, momentum=0.1, affine=True, track_running_stats=True)\n",
       "            (prelu): PReLU(num_parameters=128)\n",
       "          )\n",
       "          (conv_dw): MDConv(\n",
       "            (mixed_depthwise_conv): ModuleList(\n",
       "              (0): Conv2d(96, 96, kernel_size=(3, 3), stride=(1, 1), padding=(1, 1), groups=96, bias=False)\n",
       "              (1): Conv2d(32, 32, kernel_size=(5, 5), stride=(1, 1), padding=(2, 2), groups=32, bias=False)\n",
       "            )\n",
       "            (bn): BatchNorm2d(128, eps=1e-05, momentum=0.1, affine=True, track_running_stats=True)\n",
       "            (prelu): PReLU(num_parameters=128)\n",
       "          )\n",
       "          (CA): CoordAtt(\n",
       "            (pool_h): AdaptiveAvgPool2d(output_size=(None, 1))\n",
       "            (pool_w): AdaptiveAvgPool2d(output_size=(1, None))\n",
       "            (conv1): Conv2d(128, 8, kernel_size=(1, 1), stride=(1, 1))\n",
       "            (bn1): BatchNorm2d(8, eps=1e-05, momentum=0.1, affine=True, track_running_stats=True)\n",
       "            (conv2): Conv2d(8, 128, kernel_size=(1, 1), stride=(1, 1))\n",
       "            (conv3): Conv2d(8, 128, kernel_size=(1, 1), stride=(1, 1))\n",
       "            (relu): h_swish(\n",
       "              (sigmoid): h_sigmoid(\n",
       "                (relu): ReLU6(inplace=True)\n",
       "              )\n",
       "            )\n",
       "          )\n",
       "          (project): Linear_block(\n",
       "            (conv): Conv2d(128, 64, kernel_size=(1, 1), stride=(1, 1), bias=False)\n",
       "            (bn): BatchNorm2d(64, eps=1e-05, momentum=0.1, affine=True, track_running_stats=True)\n",
       "          )\n",
       "        )\n",
       "        (7): Mix_Depth_Wise(\n",
       "          (conv): Conv_block(\n",
       "            (conv): Conv2d(64, 128, kernel_size=(1, 1), stride=(1, 1), bias=False)\n",
       "            (bn): BatchNorm2d(128, eps=1e-05, momentum=0.1, affine=True, track_running_stats=True)\n",
       "            (prelu): PReLU(num_parameters=128)\n",
       "          )\n",
       "          (conv_dw): MDConv(\n",
       "            (mixed_depthwise_conv): ModuleList(\n",
       "              (0): Conv2d(96, 96, kernel_size=(3, 3), stride=(1, 1), padding=(1, 1), groups=96, bias=False)\n",
       "              (1): Conv2d(32, 32, kernel_size=(5, 5), stride=(1, 1), padding=(2, 2), groups=32, bias=False)\n",
       "            )\n",
       "            (bn): BatchNorm2d(128, eps=1e-05, momentum=0.1, affine=True, track_running_stats=True)\n",
       "            (prelu): PReLU(num_parameters=128)\n",
       "          )\n",
       "          (CA): CoordAtt(\n",
       "            (pool_h): AdaptiveAvgPool2d(output_size=(None, 1))\n",
       "            (pool_w): AdaptiveAvgPool2d(output_size=(1, None))\n",
       "            (conv1): Conv2d(128, 8, kernel_size=(1, 1), stride=(1, 1))\n",
       "            (bn1): BatchNorm2d(8, eps=1e-05, momentum=0.1, affine=True, track_running_stats=True)\n",
       "            (conv2): Conv2d(8, 128, kernel_size=(1, 1), stride=(1, 1))\n",
       "            (conv3): Conv2d(8, 128, kernel_size=(1, 1), stride=(1, 1))\n",
       "            (relu): h_swish(\n",
       "              (sigmoid): h_sigmoid(\n",
       "                (relu): ReLU6(inplace=True)\n",
       "              )\n",
       "            )\n",
       "          )\n",
       "          (project): Linear_block(\n",
       "            (conv): Conv2d(128, 64, kernel_size=(1, 1), stride=(1, 1), bias=False)\n",
       "            (bn): BatchNorm2d(64, eps=1e-05, momentum=0.1, affine=True, track_running_stats=True)\n",
       "          )\n",
       "        )\n",
       "        (8): Mix_Depth_Wise(\n",
       "          (conv): Conv_block(\n",
       "            (conv): Conv2d(64, 128, kernel_size=(1, 1), stride=(1, 1), bias=False)\n",
       "            (bn): BatchNorm2d(128, eps=1e-05, momentum=0.1, affine=True, track_running_stats=True)\n",
       "            (prelu): PReLU(num_parameters=128)\n",
       "          )\n",
       "          (conv_dw): MDConv(\n",
       "            (mixed_depthwise_conv): ModuleList(\n",
       "              (0): Conv2d(96, 96, kernel_size=(3, 3), stride=(1, 1), padding=(1, 1), groups=96, bias=False)\n",
       "              (1): Conv2d(32, 32, kernel_size=(5, 5), stride=(1, 1), padding=(2, 2), groups=32, bias=False)\n",
       "            )\n",
       "            (bn): BatchNorm2d(128, eps=1e-05, momentum=0.1, affine=True, track_running_stats=True)\n",
       "            (prelu): PReLU(num_parameters=128)\n",
       "          )\n",
       "          (CA): CoordAtt(\n",
       "            (pool_h): AdaptiveAvgPool2d(output_size=(None, 1))\n",
       "            (pool_w): AdaptiveAvgPool2d(output_size=(1, None))\n",
       "            (conv1): Conv2d(128, 8, kernel_size=(1, 1), stride=(1, 1))\n",
       "            (bn1): BatchNorm2d(8, eps=1e-05, momentum=0.1, affine=True, track_running_stats=True)\n",
       "            (conv2): Conv2d(8, 128, kernel_size=(1, 1), stride=(1, 1))\n",
       "            (conv3): Conv2d(8, 128, kernel_size=(1, 1), stride=(1, 1))\n",
       "            (relu): h_swish(\n",
       "              (sigmoid): h_sigmoid(\n",
       "                (relu): ReLU6(inplace=True)\n",
       "              )\n",
       "            )\n",
       "          )\n",
       "          (project): Linear_block(\n",
       "            (conv): Conv2d(128, 64, kernel_size=(1, 1), stride=(1, 1), bias=False)\n",
       "            (bn): BatchNorm2d(64, eps=1e-05, momentum=0.1, affine=True, track_running_stats=True)\n",
       "          )\n",
       "        )\n",
       "      )\n",
       "    )\n",
       "    (4): Mix_Depth_Wise(\n",
       "      (conv): Conv_block(\n",
       "        (conv): Conv2d(64, 256, kernel_size=(1, 1), stride=(1, 1), bias=False)\n",
       "        (bn): BatchNorm2d(256, eps=1e-05, momentum=0.1, affine=True, track_running_stats=True)\n",
       "        (prelu): PReLU(num_parameters=256)\n",
       "      )\n",
       "      (conv_dw): MDConv(\n",
       "        (mixed_depthwise_conv): ModuleList(\n",
       "          (0): Conv2d(128, 128, kernel_size=(3, 3), stride=(2, 2), padding=(1, 1), groups=128, bias=False)\n",
       "          (1): Conv2d(64, 64, kernel_size=(5, 5), stride=(2, 2), padding=(2, 2), groups=64, bias=False)\n",
       "          (2): Conv2d(64, 64, kernel_size=(7, 7), stride=(2, 2), padding=(3, 3), groups=64, bias=False)\n",
       "        )\n",
       "        (bn): BatchNorm2d(256, eps=1e-05, momentum=0.1, affine=True, track_running_stats=True)\n",
       "        (prelu): PReLU(num_parameters=256)\n",
       "      )\n",
       "      (CA): CoordAtt(\n",
       "        (pool_h): AdaptiveAvgPool2d(output_size=(None, 1))\n",
       "        (pool_w): AdaptiveAvgPool2d(output_size=(1, None))\n",
       "        (conv1): Conv2d(256, 8, kernel_size=(1, 1), stride=(1, 1))\n",
       "        (bn1): BatchNorm2d(8, eps=1e-05, momentum=0.1, affine=True, track_running_stats=True)\n",
       "        (conv2): Conv2d(8, 256, kernel_size=(1, 1), stride=(1, 1))\n",
       "        (conv3): Conv2d(8, 256, kernel_size=(1, 1), stride=(1, 1))\n",
       "        (relu): h_swish(\n",
       "          (sigmoid): h_sigmoid(\n",
       "            (relu): ReLU6(inplace=True)\n",
       "          )\n",
       "        )\n",
       "      )\n",
       "      (project): Linear_block(\n",
       "        (conv): Conv2d(256, 128, kernel_size=(1, 1), stride=(1, 1), bias=False)\n",
       "        (bn): BatchNorm2d(128, eps=1e-05, momentum=0.1, affine=True, track_running_stats=True)\n",
       "      )\n",
       "    )\n",
       "    (5): Mix_Residual(\n",
       "      (model): Sequential(\n",
       "        (0): Mix_Depth_Wise(\n",
       "          (conv): Conv_block(\n",
       "            (conv): Conv2d(128, 256, kernel_size=(1, 1), stride=(1, 1), bias=False)\n",
       "            (bn): BatchNorm2d(256, eps=1e-05, momentum=0.1, affine=True, track_running_stats=True)\n",
       "            (prelu): PReLU(num_parameters=256)\n",
       "          )\n",
       "          (conv_dw): MDConv(\n",
       "            (mixed_depthwise_conv): ModuleList(\n",
       "              (0): Conv2d(192, 192, kernel_size=(3, 3), stride=(1, 1), padding=(1, 1), groups=192, bias=False)\n",
       "              (1): Conv2d(64, 64, kernel_size=(5, 5), stride=(1, 1), padding=(2, 2), groups=64, bias=False)\n",
       "            )\n",
       "            (bn): BatchNorm2d(256, eps=1e-05, momentum=0.1, affine=True, track_running_stats=True)\n",
       "            (prelu): PReLU(num_parameters=256)\n",
       "          )\n",
       "          (CA): CoordAtt(\n",
       "            (pool_h): AdaptiveAvgPool2d(output_size=(None, 1))\n",
       "            (pool_w): AdaptiveAvgPool2d(output_size=(1, None))\n",
       "            (conv1): Conv2d(256, 8, kernel_size=(1, 1), stride=(1, 1))\n",
       "            (bn1): BatchNorm2d(8, eps=1e-05, momentum=0.1, affine=True, track_running_stats=True)\n",
       "            (conv2): Conv2d(8, 256, kernel_size=(1, 1), stride=(1, 1))\n",
       "            (conv3): Conv2d(8, 256, kernel_size=(1, 1), stride=(1, 1))\n",
       "            (relu): h_swish(\n",
       "              (sigmoid): h_sigmoid(\n",
       "                (relu): ReLU6(inplace=True)\n",
       "              )\n",
       "            )\n",
       "          )\n",
       "          (project): Linear_block(\n",
       "            (conv): Conv2d(256, 128, kernel_size=(1, 1), stride=(1, 1), bias=False)\n",
       "            (bn): BatchNorm2d(128, eps=1e-05, momentum=0.1, affine=True, track_running_stats=True)\n",
       "          )\n",
       "        )\n",
       "        (1): Mix_Depth_Wise(\n",
       "          (conv): Conv_block(\n",
       "            (conv): Conv2d(128, 256, kernel_size=(1, 1), stride=(1, 1), bias=False)\n",
       "            (bn): BatchNorm2d(256, eps=1e-05, momentum=0.1, affine=True, track_running_stats=True)\n",
       "            (prelu): PReLU(num_parameters=256)\n",
       "          )\n",
       "          (conv_dw): MDConv(\n",
       "            (mixed_depthwise_conv): ModuleList(\n",
       "              (0): Conv2d(192, 192, kernel_size=(3, 3), stride=(1, 1), padding=(1, 1), groups=192, bias=False)\n",
       "              (1): Conv2d(64, 64, kernel_size=(5, 5), stride=(1, 1), padding=(2, 2), groups=64, bias=False)\n",
       "            )\n",
       "            (bn): BatchNorm2d(256, eps=1e-05, momentum=0.1, affine=True, track_running_stats=True)\n",
       "            (prelu): PReLU(num_parameters=256)\n",
       "          )\n",
       "          (CA): CoordAtt(\n",
       "            (pool_h): AdaptiveAvgPool2d(output_size=(None, 1))\n",
       "            (pool_w): AdaptiveAvgPool2d(output_size=(1, None))\n",
       "            (conv1): Conv2d(256, 8, kernel_size=(1, 1), stride=(1, 1))\n",
       "            (bn1): BatchNorm2d(8, eps=1e-05, momentum=0.1, affine=True, track_running_stats=True)\n",
       "            (conv2): Conv2d(8, 256, kernel_size=(1, 1), stride=(1, 1))\n",
       "            (conv3): Conv2d(8, 256, kernel_size=(1, 1), stride=(1, 1))\n",
       "            (relu): h_swish(\n",
       "              (sigmoid): h_sigmoid(\n",
       "                (relu): ReLU6(inplace=True)\n",
       "              )\n",
       "            )\n",
       "          )\n",
       "          (project): Linear_block(\n",
       "            (conv): Conv2d(256, 128, kernel_size=(1, 1), stride=(1, 1), bias=False)\n",
       "            (bn): BatchNorm2d(128, eps=1e-05, momentum=0.1, affine=True, track_running_stats=True)\n",
       "          )\n",
       "        )\n",
       "        (2): Mix_Depth_Wise(\n",
       "          (conv): Conv_block(\n",
       "            (conv): Conv2d(128, 256, kernel_size=(1, 1), stride=(1, 1), bias=False)\n",
       "            (bn): BatchNorm2d(256, eps=1e-05, momentum=0.1, affine=True, track_running_stats=True)\n",
       "            (prelu): PReLU(num_parameters=256)\n",
       "          )\n",
       "          (conv_dw): MDConv(\n",
       "            (mixed_depthwise_conv): ModuleList(\n",
       "              (0): Conv2d(192, 192, kernel_size=(3, 3), stride=(1, 1), padding=(1, 1), groups=192, bias=False)\n",
       "              (1): Conv2d(64, 64, kernel_size=(5, 5), stride=(1, 1), padding=(2, 2), groups=64, bias=False)\n",
       "            )\n",
       "            (bn): BatchNorm2d(256, eps=1e-05, momentum=0.1, affine=True, track_running_stats=True)\n",
       "            (prelu): PReLU(num_parameters=256)\n",
       "          )\n",
       "          (CA): CoordAtt(\n",
       "            (pool_h): AdaptiveAvgPool2d(output_size=(None, 1))\n",
       "            (pool_w): AdaptiveAvgPool2d(output_size=(1, None))\n",
       "            (conv1): Conv2d(256, 8, kernel_size=(1, 1), stride=(1, 1))\n",
       "            (bn1): BatchNorm2d(8, eps=1e-05, momentum=0.1, affine=True, track_running_stats=True)\n",
       "            (conv2): Conv2d(8, 256, kernel_size=(1, 1), stride=(1, 1))\n",
       "            (conv3): Conv2d(8, 256, kernel_size=(1, 1), stride=(1, 1))\n",
       "            (relu): h_swish(\n",
       "              (sigmoid): h_sigmoid(\n",
       "                (relu): ReLU6(inplace=True)\n",
       "              )\n",
       "            )\n",
       "          )\n",
       "          (project): Linear_block(\n",
       "            (conv): Conv2d(256, 128, kernel_size=(1, 1), stride=(1, 1), bias=False)\n",
       "            (bn): BatchNorm2d(128, eps=1e-05, momentum=0.1, affine=True, track_running_stats=True)\n",
       "          )\n",
       "        )\n",
       "        (3): Mix_Depth_Wise(\n",
       "          (conv): Conv_block(\n",
       "            (conv): Conv2d(128, 256, kernel_size=(1, 1), stride=(1, 1), bias=False)\n",
       "            (bn): BatchNorm2d(256, eps=1e-05, momentum=0.1, affine=True, track_running_stats=True)\n",
       "            (prelu): PReLU(num_parameters=256)\n",
       "          )\n",
       "          (conv_dw): MDConv(\n",
       "            (mixed_depthwise_conv): ModuleList(\n",
       "              (0): Conv2d(192, 192, kernel_size=(3, 3), stride=(1, 1), padding=(1, 1), groups=192, bias=False)\n",
       "              (1): Conv2d(64, 64, kernel_size=(5, 5), stride=(1, 1), padding=(2, 2), groups=64, bias=False)\n",
       "            )\n",
       "            (bn): BatchNorm2d(256, eps=1e-05, momentum=0.1, affine=True, track_running_stats=True)\n",
       "            (prelu): PReLU(num_parameters=256)\n",
       "          )\n",
       "          (CA): CoordAtt(\n",
       "            (pool_h): AdaptiveAvgPool2d(output_size=(None, 1))\n",
       "            (pool_w): AdaptiveAvgPool2d(output_size=(1, None))\n",
       "            (conv1): Conv2d(256, 8, kernel_size=(1, 1), stride=(1, 1))\n",
       "            (bn1): BatchNorm2d(8, eps=1e-05, momentum=0.1, affine=True, track_running_stats=True)\n",
       "            (conv2): Conv2d(8, 256, kernel_size=(1, 1), stride=(1, 1))\n",
       "            (conv3): Conv2d(8, 256, kernel_size=(1, 1), stride=(1, 1))\n",
       "            (relu): h_swish(\n",
       "              (sigmoid): h_sigmoid(\n",
       "                (relu): ReLU6(inplace=True)\n",
       "              )\n",
       "            )\n",
       "          )\n",
       "          (project): Linear_block(\n",
       "            (conv): Conv2d(256, 128, kernel_size=(1, 1), stride=(1, 1), bias=False)\n",
       "            (bn): BatchNorm2d(128, eps=1e-05, momentum=0.1, affine=True, track_running_stats=True)\n",
       "          )\n",
       "        )\n",
       "        (4): Mix_Depth_Wise(\n",
       "          (conv): Conv_block(\n",
       "            (conv): Conv2d(128, 256, kernel_size=(1, 1), stride=(1, 1), bias=False)\n",
       "            (bn): BatchNorm2d(256, eps=1e-05, momentum=0.1, affine=True, track_running_stats=True)\n",
       "            (prelu): PReLU(num_parameters=256)\n",
       "          )\n",
       "          (conv_dw): MDConv(\n",
       "            (mixed_depthwise_conv): ModuleList(\n",
       "              (0): Conv2d(192, 192, kernel_size=(3, 3), stride=(1, 1), padding=(1, 1), groups=192, bias=False)\n",
       "              (1): Conv2d(64, 64, kernel_size=(5, 5), stride=(1, 1), padding=(2, 2), groups=64, bias=False)\n",
       "            )\n",
       "            (bn): BatchNorm2d(256, eps=1e-05, momentum=0.1, affine=True, track_running_stats=True)\n",
       "            (prelu): PReLU(num_parameters=256)\n",
       "          )\n",
       "          (CA): CoordAtt(\n",
       "            (pool_h): AdaptiveAvgPool2d(output_size=(None, 1))\n",
       "            (pool_w): AdaptiveAvgPool2d(output_size=(1, None))\n",
       "            (conv1): Conv2d(256, 8, kernel_size=(1, 1), stride=(1, 1))\n",
       "            (bn1): BatchNorm2d(8, eps=1e-05, momentum=0.1, affine=True, track_running_stats=True)\n",
       "            (conv2): Conv2d(8, 256, kernel_size=(1, 1), stride=(1, 1))\n",
       "            (conv3): Conv2d(8, 256, kernel_size=(1, 1), stride=(1, 1))\n",
       "            (relu): h_swish(\n",
       "              (sigmoid): h_sigmoid(\n",
       "                (relu): ReLU6(inplace=True)\n",
       "              )\n",
       "            )\n",
       "          )\n",
       "          (project): Linear_block(\n",
       "            (conv): Conv2d(256, 128, kernel_size=(1, 1), stride=(1, 1), bias=False)\n",
       "            (bn): BatchNorm2d(128, eps=1e-05, momentum=0.1, affine=True, track_running_stats=True)\n",
       "          )\n",
       "        )\n",
       "        (5): Mix_Depth_Wise(\n",
       "          (conv): Conv_block(\n",
       "            (conv): Conv2d(128, 256, kernel_size=(1, 1), stride=(1, 1), bias=False)\n",
       "            (bn): BatchNorm2d(256, eps=1e-05, momentum=0.1, affine=True, track_running_stats=True)\n",
       "            (prelu): PReLU(num_parameters=256)\n",
       "          )\n",
       "          (conv_dw): MDConv(\n",
       "            (mixed_depthwise_conv): ModuleList(\n",
       "              (0): Conv2d(192, 192, kernel_size=(3, 3), stride=(1, 1), padding=(1, 1), groups=192, bias=False)\n",
       "              (1): Conv2d(64, 64, kernel_size=(5, 5), stride=(1, 1), padding=(2, 2), groups=64, bias=False)\n",
       "            )\n",
       "            (bn): BatchNorm2d(256, eps=1e-05, momentum=0.1, affine=True, track_running_stats=True)\n",
       "            (prelu): PReLU(num_parameters=256)\n",
       "          )\n",
       "          (CA): CoordAtt(\n",
       "            (pool_h): AdaptiveAvgPool2d(output_size=(None, 1))\n",
       "            (pool_w): AdaptiveAvgPool2d(output_size=(1, None))\n",
       "            (conv1): Conv2d(256, 8, kernel_size=(1, 1), stride=(1, 1))\n",
       "            (bn1): BatchNorm2d(8, eps=1e-05, momentum=0.1, affine=True, track_running_stats=True)\n",
       "            (conv2): Conv2d(8, 256, kernel_size=(1, 1), stride=(1, 1))\n",
       "            (conv3): Conv2d(8, 256, kernel_size=(1, 1), stride=(1, 1))\n",
       "            (relu): h_swish(\n",
       "              (sigmoid): h_sigmoid(\n",
       "                (relu): ReLU6(inplace=True)\n",
       "              )\n",
       "            )\n",
       "          )\n",
       "          (project): Linear_block(\n",
       "            (conv): Conv2d(256, 128, kernel_size=(1, 1), stride=(1, 1), bias=False)\n",
       "            (bn): BatchNorm2d(128, eps=1e-05, momentum=0.1, affine=True, track_running_stats=True)\n",
       "          )\n",
       "        )\n",
       "        (6): Mix_Depth_Wise(\n",
       "          (conv): Conv_block(\n",
       "            (conv): Conv2d(128, 256, kernel_size=(1, 1), stride=(1, 1), bias=False)\n",
       "            (bn): BatchNorm2d(256, eps=1e-05, momentum=0.1, affine=True, track_running_stats=True)\n",
       "            (prelu): PReLU(num_parameters=256)\n",
       "          )\n",
       "          (conv_dw): MDConv(\n",
       "            (mixed_depthwise_conv): ModuleList(\n",
       "              (0): Conv2d(192, 192, kernel_size=(3, 3), stride=(1, 1), padding=(1, 1), groups=192, bias=False)\n",
       "              (1): Conv2d(64, 64, kernel_size=(5, 5), stride=(1, 1), padding=(2, 2), groups=64, bias=False)\n",
       "            )\n",
       "            (bn): BatchNorm2d(256, eps=1e-05, momentum=0.1, affine=True, track_running_stats=True)\n",
       "            (prelu): PReLU(num_parameters=256)\n",
       "          )\n",
       "          (CA): CoordAtt(\n",
       "            (pool_h): AdaptiveAvgPool2d(output_size=(None, 1))\n",
       "            (pool_w): AdaptiveAvgPool2d(output_size=(1, None))\n",
       "            (conv1): Conv2d(256, 8, kernel_size=(1, 1), stride=(1, 1))\n",
       "            (bn1): BatchNorm2d(8, eps=1e-05, momentum=0.1, affine=True, track_running_stats=True)\n",
       "            (conv2): Conv2d(8, 256, kernel_size=(1, 1), stride=(1, 1))\n",
       "            (conv3): Conv2d(8, 256, kernel_size=(1, 1), stride=(1, 1))\n",
       "            (relu): h_swish(\n",
       "              (sigmoid): h_sigmoid(\n",
       "                (relu): ReLU6(inplace=True)\n",
       "              )\n",
       "            )\n",
       "          )\n",
       "          (project): Linear_block(\n",
       "            (conv): Conv2d(256, 128, kernel_size=(1, 1), stride=(1, 1), bias=False)\n",
       "            (bn): BatchNorm2d(128, eps=1e-05, momentum=0.1, affine=True, track_running_stats=True)\n",
       "          )\n",
       "        )\n",
       "        (7): Mix_Depth_Wise(\n",
       "          (conv): Conv_block(\n",
       "            (conv): Conv2d(128, 256, kernel_size=(1, 1), stride=(1, 1), bias=False)\n",
       "            (bn): BatchNorm2d(256, eps=1e-05, momentum=0.1, affine=True, track_running_stats=True)\n",
       "            (prelu): PReLU(num_parameters=256)\n",
       "          )\n",
       "          (conv_dw): MDConv(\n",
       "            (mixed_depthwise_conv): ModuleList(\n",
       "              (0): Conv2d(192, 192, kernel_size=(3, 3), stride=(1, 1), padding=(1, 1), groups=192, bias=False)\n",
       "              (1): Conv2d(64, 64, kernel_size=(5, 5), stride=(1, 1), padding=(2, 2), groups=64, bias=False)\n",
       "            )\n",
       "            (bn): BatchNorm2d(256, eps=1e-05, momentum=0.1, affine=True, track_running_stats=True)\n",
       "            (prelu): PReLU(num_parameters=256)\n",
       "          )\n",
       "          (CA): CoordAtt(\n",
       "            (pool_h): AdaptiveAvgPool2d(output_size=(None, 1))\n",
       "            (pool_w): AdaptiveAvgPool2d(output_size=(1, None))\n",
       "            (conv1): Conv2d(256, 8, kernel_size=(1, 1), stride=(1, 1))\n",
       "            (bn1): BatchNorm2d(8, eps=1e-05, momentum=0.1, affine=True, track_running_stats=True)\n",
       "            (conv2): Conv2d(8, 256, kernel_size=(1, 1), stride=(1, 1))\n",
       "            (conv3): Conv2d(8, 256, kernel_size=(1, 1), stride=(1, 1))\n",
       "            (relu): h_swish(\n",
       "              (sigmoid): h_sigmoid(\n",
       "                (relu): ReLU6(inplace=True)\n",
       "              )\n",
       "            )\n",
       "          )\n",
       "          (project): Linear_block(\n",
       "            (conv): Conv2d(256, 128, kernel_size=(1, 1), stride=(1, 1), bias=False)\n",
       "            (bn): BatchNorm2d(128, eps=1e-05, momentum=0.1, affine=True, track_running_stats=True)\n",
       "          )\n",
       "        )\n",
       "        (8): Mix_Depth_Wise(\n",
       "          (conv): Conv_block(\n",
       "            (conv): Conv2d(128, 256, kernel_size=(1, 1), stride=(1, 1), bias=False)\n",
       "            (bn): BatchNorm2d(256, eps=1e-05, momentum=0.1, affine=True, track_running_stats=True)\n",
       "            (prelu): PReLU(num_parameters=256)\n",
       "          )\n",
       "          (conv_dw): MDConv(\n",
       "            (mixed_depthwise_conv): ModuleList(\n",
       "              (0): Conv2d(192, 192, kernel_size=(3, 3), stride=(1, 1), padding=(1, 1), groups=192, bias=False)\n",
       "              (1): Conv2d(64, 64, kernel_size=(5, 5), stride=(1, 1), padding=(2, 2), groups=64, bias=False)\n",
       "            )\n",
       "            (bn): BatchNorm2d(256, eps=1e-05, momentum=0.1, affine=True, track_running_stats=True)\n",
       "            (prelu): PReLU(num_parameters=256)\n",
       "          )\n",
       "          (CA): CoordAtt(\n",
       "            (pool_h): AdaptiveAvgPool2d(output_size=(None, 1))\n",
       "            (pool_w): AdaptiveAvgPool2d(output_size=(1, None))\n",
       "            (conv1): Conv2d(256, 8, kernel_size=(1, 1), stride=(1, 1))\n",
       "            (bn1): BatchNorm2d(8, eps=1e-05, momentum=0.1, affine=True, track_running_stats=True)\n",
       "            (conv2): Conv2d(8, 256, kernel_size=(1, 1), stride=(1, 1))\n",
       "            (conv3): Conv2d(8, 256, kernel_size=(1, 1), stride=(1, 1))\n",
       "            (relu): h_swish(\n",
       "              (sigmoid): h_sigmoid(\n",
       "                (relu): ReLU6(inplace=True)\n",
       "              )\n",
       "            )\n",
       "          )\n",
       "          (project): Linear_block(\n",
       "            (conv): Conv2d(256, 128, kernel_size=(1, 1), stride=(1, 1), bias=False)\n",
       "            (bn): BatchNorm2d(128, eps=1e-05, momentum=0.1, affine=True, track_running_stats=True)\n",
       "          )\n",
       "        )\n",
       "        (9): Mix_Depth_Wise(\n",
       "          (conv): Conv_block(\n",
       "            (conv): Conv2d(128, 256, kernel_size=(1, 1), stride=(1, 1), bias=False)\n",
       "            (bn): BatchNorm2d(256, eps=1e-05, momentum=0.1, affine=True, track_running_stats=True)\n",
       "            (prelu): PReLU(num_parameters=256)\n",
       "          )\n",
       "          (conv_dw): MDConv(\n",
       "            (mixed_depthwise_conv): ModuleList(\n",
       "              (0): Conv2d(192, 192, kernel_size=(3, 3), stride=(1, 1), padding=(1, 1), groups=192, bias=False)\n",
       "              (1): Conv2d(64, 64, kernel_size=(5, 5), stride=(1, 1), padding=(2, 2), groups=64, bias=False)\n",
       "            )\n",
       "            (bn): BatchNorm2d(256, eps=1e-05, momentum=0.1, affine=True, track_running_stats=True)\n",
       "            (prelu): PReLU(num_parameters=256)\n",
       "          )\n",
       "          (CA): CoordAtt(\n",
       "            (pool_h): AdaptiveAvgPool2d(output_size=(None, 1))\n",
       "            (pool_w): AdaptiveAvgPool2d(output_size=(1, None))\n",
       "            (conv1): Conv2d(256, 8, kernel_size=(1, 1), stride=(1, 1))\n",
       "            (bn1): BatchNorm2d(8, eps=1e-05, momentum=0.1, affine=True, track_running_stats=True)\n",
       "            (conv2): Conv2d(8, 256, kernel_size=(1, 1), stride=(1, 1))\n",
       "            (conv3): Conv2d(8, 256, kernel_size=(1, 1), stride=(1, 1))\n",
       "            (relu): h_swish(\n",
       "              (sigmoid): h_sigmoid(\n",
       "                (relu): ReLU6(inplace=True)\n",
       "              )\n",
       "            )\n",
       "          )\n",
       "          (project): Linear_block(\n",
       "            (conv): Conv2d(256, 128, kernel_size=(1, 1), stride=(1, 1), bias=False)\n",
       "            (bn): BatchNorm2d(128, eps=1e-05, momentum=0.1, affine=True, track_running_stats=True)\n",
       "          )\n",
       "        )\n",
       "        (10): Mix_Depth_Wise(\n",
       "          (conv): Conv_block(\n",
       "            (conv): Conv2d(128, 256, kernel_size=(1, 1), stride=(1, 1), bias=False)\n",
       "            (bn): BatchNorm2d(256, eps=1e-05, momentum=0.1, affine=True, track_running_stats=True)\n",
       "            (prelu): PReLU(num_parameters=256)\n",
       "          )\n",
       "          (conv_dw): MDConv(\n",
       "            (mixed_depthwise_conv): ModuleList(\n",
       "              (0): Conv2d(192, 192, kernel_size=(3, 3), stride=(1, 1), padding=(1, 1), groups=192, bias=False)\n",
       "              (1): Conv2d(64, 64, kernel_size=(5, 5), stride=(1, 1), padding=(2, 2), groups=64, bias=False)\n",
       "            )\n",
       "            (bn): BatchNorm2d(256, eps=1e-05, momentum=0.1, affine=True, track_running_stats=True)\n",
       "            (prelu): PReLU(num_parameters=256)\n",
       "          )\n",
       "          (CA): CoordAtt(\n",
       "            (pool_h): AdaptiveAvgPool2d(output_size=(None, 1))\n",
       "            (pool_w): AdaptiveAvgPool2d(output_size=(1, None))\n",
       "            (conv1): Conv2d(256, 8, kernel_size=(1, 1), stride=(1, 1))\n",
       "            (bn1): BatchNorm2d(8, eps=1e-05, momentum=0.1, affine=True, track_running_stats=True)\n",
       "            (conv2): Conv2d(8, 256, kernel_size=(1, 1), stride=(1, 1))\n",
       "            (conv3): Conv2d(8, 256, kernel_size=(1, 1), stride=(1, 1))\n",
       "            (relu): h_swish(\n",
       "              (sigmoid): h_sigmoid(\n",
       "                (relu): ReLU6(inplace=True)\n",
       "              )\n",
       "            )\n",
       "          )\n",
       "          (project): Linear_block(\n",
       "            (conv): Conv2d(256, 128, kernel_size=(1, 1), stride=(1, 1), bias=False)\n",
       "            (bn): BatchNorm2d(128, eps=1e-05, momentum=0.1, affine=True, track_running_stats=True)\n",
       "          )\n",
       "        )\n",
       "        (11): Mix_Depth_Wise(\n",
       "          (conv): Conv_block(\n",
       "            (conv): Conv2d(128, 256, kernel_size=(1, 1), stride=(1, 1), bias=False)\n",
       "            (bn): BatchNorm2d(256, eps=1e-05, momentum=0.1, affine=True, track_running_stats=True)\n",
       "            (prelu): PReLU(num_parameters=256)\n",
       "          )\n",
       "          (conv_dw): MDConv(\n",
       "            (mixed_depthwise_conv): ModuleList(\n",
       "              (0): Conv2d(192, 192, kernel_size=(3, 3), stride=(1, 1), padding=(1, 1), groups=192, bias=False)\n",
       "              (1): Conv2d(64, 64, kernel_size=(5, 5), stride=(1, 1), padding=(2, 2), groups=64, bias=False)\n",
       "            )\n",
       "            (bn): BatchNorm2d(256, eps=1e-05, momentum=0.1, affine=True, track_running_stats=True)\n",
       "            (prelu): PReLU(num_parameters=256)\n",
       "          )\n",
       "          (CA): CoordAtt(\n",
       "            (pool_h): AdaptiveAvgPool2d(output_size=(None, 1))\n",
       "            (pool_w): AdaptiveAvgPool2d(output_size=(1, None))\n",
       "            (conv1): Conv2d(256, 8, kernel_size=(1, 1), stride=(1, 1))\n",
       "            (bn1): BatchNorm2d(8, eps=1e-05, momentum=0.1, affine=True, track_running_stats=True)\n",
       "            (conv2): Conv2d(8, 256, kernel_size=(1, 1), stride=(1, 1))\n",
       "            (conv3): Conv2d(8, 256, kernel_size=(1, 1), stride=(1, 1))\n",
       "            (relu): h_swish(\n",
       "              (sigmoid): h_sigmoid(\n",
       "                (relu): ReLU6(inplace=True)\n",
       "              )\n",
       "            )\n",
       "          )\n",
       "          (project): Linear_block(\n",
       "            (conv): Conv2d(256, 128, kernel_size=(1, 1), stride=(1, 1), bias=False)\n",
       "            (bn): BatchNorm2d(128, eps=1e-05, momentum=0.1, affine=True, track_running_stats=True)\n",
       "          )\n",
       "        )\n",
       "        (12): Mix_Depth_Wise(\n",
       "          (conv): Conv_block(\n",
       "            (conv): Conv2d(128, 256, kernel_size=(1, 1), stride=(1, 1), bias=False)\n",
       "            (bn): BatchNorm2d(256, eps=1e-05, momentum=0.1, affine=True, track_running_stats=True)\n",
       "            (prelu): PReLU(num_parameters=256)\n",
       "          )\n",
       "          (conv_dw): MDConv(\n",
       "            (mixed_depthwise_conv): ModuleList(\n",
       "              (0): Conv2d(192, 192, kernel_size=(3, 3), stride=(1, 1), padding=(1, 1), groups=192, bias=False)\n",
       "              (1): Conv2d(64, 64, kernel_size=(5, 5), stride=(1, 1), padding=(2, 2), groups=64, bias=False)\n",
       "            )\n",
       "            (bn): BatchNorm2d(256, eps=1e-05, momentum=0.1, affine=True, track_running_stats=True)\n",
       "            (prelu): PReLU(num_parameters=256)\n",
       "          )\n",
       "          (CA): CoordAtt(\n",
       "            (pool_h): AdaptiveAvgPool2d(output_size=(None, 1))\n",
       "            (pool_w): AdaptiveAvgPool2d(output_size=(1, None))\n",
       "            (conv1): Conv2d(256, 8, kernel_size=(1, 1), stride=(1, 1))\n",
       "            (bn1): BatchNorm2d(8, eps=1e-05, momentum=0.1, affine=True, track_running_stats=True)\n",
       "            (conv2): Conv2d(8, 256, kernel_size=(1, 1), stride=(1, 1))\n",
       "            (conv3): Conv2d(8, 256, kernel_size=(1, 1), stride=(1, 1))\n",
       "            (relu): h_swish(\n",
       "              (sigmoid): h_sigmoid(\n",
       "                (relu): ReLU6(inplace=True)\n",
       "              )\n",
       "            )\n",
       "          )\n",
       "          (project): Linear_block(\n",
       "            (conv): Conv2d(256, 128, kernel_size=(1, 1), stride=(1, 1), bias=False)\n",
       "            (bn): BatchNorm2d(128, eps=1e-05, momentum=0.1, affine=True, track_running_stats=True)\n",
       "          )\n",
       "        )\n",
       "        (13): Mix_Depth_Wise(\n",
       "          (conv): Conv_block(\n",
       "            (conv): Conv2d(128, 256, kernel_size=(1, 1), stride=(1, 1), bias=False)\n",
       "            (bn): BatchNorm2d(256, eps=1e-05, momentum=0.1, affine=True, track_running_stats=True)\n",
       "            (prelu): PReLU(num_parameters=256)\n",
       "          )\n",
       "          (conv_dw): MDConv(\n",
       "            (mixed_depthwise_conv): ModuleList(\n",
       "              (0): Conv2d(192, 192, kernel_size=(3, 3), stride=(1, 1), padding=(1, 1), groups=192, bias=False)\n",
       "              (1): Conv2d(64, 64, kernel_size=(5, 5), stride=(1, 1), padding=(2, 2), groups=64, bias=False)\n",
       "            )\n",
       "            (bn): BatchNorm2d(256, eps=1e-05, momentum=0.1, affine=True, track_running_stats=True)\n",
       "            (prelu): PReLU(num_parameters=256)\n",
       "          )\n",
       "          (CA): CoordAtt(\n",
       "            (pool_h): AdaptiveAvgPool2d(output_size=(None, 1))\n",
       "            (pool_w): AdaptiveAvgPool2d(output_size=(1, None))\n",
       "            (conv1): Conv2d(256, 8, kernel_size=(1, 1), stride=(1, 1))\n",
       "            (bn1): BatchNorm2d(8, eps=1e-05, momentum=0.1, affine=True, track_running_stats=True)\n",
       "            (conv2): Conv2d(8, 256, kernel_size=(1, 1), stride=(1, 1))\n",
       "            (conv3): Conv2d(8, 256, kernel_size=(1, 1), stride=(1, 1))\n",
       "            (relu): h_swish(\n",
       "              (sigmoid): h_sigmoid(\n",
       "                (relu): ReLU6(inplace=True)\n",
       "              )\n",
       "            )\n",
       "          )\n",
       "          (project): Linear_block(\n",
       "            (conv): Conv2d(256, 128, kernel_size=(1, 1), stride=(1, 1), bias=False)\n",
       "            (bn): BatchNorm2d(128, eps=1e-05, momentum=0.1, affine=True, track_running_stats=True)\n",
       "          )\n",
       "        )\n",
       "        (14): Mix_Depth_Wise(\n",
       "          (conv): Conv_block(\n",
       "            (conv): Conv2d(128, 256, kernel_size=(1, 1), stride=(1, 1), bias=False)\n",
       "            (bn): BatchNorm2d(256, eps=1e-05, momentum=0.1, affine=True, track_running_stats=True)\n",
       "            (prelu): PReLU(num_parameters=256)\n",
       "          )\n",
       "          (conv_dw): MDConv(\n",
       "            (mixed_depthwise_conv): ModuleList(\n",
       "              (0): Conv2d(192, 192, kernel_size=(3, 3), stride=(1, 1), padding=(1, 1), groups=192, bias=False)\n",
       "              (1): Conv2d(64, 64, kernel_size=(5, 5), stride=(1, 1), padding=(2, 2), groups=64, bias=False)\n",
       "            )\n",
       "            (bn): BatchNorm2d(256, eps=1e-05, momentum=0.1, affine=True, track_running_stats=True)\n",
       "            (prelu): PReLU(num_parameters=256)\n",
       "          )\n",
       "          (CA): CoordAtt(\n",
       "            (pool_h): AdaptiveAvgPool2d(output_size=(None, 1))\n",
       "            (pool_w): AdaptiveAvgPool2d(output_size=(1, None))\n",
       "            (conv1): Conv2d(256, 8, kernel_size=(1, 1), stride=(1, 1))\n",
       "            (bn1): BatchNorm2d(8, eps=1e-05, momentum=0.1, affine=True, track_running_stats=True)\n",
       "            (conv2): Conv2d(8, 256, kernel_size=(1, 1), stride=(1, 1))\n",
       "            (conv3): Conv2d(8, 256, kernel_size=(1, 1), stride=(1, 1))\n",
       "            (relu): h_swish(\n",
       "              (sigmoid): h_sigmoid(\n",
       "                (relu): ReLU6(inplace=True)\n",
       "              )\n",
       "            )\n",
       "          )\n",
       "          (project): Linear_block(\n",
       "            (conv): Conv2d(256, 128, kernel_size=(1, 1), stride=(1, 1), bias=False)\n",
       "            (bn): BatchNorm2d(128, eps=1e-05, momentum=0.1, affine=True, track_running_stats=True)\n",
       "          )\n",
       "        )\n",
       "        (15): Mix_Depth_Wise(\n",
       "          (conv): Conv_block(\n",
       "            (conv): Conv2d(128, 256, kernel_size=(1, 1), stride=(1, 1), bias=False)\n",
       "            (bn): BatchNorm2d(256, eps=1e-05, momentum=0.1, affine=True, track_running_stats=True)\n",
       "            (prelu): PReLU(num_parameters=256)\n",
       "          )\n",
       "          (conv_dw): MDConv(\n",
       "            (mixed_depthwise_conv): ModuleList(\n",
       "              (0): Conv2d(192, 192, kernel_size=(3, 3), stride=(1, 1), padding=(1, 1), groups=192, bias=False)\n",
       "              (1): Conv2d(64, 64, kernel_size=(5, 5), stride=(1, 1), padding=(2, 2), groups=64, bias=False)\n",
       "            )\n",
       "            (bn): BatchNorm2d(256, eps=1e-05, momentum=0.1, affine=True, track_running_stats=True)\n",
       "            (prelu): PReLU(num_parameters=256)\n",
       "          )\n",
       "          (CA): CoordAtt(\n",
       "            (pool_h): AdaptiveAvgPool2d(output_size=(None, 1))\n",
       "            (pool_w): AdaptiveAvgPool2d(output_size=(1, None))\n",
       "            (conv1): Conv2d(256, 8, kernel_size=(1, 1), stride=(1, 1))\n",
       "            (bn1): BatchNorm2d(8, eps=1e-05, momentum=0.1, affine=True, track_running_stats=True)\n",
       "            (conv2): Conv2d(8, 256, kernel_size=(1, 1), stride=(1, 1))\n",
       "            (conv3): Conv2d(8, 256, kernel_size=(1, 1), stride=(1, 1))\n",
       "            (relu): h_swish(\n",
       "              (sigmoid): h_sigmoid(\n",
       "                (relu): ReLU6(inplace=True)\n",
       "              )\n",
       "            )\n",
       "          )\n",
       "          (project): Linear_block(\n",
       "            (conv): Conv2d(256, 128, kernel_size=(1, 1), stride=(1, 1), bias=False)\n",
       "            (bn): BatchNorm2d(128, eps=1e-05, momentum=0.1, affine=True, track_running_stats=True)\n",
       "          )\n",
       "        )\n",
       "      )\n",
       "    )\n",
       "    (6): Mix_Depth_Wise(\n",
       "      (conv): Conv_block(\n",
       "        (conv): Conv2d(128, 1024, kernel_size=(1, 1), stride=(1, 1), bias=False)\n",
       "        (bn): BatchNorm2d(1024, eps=1e-05, momentum=0.1, affine=True, track_running_stats=True)\n",
       "        (prelu): PReLU(num_parameters=1024)\n",
       "      )\n",
       "      (conv_dw): MDConv(\n",
       "        (mixed_depthwise_conv): ModuleList(\n",
       "          (0): Conv2d(256, 256, kernel_size=(3, 3), stride=(2, 2), padding=(1, 1), groups=256, bias=False)\n",
       "          (1): Conv2d(256, 256, kernel_size=(5, 5), stride=(2, 2), padding=(2, 2), groups=256, bias=False)\n",
       "          (2): Conv2d(256, 256, kernel_size=(7, 7), stride=(2, 2), padding=(3, 3), groups=256, bias=False)\n",
       "          (3): Conv2d(256, 256, kernel_size=(9, 9), stride=(2, 2), padding=(4, 4), groups=256, bias=False)\n",
       "        )\n",
       "        (bn): BatchNorm2d(1024, eps=1e-05, momentum=0.1, affine=True, track_running_stats=True)\n",
       "        (prelu): PReLU(num_parameters=1024)\n",
       "      )\n",
       "      (CA): CoordAtt(\n",
       "        (pool_h): AdaptiveAvgPool2d(output_size=(None, 1))\n",
       "        (pool_w): AdaptiveAvgPool2d(output_size=(1, None))\n",
       "        (conv1): Conv2d(1024, 32, kernel_size=(1, 1), stride=(1, 1))\n",
       "        (bn1): BatchNorm2d(32, eps=1e-05, momentum=0.1, affine=True, track_running_stats=True)\n",
       "        (conv2): Conv2d(32, 1024, kernel_size=(1, 1), stride=(1, 1))\n",
       "        (conv3): Conv2d(32, 1024, kernel_size=(1, 1), stride=(1, 1))\n",
       "        (relu): h_swish(\n",
       "          (sigmoid): h_sigmoid(\n",
       "            (relu): ReLU6(inplace=True)\n",
       "          )\n",
       "        )\n",
       "      )\n",
       "      (project): Linear_block(\n",
       "        (conv): Conv2d(1024, 256, kernel_size=(1, 1), stride=(1, 1), bias=False)\n",
       "        (bn): BatchNorm2d(256, eps=1e-05, momentum=0.1, affine=True, track_running_stats=True)\n",
       "      )\n",
       "    )\n",
       "    (7): Mix_Residual(\n",
       "      (model): Sequential(\n",
       "        (0): Mix_Depth_Wise(\n",
       "          (conv): Conv_block(\n",
       "            (conv): Conv2d(256, 512, kernel_size=(1, 1), stride=(1, 1), bias=False)\n",
       "            (bn): BatchNorm2d(512, eps=1e-05, momentum=0.1, affine=True, track_running_stats=True)\n",
       "            (prelu): PReLU(num_parameters=512)\n",
       "          )\n",
       "          (conv_dw): MDConv(\n",
       "            (mixed_depthwise_conv): ModuleList(\n",
       "              (0): Conv2d(172, 172, kernel_size=(3, 3), stride=(1, 1), padding=(1, 1), groups=172, bias=False)\n",
       "              (1): Conv2d(170, 170, kernel_size=(5, 5), stride=(1, 1), padding=(2, 2), groups=170, bias=False)\n",
       "              (2): Conv2d(170, 170, kernel_size=(7, 7), stride=(1, 1), padding=(3, 3), groups=170, bias=False)\n",
       "            )\n",
       "            (bn): BatchNorm2d(512, eps=1e-05, momentum=0.1, affine=True, track_running_stats=True)\n",
       "            (prelu): PReLU(num_parameters=512)\n",
       "          )\n",
       "          (CA): CoordAtt(\n",
       "            (pool_h): AdaptiveAvgPool2d(output_size=(None, 1))\n",
       "            (pool_w): AdaptiveAvgPool2d(output_size=(1, None))\n",
       "            (conv1): Conv2d(512, 16, kernel_size=(1, 1), stride=(1, 1))\n",
       "            (bn1): BatchNorm2d(16, eps=1e-05, momentum=0.1, affine=True, track_running_stats=True)\n",
       "            (conv2): Conv2d(16, 512, kernel_size=(1, 1), stride=(1, 1))\n",
       "            (conv3): Conv2d(16, 512, kernel_size=(1, 1), stride=(1, 1))\n",
       "            (relu): h_swish(\n",
       "              (sigmoid): h_sigmoid(\n",
       "                (relu): ReLU6(inplace=True)\n",
       "              )\n",
       "            )\n",
       "          )\n",
       "          (project): Linear_block(\n",
       "            (conv): Conv2d(512, 256, kernel_size=(1, 1), stride=(1, 1), bias=False)\n",
       "            (bn): BatchNorm2d(256, eps=1e-05, momentum=0.1, affine=True, track_running_stats=True)\n",
       "          )\n",
       "        )\n",
       "        (1): Mix_Depth_Wise(\n",
       "          (conv): Conv_block(\n",
       "            (conv): Conv2d(256, 512, kernel_size=(1, 1), stride=(1, 1), bias=False)\n",
       "            (bn): BatchNorm2d(512, eps=1e-05, momentum=0.1, affine=True, track_running_stats=True)\n",
       "            (prelu): PReLU(num_parameters=512)\n",
       "          )\n",
       "          (conv_dw): MDConv(\n",
       "            (mixed_depthwise_conv): ModuleList(\n",
       "              (0): Conv2d(172, 172, kernel_size=(3, 3), stride=(1, 1), padding=(1, 1), groups=172, bias=False)\n",
       "              (1): Conv2d(170, 170, kernel_size=(5, 5), stride=(1, 1), padding=(2, 2), groups=170, bias=False)\n",
       "              (2): Conv2d(170, 170, kernel_size=(7, 7), stride=(1, 1), padding=(3, 3), groups=170, bias=False)\n",
       "            )\n",
       "            (bn): BatchNorm2d(512, eps=1e-05, momentum=0.1, affine=True, track_running_stats=True)\n",
       "            (prelu): PReLU(num_parameters=512)\n",
       "          )\n",
       "          (CA): CoordAtt(\n",
       "            (pool_h): AdaptiveAvgPool2d(output_size=(None, 1))\n",
       "            (pool_w): AdaptiveAvgPool2d(output_size=(1, None))\n",
       "            (conv1): Conv2d(512, 16, kernel_size=(1, 1), stride=(1, 1))\n",
       "            (bn1): BatchNorm2d(16, eps=1e-05, momentum=0.1, affine=True, track_running_stats=True)\n",
       "            (conv2): Conv2d(16, 512, kernel_size=(1, 1), stride=(1, 1))\n",
       "            (conv3): Conv2d(16, 512, kernel_size=(1, 1), stride=(1, 1))\n",
       "            (relu): h_swish(\n",
       "              (sigmoid): h_sigmoid(\n",
       "                (relu): ReLU6(inplace=True)\n",
       "              )\n",
       "            )\n",
       "          )\n",
       "          (project): Linear_block(\n",
       "            (conv): Conv2d(512, 256, kernel_size=(1, 1), stride=(1, 1), bias=False)\n",
       "            (bn): BatchNorm2d(256, eps=1e-05, momentum=0.1, affine=True, track_running_stats=True)\n",
       "          )\n",
       "        )\n",
       "        (2): Mix_Depth_Wise(\n",
       "          (conv): Conv_block(\n",
       "            (conv): Conv2d(256, 512, kernel_size=(1, 1), stride=(1, 1), bias=False)\n",
       "            (bn): BatchNorm2d(512, eps=1e-05, momentum=0.1, affine=True, track_running_stats=True)\n",
       "            (prelu): PReLU(num_parameters=512)\n",
       "          )\n",
       "          (conv_dw): MDConv(\n",
       "            (mixed_depthwise_conv): ModuleList(\n",
       "              (0): Conv2d(172, 172, kernel_size=(3, 3), stride=(1, 1), padding=(1, 1), groups=172, bias=False)\n",
       "              (1): Conv2d(170, 170, kernel_size=(5, 5), stride=(1, 1), padding=(2, 2), groups=170, bias=False)\n",
       "              (2): Conv2d(170, 170, kernel_size=(7, 7), stride=(1, 1), padding=(3, 3), groups=170, bias=False)\n",
       "            )\n",
       "            (bn): BatchNorm2d(512, eps=1e-05, momentum=0.1, affine=True, track_running_stats=True)\n",
       "            (prelu): PReLU(num_parameters=512)\n",
       "          )\n",
       "          (CA): CoordAtt(\n",
       "            (pool_h): AdaptiveAvgPool2d(output_size=(None, 1))\n",
       "            (pool_w): AdaptiveAvgPool2d(output_size=(1, None))\n",
       "            (conv1): Conv2d(512, 16, kernel_size=(1, 1), stride=(1, 1))\n",
       "            (bn1): BatchNorm2d(16, eps=1e-05, momentum=0.1, affine=True, track_running_stats=True)\n",
       "            (conv2): Conv2d(16, 512, kernel_size=(1, 1), stride=(1, 1))\n",
       "            (conv3): Conv2d(16, 512, kernel_size=(1, 1), stride=(1, 1))\n",
       "            (relu): h_swish(\n",
       "              (sigmoid): h_sigmoid(\n",
       "                (relu): ReLU6(inplace=True)\n",
       "              )\n",
       "            )\n",
       "          )\n",
       "          (project): Linear_block(\n",
       "            (conv): Conv2d(512, 256, kernel_size=(1, 1), stride=(1, 1), bias=False)\n",
       "            (bn): BatchNorm2d(256, eps=1e-05, momentum=0.1, affine=True, track_running_stats=True)\n",
       "          )\n",
       "        )\n",
       "        (3): Mix_Depth_Wise(\n",
       "          (conv): Conv_block(\n",
       "            (conv): Conv2d(256, 512, kernel_size=(1, 1), stride=(1, 1), bias=False)\n",
       "            (bn): BatchNorm2d(512, eps=1e-05, momentum=0.1, affine=True, track_running_stats=True)\n",
       "            (prelu): PReLU(num_parameters=512)\n",
       "          )\n",
       "          (conv_dw): MDConv(\n",
       "            (mixed_depthwise_conv): ModuleList(\n",
       "              (0): Conv2d(172, 172, kernel_size=(3, 3), stride=(1, 1), padding=(1, 1), groups=172, bias=False)\n",
       "              (1): Conv2d(170, 170, kernel_size=(5, 5), stride=(1, 1), padding=(2, 2), groups=170, bias=False)\n",
       "              (2): Conv2d(170, 170, kernel_size=(7, 7), stride=(1, 1), padding=(3, 3), groups=170, bias=False)\n",
       "            )\n",
       "            (bn): BatchNorm2d(512, eps=1e-05, momentum=0.1, affine=True, track_running_stats=True)\n",
       "            (prelu): PReLU(num_parameters=512)\n",
       "          )\n",
       "          (CA): CoordAtt(\n",
       "            (pool_h): AdaptiveAvgPool2d(output_size=(None, 1))\n",
       "            (pool_w): AdaptiveAvgPool2d(output_size=(1, None))\n",
       "            (conv1): Conv2d(512, 16, kernel_size=(1, 1), stride=(1, 1))\n",
       "            (bn1): BatchNorm2d(16, eps=1e-05, momentum=0.1, affine=True, track_running_stats=True)\n",
       "            (conv2): Conv2d(16, 512, kernel_size=(1, 1), stride=(1, 1))\n",
       "            (conv3): Conv2d(16, 512, kernel_size=(1, 1), stride=(1, 1))\n",
       "            (relu): h_swish(\n",
       "              (sigmoid): h_sigmoid(\n",
       "                (relu): ReLU6(inplace=True)\n",
       "              )\n",
       "            )\n",
       "          )\n",
       "          (project): Linear_block(\n",
       "            (conv): Conv2d(512, 256, kernel_size=(1, 1), stride=(1, 1), bias=False)\n",
       "            (bn): BatchNorm2d(256, eps=1e-05, momentum=0.1, affine=True, track_running_stats=True)\n",
       "          )\n",
       "        )\n",
       "        (4): Mix_Depth_Wise(\n",
       "          (conv): Conv_block(\n",
       "            (conv): Conv2d(256, 512, kernel_size=(1, 1), stride=(1, 1), bias=False)\n",
       "            (bn): BatchNorm2d(512, eps=1e-05, momentum=0.1, affine=True, track_running_stats=True)\n",
       "            (prelu): PReLU(num_parameters=512)\n",
       "          )\n",
       "          (conv_dw): MDConv(\n",
       "            (mixed_depthwise_conv): ModuleList(\n",
       "              (0): Conv2d(172, 172, kernel_size=(3, 3), stride=(1, 1), padding=(1, 1), groups=172, bias=False)\n",
       "              (1): Conv2d(170, 170, kernel_size=(5, 5), stride=(1, 1), padding=(2, 2), groups=170, bias=False)\n",
       "              (2): Conv2d(170, 170, kernel_size=(7, 7), stride=(1, 1), padding=(3, 3), groups=170, bias=False)\n",
       "            )\n",
       "            (bn): BatchNorm2d(512, eps=1e-05, momentum=0.1, affine=True, track_running_stats=True)\n",
       "            (prelu): PReLU(num_parameters=512)\n",
       "          )\n",
       "          (CA): CoordAtt(\n",
       "            (pool_h): AdaptiveAvgPool2d(output_size=(None, 1))\n",
       "            (pool_w): AdaptiveAvgPool2d(output_size=(1, None))\n",
       "            (conv1): Conv2d(512, 16, kernel_size=(1, 1), stride=(1, 1))\n",
       "            (bn1): BatchNorm2d(16, eps=1e-05, momentum=0.1, affine=True, track_running_stats=True)\n",
       "            (conv2): Conv2d(16, 512, kernel_size=(1, 1), stride=(1, 1))\n",
       "            (conv3): Conv2d(16, 512, kernel_size=(1, 1), stride=(1, 1))\n",
       "            (relu): h_swish(\n",
       "              (sigmoid): h_sigmoid(\n",
       "                (relu): ReLU6(inplace=True)\n",
       "              )\n",
       "            )\n",
       "          )\n",
       "          (project): Linear_block(\n",
       "            (conv): Conv2d(512, 256, kernel_size=(1, 1), stride=(1, 1), bias=False)\n",
       "            (bn): BatchNorm2d(256, eps=1e-05, momentum=0.1, affine=True, track_running_stats=True)\n",
       "          )\n",
       "        )\n",
       "        (5): Mix_Depth_Wise(\n",
       "          (conv): Conv_block(\n",
       "            (conv): Conv2d(256, 512, kernel_size=(1, 1), stride=(1, 1), bias=False)\n",
       "            (bn): BatchNorm2d(512, eps=1e-05, momentum=0.1, affine=True, track_running_stats=True)\n",
       "            (prelu): PReLU(num_parameters=512)\n",
       "          )\n",
       "          (conv_dw): MDConv(\n",
       "            (mixed_depthwise_conv): ModuleList(\n",
       "              (0): Conv2d(172, 172, kernel_size=(3, 3), stride=(1, 1), padding=(1, 1), groups=172, bias=False)\n",
       "              (1): Conv2d(170, 170, kernel_size=(5, 5), stride=(1, 1), padding=(2, 2), groups=170, bias=False)\n",
       "              (2): Conv2d(170, 170, kernel_size=(7, 7), stride=(1, 1), padding=(3, 3), groups=170, bias=False)\n",
       "            )\n",
       "            (bn): BatchNorm2d(512, eps=1e-05, momentum=0.1, affine=True, track_running_stats=True)\n",
       "            (prelu): PReLU(num_parameters=512)\n",
       "          )\n",
       "          (CA): CoordAtt(\n",
       "            (pool_h): AdaptiveAvgPool2d(output_size=(None, 1))\n",
       "            (pool_w): AdaptiveAvgPool2d(output_size=(1, None))\n",
       "            (conv1): Conv2d(512, 16, kernel_size=(1, 1), stride=(1, 1))\n",
       "            (bn1): BatchNorm2d(16, eps=1e-05, momentum=0.1, affine=True, track_running_stats=True)\n",
       "            (conv2): Conv2d(16, 512, kernel_size=(1, 1), stride=(1, 1))\n",
       "            (conv3): Conv2d(16, 512, kernel_size=(1, 1), stride=(1, 1))\n",
       "            (relu): h_swish(\n",
       "              (sigmoid): h_sigmoid(\n",
       "                (relu): ReLU6(inplace=True)\n",
       "              )\n",
       "            )\n",
       "          )\n",
       "          (project): Linear_block(\n",
       "            (conv): Conv2d(512, 256, kernel_size=(1, 1), stride=(1, 1), bias=False)\n",
       "            (bn): BatchNorm2d(256, eps=1e-05, momentum=0.1, affine=True, track_running_stats=True)\n",
       "          )\n",
       "        )\n",
       "      )\n",
       "    )\n",
       "    (8): Conv_block(\n",
       "      (conv): Conv2d(256, 512, kernel_size=(1, 1), stride=(1, 1), bias=False)\n",
       "      (bn): BatchNorm2d(512, eps=1e-05, momentum=0.1, affine=True, track_running_stats=True)\n",
       "      (prelu): PReLU(num_parameters=512)\n",
       "    )\n",
       "  )\n",
       "  (cat_head0): CoordAttHead(\n",
       "    (CoordAtt): CoordAtt(\n",
       "      (Linear_h): Linear_block(\n",
       "        (conv): Conv2d(512, 512, kernel_size=(1, 7), stride=(1, 1), groups=512, bias=False)\n",
       "        (bn): BatchNorm2d(512, eps=1e-05, momentum=0.1, affine=True, track_running_stats=True)\n",
       "      )\n",
       "      (Linear_w): Linear_block(\n",
       "        (conv): Conv2d(512, 512, kernel_size=(7, 1), stride=(1, 1), groups=512, bias=False)\n",
       "        (bn): BatchNorm2d(512, eps=1e-05, momentum=0.1, affine=True, track_running_stats=True)\n",
       "      )\n",
       "      (conv1): Conv2d(512, 16, kernel_size=(1, 1), stride=(1, 1))\n",
       "      (bn1): BatchNorm2d(16, eps=1e-05, momentum=0.1, affine=True, track_running_stats=True)\n",
       "      (conv2): Conv2d(16, 512, kernel_size=(1, 1), stride=(1, 1))\n",
       "      (conv3): Conv2d(16, 512, kernel_size=(1, 1), stride=(1, 1))\n",
       "      (relu): h_swish(\n",
       "        (sigmoid): h_sigmoid(\n",
       "          (relu): ReLU6(inplace=True)\n",
       "        )\n",
       "      )\n",
       "      (Linear): Linear_block(\n",
       "        (conv): Conv2d(512, 512, kernel_size=(7, 7), stride=(1, 1), groups=512, bias=False)\n",
       "        (bn): BatchNorm2d(512, eps=1e-05, momentum=0.1, affine=True, track_running_stats=True)\n",
       "      )\n",
       "      (flatten): Flatten()\n",
       "    )\n",
       "  )\n",
       "  (cat_head1): CoordAttHead(\n",
       "    (CoordAtt): CoordAtt(\n",
       "      (Linear_h): Linear_block(\n",
       "        (conv): Conv2d(512, 512, kernel_size=(1, 7), stride=(1, 1), groups=512, bias=False)\n",
       "        (bn): BatchNorm2d(512, eps=1e-05, momentum=0.1, affine=True, track_running_stats=True)\n",
       "      )\n",
       "      (Linear_w): Linear_block(\n",
       "        (conv): Conv2d(512, 512, kernel_size=(7, 1), stride=(1, 1), groups=512, bias=False)\n",
       "        (bn): BatchNorm2d(512, eps=1e-05, momentum=0.1, affine=True, track_running_stats=True)\n",
       "      )\n",
       "      (conv1): Conv2d(512, 16, kernel_size=(1, 1), stride=(1, 1))\n",
       "      (bn1): BatchNorm2d(16, eps=1e-05, momentum=0.1, affine=True, track_running_stats=True)\n",
       "      (conv2): Conv2d(16, 512, kernel_size=(1, 1), stride=(1, 1))\n",
       "      (conv3): Conv2d(16, 512, kernel_size=(1, 1), stride=(1, 1))\n",
       "      (relu): h_swish(\n",
       "        (sigmoid): h_sigmoid(\n",
       "          (relu): ReLU6(inplace=True)\n",
       "        )\n",
       "      )\n",
       "      (Linear): Linear_block(\n",
       "        (conv): Conv2d(512, 512, kernel_size=(7, 7), stride=(1, 1), groups=512, bias=False)\n",
       "        (bn): BatchNorm2d(512, eps=1e-05, momentum=0.1, affine=True, track_running_stats=True)\n",
       "      )\n",
       "      (flatten): Flatten()\n",
       "    )\n",
       "  )\n",
       "  (Linear): Linear_block(\n",
       "    (conv): Conv2d(512, 512, kernel_size=(7, 7), stride=(1, 1), groups=512, bias=False)\n",
       "    (bn): BatchNorm2d(512, eps=1e-05, momentum=0.1, affine=True, track_running_stats=True)\n",
       "  )\n",
       "  (flatten): Flatten()\n",
       "  (fc): Identity()\n",
       "  (bn): Identity()\n",
       ")"
      ]
     },
     "execution_count": 9,
     "metadata": {},
     "output_type": "execute_result"
    }
   ],
   "source": [
    "if False:\n",
    "    feature_extractor_model.classifier=torch.nn.Identity()\n",
    "elif False:\n",
    "    feature_extractor_model.head.fc=torch.nn.Identity()\n",
    "else:\n",
    "    feature_extractor_model.fc=torch.nn.Identity()\n",
    "feature_extractor_model=feature_extractor_model.to(device)\n",
    "feature_extractor_model.eval()"
   ]
  },
  {
   "cell_type": "code",
   "execution_count": 10,
   "metadata": {},
   "outputs": [],
   "source": [
    "def get_probab(features):\n",
    "    x=np.dot(features,np.transpose(classifier_weights))+classifier_bias\n",
    "    return x"
   ]
  },
  {
   "cell_type": "markdown",
   "metadata": {},
   "source": [
    "## Aligned"
   ]
  },
  {
   "cell_type": "code",
   "execution_count": 13,
   "metadata": {},
   "outputs": [
    {
     "name": "stdout",
     "output_type": "stream",
     "text": [
      "Compose(\n",
      "    Resize(size=(112, 112), interpolation=bilinear, max_size=None, antialias=warn)\n",
      "    ToTensor()\n",
      "    Normalize(mean=[0.5, 0.5, 0.5], std=[0.5, 0.5, 0.5])\n",
      ")\n",
      "/home/HDD6TB/datasets/emotions/ABAW/ABAW_6/6th_ABAW_Annotations/cropped_aligned/cropped_aligned\n"
     ]
    },
    {
     "data": {
      "application/vnd.jupyter.widget-view+json": {
       "model_id": "e8ca73e5eeb542b4b8da194fd5451a4b",
       "version_major": 2,
       "version_minor": 0
      },
      "text/plain": [
       "  0%|          | 0/564 [00:00<?, ?it/s]"
      ]
     },
     "metadata": {},
     "output_type": "display_data"
    },
    {
     "name": "stdout",
     "output_type": "stream",
     "text": [
      "/home/HDD6TB/datasets/emotions/ABAW/ABAW_6/6th_ABAW_Annotations/cropped_aligned/cropped_aligned_new_50_vids\n"
     ]
    },
    {
     "data": {
      "application/vnd.jupyter.widget-view+json": {
       "model_id": "3d6288b588564a20a3cdd1423f1776fa",
       "version_major": 2,
       "version_minor": 0
      },
      "text/plain": [
       "  0%|          | 0/31 [00:00<?, ?it/s]"
      ]
     },
     "metadata": {},
     "output_type": "display_data"
    }
   ],
   "source": [
    "print(test_transforms)\n",
    "img_names=[]\n",
    "X_global_features=[]\n",
    "imgs=[]\n",
    "for d in ['cropped_aligned','cropped_aligned_new_50_vids']:\n",
    "    data_dir=os.path.join(DATA_DIR,'cropped_aligned',d)\n",
    "    print(data_dir)\n",
    "    for filename in tqdm(os.listdir(data_dir)):\n",
    "        frames_dir=os.path.join(data_dir,filename)   \n",
    "        if not os.path.isdir(frames_dir):\n",
    "            continue\n",
    "        for img_name in os.listdir(frames_dir):\n",
    "            if img_name.lower().endswith('.jpg'):\n",
    "                img = Image.open(os.path.join(frames_dir,img_name))\n",
    "                img_tensor = test_transforms(img)\n",
    "                if img.size:\n",
    "                    img_names.append(filename+'/'+img_name)\n",
    "                    imgs.append(img_tensor)\n",
    "                    if len(imgs)>=128: #64: #96: #48: #32:        \n",
    "                        features = feature_extractor_model(torch.stack(imgs, dim=0).to(device))\n",
    "                        features=features.data.cpu().numpy()\n",
    "                        #print(features.shape)\n",
    "\n",
    "                        if len(X_global_features)==0:\n",
    "                            X_global_features=features\n",
    "                        else:\n",
    "                            X_global_features=np.concatenate((X_global_features,features),axis=0)\n",
    "                        imgs=[]\n",
    "\n",
    "if len(imgs)>0:        \n",
    "    features = feature_extractor_model(torch.stack(imgs, dim=0).to(device))\n",
    "    features=features.data.cpu().numpy()\n",
    "\n",
    "    if len(X_global_features)==0:\n",
    "        X_global_features=features\n",
    "    else:\n",
    "        X_global_features=np.concatenate((X_global_features,features),axis=0)\n",
    "\n",
    "    imgs=[]\n",
    "\n",
    "    #X_scores=X_global_features #get_probab(X_global_features)\n",
    "    #print(X_global_features.shape,X_scores.shape)"
   ]
  },
  {
   "cell_type": "markdown",
   "metadata": {},
   "source": [
    "## Cropped"
   ]
  },
  {
   "cell_type": "code",
   "execution_count": 11,
   "metadata": {},
   "outputs": [
    {
     "name": "stdout",
     "output_type": "stream",
     "text": [
      "Compose(\n",
      "    Resize(size=(112, 112), interpolation=bilinear, max_size=None, antialias=warn)\n",
      "    ToTensor()\n",
      "    Normalize(mean=[0.485, 0.456, 0.406], std=[0.229, 0.224, 0.225])\n",
      ")\n",
      "/home/HDD6TB/datasets/emotions/ABAW/ABAW_6/6th_ABAW_Annotations/cropped\n"
     ]
    },
    {
     "data": {
      "application/vnd.jupyter.widget-view+json": {
       "model_id": "238a9d168d164181ad18556263385b8c",
       "version_major": 2,
       "version_minor": 0
      },
      "text/plain": [
       "  0%|          | 0/594 [00:00<?, ?it/s]"
      ]
     },
     "metadata": {},
     "output_type": "display_data"
    }
   ],
   "source": [
    "print(test_transforms)\n",
    "img_names=[]\n",
    "X_global_features=[]\n",
    "imgs=[]\n",
    "data_dir=os.path.join(DATA_DIR,'cropped')\n",
    "print(data_dir)\n",
    "for filename in tqdm(os.listdir(data_dir)):\n",
    "    frames_dir=os.path.join(data_dir,filename)   \n",
    "    if not os.path.isdir(frames_dir):\n",
    "        continue\n",
    "    for img_name in os.listdir(frames_dir):\n",
    "        if img_name.lower().endswith('.jpg'):\n",
    "            img = Image.open(os.path.join(frames_dir,img_name))\n",
    "            img_tensor = test_transforms(img)\n",
    "            if img.size:\n",
    "                img_names.append(filename+'/'+img_name)\n",
    "                imgs.append(img_tensor)\n",
    "                if len(imgs)>=64: #96: #64: #32:        \n",
    "                    features,_,_  = feature_extractor_model(torch.stack(imgs, dim=0).to(device))\n",
    "                    features=features.data.cpu().numpy()\n",
    "                    #print(features.shape)\n",
    "\n",
    "                    if len(X_global_features)==0:\n",
    "                        X_global_features=features\n",
    "                    else:\n",
    "                        X_global_features=np.concatenate((X_global_features,features),axis=0)\n",
    "                    imgs=[]\n",
    "\n",
    "if len(imgs)>0:        \n",
    "    features,_,_  = feature_extractor_model(torch.stack(imgs, dim=0).to(device))\n",
    "    features=features.data.cpu().numpy()\n",
    "\n",
    "    if len(X_global_features)==0:\n",
    "        X_global_features=features\n",
    "    else:\n",
    "        X_global_features=np.concatenate((X_global_features,features),axis=0)\n",
    "\n",
    "    imgs=[]\n",
    "\n",
    "    #X_scores=X_global_features #get_probab(X_global_features)\n",
    "    #print(X_global_features.shape,X_scores.shape)"
   ]
  },
  {
   "cell_type": "markdown",
   "metadata": {},
   "source": [
    "----------------------------------"
   ]
  },
  {
   "cell_type": "code",
   "execution_count": 12,
   "metadata": {},
   "outputs": [],
   "source": [
    "X_scores=get_probab(X_global_features)"
   ]
  },
  {
   "cell_type": "code",
   "execution_count": 13,
   "metadata": {},
   "outputs": [
    {
     "data": {
      "text/plain": [
       "((2942996, 10), (2942996, 512))"
      ]
     },
     "execution_count": 13,
     "metadata": {},
     "output_type": "execute_result"
    }
   ],
   "source": [
    "X_scores.shape,X_global_features.shape"
   ]
  },
  {
   "cell_type": "code",
   "execution_count": 14,
   "metadata": {},
   "outputs": [
    {
     "name": "stdout",
     "output_type": "stream",
     "text": [
      "2942996\n"
     ]
    }
   ],
   "source": [
    "filename2featuresAll={img_name:(global_features,scores) for img_name,global_features,scores in zip(img_names,X_global_features,X_scores)}\n",
    "#filename2featuresAll={img_name:(global_features,) for img_name,global_features, in zip(img_names,X_global_features)}\n",
    "print(len(filename2featuresAll))\n",
    "#cropped 2942996, aligned 2941546"
   ]
  },
  {
   "cell_type": "markdown",
   "metadata": {},
   "source": [
    "### Save/load features "
   ]
  },
  {
   "cell_type": "code",
   "execution_count": 6,
   "metadata": {},
   "outputs": [
    {
     "name": "stdout",
     "output_type": "stream",
     "text": [
      "enet_b0_8_best_vgaf_cropped.pickle\n"
     ]
    }
   ],
   "source": [
    "import pickle\n",
    "num_classes=8\n",
    "#model_name='enet_b2_8_best'\n",
    "model_name='enet_b0_8_best_vgaf'\n",
    "#model_name='mobilevit_mtl'\n",
    "#model_name='mbf_va'\n",
    "\n",
    "#model_name='ddamfnet_8' #affectnet8_epoch4_acc0.6462\n",
    "#model_name='ddamfnet_8_mtl' #affectnet8_epoch6_acc0\n",
    "\n",
    "#model_name='enet_b0_8_va_mtl'\n",
    "#MODEL2FEATURES=model_name+'_aligned_112.pickle'\n",
    "MODEL2FEATURES=model_name+'_cropped.pickle' \n",
    "\n",
    "print(MODEL2FEATURES)"
   ]
  },
  {
   "cell_type": "code",
   "execution_count": 16,
   "metadata": {},
   "outputs": [],
   "source": [
    "if False:\n",
    "    with open(MODEL2FEATURES, 'wb') as handle:\n",
    "        pickle.dump(filename2featuresAll, handle, protocol=pickle.HIGHEST_PROTOCOL)"
   ]
  },
  {
   "cell_type": "code",
   "execution_count": 7,
   "metadata": {},
   "outputs": [
    {
     "name": "stdout",
     "output_type": "stream",
     "text": [
      "../abaw5/enet_b0_8_best_vgaf_cropped.pickle 2942996\n"
     ]
    }
   ],
   "source": [
    "#filename=MODEL2FEATURES\n",
    "filename='../abaw5/'+MODEL2FEATURES\n",
    "with open(filename, 'rb') as handle:\n",
    "    filename2featuresAll=pickle.load(handle)\n",
    "print(filename,len(filename2featuresAll))"
   ]
  },
  {
   "cell_type": "markdown",
   "metadata": {},
   "source": [
    "# Audios"
   ]
  },
  {
   "cell_type": "code",
   "execution_count": 6,
   "metadata": {},
   "outputs": [
    {
     "name": "stdout",
     "output_type": "stream",
     "text": [
      "27-60-1280x720 2933\n",
      "video39 10679\n",
      "77-30-1280x720 5673\n",
      "91-30-1920x1080 10922\n",
      "360 3510\n",
      "136 4488\n",
      "197 1870\n",
      "291 1831\n",
      "16-30-1920x1080 5474\n",
      "video2 2065\n",
      "89-30-1080x1920 631\n",
      "408 2979\n",
      "110-30-270x480 9979\n",
      "324 5615\n",
      "14-30-1920x1080 5311\n",
      "129-24-1280x720 6154\n",
      "153 3678\n",
      "314 2261\n",
      "255 1692\n",
      "284 4055\n",
      "298 2837\n",
      "206 4477\n",
      "video84 526\n",
      "387 2912\n",
      "286 2678\n",
      "55-25-1280x720 1506\n",
      "336 4345\n",
      "video52 10680\n",
      "60-30-1920x1080 4565\n",
      "120 3592\n",
      "267 3842\n",
      "121-24-1920x1080 10629\n",
      "349 4055\n",
      "46-30-484x360 2945\n",
      "218 3850\n",
      "video55 8420\n",
      "368 2930\n",
      "9-15-1920x1080 47435\n",
      "384 3452\n",
      "228 2156\n",
      "video3 7802\n",
      "106-30-720x1280 1405\n",
      "64-24-640x360 4919\n",
      "244 2322\n",
      "28-30-1280x720-2 397\n",
      "235 3683\n",
      "video86_3 403\n",
      "92-24-1920x1080 8164\n",
      "376 3570\n",
      "185 4053\n",
      "157 2605\n",
      "38-30-1920x1080 2432\n",
      "video87 1823\n",
      "57-25-426x240 301\n",
      "4-30-1920x1080 8261\n",
      "video86_2 887\n",
      "video45_5 415\n",
      "143 10103\n",
      "114 2450\n",
      "243 4121\n",
      "133 461\n",
      "video64 6101\n",
      "125-25-1280x720 6842\n",
      "video81 8434\n",
      "274 3527\n",
      "113 15021\n",
      "video66 155\n",
      "171 3977\n",
      "446 2249\n",
      "126-30-1080x1920 4595\n",
      "168 2979\n",
      "video33 7554\n",
      "201 1361\n",
      "video61 117\n",
      "236 3674\n",
      "119 4577\n",
      "116 2518\n",
      "82-25-854x480 5403\n",
      "15-24-1920x1080 3593\n",
      "87-25-1920x1080 1803\n",
      "36-24-1280x720 5261\n",
      "130-25-1280x720 8462\n",
      "219 3892\n",
      "123-25-1920x1080 27242\n",
      "318 4108\n",
      "133-30-1280x720 2404\n",
      "26-60-1280x720 2066\n",
      "266 2466\n",
      "7-60-1920x1080 23149\n",
      "70-30-720x1280 2784\n",
      "261 2867\n",
      "video9 3795\n",
      "199 2918\n",
      "282 3615\n",
      "305 4579\n",
      "5-60-1920x1080-4 4893\n",
      "116-30-1280x720 6184\n",
      "video91 711\n",
      "19-24-1920x1080 6634\n",
      "video21 6809\n",
      "196 5454\n",
      "10-60-1280x720 2502\n",
      "385 2977\n",
      "video8 5368\n",
      "video44 7786\n",
      "video83 2703\n",
      "202 941\n",
      "32-60-1920x1080 4460\n",
      "video90 3571\n",
      "323 2937\n",
      "198 2285\n",
      "78-30-960x720 4443\n",
      "video63 275\n",
      "359 3862\n",
      "386 1752\n",
      "373 2705\n",
      "225 1463\n",
      "48-30-720x1280 1593\n",
      "382 2714\n",
      "video41 3495\n",
      "176 6416\n",
      "165 4568\n",
      "31-30-1920x1080 4723\n",
      "24-30-1920x1080-1 1913\n",
      "214 2556\n",
      "434 5233\n",
      "426 2780\n",
      "449 3553\n",
      "149 15659\n",
      "307 3311\n",
      "video56 10696\n",
      "video35 3568\n",
      "319 2138\n",
      "video74 18190\n",
      "video45_6 309\n",
      "video5 2469\n",
      "347 2925\n",
      "138-30-1280x720 3332\n",
      "312 5110\n",
      "video15 4288\n",
      "326 4718\n",
      "207 3039\n",
      "204 5926\n",
      "135-24-1920x1080 9424\n",
      "video27 16419\n",
      "358 325\n",
      "video53 7980\n",
      "208 5160\n",
      "39-25-424x240 4591\n",
      "137 4787\n",
      "video14 7586\n",
      "227 4418\n",
      "155 3114\n",
      "112 5916\n",
      "video89 2242\n",
      "402 4423\n",
      "video67 1850\n",
      "video38 2945\n",
      "105 10077\n",
      "134 1790\n",
      "100-29-1080x1920 2640\n",
      "167 4718\n",
      "277 5172\n",
      "346 5694\n",
      "128 6287\n",
      "269 4698\n",
      "425 5071\n",
      "video24 5205\n",
      "103 26618\n",
      "415 2904\n",
      "393 4917\n",
      "203 3965\n",
      "439 2309\n",
      "450 9908\n",
      "110 5505\n",
      "365 1068\n",
      "395 5154\n",
      "75-30-960x720 1954\n",
      "398 3270\n",
      "375 2958\n",
      "258 1465\n",
      "147 19695\n",
      "video23 8790\n",
      "83-24-1920x1080 5344\n",
      "video93 444\n",
      "58-30-640x480 2877\n",
      "429 1674\n",
      "63-30-1920x1080 2413\n",
      "video46 3173\n",
      "115-30-1280x720 4082\n",
      "187 4405\n",
      "111 7247\n",
      "video10_1 4257\n",
      "124-30-720x1280 10495\n",
      "210 3239\n",
      "video36 2425\n",
      "364 3319\n",
      "81-30-576x360 3604\n",
      "328 2715\n",
      "122-60-1920x1080-3 9244\n",
      "186 4166\n",
      "video45_7 180\n",
      "22-30-1920x1080 5336\n",
      "175 2503\n",
      "video13 10567\n",
      "80-30-320x240 5674\n",
      "video25 3645\n",
      "388 4159\n",
      "112-30-640x360 6003\n",
      "video85 7947\n",
      "96-30-1280x720 5604\n",
      "video34 10282\n",
      "293 2111\n",
      "234 2920\n",
      "353 2857\n",
      "288 3200\n",
      "292 4704\n",
      "424 4433\n",
      "53-30-360x480 1053\n",
      "122-60-1920x1080-1 7863\n",
      "128-24-1920x1080 3813\n",
      "179 4451\n",
      "315 3938\n",
      "148 18145\n",
      "181 5862\n",
      "194 4537\n",
      "video77 3005\n",
      "video86_1 1772\n",
      "37-30-1280x720 2707\n",
      "268 4367\n",
      "290 3163\n",
      "71-30-1920x1080 8002\n",
      "399 5200\n",
      "video75 641\n",
      "8-30-1280x720 9114\n",
      "video72 129\n",
      "102-30-640x360 2984\n",
      "177 3127\n",
      "144 15606\n",
      "123 9777\n",
      "374 1213\n",
      "348 4445\n",
      "video12 5580\n",
      "video7 3378\n",
      "322 2429\n",
      "309 2499\n",
      "107-30-640x480 74\n",
      "189 3855\n",
      "372 2043\n",
      "245 2531\n",
      "229 3563\n",
      "61-24-1920x1080 9157\n",
      "159 3459\n",
      "240 6792\n",
      "195 6118\n",
      "394 2336\n",
      "84-30-1920x1080 2584\n",
      "256 3337\n",
      "273 4620\n",
      "35-30-1920x1080 20808\n",
      "278 4287\n",
      "17-24-1920x1080 5788\n",
      "246 1346\n",
      "257 4389\n",
      "275 2448\n",
      "220 5026\n",
      "334 3399\n",
      "131-30-1920x1080 8013\n",
      "video1 14588\n",
      "18-24-1920x1080 4831\n",
      "226 4097\n",
      "109-30-1280x720 1046\n",
      "335 3279\n",
      "99-30-720x720 1801\n",
      "video92 2554\n",
      "418 2907\n",
      "389 4557\n",
      "260 2405\n",
      "355 1632\n",
      "357 1374\n",
      "28-30-1280x720-1 263\n",
      "59-30-1280x720 7742\n",
      "25-25-600x480 5744\n",
      "211 2163\n",
      "105-30-1280x720 1502\n",
      "241 3513\n",
      "video73 5952\n",
      "2-30-640x360 19353\n",
      "254 3387\n",
      "107 5316\n",
      "137-30-1920x1080 8553\n",
      "285 2989\n",
      "200 5040\n",
      "221 5125\n",
      "video26 11021\n",
      "video45_4 1039\n",
      "172 11645\n",
      "354 5390\n",
      "391 3584\n",
      "video60 1920\n",
      "video82 10672\n",
      "40-30-1280x720 9660\n",
      "50-30-1920x1080 2700\n",
      "252 2757\n",
      "381 1266\n",
      "video29 11260\n",
      "65-30-400x228 6668\n",
      "108-15-640x480 479\n",
      "447 3994\n",
      "video45_1 813\n",
      "video51 4408\n",
      "118-30-640x480 2421\n",
      "190 5427\n",
      "106 8164\n",
      "294 3289\n",
      "video54 3592\n",
      "140 4583\n",
      "141 4406\n",
      "253 2277\n",
      "127-30-1280x720 2214\n",
      "247 2271\n",
      "11-24-1920x1080 5390\n",
      "289 4204\n",
      "371 681\n",
      "161 1729\n",
      "47-30-654x480 4034\n",
      "140-30-632x360 6755\n",
      "317 1686\n",
      "182 4356\n",
      "85-24-1280x720 2665\n",
      "345 2345\n",
      "97-29-1920x1080 3367\n",
      "video11 4380\n",
      "45-24-1280x720 6082\n",
      "212 4563\n",
      "28-30-1280x720-4 277\n",
      "251 2107\n",
      "129 9014\n",
      "120-30-1280x720 15042\n",
      "30-30-1920x1080 3063\n",
      "166 4515\n",
      "56-30-1080x1920 4301\n",
      "295 3770\n",
      "video20 11272\n",
      "320 4739\n",
      "5-60-1920x1080-1 6154\n",
      "117-25-1920x1080 4082\n",
      "403 2166\n",
      "440 2521\n",
      "213 6398\n",
      "video88 8851\n",
      "232 2373\n",
      "104-17-720x480 2426\n",
      "29-24-1280x720 3684\n",
      "224 2234\n",
      "331 2955\n",
      "264 4745\n",
      "video30 8218\n",
      "341 3097\n",
      "215 3410\n",
      "94-30-1920x1080 2102\n",
      "421 3616\n",
      "138 5584\n",
      "117 5466\n",
      "video42 9227\n",
      "6-30-1920x1080 7986\n",
      "332 4666\n",
      "409 3609\n",
      "44-25-426x240 301\n",
      "154 3363\n",
      "407 3818\n",
      "41-24-1280x720 6161\n",
      "5-60-1920x1080-3 6334\n",
      "158 3032\n",
      "43-30-406x720 2874\n",
      "video94 697\n",
      "392 3551\n",
      "video19 785\n",
      "183 2770\n",
      "video6 5325\n",
      "video65 4572\n",
      "250 2929\n",
      "5-60-1920x1080-2 6214\n",
      "3-25-1920x1080 6189\n",
      "363 3241\n",
      "233 4480\n",
      "52-30-1280x720 1925\n",
      "299 2337\n",
      "135 3592\n",
      "329 5087\n",
      "video37 9187\n",
      "video62 5580\n",
      "423 5266\n",
      "416 6512\n",
      "122 4128\n",
      "21-24-1920x1080 5231\n",
      "369 4439\n",
      "video16 12487\n",
      "223 2798\n",
      "video48 2543\n",
      "134-30-1280x720 3876\n",
      "114-30-1280x720 3663\n",
      "126 6287\n",
      "54-30-1080x1920 6446\n",
      "122-60-1920x1080-5 12066\n",
      "209 2857\n",
      "119-30-848x480 1652\n",
      "146 4851\n",
      "51-30-1280x720 2500\n",
      "339 4633\n",
      "72-30-1280x720 7572\n",
      "23-24-1920x1080 5412\n",
      "49-30-1280x720 848\n",
      "98-30-360x360 6646\n",
      "113-60-1280x720 4023\n",
      "79-30-960x720 2495\n",
      "162 7935\n",
      "303 3951\n",
      "378 3481\n",
      "101-30-1080x1920 5154\n",
      "283 4769\n",
      "118 588\n",
      "video22 10470\n",
      "370 1940\n",
      "131 4778\n",
      "76-30-640x280 1774\n",
      "111-25-1920x1080 772\n",
      "132-30-426x240 993\n",
      "419 6964\n",
      "1-30-1280x720 10356\n",
      "132 5660\n",
      "12-24-1920x1080 5686\n",
      "265 6720\n",
      "367 4170\n",
      "video4 1551\n",
      "103-30-384x480 772\n",
      "video76 4275\n",
      "74-25-1920x1080 5042\n",
      "20-24-1920x1080 5275\n",
      "184 3791\n",
      "231 4208\n",
      "304 2694\n",
      "video96 8047\n",
      "130 4002\n",
      "248 2268\n",
      "380 2376\n",
      "361 4603\n",
      "video69 8623\n",
      "230 3971\n",
      "160 838\n",
      "34-25-1920x1080 7758\n",
      "297 3289\n",
      "259 2394\n",
      "125 4366\n",
      "428 3230\n",
      "262 4754\n",
      "66-25-1080x1920 2914\n",
      "271 2224\n",
      "237 5435\n",
      "video58 304\n",
      "435 1951\n",
      "441 2702\n",
      "362 4913\n",
      "121 4414\n",
      "330 4569\n",
      "327 4157\n",
      "28-30-1280x720-3 277\n",
      "video78 420\n",
      "306 2297\n",
      "88-30-360x480 3723\n",
      "video80 420\n",
      "13-30-1920x1080 7400\n",
      "427 1223\n",
      "139-14-720x480 10014\n",
      "24-30-1920x1080-2 4173\n",
      "86-24-1920x1080 4996\n",
      "video32 2776\n",
      "169 2863\n",
      "287 1273\n",
      "42-30-480x480 1395\n",
      "321 3556\n",
      "412 1474\n",
      "281 7012\n",
      "239 1965\n",
      "127 8124\n",
      "93-24-640x360 2582\n",
      "video59 6703\n",
      "69-25-854x480 18782\n",
      "313 3140\n",
      "136-30-1920x1080 7530\n",
      "33-30-1920x1080 10807\n",
      "68-24-1920x1080 7190\n",
      "279 2213\n",
      "156 4926\n",
      "video95 10856\n",
      "406 3067\n",
      "308 4652\n",
      "188 5987\n",
      "67-24-640x360 3462\n",
      "62-30-654x480 12034\n",
      "122-60-1920x1080-2 7173\n",
      "102 4778\n",
      "420 3151\n",
      "192 3599\n",
      "video47 821\n",
      "337 2807\n",
      "video49 6122\n",
      "433 4311\n",
      "video17 21938\n",
      "448 4158\n",
      "325 3223\n",
      "377 3445\n",
      "249 2622\n",
      "276 1584\n",
      "383 2555\n",
      "163 3938\n",
      "164 7044\n",
      "191 5249\n",
      "193 3984\n",
      "video45_2 1096\n",
      "video18 3784\n",
      "video71 11205\n",
      "430 1835\n",
      "242 7011\n",
      "90-30-1080x1920 7414\n",
      "video70 11869\n",
      "video45_3 295\n",
      "151 965\n",
      "video79 4098\n",
      "238 3013\n",
      "178 5841\n",
      "95-24-1920x1080 2884\n",
      "video40 5877\n",
      "311 1931\n",
      "296 6487\n",
      "150 13016\n",
      "video28 8728\n",
      "122-60-1920x1080-4 7684\n",
      "272 3334\n",
      "350 2016\n",
      "216 458\n",
      "108 4679\n",
      "video57 8380\n",
      "400 2641\n",
      "344 4264\n",
      "280 3946\n",
      "139 8166\n",
      "270 3938\n"
     ]
    }
   ],
   "source": [
    "d=os.path.join(DATA_DIR,'../../videos')\n",
    "video2len={}\n",
    "for filename in os.listdir(d):\n",
    "    fn, ext = os.path.splitext(os.path.basename(filename))\n",
    "    vid=os.path.join(d,filename)\n",
    "    cap = cv2.VideoCapture(vid)\n",
    "    total_frames = int(cap.get(cv2.CAP_PROP_FRAME_COUNT))\n",
    "    video2len[fn]=total_frames+1 #FIX ME!!! NEED TO ADD 1 to the number of frames for consistency with challeng's organizer\n",
    "    print(fn,video2len[fn])"
   ]
  },
  {
   "cell_type": "code",
   "execution_count": 6,
   "metadata": {},
   "outputs": [
    {
     "name": "stdout",
     "output_type": "stream",
     "text": [
      "454 27789\n",
      "471 5934\n",
      "479 6080\n",
      "463 22511\n",
      "461 7677\n",
      "453 4946\n",
      "495 2907\n",
      "478 10190\n",
      "499 6564\n",
      "459 3686\n",
      "475 9559\n",
      "483 14632\n",
      "491 10212\n",
      "489 11980\n",
      "493 871\n",
      "465 25064\n",
      "455 779\n",
      "480 4809\n",
      "477 8236\n",
      "497 6328\n",
      "468 10229\n",
      "500 3120\n",
      "469 18249\n",
      "474 7953\n",
      "494 1700\n",
      "496 7233\n",
      "451 9125\n",
      "458 23633\n",
      "481 4701\n",
      "482 6331\n",
      "486 20200\n",
      "498 2200\n",
      "452 11545\n",
      "457 14957\n",
      "467 15186\n",
      "464 14578\n",
      "462 3758\n",
      "473 10352\n",
      "488 6017\n",
      "476 8260\n",
      "470 9102\n",
      "487 11919\n",
      "485 9481\n",
      "456 6303\n",
      "490 7312\n",
      "472 9750\n",
      "460 9766\n",
      "466 22919\n",
      "492 510\n",
      "484 3596\n"
     ]
    }
   ],
   "source": [
    "d=os.path.join(DATA_DIR,'../../new_vids')\n",
    "video2len={}\n",
    "for filename in os.listdir(d):\n",
    "    fn, ext = os.path.splitext(os.path.basename(filename))\n",
    "    vid=os.path.join(d,filename)\n",
    "    cap = cv2.VideoCapture(vid)\n",
    "    total_frames = int(cap.get(cv2.CAP_PROP_FRAME_COUNT))\n",
    "    video2len[fn]=total_frames+1 #FIX ME!!! NEED TO ADD 1 to the number of frames for consistency with challeng's organizer\n",
    "    print(fn,video2len[fn])"
   ]
  },
  {
   "cell_type": "code",
   "execution_count": 6,
   "metadata": {},
   "outputs": [
    {
     "name": "stdout",
     "output_type": "stream",
     "text": [
      "454.mp4\n",
      "471.avi\n",
      "479.avi\n",
      "463.avi\n",
      "461.mp4\n",
      "453.avi\n",
      "495.avi\n",
      "478.avi\n",
      "499.avi\n",
      "459.avi\n",
      "475.avi\n",
      "483.mp4\n",
      "491.avi\n",
      "489.avi\n",
      "493.avi\n",
      "465.avi\n",
      "455.avi\n",
      "480.avi\n",
      "477.avi\n",
      "497.mp4\n",
      "468.mp4\n",
      "500.avi\n",
      "469.mp4\n",
      "474.avi\n",
      "494.mp4\n",
      "496.avi\n",
      "451.avi\n",
      "458.avi\n",
      "481.avi\n",
      "482.avi\n",
      "486.avi\n",
      "498.avi\n",
      "452.avi\n",
      "457.avi\n",
      "467.mp4\n",
      "464.avi\n",
      "462.avi\n",
      "473.avi\n",
      "488.avi\n",
      "476.avi\n",
      "470.avi\n",
      "487.avi\n",
      "485.avi\n",
      "456.avi\n",
      "490.avi\n",
      "472.avi\n",
      "460.mp4\n",
      "466.avi\n",
      "492.mp4\n",
      "484.avi\n"
     ]
    }
   ],
   "source": [
    "import wave, struct\n",
    "from fnmatch import fnmatch\n",
    "video_dir=os.path.join(DATA_DIR,'../../new_vids')\n",
    "audio_dir=os.path.join(DATA_DIR,'../../new_vids_audios')\n",
    "for filename in os.listdir(video_dir):\n",
    "    print(filename)\n",
    "    video_path=os.path.join(video_dir,filename)\n",
    "    fn=os.path.splitext(filename)[0]\n",
    "    waveFile = os.path.join(audio_dir, fn+'.wav')\n",
    "    command = \"ffmpeg -i \"+video_path+\" -ac 1 -ar 16000 -vn \"+waveFile\n",
    "    #print(command)\n",
    "    os.system(command=command)"
   ]
  },
  {
   "cell_type": "markdown",
   "metadata": {},
   "source": [
    "---------"
   ]
  },
  {
   "cell_type": "code",
   "execution_count": 7,
   "metadata": {},
   "outputs": [
    {
     "name": "stderr",
     "output_type": "stream",
     "text": [
      "Some weights of Wav2Vec2Model were not initialized from the model checkpoint at facebook/wav2vec2-base-960h and are newly initialized: ['wav2vec2.masked_spec_embed']\n",
      "You should probably TRAIN this model on a down-stream task to be able to use it for predictions and inference.\n"
     ]
    },
    {
     "data": {
      "text/plain": [
       "Wav2Vec2Model(\n",
       "  (feature_extractor): Wav2Vec2FeatureEncoder(\n",
       "    (conv_layers): ModuleList(\n",
       "      (0): Wav2Vec2GroupNormConvLayer(\n",
       "        (conv): Conv1d(1, 512, kernel_size=(10,), stride=(5,), bias=False)\n",
       "        (activation): GELUActivation()\n",
       "        (layer_norm): GroupNorm(512, 512, eps=1e-05, affine=True)\n",
       "      )\n",
       "      (1-4): 4 x Wav2Vec2NoLayerNormConvLayer(\n",
       "        (conv): Conv1d(512, 512, kernel_size=(3,), stride=(2,), bias=False)\n",
       "        (activation): GELUActivation()\n",
       "      )\n",
       "      (5-6): 2 x Wav2Vec2NoLayerNormConvLayer(\n",
       "        (conv): Conv1d(512, 512, kernel_size=(2,), stride=(2,), bias=False)\n",
       "        (activation): GELUActivation()\n",
       "      )\n",
       "    )\n",
       "  )\n",
       "  (feature_projection): Wav2Vec2FeatureProjection(\n",
       "    (layer_norm): LayerNorm((512,), eps=1e-05, elementwise_affine=True)\n",
       "    (projection): Linear(in_features=512, out_features=768, bias=True)\n",
       "    (dropout): Dropout(p=0.1, inplace=False)\n",
       "  )\n",
       "  (encoder): Wav2Vec2Encoder(\n",
       "    (pos_conv_embed): Wav2Vec2PositionalConvEmbedding(\n",
       "      (conv): Conv1d(768, 768, kernel_size=(128,), stride=(1,), padding=(64,), groups=16)\n",
       "      (padding): Wav2Vec2SamePadLayer()\n",
       "      (activation): GELUActivation()\n",
       "    )\n",
       "    (layer_norm): LayerNorm((768,), eps=1e-05, elementwise_affine=True)\n",
       "    (dropout): Dropout(p=0.1, inplace=False)\n",
       "    (layers): ModuleList(\n",
       "      (0-11): 12 x Wav2Vec2EncoderLayer(\n",
       "        (attention): Wav2Vec2Attention(\n",
       "          (k_proj): Linear(in_features=768, out_features=768, bias=True)\n",
       "          (v_proj): Linear(in_features=768, out_features=768, bias=True)\n",
       "          (q_proj): Linear(in_features=768, out_features=768, bias=True)\n",
       "          (out_proj): Linear(in_features=768, out_features=768, bias=True)\n",
       "        )\n",
       "        (dropout): Dropout(p=0.1, inplace=False)\n",
       "        (layer_norm): LayerNorm((768,), eps=1e-05, elementwise_affine=True)\n",
       "        (feed_forward): Wav2Vec2FeedForward(\n",
       "          (intermediate_dropout): Dropout(p=0.1, inplace=False)\n",
       "          (intermediate_dense): Linear(in_features=768, out_features=3072, bias=True)\n",
       "          (intermediate_act_fn): GELUActivation()\n",
       "          (output_dense): Linear(in_features=3072, out_features=768, bias=True)\n",
       "          (output_dropout): Dropout(p=0.1, inplace=False)\n",
       "        )\n",
       "        (final_layer_norm): LayerNorm((768,), eps=1e-05, elementwise_affine=True)\n",
       "      )\n",
       "    )\n",
       "  )\n",
       ")"
      ]
     },
     "execution_count": 7,
     "metadata": {},
     "output_type": "execute_result"
    }
   ],
   "source": [
    "from transformers import Wav2Vec2Processor, Wav2Vec2Model\n",
    "import torchaudio\n",
    "import torch\n",
    "processor = Wav2Vec2Processor.from_pretrained(\"facebook/wav2vec2-base-960h\")\n",
    "model = Wav2Vec2Model.from_pretrained(\"facebook/wav2vec2-base-960h\")\n",
    "model.eval()"
   ]
  },
  {
   "cell_type": "code",
   "execution_count": 7,
   "metadata": {},
   "outputs": [
    {
     "name": "stdout",
     "output_type": "stream",
     "text": [
      "1-30-1280x720 16000 (17259, 768) 320.0136160843618\n"
     ]
    }
   ],
   "source": [
    "AUDIO_DIR=DATA_DIR+'/../../audios'\n",
    "videoname2audiofeatures={}\n",
    "for filename in sorted(os.listdir(AUDIO_DIR)):\n",
    "    videoname,_=os.path.splitext(filename)\n",
    "    array, fs = torchaudio.load(os.path.join(AUDIO_DIR,filename))\n",
    "    inp = processor(array.squeeze(), sampling_rate=fs, return_tensors=\"pt\")\n",
    "    with torch.no_grad():\n",
    "        outputs = model(**inp)\n",
    "    videoname2audiofeatures[videoname]=outputs.last_hidden_state.numpy()[0]\n",
    "    print(videoname,fs,videoname2audiofeatures[videoname].shape,inp['input_values'].shape[1]/len(videoname2audiofeatures[videoname]))\n",
    "    break"
   ]
  },
  {
   "cell_type": "code",
   "execution_count": 23,
   "metadata": {},
   "outputs": [
    {
     "name": "stderr",
     "output_type": "stream",
     "text": [
      "  0%|          | 1/548 [00:48<7:21:27, 48.42s/it]"
     ]
    },
    {
     "name": "stdout",
     "output_type": "stream",
     "text": [
      "1-30-1280x720 16000 (10356, 768) (17259, 768)\n"
     ]
    },
    {
     "name": "stderr",
     "output_type": "stream",
     "text": [
      "\r",
      "  0%|          | 2/548 [00:52<3:25:23, 22.57s/it]"
     ]
    },
    {
     "name": "stdout",
     "output_type": "stream",
     "text": [
      "10-60-1280x720 16000 (2502, 768) (4167, 768)\n"
     ]
    },
    {
     "name": "stderr",
     "output_type": "stream",
     "text": [
      "\r",
      "  1%|          | 3/548 [00:57<2:12:09, 14.55s/it]"
     ]
    },
    {
     "name": "stdout",
     "output_type": "stream",
     "text": [
      "100-29-1080x1920 16000 (2640, 768) (4401, 768)\n"
     ]
    },
    {
     "name": "stderr",
     "output_type": "stream",
     "text": [
      "\r",
      "  1%|          | 4/548 [01:12<2:10:37, 14.41s/it]"
     ]
    },
    {
     "name": "stdout",
     "output_type": "stream",
     "text": [
      "101-30-1080x1920 16000 (5154, 768) (8594, 768)\n"
     ]
    },
    {
     "name": "stderr",
     "output_type": "stream",
     "text": [
      "\r",
      "  1%|          | 5/548 [01:18<1:42:57, 11.38s/it]"
     ]
    },
    {
     "name": "stdout",
     "output_type": "stream",
     "text": [
      "102-30-640x360 16000 (2984, 768) (4978, 768)\n"
     ]
    },
    {
     "name": "stderr",
     "output_type": "stream",
     "text": [
      "\r",
      "  1%|          | 6/548 [01:37<2:08:34, 14.23s/it]"
     ]
    },
    {
     "name": "stdout",
     "output_type": "stream",
     "text": [
      "102 16000 (4778, 768) (9553, 768)\n"
     ]
    },
    {
     "name": "stderr",
     "output_type": "stream",
     "text": [
      "\r",
      "  1%|▏         | 7/548 [01:38<1:28:32,  9.82s/it]"
     ]
    },
    {
     "name": "stdout",
     "output_type": "stream",
     "text": [
      "103-30-384x480 16000 (772, 768) (1287, 768)\n"
     ]
    },
    {
     "name": "stderr",
     "output_type": "stream",
     "text": [
      "\r",
      "  1%|▏         | 8/548 [03:39<6:47:23, 45.27s/it]"
     ]
    },
    {
     "name": "stdout",
     "output_type": "stream",
     "text": [
      "103 16000 (26618, 768) (44359, 768)\n"
     ]
    },
    {
     "name": "stderr",
     "output_type": "stream",
     "text": [
      "\r",
      "  2%|▏         | 9/548 [03:44<4:51:55, 32.50s/it]"
     ]
    },
    {
     "name": "stdout",
     "output_type": "stream",
     "text": [
      "104-17-720x480 16000 (2426, 768) (4052, 768)\n"
     ]
    },
    {
     "name": "stderr",
     "output_type": "stream",
     "text": [
      "\r",
      "  2%|▏         | 10/548 [03:46<3:26:51, 23.07s/it]"
     ]
    },
    {
     "name": "stdout",
     "output_type": "stream",
     "text": [
      "105-30-1280x720 16000 (1502, 768) (2502, 768)\n"
     ]
    },
    {
     "name": "stderr",
     "output_type": "stream",
     "text": [
      "\r",
      "  2%|▏         | 11/548 [04:34<4:37:01, 30.95s/it]"
     ]
    },
    {
     "name": "stdout",
     "output_type": "stream",
     "text": [
      "105 16000 (10077, 768) (16809, 768)\n"
     ]
    },
    {
     "name": "stderr",
     "output_type": "stream",
     "text": [
      "\r",
      "  2%|▏         | 12/548 [04:36<3:17:33, 22.11s/it]"
     ]
    },
    {
     "name": "stdout",
     "output_type": "stream",
     "text": [
      "106-30-720x1280 16000 (1405, 768) (2342, 768)\n"
     ]
    },
    {
     "name": "stderr",
     "output_type": "stream",
     "text": [
      "  3%|▎         | 14/548 [05:22<3:01:48, 20.43s/it]"
     ]
    },
    {
     "name": "stdout",
     "output_type": "stream",
     "text": [
      "106 16000 (8164, 768) (17023, 768)\n",
      "107-30-640x480 16000 (74, 768) (130, 768)\n"
     ]
    },
    {
     "name": "stderr",
     "output_type": "stream",
     "text": [
      "\r",
      "  3%|▎         | 15/548 [05:39<2:52:27, 19.41s/it]"
     ]
    },
    {
     "name": "stdout",
     "output_type": "stream",
     "text": [
      "107 16000 (5316, 768) (8866, 768)\n"
     ]
    },
    {
     "name": "stderr",
     "output_type": "stream",
     "text": [
      "\r",
      "  3%|▎         | 16/548 [05:40<2:01:40, 13.72s/it]"
     ]
    },
    {
     "name": "stdout",
     "output_type": "stream",
     "text": [
      "108-15-640x480 16000 (479, 768) (808, 768)\n"
     ]
    },
    {
     "name": "stderr",
     "output_type": "stream",
     "text": [
      "\r",
      "  3%|▎         | 17/548 [05:58<2:13:17, 15.06s/it]"
     ]
    },
    {
     "name": "stdout",
     "output_type": "stream",
     "text": [
      "108 16000 (4679, 768) (9755, 768)\n"
     ]
    },
    {
     "name": "stderr",
     "output_type": "stream",
     "text": [
      "\r",
      "  3%|▎         | 18/548 [05:59<1:36:22, 10.91s/it]"
     ]
    },
    {
     "name": "stdout",
     "output_type": "stream",
     "text": [
      "109-30-1280x720 16000 (1046, 768) (1747, 768)\n"
     ]
    },
    {
     "name": "stderr",
     "output_type": "stream",
     "text": [
      "\r",
      "  3%|▎         | 19/548 [06:16<1:51:19, 12.63s/it]"
     ]
    },
    {
     "name": "stdout",
     "output_type": "stream",
     "text": [
      "11-24-1920x1080 16000 (5390, 768) (8982, 768)\n"
     ]
    },
    {
     "name": "stderr",
     "output_type": "stream",
     "text": [
      "\r",
      "  4%|▎         | 20/548 [07:05<3:28:36, 23.71s/it]"
     ]
    },
    {
     "name": "stdout",
     "output_type": "stream",
     "text": [
      "110-30-270x480 16000 (9979, 768) (16632, 768)\n"
     ]
    },
    {
     "name": "stderr",
     "output_type": "stream",
     "text": [
      "\r",
      "  4%|▍         | 21/548 [07:21<3:08:20, 21.44s/it]"
     ]
    },
    {
     "name": "stdout",
     "output_type": "stream",
     "text": [
      "110 16000 (5505, 768) (9173, 768)\n"
     ]
    },
    {
     "name": "stderr",
     "output_type": "stream",
     "text": [
      "\r",
      "  4%|▍         | 22/548 [07:22<2:13:32, 15.23s/it]"
     ]
    },
    {
     "name": "stdout",
     "output_type": "stream",
     "text": [
      "111-25-1920x1080 16000 (772, 768) (1389, 768)\n"
     ]
    },
    {
     "name": "stderr",
     "output_type": "stream",
     "text": [
      "\r",
      "  4%|▍         | 23/548 [07:50<2:45:51, 18.96s/it]"
     ]
    },
    {
     "name": "stdout",
     "output_type": "stream",
     "text": [
      "111 16000 (7247, 768) (12088, 768)\n"
     ]
    },
    {
     "name": "stderr",
     "output_type": "stream",
     "text": [
      "\r",
      "  4%|▍         | 24/548 [08:11<2:51:00, 19.58s/it]"
     ]
    },
    {
     "name": "stdout",
     "output_type": "stream",
     "text": [
      "112-30-640x360 16000 (6003, 768) (10001, 768)\n"
     ]
    },
    {
     "name": "stderr",
     "output_type": "stream",
     "text": [
      "\r",
      "  5%|▍         | 25/548 [08:37<3:08:18, 21.60s/it]"
     ]
    },
    {
     "name": "stdout",
     "output_type": "stream",
     "text": [
      "112 16000 (5916, 768) (12334, 768)\n"
     ]
    },
    {
     "name": "stderr",
     "output_type": "stream",
     "text": [
      "\r",
      "  5%|▍         | 26/548 [08:47<2:38:36, 18.23s/it]"
     ]
    },
    {
     "name": "stdout",
     "output_type": "stream",
     "text": [
      "113-60-1280x720 16000 (4023, 768) (6701, 768)\n"
     ]
    },
    {
     "name": "stderr",
     "output_type": "stream",
     "text": [
      "\r",
      "  5%|▍         | 27/548 [09:49<4:31:12, 31.23s/it]"
     ]
    },
    {
     "name": "stdout",
     "output_type": "stream",
     "text": [
      "113 16000 (15021, 768) (25057, 768)\n"
     ]
    },
    {
     "name": "stderr",
     "output_type": "stream",
     "text": [
      "\r",
      "  5%|▌         | 28/548 [09:58<3:32:56, 24.57s/it]"
     ]
    },
    {
     "name": "stdout",
     "output_type": "stream",
     "text": [
      "114-30-1280x720 16000 (3663, 768) (6100, 768)\n"
     ]
    },
    {
     "name": "stderr",
     "output_type": "stream",
     "text": [
      "\r",
      "  5%|▌         | 29/548 [10:02<2:39:36, 18.45s/it]"
     ]
    },
    {
     "name": "stdout",
     "output_type": "stream",
     "text": [
      "114 16000 (2450, 768) (4085, 768)\n"
     ]
    },
    {
     "name": "stderr",
     "output_type": "stream",
     "text": [
      "\r",
      "  5%|▌         | 30/548 [10:12<2:17:22, 15.91s/it]"
     ]
    },
    {
     "name": "stdout",
     "output_type": "stream",
     "text": [
      "115-30-1280x720 16000 (4082, 768) (6800, 768)\n"
     ]
    },
    {
     "name": "stderr",
     "output_type": "stream",
     "text": [
      "\r",
      "  6%|▌         | 31/548 [10:34<2:32:45, 17.73s/it]"
     ]
    },
    {
     "name": "stdout",
     "output_type": "stream",
     "text": [
      "116-30-1280x720 16000 (6184, 768) (10301, 768)\n"
     ]
    },
    {
     "name": "stderr",
     "output_type": "stream",
     "text": [
      "\r",
      "  6%|▌         | 32/548 [10:39<1:58:18, 13.76s/it]"
     ]
    },
    {
     "name": "stdout",
     "output_type": "stream",
     "text": [
      "116 16000 (2518, 768) (4194, 768)\n"
     ]
    },
    {
     "name": "stderr",
     "output_type": "stream",
     "text": [
      "\r",
      "  6%|▌         | 33/548 [10:49<1:50:23, 12.86s/it]"
     ]
    },
    {
     "name": "stdout",
     "output_type": "stream",
     "text": [
      "117-25-1920x1080 16000 (4082, 768) (6800, 768)\n"
     ]
    },
    {
     "name": "stderr",
     "output_type": "stream",
     "text": [
      "\r",
      "  6%|▌         | 34/548 [11:06<1:58:51, 13.87s/it]"
     ]
    },
    {
     "name": "stdout",
     "output_type": "stream",
     "text": [
      "117 16000 (5466, 768) (9117, 768)\n"
     ]
    },
    {
     "name": "stderr",
     "output_type": "stream",
     "text": [
      "\r",
      "  6%|▋         | 35/548 [11:10<1:33:36, 10.95s/it]"
     ]
    },
    {
     "name": "stdout",
     "output_type": "stream",
     "text": [
      "118-30-640x480 16000 (2421, 768) (3752, 768)\n"
     ]
    },
    {
     "name": "stderr",
     "output_type": "stream",
     "text": [
      "\r",
      "  7%|▋         | 36/548 [11:10<1:06:54,  7.84s/it]"
     ]
    },
    {
     "name": "stdout",
     "output_type": "stream",
     "text": [
      "118 16000 (588, 768) (979, 768)\n"
     ]
    },
    {
     "name": "stderr",
     "output_type": "stream",
     "text": [
      "\r",
      "  7%|▋         | 37/548 [11:13<52:53,  6.21s/it]  "
     ]
    },
    {
     "name": "stdout",
     "output_type": "stream",
     "text": [
      "119-30-848x480 16000 (1652, 768) (2751, 768)\n"
     ]
    },
    {
     "name": "stderr",
     "output_type": "stream",
     "text": [
      "\r",
      "  7%|▋         | 38/548 [11:30<1:20:41,  9.49s/it]"
     ]
    },
    {
     "name": "stdout",
     "output_type": "stream",
     "text": [
      "119 16000 (4577, 768) (9542, 768)\n"
     ]
    },
    {
     "name": "stderr",
     "output_type": "stream",
     "text": [
      "\r",
      "  7%|▋         | 39/548 [11:47<1:40:10, 11.81s/it]"
     ]
    },
    {
     "name": "stdout",
     "output_type": "stream",
     "text": [
      "12-24-1920x1080 16000 (5686, 768) (9476, 768)\n"
     ]
    },
    {
     "name": "stderr",
     "output_type": "stream",
     "text": [
      "\r",
      "  7%|▋         | 40/548 [13:00<4:14:46, 30.09s/it]"
     ]
    },
    {
     "name": "stdout",
     "output_type": "stream",
     "text": [
      "120-30-1280x720 16000 (15042, 768) (25050, 768)\n"
     ]
    },
    {
     "name": "stderr",
     "output_type": "stream",
     "text": [
      "\r",
      "  7%|▋         | 41/548 [13:10<3:24:21, 24.18s/it]"
     ]
    },
    {
     "name": "stdout",
     "output_type": "stream",
     "text": [
      "120 16000 (3592, 768) (7181, 768)\n"
     ]
    },
    {
     "name": "stderr",
     "output_type": "stream",
     "text": [
      "\r",
      "  8%|▊         | 42/548 [14:00<4:27:14, 31.69s/it]"
     ]
    },
    {
     "name": "stdout",
     "output_type": "stream",
     "text": [
      "121-24-1920x1080 16000 (10629, 768) (17714, 768)\n"
     ]
    },
    {
     "name": "stderr",
     "output_type": "stream",
     "text": [
      "\r",
      "  8%|▊         | 43/548 [14:10<3:34:02, 25.43s/it]"
     ]
    },
    {
     "name": "stdout",
     "output_type": "stream",
     "text": [
      "121 16000 (4414, 768) (7362, 768)\n"
     ]
    },
    {
     "name": "stderr",
     "output_type": "stream",
     "text": [
      "\r",
      "  8%|▊         | 44/548 [14:41<3:46:02, 26.91s/it]"
     ]
    },
    {
     "name": "stdout",
     "output_type": "stream",
     "text": [
      "122-60-1920x1080-1 16000 (7863, 768) (13100, 768)\n"
     ]
    },
    {
     "name": "stderr",
     "output_type": "stream",
     "text": [
      "\r",
      "  8%|▊         | 45/548 [15:07<3:42:54, 26.59s/it]"
     ]
    },
    {
     "name": "stdout",
     "output_type": "stream",
     "text": [
      "122-60-1920x1080-2 16000 (7173, 768) (11951, 768)\n"
     ]
    },
    {
     "name": "stderr",
     "output_type": "stream",
     "text": [
      "\r",
      "  8%|▊         | 46/548 [15:46<4:15:52, 30.58s/it]"
     ]
    },
    {
     "name": "stdout",
     "output_type": "stream",
     "text": [
      "122-60-1920x1080-3 16000 (9244, 768) (15401, 768)\n"
     ]
    },
    {
     "name": "stderr",
     "output_type": "stream",
     "text": [
      "\r",
      "  9%|▊         | 47/548 [16:15<4:10:39, 30.02s/it]"
     ]
    },
    {
     "name": "stdout",
     "output_type": "stream",
     "text": [
      "122-60-1920x1080-4 16000 (7684, 768) (12800, 768)\n"
     ]
    },
    {
     "name": "stderr",
     "output_type": "stream",
     "text": [
      "\r",
      "  9%|▉         | 48/548 [17:08<5:08:15, 36.99s/it]"
     ]
    },
    {
     "name": "stdout",
     "output_type": "stream",
     "text": [
      "122-60-1920x1080-5 16000 (12066, 768) (20106, 768)\n"
     ]
    },
    {
     "name": "stderr",
     "output_type": "stream",
     "text": [
      "\r",
      "  9%|▉         | 49/548 [17:18<3:59:33, 28.80s/it]"
     ]
    },
    {
     "name": "stdout",
     "output_type": "stream",
     "text": [
      "122 16000 (4128, 768) (6884, 768)\n"
     ]
    },
    {
     "name": "stderr",
     "output_type": "stream",
     "text": [
      "\r",
      "  9%|▉         | 50/548 [19:22<7:55:53, 57.34s/it]"
     ]
    },
    {
     "name": "stdout",
     "output_type": "stream",
     "text": [
      "123-25-1920x1080 16000 (27242, 768) (45403, 768)\n"
     ]
    },
    {
     "name": "stderr",
     "output_type": "stream",
     "text": [
      "\r",
      "  9%|▉         | 51/548 [20:08<7:27:16, 54.00s/it]"
     ]
    },
    {
     "name": "stdout",
     "output_type": "stream",
     "text": [
      "123 16000 (9777, 768) (16309, 768)\n"
     ]
    },
    {
     "name": "stderr",
     "output_type": "stream",
     "text": [
      "\r",
      "  9%|▉         | 52/548 [20:59<7:18:18, 53.02s/it]"
     ]
    },
    {
     "name": "stdout",
     "output_type": "stream",
     "text": [
      "124-30-720x1280 16000 (10495, 768) (17505, 768)\n"
     ]
    },
    {
     "name": "stderr",
     "output_type": "stream",
     "text": [
      "\r",
      " 10%|▉         | 53/548 [21:22<6:03:51, 44.10s/it]"
     ]
    },
    {
     "name": "stdout",
     "output_type": "stream",
     "text": [
      "125-25-1280x720 16000 (6842, 768) (11400, 768)\n"
     ]
    },
    {
     "name": "stderr",
     "output_type": "stream",
     "text": [
      "\r",
      " 10%|▉         | 54/548 [21:33<4:40:10, 34.03s/it]"
     ]
    },
    {
     "name": "stdout",
     "output_type": "stream",
     "text": [
      "125 16000 (4366, 768) (7282, 768)\n"
     ]
    },
    {
     "name": "stderr",
     "output_type": "stream",
     "text": [
      "\r",
      " 10%|█         | 55/548 [21:44<3:44:15, 27.29s/it]"
     ]
    },
    {
     "name": "stdout",
     "output_type": "stream",
     "text": [
      "126-30-1080x1920 16000 (4595, 768) (7657, 768)\n"
     ]
    },
    {
     "name": "stderr",
     "output_type": "stream",
     "text": [
      "\r",
      " 10%|█         | 56/548 [22:05<3:26:19, 25.16s/it]"
     ]
    },
    {
     "name": "stdout",
     "output_type": "stream",
     "text": [
      "126 16000 (6287, 768) (10486, 768)\n"
     ]
    },
    {
     "name": "stderr",
     "output_type": "stream",
     "text": [
      "\r",
      " 10%|█         | 57/548 [22:08<2:32:54, 18.69s/it]"
     ]
    },
    {
     "name": "stdout",
     "output_type": "stream",
     "text": [
      "127-30-1280x720 16000 (2214, 768) (3691, 768)\n"
     ]
    },
    {
     "name": "stderr",
     "output_type": "stream",
     "text": [
      "\r",
      " 11%|█         | 58/548 [22:39<3:01:38, 22.24s/it]"
     ]
    },
    {
     "name": "stdout",
     "output_type": "stream",
     "text": [
      "127 16000 (8124, 768) (13551, 768)\n"
     ]
    },
    {
     "name": "stderr",
     "output_type": "stream",
     "text": [
      "\r",
      " 11%|█         | 59/548 [22:47<2:27:14, 18.07s/it]"
     ]
    },
    {
     "name": "stdout",
     "output_type": "stream",
     "text": [
      "128-24-1920x1080 16000 (3813, 768) (6350, 768)\n"
     ]
    },
    {
     "name": "stderr",
     "output_type": "stream",
     "text": [
      "\r",
      " 11%|█         | 60/548 [23:10<2:38:05, 19.44s/it]"
     ]
    },
    {
     "name": "stdout",
     "output_type": "stream",
     "text": [
      "128 16000 (6287, 768) (10476, 768)\n"
     ]
    },
    {
     "name": "stderr",
     "output_type": "stream",
     "text": [
      "\r",
      " 11%|█         | 61/548 [23:28<2:34:44, 19.06s/it]"
     ]
    },
    {
     "name": "stdout",
     "output_type": "stream",
     "text": [
      "129-24-1280x720 16000 (6154, 768) (10250, 768)\n"
     ]
    },
    {
     "name": "stderr",
     "output_type": "stream",
     "text": [
      "\r",
      " 11%|█▏        | 62/548 [24:24<4:05:39, 30.33s/it]"
     ]
    },
    {
     "name": "stdout",
     "output_type": "stream",
     "text": [
      "129 16000 (9014, 768) (18794, 768)\n"
     ]
    },
    {
     "name": "stderr",
     "output_type": "stream",
     "text": [
      "\r",
      " 11%|█▏        | 63/548 [24:52<3:57:48, 29.42s/it]"
     ]
    },
    {
     "name": "stdout",
     "output_type": "stream",
     "text": [
      "13-30-1920x1080 16000 (7400, 768) (12332, 768)\n"
     ]
    },
    {
     "name": "stderr",
     "output_type": "stream",
     "text": [
      "\r",
      " 12%|█▏        | 64/548 [25:27<4:12:31, 31.31s/it]"
     ]
    },
    {
     "name": "stdout",
     "output_type": "stream",
     "text": [
      "130-25-1280x720 16000 (8462, 768) (14101, 768)\n"
     ]
    },
    {
     "name": "stderr",
     "output_type": "stream",
     "text": [
      "\r",
      " 12%|█▏        | 65/548 [25:36<3:17:59, 24.59s/it]"
     ]
    },
    {
     "name": "stdout",
     "output_type": "stream",
     "text": [
      "130 16000 (4002, 768) (6674, 768)\n"
     ]
    },
    {
     "name": "stderr",
     "output_type": "stream",
     "text": [
      "\r",
      " 12%|█▏        | 66/548 [26:07<3:32:25, 26.44s/it]"
     ]
    },
    {
     "name": "stdout",
     "output_type": "stream",
     "text": [
      "131-30-1920x1080 16000 (8013, 768) (13350, 768)\n"
     ]
    },
    {
     "name": "stderr",
     "output_type": "stream",
     "text": [
      "\r",
      " 12%|█▏        | 67/548 [26:25<3:12:02, 23.95s/it]"
     ]
    },
    {
     "name": "stdout",
     "output_type": "stream",
     "text": [
      "131 16000 (4778, 768) (9961, 768)\n"
     ]
    },
    {
     "name": "stderr",
     "output_type": "stream",
     "text": [
      "\r",
      " 12%|█▏        | 68/548 [26:26<2:16:44, 17.09s/it]"
     ]
    },
    {
     "name": "stdout",
     "output_type": "stream",
     "text": [
      "132-30-426x240 16000 (993, 768) (1650, 768)\n"
     ]
    },
    {
     "name": "stderr",
     "output_type": "stream",
     "text": [
      "\r",
      " 13%|█▎        | 69/548 [26:46<2:23:12, 17.94s/it]"
     ]
    },
    {
     "name": "stdout",
     "output_type": "stream",
     "text": [
      "132 16000 (5660, 768) (9440, 768)\n"
     ]
    },
    {
     "name": "stderr",
     "output_type": "stream",
     "text": [
      "\r",
      " 13%|█▎        | 70/548 [26:50<1:49:15, 13.71s/it]"
     ]
    },
    {
     "name": "stdout",
     "output_type": "stream",
     "text": [
      "133-30-1280x720 16000 (2404, 768) (4000, 768)\n"
     ]
    },
    {
     "name": "stderr",
     "output_type": "stream",
     "text": [
      "\r",
      " 13%|█▎        | 71/548 [26:51<1:17:39,  9.77s/it]"
     ]
    },
    {
     "name": "stdout",
     "output_type": "stream",
     "text": [
      "133 16000 (461, 768) (959, 768)\n"
     ]
    },
    {
     "name": "stderr",
     "output_type": "stream",
     "text": [
      "\r",
      " 13%|█▎        | 72/548 [26:59<1:14:40,  9.41s/it]"
     ]
    },
    {
     "name": "stdout",
     "output_type": "stream",
     "text": [
      "134-30-1280x720 16000 (3876, 768) (6251, 768)\n"
     ]
    },
    {
     "name": "stderr",
     "output_type": "stream",
     "text": [
      "\r",
      " 13%|█▎        | 73/548 [27:07<1:09:17,  8.75s/it]"
     ]
    },
    {
     "name": "stdout",
     "output_type": "stream",
     "text": [
      "134 16000 (1790, 768) (5788, 768)\n"
     ]
    },
    {
     "name": "stderr",
     "output_type": "stream",
     "text": [
      "\r",
      " 14%|█▎        | 74/548 [27:46<2:21:12, 17.87s/it]"
     ]
    },
    {
     "name": "stdout",
     "output_type": "stream",
     "text": [
      "135-24-1920x1080 16000 (9424, 768) (15701, 768)\n"
     ]
    },
    {
     "name": "stderr",
     "output_type": "stream",
     "text": [
      "\r",
      " 14%|█▎        | 75/548 [27:57<2:06:21, 16.03s/it]"
     ]
    },
    {
     "name": "stdout",
     "output_type": "stream",
     "text": [
      "135 16000 (3592, 768) (7488, 768)\n"
     ]
    },
    {
     "name": "stderr",
     "output_type": "stream",
     "text": [
      "\r",
      " 14%|█▍        | 76/548 [28:26<2:34:57, 19.70s/it]"
     ]
    },
    {
     "name": "stdout",
     "output_type": "stream",
     "text": [
      "136-30-1920x1080 16000 (7530, 768) (12550, 768)\n"
     ]
    },
    {
     "name": "stderr",
     "output_type": "stream",
     "text": [
      "\r",
      " 14%|█▍        | 77/548 [28:40<2:22:46, 18.19s/it]"
     ]
    },
    {
     "name": "stdout",
     "output_type": "stream",
     "text": [
      "136 16000 (4488, 768) (8973, 768)\n"
     ]
    },
    {
     "name": "stderr",
     "output_type": "stream",
     "text": [
      "\r",
      " 14%|█▍        | 78/548 [29:17<3:05:07, 23.63s/it]"
     ]
    },
    {
     "name": "stdout",
     "output_type": "stream",
     "text": [
      "137-30-1920x1080 16000 (8553, 768) (14249, 768)\n"
     ]
    },
    {
     "name": "stderr",
     "output_type": "stream",
     "text": [
      "\r",
      " 14%|█▍        | 79/548 [29:29<2:37:56, 20.21s/it]"
     ]
    },
    {
     "name": "stdout",
     "output_type": "stream",
     "text": [
      "137 16000 (4787, 768) (7976, 768)\n"
     ]
    },
    {
     "name": "stderr",
     "output_type": "stream",
     "text": [
      "\r",
      " 15%|█▍        | 80/548 [29:36<2:07:52, 16.39s/it]"
     ]
    },
    {
     "name": "stdout",
     "output_type": "stream",
     "text": [
      "138-30-1280x720 16000 (3332, 768) (5551, 768)\n"
     ]
    },
    {
     "name": "stderr",
     "output_type": "stream",
     "text": [
      "\r",
      " 15%|█▍        | 81/548 [29:54<2:10:49, 16.81s/it]"
     ]
    },
    {
     "name": "stdout",
     "output_type": "stream",
     "text": [
      "138 16000 (5584, 768) (9314, 768)\n"
     ]
    },
    {
     "name": "stderr",
     "output_type": "stream",
     "text": [
      "\r",
      " 15%|█▍        | 82/548 [30:39<3:14:44, 25.07s/it]"
     ]
    },
    {
     "name": "stdout",
     "output_type": "stream",
     "text": [
      "139-14-720x480 16000 (10014, 768) (16708, 768)\n"
     ]
    },
    {
     "name": "stderr",
     "output_type": "stream",
     "text": [
      "\r",
      " 15%|█▌        | 83/548 [31:09<3:26:01, 26.58s/it]"
     ]
    },
    {
     "name": "stdout",
     "output_type": "stream",
     "text": [
      "139 16000 (8166, 768) (13621, 768)\n"
     ]
    },
    {
     "name": "stderr",
     "output_type": "stream",
     "text": [
      "\r",
      " 15%|█▌        | 84/548 [31:25<3:02:18, 23.57s/it]"
     ]
    },
    {
     "name": "stdout",
     "output_type": "stream",
     "text": [
      "14-30-1920x1080 16000 (5311, 768) (8850, 768)\n"
     ]
    },
    {
     "name": "stderr",
     "output_type": "stream",
     "text": [
      "\r",
      " 16%|█▌        | 85/548 [31:50<3:05:34, 24.05s/it]"
     ]
    },
    {
     "name": "stdout",
     "output_type": "stream",
     "text": [
      "140-30-632x360 16000 (6755, 768) (11249, 768)\n"
     ]
    },
    {
     "name": "stderr",
     "output_type": "stream",
     "text": [
      "\r",
      " 16%|█▌        | 86/548 [32:02<2:36:01, 20.26s/it]"
     ]
    },
    {
     "name": "stdout",
     "output_type": "stream",
     "text": [
      "140 16000 (4583, 768) (7644, 768)\n"
     ]
    },
    {
     "name": "stderr",
     "output_type": "stream",
     "text": [
      "\r",
      " 16%|█▌        | 87/548 [32:12<2:12:53, 17.30s/it]"
     ]
    },
    {
     "name": "stdout",
     "output_type": "stream",
     "text": [
      "141 16000 (4406, 768) (7348, 768)\n"
     ]
    },
    {
     "name": "stderr",
     "output_type": "stream",
     "text": [
      "\r",
      " 16%|█▌        | 88/548 [32:57<3:14:53, 25.42s/it]"
     ]
    },
    {
     "name": "stdout",
     "output_type": "stream",
     "text": [
      "143 16000 (10103, 768) (16853, 768)\n"
     ]
    },
    {
     "name": "stderr",
     "output_type": "stream",
     "text": [
      "\r",
      " 16%|█▌        | 89/548 [34:03<4:48:50, 37.76s/it]"
     ]
    },
    {
     "name": "stdout",
     "output_type": "stream",
     "text": [
      "144 16000 (15606, 768) (26033, 768)\n"
     ]
    },
    {
     "name": "stderr",
     "output_type": "stream",
     "text": [
      "\r",
      " 16%|█▋        | 90/548 [34:48<5:03:46, 39.80s/it]"
     ]
    },
    {
     "name": "stdout",
     "output_type": "stream",
     "text": [
      "146 16000 (4851, 768) (15235, 768)\n"
     ]
    },
    {
     "name": "stderr",
     "output_type": "stream",
     "text": [
      "\r",
      " 17%|█▋        | 91/548 [36:11<6:41:52, 52.76s/it]"
     ]
    },
    {
     "name": "stdout",
     "output_type": "stream",
     "text": [
      "147 16000 (19695, 768) (32854, 768)\n"
     ]
    },
    {
     "name": "stderr",
     "output_type": "stream",
     "text": [
      "\r",
      " 17%|█▋        | 92/548 [37:32<7:46:25, 61.37s/it]"
     ]
    },
    {
     "name": "stdout",
     "output_type": "stream",
     "text": [
      "148 16000 (18145, 768) (30268, 768)\n"
     ]
    },
    {
     "name": "stderr",
     "output_type": "stream",
     "text": [
      "\r",
      " 17%|█▋        | 93/548 [38:34<7:45:54, 61.44s/it]"
     ]
    },
    {
     "name": "stdout",
     "output_type": "stream",
     "text": [
      "149 16000 (15659, 768) (26121, 768)\n"
     ]
    },
    {
     "name": "stderr",
     "output_type": "stream",
     "text": [
      "\r",
      " 17%|█▋        | 94/548 [38:42<5:44:46, 45.57s/it]"
     ]
    },
    {
     "name": "stdout",
     "output_type": "stream",
     "text": [
      "15-24-1920x1080 16000 (3593, 768) (5988, 768)\n"
     ]
    },
    {
     "name": "stderr",
     "output_type": "stream",
     "text": [
      "\r",
      " 17%|█▋        | 95/548 [39:36<6:01:33, 47.89s/it]"
     ]
    },
    {
     "name": "stdout",
     "output_type": "stream",
     "text": [
      "150 16000 (13016, 768) (21712, 768)\n"
     ]
    },
    {
     "name": "stderr",
     "output_type": "stream",
     "text": [
      "\r",
      " 18%|█▊        | 96/548 [39:37<4:16:06, 34.00s/it]"
     ]
    },
    {
     "name": "stdout",
     "output_type": "stream",
     "text": [
      "151 16000 (965, 768) (2190, 768)\n"
     ]
    },
    {
     "name": "stderr",
     "output_type": "stream",
     "text": [
      "\r",
      " 18%|█▊        | 97/548 [39:45<3:16:48, 26.18s/it]"
     ]
    },
    {
     "name": "stdout",
     "output_type": "stream",
     "text": [
      "153 16000 (3678, 768) (6134, 768)\n"
     ]
    },
    {
     "name": "stderr",
     "output_type": "stream",
     "text": [
      "\r",
      " 18%|█▊        | 98/548 [39:52<2:32:43, 20.36s/it]"
     ]
    },
    {
     "name": "stdout",
     "output_type": "stream",
     "text": [
      "154 16000 (3363, 768) (5608, 768)\n"
     ]
    },
    {
     "name": "stderr",
     "output_type": "stream",
     "text": [
      "\r",
      " 18%|█▊        | 99/548 [40:00<2:05:50, 16.82s/it]"
     ]
    },
    {
     "name": "stdout",
     "output_type": "stream",
     "text": [
      "155 16000 (3114, 768) (6225, 768)\n"
     ]
    },
    {
     "name": "stderr",
     "output_type": "stream",
     "text": [
      "\r",
      " 18%|█▊        | 100/548 [40:14<1:58:36, 15.89s/it]"
     ]
    },
    {
     "name": "stdout",
     "output_type": "stream",
     "text": [
      "156 16000 (4926, 768) (8208, 768)\n"
     ]
    },
    {
     "name": "stderr",
     "output_type": "stream",
     "text": [
      "\r",
      " 18%|█▊        | 101/548 [40:21<1:38:31, 13.22s/it]"
     ]
    },
    {
     "name": "stdout",
     "output_type": "stream",
     "text": [
      "157 16000 (2605, 768) (5418, 768)\n"
     ]
    },
    {
     "name": "stderr",
     "output_type": "stream",
     "text": [
      "\r",
      " 19%|█▊        | 102/548 [40:27<1:21:18, 10.94s/it]"
     ]
    },
    {
     "name": "stdout",
     "output_type": "stream",
     "text": [
      "158 16000 (3032, 768) (5056, 768)\n"
     ]
    },
    {
     "name": "stderr",
     "output_type": "stream",
     "text": [
      "\r",
      " 19%|█▉        | 103/548 [40:53<1:55:22, 15.56s/it]"
     ]
    },
    {
     "name": "stdout",
     "output_type": "stream",
     "text": [
      "159 16000 (3459, 768) (11834, 768)\n"
     ]
    },
    {
     "name": "stderr",
     "output_type": "stream",
     "text": [
      "\r",
      " 19%|█▉        | 104/548 [41:09<1:55:36, 15.62s/it]"
     ]
    },
    {
     "name": "stdout",
     "output_type": "stream",
     "text": [
      "16-30-1920x1080 16000 (5474, 768) (9122, 768)\n"
     ]
    },
    {
     "name": "stderr",
     "output_type": "stream",
     "text": [
      "\r",
      " 19%|█▉        | 105/548 [41:10<1:22:42, 11.20s/it]"
     ]
    },
    {
     "name": "stdout",
     "output_type": "stream",
     "text": [
      "160 16000 (838, 768) (1398, 768)\n"
     ]
    },
    {
     "name": "stderr",
     "output_type": "stream",
     "text": [
      "\r",
      " 19%|█▉        | 106/548 [41:18<1:15:28, 10.25s/it]"
     ]
    },
    {
     "name": "stdout",
     "output_type": "stream",
     "text": [
      "161 16000 (1729, 768) (6283, 768)\n"
     ]
    },
    {
     "name": "stderr",
     "output_type": "stream",
     "text": [
      "\r",
      " 20%|█▉        | 107/548 [41:47<1:56:33, 15.86s/it]"
     ]
    },
    {
     "name": "stdout",
     "output_type": "stream",
     "text": [
      "162 16000 (7935, 768) (13223, 768)\n"
     ]
    },
    {
     "name": "stderr",
     "output_type": "stream",
     "text": [
      "\r",
      " 20%|█▉        | 108/548 [41:56<1:41:04, 13.78s/it]"
     ]
    },
    {
     "name": "stdout",
     "output_type": "stream",
     "text": [
      "163 16000 (3938, 768) (6561, 768)\n"
     ]
    },
    {
     "name": "stderr",
     "output_type": "stream",
     "text": [
      "\r",
      " 20%|█▉        | 109/548 [42:20<2:05:01, 17.09s/it]"
     ]
    },
    {
     "name": "stdout",
     "output_type": "stream",
     "text": [
      "164 16000 (7044, 768) (11749, 768)\n"
     ]
    },
    {
     "name": "stderr",
     "output_type": "stream",
     "text": [
      "\r",
      " 20%|██        | 110/548 [42:31<1:51:23, 15.26s/it]"
     ]
    },
    {
     "name": "stdout",
     "output_type": "stream",
     "text": [
      "165 16000 (4568, 768) (7611, 768)\n"
     ]
    },
    {
     "name": "stderr",
     "output_type": "stream",
     "text": [
      "\r",
      " 20%|██        | 111/548 [42:43<1:42:11, 14.03s/it]"
     ]
    },
    {
     "name": "stdout",
     "output_type": "stream",
     "text": [
      "166 16000 (4515, 768) (7530, 768)\n"
     ]
    },
    {
     "name": "stderr",
     "output_type": "stream",
     "text": [
      "\r",
      " 20%|██        | 112/548 [43:01<1:50:38, 15.23s/it]"
     ]
    },
    {
     "name": "stdout",
     "output_type": "stream",
     "text": [
      "167 16000 (4718, 768) (9826, 768)\n"
     ]
    },
    {
     "name": "stderr",
     "output_type": "stream",
     "text": [
      "\r",
      " 21%|██        | 113/548 [43:06<1:29:49, 12.39s/it]"
     ]
    },
    {
     "name": "stdout",
     "output_type": "stream",
     "text": [
      "168 16000 (2979, 768) (4963, 768)\n"
     ]
    },
    {
     "name": "stderr",
     "output_type": "stream",
     "text": [
      "\r",
      " 21%|██        | 114/548 [43:11<1:13:49, 10.21s/it]"
     ]
    },
    {
     "name": "stdout",
     "output_type": "stream",
     "text": [
      "169 16000 (2863, 768) (4774, 768)\n"
     ]
    },
    {
     "name": "stderr",
     "output_type": "stream",
     "text": [
      "\r",
      " 21%|██        | 115/548 [43:29<1:28:56, 12.32s/it]"
     ]
    },
    {
     "name": "stdout",
     "output_type": "stream",
     "text": [
      "17-24-1920x1080 16000 (5788, 768) (9645, 768)\n"
     ]
    },
    {
     "name": "stderr",
     "output_type": "stream",
     "text": [
      "\r",
      " 21%|██        | 116/548 [43:38<1:22:03, 11.40s/it]"
     ]
    },
    {
     "name": "stdout",
     "output_type": "stream",
     "text": [
      "171 16000 (3977, 768) (6626, 768)\n"
     ]
    },
    {
     "name": "stderr",
     "output_type": "stream",
     "text": [
      "\r",
      " 21%|██▏       | 117/548 [44:40<3:11:02, 26.59s/it]"
     ]
    },
    {
     "name": "stdout",
     "output_type": "stream",
     "text": [
      "172 16000 (11645, 768) (19424, 768)\n"
     ]
    },
    {
     "name": "stderr",
     "output_type": "stream",
     "text": [
      "\r",
      " 22%|██▏       | 118/548 [44:46<2:26:34, 20.45s/it]"
     ]
    },
    {
     "name": "stdout",
     "output_type": "stream",
     "text": [
      "175 16000 (2503, 768) (5212, 768)\n"
     ]
    },
    {
     "name": "stderr",
     "output_type": "stream",
     "text": [
      "\r",
      " 22%|██▏       | 119/548 [45:07<2:26:44, 20.52s/it]"
     ]
    },
    {
     "name": "stdout",
     "output_type": "stream",
     "text": [
      "176 16000 (6416, 768) (10691, 768)\n"
     ]
    },
    {
     "name": "stderr",
     "output_type": "stream",
     "text": [
      "\r",
      " 22%|██▏       | 120/548 [45:13<1:55:18, 16.16s/it]"
     ]
    },
    {
     "name": "stdout",
     "output_type": "stream",
     "text": [
      "177 16000 (3127, 768) (5214, 768)\n"
     ]
    },
    {
     "name": "stderr",
     "output_type": "stream",
     "text": [
      "\r",
      " 22%|██▏       | 121/548 [45:31<1:58:39, 16.67s/it]"
     ]
    },
    {
     "name": "stdout",
     "output_type": "stream",
     "text": [
      "178 16000 (5841, 768) (9733, 768)\n"
     ]
    },
    {
     "name": "stderr",
     "output_type": "stream",
     "text": [
      "\r",
      " 22%|██▏       | 122/548 [45:42<1:46:38, 15.02s/it]"
     ]
    },
    {
     "name": "stdout",
     "output_type": "stream",
     "text": [
      "179 16000 (4451, 768) (7416, 768)\n"
     ]
    },
    {
     "name": "stderr",
     "output_type": "stream",
     "text": [
      "\r",
      " 22%|██▏       | 123/548 [45:55<1:41:27, 14.32s/it]"
     ]
    },
    {
     "name": "stdout",
     "output_type": "stream",
     "text": [
      "18-24-1920x1080 16000 (4831, 768) (8049, 768)\n"
     ]
    },
    {
     "name": "stderr",
     "output_type": "stream",
     "text": [
      "\r",
      " 23%|██▎       | 124/548 [46:12<1:48:18, 15.33s/it]"
     ]
    },
    {
     "name": "stdout",
     "output_type": "stream",
     "text": [
      "181 16000 (5862, 768) (9768, 768)\n"
     ]
    },
    {
     "name": "stderr",
     "output_type": "stream",
     "text": [
      "\r",
      " 23%|██▎       | 125/548 [46:23<1:37:44, 13.86s/it]"
     ]
    },
    {
     "name": "stdout",
     "output_type": "stream",
     "text": [
      "182 16000 (4356, 768) (7265, 768)\n"
     ]
    },
    {
     "name": "stderr",
     "output_type": "stream",
     "text": [
      "\r",
      " 23%|██▎       | 126/548 [46:28<1:18:45, 11.20s/it]"
     ]
    },
    {
     "name": "stdout",
     "output_type": "stream",
     "text": [
      "183 16000 (2770, 768) (4614, 768)\n"
     ]
    },
    {
     "name": "stderr",
     "output_type": "stream",
     "text": [
      "\r",
      " 23%|██▎       | 127/548 [46:36<1:12:15, 10.30s/it]"
     ]
    },
    {
     "name": "stdout",
     "output_type": "stream",
     "text": [
      "184 16000 (3791, 768) (6322, 768)\n"
     ]
    },
    {
     "name": "stderr",
     "output_type": "stream",
     "text": [
      "\r",
      " 23%|██▎       | 128/548 [46:45<1:10:02, 10.01s/it]"
     ]
    },
    {
     "name": "stdout",
     "output_type": "stream",
     "text": [
      "185 16000 (4053, 768) (6759, 768)\n"
     ]
    },
    {
     "name": "stderr",
     "output_type": "stream",
     "text": [
      "\r",
      " 24%|██▎       | 129/548 [46:59<1:18:41, 11.27s/it]"
     ]
    },
    {
     "name": "stdout",
     "output_type": "stream",
     "text": [
      "186 16000 (4166, 768) (8676, 768)\n"
     ]
    },
    {
     "name": "stderr",
     "output_type": "stream",
     "text": [
      "\r",
      " 24%|██▎       | 130/548 [47:10<1:17:33, 11.13s/it]"
     ]
    },
    {
     "name": "stdout",
     "output_type": "stream",
     "text": [
      "187 16000 (4405, 768) (7339, 768)\n"
     ]
    },
    {
     "name": "stderr",
     "output_type": "stream",
     "text": [
      "\r",
      " 24%|██▍       | 131/548 [47:29<1:34:03, 13.53s/it]"
     ]
    },
    {
     "name": "stdout",
     "output_type": "stream",
     "text": [
      "188 16000 (5987, 768) (9986, 768)\n"
     ]
    },
    {
     "name": "stderr",
     "output_type": "stream",
     "text": [
      "\r",
      " 24%|██▍       | 132/548 [47:38<1:23:11, 12.00s/it]"
     ]
    },
    {
     "name": "stdout",
     "output_type": "stream",
     "text": [
      "189 16000 (3855, 768) (6429, 768)\n"
     ]
    },
    {
     "name": "stderr",
     "output_type": "stream",
     "text": [
      "\r",
      " 24%|██▍       | 133/548 [48:01<1:47:22, 15.52s/it]"
     ]
    },
    {
     "name": "stdout",
     "output_type": "stream",
     "text": [
      "19-24-1920x1080 16000 (6634, 768) (11050, 768)\n"
     ]
    },
    {
     "name": "stderr",
     "output_type": "stream",
     "text": [
      "\r",
      " 24%|██▍       | 134/548 [48:16<1:45:21, 15.27s/it]"
     ]
    },
    {
     "name": "stdout",
     "output_type": "stream",
     "text": [
      "190 16000 (5427, 768) (9052, 768)\n"
     ]
    },
    {
     "name": "stderr",
     "output_type": "stream",
     "text": [
      "\r",
      " 25%|██▍       | 135/548 [48:31<1:43:17, 15.01s/it]"
     ]
    },
    {
     "name": "stdout",
     "output_type": "stream",
     "text": [
      "191 16000 (5249, 768) (8755, 768)\n"
     ]
    },
    {
     "name": "stderr",
     "output_type": "stream",
     "text": [
      "\r",
      " 25%|██▍       | 136/548 [48:42<1:34:58, 13.83s/it]"
     ]
    },
    {
     "name": "stdout",
     "output_type": "stream",
     "text": [
      "192 16000 (3599, 768) (7195, 768)\n"
     ]
    },
    {
     "name": "stderr",
     "output_type": "stream",
     "text": [
      "\r",
      " 25%|██▌       | 137/548 [48:51<1:25:28, 12.48s/it]"
     ]
    },
    {
     "name": "stdout",
     "output_type": "stream",
     "text": [
      "193 16000 (3984, 768) (6644, 768)\n"
     ]
    },
    {
     "name": "stderr",
     "output_type": "stream",
     "text": [
      "\r",
      " 25%|██▌       | 138/548 [49:03<1:23:47, 12.26s/it]"
     ]
    },
    {
     "name": "stdout",
     "output_type": "stream",
     "text": [
      "194 16000 (4537, 768) (7567, 768)\n"
     ]
    },
    {
     "name": "stderr",
     "output_type": "stream",
     "text": [
      "\r",
      " 25%|██▌       | 139/548 [49:22<1:38:09, 14.40s/it]"
     ]
    },
    {
     "name": "stdout",
     "output_type": "stream",
     "text": [
      "195 16000 (6118, 768) (10204, 768)\n"
     ]
    },
    {
     "name": "stderr",
     "output_type": "stream",
     "text": [
      "\r",
      " 26%|██▌       | 140/548 [49:37<1:38:44, 14.52s/it]"
     ]
    },
    {
     "name": "stdout",
     "output_type": "stream",
     "text": [
      "196 16000 (5454, 768) (9097, 768)\n"
     ]
    },
    {
     "name": "stderr",
     "output_type": "stream",
     "text": [
      "\r",
      " 26%|██▌       | 141/548 [49:40<1:15:19, 11.10s/it]"
     ]
    },
    {
     "name": "stdout",
     "output_type": "stream",
     "text": [
      "197 16000 (1870, 768) (3114, 768)\n"
     ]
    },
    {
     "name": "stderr",
     "output_type": "stream",
     "text": [
      "\r",
      " 26%|██▌       | 142/548 [49:46<1:03:43,  9.42s/it]"
     ]
    },
    {
     "name": "stdout",
     "output_type": "stream",
     "text": [
      "198 16000 (2285, 768) (4762, 768)\n"
     ]
    },
    {
     "name": "stderr",
     "output_type": "stream",
     "text": [
      "\r",
      " 26%|██▌       | 143/548 [49:54<1:00:46,  9.00s/it]"
     ]
    },
    {
     "name": "stdout",
     "output_type": "stream",
     "text": [
      "199 16000 (2918, 768) (6072, 768)\n"
     ]
    },
    {
     "name": "stderr",
     "output_type": "stream",
     "text": [
      "\r",
      " 26%|██▋       | 144/548 [51:23<3:43:01, 33.12s/it]"
     ]
    },
    {
     "name": "stdout",
     "output_type": "stream",
     "text": [
      "2-30-640x360 16000 (19353, 768) (32250, 768)\n"
     ]
    },
    {
     "name": "stderr",
     "output_type": "stream",
     "text": [
      "\r",
      " 26%|██▋       | 145/548 [51:38<3:05:26, 27.61s/it]"
     ]
    },
    {
     "name": "stdout",
     "output_type": "stream",
     "text": [
      "20-24-1920x1080 16000 (5275, 768) (8790, 768)\n"
     ]
    },
    {
     "name": "stderr",
     "output_type": "stream",
     "text": [
      "\r",
      " 27%|██▋       | 146/548 [51:51<2:35:24, 23.19s/it]"
     ]
    },
    {
     "name": "stdout",
     "output_type": "stream",
     "text": [
      "200 16000 (5040, 768) (8406, 768)\n"
     ]
    },
    {
     "name": "stderr",
     "output_type": "stream",
     "text": [
      "\r",
      " 27%|██▋       | 147/548 [51:54<1:55:11, 17.24s/it]"
     ]
    },
    {
     "name": "stdout",
     "output_type": "stream",
     "text": [
      "201 16000 (1361, 768) (3579, 768)\n"
     ]
    },
    {
     "name": "stderr",
     "output_type": "stream",
     "text": [
      "\r",
      " 27%|██▋       | 148/548 [51:56<1:24:03, 12.61s/it]"
     ]
    },
    {
     "name": "stdout",
     "output_type": "stream",
     "text": [
      "202 16000 (941, 768) (2408, 768)\n"
     ]
    },
    {
     "name": "stderr",
     "output_type": "stream",
     "text": [
      "\r",
      " 27%|██▋       | 149/548 [52:09<1:25:46, 12.90s/it]"
     ]
    },
    {
     "name": "stdout",
     "output_type": "stream",
     "text": [
      "203 16000 (3965, 768) (8267, 768)\n"
     ]
    },
    {
     "name": "stderr",
     "output_type": "stream",
     "text": [
      "\r",
      " 27%|██▋       | 150/548 [52:28<1:37:43, 14.73s/it]"
     ]
    },
    {
     "name": "stdout",
     "output_type": "stream",
     "text": [
      "204 16000 (5926, 768) (9875, 768)\n"
     ]
    },
    {
     "name": "stderr",
     "output_type": "stream",
     "text": [
      "\r",
      " 28%|██▊       | 151/548 [52:39<1:29:25, 13.52s/it]"
     ]
    },
    {
     "name": "stdout",
     "output_type": "stream",
     "text": [
      "206 16000 (4477, 768) (7460, 768)\n"
     ]
    },
    {
     "name": "stderr",
     "output_type": "stream",
     "text": [
      "\r",
      " 28%|██▊       | 152/548 [52:49<1:21:17, 12.32s/it]"
     ]
    },
    {
     "name": "stdout",
     "output_type": "stream",
     "text": [
      "207 16000 (3039, 768) (6934, 768)\n"
     ]
    },
    {
     "name": "stderr",
     "output_type": "stream",
     "text": [
      "\r",
      " 28%|██▊       | 153/548 [53:04<1:26:57, 13.21s/it]"
     ]
    },
    {
     "name": "stdout",
     "output_type": "stream",
     "text": [
      "208 16000 (5160, 768) (8666, 768)\n"
     ]
    },
    {
     "name": "stderr",
     "output_type": "stream",
     "text": [
      "\r",
      " 28%|██▊       | 154/548 [53:12<1:16:37, 11.67s/it]"
     ]
    },
    {
     "name": "stdout",
     "output_type": "stream",
     "text": [
      "209 16000 (2857, 768) (5949, 768)\n"
     ]
    },
    {
     "name": "stderr",
     "output_type": "stream",
     "text": [
      "\r",
      " 28%|██▊       | 155/548 [53:27<1:22:20, 12.57s/it]"
     ]
    },
    {
     "name": "stdout",
     "output_type": "stream",
     "text": [
      "21-24-1920x1080 16000 (5231, 768) (8717, 768)\n"
     ]
    },
    {
     "name": "stderr",
     "output_type": "stream",
     "text": [
      "\r",
      " 28%|██▊       | 156/548 [53:38<1:20:29, 12.32s/it]"
     ]
    },
    {
     "name": "stdout",
     "output_type": "stream",
     "text": [
      "210 16000 (3239, 768) (7682, 768)\n"
     ]
    },
    {
     "name": "stderr",
     "output_type": "stream",
     "text": [
      "\r",
      " 29%|██▊       | 157/548 [53:44<1:07:52, 10.41s/it]"
     ]
    },
    {
     "name": "stdout",
     "output_type": "stream",
     "text": [
      "211 16000 (2163, 768) (4506, 768)\n"
     ]
    },
    {
     "name": "stderr",
     "output_type": "stream",
     "text": [
      "\r",
      " 29%|██▉       | 158/548 [53:55<1:09:08, 10.64s/it]"
     ]
    },
    {
     "name": "stdout",
     "output_type": "stream",
     "text": [
      "212 16000 (4563, 768) (7608, 768)\n"
     ]
    },
    {
     "name": "stderr",
     "output_type": "stream",
     "text": [
      "\r",
      " 29%|██▉       | 159/548 [54:18<1:32:36, 14.28s/it]"
     ]
    },
    {
     "name": "stdout",
     "output_type": "stream",
     "text": [
      "213 16000 (6398, 768) (10660, 768)\n"
     ]
    },
    {
     "name": "stderr",
     "output_type": "stream",
     "text": [
      "\r",
      " 29%|██▉       | 160/548 [54:24<1:16:08, 11.78s/it]"
     ]
    },
    {
     "name": "stdout",
     "output_type": "stream",
     "text": [
      "214 16000 (2556, 768) (5108, 768)\n"
     ]
    },
    {
     "name": "stderr",
     "output_type": "stream",
     "text": [
      "\r",
      " 29%|██▉       | 161/548 [54:32<1:08:05, 10.56s/it]"
     ]
    },
    {
     "name": "stdout",
     "output_type": "stream",
     "text": [
      "215 16000 (3410, 768) (5685, 768)\n"
     ]
    },
    {
     "name": "stderr",
     "output_type": "stream",
     "text": [
      "\r",
      " 30%|██▉       | 162/548 [54:32<48:27,  7.53s/it]  "
     ]
    },
    {
     "name": "stdout",
     "output_type": "stream",
     "text": [
      "216 16000 (458, 768) (950, 768)\n"
     ]
    },
    {
     "name": "stderr",
     "output_type": "stream",
     "text": [
      "\r",
      " 30%|██▉       | 163/548 [54:41<50:05,  7.81s/it]"
     ]
    },
    {
     "name": "stdout",
     "output_type": "stream",
     "text": [
      "218 16000 (3850, 768) (6421, 768)\n"
     ]
    },
    {
     "name": "stderr",
     "output_type": "stream",
     "text": [
      "\r",
      " 30%|██▉       | 164/548 [54:49<51:31,  8.05s/it]"
     ]
    },
    {
     "name": "stdout",
     "output_type": "stream",
     "text": [
      "219 16000 (3892, 768) (6489, 768)\n"
     ]
    },
    {
     "name": "stderr",
     "output_type": "stream",
     "text": [
      "\r",
      " 30%|███       | 165/548 [55:05<1:05:41, 10.29s/it]"
     ]
    },
    {
     "name": "stdout",
     "output_type": "stream",
     "text": [
      "22-30-1920x1080 16000 (5336, 768) (8892, 768)\n"
     ]
    },
    {
     "name": "stderr",
     "output_type": "stream",
     "text": [
      "\r",
      " 30%|███       | 166/548 [55:18<1:10:56, 11.14s/it]"
     ]
    },
    {
     "name": "stdout",
     "output_type": "stream",
     "text": [
      "220 16000 (5026, 768) (8383, 768)\n"
     ]
    },
    {
     "name": "stderr",
     "output_type": "stream",
     "text": [
      "\r",
      " 30%|███       | 167/548 [55:33<1:17:27, 12.20s/it]"
     ]
    },
    {
     "name": "stdout",
     "output_type": "stream",
     "text": [
      "221 16000 (5125, 768) (8685, 768)\n"
     ]
    },
    {
     "name": "stderr",
     "output_type": "stream",
     "text": [
      "\r",
      " 31%|███       | 168/548 [55:47<1:21:34, 12.88s/it]"
     ]
    },
    {
     "name": "stdout",
     "output_type": "stream",
     "text": [
      "223 16000 (2798, 768) (8740, 768)\n"
     ]
    },
    {
     "name": "stderr",
     "output_type": "stream",
     "text": [
      "\r",
      " 31%|███       | 169/548 [55:53<1:07:21, 10.66s/it]"
     ]
    },
    {
     "name": "stdout",
     "output_type": "stream",
     "text": [
      "224 16000 (2234, 768) (4798, 768)\n"
     ]
    },
    {
     "name": "stderr",
     "output_type": "stream",
     "text": [
      "\r",
      " 31%|███       | 170/548 [55:55<50:44,  8.05s/it]  "
     ]
    },
    {
     "name": "stdout",
     "output_type": "stream",
     "text": [
      "225 16000 (1463, 768) (2436, 768)\n"
     ]
    },
    {
     "name": "stderr",
     "output_type": "stream",
     "text": [
      "\r",
      " 31%|███       | 171/548 [56:04<53:49,  8.57s/it]"
     ]
    },
    {
     "name": "stdout",
     "output_type": "stream",
     "text": [
      "226 16000 (4097, 768) (6826, 768)\n"
     ]
    },
    {
     "name": "stderr",
     "output_type": "stream",
     "text": [
      "\r",
      " 31%|███▏      | 172/548 [56:16<58:28,  9.33s/it]"
     ]
    },
    {
     "name": "stdout",
     "output_type": "stream",
     "text": [
      "227 16000 (4418, 768) (7506, 768)\n"
     ]
    },
    {
     "name": "stderr",
     "output_type": "stream",
     "text": [
      "\r",
      " 32%|███▏      | 173/548 [56:20<50:06,  8.02s/it]"
     ]
    },
    {
     "name": "stdout",
     "output_type": "stream",
     "text": [
      "228 16000 (2156, 768) (4490, 768)\n"
     ]
    },
    {
     "name": "stderr",
     "output_type": "stream",
     "text": [
      "\r",
      " 32%|███▏      | 174/548 [56:32<57:01,  9.15s/it]"
     ]
    },
    {
     "name": "stdout",
     "output_type": "stream",
     "text": [
      "229 16000 (3563, 768) (7906, 768)\n"
     ]
    },
    {
     "name": "stderr",
     "output_type": "stream",
     "text": [
      "\r",
      " 32%|███▏      | 175/548 [56:47<1:08:08, 10.96s/it]"
     ]
    },
    {
     "name": "stdout",
     "output_type": "stream",
     "text": [
      "23-24-1920x1080 16000 (5412, 768) (9019, 768)\n"
     ]
    },
    {
     "name": "stderr",
     "output_type": "stream",
     "text": [
      "\r",
      " 32%|███▏      | 176/548 [57:01<1:13:30, 11.86s/it]"
     ]
    },
    {
     "name": "stdout",
     "output_type": "stream",
     "text": [
      "230 16000 (3971, 768) (8681, 768)\n"
     ]
    },
    {
     "name": "stderr",
     "output_type": "stream",
     "text": [
      "\r",
      " 32%|███▏      | 177/548 [57:12<1:11:41, 11.60s/it]"
     ]
    },
    {
     "name": "stdout",
     "output_type": "stream",
     "text": [
      "231 16000 (4208, 768) (7432, 768)\n"
     ]
    },
    {
     "name": "stderr",
     "output_type": "stream",
     "text": [
      "\r",
      " 32%|███▏      | 178/548 [57:18<1:00:42,  9.84s/it]"
     ]
    },
    {
     "name": "stdout",
     "output_type": "stream",
     "text": [
      "232 16000 (2373, 768) (5004, 768)\n"
     ]
    },
    {
     "name": "stderr",
     "output_type": "stream",
     "text": [
      "\r",
      " 33%|███▎      | 179/548 [57:30<1:04:05, 10.42s/it]"
     ]
    },
    {
     "name": "stdout",
     "output_type": "stream",
     "text": [
      "233 16000 (4480, 768) (7473, 768)\n"
     ]
    },
    {
     "name": "stderr",
     "output_type": "stream",
     "text": [
      "\r",
      " 33%|███▎      | 180/548 [57:37<57:40,  9.40s/it]  "
     ]
    },
    {
     "name": "stdout",
     "output_type": "stream",
     "text": [
      "234 16000 (2920, 768) (5584, 768)\n"
     ]
    },
    {
     "name": "stderr",
     "output_type": "stream",
     "text": [
      "\r",
      " 33%|███▎      | 181/548 [57:48<59:50,  9.78s/it]"
     ]
    },
    {
     "name": "stdout",
     "output_type": "stream",
     "text": [
      "235 16000 (3683, 768) (7181, 768)\n"
     ]
    },
    {
     "name": "stderr",
     "output_type": "stream",
     "text": [
      "\r",
      " 33%|███▎      | 182/548 [58:01<1:06:42, 10.94s/it]"
     ]
    },
    {
     "name": "stdout",
     "output_type": "stream",
     "text": [
      "236 16000 (3674, 768) (8476, 768)\n"
     ]
    },
    {
     "name": "stderr",
     "output_type": "stream",
     "text": [
      "\r",
      " 33%|███▎      | 183/548 [58:21<1:22:06, 13.50s/it]"
     ]
    },
    {
     "name": "stdout",
     "output_type": "stream",
     "text": [
      "237 16000 (5435, 768) (9674, 768)\n"
     ]
    },
    {
     "name": "stderr",
     "output_type": "stream",
     "text": [
      "\r",
      " 34%|███▎      | 184/548 [58:29<1:11:44, 11.82s/it]"
     ]
    },
    {
     "name": "stdout",
     "output_type": "stream",
     "text": [
      "238 16000 (3013, 768) (6229, 768)\n"
     ]
    },
    {
     "name": "stderr",
     "output_type": "stream",
     "text": [
      "\r",
      " 34%|███▍      | 185/548 [58:33<57:16,  9.47s/it]  "
     ]
    },
    {
     "name": "stdout",
     "output_type": "stream",
     "text": [
      "239 16000 (1965, 768) (4014, 768)\n"
     ]
    },
    {
     "name": "stderr",
     "output_type": "stream",
     "text": [
      "\r",
      " 34%|███▍      | 186/548 [58:36<45:17,  7.51s/it]"
     ]
    },
    {
     "name": "stdout",
     "output_type": "stream",
     "text": [
      "24-30-1920x1080-1 16000 (1913, 768) (3186, 768)\n"
     ]
    },
    {
     "name": "stderr",
     "output_type": "stream",
     "text": [
      "\r",
      " 34%|███▍      | 187/548 [58:46<49:48,  8.28s/it]"
     ]
    },
    {
     "name": "stdout",
     "output_type": "stream",
     "text": [
      "24-30-1920x1080-2 16000 (4173, 768) (6954, 768)\n"
     ]
    },
    {
     "name": "stderr",
     "output_type": "stream",
     "text": [
      "\r",
      " 34%|███▍      | 188/548 [59:09<1:17:28, 12.91s/it]"
     ]
    },
    {
     "name": "stdout",
     "output_type": "stream",
     "text": [
      "240 16000 (6792, 768) (11318, 768)\n"
     ]
    },
    {
     "name": "stderr",
     "output_type": "stream",
     "text": [
      "\r",
      " 34%|███▍      | 189/548 [59:20<1:13:33, 12.29s/it]"
     ]
    },
    {
     "name": "stdout",
     "output_type": "stream",
     "text": [
      "241 16000 (3513, 768) (6714, 768)\n"
     ]
    },
    {
     "name": "stderr",
     "output_type": "stream",
     "text": [
      "\r",
      " 35%|███▍      | 190/548 [59:48<1:41:19, 16.98s/it]"
     ]
    },
    {
     "name": "stdout",
     "output_type": "stream",
     "text": [
      "242 16000 (7011, 768) (11695, 768)\n"
     ]
    },
    {
     "name": "stderr",
     "output_type": "stream",
     "text": [
      "\r",
      " 35%|███▍      | 191/548 [59:59<1:30:07, 15.15s/it]"
     ]
    },
    {
     "name": "stdout",
     "output_type": "stream",
     "text": [
      "243 16000 (4121, 768) (7509, 768)\n"
     ]
    },
    {
     "name": "stderr",
     "output_type": "stream",
     "text": [
      "\r",
      " 35%|███▌      | 192/548 [1:00:04<1:12:26, 12.21s/it]"
     ]
    },
    {
     "name": "stdout",
     "output_type": "stream",
     "text": [
      "244 16000 (2322, 768) (4841, 768)\n"
     ]
    },
    {
     "name": "stderr",
     "output_type": "stream",
     "text": [
      "\r",
      " 35%|███▌      | 193/548 [1:00:09<58:21,  9.86s/it]  "
     ]
    },
    {
     "name": "stdout",
     "output_type": "stream",
     "text": [
      "245 16000 (2531, 768) (4216, 768)\n"
     ]
    },
    {
     "name": "stderr",
     "output_type": "stream",
     "text": [
      "\r",
      " 35%|███▌      | 194/548 [1:00:11<44:10,  7.49s/it]"
     ]
    },
    {
     "name": "stdout",
     "output_type": "stream",
     "text": [
      "246 16000 (1346, 768) (2473, 768)\n"
     ]
    },
    {
     "name": "stderr",
     "output_type": "stream",
     "text": [
      "\r",
      " 36%|███▌      | 195/548 [1:00:18<43:39,  7.42s/it]"
     ]
    },
    {
     "name": "stdout",
     "output_type": "stream",
     "text": [
      "247 16000 (2271, 768) (5837, 768)\n"
     ]
    },
    {
     "name": "stderr",
     "output_type": "stream",
     "text": [
      "\r",
      " 36%|███▌      | 196/548 [1:00:24<40:19,  6.87s/it]"
     ]
    },
    {
     "name": "stdout",
     "output_type": "stream",
     "text": [
      "248 16000 (2268, 768) (4809, 768)\n"
     ]
    },
    {
     "name": "stderr",
     "output_type": "stream",
     "text": [
      "\r",
      " 36%|███▌      | 197/548 [1:00:31<40:35,  6.94s/it]"
     ]
    },
    {
     "name": "stdout",
     "output_type": "stream",
     "text": [
      "249 16000 (2622, 768) (5724, 768)\n"
     ]
    },
    {
     "name": "stderr",
     "output_type": "stream",
     "text": [
      "\r",
      " 36%|███▌      | 198/548 [1:00:48<58:24, 10.01s/it]"
     ]
    },
    {
     "name": "stdout",
     "output_type": "stream",
     "text": [
      "25-25-600x480 16000 (5744, 768) (9574, 768)\n"
     ]
    },
    {
     "name": "stderr",
     "output_type": "stream",
     "text": [
      "\r",
      " 36%|███▋      | 199/548 [1:00:55<52:51,  9.09s/it]"
     ]
    },
    {
     "name": "stdout",
     "output_type": "stream",
     "text": [
      "250 16000 (2929, 768) (5716, 768)\n"
     ]
    },
    {
     "name": "stderr",
     "output_type": "stream",
     "text": [
      "\r",
      " 36%|███▋      | 200/548 [1:00:59<45:08,  7.78s/it]"
     ]
    },
    {
     "name": "stdout",
     "output_type": "stream",
     "text": [
      "251 16000 (2107, 768) (4440, 768)\n"
     ]
    },
    {
     "name": "stderr",
     "output_type": "stream",
     "text": [
      "\r",
      " 37%|███▋      | 201/548 [1:01:11<50:59,  8.82s/it]"
     ]
    },
    {
     "name": "stdout",
     "output_type": "stream",
     "text": [
      "252 16000 (2757, 768) (7560, 768)\n"
     ]
    },
    {
     "name": "stderr",
     "output_type": "stream",
     "text": [
      "\r",
      " 37%|███▋      | 202/548 [1:01:16<44:22,  7.69s/it]"
     ]
    },
    {
     "name": "stdout",
     "output_type": "stream",
     "text": [
      "253 16000 (2277, 768) (4771, 768)\n"
     ]
    },
    {
     "name": "stderr",
     "output_type": "stream",
     "text": [
      "\r",
      " 37%|███▋      | 203/548 [1:01:24<45:51,  7.97s/it]"
     ]
    },
    {
     "name": "stdout",
     "output_type": "stream",
     "text": [
      "254 16000 (3387, 768) (6367, 768)\n"
     ]
    },
    {
     "name": "stderr",
     "output_type": "stream",
     "text": [
      "\r",
      " 37%|███▋      | 204/548 [1:01:28<39:03,  6.81s/it]"
     ]
    },
    {
     "name": "stdout",
     "output_type": "stream",
     "text": [
      "255 16000 (1692, 768) (3861, 768)\n"
     ]
    },
    {
     "name": "stderr",
     "output_type": "stream",
     "text": [
      "\r",
      " 37%|███▋      | 205/548 [1:01:39<45:58,  8.04s/it]"
     ]
    },
    {
     "name": "stdout",
     "output_type": "stream",
     "text": [
      "256 16000 (3337, 768) (7098, 768)\n"
     ]
    },
    {
     "name": "stderr",
     "output_type": "stream",
     "text": [
      "\r",
      " 38%|███▊      | 206/548 [1:01:53<54:41,  9.60s/it]"
     ]
    },
    {
     "name": "stdout",
     "output_type": "stream",
     "text": [
      "257 16000 (4389, 768) (8529, 768)\n"
     ]
    },
    {
     "name": "stderr",
     "output_type": "stream",
     "text": [
      "\r",
      " 38%|███▊      | 207/548 [1:01:56<44:15,  7.79s/it]"
     ]
    },
    {
     "name": "stdout",
     "output_type": "stream",
     "text": [
      "258 16000 (1465, 768) (3495, 768)\n"
     ]
    },
    {
     "name": "stderr",
     "output_type": "stream",
     "text": [
      "\r",
      " 38%|███▊      | 208/548 [1:02:01<38:31,  6.80s/it]"
     ]
    },
    {
     "name": "stdout",
     "output_type": "stream",
     "text": [
      "259 16000 (2394, 768) (4312, 768)\n"
     ]
    },
    {
     "name": "stderr",
     "output_type": "stream",
     "text": [
      "\r",
      " 38%|███▊      | 209/548 [1:02:04<33:00,  5.84s/it]"
     ]
    },
    {
     "name": "stdout",
     "output_type": "stream",
     "text": [
      "26-60-1280x720 16000 (2066, 768) (3437, 768)\n"
     ]
    },
    {
     "name": "stderr",
     "output_type": "stream",
     "text": [
      "\r",
      " 38%|███▊      | 210/548 [1:02:09<31:49,  5.65s/it]"
     ]
    },
    {
     "name": "stdout",
     "output_type": "stream",
     "text": [
      "260 16000 (2405, 768) (4697, 768)\n"
     ]
    },
    {
     "name": "stderr",
     "output_type": "stream",
     "text": [
      "\r",
      " 39%|███▊      | 211/548 [1:02:16<33:16,  5.92s/it]"
     ]
    },
    {
     "name": "stdout",
     "output_type": "stream",
     "text": [
      "261 16000 (2867, 768) (5637, 768)\n"
     ]
    },
    {
     "name": "stderr",
     "output_type": "stream",
     "text": [
      "\r",
      " 39%|███▊      | 212/548 [1:02:28<43:57,  7.85s/it]"
     ]
    },
    {
     "name": "stdout",
     "output_type": "stream",
     "text": [
      "262 16000 (4754, 768) (8084, 768)\n"
     ]
    },
    {
     "name": "stderr",
     "output_type": "stream",
     "text": [
      "\r",
      " 39%|███▉      | 213/548 [1:02:41<51:27,  9.22s/it]"
     ]
    },
    {
     "name": "stdout",
     "output_type": "stream",
     "text": [
      "264 16000 (4745, 768) (8081, 768)\n"
     ]
    },
    {
     "name": "stderr",
     "output_type": "stream",
     "text": [
      "\r",
      " 39%|███▉      | 214/548 [1:03:04<1:15:07, 13.50s/it]"
     ]
    },
    {
     "name": "stdout",
     "output_type": "stream",
     "text": [
      "265 16000 (6720, 768) (11210, 768)\n"
     ]
    },
    {
     "name": "stderr",
     "output_type": "stream",
     "text": [
      "\r",
      " 39%|███▉      | 215/548 [1:03:13<1:07:13, 12.11s/it]"
     ]
    },
    {
     "name": "stdout",
     "output_type": "stream",
     "text": [
      "266 16000 (2466, 768) (6754, 768)\n"
     ]
    },
    {
     "name": "stderr",
     "output_type": "stream",
     "text": [
      "\r",
      " 39%|███▉      | 216/548 [1:03:25<1:06:18, 11.98s/it]"
     ]
    },
    {
     "name": "stdout",
     "output_type": "stream",
     "text": [
      "267 16000 (3842, 768) (7098, 768)\n"
     ]
    },
    {
     "name": "stderr",
     "output_type": "stream",
     "text": [
      "\r",
      " 40%|███▉      | 217/548 [1:03:35<1:02:37, 11.35s/it]"
     ]
    },
    {
     "name": "stdout",
     "output_type": "stream",
     "text": [
      "268 16000 (4367, 768) (7276, 768)\n"
     ]
    },
    {
     "name": "stderr",
     "output_type": "stream",
     "text": [
      "\r",
      " 40%|███▉      | 218/548 [1:03:49<1:06:27, 12.08s/it]"
     ]
    },
    {
     "name": "stdout",
     "output_type": "stream",
     "text": [
      "269 16000 (4698, 768) (8570, 768)\n"
     ]
    },
    {
     "name": "stderr",
     "output_type": "stream",
     "text": [
      "\r",
      " 40%|███▉      | 219/548 [1:03:54<56:07, 10.23s/it]  "
     ]
    },
    {
     "name": "stdout",
     "output_type": "stream",
     "text": [
      "27-60-1280x720 16000 (2933, 768) (4884, 768)\n"
     ]
    },
    {
     "name": "stderr",
     "output_type": "stream",
     "text": [
      "\r",
      " 40%|████      | 220/548 [1:04:03<53:43,  9.83s/it]"
     ]
    },
    {
     "name": "stdout",
     "output_type": "stream",
     "text": [
      "270 16000 (3938, 768) (6561, 768)\n"
     ]
    },
    {
     "name": "stderr",
     "output_type": "stream",
     "text": [
      "\r",
      " 40%|████      | 221/548 [1:04:09<47:00,  8.63s/it]"
     ]
    },
    {
     "name": "stdout",
     "output_type": "stream",
     "text": [
      "271 16000 (2224, 768) (4829, 768)\n"
     ]
    },
    {
     "name": "stderr",
     "output_type": "stream",
     "text": [
      "\r",
      " 41%|████      | 222/548 [1:04:16<43:43,  8.05s/it]"
     ]
    },
    {
     "name": "stdout",
     "output_type": "stream",
     "text": [
      "272 16000 (3334, 768) (5560, 768)\n"
     ]
    },
    {
     "name": "stderr",
     "output_type": "stream",
     "text": [
      "\r",
      " 41%|████      | 223/548 [1:04:27<49:08,  9.07s/it]"
     ]
    },
    {
     "name": "stdout",
     "output_type": "stream",
     "text": [
      "273 16000 (4620, 768) (7706, 768)\n"
     ]
    },
    {
     "name": "stderr",
     "output_type": "stream",
     "text": [
      "\r",
      " 41%|████      | 224/548 [1:04:37<49:58,  9.26s/it]"
     ]
    },
    {
     "name": "stdout",
     "output_type": "stream",
     "text": [
      "274 16000 (3527, 768) (6928, 768)\n"
     ]
    },
    {
     "name": "stderr",
     "output_type": "stream",
     "text": [
      "\r",
      " 41%|████      | 225/548 [1:04:42<43:07,  8.01s/it]"
     ]
    },
    {
     "name": "stdout",
     "output_type": "stream",
     "text": [
      "275 16000 (2448, 768) (4712, 768)\n"
     ]
    },
    {
     "name": "stderr",
     "output_type": "stream",
     "text": [
      "\r",
      " 41%|████      | 226/548 [1:04:45<35:04,  6.54s/it]"
     ]
    },
    {
     "name": "stdout",
     "output_type": "stream",
     "text": [
      "276 16000 (1584, 768) (3486, 768)\n"
     ]
    },
    {
     "name": "stderr",
     "output_type": "stream",
     "text": [
      "\r",
      " 41%|████▏     | 227/548 [1:05:01<50:33,  9.45s/it]"
     ]
    },
    {
     "name": "stdout",
     "output_type": "stream",
     "text": [
      "277 16000 (5172, 768) (9079, 768)\n"
     ]
    },
    {
     "name": "stderr",
     "output_type": "stream",
     "text": [
      "\r",
      " 42%|████▏     | 228/548 [1:05:17<59:40, 11.19s/it]"
     ]
    },
    {
     "name": "stdout",
     "output_type": "stream",
     "text": [
      "278 16000 (4287, 768) (8938, 768)\n"
     ]
    },
    {
     "name": "stderr",
     "output_type": "stream",
     "text": [
      "\r",
      " 42%|████▏     | 229/548 [1:05:24<52:51,  9.94s/it]"
     ]
    },
    {
     "name": "stdout",
     "output_type": "stream",
     "text": [
      "279 16000 (2213, 768) (5423, 768)\n"
     ]
    },
    {
     "name": "stderr",
     "output_type": "stream",
     "text": [
      "\r",
      " 42%|████▏     | 230/548 [1:05:24<37:25,  7.06s/it]"
     ]
    },
    {
     "name": "stdout",
     "output_type": "stream",
     "text": [
      "28-30-1280x720-1 16000 (263, 768) (437, 768)\n"
     ]
    },
    {
     "name": "stderr",
     "output_type": "stream",
     "text": [
      "\r",
      " 42%|████▏     | 231/548 [1:05:24<26:44,  5.06s/it]"
     ]
    },
    {
     "name": "stdout",
     "output_type": "stream",
     "text": [
      "28-30-1280x720-2 16000 (397, 768) (661, 768)\n"
     ]
    },
    {
     "name": "stderr",
     "output_type": "stream",
     "text": [
      "\r",
      " 42%|████▏     | 232/548 [1:05:25<19:02,  3.62s/it]"
     ]
    },
    {
     "name": "stdout",
     "output_type": "stream",
     "text": [
      "28-30-1280x720-3 16000 (277, 768) (460, 768)\n"
     ]
    },
    {
     "name": "stderr",
     "output_type": "stream",
     "text": [
      "\r",
      " 43%|████▎     | 233/548 [1:05:25<13:44,  2.62s/it]"
     ]
    },
    {
     "name": "stdout",
     "output_type": "stream",
     "text": [
      "28-30-1280x720-4 16000 (277, 768) (460, 768)\n"
     ]
    },
    {
     "name": "stderr",
     "output_type": "stream",
     "text": [
      "\r",
      " 43%|████▎     | 234/548 [1:05:42<35:48,  6.84s/it]"
     ]
    },
    {
     "name": "stdout",
     "output_type": "stream",
     "text": [
      "280 16000 (3946, 768) (9705, 768)\n"
     ]
    },
    {
     "name": "stderr",
     "output_type": "stream",
     "text": [
      "\r",
      " 43%|████▎     | 235/548 [1:06:05<1:01:08, 11.72s/it]"
     ]
    },
    {
     "name": "stdout",
     "output_type": "stream",
     "text": [
      "281 16000 (7012, 768) (11685, 768)\n"
     ]
    },
    {
     "name": "stderr",
     "output_type": "stream",
     "text": [
      "\r",
      " 43%|████▎     | 236/548 [1:06:13<54:46, 10.53s/it]  "
     ]
    },
    {
     "name": "stdout",
     "output_type": "stream",
     "text": [
      "282 16000 (3615, 768) (6029, 768)\n"
     ]
    },
    {
     "name": "stderr",
     "output_type": "stream",
     "text": [
      "\r",
      " 43%|████▎     | 237/548 [1:06:25<57:15, 11.05s/it]"
     ]
    },
    {
     "name": "stdout",
     "output_type": "stream",
     "text": [
      "283 16000 (4769, 768) (7954, 768)\n"
     ]
    },
    {
     "name": "stderr",
     "output_type": "stream",
     "text": [
      "\r",
      " 43%|████▎     | 238/548 [1:06:39<1:02:32, 12.11s/it]"
     ]
    },
    {
     "name": "stdout",
     "output_type": "stream",
     "text": [
      "284 16000 (4055, 768) (8707, 768)\n"
     ]
    },
    {
     "name": "stderr",
     "output_type": "stream",
     "text": [
      "\r",
      " 44%|████▎     | 239/548 [1:06:48<57:29, 11.16s/it]  "
     ]
    },
    {
     "name": "stdout",
     "output_type": "stream",
     "text": [
      "285 16000 (2989, 768) (6653, 768)\n"
     ]
    },
    {
     "name": "stderr",
     "output_type": "stream",
     "text": [
      "\r",
      " 44%|████▍     | 240/548 [1:06:56<51:20, 10.00s/it]"
     ]
    },
    {
     "name": "stdout",
     "output_type": "stream",
     "text": [
      "286 16000 (2678, 768) (5932, 768)\n"
     ]
    },
    {
     "name": "stderr",
     "output_type": "stream",
     "text": [
      "\r",
      " 44%|████▍     | 241/548 [1:06:59<40:50,  7.98s/it]"
     ]
    },
    {
     "name": "stdout",
     "output_type": "stream",
     "text": [
      "287 16000 (1273, 768) (3414, 768)\n"
     ]
    },
    {
     "name": "stderr",
     "output_type": "stream",
     "text": [
      "\r",
      " 44%|████▍     | 242/548 [1:07:06<38:47,  7.60s/it]"
     ]
    },
    {
     "name": "stdout",
     "output_type": "stream",
     "text": [
      "288 16000 (3200, 768) (5620, 768)\n"
     ]
    },
    {
     "name": "stderr",
     "output_type": "stream",
     "text": [
      "\r",
      " 44%|████▍     | 243/548 [1:07:17<43:53,  8.63s/it]"
     ]
    },
    {
     "name": "stdout",
     "output_type": "stream",
     "text": [
      "289 16000 (4204, 768) (7012, 768)\n"
     ]
    },
    {
     "name": "stderr",
     "output_type": "stream",
     "text": [
      "\r",
      " 45%|████▍     | 244/548 [1:07:25<43:52,  8.66s/it]"
     ]
    },
    {
     "name": "stdout",
     "output_type": "stream",
     "text": [
      "29-24-1280x720 16000 (3684, 768) (6139, 768)\n"
     ]
    },
    {
     "name": "stderr",
     "output_type": "stream",
     "text": [
      "\r",
      " 45%|████▍     | 245/548 [1:07:32<41:00,  8.12s/it]"
     ]
    },
    {
     "name": "stdout",
     "output_type": "stream",
     "text": [
      "290 16000 (3163, 768) (5275, 768)\n"
     ]
    },
    {
     "name": "stderr",
     "output_type": "stream",
     "text": [
      "\r",
      " 45%|████▍     | 246/548 [1:07:36<34:41,  6.89s/it]"
     ]
    },
    {
     "name": "stdout",
     "output_type": "stream",
     "text": [
      "291 16000 (1831, 768) (4063, 768)\n"
     ]
    },
    {
     "name": "stderr",
     "output_type": "stream",
     "text": [
      "\r",
      " 45%|████▌     | 247/548 [1:07:48<42:10,  8.41s/it]"
     ]
    },
    {
     "name": "stdout",
     "output_type": "stream",
     "text": [
      "292 16000 (4704, 768) (7838, 768)\n"
     ]
    },
    {
     "name": "stderr",
     "output_type": "stream",
     "text": [
      "\r",
      " 45%|████▌     | 248/548 [1:07:54<37:36,  7.52s/it]"
     ]
    },
    {
     "name": "stdout",
     "output_type": "stream",
     "text": [
      "293 16000 (2111, 768) (4886, 768)\n"
     ]
    },
    {
     "name": "stderr",
     "output_type": "stream",
     "text": [
      "\r",
      " 45%|████▌     | 249/548 [1:08:04<41:08,  8.26s/it]"
     ]
    },
    {
     "name": "stdout",
     "output_type": "stream",
     "text": [
      "294 16000 (3289, 768) (7208, 768)\n"
     ]
    },
    {
     "name": "stderr",
     "output_type": "stream",
     "text": [
      "\r",
      " 46%|████▌     | 250/548 [1:08:13<43:03,  8.67s/it]"
     ]
    },
    {
     "name": "stdout",
     "output_type": "stream",
     "text": [
      "295 16000 (3770, 768) (6464, 768)\n"
     ]
    },
    {
     "name": "stderr",
     "output_type": "stream",
     "text": [
      "\r",
      " 46%|████▌     | 251/548 [1:08:48<1:21:58, 16.56s/it]"
     ]
    },
    {
     "name": "stdout",
     "output_type": "stream",
     "text": [
      "296 16000 (6487, 768) (14277, 768)\n"
     ]
    },
    {
     "name": "stderr",
     "output_type": "stream",
     "text": [
      "\r",
      " 46%|████▌     | 252/548 [1:08:56<1:08:17, 13.84s/it]"
     ]
    },
    {
     "name": "stdout",
     "output_type": "stream",
     "text": [
      "297 16000 (3289, 768) (6019, 768)\n"
     ]
    },
    {
     "name": "stderr",
     "output_type": "stream",
     "text": [
      "\r",
      " 46%|████▌     | 253/548 [1:09:04<59:27, 12.09s/it]  "
     ]
    },
    {
     "name": "stdout",
     "output_type": "stream",
     "text": [
      "298 16000 (2837, 768) (5876, 768)\n"
     ]
    },
    {
     "name": "stderr",
     "output_type": "stream",
     "text": [
      "\r",
      " 46%|████▋     | 254/548 [1:09:10<51:12, 10.45s/it]"
     ]
    },
    {
     "name": "stdout",
     "output_type": "stream",
     "text": [
      "299 16000 (2337, 768) (5471, 768)\n"
     ]
    },
    {
     "name": "stderr",
     "output_type": "stream",
     "text": [
      "\r",
      " 47%|████▋     | 255/548 [1:09:33<1:09:05, 14.15s/it]"
     ]
    },
    {
     "name": "stdout",
     "output_type": "stream",
     "text": [
      "3-25-1920x1080 16000 (6189, 768) (10314, 768)\n"
     ]
    },
    {
     "name": "stderr",
     "output_type": "stream",
     "text": [
      "\r",
      " 47%|████▋     | 256/548 [1:09:39<56:41, 11.65s/it]  "
     ]
    },
    {
     "name": "stdout",
     "output_type": "stream",
     "text": [
      "30-30-1920x1080 16000 (3063, 768) (5106, 768)\n"
     ]
    },
    {
     "name": "stderr",
     "output_type": "stream",
     "text": [
      "\r",
      " 47%|████▋     | 257/548 [1:09:49<54:05, 11.15s/it]"
     ]
    },
    {
     "name": "stdout",
     "output_type": "stream",
     "text": [
      "303 16000 (3951, 768) (6583, 768)\n"
     ]
    },
    {
     "name": "stderr",
     "output_type": "stream",
     "text": [
      "\r",
      " 47%|████▋     | 258/548 [1:09:55<45:46,  9.47s/it]"
     ]
    },
    {
     "name": "stdout",
     "output_type": "stream",
     "text": [
      "304 16000 (2694, 768) (4810, 768)\n"
     ]
    },
    {
     "name": "stderr",
     "output_type": "stream",
     "text": [
      "\r",
      " 47%|████▋     | 259/548 [1:10:10<54:38, 11.34s/it]"
     ]
    },
    {
     "name": "stdout",
     "output_type": "stream",
     "text": [
      "305 16000 (4579, 768) (9443, 768)\n"
     ]
    },
    {
     "name": "stderr",
     "output_type": "stream",
     "text": [
      "\r",
      " 47%|████▋     | 260/548 [1:10:16<45:49,  9.55s/it]"
     ]
    },
    {
     "name": "stdout",
     "output_type": "stream",
     "text": [
      "306 16000 (2297, 768) (4669, 768)\n"
     ]
    },
    {
     "name": "stderr",
     "output_type": "stream",
     "text": [
      "\r",
      " 48%|████▊     | 261/548 [1:10:27<47:57, 10.03s/it]"
     ]
    },
    {
     "name": "stdout",
     "output_type": "stream",
     "text": [
      "307 16000 (3311, 768) (6934, 768)\n"
     ]
    },
    {
     "name": "stderr",
     "output_type": "stream",
     "text": [
      "\r",
      " 48%|████▊     | 262/548 [1:10:38<49:58, 10.48s/it]"
     ]
    },
    {
     "name": "stdout",
     "output_type": "stream",
     "text": [
      "308 16000 (4652, 768) (7822, 768)\n"
     ]
    },
    {
     "name": "stderr",
     "output_type": "stream",
     "text": [
      "\r",
      " 48%|████▊     | 263/548 [1:10:44<42:32,  8.95s/it]"
     ]
    },
    {
     "name": "stdout",
     "output_type": "stream",
     "text": [
      "309 16000 (2499, 768) (4687, 768)\n"
     ]
    },
    {
     "name": "stderr",
     "output_type": "stream",
     "text": [
      "\r",
      " 48%|████▊     | 264/548 [1:10:56<46:37,  9.85s/it]"
     ]
    },
    {
     "name": "stdout",
     "output_type": "stream",
     "text": [
      "31-30-1920x1080 16000 (4723, 768) (7869, 768)\n"
     ]
    },
    {
     "name": "stderr",
     "output_type": "stream",
     "text": [
      "\r",
      " 48%|████▊     | 265/548 [1:11:00<38:13,  8.10s/it]"
     ]
    },
    {
     "name": "stdout",
     "output_type": "stream",
     "text": [
      "311 16000 (1931, 768) (4024, 768)\n"
     ]
    },
    {
     "name": "stderr",
     "output_type": "stream",
     "text": [
      "\r",
      " 49%|████▊     | 266/548 [1:11:18<53:07, 11.30s/it]"
     ]
    },
    {
     "name": "stdout",
     "output_type": "stream",
     "text": [
      "312 16000 (5110, 768) (10218, 768)\n"
     ]
    },
    {
     "name": "stderr",
     "output_type": "stream",
     "text": [
      "\r",
      " 49%|████▊     | 267/548 [1:11:30<52:51, 11.29s/it]"
     ]
    },
    {
     "name": "stdout",
     "output_type": "stream",
     "text": [
      "313 16000 (3140, 768) (7719, 768)\n"
     ]
    },
    {
     "name": "stderr",
     "output_type": "stream",
     "text": [
      "\r",
      " 49%|████▉     | 268/548 [1:11:37<47:22, 10.15s/it]"
     ]
    },
    {
     "name": "stdout",
     "output_type": "stream",
     "text": [
      "314 16000 (2261, 768) (5290, 768)\n"
     ]
    },
    {
     "name": "stderr",
     "output_type": "stream",
     "text": [
      "\r",
      " 49%|████▉     | 269/548 [1:11:46<45:21,  9.75s/it]"
     ]
    },
    {
     "name": "stdout",
     "output_type": "stream",
     "text": [
      "315 16000 (3938, 768) (6561, 768)\n"
     ]
    },
    {
     "name": "stderr",
     "output_type": "stream",
     "text": [
      "\r",
      " 49%|████▉     | 270/548 [1:11:50<37:05,  8.00s/it]"
     ]
    },
    {
     "name": "stdout",
     "output_type": "stream",
     "text": [
      "317 16000 (1686, 768) (4028, 768)\n"
     ]
    },
    {
     "name": "stderr",
     "output_type": "stream",
     "text": [
      "\r",
      " 49%|████▉     | 271/548 [1:12:01<40:59,  8.88s/it]"
     ]
    },
    {
     "name": "stdout",
     "output_type": "stream",
     "text": [
      "318 16000 (4108, 768) (7093, 768)\n"
     ]
    },
    {
     "name": "stderr",
     "output_type": "stream",
     "text": [
      "\r",
      " 50%|████▉     | 272/548 [1:12:04<33:08,  7.20s/it]"
     ]
    },
    {
     "name": "stdout",
     "output_type": "stream",
     "text": [
      "319 16000 (2138, 768) (3604, 768)\n"
     ]
    },
    {
     "name": "stderr",
     "output_type": "stream",
     "text": [
      "\r",
      " 50%|████▉     | 273/548 [1:12:17<40:18,  8.79s/it]"
     ]
    },
    {
     "name": "stdout",
     "output_type": "stream",
     "text": [
      "32-60-1920x1080 16000 (4460, 768) (7428, 768)\n"
     ]
    },
    {
     "name": "stderr",
     "output_type": "stream",
     "text": [
      "\r",
      " 50%|█████     | 274/548 [1:12:28<44:15,  9.69s/it]"
     ]
    },
    {
     "name": "stdout",
     "output_type": "stream",
     "text": [
      "320 16000 (4739, 768) (7904, 768)\n"
     ]
    },
    {
     "name": "stderr",
     "output_type": "stream",
     "text": [
      "\r",
      " 50%|█████     | 275/548 [1:12:37<41:57,  9.22s/it]"
     ]
    },
    {
     "name": "stdout",
     "output_type": "stream",
     "text": [
      "321 16000 (3556, 768) (6134, 768)\n"
     ]
    },
    {
     "name": "stderr",
     "output_type": "stream",
     "text": [
      "\r",
      " 50%|█████     | 276/548 [1:12:44<39:25,  8.70s/it]"
     ]
    },
    {
     "name": "stdout",
     "output_type": "stream",
     "text": [
      "322 16000 (2429, 768) (5832, 768)\n"
     ]
    },
    {
     "name": "stderr",
     "output_type": "stream",
     "text": [
      "\r",
      " 51%|█████     | 277/548 [1:12:53<39:30,  8.75s/it]"
     ]
    },
    {
     "name": "stdout",
     "output_type": "stream",
     "text": [
      "323 16000 (2937, 768) (6451, 768)\n"
     ]
    },
    {
     "name": "stderr",
     "output_type": "stream",
     "text": [
      "\r",
      " 51%|█████     | 278/548 [1:13:09<49:27, 10.99s/it]"
     ]
    },
    {
     "name": "stdout",
     "output_type": "stream",
     "text": [
      "324 16000 (5615, 768) (9366, 768)\n"
     ]
    },
    {
     "name": "stderr",
     "output_type": "stream",
     "text": [
      "\r",
      " 51%|█████     | 279/548 [1:13:19<48:12, 10.75s/it]"
     ]
    },
    {
     "name": "stdout",
     "output_type": "stream",
     "text": [
      "325 16000 (3223, 768) (7088, 768)\n"
     ]
    },
    {
     "name": "stderr",
     "output_type": "stream",
     "text": [
      "\r",
      " 51%|█████     | 280/548 [1:13:36<56:20, 12.61s/it]"
     ]
    },
    {
     "name": "stdout",
     "output_type": "stream",
     "text": [
      "326 16000 (4718, 768) (9733, 768)\n"
     ]
    },
    {
     "name": "stderr",
     "output_type": "stream",
     "text": [
      "\r",
      " 51%|█████▏    | 281/548 [1:13:47<53:49, 12.10s/it]"
     ]
    },
    {
     "name": "stdout",
     "output_type": "stream",
     "text": [
      "327 16000 (4157, 768) (7410, 768)\n"
     ]
    },
    {
     "name": "stderr",
     "output_type": "stream",
     "text": [
      "\r",
      " 51%|█████▏    | 282/548 [1:13:53<44:45, 10.09s/it]"
     ]
    },
    {
     "name": "stdout",
     "output_type": "stream",
     "text": [
      "328 16000 (2715, 768) (4763, 768)\n"
     ]
    },
    {
     "name": "stderr",
     "output_type": "stream",
     "text": [
      "\r",
      " 52%|█████▏    | 283/548 [1:14:07<49:59, 11.32s/it]"
     ]
    },
    {
     "name": "stdout",
     "output_type": "stream",
     "text": [
      "329 16000 (5087, 768) (8654, 768)\n"
     ]
    },
    {
     "name": "stderr",
     "output_type": "stream",
     "text": [
      "\r",
      " 52%|█████▏    | 284/548 [1:15:02<1:48:07, 24.57s/it]"
     ]
    },
    {
     "name": "stdout",
     "output_type": "stream",
     "text": [
      "33-30-1920x1080 16000 (10807, 768) (18011, 768)\n"
     ]
    },
    {
     "name": "stderr",
     "output_type": "stream",
     "text": [
      "\r",
      " 52%|█████▏    | 285/548 [1:15:17<1:35:17, 21.74s/it]"
     ]
    },
    {
     "name": "stdout",
     "output_type": "stream",
     "text": [
      "330 16000 (4569, 768) (8991, 768)\n"
     ]
    },
    {
     "name": "stderr",
     "output_type": "stream",
     "text": [
      "\r",
      " 52%|█████▏    | 286/548 [1:15:26<1:17:46, 17.81s/it]"
     ]
    },
    {
     "name": "stdout",
     "output_type": "stream",
     "text": [
      "331 16000 (2955, 768) (6363, 768)\n"
     ]
    },
    {
     "name": "stderr",
     "output_type": "stream",
     "text": [
      "\r",
      " 52%|█████▏    | 287/548 [1:15:38<1:10:21, 16.17s/it]"
     ]
    },
    {
     "name": "stdout",
     "output_type": "stream",
     "text": [
      "332 16000 (4666, 768) (7783, 768)\n"
     ]
    },
    {
     "name": "stderr",
     "output_type": "stream",
     "text": [
      "\r",
      " 53%|█████▎    | 288/548 [1:15:48<1:01:48, 14.26s/it]"
     ]
    },
    {
     "name": "stdout",
     "output_type": "stream",
     "text": [
      "334 16000 (3399, 768) (6841, 768)\n"
     ]
    },
    {
     "name": "stderr",
     "output_type": "stream",
     "text": [
      "\r",
      " 53%|█████▎    | 289/548 [1:15:55<52:28, 12.16s/it]  "
     ]
    },
    {
     "name": "stdout",
     "output_type": "stream",
     "text": [
      "335 16000 (3279, 768) (5566, 768)\n"
     ]
    },
    {
     "name": "stderr",
     "output_type": "stream",
     "text": [
      "\r",
      " 53%|█████▎    | 290/548 [1:16:07<51:43, 12.03s/it]"
     ]
    },
    {
     "name": "stdout",
     "output_type": "stream",
     "text": [
      "336 16000 (4345, 768) (7642, 768)\n"
     ]
    },
    {
     "name": "stderr",
     "output_type": "stream",
     "text": [
      "\r",
      " 53%|█████▎    | 291/548 [1:16:16<46:54, 10.95s/it]"
     ]
    },
    {
     "name": "stdout",
     "output_type": "stream",
     "text": [
      "337 16000 (2807, 768) (6279, 768)\n"
     ]
    },
    {
     "name": "stderr",
     "output_type": "stream",
     "text": [
      "\r",
      " 53%|█████▎    | 292/548 [1:16:31<52:48, 12.38s/it]"
     ]
    },
    {
     "name": "stdout",
     "output_type": "stream",
     "text": [
      "339 16000 (4633, 768) (9018, 768)\n"
     ]
    },
    {
     "name": "stderr",
     "output_type": "stream",
     "text": [
      "\r",
      " 53%|█████▎    | 293/548 [1:17:05<1:19:19, 18.67s/it]"
     ]
    },
    {
     "name": "stdout",
     "output_type": "stream",
     "text": [
      "34-25-1920x1080 16000 (7758, 768) (12928, 768)\n"
     ]
    },
    {
     "name": "stderr",
     "output_type": "stream",
     "text": [
      "\r",
      " 54%|█████▎    | 294/548 [1:17:14<1:07:14, 15.88s/it]"
     ]
    },
    {
     "name": "stdout",
     "output_type": "stream",
     "text": [
      "341 16000 (3097, 768) (6570, 768)\n"
     ]
    },
    {
     "name": "stderr",
     "output_type": "stream",
     "text": [
      "\r",
      " 54%|█████▍    | 295/548 [1:17:25<1:00:21, 14.31s/it]"
     ]
    },
    {
     "name": "stdout",
     "output_type": "stream",
     "text": [
      "344 16000 (4264, 768) (7105, 768)\n"
     ]
    },
    {
     "name": "stderr",
     "output_type": "stream",
     "text": [
      "\r",
      " 54%|█████▍    | 296/548 [1:17:32<51:01, 12.15s/it]  "
     ]
    },
    {
     "name": "stdout",
     "output_type": "stream",
     "text": [
      "345 16000 (2345, 768) (5349, 768)\n"
     ]
    },
    {
     "name": "stderr",
     "output_type": "stream",
     "text": [
      "\r",
      " 54%|█████▍    | 297/548 [1:17:50<58:29, 13.98s/it]"
     ]
    },
    {
     "name": "stdout",
     "output_type": "stream",
     "text": [
      "346 16000 (5694, 768) (10033, 768)\n"
     ]
    },
    {
     "name": "stderr",
     "output_type": "stream",
     "text": [
      "\r",
      " 54%|█████▍    | 298/548 [1:18:00<53:06, 12.75s/it]"
     ]
    },
    {
     "name": "stdout",
     "output_type": "stream",
     "text": [
      "347 16000 (2925, 768) (6417, 768)\n"
     ]
    },
    {
     "name": "stderr",
     "output_type": "stream",
     "text": [
      "\r",
      " 55%|█████▍    | 299/548 [1:18:16<57:02, 13.74s/it]"
     ]
    },
    {
     "name": "stdout",
     "output_type": "stream",
     "text": [
      "348 16000 (4445, 768) (9156, 768)\n"
     ]
    },
    {
     "name": "stderr",
     "output_type": "stream",
     "text": [
      "\r",
      " 55%|█████▍    | 300/548 [1:18:29<56:30, 13.67s/it]"
     ]
    },
    {
     "name": "stdout",
     "output_type": "stream",
     "text": [
      "349 16000 (4055, 768) (8247, 768)\n"
     ]
    },
    {
     "name": "stderr",
     "output_type": "stream",
     "text": [
      "\r",
      " 55%|█████▍    | 301/548 [1:20:12<2:46:12, 40.37s/it]"
     ]
    },
    {
     "name": "stdout",
     "output_type": "stream",
     "text": [
      "35-30-1920x1080 16000 (20808, 768) (34677, 768)\n"
     ]
    },
    {
     "name": "stderr",
     "output_type": "stream",
     "text": [
      "\r",
      " 55%|█████▌    | 302/548 [1:20:16<2:00:10, 29.31s/it]"
     ]
    },
    {
     "name": "stdout",
     "output_type": "stream",
     "text": [
      "350 16000 (2016, 768) (3459, 768)\n"
     ]
    },
    {
     "name": "stderr",
     "output_type": "stream",
     "text": [
      "\r",
      " 55%|█████▌    | 303/548 [1:20:25<1:34:57, 23.26s/it]"
     ]
    },
    {
     "name": "stdout",
     "output_type": "stream",
     "text": [
      "353 16000 (2857, 768) (6757, 768)\n"
     ]
    },
    {
     "name": "stderr",
     "output_type": "stream",
     "text": [
      "\r",
      " 55%|█████▌    | 304/548 [1:20:45<1:31:10, 22.42s/it]"
     ]
    },
    {
     "name": "stdout",
     "output_type": "stream",
     "text": [
      "354 16000 (5390, 768) (10797, 768)\n"
     ]
    },
    {
     "name": "stderr",
     "output_type": "stream",
     "text": [
      "\r",
      " 56%|█████▌    | 305/548 [1:20:49<1:08:19, 16.87s/it]"
     ]
    },
    {
     "name": "stdout",
     "output_type": "stream",
     "text": [
      "355 16000 (1632, 768) (3746, 768)\n"
     ]
    },
    {
     "name": "stderr",
     "output_type": "stream",
     "text": [
      "\r",
      " 56%|█████▌    | 306/548 [1:20:52<51:04, 12.66s/it]  "
     ]
    },
    {
     "name": "stdout",
     "output_type": "stream",
     "text": [
      "357 16000 (1374, 768) (3130, 768)\n"
     ]
    },
    {
     "name": "stderr",
     "output_type": "stream",
     "text": [
      "\r",
      " 56%|█████▌    | 307/548 [1:20:52<35:55,  8.94s/it]"
     ]
    },
    {
     "name": "stdout",
     "output_type": "stream",
     "text": [
      "358 16000 (325, 768) (540, 768)\n"
     ]
    },
    {
     "name": "stderr",
     "output_type": "stream",
     "text": [
      "\r",
      " 56%|█████▌    | 308/548 [1:21:06<41:06, 10.28s/it]"
     ]
    },
    {
     "name": "stdout",
     "output_type": "stream",
     "text": [
      "359 16000 (3862, 768) (8410, 768)\n"
     ]
    },
    {
     "name": "stderr",
     "output_type": "stream",
     "text": [
      "\r",
      " 56%|█████▋    | 309/548 [1:21:25<52:20, 13.14s/it]"
     ]
    },
    {
     "name": "stdout",
     "output_type": "stream",
     "text": [
      "36-24-1280x720 16000 (5261, 768) (8769, 768)\n"
     ]
    },
    {
     "name": "stderr",
     "output_type": "stream",
     "text": [
      "\r",
      " 57%|█████▋    | 310/548 [1:21:36<48:41, 12.28s/it]"
     ]
    },
    {
     "name": "stdout",
     "output_type": "stream",
     "text": [
      "360 16000 (3510, 768) (7017, 768)\n"
     ]
    },
    {
     "name": "stderr",
     "output_type": "stream",
     "text": [
      "\r",
      " 57%|█████▋    | 311/548 [1:21:48<49:01, 12.41s/it]"
     ]
    },
    {
     "name": "stdout",
     "output_type": "stream",
     "text": [
      "361 16000 (4603, 768) (7677, 768)\n"
     ]
    },
    {
     "name": "stderr",
     "output_type": "stream",
     "text": [
      "\r",
      " 57%|█████▋    | 312/548 [1:22:02<50:27, 12.83s/it]"
     ]
    },
    {
     "name": "stdout",
     "output_type": "stream",
     "text": [
      "362 16000 (4913, 768) (8195, 768)\n"
     ]
    },
    {
     "name": "stderr",
     "output_type": "stream",
     "text": [
      "\r",
      " 57%|█████▋    | 313/548 [1:22:09<43:15, 11.04s/it]"
     ]
    },
    {
     "name": "stdout",
     "output_type": "stream",
     "text": [
      "363 16000 (3241, 768) (5400, 768)\n"
     ]
    },
    {
     "name": "stderr",
     "output_type": "stream",
     "text": [
      "\r",
      " 57%|█████▋    | 314/548 [1:22:20<43:01, 11.03s/it]"
     ]
    },
    {
     "name": "stdout",
     "output_type": "stream",
     "text": [
      "364 16000 (3319, 768) (7500, 768)\n"
     ]
    },
    {
     "name": "stderr",
     "output_type": "stream",
     "text": [
      "\r",
      " 57%|█████▋    | 315/548 [1:22:31<42:32, 10.95s/it]"
     ]
    },
    {
     "name": "stdout",
     "output_type": "stream",
     "text": [
      "365 16000 (1068, 768) (6958, 768)\n"
     ]
    },
    {
     "name": "stderr",
     "output_type": "stream",
     "text": [
      "\r",
      " 58%|█████▊    | 316/548 [1:22:41<41:18, 10.68s/it]"
     ]
    },
    {
     "name": "stdout",
     "output_type": "stream",
     "text": [
      "367 16000 (4170, 768) (6948, 768)\n"
     ]
    },
    {
     "name": "stderr",
     "output_type": "stream",
     "text": [
      "\r",
      " 58%|█████▊    | 317/548 [1:22:51<40:49, 10.61s/it]"
     ]
    },
    {
     "name": "stdout",
     "output_type": "stream",
     "text": [
      "368 16000 (2930, 768) (7273, 768)\n"
     ]
    },
    {
     "name": "stderr",
     "output_type": "stream",
     "text": [
      "\r",
      " 58%|█████▊    | 318/548 [1:23:02<40:54, 10.67s/it]"
     ]
    },
    {
     "name": "stdout",
     "output_type": "stream",
     "text": [
      "369 16000 (4439, 768) (7396, 768)\n"
     ]
    },
    {
     "name": "stderr",
     "output_type": "stream",
     "text": [
      "\r",
      " 58%|█████▊    | 319/548 [1:23:07<34:30,  9.04s/it]"
     ]
    },
    {
     "name": "stdout",
     "output_type": "stream",
     "text": [
      "37-30-1280x720 16000 (2707, 768) (4511, 768)\n"
     ]
    },
    {
     "name": "stderr",
     "output_type": "stream",
     "text": [
      "\r",
      " 58%|█████▊    | 320/548 [1:23:12<29:05,  7.66s/it]"
     ]
    },
    {
     "name": "stdout",
     "output_type": "stream",
     "text": [
      "370 16000 (1940, 768) (3976, 768)\n"
     ]
    },
    {
     "name": "stderr",
     "output_type": "stream",
     "text": [
      "\r",
      " 59%|█████▊    | 321/548 [1:23:13<21:46,  5.75s/it]"
     ]
    },
    {
     "name": "stdout",
     "output_type": "stream",
     "text": [
      "371 16000 (681, 768) (1653, 768)\n"
     ]
    },
    {
     "name": "stderr",
     "output_type": "stream",
     "text": [
      "\r",
      " 59%|█████▉    | 322/548 [1:23:25<28:19,  7.52s/it]"
     ]
    },
    {
     "name": "stdout",
     "output_type": "stream",
     "text": [
      "372 16000 (2043, 768) (7564, 768)\n"
     ]
    },
    {
     "name": "stderr",
     "output_type": "stream",
     "text": [
      "\r",
      " 59%|█████▉    | 323/548 [1:23:36<32:01,  8.54s/it]"
     ]
    },
    {
     "name": "stdout",
     "output_type": "stream",
     "text": [
      "373 16000 (2705, 768) (6399, 768)\n"
     ]
    },
    {
     "name": "stderr",
     "output_type": "stream",
     "text": [
      "\r",
      " 59%|█████▉    | 324/548 [1:23:50<38:21, 10.27s/it]"
     ]
    },
    {
     "name": "stdout",
     "output_type": "stream",
     "text": [
      "374 16000 (1213, 768) (8080, 768)\n"
     ]
    },
    {
     "name": "stderr",
     "output_type": "stream",
     "text": [
      "\r",
      " 59%|█████▉    | 325/548 [1:23:59<36:59,  9.95s/it]"
     ]
    },
    {
     "name": "stdout",
     "output_type": "stream",
     "text": [
      "375 16000 (2958, 768) (6553, 768)\n"
     ]
    },
    {
     "name": "stderr",
     "output_type": "stream",
     "text": [
      "\r",
      " 59%|█████▉    | 326/548 [1:24:13<41:22, 11.18s/it]"
     ]
    },
    {
     "name": "stdout",
     "output_type": "stream",
     "text": [
      "376 16000 (3570, 768) (8713, 768)\n"
     ]
    },
    {
     "name": "stderr",
     "output_type": "stream",
     "text": [
      "\r",
      " 60%|█████▉    | 327/548 [1:24:28<44:44, 12.15s/it]"
     ]
    },
    {
     "name": "stdout",
     "output_type": "stream",
     "text": [
      "377 16000 (3445, 768) (8573, 768)\n"
     ]
    },
    {
     "name": "stderr",
     "output_type": "stream",
     "text": [
      "\r",
      " 60%|█████▉    | 328/548 [1:24:36<39:55, 10.89s/it]"
     ]
    },
    {
     "name": "stdout",
     "output_type": "stream",
     "text": [
      "378 16000 (3481, 768) (5805, 768)\n"
     ]
    },
    {
     "name": "stderr",
     "output_type": "stream",
     "text": [
      "\r",
      " 60%|██████    | 329/548 [1:24:40<32:35,  8.93s/it]"
     ]
    },
    {
     "name": "stdout",
     "output_type": "stream",
     "text": [
      "38-30-1920x1080 16000 (2432, 768) (4056, 768)\n"
     ]
    },
    {
     "name": "stderr",
     "output_type": "stream",
     "text": [
      "\r",
      " 60%|██████    | 330/548 [1:24:47<30:44,  8.46s/it]"
     ]
    },
    {
     "name": "stdout",
     "output_type": "stream",
     "text": [
      "380 16000 (2376, 768) (5761, 768)\n"
     ]
    },
    {
     "name": "stderr",
     "output_type": "stream",
     "text": [
      "\r",
      " 60%|██████    | 331/548 [1:24:50<24:11,  6.69s/it]"
     ]
    },
    {
     "name": "stdout",
     "output_type": "stream",
     "text": [
      "381 16000 (1266, 768) (3014, 768)\n"
     ]
    },
    {
     "name": "stderr",
     "output_type": "stream",
     "text": [
      "\r",
      " 61%|██████    | 332/548 [1:25:00<27:12,  7.56s/it]"
     ]
    },
    {
     "name": "stdout",
     "output_type": "stream",
     "text": [
      "382 16000 (2714, 768) (6591, 768)\n"
     ]
    },
    {
     "name": "stderr",
     "output_type": "stream",
     "text": [
      "\r",
      " 61%|██████    | 333/548 [1:25:12<32:31,  9.08s/it]"
     ]
    },
    {
     "name": "stdout",
     "output_type": "stream",
     "text": [
      "383 16000 (2555, 768) (7738, 768)\n"
     ]
    },
    {
     "name": "stderr",
     "output_type": "stream",
     "text": [
      "\r",
      " 61%|██████    | 334/548 [1:25:25<36:24, 10.21s/it]"
     ]
    },
    {
     "name": "stdout",
     "output_type": "stream",
     "text": [
      "384 16000 (3452, 768) (8091, 768)\n"
     ]
    },
    {
     "name": "stderr",
     "output_type": "stream",
     "text": [
      "\r",
      " 61%|██████    | 335/548 [1:25:37<38:27, 10.83s/it]"
     ]
    },
    {
     "name": "stdout",
     "output_type": "stream",
     "text": [
      "385 16000 (2977, 768) (7409, 768)\n"
     ]
    },
    {
     "name": "stderr",
     "output_type": "stream",
     "text": [
      "\r",
      " 61%|██████▏   | 336/548 [1:25:42<32:01,  9.06s/it]"
     ]
    },
    {
     "name": "stdout",
     "output_type": "stream",
     "text": [
      "386 16000 (1752, 768) (4278, 768)\n"
     ]
    },
    {
     "name": "stderr",
     "output_type": "stream",
     "text": [
      "\r",
      " 61%|██████▏   | 337/548 [1:25:53<33:38,  9.57s/it]"
     ]
    },
    {
     "name": "stdout",
     "output_type": "stream",
     "text": [
      "387 16000 (2912, 768) (7245, 768)\n"
     ]
    },
    {
     "name": "stderr",
     "output_type": "stream",
     "text": [
      "\r",
      " 62%|██████▏   | 338/548 [1:26:04<35:16, 10.08s/it]"
     ]
    },
    {
     "name": "stdout",
     "output_type": "stream",
     "text": [
      "388 16000 (4159, 768) (7493, 768)\n"
     ]
    },
    {
     "name": "stderr",
     "output_type": "stream",
     "text": [
      "\r",
      " 62%|██████▏   | 339/548 [1:26:20<41:15, 11.85s/it]"
     ]
    },
    {
     "name": "stdout",
     "output_type": "stream",
     "text": [
      "389 16000 (4557, 768) (8876, 768)\n"
     ]
    },
    {
     "name": "stderr",
     "output_type": "stream",
     "text": [
      "\r",
      " 62%|██████▏   | 340/548 [1:26:32<41:12, 11.89s/it]"
     ]
    },
    {
     "name": "stdout",
     "output_type": "stream",
     "text": [
      "39-25-424x240 16000 (4591, 768) (7653, 768)\n"
     ]
    },
    {
     "name": "stderr",
     "output_type": "stream",
     "text": [
      "\r",
      " 62%|██████▏   | 341/548 [1:26:45<42:02, 12.19s/it]"
     ]
    },
    {
     "name": "stdout",
     "output_type": "stream",
     "text": [
      "391 16000 (3584, 768) (8037, 768)\n"
     ]
    },
    {
     "name": "stderr",
     "output_type": "stream",
     "text": [
      "\r",
      " 62%|██████▏   | 342/548 [1:26:53<37:39, 10.97s/it]"
     ]
    },
    {
     "name": "stdout",
     "output_type": "stream",
     "text": [
      "392 16000 (3551, 768) (5917, 768)\n"
     ]
    },
    {
     "name": "stderr",
     "output_type": "stream",
     "text": [
      "\r",
      " 63%|██████▎   | 343/548 [1:27:09<42:04, 12.32s/it]"
     ]
    },
    {
     "name": "stdout",
     "output_type": "stream",
     "text": [
      "393 16000 (4917, 768) (8446, 768)\n"
     ]
    },
    {
     "name": "stderr",
     "output_type": "stream",
     "text": [
      "\r",
      " 63%|██████▎   | 344/548 [1:27:13<33:36,  9.89s/it]"
     ]
    },
    {
     "name": "stdout",
     "output_type": "stream",
     "text": [
      "394 16000 (2336, 768) (4015, 768)\n"
     ]
    },
    {
     "name": "stderr",
     "output_type": "stream",
     "text": [
      "\r",
      " 63%|██████▎   | 345/548 [1:27:27<37:24, 11.05s/it]"
     ]
    },
    {
     "name": "stdout",
     "output_type": "stream",
     "text": [
      "395 16000 (5154, 768) (8596, 768)\n"
     ]
    },
    {
     "name": "stderr",
     "output_type": "stream",
     "text": [
      "\r",
      " 63%|██████▎   | 346/548 [1:27:35<34:02, 10.11s/it]"
     ]
    },
    {
     "name": "stdout",
     "output_type": "stream",
     "text": [
      "398 16000 (3270, 768) (6050, 768)\n"
     ]
    },
    {
     "name": "stderr",
     "output_type": "stream",
     "text": [
      "\r",
      " 63%|██████▎   | 347/548 [1:27:50<38:56, 11.62s/it]"
     ]
    },
    {
     "name": "stdout",
     "output_type": "stream",
     "text": [
      "399 16000 (5200, 768) (8934, 768)\n"
     ]
    },
    {
     "name": "stderr",
     "output_type": "stream",
     "text": [
      "\r",
      " 64%|██████▎   | 348/548 [1:28:23<1:00:49, 18.25s/it]"
     ]
    },
    {
     "name": "stdout",
     "output_type": "stream",
     "text": [
      "4-30-1920x1080 16000 (8261, 768) (13767, 768)\n"
     ]
    },
    {
     "name": "stderr",
     "output_type": "stream",
     "text": [
      "\r",
      " 64%|██████▎   | 349/548 [1:29:05<1:23:43, 25.24s/it]"
     ]
    },
    {
     "name": "stdout",
     "output_type": "stream",
     "text": [
      "40-30-1280x720 16000 (9660, 768) (16097, 768)\n"
     ]
    },
    {
     "name": "stderr",
     "output_type": "stream",
     "text": [
      "\r",
      " 64%|██████▍   | 350/548 [1:29:12<1:05:26, 19.83s/it]"
     ]
    },
    {
     "name": "stdout",
     "output_type": "stream",
     "text": [
      "400 16000 (2641, 768) (5672, 768)\n"
     ]
    },
    {
     "name": "stderr",
     "output_type": "stream",
     "text": [
      "\r",
      " 64%|██████▍   | 351/548 [1:29:24<57:03, 17.38s/it]  "
     ]
    },
    {
     "name": "stdout",
     "output_type": "stream",
     "text": [
      "402 16000 (4423, 768) (7750, 768)\n"
     ]
    },
    {
     "name": "stderr",
     "output_type": "stream",
     "text": [
      "\r",
      " 64%|██████▍   | 352/548 [1:29:30<45:54, 14.06s/it]"
     ]
    },
    {
     "name": "stdout",
     "output_type": "stream",
     "text": [
      "403 16000 (2166, 768) (5384, 768)\n"
     ]
    },
    {
     "name": "stderr",
     "output_type": "stream",
     "text": [
      "\r",
      " 64%|██████▍   | 353/548 [1:29:37<38:13, 11.76s/it]"
     ]
    },
    {
     "name": "stdout",
     "output_type": "stream",
     "text": [
      "406 16000 (3067, 768) (5110, 768)\n"
     ]
    },
    {
     "name": "stderr",
     "output_type": "stream",
     "text": [
      "\r",
      " 65%|██████▍   | 354/548 [1:29:47<36:28, 11.28s/it]"
     ]
    },
    {
     "name": "stdout",
     "output_type": "stream",
     "text": [
      "407 16000 (3818, 768) (7029, 768)\n"
     ]
    },
    {
     "name": "stderr",
     "output_type": "stream",
     "text": [
      "\r",
      " 65%|██████▍   | 355/548 [1:29:52<30:43,  9.55s/it]"
     ]
    },
    {
     "name": "stdout",
     "output_type": "stream",
     "text": [
      "408 16000 (2979, 768) (4968, 768)\n"
     ]
    },
    {
     "name": "stderr",
     "output_type": "stream",
     "text": [
      "\r",
      " 65%|██████▍   | 356/548 [1:30:05<33:45, 10.55s/it]"
     ]
    },
    {
     "name": "stdout",
     "output_type": "stream",
     "text": [
      "409 16000 (3609, 768) (7921, 768)\n"
     ]
    },
    {
     "name": "stderr",
     "output_type": "stream",
     "text": [
      "\r",
      " 65%|██████▌   | 357/548 [1:30:24<41:22, 13.00s/it]"
     ]
    },
    {
     "name": "stdout",
     "output_type": "stream",
     "text": [
      "41-24-1280x720 16000 (6161, 768) (10266, 768)\n"
     ]
    },
    {
     "name": "stderr",
     "output_type": "stream",
     "text": [
      "\r",
      " 65%|██████▌   | 358/548 [1:30:34<38:45, 12.24s/it]"
     ]
    },
    {
     "name": "stdout",
     "output_type": "stream",
     "text": [
      "412 16000 (1474, 768) (7365, 768)\n"
     ]
    },
    {
     "name": "stderr",
     "output_type": "stream",
     "text": [
      "\r",
      " 66%|██████▌   | 359/548 [1:30:43<35:33, 11.29s/it]"
     ]
    },
    {
     "name": "stdout",
     "output_type": "stream",
     "text": [
      "415 16000 (2904, 768) (6723, 768)\n"
     ]
    },
    {
     "name": "stderr",
     "output_type": "stream",
     "text": [
      "\r",
      " 66%|██████▌   | 360/548 [1:31:21<59:57, 19.14s/it]"
     ]
    },
    {
     "name": "stdout",
     "output_type": "stream",
     "text": [
      "416 16000 (6512, 768) (14449, 768)\n"
     ]
    },
    {
     "name": "stderr",
     "output_type": "stream",
     "text": [
      "\r",
      " 66%|██████▌   | 361/548 [1:31:27<47:47, 15.33s/it]"
     ]
    },
    {
     "name": "stdout",
     "output_type": "stream",
     "text": [
      "418 16000 (2907, 768) (4848, 768)\n"
     ]
    },
    {
     "name": "stderr",
     "output_type": "stream",
     "text": [
      "\r",
      " 66%|██████▌   | 362/548 [1:31:50<54:07, 17.46s/it]"
     ]
    },
    {
     "name": "stdout",
     "output_type": "stream",
     "text": [
      "419 16000 (6964, 768) (11616, 768)\n"
     ]
    },
    {
     "name": "stderr",
     "output_type": "stream",
     "text": [
      "\r",
      " 66%|██████▌   | 363/548 [1:31:52<39:29, 12.81s/it]"
     ]
    },
    {
     "name": "stdout",
     "output_type": "stream",
     "text": [
      "42-30-480x480 16000 (1395, 768) (2324, 768)\n"
     ]
    },
    {
     "name": "stderr",
     "output_type": "stream",
     "text": [
      "\r",
      " 66%|██████▋   | 364/548 [1:32:01<35:41, 11.64s/it]"
     ]
    },
    {
     "name": "stdout",
     "output_type": "stream",
     "text": [
      "420 16000 (3151, 768) (6108, 768)\n"
     ]
    },
    {
     "name": "stderr",
     "output_type": "stream",
     "text": [
      "\r",
      " 67%|██████▋   | 365/548 [1:32:11<34:50, 11.42s/it]"
     ]
    },
    {
     "name": "stdout",
     "output_type": "stream",
     "text": [
      "421 16000 (3616, 768) (7415, 768)\n"
     ]
    },
    {
     "name": "stderr",
     "output_type": "stream",
     "text": [
      "\r",
      " 67%|██████▋   | 366/548 [1:32:26<37:51, 12.48s/it]"
     ]
    },
    {
     "name": "stdout",
     "output_type": "stream",
     "text": [
      "423 16000 (5266, 768) (8783, 768)\n"
     ]
    },
    {
     "name": "stderr",
     "output_type": "stream",
     "text": [
      "\r",
      " 67%|██████▋   | 367/548 [1:32:40<38:48, 12.87s/it]"
     ]
    },
    {
     "name": "stdout",
     "output_type": "stream",
     "text": [
      "424 16000 (4433, 768) (8112, 768)\n"
     ]
    },
    {
     "name": "stderr",
     "output_type": "stream",
     "text": [
      "\r",
      " 67%|██████▋   | 368/548 [1:32:54<39:09, 13.05s/it]"
     ]
    },
    {
     "name": "stdout",
     "output_type": "stream",
     "text": [
      "425 16000 (5071, 768) (8458, 768)\n"
     ]
    },
    {
     "name": "stderr",
     "output_type": "stream",
     "text": [
      "\r",
      " 67%|██████▋   | 369/548 [1:32:59<32:23, 10.86s/it]"
     ]
    },
    {
     "name": "stdout",
     "output_type": "stream",
     "text": [
      "426 16000 (2780, 768) (4839, 768)\n"
     ]
    },
    {
     "name": "stderr",
     "output_type": "stream",
     "text": [
      "\r",
      " 68%|██████▊   | 370/548 [1:33:02<24:55,  8.40s/it]"
     ]
    },
    {
     "name": "stdout",
     "output_type": "stream",
     "text": [
      "427 16000 (1223, 768) (2931, 768)\n"
     ]
    },
    {
     "name": "stderr",
     "output_type": "stream",
     "text": [
      "\r",
      " 68%|██████▊   | 371/548 [1:33:09<23:22,  7.92s/it]"
     ]
    },
    {
     "name": "stdout",
     "output_type": "stream",
     "text": [
      "428 16000 (3230, 768) (5382, 768)\n"
     ]
    },
    {
     "name": "stderr",
     "output_type": "stream",
     "text": [
      "\r",
      " 68%|██████▊   | 372/548 [1:33:13<19:57,  6.80s/it]"
     ]
    },
    {
     "name": "stdout",
     "output_type": "stream",
     "text": [
      "429 16000 (1674, 768) (4016, 768)\n"
     ]
    },
    {
     "name": "stderr",
     "output_type": "stream",
     "text": [
      "\r",
      " 68%|██████▊   | 373/548 [1:33:19<19:11,  6.58s/it]"
     ]
    },
    {
     "name": "stdout",
     "output_type": "stream",
     "text": [
      "43-30-406x720 16000 (2874, 768) (4792, 768)\n"
     ]
    },
    {
     "name": "stderr",
     "output_type": "stream",
     "text": [
      "\r",
      " 68%|██████▊   | 374/548 [1:33:23<16:43,  5.76s/it]"
     ]
    },
    {
     "name": "stdout",
     "output_type": "stream",
     "text": [
      "430 16000 (1835, 768) (3814, 768)\n"
     ]
    },
    {
     "name": "stderr",
     "output_type": "stream",
     "text": [
      "\r",
      " 68%|██████▊   | 375/548 [1:33:42<28:29,  9.88s/it]"
     ]
    },
    {
     "name": "stdout",
     "output_type": "stream",
     "text": [
      "433 16000 (4311, 768) (10588, 768)\n"
     ]
    },
    {
     "name": "stderr",
     "output_type": "stream",
     "text": [
      "\r",
      " 69%|██████▊   | 376/548 [1:34:03<37:49, 13.19s/it]"
     ]
    },
    {
     "name": "stdout",
     "output_type": "stream",
     "text": [
      "434 16000 (5233, 768) (10841, 768)\n"
     ]
    },
    {
     "name": "stderr",
     "output_type": "stream",
     "text": [
      "\r",
      " 69%|██████▉   | 377/548 [1:34:08<30:25, 10.68s/it]"
     ]
    },
    {
     "name": "stdout",
     "output_type": "stream",
     "text": [
      "435 16000 (1951, 768) (4588, 768)\n"
     ]
    },
    {
     "name": "stderr",
     "output_type": "stream",
     "text": [
      "\r",
      " 69%|██████▉   | 378/548 [1:34:14<26:00,  9.18s/it]"
     ]
    },
    {
     "name": "stdout",
     "output_type": "stream",
     "text": [
      "439 16000 (2309, 768) (4478, 768)\n"
     ]
    },
    {
     "name": "stderr",
     "output_type": "stream",
     "text": [
      "\r",
      " 69%|██████▉   | 379/548 [1:34:14<18:17,  6.49s/it]"
     ]
    },
    {
     "name": "stdout",
     "output_type": "stream",
     "text": [
      "44-25-426x240 16000 (301, 768) (502, 768)\n"
     ]
    },
    {
     "name": "stderr",
     "output_type": "stream",
     "text": [
      "\r",
      " 69%|██████▉   | 380/548 [1:34:22<18:59,  6.79s/it]"
     ]
    },
    {
     "name": "stdout",
     "output_type": "stream",
     "text": [
      "440 16000 (2521, 768) (5863, 768)\n"
     ]
    },
    {
     "name": "stderr",
     "output_type": "stream",
     "text": [
      "\r",
      " 70%|██████▉   | 381/548 [1:34:27<17:22,  6.24s/it]"
     ]
    },
    {
     "name": "stdout",
     "output_type": "stream",
     "text": [
      "441 16000 (2702, 768) (4502, 768)\n"
     ]
    },
    {
     "name": "stderr",
     "output_type": "stream",
     "text": [
      "\r",
      " 70%|██████▉   | 382/548 [1:34:36<19:51,  7.18s/it]"
     ]
    },
    {
     "name": "stdout",
     "output_type": "stream",
     "text": [
      "446 16000 (2249, 768) (6611, 768)\n"
     ]
    },
    {
     "name": "stderr",
     "output_type": "stream",
     "text": [
      "\r",
      " 70%|██████▉   | 383/548 [1:34:46<21:58,  7.99s/it]"
     ]
    },
    {
     "name": "stdout",
     "output_type": "stream",
     "text": [
      "447 16000 (3994, 768) (7023, 768)\n"
     ]
    },
    {
     "name": "stderr",
     "output_type": "stream",
     "text": [
      "\r",
      " 70%|███████   | 384/548 [1:35:00<26:40,  9.76s/it]"
     ]
    },
    {
     "name": "stdout",
     "output_type": "stream",
     "text": [
      "448 16000 (4158, 768) (8471, 768)\n"
     ]
    },
    {
     "name": "stderr",
     "output_type": "stream",
     "text": [
      "\r",
      " 70%|███████   | 385/548 [1:35:09<26:15,  9.67s/it]"
     ]
    },
    {
     "name": "stdout",
     "output_type": "stream",
     "text": [
      "449 16000 (3553, 768) (6829, 768)\n"
     ]
    },
    {
     "name": "stderr",
     "output_type": "stream",
     "text": [
      "\r",
      " 70%|███████   | 386/548 [1:35:29<34:20, 12.72s/it]"
     ]
    },
    {
     "name": "stdout",
     "output_type": "stream",
     "text": [
      "45-24-1280x720 16000 (6082, 768) (10135, 768)\n"
     ]
    },
    {
     "name": "stderr",
     "output_type": "stream",
     "text": [
      "\r",
      " 71%|███████   | 387/548 [1:36:12<58:28, 21.79s/it]"
     ]
    },
    {
     "name": "stdout",
     "output_type": "stream",
     "text": [
      "450 16000 (9908, 768) (16528, 768)\n"
     ]
    },
    {
     "name": "stderr",
     "output_type": "stream",
     "text": [
      "\r",
      " 71%|███████   | 388/548 [1:36:18<45:44, 17.16s/it]"
     ]
    },
    {
     "name": "stdout",
     "output_type": "stream",
     "text": [
      "46-30-484x360 16000 (2945, 768) (4900, 768)\n"
     ]
    },
    {
     "name": "stderr",
     "output_type": "stream",
     "text": [
      "\r",
      " 71%|███████   | 389/548 [1:36:29<40:31, 15.29s/it]"
     ]
    },
    {
     "name": "stdout",
     "output_type": "stream",
     "text": [
      "47-30-654x480 16000 (4034, 768) (6724, 768)\n"
     ]
    },
    {
     "name": "stderr",
     "output_type": "stream",
     "text": [
      "\r",
      " 71%|███████   | 390/548 [1:36:31<29:56, 11.37s/it]"
     ]
    },
    {
     "name": "stdout",
     "output_type": "stream",
     "text": [
      "48-30-720x1280 16000 (1593, 768) (2650, 768)\n"
     ]
    },
    {
     "name": "stderr",
     "output_type": "stream",
     "text": [
      "\r",
      " 71%|███████▏  | 391/548 [1:36:32<21:33,  8.24s/it]"
     ]
    },
    {
     "name": "stdout",
     "output_type": "stream",
     "text": [
      "49-30-1280x720 16000 (848, 768) (1426, 768)\n"
     ]
    },
    {
     "name": "stderr",
     "output_type": "stream",
     "text": [
      "\r",
      " 72%|███████▏  | 392/548 [1:36:52<30:05, 11.58s/it]"
     ]
    },
    {
     "name": "stdout",
     "output_type": "stream",
     "text": [
      "5-60-1920x1080-1 16000 (6154, 768) (10250, 768)\n"
     ]
    },
    {
     "name": "stderr",
     "output_type": "stream",
     "text": [
      "\r",
      " 72%|███████▏  | 393/548 [1:37:13<37:04, 14.35s/it]"
     ]
    },
    {
     "name": "stdout",
     "output_type": "stream",
     "text": [
      "5-60-1920x1080-2 16000 (6214, 768) (10351, 768)\n"
     ]
    },
    {
     "name": "stderr",
     "output_type": "stream",
     "text": [
      "\r",
      " 72%|███████▏  | 394/548 [1:37:35<43:10, 16.82s/it]"
     ]
    },
    {
     "name": "stdout",
     "output_type": "stream",
     "text": [
      "5-60-1920x1080-3 16000 (6334, 768) (10550, 768)\n"
     ]
    },
    {
     "name": "stderr",
     "output_type": "stream",
     "text": [
      "\r",
      " 72%|███████▏  | 395/548 [1:37:50<41:22, 16.22s/it]"
     ]
    },
    {
     "name": "stdout",
     "output_type": "stream",
     "text": [
      "5-60-1920x1080-4 16000 (4893, 768) (8151, 768)\n"
     ]
    },
    {
     "name": "stderr",
     "output_type": "stream",
     "text": [
      "\r",
      " 72%|███████▏  | 396/548 [1:37:55<32:30, 12.83s/it]"
     ]
    },
    {
     "name": "stdout",
     "output_type": "stream",
     "text": [
      "50-30-1920x1080 16000 (2700, 768) (4500, 768)\n"
     ]
    },
    {
     "name": "stderr",
     "output_type": "stream",
     "text": [
      "\r",
      " 72%|███████▏  | 397/548 [1:37:59<25:56, 10.31s/it]"
     ]
    },
    {
     "name": "stdout",
     "output_type": "stream",
     "text": [
      "51-30-1280x720 16000 (2500, 768) (4166, 768)\n"
     ]
    },
    {
     "name": "stderr",
     "output_type": "stream",
     "text": [
      "\r",
      " 73%|███████▎  | 398/548 [1:38:02<20:15,  8.10s/it]"
     ]
    },
    {
     "name": "stdout",
     "output_type": "stream",
     "text": [
      "52-30-1280x720 16000 (1925, 768) (3208, 768)\n"
     ]
    },
    {
     "name": "stderr",
     "output_type": "stream",
     "text": [
      "\r",
      " 73%|███████▎  | 399/548 [1:38:03<14:58,  6.03s/it]"
     ]
    },
    {
     "name": "stdout",
     "output_type": "stream",
     "text": [
      "53-30-360x480 16000 (1053, 768) (1750, 768)\n"
     ]
    },
    {
     "name": "stderr",
     "output_type": "stream",
     "text": [
      "\r",
      " 73%|███████▎  | 400/548 [1:38:24<25:48, 10.46s/it]"
     ]
    },
    {
     "name": "stdout",
     "output_type": "stream",
     "text": [
      "54-30-1080x1920 16000 (6446, 768) (10756, 768)\n"
     ]
    },
    {
     "name": "stderr",
     "output_type": "stream",
     "text": [
      "\r",
      " 73%|███████▎  | 401/548 [1:38:26<19:26,  7.94s/it]"
     ]
    },
    {
     "name": "stdout",
     "output_type": "stream",
     "text": [
      "55-25-1280x720 16000 (1506, 768) (2510, 768)\n"
     ]
    },
    {
     "name": "stderr",
     "output_type": "stream",
     "text": [
      "\r",
      " 73%|███████▎  | 402/548 [1:38:37<21:08,  8.69s/it]"
     ]
    },
    {
     "name": "stdout",
     "output_type": "stream",
     "text": [
      "56-30-1080x1920 16000 (4301, 768) (7175, 768)\n"
     ]
    },
    {
     "name": "stderr",
     "output_type": "stream",
     "text": [
      "\r",
      " 74%|███████▎  | 403/548 [1:38:37<14:52,  6.16s/it]"
     ]
    },
    {
     "name": "stdout",
     "output_type": "stream",
     "text": [
      "57-25-426x240 16000 (301, 768) (502, 768)\n"
     ]
    },
    {
     "name": "stderr",
     "output_type": "stream",
     "text": [
      "\r",
      " 74%|███████▎  | 404/548 [1:38:42<14:10,  5.91s/it]"
     ]
    },
    {
     "name": "stdout",
     "output_type": "stream",
     "text": [
      "58-30-640x480 16000 (2877, 768) (4794, 768)\n"
     ]
    },
    {
     "name": "stderr",
     "output_type": "stream",
     "text": [
      "\r",
      " 74%|███████▍  | 405/548 [1:39:12<30:49, 12.94s/it]"
     ]
    },
    {
     "name": "stdout",
     "output_type": "stream",
     "text": [
      "59-30-1280x720 16000 (7742, 768) (12901, 768)\n"
     ]
    },
    {
     "name": "stderr",
     "output_type": "stream",
     "text": [
      "\r",
      " 74%|███████▍  | 406/548 [1:39:41<42:18, 17.88s/it]"
     ]
    },
    {
     "name": "stdout",
     "output_type": "stream",
     "text": [
      "6-30-1920x1080 16000 (7986, 768) (13308, 768)\n"
     ]
    },
    {
     "name": "stderr",
     "output_type": "stream",
     "text": [
      "\r",
      " 74%|███████▍  | 407/548 [1:39:53<38:09, 16.23s/it]"
     ]
    },
    {
     "name": "stdout",
     "output_type": "stream",
     "text": [
      "60-30-1920x1080 16000 (4565, 768) (7608, 768)\n"
     ]
    },
    {
     "name": "stderr",
     "output_type": "stream",
     "text": [
      "\r",
      " 74%|███████▍  | 408/548 [1:40:33<54:19, 23.28s/it]"
     ]
    },
    {
     "name": "stdout",
     "output_type": "stream",
     "text": [
      "61-24-1920x1080 16000 (9157, 768) (15261, 768)\n"
     ]
    },
    {
     "name": "stderr",
     "output_type": "stream",
     "text": [
      "\r",
      " 75%|███████▍  | 409/548 [1:41:30<1:17:28, 33.44s/it]"
     ]
    },
    {
     "name": "stdout",
     "output_type": "stream",
     "text": [
      "62-30-654x480 16000 (12034, 768) (20050, 768)\n"
     ]
    },
    {
     "name": "stderr",
     "output_type": "stream",
     "text": [
      "\r",
      " 75%|███████▍  | 410/548 [1:41:35<56:49, 24.70s/it]  "
     ]
    },
    {
     "name": "stdout",
     "output_type": "stream",
     "text": [
      "63-30-1920x1080 16000 (2413, 768) (4021, 768)\n"
     ]
    },
    {
     "name": "stderr",
     "output_type": "stream",
     "text": [
      "\r",
      " 75%|███████▌  | 411/548 [1:41:48<48:49, 21.38s/it]"
     ]
    },
    {
     "name": "stdout",
     "output_type": "stream",
     "text": [
      "64-24-640x360 16000 (4919, 768) (8198, 768)\n"
     ]
    },
    {
     "name": "stderr",
     "output_type": "stream",
     "text": [
      "\r",
      " 75%|███████▌  | 412/548 [1:42:12<50:15, 22.18s/it]"
     ]
    },
    {
     "name": "stdout",
     "output_type": "stream",
     "text": [
      "65-30-400x228 16000 (6668, 768) (11115, 768)\n"
     ]
    },
    {
     "name": "stderr",
     "output_type": "stream",
     "text": [
      "\r",
      " 75%|███████▌  | 413/548 [1:42:19<39:21, 17.49s/it]"
     ]
    },
    {
     "name": "stdout",
     "output_type": "stream",
     "text": [
      "66-25-1080x1920 16000 (2914, 768) (4858, 768)\n"
     ]
    },
    {
     "name": "stderr",
     "output_type": "stream",
     "text": [
      "\r",
      " 76%|███████▌  | 414/548 [1:42:27<32:40, 14.63s/it]"
     ]
    },
    {
     "name": "stdout",
     "output_type": "stream",
     "text": [
      "67-24-640x360 16000 (3462, 768) (5771, 768)\n"
     ]
    },
    {
     "name": "stderr",
     "output_type": "stream",
     "text": [
      "\r",
      " 76%|███████▌  | 415/548 [1:42:55<41:06, 18.54s/it]"
     ]
    },
    {
     "name": "stdout",
     "output_type": "stream",
     "text": [
      "68-24-1920x1080 16000 (7190, 768) (11982, 768)\n"
     ]
    },
    {
     "name": "stderr",
     "output_type": "stream",
     "text": [
      "\r",
      " 76%|███████▌  | 416/548 [1:44:19<1:24:27, 38.39s/it]"
     ]
    },
    {
     "name": "stdout",
     "output_type": "stream",
     "text": [
      "69-25-854x480 16000 (18782, 768) (31299, 768)\n"
     ]
    },
    {
     "name": "stderr",
     "output_type": "stream",
     "text": [
      "\r",
      " 76%|███████▌  | 417/548 [1:46:08<2:09:47, 59.45s/it]"
     ]
    },
    {
     "name": "stdout",
     "output_type": "stream",
     "text": [
      "7-60-1920x1080 16000 (23149, 768) (38574, 768)\n"
     ]
    },
    {
     "name": "stderr",
     "output_type": "stream",
     "text": [
      "\r",
      " 76%|███████▋  | 418/548 [1:46:13<1:33:44, 43.27s/it]"
     ]
    },
    {
     "name": "stdout",
     "output_type": "stream",
     "text": [
      "70-30-720x1280 16000 (2784, 768) (4639, 768)\n"
     ]
    },
    {
     "name": "stderr",
     "output_type": "stream",
     "text": [
      "\r",
      " 76%|███████▋  | 419/548 [1:46:45<1:25:27, 39.75s/it]"
     ]
    },
    {
     "name": "stdout",
     "output_type": "stream",
     "text": [
      "71-30-1920x1080 16000 (8002, 768) (13346, 768)\n"
     ]
    },
    {
     "name": "stderr",
     "output_type": "stream",
     "text": [
      "\r",
      " 77%|███████▋  | 420/548 [1:47:13<1:17:07, 36.15s/it]"
     ]
    },
    {
     "name": "stdout",
     "output_type": "stream",
     "text": [
      "72-30-1280x720 16000 (7572, 768) (12619, 768)\n"
     ]
    },
    {
     "name": "stderr",
     "output_type": "stream",
     "text": [
      "\r",
      " 77%|███████▋  | 421/548 [1:47:26<1:01:56, 29.27s/it]"
     ]
    },
    {
     "name": "stdout",
     "output_type": "stream",
     "text": [
      "74-25-1920x1080 16000 (5042, 768) (8400, 768)\n"
     ]
    },
    {
     "name": "stderr",
     "output_type": "stream",
     "text": [
      "\r",
      " 77%|███████▋  | 422/548 [1:47:29<45:08, 21.50s/it]  "
     ]
    },
    {
     "name": "stdout",
     "output_type": "stream",
     "text": [
      "75-30-960x720 16000 (1954, 768) (3250, 768)\n"
     ]
    },
    {
     "name": "stderr",
     "output_type": "stream",
     "text": [
      "\r",
      " 77%|███████▋  | 423/548 [1:47:32<33:00, 15.85s/it]"
     ]
    },
    {
     "name": "stdout",
     "output_type": "stream",
     "text": [
      "76-30-640x280 16000 (1774, 768) (2949, 768)\n"
     ]
    },
    {
     "name": "stderr",
     "output_type": "stream",
     "text": [
      "\r",
      " 77%|███████▋  | 424/548 [1:47:50<34:27, 16.67s/it]"
     ]
    },
    {
     "name": "stdout",
     "output_type": "stream",
     "text": [
      "77-30-1280x720 16000 (5673, 768) (9451, 768)\n"
     ]
    },
    {
     "name": "stderr",
     "output_type": "stream",
     "text": [
      "\r",
      " 78%|███████▊  | 425/548 [1:48:02<31:12, 15.23s/it]"
     ]
    },
    {
     "name": "stdout",
     "output_type": "stream",
     "text": [
      "78-30-960x720 16000 (4443, 768) (7399, 768)\n"
     ]
    },
    {
     "name": "stderr",
     "output_type": "stream",
     "text": [
      "\r",
      " 78%|███████▊  | 426/548 [1:48:07<24:30, 12.06s/it]"
     ]
    },
    {
     "name": "stdout",
     "output_type": "stream",
     "text": [
      "79-30-960x720 16000 (2495, 768) (4159, 768)\n"
     ]
    },
    {
     "name": "stderr",
     "output_type": "stream",
     "text": [
      "\r",
      " 78%|███████▊  | 427/548 [1:48:44<39:41, 19.68s/it]"
     ]
    },
    {
     "name": "stdout",
     "output_type": "stream",
     "text": [
      "8-30-1280x720 16000 (9114, 768) (15189, 768)\n"
     ]
    },
    {
     "name": "stderr",
     "output_type": "stream",
     "text": [
      "\r",
      " 78%|███████▊  | 428/548 [1:49:01<37:34, 18.79s/it]"
     ]
    },
    {
     "name": "stdout",
     "output_type": "stream",
     "text": [
      "80-30-320x240 16000 (5674, 768) (9457, 768)\n"
     ]
    },
    {
     "name": "stderr",
     "output_type": "stream",
     "text": [
      "\r",
      " 78%|███████▊  | 429/548 [1:49:10<31:20, 15.80s/it]"
     ]
    },
    {
     "name": "stdout",
     "output_type": "stream",
     "text": [
      "81-30-576x360 16000 (3604, 768) (6007, 768)\n"
     ]
    },
    {
     "name": "stderr",
     "output_type": "stream",
     "text": [
      "\r",
      " 78%|███████▊  | 430/548 [1:49:27<31:41, 16.11s/it]"
     ]
    },
    {
     "name": "stdout",
     "output_type": "stream",
     "text": [
      "82-25-854x480 16000 (5403, 768) (9000, 768)\n"
     ]
    },
    {
     "name": "stderr",
     "output_type": "stream",
     "text": [
      "\r",
      " 79%|███████▊  | 431/548 [1:49:43<31:25, 16.12s/it]"
     ]
    },
    {
     "name": "stdout",
     "output_type": "stream",
     "text": [
      "83-24-1920x1080 16000 (5344, 768) (8899, 768)\n"
     ]
    },
    {
     "name": "stderr",
     "output_type": "stream",
     "text": [
      "\r",
      " 79%|███████▉  | 432/548 [1:49:48<24:42, 12.78s/it]"
     ]
    },
    {
     "name": "stdout",
     "output_type": "stream",
     "text": [
      "84-30-1920x1080 16000 (2584, 768) (4300, 768)\n"
     ]
    },
    {
     "name": "stderr",
     "output_type": "stream",
     "text": [
      "\r",
      " 79%|███████▉  | 433/548 [1:49:53<20:20, 10.62s/it]"
     ]
    },
    {
     "name": "stdout",
     "output_type": "stream",
     "text": [
      "85-24-1280x720 16000 (2665, 768) (4444, 768)\n"
     ]
    },
    {
     "name": "stderr",
     "output_type": "stream",
     "text": [
      "\r",
      " 79%|███████▉  | 434/548 [1:50:08<22:22, 11.78s/it]"
     ]
    },
    {
     "name": "stdout",
     "output_type": "stream",
     "text": [
      "86-24-1920x1080 16000 (4996, 768) (8077, 768)\n"
     ]
    },
    {
     "name": "stderr",
     "output_type": "stream",
     "text": [
      "\r",
      " 79%|███████▉  | 435/548 [1:50:11<17:09,  9.11s/it]"
     ]
    },
    {
     "name": "stdout",
     "output_type": "stream",
     "text": [
      "87-25-1920x1080 16000 (1803, 768) (3000, 768)\n"
     ]
    },
    {
     "name": "stderr",
     "output_type": "stream",
     "text": [
      "\r",
      " 80%|███████▉  | 436/548 [1:50:20<16:59,  9.10s/it]"
     ]
    },
    {
     "name": "stdout",
     "output_type": "stream",
     "text": [
      "88-30-360x480 16000 (3723, 768) (6200, 768)\n"
     ]
    },
    {
     "name": "stderr",
     "output_type": "stream",
     "text": [
      "\r",
      " 80%|███████▉  | 437/548 [1:50:21<12:10,  6.58s/it]"
     ]
    },
    {
     "name": "stdout",
     "output_type": "stream",
     "text": [
      "89-30-1080x1920 16000 (631, 768) (1050, 768)\n"
     ]
    },
    {
     "name": "stderr",
     "output_type": "stream",
     "text": [
      "\r",
      " 80%|███████▉  | 438/548 [1:53:56<2:06:51, 69.20s/it]"
     ]
    },
    {
     "name": "stdout",
     "output_type": "stream",
     "text": [
      "9-15-1920x1080 16000 (47435, 768) (79045, 768)\n"
     ]
    },
    {
     "name": "stderr",
     "output_type": "stream",
     "text": [
      "\r",
      " 80%|████████  | 439/548 [1:54:23<1:42:52, 56.63s/it]"
     ]
    },
    {
     "name": "stdout",
     "output_type": "stream",
     "text": [
      "90-30-1080x1920 16000 (7414, 768) (12365, 768)\n"
     ]
    },
    {
     "name": "stderr",
     "output_type": "stream",
     "text": [
      "\r",
      " 80%|████████  | 440/548 [1:55:16<1:39:38, 55.35s/it]"
     ]
    },
    {
     "name": "stdout",
     "output_type": "stream",
     "text": [
      "91-30-1920x1080 16000 (10922, 768) (18199, 768)\n"
     ]
    },
    {
     "name": "stderr",
     "output_type": "stream",
     "text": [
      "\r",
      " 80%|████████  | 441/548 [1:55:44<1:24:18, 47.27s/it]"
     ]
    },
    {
     "name": "stdout",
     "output_type": "stream",
     "text": [
      "92-24-1920x1080 16000 (8164, 768) (13600, 768)\n"
     ]
    },
    {
     "name": "stderr",
     "output_type": "stream",
     "text": [
      "\r",
      " 81%|████████  | 442/548 [1:55:49<1:01:11, 34.64s/it]"
     ]
    },
    {
     "name": "stdout",
     "output_type": "stream",
     "text": [
      "93-24-640x360 16000 (2582, 768) (4300, 768)\n"
     ]
    },
    {
     "name": "stderr",
     "output_type": "stream",
     "text": [
      "\r",
      " 81%|████████  | 443/548 [1:55:53<44:14, 25.28s/it]  "
     ]
    },
    {
     "name": "stdout",
     "output_type": "stream",
     "text": [
      "94-30-1920x1080 16000 (2102, 768) (3501, 768)\n"
     ]
    },
    {
     "name": "stderr",
     "output_type": "stream",
     "text": [
      "\r",
      " 81%|████████  | 444/548 [1:55:59<33:44, 19.46s/it]"
     ]
    },
    {
     "name": "stdout",
     "output_type": "stream",
     "text": [
      "95-24-1920x1080 16000 (2884, 768) (4800, 768)\n"
     ]
    },
    {
     "name": "stderr",
     "output_type": "stream",
     "text": [
      "\r",
      " 81%|████████  | 445/548 [1:56:17<32:51, 19.14s/it]"
     ]
    },
    {
     "name": "stdout",
     "output_type": "stream",
     "text": [
      "96-30-1280x720 16000 (5604, 768) (9338, 768)\n"
     ]
    },
    {
     "name": "stderr",
     "output_type": "stream",
     "text": [
      "\r",
      " 81%|████████▏ | 446/548 [1:56:24<26:28, 15.57s/it]"
     ]
    },
    {
     "name": "stdout",
     "output_type": "stream",
     "text": [
      "97-29-1920x1080 16000 (3367, 768) (5613, 768)\n"
     ]
    },
    {
     "name": "stderr",
     "output_type": "stream",
     "text": [
      "\r",
      " 82%|████████▏ | 447/548 [1:56:47<29:39, 17.62s/it]"
     ]
    },
    {
     "name": "stdout",
     "output_type": "stream",
     "text": [
      "98-30-360x360 16000 (6646, 768) (11080, 768)\n"
     ]
    },
    {
     "name": "stderr",
     "output_type": "stream",
     "text": [
      "\r",
      " 82%|████████▏ | 448/548 [1:56:49<21:56, 13.17s/it]"
     ]
    },
    {
     "name": "stdout",
     "output_type": "stream",
     "text": [
      "99-30-720x720 16000 (1801, 768) (3002, 768)\n"
     ]
    },
    {
     "name": "stderr",
     "output_type": "stream",
     "text": [
      "\r",
      " 82%|████████▏ | 449/548 [1:57:52<46:19, 28.08s/it]"
     ]
    },
    {
     "name": "stdout",
     "output_type": "stream",
     "text": [
      "video1 16000 (14588, 768) (24312, 768)\n"
     ]
    },
    {
     "name": "stderr",
     "output_type": "stream",
     "text": [
      "\r",
      " 82%|████████▏ | 450/548 [1:58:03<37:17, 22.83s/it]"
     ]
    },
    {
     "name": "stdout",
     "output_type": "stream",
     "text": [
      "video10_1 16000 (4257, 768) (7094, 768)\n"
     ]
    },
    {
     "name": "stderr",
     "output_type": "stream",
     "text": [
      "\r",
      " 82%|████████▏ | 451/548 [1:58:14<31:14, 19.33s/it]"
     ]
    },
    {
     "name": "stdout",
     "output_type": "stream",
     "text": [
      "video11 16000 (4380, 768) (7298, 768)\n"
     ]
    },
    {
     "name": "stderr",
     "output_type": "stream",
     "text": [
      "\r",
      " 82%|████████▏ | 452/548 [1:58:30<29:12, 18.25s/it]"
     ]
    },
    {
     "name": "stdout",
     "output_type": "stream",
     "text": [
      "video12 16000 (5580, 768) (9299, 768)\n"
     ]
    },
    {
     "name": "stderr",
     "output_type": "stream",
     "text": [
      "\r",
      " 83%|████████▎ | 453/548 [1:59:18<43:01, 27.18s/it]"
     ]
    },
    {
     "name": "stdout",
     "output_type": "stream",
     "text": [
      "video13 16000 (10567, 768) (17609, 768)\n"
     ]
    },
    {
     "name": "stderr",
     "output_type": "stream",
     "text": [
      "\r",
      " 83%|████████▎ | 454/548 [1:59:50<45:03, 28.76s/it]"
     ]
    },
    {
     "name": "stdout",
     "output_type": "stream",
     "text": [
      "video14 16000 (7586, 768) (12643, 768)\n"
     ]
    },
    {
     "name": "stderr",
     "output_type": "stream",
     "text": [
      "\r",
      " 83%|████████▎ | 455/548 [2:00:02<36:41, 23.67s/it]"
     ]
    },
    {
     "name": "stdout",
     "output_type": "stream",
     "text": [
      "video15 16000 (4288, 768) (7145, 768)\n"
     ]
    },
    {
     "name": "stderr",
     "output_type": "stream",
     "text": [
      "\r",
      " 83%|████████▎ | 456/548 [2:00:59<51:27, 33.56s/it]"
     ]
    },
    {
     "name": "stdout",
     "output_type": "stream",
     "text": [
      "video16 16000 (12487, 768) (20809, 768)\n"
     ]
    },
    {
     "name": "stderr",
     "output_type": "stream",
     "text": [
      "\r",
      " 83%|████████▎ | 457/548 [2:02:47<1:25:09, 56.15s/it]"
     ]
    },
    {
     "name": "stdout",
     "output_type": "stream",
     "text": [
      "video17 16000 (21938, 768) (36561, 768)\n"
     ]
    },
    {
     "name": "stderr",
     "output_type": "stream",
     "text": [
      "\r",
      " 84%|████████▎ | 458/548 [2:02:57<1:03:22, 42.25s/it]"
     ]
    },
    {
     "name": "stdout",
     "output_type": "stream",
     "text": [
      "video18 16000 (3784, 768) (6306, 768)\n"
     ]
    },
    {
     "name": "stderr",
     "output_type": "stream",
     "text": [
      "\r",
      " 84%|████████▍ | 459/548 [2:02:58<44:14, 29.83s/it]  "
     ]
    },
    {
     "name": "stdout",
     "output_type": "stream",
     "text": [
      "video19 16000 (785, 768) (1308, 768)\n"
     ]
    },
    {
     "name": "stderr",
     "output_type": "stream",
     "text": [
      "\r",
      " 84%|████████▍ | 460/548 [2:03:01<32:06, 21.89s/it]"
     ]
    },
    {
     "name": "stdout",
     "output_type": "stream",
     "text": [
      "video2 16000 (2065, 768) (3440, 768)\n"
     ]
    },
    {
     "name": "stderr",
     "output_type": "stream",
     "text": [
      "\r",
      " 84%|████████▍ | 461/548 [2:03:57<46:32, 32.10s/it]"
     ]
    },
    {
     "name": "stdout",
     "output_type": "stream",
     "text": [
      "video20 16000 (11272, 768) (18784, 768)\n"
     ]
    },
    {
     "name": "stderr",
     "output_type": "stream",
     "text": [
      "\r",
      " 84%|████████▍ | 462/548 [2:04:21<42:29, 29.64s/it]"
     ]
    },
    {
     "name": "stdout",
     "output_type": "stream",
     "text": [
      "video21 16000 (6809, 768) (11347, 768)\n"
     ]
    },
    {
     "name": "stderr",
     "output_type": "stream",
     "text": [
      "\r",
      " 84%|████████▍ | 463/548 [2:05:13<51:26, 36.32s/it]"
     ]
    },
    {
     "name": "stdout",
     "output_type": "stream",
     "text": [
      "video22 16000 (10470, 768) (17449, 768)\n"
     ]
    },
    {
     "name": "stderr",
     "output_type": "stream",
     "text": [
      "\r",
      " 85%|████████▍ | 464/548 [2:05:53<52:11, 37.28s/it]"
     ]
    },
    {
     "name": "stdout",
     "output_type": "stream",
     "text": [
      "video23 16000 (8790, 768) (14649, 768)\n"
     ]
    },
    {
     "name": "stderr",
     "output_type": "stream",
     "text": [
      "\r",
      " 85%|████████▍ | 465/548 [2:06:08<42:27, 30.70s/it]"
     ]
    },
    {
     "name": "stdout",
     "output_type": "stream",
     "text": [
      "video24 16000 (5205, 768) (8674, 768)\n"
     ]
    },
    {
     "name": "stderr",
     "output_type": "stream",
     "text": [
      "\r",
      " 85%|████████▌ | 466/548 [2:06:17<33:06, 24.22s/it]"
     ]
    },
    {
     "name": "stdout",
     "output_type": "stream",
     "text": [
      "video25 16000 (3645, 768) (6074, 768)\n"
     ]
    },
    {
     "name": "stderr",
     "output_type": "stream",
     "text": [
      "\r",
      " 85%|████████▌ | 467/548 [2:07:17<46:55, 34.76s/it]"
     ]
    },
    {
     "name": "stdout",
     "output_type": "stream",
     "text": [
      "video26 16000 (11021, 768) (18385, 768)\n"
     ]
    },
    {
     "name": "stderr",
     "output_type": "stream",
     "text": [
      "\r",
      " 85%|████████▌ | 468/548 [2:08:25<59:50, 44.88s/it]"
     ]
    },
    {
     "name": "stdout",
     "output_type": "stream",
     "text": [
      "video27 16000 (16419, 768) (27363, 768)\n"
     ]
    },
    {
     "name": "stderr",
     "output_type": "stream",
     "text": [
      "\r",
      " 86%|████████▌ | 469/548 [2:09:06<57:21, 43.56s/it]"
     ]
    },
    {
     "name": "stdout",
     "output_type": "stream",
     "text": [
      "video28 16000 (8728, 768) (14547, 768)\n"
     ]
    },
    {
     "name": "stderr",
     "output_type": "stream",
     "text": [
      "\r",
      " 86%|████████▌ | 470/548 [2:10:00<1:00:44, 46.73s/it]"
     ]
    },
    {
     "name": "stdout",
     "output_type": "stream",
     "text": [
      "video29 16000 (11260, 768) (18765, 768)\n"
     ]
    },
    {
     "name": "stderr",
     "output_type": "stream",
     "text": [
      "\r",
      " 86%|████████▌ | 471/548 [2:10:28<52:51, 41.19s/it]  "
     ]
    },
    {
     "name": "stdout",
     "output_type": "stream",
     "text": [
      "video3 16000 (7802, 768) (13001, 768)\n"
     ]
    },
    {
     "name": "stderr",
     "output_type": "stream",
     "text": [
      "\r",
      " 86%|████████▌ | 472/548 [2:11:02<49:26, 39.03s/it]"
     ]
    },
    {
     "name": "stdout",
     "output_type": "stream",
     "text": [
      "video30 16000 (8218, 768) (13660, 768)\n"
     ]
    },
    {
     "name": "stderr",
     "output_type": "stream",
     "text": [
      "\r",
      " 86%|████████▋ | 473/548 [2:11:08<36:19, 29.06s/it]"
     ]
    },
    {
     "name": "stdout",
     "output_type": "stream",
     "text": [
      "video32 16000 (2776, 768) (4625, 768)\n"
     ]
    },
    {
     "name": "stderr",
     "output_type": "stream",
     "text": [
      "\r",
      " 86%|████████▋ | 474/548 [2:11:34<35:00, 28.38s/it]"
     ]
    },
    {
     "name": "stdout",
     "output_type": "stream",
     "text": [
      "video33 16000 (7554, 768) (12589, 768)\n"
     ]
    },
    {
     "name": "stderr",
     "output_type": "stream",
     "text": [
      "\r",
      " 87%|████████▋ | 475/548 [2:12:24<42:20, 34.80s/it]"
     ]
    },
    {
     "name": "stdout",
     "output_type": "stream",
     "text": [
      "video34 16000 (10282, 768) (17136, 768)\n"
     ]
    },
    {
     "name": "stderr",
     "output_type": "stream",
     "text": [
      "\r",
      " 87%|████████▋ | 476/548 [2:12:33<32:22, 26.98s/it]"
     ]
    },
    {
     "name": "stdout",
     "output_type": "stream",
     "text": [
      "video35 16000 (3568, 768) (5945, 768)\n"
     ]
    },
    {
     "name": "stderr",
     "output_type": "stream",
     "text": [
      "\r",
      " 87%|████████▋ | 477/548 [2:12:38<24:09, 20.41s/it]"
     ]
    },
    {
     "name": "stdout",
     "output_type": "stream",
     "text": [
      "video36 16000 (2425, 768) (4040, 768)\n"
     ]
    },
    {
     "name": "stderr",
     "output_type": "stream",
     "text": [
      "\r",
      " 87%|████████▋ | 478/548 [2:13:21<31:35, 27.08s/it]"
     ]
    },
    {
     "name": "stdout",
     "output_type": "stream",
     "text": [
      "video37 16000 (9187, 768) (15311, 768)\n"
     ]
    },
    {
     "name": "stderr",
     "output_type": "stream",
     "text": [
      "\r",
      " 87%|████████▋ | 479/548 [2:13:27<23:52, 20.75s/it]"
     ]
    },
    {
     "name": "stdout",
     "output_type": "stream",
     "text": [
      "video38 16000 (2945, 768) (4907, 768)\n"
     ]
    },
    {
     "name": "stderr",
     "output_type": "stream",
     "text": [
      "\r",
      " 88%|████████▊ | 480/548 [2:14:24<36:01, 31.79s/it]"
     ]
    },
    {
     "name": "stdout",
     "output_type": "stream",
     "text": [
      "video39 16000 (10679, 768) (17797, 768)\n"
     ]
    },
    {
     "name": "stderr",
     "output_type": "stream",
     "text": [
      "\r",
      " 88%|████████▊ | 481/548 [2:14:26<25:35, 22.91s/it]"
     ]
    },
    {
     "name": "stdout",
     "output_type": "stream",
     "text": [
      "video4 16000 (1551, 768) (2584, 768)\n"
     ]
    },
    {
     "name": "stderr",
     "output_type": "stream",
     "text": [
      "\r",
      " 88%|████████▊ | 482/548 [2:14:46<24:01, 21.83s/it]"
     ]
    },
    {
     "name": "stdout",
     "output_type": "stream",
     "text": [
      "video40 16000 (5877, 768) (9793, 768)\n"
     ]
    },
    {
     "name": "stderr",
     "output_type": "stream",
     "text": [
      "\r",
      " 88%|████████▊ | 483/548 [2:14:54<19:14, 17.76s/it]"
     ]
    },
    {
     "name": "stdout",
     "output_type": "stream",
     "text": [
      "video41 16000 (3495, 768) (5830, 768)\n"
     ]
    },
    {
     "name": "stderr",
     "output_type": "stream",
     "text": [
      "\r",
      " 88%|████████▊ | 484/548 [2:15:33<25:44, 24.13s/it]"
     ]
    },
    {
     "name": "stdout",
     "output_type": "stream",
     "text": [
      "video42 16000 (9227, 768) (15377, 768)\n"
     ]
    },
    {
     "name": "stderr",
     "output_type": "stream",
     "text": [
      "\r",
      " 89%|████████▊ | 485/548 [2:16:04<27:35, 26.27s/it]"
     ]
    },
    {
     "name": "stdout",
     "output_type": "stream",
     "text": [
      "video44 16000 (7786, 768) (12976, 768)\n"
     ]
    },
    {
     "name": "stderr",
     "output_type": "stream",
     "text": [
      "\r",
      " 89%|████████▊ | 486/548 [2:16:05<19:16, 18.65s/it]"
     ]
    },
    {
     "name": "stdout",
     "output_type": "stream",
     "text": [
      "video45_1 16000 (813, 768) (1354, 768)\n"
     ]
    },
    {
     "name": "stderr",
     "output_type": "stream",
     "text": [
      "\r",
      " 89%|████████▉ | 487/548 [2:16:06<13:39, 13.43s/it]"
     ]
    },
    {
     "name": "stdout",
     "output_type": "stream",
     "text": [
      "video45_2 16000 (1096, 768) (1824, 768)\n"
     ]
    },
    {
     "name": "stderr",
     "output_type": "stream",
     "text": [
      "\r",
      " 89%|████████▉ | 488/548 [2:16:07<09:28,  9.48s/it]"
     ]
    },
    {
     "name": "stdout",
     "output_type": "stream",
     "text": [
      "video45_3 16000 (295, 768) (490, 768)\n"
     ]
    },
    {
     "name": "stderr",
     "output_type": "stream",
     "text": [
      "\r",
      " 89%|████████▉ | 489/548 [2:16:08<06:51,  6.98s/it]"
     ]
    },
    {
     "name": "stdout",
     "output_type": "stream",
     "text": [
      "video45_4 16000 (1039, 768) (1730, 768)\n"
     ]
    },
    {
     "name": "stderr",
     "output_type": "stream",
     "text": [
      "\r",
      " 89%|████████▉ | 490/548 [2:16:08<04:49,  4.99s/it]"
     ]
    },
    {
     "name": "stdout",
     "output_type": "stream",
     "text": [
      "video45_5 16000 (415, 768) (691, 768)\n"
     ]
    },
    {
     "name": "stderr",
     "output_type": "stream",
     "text": [
      " 90%|████████▉ | 492/548 [2:16:09<02:23,  2.56s/it]"
     ]
    },
    {
     "name": "stdout",
     "output_type": "stream",
     "text": [
      "video45_6 16000 (309, 768) (514, 768)\n",
      "video45_7 16000 (180, 768) (299, 768)\n"
     ]
    },
    {
     "name": "stderr",
     "output_type": "stream",
     "text": [
      "\r",
      " 90%|████████▉ | 493/548 [2:16:16<03:39,  3.99s/it]"
     ]
    },
    {
     "name": "stdout",
     "output_type": "stream",
     "text": [
      "video46 16000 (3173, 768) (5292, 768)\n"
     ]
    },
    {
     "name": "stderr",
     "output_type": "stream",
     "text": [
      "\r",
      " 90%|█████████ | 494/548 [2:16:17<02:44,  3.05s/it]"
     ]
    },
    {
     "name": "stdout",
     "output_type": "stream",
     "text": [
      "video47 16000 (821, 768) (1367, 768)\n"
     ]
    },
    {
     "name": "stderr",
     "output_type": "stream",
     "text": [
      "\r",
      " 90%|█████████ | 495/548 [2:16:22<03:09,  3.58s/it]"
     ]
    },
    {
     "name": "stdout",
     "output_type": "stream",
     "text": [
      "video48 16000 (2543, 768) (4237, 768)\n"
     ]
    },
    {
     "name": "stderr",
     "output_type": "stream",
     "text": [
      "\r",
      " 91%|█████████ | 496/548 [2:16:42<07:22,  8.50s/it]"
     ]
    },
    {
     "name": "stdout",
     "output_type": "stream",
     "text": [
      "video49 16000 (6122, 768) (10211, 768)\n"
     ]
    },
    {
     "name": "stderr",
     "output_type": "stream",
     "text": [
      "\r",
      " 91%|█████████ | 497/548 [2:16:46<06:14,  7.35s/it]"
     ]
    },
    {
     "name": "stdout",
     "output_type": "stream",
     "text": [
      "video5 16000 (2469, 768) (4113, 768)\n"
     ]
    },
    {
     "name": "stderr",
     "output_type": "stream",
     "text": [
      "\r",
      " 91%|█████████ | 498/548 [2:16:59<07:22,  8.85s/it]"
     ]
    },
    {
     "name": "stdout",
     "output_type": "stream",
     "text": [
      "video51 16000 (4408, 768) (7345, 768)\n"
     ]
    },
    {
     "name": "stderr",
     "output_type": "stream",
     "text": [
      "\r",
      " 91%|█████████ | 499/548 [2:17:57<19:27, 23.82s/it]"
     ]
    },
    {
     "name": "stdout",
     "output_type": "stream",
     "text": [
      "video52 16000 (10680, 768) (17800, 768)\n"
     ]
    },
    {
     "name": "stderr",
     "output_type": "stream",
     "text": [
      "\r",
      " 91%|█████████ | 500/548 [2:18:30<21:09, 26.45s/it]"
     ]
    },
    {
     "name": "stdout",
     "output_type": "stream",
     "text": [
      "video53 16000 (7980, 768) (13300, 768)\n"
     ]
    },
    {
     "name": "stderr",
     "output_type": "stream",
     "text": [
      "\r",
      " 91%|█████████▏| 501/548 [2:18:39<16:38, 21.24s/it]"
     ]
    },
    {
     "name": "stdout",
     "output_type": "stream",
     "text": [
      "video54 16000 (3592, 768) (5985, 768)\n"
     ]
    },
    {
     "name": "stderr",
     "output_type": "stream",
     "text": [
      "\r",
      " 92%|█████████▏| 502/548 [2:19:16<19:51, 25.90s/it]"
     ]
    },
    {
     "name": "stdout",
     "output_type": "stream",
     "text": [
      "video55 16000 (8420, 768) (14032, 768)\n"
     ]
    },
    {
     "name": "stderr",
     "output_type": "stream",
     "text": [
      "\r",
      " 92%|█████████▏| 503/548 [2:20:17<27:16, 36.37s/it]"
     ]
    },
    {
     "name": "stdout",
     "output_type": "stream",
     "text": [
      "video56 16000 (10696, 768) (17825, 768)\n"
     ]
    },
    {
     "name": "stderr",
     "output_type": "stream",
     "text": [
      "\r",
      " 92%|█████████▏| 504/548 [2:20:57<27:31, 37.53s/it]"
     ]
    },
    {
     "name": "stdout",
     "output_type": "stream",
     "text": [
      "video57 16000 (8380, 768) (13965, 768)\n"
     ]
    },
    {
     "name": "stderr",
     "output_type": "stream",
     "text": [
      "\r",
      " 92%|█████████▏| 505/548 [2:20:57<18:53, 26.36s/it]"
     ]
    },
    {
     "name": "stdout",
     "output_type": "stream",
     "text": [
      "video58 16000 (304, 768) (507, 768)\n"
     ]
    },
    {
     "name": "stderr",
     "output_type": "stream",
     "text": [
      "\r",
      " 92%|█████████▏| 506/548 [2:21:20<17:36, 25.16s/it]"
     ]
    },
    {
     "name": "stdout",
     "output_type": "stream",
     "text": [
      "video59 16000 (6703, 768) (11172, 768)\n"
     ]
    },
    {
     "name": "stderr",
     "output_type": "stream",
     "text": [
      "\r",
      " 93%|█████████▎| 507/548 [2:21:35<15:07, 22.13s/it]"
     ]
    },
    {
     "name": "stdout",
     "output_type": "stream",
     "text": [
      "video6 16000 (5325, 768) (8874, 768)\n"
     ]
    },
    {
     "name": "stderr",
     "output_type": "stream",
     "text": [
      " 93%|█████████▎| 509/548 [2:21:38<07:31, 11.56s/it]"
     ]
    },
    {
     "name": "stdout",
     "output_type": "stream",
     "text": [
      "video60 16000 (1920, 768) (3199, 768)\n",
      "video61 16000 (117, 768) (194, 768)\n"
     ]
    },
    {
     "name": "stderr",
     "output_type": "stream",
     "text": [
      "\r",
      " 93%|█████████▎| 510/548 [2:21:54<08:06, 12.79s/it]"
     ]
    },
    {
     "name": "stdout",
     "output_type": "stream",
     "text": [
      "video62 16000 (5580, 768) (9299, 768)\n"
     ]
    },
    {
     "name": "stderr",
     "output_type": "stream",
     "text": [
      "\r",
      " 93%|█████████▎| 511/548 [2:21:54<05:34,  9.04s/it]"
     ]
    },
    {
     "name": "stdout",
     "output_type": "stream",
     "text": [
      "video63 16000 (275, 768) (458, 768)\n"
     ]
    },
    {
     "name": "stderr",
     "output_type": "stream",
     "text": [
      "\r",
      " 93%|█████████▎| 512/548 [2:22:13<07:09, 11.93s/it]"
     ]
    },
    {
     "name": "stdout",
     "output_type": "stream",
     "text": [
      "video64 16000 (6101, 768) (10184, 768)\n"
     ]
    },
    {
     "name": "stderr",
     "output_type": "stream",
     "text": [
      " 94%|█████████▍| 514/548 [2:22:24<04:43,  8.34s/it]"
     ]
    },
    {
     "name": "stdout",
     "output_type": "stream",
     "text": [
      "video65 16000 (4572, 768) (7619, 768)\n",
      "video66 16000 (155, 768) (257, 768)\n"
     ]
    },
    {
     "name": "stderr",
     "output_type": "stream",
     "text": [
      "\r",
      " 94%|█████████▍| 515/548 [2:22:27<03:42,  6.73s/it]"
     ]
    },
    {
     "name": "stdout",
     "output_type": "stream",
     "text": [
      "video67 16000 (1850, 768) (3082, 768)\n"
     ]
    },
    {
     "name": "stderr",
     "output_type": "stream",
     "text": [
      "\r",
      " 94%|█████████▍| 516/548 [2:23:01<07:55, 14.85s/it]"
     ]
    },
    {
     "name": "stdout",
     "output_type": "stream",
     "text": [
      "video69 16000 (8623, 768) (14370, 768)\n"
     ]
    },
    {
     "name": "stderr",
     "output_type": "stream",
     "text": [
      "\r",
      " 94%|█████████▍| 517/548 [2:23:09<06:34, 12.73s/it]"
     ]
    },
    {
     "name": "stdout",
     "output_type": "stream",
     "text": [
      "video7 16000 (3378, 768) (5628, 768)\n"
     ]
    },
    {
     "name": "stderr",
     "output_type": "stream",
     "text": [
      "\r",
      " 95%|█████████▍| 518/548 [2:24:05<12:47, 25.59s/it]"
     ]
    },
    {
     "name": "stdout",
     "output_type": "stream",
     "text": [
      "video70 16000 (11869, 768) (19781, 768)\n"
     ]
    },
    {
     "name": "stderr",
     "output_type": "stream",
     "text": [
      " 95%|█████████▍| 520/548 [2:24:58<11:08, 23.88s/it]"
     ]
    },
    {
     "name": "stdout",
     "output_type": "stream",
     "text": [
      "video71 16000 (11205, 768) (18673, 768)\n",
      "video72 16000 (129, 768) (213, 768)\n"
     ]
    },
    {
     "name": "stderr",
     "output_type": "stream",
     "text": [
      "\r",
      " 95%|█████████▌| 521/548 [2:25:18<10:11, 22.65s/it]"
     ]
    },
    {
     "name": "stdout",
     "output_type": "stream",
     "text": [
      "video73 16000 (5952, 768) (9919, 768)\n"
     ]
    },
    {
     "name": "stderr",
     "output_type": "stream",
     "text": [
      "\r",
      " 95%|█████████▌| 522/548 [2:26:36<16:56, 39.09s/it]"
     ]
    },
    {
     "name": "stdout",
     "output_type": "stream",
     "text": [
      "video74 16000 (18190, 768) (30313, 768)\n"
     ]
    },
    {
     "name": "stderr",
     "output_type": "stream",
     "text": [
      "\r",
      " 95%|█████████▌| 523/548 [2:26:36<11:29, 27.57s/it]"
     ]
    },
    {
     "name": "stdout",
     "output_type": "stream",
     "text": [
      "video75 16000 (641, 768) (1065, 768)\n"
     ]
    },
    {
     "name": "stderr",
     "output_type": "stream",
     "text": [
      "\r",
      " 96%|█████████▌| 524/548 [2:26:47<09:01, 22.57s/it]"
     ]
    },
    {
     "name": "stdout",
     "output_type": "stream",
     "text": [
      "video76 16000 (4275, 768) (7122, 768)\n"
     ]
    },
    {
     "name": "stderr",
     "output_type": "stream",
     "text": [
      "\r",
      " 96%|█████████▌| 525/548 [2:26:54<06:48, 17.75s/it]"
     ]
    },
    {
     "name": "stdout",
     "output_type": "stream",
     "text": [
      "video77 16000 (3005, 768) (5005, 768)\n"
     ]
    },
    {
     "name": "stderr",
     "output_type": "stream",
     "text": [
      "\r",
      " 96%|█████████▌| 526/548 [2:26:54<04:35, 12.54s/it]"
     ]
    },
    {
     "name": "stdout",
     "output_type": "stream",
     "text": [
      "video78 16000 (420, 768) (697, 768)\n"
     ]
    },
    {
     "name": "stderr",
     "output_type": "stream",
     "text": [
      "\r",
      " 96%|█████████▌| 527/548 [2:27:04<04:05, 11.70s/it]"
     ]
    },
    {
     "name": "stdout",
     "output_type": "stream",
     "text": [
      "video79 16000 (4098, 768) (6827, 768)\n"
     ]
    },
    {
     "name": "stderr",
     "output_type": "stream",
     "text": [
      "\r",
      " 96%|█████████▋| 528/548 [2:27:20<04:18, 12.93s/it]"
     ]
    },
    {
     "name": "stdout",
     "output_type": "stream",
     "text": [
      "video8 16000 (5368, 768) (8946, 768)\n"
     ]
    },
    {
     "name": "stderr",
     "output_type": "stream",
     "text": [
      "\r",
      " 97%|█████████▋| 529/548 [2:27:20<02:53,  9.16s/it]"
     ]
    },
    {
     "name": "stdout",
     "output_type": "stream",
     "text": [
      "video80 16000 (420, 768) (697, 768)\n"
     ]
    },
    {
     "name": "stderr",
     "output_type": "stream",
     "text": [
      "\r",
      " 97%|█████████▋| 530/548 [2:27:55<05:01, 16.76s/it]"
     ]
    },
    {
     "name": "stdout",
     "output_type": "stream",
     "text": [
      "video81 16000 (8434, 768) (14070, 768)\n"
     ]
    },
    {
     "name": "stderr",
     "output_type": "stream",
     "text": [
      "\r",
      " 97%|█████████▋| 531/548 [2:28:49<07:56, 28.02s/it]"
     ]
    },
    {
     "name": "stdout",
     "output_type": "stream",
     "text": [
      "video82 16000 (10672, 768) (17783, 768)\n"
     ]
    },
    {
     "name": "stderr",
     "output_type": "stream",
     "text": [
      "\r",
      " 97%|█████████▋| 532/548 [2:28:54<05:40, 21.29s/it]"
     ]
    },
    {
     "name": "stdout",
     "output_type": "stream",
     "text": [
      "video83 16000 (2703, 768) (4502, 768)\n"
     ]
    },
    {
     "name": "stderr",
     "output_type": "stream",
     "text": [
      "\r",
      " 97%|█████████▋| 533/548 [2:28:55<03:45, 15.04s/it]"
     ]
    },
    {
     "name": "stdout",
     "output_type": "stream",
     "text": [
      "video84 16000 (526, 768) (873, 768)\n"
     ]
    },
    {
     "name": "stderr",
     "output_type": "stream",
     "text": [
      "\r",
      " 97%|█████████▋| 534/548 [2:29:30<04:54, 21.01s/it]"
     ]
    },
    {
     "name": "stdout",
     "output_type": "stream",
     "text": [
      "video85 16000 (7947, 768) (13242, 768)\n"
     ]
    },
    {
     "name": "stderr",
     "output_type": "stream",
     "text": [
      "\r",
      " 98%|█████████▊| 535/548 [2:29:33<03:22, 15.56s/it]"
     ]
    },
    {
     "name": "stdout",
     "output_type": "stream",
     "text": [
      "video86_1 16000 (1772, 768) (2951, 768)\n"
     ]
    },
    {
     "name": "stderr",
     "output_type": "stream",
     "text": [
      "\r",
      " 98%|█████████▊| 536/548 [2:29:34<02:14, 11.21s/it]"
     ]
    },
    {
     "name": "stdout",
     "output_type": "stream",
     "text": [
      "video86_2 16000 (887, 768) (1475, 768)\n"
     ]
    },
    {
     "name": "stderr",
     "output_type": "stream",
     "text": [
      "\r",
      " 98%|█████████▊| 537/548 [2:29:34<01:27,  7.95s/it]"
     ]
    },
    {
     "name": "stdout",
     "output_type": "stream",
     "text": [
      "video86_3 16000 (403, 768) (669, 768)\n"
     ]
    },
    {
     "name": "stderr",
     "output_type": "stream",
     "text": [
      "\r",
      " 98%|█████████▊| 538/548 [2:29:37<01:03,  6.37s/it]"
     ]
    },
    {
     "name": "stdout",
     "output_type": "stream",
     "text": [
      "video87 16000 (1823, 768) (3035, 768)\n"
     ]
    },
    {
     "name": "stderr",
     "output_type": "stream",
     "text": [
      "\r",
      " 98%|█████████▊| 539/548 [2:30:18<02:30, 16.76s/it]"
     ]
    },
    {
     "name": "stdout",
     "output_type": "stream",
     "text": [
      "video88 16000 (8851, 768) (14749, 768)\n"
     ]
    },
    {
     "name": "stderr",
     "output_type": "stream",
     "text": [
      "\r",
      " 99%|█████████▊| 540/548 [2:30:22<01:43, 12.93s/it]"
     ]
    },
    {
     "name": "stdout",
     "output_type": "stream",
     "text": [
      "video89 16000 (2242, 768) (3734, 768)\n"
     ]
    },
    {
     "name": "stderr",
     "output_type": "stream",
     "text": [
      "\r",
      " 99%|█████████▊| 541/548 [2:30:30<01:21, 11.57s/it]"
     ]
    },
    {
     "name": "stdout",
     "output_type": "stream",
     "text": [
      "video9 16000 (3795, 768) (6323, 768)\n"
     ]
    },
    {
     "name": "stderr",
     "output_type": "stream",
     "text": [
      "\r",
      " 99%|█████████▉| 542/548 [2:30:38<01:02, 10.42s/it]"
     ]
    },
    {
     "name": "stdout",
     "output_type": "stream",
     "text": [
      "video90 16000 (3571, 768) (5948, 768)\n"
     ]
    },
    {
     "name": "stderr",
     "output_type": "stream",
     "text": [
      "\r",
      " 99%|█████████▉| 543/548 [2:30:39<00:37,  7.53s/it]"
     ]
    },
    {
     "name": "stdout",
     "output_type": "stream",
     "text": [
      "video91 16000 (711, 768) (1182, 768)\n"
     ]
    },
    {
     "name": "stderr",
     "output_type": "stream",
     "text": [
      "\r",
      " 99%|█████████▉| 544/548 [2:30:44<00:27,  6.76s/it]"
     ]
    },
    {
     "name": "stdout",
     "output_type": "stream",
     "text": [
      "video92 16000 (2554, 768) (4253, 768)\n"
     ]
    },
    {
     "name": "stderr",
     "output_type": "stream",
     "text": [
      "\r",
      " 99%|█████████▉| 545/548 [2:30:44<00:14,  4.85s/it]"
     ]
    },
    {
     "name": "stdout",
     "output_type": "stream",
     "text": [
      "video93 16000 (444, 768) (742, 768)\n"
     ]
    },
    {
     "name": "stderr",
     "output_type": "stream",
     "text": [
      "\r",
      "100%|█████████▉| 546/548 [2:30:45<00:07,  3.60s/it]"
     ]
    },
    {
     "name": "stdout",
     "output_type": "stream",
     "text": [
      "video94 16000 (697, 768) (1159, 768)\n"
     ]
    },
    {
     "name": "stderr",
     "output_type": "stream",
     "text": [
      "\r",
      "100%|█████████▉| 547/548 [2:31:39<00:18, 18.74s/it]"
     ]
    },
    {
     "name": "stdout",
     "output_type": "stream",
     "text": [
      "video95 16000 (10856, 768) (18089, 768)\n"
     ]
    },
    {
     "name": "stderr",
     "output_type": "stream",
     "text": [
      "100%|██████████| 548/548 [2:32:11<00:00, 16.66s/it]"
     ]
    },
    {
     "name": "stdout",
     "output_type": "stream",
     "text": [
      "video96 16000 (8047, 768) (13409, 768)\n"
     ]
    },
    {
     "name": "stderr",
     "output_type": "stream",
     "text": [
      "\n"
     ]
    }
   ],
   "source": [
    "import librosa\n",
    "\n",
    "AUDIO_DIR=DATA_DIR+'/../../audios'\n",
    "videoname2audiofeatures={}\n",
    "for filename in tqdm(sorted(os.listdir(AUDIO_DIR))):\n",
    "    videoname,_=os.path.splitext(filename)\n",
    "    filepath=os.path.join(AUDIO_DIR,filename)\n",
    "    fs=librosa.get_samplerate(filepath)\n",
    "    stream = librosa.stream(\n",
    "        filepath,\n",
    "        block_length=360,\n",
    "        frame_length=16000,\n",
    "        hop_length=16000\n",
    "    )\n",
    "    total_outputs=None\n",
    "    for speech in stream:\n",
    "        if len(speech.shape) > 1:\n",
    "            speech = speech[:, 0] + speech[:, 1]\n",
    "\n",
    "        inp = processor(speech, sampling_rate=16000, return_tensors=\"pt\")\n",
    "        with torch.no_grad():\n",
    "            outputs = model(**inp)\n",
    "        outputs=outputs.last_hidden_state.numpy()[0]\n",
    "        if total_outputs is None:\n",
    "            total_outputs=outputs\n",
    "        else:\n",
    "            total_outputs=np.concatenate((total_outputs,outputs),axis=0)\n",
    "    frames_count=video2len[videoname]\n",
    "    audio_scale=len(total_outputs)/frames_count\n",
    "    audio_features=np.zeros((frames_count,total_outputs.shape[1]))\n",
    "    for frame_number in range(frames_count):\n",
    "        ind=int(frame_number*audio_scale)\n",
    "        audio_features[frame_number]=total_outputs[ind]\n",
    "    \n",
    "    videoname2audiofeatures[videoname]=audio_features\n",
    "    print(videoname,fs,videoname2audiofeatures[videoname].shape,total_outputs.shape)"
   ]
  },
  {
   "cell_type": "code",
   "execution_count": 8,
   "metadata": {},
   "outputs": [
    {
     "name": "stderr",
     "output_type": "stream",
     "text": [
      "  2%|▏         | 1/50 [00:40<32:42, 40.04s/it]"
     ]
    },
    {
     "name": "stdout",
     "output_type": "stream",
     "text": [
      "451 16000 (9125, 768) (15222, 768)\n"
     ]
    },
    {
     "name": "stderr",
     "output_type": "stream",
     "text": [
      "\r",
      "  4%|▍         | 2/50 [01:18<31:31, 39.40s/it]"
     ]
    },
    {
     "name": "stdout",
     "output_type": "stream",
     "text": [
      "452 16000 (11545, 768) (19260, 768)\n"
     ]
    },
    {
     "name": "stderr",
     "output_type": "stream",
     "text": [
      "\r",
      "  6%|▌         | 3/50 [01:35<22:39, 28.93s/it]"
     ]
    },
    {
     "name": "stdout",
     "output_type": "stream",
     "text": [
      "453 16000 (4946, 768) (9892, 768)\n"
     ]
    },
    {
     "name": "stderr",
     "output_type": "stream",
     "text": [
      "\r",
      "  8%|▊         | 4/50 [03:17<44:11, 57.64s/it]"
     ]
    },
    {
     "name": "stdout",
     "output_type": "stream",
     "text": [
      "454 16000 (27789, 768) (46310, 768)\n"
     ]
    },
    {
     "name": "stderr",
     "output_type": "stream",
     "text": [
      "\r",
      " 10%|█         | 5/50 [03:17<27:47, 37.05s/it]"
     ]
    },
    {
     "name": "stdout",
     "output_type": "stream",
     "text": [
      "455 16000 (779, 768) (1300, 768)\n"
     ]
    },
    {
     "name": "stderr",
     "output_type": "stream",
     "text": [
      "\r",
      " 12%|█▏        | 6/50 [03:45<24:56, 34.00s/it]"
     ]
    },
    {
     "name": "stdout",
     "output_type": "stream",
     "text": [
      "456 16000 (6303, 768) (13516, 768)\n"
     ]
    },
    {
     "name": "stderr",
     "output_type": "stream",
     "text": [
      "\r",
      " 14%|█▍        | 7/50 [04:37<28:35, 39.90s/it]"
     ]
    },
    {
     "name": "stdout",
     "output_type": "stream",
     "text": [
      "457 16000 (14957, 768) (24953, 768)\n"
     ]
    },
    {
     "name": "stderr",
     "output_type": "stream",
     "text": [
      "\r",
      " 16%|█▌        | 8/50 [06:00<37:33, 53.66s/it]"
     ]
    },
    {
     "name": "stdout",
     "output_type": "stream",
     "text": [
      "458 16000 (23633, 768) (39426, 768)\n"
     ]
    },
    {
     "name": "stderr",
     "output_type": "stream",
     "text": [
      "\r",
      " 18%|█▊        | 9/50 [06:10<27:15, 39.90s/it]"
     ]
    },
    {
     "name": "stdout",
     "output_type": "stream",
     "text": [
      "459 16000 (3686, 768) (7372, 768)\n"
     ]
    },
    {
     "name": "stderr",
     "output_type": "stream",
     "text": [
      "\r",
      " 20%|██        | 10/50 [06:48<26:08, 39.21s/it]"
     ]
    },
    {
     "name": "stdout",
     "output_type": "stream",
     "text": [
      "460 16000 (9766, 768) (16274, 768)\n"
     ]
    },
    {
     "name": "stderr",
     "output_type": "stream",
     "text": [
      "\r",
      " 22%|██▏       | 11/50 [07:15<23:09, 35.63s/it]"
     ]
    },
    {
     "name": "stdout",
     "output_type": "stream",
     "text": [
      "461 16000 (7677, 768) (12965, 768)\n"
     ]
    },
    {
     "name": "stderr",
     "output_type": "stream",
     "text": [
      "\r",
      " 24%|██▍       | 12/50 [07:30<18:31, 29.25s/it]"
     ]
    },
    {
     "name": "stdout",
     "output_type": "stream",
     "text": [
      "462 16000 (3758, 768) (8974, 768)\n"
     ]
    },
    {
     "name": "stderr",
     "output_type": "stream",
     "text": [
      "\r",
      " 26%|██▌       | 13/50 [08:47<27:02, 43.86s/it]"
     ]
    },
    {
     "name": "stdout",
     "output_type": "stream",
     "text": [
      "463 16000 (22511, 768) (37517, 768)\n"
     ]
    },
    {
     "name": "stderr",
     "output_type": "stream",
     "text": [
      "\r",
      " 28%|██▊       | 14/50 [09:36<27:16, 45.45s/it]"
     ]
    },
    {
     "name": "stdout",
     "output_type": "stream",
     "text": [
      "464 16000 (14578, 768) (24320, 768)\n"
     ]
    },
    {
     "name": "stderr",
     "output_type": "stream",
     "text": [
      "\r",
      " 30%|███       | 15/50 [11:06<34:15, 58.74s/it]"
     ]
    },
    {
     "name": "stdout",
     "output_type": "stream",
     "text": [
      "465 16000 (25064, 768) (41771, 768)\n"
     ]
    },
    {
     "name": "stderr",
     "output_type": "stream",
     "text": [
      "\r",
      " 32%|███▏      | 16/50 [12:26<36:58, 65.26s/it]"
     ]
    },
    {
     "name": "stdout",
     "output_type": "stream",
     "text": [
      "466 16000 (22919, 768) (38196, 768)\n"
     ]
    },
    {
     "name": "stderr",
     "output_type": "stream",
     "text": [
      "\r",
      " 34%|███▍      | 17/50 [13:17<33:31, 60.96s/it]"
     ]
    },
    {
     "name": "stdout",
     "output_type": "stream",
     "text": [
      "467 16000 (15186, 768) (25307, 768)\n"
     ]
    },
    {
     "name": "stderr",
     "output_type": "stream",
     "text": [
      "\r",
      " 36%|███▌      | 18/50 [14:00<29:31, 55.36s/it]"
     ]
    },
    {
     "name": "stdout",
     "output_type": "stream",
     "text": [
      "468 16000 (10229, 768) (20455, 768)\n"
     ]
    },
    {
     "name": "stderr",
     "output_type": "stream",
     "text": [
      "\r",
      " 38%|███▊      | 19/50 [15:18<32:12, 62.33s/it]"
     ]
    },
    {
     "name": "stdout",
     "output_type": "stream",
     "text": [
      "469 16000 (18249, 768) (36494, 768)\n"
     ]
    },
    {
     "name": "stderr",
     "output_type": "stream",
     "text": [
      "\r",
      " 40%|████      | 20/50 [15:55<27:18, 54.60s/it]"
     ]
    },
    {
     "name": "stdout",
     "output_type": "stream",
     "text": [
      "470 16000 (9102, 768) (18203, 768)\n"
     ]
    },
    {
     "name": "stderr",
     "output_type": "stream",
     "text": [
      "\r",
      " 42%|████▏     | 21/50 [16:10<20:43, 42.87s/it]"
     ]
    },
    {
     "name": "stdout",
     "output_type": "stream",
     "text": [
      "471 16000 (5934, 768) (9900, 768)\n"
     ]
    },
    {
     "name": "stderr",
     "output_type": "stream",
     "text": [
      "\r",
      " 44%|████▍     | 22/50 [16:44<18:42, 40.09s/it]"
     ]
    },
    {
     "name": "stdout",
     "output_type": "stream",
     "text": [
      "472 16000 (9750, 768) (16266, 768)\n"
     ]
    },
    {
     "name": "stderr",
     "output_type": "stream",
     "text": [
      "\r",
      " 46%|████▌     | 23/50 [17:19<17:23, 38.65s/it]"
     ]
    },
    {
     "name": "stdout",
     "output_type": "stream",
     "text": [
      "473 16000 (10352, 768) (17270, 768)\n"
     ]
    },
    {
     "name": "stderr",
     "output_type": "stream",
     "text": [
      "\r",
      " 48%|████▊     | 24/50 [17:49<15:36, 36.02s/it]"
     ]
    },
    {
     "name": "stdout",
     "output_type": "stream",
     "text": [
      "474 16000 (7953, 768) (13255, 768)\n"
     ]
    },
    {
     "name": "stderr",
     "output_type": "stream",
     "text": [
      "\r",
      " 50%|█████     | 25/50 [18:23<14:43, 35.35s/it]"
     ]
    },
    {
     "name": "stdout",
     "output_type": "stream",
     "text": [
      "475 16000 (9559, 768) (15947, 768)\n"
     ]
    },
    {
     "name": "stderr",
     "output_type": "stream",
     "text": [
      "\r",
      " 52%|█████▏    | 26/50 [18:52<13:21, 33.41s/it]"
     ]
    },
    {
     "name": "stdout",
     "output_type": "stream",
     "text": [
      "476 16000 (8260, 768) (13780, 768)\n"
     ]
    },
    {
     "name": "stderr",
     "output_type": "stream",
     "text": [
      "\r",
      " 54%|█████▍    | 27/50 [19:25<12:47, 33.38s/it]"
     ]
    },
    {
     "name": "stdout",
     "output_type": "stream",
     "text": [
      "477 16000 (8236, 768) (16471, 768)\n"
     ]
    },
    {
     "name": "stderr",
     "output_type": "stream",
     "text": [
      "\r",
      " 56%|█████▌    | 28/50 [19:59<12:14, 33.38s/it]"
     ]
    },
    {
     "name": "stdout",
     "output_type": "stream",
     "text": [
      "478 16000 (10190, 768) (17000, 768)\n"
     ]
    },
    {
     "name": "stderr",
     "output_type": "stream",
     "text": [
      "\r",
      " 58%|█████▊    | 29/50 [20:21<10:31, 30.08s/it]"
     ]
    },
    {
     "name": "stdout",
     "output_type": "stream",
     "text": [
      "479 16000 (6080, 768) (12159, 768)\n"
     ]
    },
    {
     "name": "stderr",
     "output_type": "stream",
     "text": [
      "\r",
      " 60%|██████    | 30/50 [20:33<08:10, 24.54s/it]"
     ]
    },
    {
     "name": "stdout",
     "output_type": "stream",
     "text": [
      "480 16000 (4809, 768) (8023, 768)\n"
     ]
    },
    {
     "name": "stderr",
     "output_type": "stream",
     "text": [
      "\r",
      " 62%|██████▏   | 31/50 [20:44<06:29, 20.49s/it]"
     ]
    },
    {
     "name": "stdout",
     "output_type": "stream",
     "text": [
      "481 16000 (4701, 768) (7835, 768)\n"
     ]
    },
    {
     "name": "stderr",
     "output_type": "stream",
     "text": [
      "\r",
      " 64%|██████▍   | 32/50 [21:02<05:55, 19.78s/it]"
     ]
    },
    {
     "name": "stdout",
     "output_type": "stream",
     "text": [
      "482 16000 (6331, 768) (10551, 768)\n"
     ]
    },
    {
     "name": "stderr",
     "output_type": "stream",
     "text": [
      "\r",
      " 66%|██████▌   | 33/50 [21:51<08:04, 28.50s/it]"
     ]
    },
    {
     "name": "stdout",
     "output_type": "stream",
     "text": [
      "483 16000 (14632, 768) (24408, 768)\n"
     ]
    },
    {
     "name": "stderr",
     "output_type": "stream",
     "text": [
      "\r",
      " 68%|██████▊   | 34/50 [21:57<05:50, 21.91s/it]"
     ]
    },
    {
     "name": "stdout",
     "output_type": "stream",
     "text": [
      "484 16000 (3596, 768) (5993, 768)\n"
     ]
    },
    {
     "name": "stderr",
     "output_type": "stream",
     "text": [
      "\r",
      " 70%|███████   | 35/50 [22:29<06:15, 25.06s/it]"
     ]
    },
    {
     "name": "stdout",
     "output_type": "stream",
     "text": [
      "485 16000 (9481, 768) (15817, 768)\n"
     ]
    },
    {
     "name": "stderr",
     "output_type": "stream",
     "text": [
      "\r",
      " 72%|███████▏  | 36/50 [23:39<08:59, 38.52s/it]"
     ]
    },
    {
     "name": "stdout",
     "output_type": "stream",
     "text": [
      "486 16000 (20200, 768) (33699, 768)\n"
     ]
    },
    {
     "name": "stderr",
     "output_type": "stream",
     "text": [
      "\r",
      " 74%|███████▍  | 37/50 [24:16<08:14, 38.01s/it]"
     ]
    },
    {
     "name": "stdout",
     "output_type": "stream",
     "text": [
      "487 16000 (11919, 768) (19884, 768)\n"
     ]
    },
    {
     "name": "stderr",
     "output_type": "stream",
     "text": [
      "\r",
      " 76%|███████▌  | 38/50 [24:40<06:44, 33.75s/it]"
     ]
    },
    {
     "name": "stdout",
     "output_type": "stream",
     "text": [
      "488 16000 (6017, 768) (12547, 768)\n"
     ]
    },
    {
     "name": "stderr",
     "output_type": "stream",
     "text": [
      "\r",
      " 78%|███████▊  | 39/50 [25:18<06:25, 35.01s/it]"
     ]
    },
    {
     "name": "stdout",
     "output_type": "stream",
     "text": [
      "489 16000 (11980, 768) (19986, 768)\n"
     ]
    },
    {
     "name": "stderr",
     "output_type": "stream",
     "text": [
      "\r",
      " 80%|████████  | 40/50 [25:40<05:10, 31.05s/it]"
     ]
    },
    {
     "name": "stdout",
     "output_type": "stream",
     "text": [
      "490 16000 (7312, 768) (12187, 768)\n"
     ]
    },
    {
     "name": "stderr",
     "output_type": "stream",
     "text": [
      "\r",
      " 82%|████████▏ | 41/50 [26:14<04:46, 31.87s/it]"
     ]
    },
    {
     "name": "stdout",
     "output_type": "stream",
     "text": [
      "491 16000 (10212, 768) (17037, 768)\n"
     ]
    },
    {
     "name": "stderr",
     "output_type": "stream",
     "text": [
      "\r",
      " 84%|████████▍ | 42/50 [26:16<03:04, 23.07s/it]"
     ]
    },
    {
     "name": "stdout",
     "output_type": "stream",
     "text": [
      "492 16000 (510, 768) (3054, 768)\n"
     ]
    },
    {
     "name": "stderr",
     "output_type": "stream",
     "text": [
      "\r",
      " 86%|████████▌ | 43/50 [26:25<02:11, 18.84s/it]"
     ]
    },
    {
     "name": "stdout",
     "output_type": "stream",
     "text": [
      "493 16000 (871, 768) (7252, 768)\n"
     ]
    },
    {
     "name": "stderr",
     "output_type": "stream",
     "text": [
      "\r",
      " 88%|████████▊ | 44/50 [26:29<01:26, 14.45s/it]"
     ]
    },
    {
     "name": "stdout",
     "output_type": "stream",
     "text": [
      "494 16000 (1700, 768) (4265, 768)\n"
     ]
    },
    {
     "name": "stderr",
     "output_type": "stream",
     "text": [
      "\r",
      " 90%|█████████ | 45/50 [26:36<01:00, 12.16s/it]"
     ]
    },
    {
     "name": "stdout",
     "output_type": "stream",
     "text": [
      "495 16000 (2907, 768) (6062, 768)\n"
     ]
    },
    {
     "name": "stderr",
     "output_type": "stream",
     "text": [
      "\r",
      " 92%|█████████▏| 46/50 [27:00<01:02, 15.70s/it]"
     ]
    },
    {
     "name": "stdout",
     "output_type": "stream",
     "text": [
      "496 16000 (7233, 768) (12068, 768)\n"
     ]
    },
    {
     "name": "stderr",
     "output_type": "stream",
     "text": [
      "\r",
      " 94%|█████████▍| 47/50 [27:19<00:49, 16.65s/it]"
     ]
    },
    {
     "name": "stdout",
     "output_type": "stream",
     "text": [
      "497 16000 (6328, 768) (10545, 768)\n"
     ]
    },
    {
     "name": "stderr",
     "output_type": "stream",
     "text": [
      "\r",
      " 96%|█████████▌| 48/50 [27:42<00:36, 18.46s/it]"
     ]
    },
    {
     "name": "stdout",
     "output_type": "stream",
     "text": [
      "498 16000 (2200, 768) (12218, 768)\n"
     ]
    },
    {
     "name": "stderr",
     "output_type": "stream",
     "text": [
      "\r",
      " 98%|█████████▊| 49/50 [28:24<00:25, 25.62s/it]"
     ]
    },
    {
     "name": "stdout",
     "output_type": "stream",
     "text": [
      "499 16000 (6564, 768) (21877, 768)\n"
     ]
    },
    {
     "name": "stderr",
     "output_type": "stream",
     "text": [
      "100%|██████████| 50/50 [28:44<00:00, 34.50s/it]"
     ]
    },
    {
     "name": "stdout",
     "output_type": "stream",
     "text": [
      "500 16000 (3120, 768) (10574, 768)\n"
     ]
    },
    {
     "name": "stderr",
     "output_type": "stream",
     "text": [
      "\n"
     ]
    }
   ],
   "source": [
    "import librosa\n",
    "\n",
    "AUDIO_DIR=os.path.join(DATA_DIR,'../../new_vids_audios')\n",
    "videoname2audiofeatures={}\n",
    "for filename in tqdm(sorted(os.listdir(AUDIO_DIR))):\n",
    "    videoname,_=os.path.splitext(filename)\n",
    "    filepath=os.path.join(AUDIO_DIR,filename)\n",
    "    fs=librosa.get_samplerate(filepath)\n",
    "    stream = librosa.stream(\n",
    "        filepath,\n",
    "        block_length=300, #360\n",
    "        frame_length=16000,\n",
    "        hop_length=16000\n",
    "    )\n",
    "    total_outputs=None\n",
    "    for speech in stream:\n",
    "        if len(speech.shape) > 1:\n",
    "            speech = speech[:, 0] + speech[:, 1]\n",
    "\n",
    "        inp = processor(speech, sampling_rate=16000, return_tensors=\"pt\")\n",
    "        with torch.no_grad():\n",
    "            outputs = model(**inp)\n",
    "        outputs=outputs.last_hidden_state.numpy()[0]\n",
    "        if total_outputs is None:\n",
    "            total_outputs=outputs\n",
    "        else:\n",
    "            total_outputs=np.concatenate((total_outputs,outputs),axis=0)\n",
    "    frames_count=video2len[videoname]\n",
    "    audio_scale=len(total_outputs)/frames_count\n",
    "    audio_features=np.zeros((frames_count,total_outputs.shape[1]))\n",
    "    for frame_number in range(frames_count):\n",
    "        ind=int(frame_number*audio_scale)\n",
    "        audio_features[frame_number]=total_outputs[ind]\n",
    "    \n",
    "    videoname2audiofeatures[videoname]=audio_features\n",
    "    print(videoname,fs,videoname2audiofeatures[videoname].shape,total_outputs.shape)"
   ]
  },
  {
   "cell_type": "code",
   "execution_count": 12,
   "metadata": {},
   "outputs": [
    {
     "name": "stdout",
     "output_type": "stream",
     "text": [
      "3091661\n"
     ]
    }
   ],
   "source": [
    "#filename2audio_features={}\n",
    "for videoname in videoname2audiofeatures:\n",
    "    audio_features=videoname2audiofeatures[videoname]\n",
    "    for i,af in enumerate(audio_features):\n",
    "        imagename=videoname+'/'+get_names(i+1)+'.jpg'\n",
    "        filename2audio_features[imagename]=af\n",
    "print(len(filename2audio_features))"
   ]
  },
  {
   "cell_type": "code",
   "execution_count": null,
   "metadata": {},
   "outputs": [],
   "source": []
  },
  {
   "cell_type": "code",
   "execution_count": 29,
   "metadata": {},
   "outputs": [
    {
     "name": "stdout",
     "output_type": "stream",
     "text": [
      "3091661\n"
     ]
    }
   ],
   "source": [
    "MODEL2AUDIOFEATURES='affwild2_file2wav2vec2.pickle'\n",
    "\n",
    "if False:\n",
    "    with open(MODEL2AUDIOFEATURES, 'wb') as handle:\n",
    "        pickle.dump(filename2audio_features, handle, protocol=pickle.HIGHEST_PROTOCOL)\n",
    "else:\n",
    "    with open(MODEL2AUDIOFEATURES, 'rb') as handle:\n",
    "        filename2audio_features=pickle.load(handle)\n",
    "print(len(filename2audio_features))"
   ]
  },
  {
   "cell_type": "markdown",
   "metadata": {},
   "source": [
    "# Classifiers"
   ]
  },
  {
   "cell_type": "code",
   "execution_count": 8,
   "metadata": {},
   "outputs": [
    {
     "name": "stdout",
     "output_type": "stream",
     "text": [
      "2.13.1\n"
     ]
    }
   ],
   "source": [
    "import tensorflow as tf\n",
    "from tensorflow.keras.models import Model,Sequential, load_model,model_from_json\n",
    "from tensorflow.keras.applications import mobilenet,mobilenet_v2,densenet,inception_resnet_v2,inception_v3,vgg16,resnet_v2,resnet\n",
    "#from tensorflow.keras.applications import efficientnet as enet\n",
    "import efficientnet.tfkeras as enet\n",
    "#from tensorflow.keras.utils.generic_utils import CustomObjectScope\n",
    "from tensorflow.keras.layers import Flatten, Dense, Dropout,GlobalAveragePooling2D,Activation, Conv2D, Reshape,DepthwiseConv2D,Input\n",
    "from tensorflow.keras.optimizers import SGD, Adam\n",
    "from tensorflow.keras.utils import to_categorical\n",
    "from tensorflow.keras.callbacks import ModelCheckpoint, TensorBoard, Callback, CSVLogger, EarlyStopping\n",
    "from tensorflow.keras.metrics import top_k_categorical_accuracy\n",
    "import numpy as np\n",
    "from sklearn.metrics import confusion_matrix\n",
    "from tensorflow.keras.preprocessing.image import ImageDataGenerator\n",
    "\n",
    "import tensorflow.keras.backend as K \n",
    "\n",
    "print(tf.__version__)\n",
    "if False:\n",
    "    from tensorflow.compat.v1.keras.backend import set_session \n",
    "    #tf.compat.v1.disable_v2_behavior()\n",
    "    config = tf.compat.v1.ConfigProto()\n",
    "    config.gpu_options.allow_growth = True\n",
    "    sess=tf.compat.v1.Session(config=config)\n",
    "    set_session(sess)"
   ]
  },
  {
   "cell_type": "code",
   "execution_count": 9,
   "metadata": {},
   "outputs": [],
   "source": [
    "from copy import deepcopy\n",
    "class SaveBestModel(tf.keras.callbacks.Callback):\n",
    "    def __init__(self, save_best_metric='val_loss', this_max=False):\n",
    "        self.save_best_metric = save_best_metric\n",
    "        self.max = this_max\n",
    "        if this_max:\n",
    "            self.best = float('-inf')\n",
    "        else:\n",
    "            self.best = float('inf')\n",
    "\n",
    "    def on_epoch_end(self, epoch, logs=None):\n",
    "        metric_value = logs[self.save_best_metric]\n",
    "        if self.max:\n",
    "            if metric_value > self.best:\n",
    "                self.best = metric_value\n",
    "                self.best_model_weights = deepcopy(self.model.get_weights())\n",
    "\n",
    "        else:\n",
    "            if metric_value < self.best:\n",
    "                self.best = metric_value\n",
    "                self.best_model_weights = deepcopy(self.model.get_weights())"
   ]
  },
  {
   "cell_type": "code",
   "execution_count": 10,
   "metadata": {},
   "outputs": [],
   "source": [
    "def one_hot_transfer(label,class_num):\n",
    "    return np.eye(class_num)[label]\n",
    "\n",
    "def metric_for_Exp(gt,pred,class_num=8):\n",
    "    # compute_acc\n",
    "    acc = accuracy_score(gt,pred)\n",
    "    # compute_F1\n",
    "    gt = one_hot_transfer(gt,class_num)\n",
    "    pred = one_hot_transfer(pred,class_num)\n",
    "    F1 = []\n",
    "    for i in range(class_num):\n",
    "        gt_ = gt[:,i]\n",
    "        pred_ = pred[:,i]\n",
    "        F1.append(f1_score(gt_.flatten(), pred_))\n",
    "    F1_mean = np.mean(F1)\n",
    "    return F1_mean,acc,F1"
   ]
  },
  {
   "cell_type": "code",
   "execution_count": 11,
   "metadata": {},
   "outputs": [],
   "source": [
    "def CCC_score(x, y):\n",
    "    vx = x - np.mean(x)\n",
    "    vy = y - np.mean(y)\n",
    "    rho = np.sum(vx * vy) / (np.sqrt(np.sum(vx**2)) * np.sqrt(np.sum(vy**2)))\n",
    "    x_m = np.mean(x)\n",
    "    y_m = np.mean(y)\n",
    "    x_s = np.std(x)\n",
    "    y_s = np.std(y)\n",
    "    ccc = 2*rho*x_s*y_s/(x_s**2 + y_s**2 + (x_m - y_m)**2)\n",
    "    return ccc\n",
    "\n",
    "def metric_for_VA(gt_V,gt_A,pred_V,pred_A):\n",
    "    ccc_V,ccc_A = CCC_score(gt_V,pred_V),CCC_score(gt_A,pred_A)\n",
    "    return ccc_V,ccc_A, 0.5*(ccc_V+ccc_A)\n",
    "\n",
    "def CCC_numpy(y_true, y_pred):\n",
    "    '''Reference numpy implementation of Lin's Concordance correlation coefficient'''\n",
    "    \n",
    "    # covariance between y_true and y_pred\n",
    "    s_xy = np.cov([y_true, y_pred])[0,1]\n",
    "    # means\n",
    "    x_m = np.mean(y_true)\n",
    "    y_m = np.mean(y_pred)\n",
    "    # variances\n",
    "    s_x_sq = np.var(y_true)\n",
    "    s_y_sq = np.var(y_pred)\n",
    "    \n",
    "    # condordance correlation coefficient\n",
    "    ccc = (2.0*s_xy) / (s_x_sq + s_y_sq + (x_m-y_m)**2)\n",
    "    \n",
    "    return ccc\n",
    "\n",
    "def CCC(y_true, y_pred):\n",
    "    '''Lin's Concordance correlation coefficient: https://en.wikipedia.org/wiki/Concordance_correlation_coefficient\n",
    "    \n",
    "    The concordance correlation coefficient is the correlation between two variables that fall on the 45 degree line through the origin.\n",
    "    \n",
    "    It is a product of\n",
    "    - precision (Pearson correlation coefficient) and\n",
    "    - accuracy (closeness to 45 degree line)\n",
    "\n",
    "    Interpretation:\n",
    "    - `rho_c =  1` : perfect agreement\n",
    "    - `rho_c =  0` : no agreement\n",
    "    - `rho_c = -1` : perfect disagreement \n",
    "    \n",
    "    Args: \n",
    "    - y_true: ground truth\n",
    "    - y_pred: predicted values\n",
    "    \n",
    "    Returns:\n",
    "    - concordance correlation coefficient (float)\n",
    "    '''\n",
    "    \n",
    "    \n",
    "    # covariance between y_true and y_pred\n",
    "    #N = K.int_shape(y_pred)[-1]\n",
    "    #s_xy = 1.0 / (N - 1.0 + K.epsilon()) * K.sum((y_true - K.mean(y_true)) * (y_pred - K.mean(y_pred)))\n",
    "    #s_xy = K.mean(K.sum((y_true - K.mean(y_true)) * (y_pred - K.mean(y_pred))))\n",
    "    s_xy = K.mean((y_true - K.mean(y_true)) * (y_pred - K.mean(y_pred)))\n",
    "    # means\n",
    "    x_m = K.mean(y_true)\n",
    "    y_m = K.mean(y_pred)\n",
    "    # variances\n",
    "    s_x_sq = K.var(y_true)\n",
    "    s_y_sq = K.var(y_pred)\n",
    "    \n",
    "    # condordance correlation coefficient\n",
    "    ccc = (2.0*s_xy) / (s_x_sq + s_y_sq + (x_m-y_m)**2+K.epsilon())\n",
    "    #print(s_xy,s_x_sq,s_y_sq,x_m,y_m)\n",
    "    return ccc\n",
    "\n",
    "def CCC_VA(y_true, y_pred):\n",
    "    return 1-0.5*(CCC(y_true[:,0], y_pred[:,0])+CCC(y_true[:,1], y_pred[:,1]))\n"
   ]
  },
  {
   "cell_type": "code",
   "execution_count": 12,
   "metadata": {},
   "outputs": [],
   "source": [
    "import math\n",
    "def f1_score_max_for_AU_one_class(gt, pred, thresh,type=0):\n",
    "    gt = gt[:,type]\n",
    "    pred = pred[:,type]\n",
    "    P = []\n",
    "    R = []\n",
    "    ACC = []\n",
    "    F1 = []\n",
    "    for i in thresh:\n",
    "        new_pred = ((pred >= i) * 1).flatten()\n",
    "        P.append(precision_score(gt.flatten(), new_pred))\n",
    "        R.append(recall_score(gt.flatten(), new_pred))\n",
    "        ACC.append(accuracy_score(gt.flatten(), new_pred))\n",
    "        F1.append(f1_score(gt.flatten(), new_pred))\n",
    "\n",
    "    F1_MAX = max(F1)\n",
    "    if F1_MAX < 0 or math.isnan(F1_MAX):\n",
    "        F1_MAX = 0\n",
    "        F1_THRESH = 0\n",
    "        accuracy = 0\n",
    "    else:\n",
    "        idx_thresh = np.argmax(F1)\n",
    "        F1_THRESH = thresh[idx_thresh]\n",
    "        accuracy = ACC[idx_thresh]\n",
    "    return F1,F1_MAX,F1_THRESH,accuracy\n",
    "\n",
    "def f1_score_max(gt, pred, thresh,c=12):\n",
    "    F1_s = []\n",
    "    F1_t = []\n",
    "    ACC = []\n",
    "    from sklearn.metrics import precision_score, recall_score, accuracy_score, f1_score\n",
    "    for i in range(c):\n",
    "        F1, F1_MAX, F1_THRESH,acc = f1_score_max_for_AU_one_class(gt,pred,thresh,i)\n",
    "        F1_s.append(F1_MAX)\n",
    "        F1_t.append(F1_THRESH)\n",
    "        ACC.append(acc)\n",
    "    F1_s=np.array(F1_s)\n",
    "    F1_t=np.array(F1_t)\n",
    "    ACC=np.array(ACC)\n",
    "    return F1_s.mean(),F1_t.mean(),F1_s,F1_t,ACC"
   ]
  },
  {
   "cell_type": "markdown",
   "metadata": {},
   "source": [
    "## Expr "
   ]
  },
  {
   "cell_type": "code",
   "execution_count": 13,
   "metadata": {},
   "outputs": [
    {
     "name": "stdout",
     "output_type": "stream",
     "text": [
      "AffectNet: {'Angry': 0, 'Contempt': 1, 'Disgust': 2, 'Fear': 3, 'Happy': 4, 'Neutral': 5, 'Sad': 6, 'Surprise': 7}\n",
      "[5 0 2 3 4 6 7 1]\n"
     ]
    }
   ],
   "source": [
    "idx_to_class={0: 'Angry', 1: 'Contempt', 2: 'Disgust', 3: 'Fear', 4: 'Happy', 5: 'Neutral', 6: 'Sad', 7: 'Surprise'}\n",
    "class_to_idx={cls:idx for idx,cls in idx_to_class.items()}\n",
    "print('AffectNet:',class_to_idx)\n",
    "\n",
    "#idx_to_class_2={0: 'Neutral', 1:'Angry', 2:'Disgust', 3:'Fear', 4:'Happy', 5:'Sad', 6:'Surprised', 7:'Other'} #ABAW\n",
    "#idx_to_class={0: 'Angry', 1: 'Contempt', 2: 'Disgust', 3: 'Fear', 4: 'Happy', 5: 'Neutral', 6: 'Sad', 7: 'Surprised'} #AffectNet\n",
    "AFFECTNET2MTL=np.array([5,0,2,3,4,6,7,1])\n",
    "print(AFFECTNET2MTL)"
   ]
  },
  {
   "cell_type": "code",
   "execution_count": 30,
   "metadata": {},
   "outputs": [
    {
     "name": "stdout",
     "output_type": "stream",
     "text": [
      "(280532, 768) (280532,) 3698\n"
     ]
    }
   ],
   "source": [
    "def get_image2ExprAudio(dirname):\n",
    "    dirpath=os.path.join(DATA_DIR,'EXPR_Recognition_Challenge/',dirname)\n",
    "    num_missed=0\n",
    "    X,y=[],[]\n",
    "    for filename in os.listdir(dirpath):\n",
    "        fn, ext = os.path.splitext(os.path.basename(filename))\n",
    "        fn_short=fn\n",
    "        if fn.endswith('_left'):\n",
    "            fn_short=fn[:-5]\n",
    "        elif fn.endswith('_right'):\n",
    "            fn_short=fn[:-6]\n",
    "        if ext.lower()=='.txt':\n",
    "            with open(os.path.join(dirpath,filename)) as f:\n",
    "                lines = f.read().splitlines()\n",
    "                for i,line in enumerate(lines):\n",
    "                    if i>0:\n",
    "                        expression=int(line)\n",
    "                        if expression>=0:\n",
    "                            imagename_short=fn_short+'/'+get_names(i)+'.jpg'\n",
    "                            imagename=fn+'/'+get_names(i)+'.jpg'\n",
    "                            has_image=imagename_short in filename2audio_features\n",
    "                            if dirname=='Validation_Set':\n",
    "                                has_frame=os.path.exists(os.path.join(DATA_DIR,'cropped',imagename))\n",
    "                                if has_image:\n",
    "                                    has_image=has_frame\n",
    "                                elif has_frame:\n",
    "                                    #print(imagename,imagename in filename2audio_features,imagename in filename2featuresAll)\n",
    "                                    imagename_short=fn_short+'/'+get_names(i-1)+'.jpg'\n",
    "                                    has_image=imagename_short in filename2audio_features\n",
    "                            if has_image:\n",
    "                                X.append(filename2audio_features[imagename_short])\n",
    "                                y.append(expression)\n",
    "                            else:\n",
    "                                num_missed+=1\n",
    "                                #print(imagename)\n",
    "    X=np.array(X)\n",
    "    y=np.array(y)\n",
    "    print(X.shape,y.shape,num_missed)\n",
    "    return X,y\n",
    "\n",
    "X_train,y_train=get_image2ExprAudio('Train_Set')\n",
    "X_val,y_val=get_image2ExprAudio('Validation_Set')\n",
    "TRAIN_VAL=False\n",
    "batch_size=256 #128"
   ]
  },
  {
   "cell_type": "code",
   "execution_count": 14,
   "metadata": {},
   "outputs": [
    {
     "name": "stdout",
     "output_type": "stream",
     "text": [
      "(585317, 1280) (585317,) 12044\n",
      "(280532, 1280) (280532,) 3698\n"
     ]
    }
   ],
   "source": [
    "def get_image2Expr(dirname):\n",
    "    dirpath=os.path.join(DATA_DIR,'EXPR_Recognition_Challenge/',dirname)\n",
    "    num_missed=0\n",
    "    X,y=[],[]\n",
    "    for filename in os.listdir(dirpath):\n",
    "        fn, ext = os.path.splitext(os.path.basename(filename))\n",
    "        if ext.lower()=='.txt':\n",
    "            with open(os.path.join(dirpath,filename)) as f:\n",
    "                lines = f.read().splitlines()\n",
    "                for i,line in enumerate(lines):\n",
    "                    if i>0:\n",
    "                        expression=int(line)\n",
    "                        if expression>=0:\n",
    "                            imagename=fn+'/'+get_names(i)+'.jpg'\n",
    "                            if imagename in filename2featuresAll:\n",
    "                                X.append(filename2featuresAll[imagename][0])\n",
    "                                #X.append(filename2featuresAll[imagename][1])\n",
    "                                y.append(expression)\n",
    "                            else:\n",
    "                                num_missed+=1\n",
    "    X=np.array(X)\n",
    "    y=np.array(y)\n",
    "    print(X.shape,y.shape,num_missed)\n",
    "    return X,y\n",
    "\n",
    "X_train,y_train=get_image2Expr('Train_Set')\n",
    "X_val,y_val=get_image2Expr('Validation_Set')\n",
    "TRAIN_VAL=False\n",
    "batch_size=256 #128"
   ]
  },
  {
   "cell_type": "code",
   "execution_count": 22,
   "metadata": {},
   "outputs": [
    {
     "name": "stdout",
     "output_type": "stream",
     "text": [
      "(865849, 1280) (865849,)\n"
     ]
    }
   ],
   "source": [
    "if False:\n",
    "    TRAIN_VAL=True\n",
    "    X_train=np.concatenate((X_train,X_val))\n",
    "    y_train=np.concatenate((y_train,y_val))\n",
    "    print(X_train.shape,y_train.shape)"
   ]
  },
  {
   "cell_type": "code",
   "execution_count": 15,
   "metadata": {},
   "outputs": [],
   "source": [
    "def print_expr(X=X_val,y=y_val):\n",
    "    y_val_preds=mlpModel.predict(X,verbose=0)\n",
    "    y_pred=np.argmax(y_val_preds,axis=1)\n",
    "    print('Acc:',(y_pred==y).mean(), 'F1:',f1_score(y_true=y,y_pred=y_pred, average=\"macro\"))\n",
    "    print(metric_for_Exp(y,y_pred))"
   ]
  },
  {
   "cell_type": "code",
   "execution_count": 16,
   "metadata": {},
   "outputs": [
    {
     "name": "stdout",
     "output_type": "stream",
     "text": [
      "[177198  16573  10771   9080  95463  78751  31615 165866] {0: 1.0, 1: 10.691968865021419, 2: 16.451397270448425, 3: 19.515198237885464, 4: 1.856195594104522, 5: 2.2501047605744686, 6: 5.6048711054879, 7: 1.0683202102902343} 8 [0 1 2 3 4 5 6 7]\n",
      "(array([0, 1, 2, 3, 4, 5, 6, 7]), array([ 82258,   6126,   5296,   8408,  34511,  25157,  12332, 106444]))\n"
     ]
    }
   ],
   "source": [
    "(unique, counts) = np.unique(y_train, return_counts=True)\n",
    "num_classes=len(unique)\n",
    "cw=1/counts\n",
    "cw/=cw.min()\n",
    "class_weights = {i:cwi for i,cwi in zip(unique,cw)}\n",
    "print(counts, class_weights, num_classes, unique)\n",
    "print(np.unique(y_val, return_counts=True))\n"
   ]
  },
  {
   "cell_type": "code",
   "execution_count": 23,
   "metadata": {},
   "outputs": [],
   "source": [
    "mlpModel=Sequential()\n",
    "if False:\n",
    "    mlpModel.add(Dense(num_classes, input_shape=X_val.shape[1:],activation='softmax',use_bias=True,kernel_regularizer=tf.keras.regularizers.l2(1.0/batch_size)))\n",
    "else:\n",
    "    mlpModel.add(Dense(128, input_shape=X_val.shape[1:],activation='relu')) #256\n",
    "    mlpModel.add(Dense(num_classes,activation='softmax'))"
   ]
  },
  {
   "cell_type": "code",
   "execution_count": 24,
   "metadata": {},
   "outputs": [
    {
     "data": {
      "text/plain": [
       "17177"
      ]
     },
     "execution_count": 24,
     "metadata": {},
     "output_type": "execute_result"
    }
   ],
   "source": [
    "gc.collect()"
   ]
  },
  {
   "cell_type": "code",
   "execution_count": 25,
   "metadata": {},
   "outputs": [
    {
     "name": "stdout",
     "output_type": "stream",
     "text": [
      "Model: \"sequential_1\"\n",
      "_________________________________________________________________\n",
      " Layer (type)                Output Shape              Param #   \n",
      "=================================================================\n",
      " dense_2 (Dense)             (None, 128)               163968    \n",
      "                                                                 \n",
      " dense_3 (Dense)             (None, 8)                 1032      \n",
      "                                                                 \n",
      "=================================================================\n",
      "Total params: 165000 (644.53 KB)\n",
      "Trainable params: 165000 (644.53 KB)\n",
      "Non-trainable params: 0 (0.00 Byte)\n",
      "_________________________________________________________________\n",
      "3383/3383 [==============================] - 23s 6ms/step - loss: 1.0774 - accuracy: 0.8201 - val_loss: 0.3586 - val_accuracy: 0.8750\n",
      "0.8750017881393433\n"
     ]
    }
   ],
   "source": [
    "mlpModel.compile(optimizer=Adam(learning_rate=1e-3), loss='sparse_categorical_crossentropy', metrics=['accuracy'])\n",
    "mlpModel.summary()\n",
    "\n",
    "save_best_model = SaveBestModel('val_accuracy',True)\n",
    "mlpModel.fit(X_train,y_train, batch_size=batch_size, epochs=1 if TRAIN_VAL else 10, verbose=1, shuffle=True,\n",
    "             callbacks=[save_best_model], validation_data=(X_val,y_val),class_weight=class_weights)\n",
    "best_model_weights = save_best_model.best_model_weights\n",
    "print(save_best_model.best)"
   ]
  },
  {
   "cell_type": "code",
   "execution_count": 21,
   "metadata": {},
   "outputs": [
    {
     "name": "stdout",
     "output_type": "stream",
     "text": [
      "Acc: 0.4605214378395335 F1: 0.3470080667871682\n",
      "(0.3470080667871682, 0.4605214378395335, [0.5589210556405552, 0.11325239833602174, 0.536011930871129, 0.027538155275381553, 0.4711197015327909, 0.3642287694974004, 0.2499024428314992, 0.45509008031256787])\n",
      "Best weights:\n",
      "Acc: 0.4826579498951991 F1: 0.3690180377981309\n",
      "(0.3690180377981309, 0.4826579498951991, [0.5983208025994354, 0.20241195011648622, 0.3581181359453844, 0.06952464275298922, 0.4686870536531771, 0.4801592453156779, 0.28147241992882566, 0.4934500520730712])\n"
     ]
    }
   ],
   "source": [
    "if True:\n",
    "    print_expr()\n",
    "    print('Best weights:')\n",
    "    mlpModel.set_weights(best_model_weights)\n",
    "print_expr()"
   ]
  },
  {
   "cell_type": "code",
   "execution_count": 23,
   "metadata": {},
   "outputs": [],
   "source": [
    "if True:\n",
    "    #mlpModel.save_weights('expr_enet0_vgaf.h5')#Acc: 0.48984429583790795 F1: 0.3828262567771098\n",
    "    mlpModel.save_weights('expr_wav2vec2.h5')#Acc: 0.410110076568805 F1: 0.29090239611199764\n",
    "else:\n",
    "    #mlpModel.load_weights('../expr_enet0_vgaf.h5') #Acc: 0.500285172458044 F1: 0.3807067519117502\n",
    "    mlpModel.load_weights('../abaw5/expr_enet0_vgaf.h5') #Acc: 0.49544436998274705 F1: 0.3844313672414089\n",
    "    print_expr()"
   ]
  },
  {
   "cell_type": "code",
   "execution_count": 19,
   "metadata": {},
   "outputs": [
    {
     "name": "stdout",
     "output_type": "stream",
     "text": [
      "Acc: 0.49544436998274705 F1: 0.3844313672414089\n",
      "(0.3844313672414089, 0.49544436998274705, [0.5975792617828053, 0.18688981868898186, 0.5203826342899192, 0.01771963235902956, 0.4792554615273745, 0.4860550818814191, 0.289585043895661, 0.4979840035060809])\n"
     ]
    }
   ],
   "source": [
    "mlpModel.load_weights('../abaw5/expr_enet0_vgaf.h5')\n",
    "y_val_preds=mlpModel.predict(X_val,verbose=0)\n",
    "y_pred=np.argmax(y_val_preds,axis=1)\n",
    "print('Acc:',(y_pred==y_val).mean(), 'F1:',f1_score(y_true=y_val,y_pred=y_pred, average=\"macro\"))\n",
    "print(metric_for_Exp(y_val,y_pred))"
   ]
  },
  {
   "cell_type": "code",
   "execution_count": 20,
   "metadata": {},
   "outputs": [
    {
     "name": "stdout",
     "output_type": "stream",
     "text": [
      "(280532,) (280532,) 0.49544436998274705\n"
     ]
    },
    {
     "data": {
      "image/png": "[encoded data removed]",
      "text/plain": [
       "<Figure size 576x576 with 1 Axes>"
      ]
     },
     "metadata": {
      "needs_background": "light"
     },
     "output_type": "display_data"
    }
   ],
   "source": [
    "labels=['Neutral','Anger','Disgust','Fear','Happiness','Sadness','Surprise','Other']\n",
    "IC = type('IdentityClassifier', (), {\"predict\": lambda i : i, \"_estimator_type\": \"classifier\"})\n",
    "import matplotlib.pyplot as plt\n",
    "from sklearn.metrics import plot_confusion_matrix\n",
    "def plt_conf_matrix(y_true,y_pred,labels):\n",
    "    print(y_pred.shape,y_true.shape, (y_pred==y_true).mean())\n",
    "\n",
    "    fig, ax = plt.subplots(figsize=(8, 8))\n",
    "    plot_confusion_matrix(IC, y_pred,y_true,display_labels=labels,cmap=plt.cm.Blues,ax=ax,colorbar=False,values_format='d') #,normalize='true'\n",
    "    plt.tight_layout()\n",
    "    plt.show()\n",
    "plt_conf_matrix(y_val,y_pred,labels)"
   ]
  },
  {
   "cell_type": "markdown",
   "metadata": {},
   "source": [
    "enet_b0_8_best_vgaf\n",
    "aligned\n",
    "112\n",
    "Acc: 0.36997808749986594 F1: 0.21352704404593095\n",
    "(0.21352704404593095, 0.36997808749986594, [0.45700583162587527, 0.07635619242579324, 0.003076194983435873, 0.009468317552804079, 0.34928095010272137, 0.21187660892709106, 0.1647308567096285, 0.4364214000400981])\n",
    "\n",
    "../expr_enet0_vgaf.h5\n",
    "Acc: 0.20843684874655494 F1: 0.0910746772554131\n",
    "\n",
    "\n",
    "224\n",
    "Acc: 0.47395701146384794 F1: 0.3045351324629094\n",
    "(0.3045351324629094, 0.47395701146384794, [0.5518323928131282, 0.11104639875752281, 0.028970239662891757, 0.029782898346265387, 0.42825757737346165, 0.5113845517526626, 0.2515561703388993, 0.5234508306584433])\n",
    "\n",
    "../expr_enet0_vgaf.h5\n",
    "Acc: 0.42862351608048643 F1: 0.3395506137533413\n",
    "\n",
    "\n",
    "cropped\n",
    "Acc: 0.49544436998274705 F1: 0.3844313672414089\n",
    "(0.3844313672414089, 0.49544436998274705, [0.5975792617828053, 0.18688981868898186, 0.5203826342899192, 0.01771963235902956, 0.4792554615273745, 0.4860550818814191, 0.289585043895661, 0.4979840035060809])\n",
    "../expr_enet0_vgaf.h5\n",
    "Acc: 0.500285172458044 F1: 0.3807067519117502\n",
    "(0.3807067519117502, 0.500285172458044, [0.608643679809698, 0.15128569174948728, 0.5162256615077384, 0.01599360255897641, 0.4778312968664514, 0.4611138100075078, 0.3029224246739377, 0.5116378481202044])\n",
    "\n",
    "\n",
    "enet_b0_8_va_mtl\n",
    "aligned\n",
    "112\n",
    "Acc: 0.36310406828978836 F1: 0.21416588541497295\n",
    "(0.21416588541497295, 0.36310406828978836, [0.5104795189391993, 0.1258546760922471, 0.010939722131057872, 0.009548019096038193, 0.33523095946425735, 0.18541315145321896, 0.19094959313671342, 0.3449114430070513])\n",
    "\n",
    "../expr_enet0_vgaf.h5\n",
    "Acc: 0.17444566379147022 F1: 0.09599142979803564\n",
    "\n",
    "\n",
    "224\n",
    "\n",
    "cropped\n",
    "Acc: 0.44668344431294826 F1: 0.3355545672821115\n",
    "(0.3355545672821115, 0.44668344431294826, [0.510145234564414, 0.16641097373883224, 0.3162162162162162, 0.0352055352055352, 0.5013185136754931, 0.4799950349621416, 0.2053190850693402, 0.4698259448249195])\n",
    "../expr_enet0_vgaf.h5\n",
    "Acc: 0.4230711647869049 F1: 0.30920724751192785\n",
    "\n",
    "\n",
    "mobilevit\n",
    "cropped\n",
    "224\n",
    "Acc: 0.46147320091825533 F1: 0.3560574896064487\n",
    "(0.3560574896064487, 0.46147320091825533, [0.5428998117005389, 0.15102462545204065, 0.44947762979503947, 0.12488323632966876, 0.47030709895410744, 0.40287070773986966, 0.20392039203920392, 0.5030764148411208])\n",
    "\n",
    "mbf_va\n",
    "cropped\n",
    "112\n",
    "Acc: 0.46184392511371253 F1: 0.32738624577811665\n",
    "(0.32738624577811665, 0.46184392511371253, [0.5275200664106117, 0.13163163163163163, 0.4120108948382383, 0.02459419576979833, 0.47229383600629454, 0.3058296783625731, 0.21955208437635595, 0.5256575788294297])\n",
    "\n",
    "aligned\n",
    "Acc: 0.41698808574829577 F1: 0.2605325777277917\n",
    "(0.2605325777277917, 0.41698808574829577, [0.5104076268095435, 0.08551319648093843, 0.03246321784527765, 0.04267053701015965, 0.4294620130290349, 0.2965347390252333, 0.2095684295882512, 0.47764086203389466])\n",
    "\n",
    "\n",
    "enet_b2_best\n",
    "Acc: 0.4377147705074644 F1: 0.32046977297192947\n",
    "(0.32046977297192947, 0.4377147705074644, [0.5279750265857089, 0.18667230205691746, 0.32060923369823896, 0.022576492722051686, 0.457802371541502, 0.3702839197046216, 0.23979880986115049, 0.438040027605245])\n",
    "\n",
    "\n",
    "ddamfnet_8\n",
    "Acc: 0.43266721800008556 F1: 0.30837374615523644\n",
    "(0.30837374615523644, 0.43266721800008556, [0.5215368741365138, 0.1129685025514693, 0.3387109850020268, 0.05675889328063242, 0.4707923787344315, 0.29412395223701415, 0.21788596803993387, 0.4542124152598697])\n",
    "\n",
    "ddamfnet_8_mtl\n",
    "Acc: 0.4619865113427345 F1: 0.33872014801701744\n",
    "(0.33872014801701744, 0.4619865113427345, [0.5691907822979275, 0.1422720413882302, 0.2694043321299639, 0.06790817145609246, 0.5095350810593541, 0.4453414505029116, 0.25683655334518146, 0.449272771956478])\n",
    "\n",
    "Acc: 0.46895184863045924 F1: 0.351079601079747\n",
    "(0.351079601079747, 0.46895184863045924, [0.5672248538336185, 0.0777629408530359, 0.43501871284949, 0.08656489442592268, 0.4938491272202964, 0.41942100601370563, 0.256280299691494, 0.4725149737504132])\n",
    "\n",
    "\n",
    "wav2vec2\n",
    "Acc: 0.410110076568805 F1: 0.29090239611199764\n",
    "(0.29090239611199764, 0.410110076568805, [0.4758486812936623, 0.047472429043273805, 0.5612936880542514, 0.15109275511960077, 0.13438885152032565, 0.3119477387658142, 0.10830172777075431, 0.5368732973282989])"
   ]
  },
  {
   "cell_type": "code",
   "execution_count": 39,
   "metadata": {},
   "outputs": [
    {
     "name": "stdout",
     "output_type": "stream",
     "text": [
      "Acc: 0.410110076568805 F1: 0.29090239611199764\n"
     ]
    }
   ],
   "source": [
    "mlpModel.load_weights('expr_wav2vec2.h5')\n",
    "y_val_expr_preds_audio=mlpModel.predict(X_val,verbose=0)\n",
    "#y_val_expr_preds_audio=y_val_preds\n",
    "\n",
    "y_pred=np.argmax(y_val_expr_preds_audio,axis=1)\n",
    "print('Acc:',(y_pred==y_val).mean(), 'F1:',f1_score(y_true=y_val,y_pred=y_pred, average=\"macro\"))"
   ]
  },
  {
   "cell_type": "code",
   "execution_count": 21,
   "metadata": {},
   "outputs": [
    {
     "name": "stdout",
     "output_type": "stream",
     "text": [
      "0.0\n",
      "Acc: 0.410110076568805 F1: 0.29090239611199764\n",
      "0.1\n",
      "Acc: 0.43592887798896385 F1: 0.3141889443420316\n",
      "0.2\n",
      "Acc: 0.46409678753226014 F1: 0.3439200559542131\n",
      "0.30000000000000004\n",
      "Acc: 0.4903932528196427 F1: 0.3723581978456718\n",
      "0.4\n",
      "Acc: 0.5081238503985285 F1: 0.3910699591929091\n",
      "0.5\n",
      "Acc: 0.5203149729799096 F1: 0.4030154928467773\n",
      "0.6000000000000001\n",
      "Acc: 0.5178197139720245 F1: 0.4033380362792486\n",
      "0.7000000000000001\n",
      "Acc: 0.5115958250752143 F1: 0.3989305928956265\n",
      "0.8\n",
      "Acc: 0.5050725050974577 F1: 0.39334207090252027\n",
      "0.9\n",
      "Acc: 0.49983959049235027 F1: 0.3883340065997216\n",
      "1.0\n",
      "Acc: 0.49544436998274705 F1: 0.3844313672414089\n"
     ]
    }
   ],
   "source": [
    "for w in np.linspace(0,1,11):\n",
    "    print(w)\n",
    "    y_ensemble=w*y_val_preds+(1-w)*y_val_expr_preds_audio\n",
    "    y_pred=np.argmax(y_ensemble,axis=1)\n",
    "    print('Acc:',(y_pred==y_val).mean(), 'F1:',f1_score(y_true=y_val,y_pred=y_pred, average=\"macro\"))\n",
    "    "
   ]
  },
  {
   "cell_type": "markdown",
   "metadata": {},
   "source": [
    "#### Scores"
   ]
  },
  {
   "cell_type": "code",
   "execution_count": 55,
   "metadata": {},
   "outputs": [
    {
     "name": "stdout",
     "output_type": "stream",
     "text": [
      "(280532, 8) (280532,) 3698\n",
      "(0.2289648973411626, 0.28208903084140136, [0.4171540237046687, 0.07984375, 0.034155405405405403, 0.08807582790498107, 0.46493213860781485, 0.43831856324994123, 0.23345359343571406, 0.07578587642077578])\n"
     ]
    }
   ],
   "source": [
    "dirpath=os.path.join(DATA_DIR,'EXPR_Recognition_Challenge/Validation_Set')\n",
    "num_missed=0\n",
    "y_scores_all,y_val=[],[]\n",
    "\n",
    "for filename in os.listdir(dirpath):\n",
    "    fn, ext = os.path.splitext(os.path.basename(filename))\n",
    "    if ext.lower()=='.txt':\n",
    "        with open(os.path.join(dirpath,filename)) as f:\n",
    "            lines = f.read().splitlines()\n",
    "            prev_val=None\n",
    "            for i,line in enumerate(lines):\n",
    "                if i>0:\n",
    "                    expression=int(line)\n",
    "                    #if expression>=0:\n",
    "                    if expression>=0:\n",
    "                        imagename=fn+'/'+get_names(i)+'.jpg'\n",
    "                        if imagename in filename2featuresAll:\n",
    "                            scores=filename2featuresAll[imagename][1]\n",
    "                            if False:\n",
    "                                scores=scores[:-2]\n",
    "                            y_scores_all.append(scores[AFFECTNET2MTL])\n",
    "                            y_val.append(expression)\n",
    "                        else:\n",
    "                            num_missed+=1\n",
    "y_scores_all=np.array(y_scores_all)\n",
    "y_val=np.array(y_val)\n",
    "print(y_scores_all.shape,y_val.shape,num_missed)\n",
    "\n",
    "USE_OTHER=True\n",
    "if USE_OTHER:\n",
    "    y_scores=np.argmax(y_scores_all,axis=1)\n",
    "    print(metric_for_Exp(y_val,y_scores,8))\n",
    "else:\n",
    "    y_scores=np.argmax(y_scores_all[y_val!=7,:7],axis=1)\n",
    "    print(metric_for_Exp(y_val[y_val!=7],y_scores,7))"
   ]
  },
  {
   "cell_type": "markdown",
   "metadata": {},
   "source": [
    "best vgaf\n",
    "USE_OTHER=True\n",
    "(280532,) (280532,) 3698\n",
    "(0.2574340560684253, 0.32562417121754383, [0.47261988187005705, 0.08159349444926674, 0.16895322458679918, 0.08013937282229966, 0.462785267165087, 0.4738317407716553, 0.28230688149375094, 0.037242585388486384])\n",
    "\n",
    "USE_OTHER=False\n",
    "(174088,) (174088,) 1883\n",
    "(0.38315520007157966, 0.5219142043104636, [0.5941131445271728, 0.11673050704408232, 0.2563962686160057, 0.1146315414738341, 0.6221359518916038, 0.574566439059762, 0.40351254788859714])\n",
    "\n",
    "\n",
    "enet_b0_8_va_mtl_cropped\n",
    "USE_OTHER=True\n",
    "(0.25410109876894316, 0.324283860664737, [0.47779652921509314, 0.06600907624798409, 0.14109544418074363, 0.11711266910239954, 0.4439685810172481, 0.5047660714048973, 0.2634610953222214, 0.018599323660957786])\n",
    "\n",
    "USE_OTHER=False\n",
    "(0.3806567143774729, 0.5219888791875373, [0.592009268246861, 0.09467766510797036, 0.2184438040345821, 0.15952653171026968, 0.6110634181730246, 0.5997794928335171, 0.3890968205360855])\n",
    "\n",
    "\n",
    "\n",
    "enet_b2_8_best\n",
    "USE_OTHER=True\n",
    "(0.2289648973411626, 0.28208903084140136, [0.4171540237046687, 0.07984375, 0.034155405405405403, 0.08807582790498107, 0.46493213860781485, 0.43831856324994123, 0.23345359343571406, 0.07578587642077578])\n",
    "\n",
    "USE_OTHER=False\n",
    "(0.31954104895280455, 0.4427818114976334, [0.5153401958322872, 0.09439149560117302, 0.05797588069056213, 0.12758503785738504, 0.6173376181776966, 0.5075113614059458, 0.31664575310458226])\n",
    "\n",
    "\n",
    "mobilevit_mtl\n",
    "USE_OTHER=True\n",
    "(0.24750764569285288, 0.28692983331669825, [0.3634520018378567, 0.06285218899003035, 0.05460049735106499, 0.10016730923110496, 0.5040490858505564, 0.49996220881895004, 0.2220449054680054, 0.17293296799525437])\n",
    "\n",
    "USE_OTHER=False\n",
    "(0.3295391498569603, 0.4335680805110059, [0.46913472299944037, 0.07763645998940116, 0.08706418662239356, 0.14934660858742996, 0.6294146367927087, 0.5681756847928754, 0.3260017492144731])\n",
    "\n",
    "\n",
    "mbf_va\n",
    "USE_OTHER=True\n",
    "(0.24955532401610217, 0.3253176108251465, [0.501757178717933, 0.045738209969191874, 0.0820815680232807, 0.09969902182091799, 0.4926194974590056, 0.47393129948404883, 0.22913333593475632, 0.07148248071968284])\n",
    "\n",
    "USE_OTHER=False\n",
    "(0.35399040253219577, 0.5126028215615092, [0.6242666901325824, 0.06287134060710813, 0.1464829586656998, 0.14144649052575395, 0.6331063450645963, 0.5622761420200943, 0.30748285070953557])\n",
    "\n",
    "\n",
    "ddamfnet_8\n",
    "USE_OTHER=True\n",
    "(0.24368332484018906, 0.31544351446537294, [0.4835970920924862, 0.07679580863091136, 0.09747180085569816, 0.11731069138797436, 0.4756866692688539, 0.40775471039776695, 0.2528750278742315, 0.03797479821359013])\n",
    "\n",
    "USE_OTHER=False\n",
    "(0.36156862264461503, 0.502113873443316, [0.5944232407027725, 0.12570208941810831, 0.16472753566029058, 0.1628872180451128, 0.643255172413793, 0.4881020717006731, 0.3518830305715552])\n",
    "\n",
    "\n",
    "\n",
    "ddamfnet_8_mtl\n",
    "USE_OTHER=True\n",
    "(0.24541330180175025, 0.3404103631671253, [0.5262782045818408, 0.07189242875697151, 0.05160124485493423, 0.11573461927354747, 0.47414591046785587, 0.46637151586955167, 0.24412813068007455, 0.01315435992922584])\n",
    "\n",
    "USE_OTHER=False\n",
    "(0.3659993801626194, 0.5465109599742659, [0.6647896702469529, 0.11337104344686484, 0.06623711340206186, 0.16155474729927802, 0.6478079212454213, 0.5419332426251339, 0.366301922872623])"
   ]
  },
  {
   "cell_type": "code",
   "execution_count": 16,
   "metadata": {},
   "outputs": [
    {
     "name": "stdout",
     "output_type": "stream",
     "text": [
      "(280532,) (280532,) 0.32562417121754383\n"
     ]
    },
    {
     "data": {
      "image/png": "[encoded data removed]",
      "text/plain": [
       "<Figure size 576x576 with 1 Axes>"
      ]
     },
     "metadata": {
      "needs_background": "light"
     },
     "output_type": "display_data"
    }
   ],
   "source": [
    "labels=['Neutral','Anger','Disgust','Fear','Happiness','Sadness','Surprise','Other']\n",
    "IC = type('IdentityClassifier', (), {\"predict\": lambda i : i, \"_estimator_type\": \"classifier\"})\n",
    "import matplotlib.pyplot as plt\n",
    "from sklearn.metrics import plot_confusion_matrix\n",
    "def plt_conf_matrix(y_true,y_pred,labels):\n",
    "    print(y_pred.shape,y_true.shape, (y_pred==y_true).mean())\n",
    "\n",
    "    fig, ax = plt.subplots(figsize=(8, 8))\n",
    "    plot_confusion_matrix(IC, y_pred,y_true,display_labels=labels,cmap=plt.cm.Blues,ax=ax,colorbar=False,values_format='d') #,normalize='true'\n",
    "    plt.tight_layout()\n",
    "    plt.show()\n",
    "plt_conf_matrix(y_val,y_scores,labels)"
   ]
  },
  {
   "cell_type": "markdown",
   "metadata": {},
   "source": [
    "### Smooth validation predictions  "
   ]
  },
  {
   "cell_type": "code",
   "execution_count": 20,
   "metadata": {},
   "outputs": [
    {
     "name": "stderr",
     "output_type": "stream",
     "text": [
      "100%|██████████| 70/70 [00:38<00:00,  1.81it/s]"
     ]
    },
    {
     "name": "stdout",
     "output_type": "stream",
     "text": [
      "70\n"
     ]
    },
    {
     "name": "stderr",
     "output_type": "stream",
     "text": [
      "\n"
     ]
    }
   ],
   "source": [
    "data_dir=os.path.join(DATA_DIR,'faces')\n",
    "dirpath=os.path.join(DATA_DIR,'EXPR_Recognition_Challenge/Validation_Set')\n",
    "test_videos={}\n",
    "for filename in tqdm(os.listdir(dirpath)):\n",
    "    fn, ext = os.path.splitext(os.path.basename(filename))\n",
    "    if ext.lower()=='.txt':\n",
    "        X,indices,expressions,scores=[],[],[],[]\n",
    "        with open(os.path.join(dirpath,filename)) as f:\n",
    "            lines = f.read().splitlines()\n",
    "            prev_val=None\n",
    "            for i,line in enumerate(lines):\n",
    "                if i>0:\n",
    "                    imagename=fn+'/'+get_names(i)+'.jpg'\n",
    "                    if imagename in filename2featuresAll:\n",
    "                        X.append(filename2featuresAll[imagename][0])\n",
    "                        indices.append(i)\n",
    "                        expressions.append(int(line))\n",
    "                        scores.append(filename2featuresAll[imagename][1][AFFECTNET2MTL])\n",
    "        test_videos[fn]=(mlpModel.predict(np.array(X),verbose=0),indices,np.array(expressions),np.array(scores))\n",
    "print(len(test_videos))"
   ]
  },
  {
   "cell_type": "code",
   "execution_count": 22,
   "metadata": {},
   "outputs": [
    {
     "name": "stdout",
     "output_type": "stream",
     "text": [
      "mean 0 Acc: 0.4377147705074644 F1: 0.32046977297192947\n",
      "mean 2 Acc: 0.4502053241697917 F1: 0.3308365959569308\n",
      "median 2 Acc: 0.4485655825360387 F1: 0.3292047135773658\n",
      "mean 7 Acc: 0.46036815764333483 F1: 0.33783569428081117\n",
      "median 7 Acc: 0.4585787004691087 F1: 0.3357647927368673\n"
     ]
    }
   ],
   "source": [
    "hyperparams=[(isMean,delta) for delta in [0,2,7]  for isMean in [1,0] if not (isMean==0 and delta==0)]\n",
    "total_true=[]\n",
    "total_preds=[[] for _ in range(len(hyperparams))]\n",
    "for videoname,(y_pred_expr,indices,expressions,scores) in test_videos.items():\n",
    "    for i,ind in enumerate(indices):\n",
    "        if expressions[i]>=0:\n",
    "            total_true.append(expressions[i])\n",
    "    cur_ind=0\n",
    "    preds_proba=[]\n",
    "    for i in range(indices[-1]):\n",
    "        if indices[cur_ind]-1==i:\n",
    "            preds_proba.append(y_pred_expr[cur_ind])\n",
    "            cur_ind+=1\n",
    "        else:\n",
    "            if cur_ind==0:\n",
    "                preds_proba.append(y_pred_expr[cur_ind])\n",
    "            else:\n",
    "                w=(i-indices[cur_ind-1]+1)/(indices[cur_ind]-indices[cur_ind-1])\n",
    "                pred=w*y_pred_expr[cur_ind-1]+(1-w)*y_pred_expr[cur_ind]\n",
    "                preds_proba.append(pred)\n",
    "    \n",
    "    preds_proba=np.array(preds_proba)\n",
    "    for hInd,(isMean,delta) in enumerate(hyperparams):\n",
    "        preds=[]\n",
    "        for i in range(len(preds_proba)):\n",
    "            i1=max(i-delta,0)\n",
    "            if isMean:\n",
    "                proba=np.mean(preds_proba[i1:i+delta+1],axis=0)\n",
    "            else:\n",
    "                proba=np.median(preds_proba[i1:i+delta+1],axis=0)\n",
    "            preds.append(np.argmax(proba))\n",
    "        for i,ind in enumerate(indices):\n",
    "            if expressions[i]>=0:\n",
    "                total_preds[hInd].append(preds[ind-1])\n",
    "\n",
    "total_true=np.array(total_true)\n",
    "for hInd,(isMean,delta) in enumerate(hyperparams):\n",
    "    preds=np.array(total_preds[hInd])\n",
    "    print('mean' if isMean else 'median',delta,'Acc:',(preds==total_true).mean(), 'F1:',f1_score(y_true=total_true,y_pred=preds, average=\"macro\"))"
   ]
  },
  {
   "cell_type": "code",
   "execution_count": 21,
   "metadata": {},
   "outputs": [
    {
     "name": "stdout",
     "output_type": "stream",
     "text": [
      "0 Acc: 0.49544436998274705 F1: 0.3844313672414089\n",
      "5 Acc: 0.5147327221136982 F1: 0.4004462320756203\n",
      "15 Acc: 0.5290448148517816 F1: 0.41233892932451965\n",
      "25 Acc: 0.5351189882081189 F1: 0.41821548069619524\n",
      "50 Acc: 0.5424194031340454 F1: 0.4236679637523476\n",
      "100 Acc: 0.5408010494346456 F1: 0.41968206198832886\n",
      "200 Acc: 0.539617583733763 F1: 0.4195667528908445\n",
      "500 Acc: 0.530777237534399 F1: 0.4032242437980253\n"
     ]
    }
   ],
   "source": [
    "#deltas=[0,1,5,7,15]\n",
    "deltas=[0,5,15,25,50,100,200,500]\n",
    "total_true=[]\n",
    "total_preds=[[] for _ in range(len(deltas))]\n",
    "for videoname,(y_pred_expr,indices,expressions,scores) in test_videos.items():\n",
    "    for i,ind in enumerate(indices):\n",
    "        if expressions[i]>=0:\n",
    "            total_true.append(expressions[i])\n",
    "    cur_ind=0\n",
    "    preds_proba=[]\n",
    "    for i in range(indices[-1]):\n",
    "        if indices[cur_ind]-1==i:\n",
    "            preds_proba.append(y_pred_expr[cur_ind])\n",
    "            cur_ind+=1\n",
    "        else:\n",
    "            if cur_ind==0:\n",
    "                preds_proba.append(y_pred_expr[cur_ind])\n",
    "            else:\n",
    "                w=1-(i-indices[cur_ind-1]+1)/(indices[cur_ind]-indices[cur_ind-1])\n",
    "                pred=w*y_pred_expr[cur_ind-1]+(1-w)*y_pred_expr[cur_ind]\n",
    "                preds_proba.append(pred)\n",
    "    \n",
    "    preds_proba=np.array(preds_proba)\n",
    "    for hInd,delta in enumerate(deltas):\n",
    "        preds=[]\n",
    "        for i in range(len(preds_proba)):\n",
    "            i1=max(i-delta,0)\n",
    "            proba=np.mean(preds_proba[i1:i+delta+1],axis=0)\n",
    "            preds.append(np.argmax(proba))\n",
    "        for i,ind in enumerate(indices):\n",
    "            if expressions[i]>=0:\n",
    "                total_preds[hInd].append(preds[ind-1])\n",
    "\n",
    "total_true=np.array(total_true)\n",
    "for hInd,delta in enumerate(deltas):\n",
    "    preds=np.array(total_preds[hInd])\n",
    "    print(delta,'Acc:',(preds==total_true).mean(), 'F1:',f1_score(y_true=total_true,y_pred=preds, average=\"macro\"))"
   ]
  },
  {
   "cell_type": "markdown",
   "metadata": {},
   "source": [
    "0 Acc: 0.49544436998274705 F1: 0.3844313672414089\n",
    "5 Acc: 0.5147255928022472 F1: 0.40041647458913604\n",
    "15 Acc: 0.5290234269174283 F1: 0.41233375265784433\n",
    "25 Acc: 0.5352187985684342 F1: 0.41830667436931435\n",
    "50 Acc: 0.542572683330244 F1: 0.4236698679610459\n",
    "100 Acc: 0.5408224373689989 F1: 0.4197549134058517\n",
    "200 Acc: 0.5397387820284317 F1: 0.41970605922798776\n",
    "500 Acc: 0.5307736728786734 F1: 0.4031952312654022"
   ]
  },
  {
   "cell_type": "code",
   "execution_count": 38,
   "metadata": {},
   "outputs": [
    {
     "name": "stdout",
     "output_type": "stream",
     "text": [
      "70\n"
     ]
    }
   ],
   "source": [
    "if False:\n",
    "    with open('expr_val_test_videos.pickle', 'wb') as handle:\n",
    "        pickle.dump(test_videos, handle, protocol=pickle.HIGHEST_PROTOCOL)\n",
    "else:\n",
    "    with open('expr_val_test_videos.pickle', 'rb') as handle:\n",
    "        test_videos=pickle.load(handle)\n",
    "print(len(test_videos))"
   ]
  },
  {
   "cell_type": "markdown",
   "metadata": {},
   "source": [
    "### Audio "
   ]
  },
  {
   "cell_type": "code",
   "execution_count": 54,
   "metadata": {},
   "outputs": [
    {
     "name": "stderr",
     "output_type": "stream",
     "text": [
      "100%|██████████| 70/70 [00:46<00:00,  1.52it/s]"
     ]
    },
    {
     "name": "stdout",
     "output_type": "stream",
     "text": [
      "70\n"
     ]
    },
    {
     "name": "stderr",
     "output_type": "stream",
     "text": [
      "\n"
     ]
    }
   ],
   "source": [
    "data_dir=os.path.join(DATA_DIR,'faces')\n",
    "dirpath=os.path.join(DATA_DIR,'EXPR_Recognition_Challenge/Validation_Set')\n",
    "test_audios={}\n",
    "for filename in tqdm(os.listdir(dirpath)):\n",
    "    fn, ext = os.path.splitext(os.path.basename(filename))\n",
    "    fn_short=fn\n",
    "    if fn.endswith('_left'):\n",
    "        fn_short=fn[:-5]\n",
    "    elif fn.endswith('_right'):\n",
    "        fn_short=fn[:-6]\n",
    "    if ext.lower()=='.txt':\n",
    "        X,indices,expressions,scores=[],[],[],[]\n",
    "        with open(os.path.join(dirpath,filename)) as f:\n",
    "            lines = f.read().splitlines()\n",
    "            prev_val=None\n",
    "            for i,line in enumerate(lines):\n",
    "                if i>0:\n",
    "                    imagename=fn+'/'+get_names(i)+'.jpg'\n",
    "                    imagename_short=fn_short+'/'+get_names(i)+'.jpg'\n",
    "                    imagename=fn+'/'+get_names(i)+'.jpg'\n",
    "                    has_image=imagename_short in filename2audio_features\n",
    "                    has_frame=os.path.exists(os.path.join(DATA_DIR,'cropped',imagename))\n",
    "                    if has_image:\n",
    "                        has_image=has_frame\n",
    "                    elif has_frame:\n",
    "                        #print(imagename,imagename in filename2audio_features,imagename in filename2featuresAll)\n",
    "                        imagename_short=fn_short+'/'+get_names(i-1)+'.jpg'\n",
    "                        has_image=imagename_short in filename2audio_features\n",
    "                    if has_image:\n",
    "                        X.append(filename2audio_features[imagename_short])\n",
    "                        indices.append(i)\n",
    "                        expressions.append(int(line))\n",
    "                        scores.append(filename2featuresAll[imagename][1][AFFECTNET2MTL])\n",
    "        test_audios[fn]=(mlpModel.predict(np.array(X),verbose=0),indices,np.array(expressions),np.array(scores))\n",
    "print(len(test_audios))\n"
   ]
  },
  {
   "cell_type": "code",
   "execution_count": 39,
   "metadata": {},
   "outputs": [
    {
     "name": "stdout",
     "output_type": "stream",
     "text": [
      "70\n"
     ]
    }
   ],
   "source": [
    "if False:\n",
    "    with open('expr_val_test_audios.pickle', 'wb') as handle:\n",
    "        pickle.dump(test_audios, handle, protocol=pickle.HIGHEST_PROTOCOL)\n",
    "else:\n",
    "    with open('expr_val_test_audios.pickle', 'rb') as handle:\n",
    "        test_audios=pickle.load(handle)\n",
    "print(len(test_audios))"
   ]
  },
  {
   "cell_type": "code",
   "execution_count": 55,
   "metadata": {},
   "outputs": [
    {
     "name": "stdout",
     "output_type": "stream",
     "text": [
      "0 Acc: 0.410110076568805 F1: 0.29090239611199764\n",
      "5 Acc: 0.4806474840659889 F1: 0.33263223831368627\n",
      "15 Acc: 0.5046732636561961 F1: 0.34164236744431886\n",
      "25 Acc: 0.513214178774614 F1: 0.3457739134483474\n",
      "50 Acc: 0.5193703392126389 F1: 0.3521084905477545\n",
      "100 Acc: 0.5205038997333638 F1: 0.35453723394331516\n",
      "200 Acc: 0.5206037100936791 F1: 0.3551542666808812\n",
      "500 Acc: 0.5236229734932201 F1: 0.3595042852144297\n"
     ]
    }
   ],
   "source": [
    "#deltas=[0,1,5,7,15]\n",
    "deltas=[0,5,15,25,50,100,200,500]\n",
    "total_true=[]\n",
    "total_preds=[[] for _ in range(len(deltas))]\n",
    "for videoname,(y_pred_expr,indices,expressions,scores) in test_audios.items():\n",
    "    for i,ind in enumerate(indices):\n",
    "        if expressions[i]>=0:\n",
    "            total_true.append(expressions[i])\n",
    "    cur_ind=0\n",
    "    preds_proba=[]\n",
    "    for i in range(indices[-1]):\n",
    "        if indices[cur_ind]-1==i:\n",
    "            preds_proba.append(y_pred_expr[cur_ind])\n",
    "            cur_ind+=1\n",
    "        else:\n",
    "            if cur_ind==0:\n",
    "                preds_proba.append(y_pred_expr[cur_ind])\n",
    "            else:\n",
    "                w=1-(i-indices[cur_ind-1]+1)/(indices[cur_ind]-indices[cur_ind-1])\n",
    "                pred=w*y_pred_expr[cur_ind-1]+(1-w)*y_pred_expr[cur_ind]\n",
    "                preds_proba.append(pred)\n",
    "    \n",
    "    preds_proba=np.array(preds_proba)\n",
    "    for hInd,delta in enumerate(deltas):\n",
    "        preds=[]\n",
    "        for i in range(len(preds_proba)):\n",
    "            i1=max(i-delta,0)\n",
    "            proba=np.mean(preds_proba[i1:i+delta+1],axis=0)\n",
    "            preds.append(np.argmax(proba))\n",
    "        for i,ind in enumerate(indices):\n",
    "            if expressions[i]>=0:\n",
    "                total_preds[hInd].append(preds[ind-1])\n",
    "\n",
    "total_true=np.array(total_true)\n",
    "for hInd,delta in enumerate(deltas):\n",
    "    preds=np.array(total_preds[hInd])\n",
    "    print(delta,'Acc:',(preds==total_true).mean(), 'F1:',f1_score(y_true=total_true,y_pred=preds, average=\"macro\"))"
   ]
  },
  {
   "cell_type": "code",
   "execution_count": 40,
   "metadata": {},
   "outputs": [
    {
     "name": "stdout",
     "output_type": "stream",
     "text": [
      "0.0\n",
      "0 Acc: 0.410110076568805 F1: 0.29090239611199764\n",
      "5 Acc: 0.4806474840659889 F1: 0.33263223831368627\n",
      "15 Acc: 0.5046732636561961 F1: 0.34164236744431886\n",
      "25 Acc: 0.513214178774614 F1: 0.3457739134483474\n",
      "50 Acc: 0.5193703392126389 F1: 0.3521084905477545\n",
      "100 Acc: 0.5205038997333638 F1: 0.35453723394331516\n",
      "200 Acc: 0.5206037100936791 F1: 0.3551542666808812\n",
      "500 Acc: 0.5236229734932201 F1: 0.3595042852144297\n",
      "\n",
      "0.1\n",
      "0 Acc: 0.43592887798896385 F1: 0.3141889443420316\n",
      "5 Acc: 0.5027733021544779 F1: 0.3563857812809881\n",
      "15 Acc: 0.522806667332069 F1: 0.36445956300269716\n",
      "25 Acc: 0.531885845465045 F1: 0.3692206390706086\n",
      "50 Acc: 0.5371579712831335 F1: 0.374503014447069\n",
      "100 Acc: 0.5369440919396005 F1: 0.3757623082995216\n",
      "200 Acc: 0.5277651034463091 F1: 0.36969726350868176\n",
      "500 Acc: 0.5231132277244663 F1: 0.3658137189900791\n",
      "\n",
      "0.2\n",
      "0 Acc: 0.46409678753226014 F1: 0.3439200559542131\n",
      "5 Acc: 0.5192241883278913 F1: 0.3826124760034294\n",
      "15 Acc: 0.5344630915546177 F1: 0.3892371889323604\n",
      "25 Acc: 0.5388476180970442 F1: 0.3890356128085686\n",
      "50 Acc: 0.5388226655069653 F1: 0.3889338672833958\n",
      "100 Acc: 0.537557212724395 F1: 0.38260401241599074\n",
      "200 Acc: 0.5342741648011635 F1: 0.3819239886457537\n",
      "500 Acc: 0.5273729913164986 F1: 0.37798223509612416\n",
      "\n",
      "0.30000000000000004\n",
      "0 Acc: 0.4903932528196427 F1: 0.3723581978456718\n",
      "5 Acc: 0.5303245262572541 F1: 0.39906339256970785\n",
      "15 Acc: 0.539728088061255 F1: 0.40111597087058626\n",
      "25 Acc: 0.5424015798554176 F1: 0.40209350691942997\n",
      "50 Acc: 0.5442658947998802 F1: 0.4010813676852769\n",
      "100 Acc: 0.5391292258993626 F1: 0.39479008191025045\n",
      "200 Acc: 0.5287917242952676 F1: 0.3850989853168463\n",
      "500 Acc: 0.5293050347197468 F1: 0.3812094521737948\n",
      "\n",
      "0.4\n",
      "0 Acc: 0.5081238503985285 F1: 0.3910699591929091\n",
      "5 Acc: 0.5360707512868407 F1: 0.409764149233344\n",
      "15 Acc: 0.5449075328304792 F1: 0.41451451451244126\n",
      "25 Acc: 0.5476950936078594 F1: 0.41671201483863657\n",
      "50 Acc: 0.5496734775355396 F1: 0.41870347533879104\n",
      "100 Acc: 0.542825773886758 F1: 0.41029885566325486\n",
      "200 Acc: 0.5335505396888769 F1: 0.3920856150725254\n",
      "500 Acc: 0.5238796287054597 F1: 0.38740144117892644\n",
      "\n",
      "0.5\n",
      "0 Acc: 0.5203149729799096 F1: 0.4030154928467773\n",
      "5 Acc: 0.5410184934339042 F1: 0.41841457901092405\n",
      "15 Acc: 0.5519192106426362 F1: 0.4261400174235115\n",
      "25 Acc: 0.5565283104957723 F1: 0.42927113978669706\n",
      "50 Acc: 0.5566744613805199 F1: 0.42744238920986\n",
      "100 Acc: 0.5596937247800607 F1: 0.42587833100755634\n",
      "200 Acc: 0.5523683572640554 F1: 0.4176653231341543\n",
      "500 Acc: 0.5374110618396475 F1: 0.3934275264502991\n",
      "\n",
      "0.6000000000000001\n",
      "0 Acc: 0.5178197139720245 F1: 0.4033380362792486\n",
      "5 Acc: 0.5386515620321389 F1: 0.4194348500409003\n",
      "15 Acc: 0.5522293356907589 F1: 0.4288105701561039\n",
      "25 Acc: 0.5562787845949838 F1: 0.43206046228355444\n",
      "50 Acc: 0.5597008540915118 F1: 0.43420116624657257\n",
      "100 Acc: 0.5616828026749177 F1: 0.43272013152378835\n",
      "200 Acc: 0.5566459441347155 F1: 0.42441301318703506\n",
      "500 Acc: 0.5411753382858283 F1: 0.395676995267757\n",
      "\n",
      "0.7000000000000001\n",
      "0 Acc: 0.5115958250752143 F1: 0.3989305928956265\n",
      "5 Acc: 0.5326237292002338 F1: 0.41589592974786316\n",
      "15 Acc: 0.5472352530192633 F1: 0.4261846824269405\n",
      "25 Acc: 0.5517623657907119 F1: 0.42894420904279734\n",
      "50 Acc: 0.5567421898393053 F1: 0.4342519419312401\n",
      "100 Acc: 0.5588738539631842 F1: 0.43234887602293315\n",
      "200 Acc: 0.5550561076811201 F1: 0.42779433051120586\n",
      "500 Acc: 0.5402485277971854 F1: 0.4030461477136221\n",
      "\n",
      "0.8\n",
      "0 Acc: 0.5050725050974577 F1: 0.39334207090252027\n",
      "5 Acc: 0.5265139092866411 F1: 0.4110254267178063\n",
      "15 Acc: 0.54157457972709 F1: 0.42255745133330447\n",
      "25 Acc: 0.5463583477107781 F1: 0.42660042224292605\n",
      "50 Acc: 0.5530064306389288 F1: 0.4321363986189741\n",
      "100 Acc: 0.5521117020518158 F1: 0.42795455722963094\n",
      "200 Acc: 0.5500655896653501 F1: 0.42537496071268277\n",
      "500 Acc: 0.5408580839262545 F1: 0.41197470732788216\n",
      "\n",
      "0.9\n",
      "0 Acc: 0.49983959049235027 F1: 0.3883340065997216\n",
      "5 Acc: 0.5202864557341051 F1: 0.4053792003855108\n",
      "15 Acc: 0.5352508804699642 F1: 0.41721602274565783\n",
      "25 Acc: 0.5403340795345986 F1: 0.4222736144951802\n",
      "50 Acc: 0.5478305505254303 F1: 0.4284203007293773\n",
      "100 Acc: 0.546247843383286 F1: 0.42403027308344277\n",
      "200 Acc: 0.5434103774257483 F1: 0.42025066297892066\n",
      "500 Acc: 0.5361028331883707 F1: 0.4044914963721008\n",
      "\n",
      "1.0\n",
      "0 Acc: 0.49544436998274705 F1: 0.3844313672414089\n",
      "5 Acc: 0.5147327221136982 F1: 0.4004462320756203\n",
      "15 Acc: 0.5290448148517816 F1: 0.41233892932451965\n",
      "25 Acc: 0.5351189882081189 F1: 0.41821548069619524\n",
      "50 Acc: 0.5424194031340454 F1: 0.4236679637523476\n",
      "100 Acc: 0.5408010494346456 F1: 0.41968206198832886\n",
      "200 Acc: 0.539617583733763 F1: 0.4195667528908445\n",
      "500 Acc: 0.530777237534399 F1: 0.4032242437980253\n",
      "\n"
     ]
    }
   ],
   "source": [
    "#Ensemble\n",
    "deltas=[0,5,15,25,50,100,200,500]\n",
    "for weight in np.linspace(0,1,11):\n",
    "    total_true=[]\n",
    "    total_preds=[[] for _ in range(len(deltas))]\n",
    "    for videoname,(y_pred_expr,indices,expressions,_) in test_videos.items():\n",
    "        y_pred_expr_audio,_,_,_=test_audios[videoname]\n",
    "        for i,ind in enumerate(indices):\n",
    "            if expressions[i]>=0:\n",
    "                total_true.append(expressions[i])\n",
    "        cur_ind=0\n",
    "        preds_proba=[]\n",
    "        y_ensemble=weight*y_pred_expr + (1-weight)*y_pred_expr_audio\n",
    "        for i in range(indices[-1]):\n",
    "            if indices[cur_ind]-1==i:\n",
    "                cur_pred=y_ensemble[cur_ind]\n",
    "                preds_proba.append(cur_pred)\n",
    "                cur_ind+=1\n",
    "            else:\n",
    "                if cur_ind==0:\n",
    "                    preds_proba.append(y_ensemble[cur_ind])\n",
    "                else:\n",
    "                    w=1-(i-indices[cur_ind-1]+1)/(indices[cur_ind]-indices[cur_ind-1])\n",
    "                    pred=w*y_ensemble[cur_ind-1]+(1-w)*y_ensemble[cur_ind]\n",
    "                    preds_proba.append(pred)\n",
    "\n",
    "        preds_proba=np.array(preds_proba)\n",
    "        for hInd,delta in enumerate(deltas):\n",
    "            preds=[]\n",
    "            for i in range(len(preds_proba)):\n",
    "                i1=max(i-delta,0)\n",
    "                proba=np.mean(preds_proba[i1:i+delta+1],axis=0)\n",
    "                preds.append(np.argmax(proba))\n",
    "            for i,ind in enumerate(indices):\n",
    "                if expressions[i]>=0:\n",
    "                    total_preds[hInd].append(preds[ind-1])\n",
    "\n",
    "    total_true=np.array(total_true)\n",
    "    print(weight)\n",
    "    for hInd,delta in enumerate(deltas):\n",
    "        preds=np.array(total_preds[hInd])\n",
    "        print(delta,'Acc:',(preds==total_true).mean(), 'F1:',f1_score(y_true=total_true,y_pred=preds, average=\"macro\"))\n",
    "    print()"
   ]
  },
  {
   "cell_type": "markdown",
   "metadata": {},
   "source": [
    "### Save test results "
   ]
  },
  {
   "cell_type": "code",
   "execution_count": 41,
   "metadata": {},
   "outputs": [
    {
     "name": "stdout",
     "output_type": "stream",
     "text": [
      "1022656 ['image_location,Neutral,Anger,Disgust,Fear,Happiness,Sadness,Surprise,Other', '14-30-1920x1080/00001.jpg,0', '14-30-1920x1080/00002.jpg,0', '14-30-1920x1080/00003.jpg,0', '14-30-1920x1080/00004.jpg,0']\n",
      "228\n"
     ]
    }
   ],
   "source": [
    "with open(os.path.join(DATA_DIR,'../test_set_examples/CVPR_6th_ABAW_Expr_test_set_example.txt'),'r') as f:\n",
    "    test_set_sample=f.read().splitlines()\n",
    "print(len(test_set_sample),test_set_sample[:5])\n",
    "\n",
    "test_set_videos={}\n",
    "for s in test_set_sample[1:]:\n",
    "    videoname,img_name=s[:-2].split('/')\n",
    "    if videoname not in test_set_videos:\n",
    "        test_set_videos[videoname]=[]\n",
    "    test_set_videos[videoname].append(img_name)\n",
    "    \n",
    "print(len(test_set_videos))"
   ]
  },
  {
   "cell_type": "code",
   "execution_count": 42,
   "metadata": {},
   "outputs": [
    {
     "name": "stderr",
     "output_type": "stream",
     "text": [
      "100%|██████████| 228/228 [01:27<00:00,  2.62it/s]"
     ]
    },
    {
     "name": "stdout",
     "output_type": "stream",
     "text": [
      "228\n"
     ]
    },
    {
     "name": "stderr",
     "output_type": "stream",
     "text": [
      "\n"
     ]
    }
   ],
   "source": [
    "test_videos={}\n",
    "test_videos_num_frames={}\n",
    "for videoname,img_files in tqdm(test_set_videos.items()):\n",
    "    X,indices,filenames,scores=[],[],[],[]\n",
    "    num_present=num_missed=0\n",
    "    for img_name in img_files:\n",
    "        k=videoname+'/'+img_name\n",
    "        if k in filename2featuresAll:\n",
    "            X.append(filename2featuresAll[k][0])\n",
    "            indices.append(int(img_name[:-4]))\n",
    "            filenames.append(k)\n",
    "            scores.append(filename2featuresAll[k][1][AFFECTNET2MTL])\n",
    "            num_present+=1\n",
    "        else:\n",
    "            num_missed+=1\n",
    "    test_videos[videoname]=(mlpModel.predict(np.array(X),verbose=0),indices,filenames,np.array(scores))\n",
    "    test_videos_num_frames[videoname]=(num_present,num_missed)\n",
    "print(len(test_videos))"
   ]
  },
  {
   "cell_type": "code",
   "execution_count": 82,
   "metadata": {},
   "outputs": [
    {
     "name": "stderr",
     "output_type": "stream",
     "text": [
      "100%|██████████| 228/228 [01:20<00:00,  2.84it/s]"
     ]
    },
    {
     "name": "stdout",
     "output_type": "stream",
     "text": [
      "228\n"
     ]
    },
    {
     "name": "stderr",
     "output_type": "stream",
     "text": [
      "\n"
     ]
    }
   ],
   "source": [
    "test_audios={}\n",
    "test_audios_num_frames={}\n",
    "for videoname,img_files in tqdm(test_set_videos.items()):\n",
    "    X,indices,filenames,scores=[],[],[],[]\n",
    "    num_present=num_missed=0\n",
    "    fn_short=videoname\n",
    "    if videoname.endswith('_left'):\n",
    "        fn_short=videoname[:-5]\n",
    "    elif videoname.endswith('_right'):\n",
    "        fn_short=videoname[:-6]\n",
    "    for img_name in img_files:\n",
    "        k=fn_short+'/'+img_name\n",
    "        if k in filename2audio_features:\n",
    "            X.append(filename2audio_features[k])\n",
    "            indices.append(int(img_name[:-4]))\n",
    "            filenames.append(k)\n",
    "            num_present+=1\n",
    "        else:\n",
    "            num_missed+=1\n",
    "    test_audios[videoname]=(mlpModel.predict(np.array(X),verbose=0),indices,filenames,np.array(scores))\n",
    "    test_audios_num_frames[videoname]=(num_present,num_missed)\n",
    "print(len(test_audios))"
   ]
  },
  {
   "cell_type": "code",
   "execution_count": 44,
   "metadata": {},
   "outputs": [
    {
     "name": "stdout",
     "output_type": "stream",
     "text": [
      "228\n"
     ]
    }
   ],
   "source": [
    "if False:\n",
    "    with open('expr_test_audios.pickle', 'wb') as handle:\n",
    "        pickle.dump(test_audios, handle, protocol=pickle.HIGHEST_PROTOCOL)\n",
    "else:\n",
    "    with open('expr_test_audios.pickle', 'rb') as handle:\n",
    "        test_audios=pickle.load(handle)\n",
    "print(len(test_audios))"
   ]
  },
  {
   "cell_type": "code",
   "execution_count": 48,
   "metadata": {},
   "outputs": [
    {
     "name": "stdout",
     "output_type": "stream",
     "text": [
      "/home/HDD6TB/datasets/emotions/ABAW/ABAW_6/6th_ABAW_Annotations/test_results/EXPR\n"
     ]
    }
   ],
   "source": [
    "delta=50 # 0 2 4 7\n",
    "OUTPUT_DIR=DATA_DIR+'/test_results/EXPR'\n",
    "if not os.path.exists(OUTPUT_DIR):\n",
    "    os.mkdir(OUTPUT_DIR)\n",
    "print(OUTPUT_DIR)"
   ]
  },
  {
   "cell_type": "code",
   "execution_count": 37,
   "metadata": {},
   "outputs": [],
   "source": [
    "#with open(os.path.join(OUTPUT_DIR,'predictions_1_emb.txt'), 'w') as f:\n",
    "with open(os.path.join(OUTPUT_DIR,'predictions_1_emb_train_val.txt'), 'w') as f:\n",
    "    f.write(test_set_sample[0]+'\\n')\n",
    "    for videoname,(y_pred_expr,indices,filenames,scores) in test_videos.items():\n",
    "        cur_ind=0\n",
    "        preds_proba=[]\n",
    "        for i in range(indices[-1]):\n",
    "            if indices[cur_ind]-1==i:\n",
    "                preds_proba.append(y_pred_expr[cur_ind])\n",
    "                cur_ind+=1\n",
    "            else:\n",
    "                if cur_ind==0:\n",
    "                    preds_proba.append(y_pred_expr[cur_ind])\n",
    "                else:\n",
    "                    w=1-(i-indices[cur_ind-1]+1)/(indices[cur_ind]-indices[cur_ind-1])\n",
    "                    pred=w*y_pred_expr[cur_ind-1]+(1-w)*y_pred_expr[cur_ind]\n",
    "                    preds_proba.append(pred)\n",
    "\n",
    "        pred=y_pred_expr[cur_ind-1]\n",
    "        for _ in range(indices[-1],len(test_set_videos[videoname])):\n",
    "            preds_proba.append(pred)\n",
    "\n",
    "        preds_proba=np.array(preds_proba)\n",
    "        for i,img_name in enumerate(test_set_videos[videoname]):\n",
    "            i1=max(i-delta,0)\n",
    "            proba=np.mean(preds_proba[i1:i+delta+1],axis=0)\n",
    "            f.write(videoname+'/'+img_name+','+str(np.argmax(proba))+'\\n')"
   ]
  },
  {
   "cell_type": "code",
   "execution_count": 65,
   "metadata": {},
   "outputs": [],
   "source": [
    "weight=0.7\n",
    "\n",
    "with open(os.path.join(OUTPUT_DIR,'predictions_2_emb_scores.txt'), 'w') as f:\n",
    "    f.write(test_set_sample[0]+'\\n')\n",
    "    for videoname,(y_pred_expr,indices,filenames,scores) in test_videos.items():\n",
    "        y_pred_expr_audio,indices_audio,filenames_audio,_=test_audios[videoname]\n",
    "        cur_ind=0\n",
    "        preds_proba=[]\n",
    "        for i in range(indices[-1]):\n",
    "            if indices[cur_ind]-1==i:\n",
    "                preds_proba.append(y_pred_expr[cur_ind])\n",
    "                cur_ind+=1\n",
    "            else:\n",
    "                if cur_ind==0:\n",
    "                    preds_proba.append(y_pred_expr[cur_ind])\n",
    "                else:\n",
    "                    w=1-(i-indices[cur_ind-1]+1)/(indices[cur_ind]-indices[cur_ind-1])\n",
    "                    pred=w*y_pred_expr[cur_ind-1]+(1-w)*y_pred_expr[cur_ind]\n",
    "                    preds_proba.append(pred)\n",
    "\n",
    "        pred=y_pred_expr[cur_ind-1]\n",
    "        for _ in range(indices[-1],len(test_set_videos[videoname])):\n",
    "            preds_proba.append(pred)\n",
    "\n",
    "        preds_proba=np.array(preds_proba)\n",
    "        preds_proba=weight*preds_proba+(1-weight)*y_pred_expr_audio\n",
    "        for i,img_name in enumerate(test_set_videos[videoname]):\n",
    "            i1=max(i-delta,0)\n",
    "            proba=np.mean(preds_proba[i1:i+delta+1],axis=0)\n",
    "            f.write(videoname+'/'+img_name+','+str(np.argmax(proba))+'\\n')\n"
   ]
  },
  {
   "cell_type": "markdown",
   "metadata": {},
   "source": [
    "## Valence-Arousal "
   ]
  },
  {
   "cell_type": "code",
   "execution_count": 12,
   "metadata": {},
   "outputs": [
    {
     "name": "stdout",
     "output_type": "stream",
     "text": [
      "(1679848, 768) (1679848, 2) 9\n",
      "(376323, 768) (376323, 2) 5698\n"
     ]
    }
   ],
   "source": [
    "def get_image2audio_VA(dirname):\n",
    "    dirpath=os.path.join(DATA_DIR,'VA_Estimation_Challenge/',dirname)\n",
    "    num_missed=0\n",
    "    X,y=[],[]\n",
    "    for filename in os.listdir(dirpath):\n",
    "        fn, ext = os.path.splitext(os.path.basename(filename))\n",
    "        fn_short=fn\n",
    "        if fn.endswith('_left'):\n",
    "            fn_short=fn[:-5]\n",
    "        elif fn.endswith('_right'):\n",
    "            fn_short=fn[:-6]\n",
    "        if ext.lower()=='.txt':\n",
    "            with open(os.path.join(dirpath,filename)) as f:\n",
    "                lines = f.read().splitlines()\n",
    "                for i,line in enumerate(lines):\n",
    "                    if i>0:\n",
    "                        splitted_line=line.split(',')\n",
    "                        valence=float(splitted_line[0])\n",
    "                        arousal=float(splitted_line[1])\n",
    "                        if valence>=-1 and arousal>=-1:\n",
    "                            imagename_short=fn_short+'/'+get_names(i)+'.jpg'\n",
    "                            imagename=fn+'/'+get_names(i)+'.jpg'\n",
    "                            has_image=imagename_short in filename2audio_features\n",
    "                            if dirname=='Validation_Set':\n",
    "                                has_frame=os.path.exists(os.path.join(DATA_DIR,'cropped',imagename))\n",
    "                                if has_image:\n",
    "                                    has_image=has_frame\n",
    "                                elif has_frame:\n",
    "                                    imagename_short=fn_short+'/'+get_names(i-1)+'.jpg'\n",
    "                                    has_image=imagename_short in filename2audio_features\n",
    "                            if has_image:\n",
    "                                X.append(filename2audio_features[imagename_short])\n",
    "                                y.append((valence,arousal))\n",
    "                            else:\n",
    "                                num_missed+=1\n",
    "    X=np.array(X)\n",
    "    y=np.array(y)\n",
    "    print(X.shape,y.shape,num_missed)\n",
    "    return X,y\n",
    "\n",
    "X_train,y_train=get_image2audio_VA('Train_Set')\n",
    "X_val,y_val=get_image2audio_VA('Validation_Set')\n",
    "TRAIN_VAL=False"
   ]
  },
  {
   "cell_type": "code",
   "execution_count": 13,
   "metadata": {},
   "outputs": [
    {
     "name": "stdout",
     "output_type": "stream",
     "text": [
      "(1653930, 10) (1653930, 2) 25927\n",
      "(376332, 10) (376332, 2) 5689\n"
     ]
    }
   ],
   "source": [
    "def get_image2VA(dirname):\n",
    "    dirpath=os.path.join(DATA_DIR,'VA_Estimation_Challenge/',dirname)\n",
    "    num_missed=0\n",
    "    X,y=[],[]\n",
    "    for filename in os.listdir(dirpath):\n",
    "        fn, ext = os.path.splitext(os.path.basename(filename))\n",
    "        if ext.lower()=='.txt':\n",
    "            with open(os.path.join(dirpath,filename)) as f:\n",
    "                lines = f.read().splitlines()\n",
    "                for i,line in enumerate(lines):\n",
    "                    if i>0:\n",
    "                        splitted_line=line.split(',')\n",
    "                        valence=float(splitted_line[0])\n",
    "                        arousal=float(splitted_line[1])\n",
    "                        if valence>=-1 and arousal>=-1:\n",
    "                            imagename=fn+'/'+get_names(i)+'.jpg'\n",
    "                            if imagename in filename2featuresAll:\n",
    "                                X.append(filename2featuresAll[imagename][1])\n",
    "                                y.append((valence,arousal))\n",
    "                            else:\n",
    "                                num_missed+=1\n",
    "    X=np.array(X)\n",
    "    y=np.array(y)\n",
    "    print(X.shape,y.shape,num_missed)\n",
    "    return X,y\n",
    "\n",
    "X_train,y_train=get_image2VA('Train_Set')\n",
    "X_val,y_val=get_image2VA('Validation_Set')\n",
    "TRAIN_VAL=False"
   ]
  },
  {
   "cell_type": "code",
   "execution_count": 14,
   "metadata": {},
   "outputs": [
    {
     "name": "stdout",
     "output_type": "stream",
     "text": [
      "(2030262, 10) (2030262, 2)\n"
     ]
    }
   ],
   "source": [
    "if True:\n",
    "    TRAIN_VAL=True\n",
    "    X_train=np.concatenate((X_train,X_val))\n",
    "    y_train=np.concatenate((y_train,y_val))\n",
    "    print(X_train.shape,y_train.shape)"
   ]
  },
  {
   "cell_type": "code",
   "execution_count": 15,
   "metadata": {},
   "outputs": [],
   "source": [
    "def print_ccc_for_val_preds(y_val_preds):\n",
    "    gt_V=y_val[:,0]\n",
    "    gt_A=y_val[:,1]\n",
    "    pred_V=y_val_preds[:,0]\n",
    "    pred_A=y_val_preds[:,1]\n",
    "    print(metric_for_VA(gt_V,gt_A,pred_V,pred_A))\n",
    "    print(CCC_numpy(gt_V,pred_V),CCC_numpy(gt_A,pred_A))\n",
    "\n",
    "def print_ccc():\n",
    "    y_val_preds=mlpModel.predict(X_val,verbose=0)\n",
    "    print_ccc_for_val_preds(y_val_preds)"
   ]
  },
  {
   "cell_type": "code",
   "execution_count": 16,
   "metadata": {},
   "outputs": [],
   "source": [
    "batch_size=1024 #512 #128\n",
    "mlpModel=Sequential()\n",
    "if True:\n",
    "    mlpModel.add(Dense(2, input_shape=X_train.shape[1:],activation='tanh',use_bias=True,kernel_regularizer=tf.keras.regularizers.l2(1.0/batch_size)))\n",
    "else:\n",
    "    mlpModel.add(Dense(128, input_shape=X_train.shape[1:],activation='relu')) #256\n",
    "    mlpModel.add(Dense(2,activation='tanh'))"
   ]
  },
  {
   "cell_type": "code",
   "execution_count": 17,
   "metadata": {},
   "outputs": [
    {
     "name": "stdout",
     "output_type": "stream",
     "text": [
      "Model: \"sequential\"\n",
      "_________________________________________________________________\n",
      " Layer (type)                Output Shape              Param #   \n",
      "=================================================================\n",
      " dense (Dense)               (None, 2)                 22        \n",
      "                                                                 \n",
      "=================================================================\n",
      "Total params: 22 (88.00 Byte)\n",
      "Trainable params: 22 (88.00 Byte)\n",
      "Non-trainable params: 0 (0.00 Byte)\n",
      "_________________________________________________________________\n",
      "Epoch 1/5\n",
      "1983/1983 [==============================] - 15s 6ms/step - loss: 0.5914 - mae: 0.3997 - mse: 0.2895 - val_loss: 0.7670 - val_mae: 0.2594 - val_mse: 0.1173\n",
      "Epoch 2/5\n",
      "1983/1983 [==============================] - 12s 6ms/step - loss: 0.4867 - mae: 0.2651 - mse: 0.1185 - val_loss: 0.7681 - val_mae: 0.2616 - val_mse: 0.1185\n",
      "Epoch 3/5\n",
      "1983/1983 [==============================] - 12s 6ms/step - loss: 0.4866 - mae: 0.2652 - mse: 0.1185 - val_loss: 0.7680 - val_mae: 0.2600 - val_mse: 0.1175\n",
      "Epoch 4/5\n",
      "1983/1983 [==============================] - 12s 6ms/step - loss: 0.4866 - mae: 0.2652 - mse: 0.1185 - val_loss: 0.7684 - val_mae: 0.2588 - val_mse: 0.1163\n",
      "Epoch 5/5\n",
      "1983/1983 [==============================] - 12s 6ms/step - loss: 0.4867 - mae: 0.2652 - mse: 0.1185 - val_loss: 0.7690 - val_mae: 0.2613 - val_mse: 0.1185\n",
      "0.7670242190361023\n"
     ]
    }
   ],
   "source": [
    "mlpModel.compile(optimizer=Adam(learning_rate=1e-3), loss=CCC_VA, metrics=['mae','mse'])\n",
    "#mlpModel.compile(optimizer=Adam(learning_rate=1e-3), loss='mae', metrics=['mse'])\n",
    "mlpModel.summary()\n",
    "\n",
    "save_best_model = SaveBestModel('val_loss',False)\n",
    "mlpModel.fit(X_train,y_train, batch_size=batch_size, epochs=5, verbose=1, callbacks=[save_best_model], validation_data=(X_val,y_val))\n",
    "best_model_weights = save_best_model.best_model_weights\n",
    "print(save_best_model.best)"
   ]
  },
  {
   "cell_type": "code",
   "execution_count": 104,
   "metadata": {},
   "outputs": [
    {
     "name": "stdout",
     "output_type": "stream",
     "text": [
      "(0.4696280993897831, 0.536299121199571, 0.5029636102946771)\n",
      "0.46962936511930925 0.536300555072494\n",
      "Best weights:\n",
      "(0.46969332862979535, 0.5351054590698, 0.5023993938497977)\n",
      "0.4696945778976984 0.5351069095612824\n"
     ]
    }
   ],
   "source": [
    "print_ccc()\n",
    "print('Best weights:')\n",
    "mlpModel.set_weights(best_model_weights)\n",
    "print_ccc()"
   ]
  },
  {
   "cell_type": "code",
   "execution_count": 105,
   "metadata": {},
   "outputs": [
    {
     "name": "stdout",
     "output_type": "stream",
     "text": [
      "(0.4683555233722727, 0.5365255517977998, 0.5024405375850363)\n",
      "0.4683567601070062 0.5365269678175976\n"
     ]
    }
   ],
   "source": [
    "if False:\n",
    "    #mlpModel.save_weights('va_enet0_mtl.h5') #(0.44533125143390107, 0.5212460625489065, 0.4832886569914038)\n",
    "    #mlpModel.save_weights('va_enet0_vgaf.h5')#(0.442104359857453, 0.5205547252402459, 0.48132954254884946)\n",
    "    mlpModel.save_weights('va_mbf_aligned.h5')#(0.44218117345982105, 0.5326388870069596, 0.48741003023339036)\n",
    "    #mlpModel.save_weights('va_mobilevit.h5')#(0.44525619437472774, 0.5250882923288589, 0.4851722433517933)\n",
    "    #mlpModel.save_weights('va_ddamfnet_mtl.h5')#(0.4683555233722727, 0.5365255517977998, 0.5024405375850363)\n",
    "else:\n",
    "    mlpModel.load_weights('va_ddamfnet_mtl.h5') #'va_enet0_mtl.h5'\n",
    "    #mlpModel.load_weights('va_mobilevit.h5')\n",
    "    #mlpModel.load_weights('va_mbf_aligned.h5')\n",
    "    #mlpModel.load_weights('../va_enet0_vgaf.h5')\n",
    "print_ccc()"
   ]
  },
  {
   "cell_type": "markdown",
   "metadata": {},
   "source": [
    "VA only emotions\n",
    "\n",
    "enet_b0_8_best_vgaf\n",
    "logreg: (0.4436768680313978, 0.5195607326809414, 0.48161880035616955)\n",
    "new: (0.4433857992438458, 0.5198270222465867, 0.48160641074521626)\n",
    "\n",
    "enet_b0_8_va_mtl\n",
    "logreg:(0.44436749382135277, 0.5207544767285259, 0.48256098527493935)\n",
    "new: (0.44533125143390107, 0.5212460625489065, 0.4832886569914038)\n",
    "\n",
    "\n",
    "mobilevit\n",
    "cropped\n",
    "(0.44525619437472774, 0.5250882923288589, 0.4851722433517933)\n",
    "0.4452573800456 0.5250896982892981\n",
    "\n",
    "mbf_va\n",
    "aligned\n",
    "Best weights:\n",
    "(0.4402433504147331, 0.5333364834836402, 0.4867899169491866)\n",
    "0.4402445269501933 0.5333378888158035\n",
    "\n",
    "cropped\n",
    "(0.43943390297626467, 0.531904395626622, 0.48566914930144334)\n",
    "0.43943507599448606 0.5319058206054035\n",
    "\n",
    "enet_b2_best\n",
    "(0.42997560019877556, 0.49753464141700277, 0.46375512080788917)\n",
    "\n",
    "ddamfnet_8\n",
    "(0.44043917468810306, 0.5275877349875815, 0.4840134548378423)\n",
    "\n",
    "ddamfnet_8_mtl\n",
    "(0.4683555233722727, 0.5365255517977998, 0.5024405375850363)\n",
    "0.4683567601070062 0.5365269678175976"
   ]
  },
  {
   "cell_type": "code",
   "execution_count": 33,
   "metadata": {},
   "outputs": [],
   "source": [
    "y_val_preds=mlpModel.predict(X_val)"
   ]
  },
  {
   "cell_type": "markdown",
   "metadata": {},
   "source": [
    "#### VA predictions "
   ]
  },
  {
   "cell_type": "code",
   "execution_count": 106,
   "metadata": {},
   "outputs": [
    {
     "name": "stdout",
     "output_type": "stream",
     "text": [
      "(0.41247274798276756, 0.23007091554933753, 0.32127183176605256)\n",
      "0.4124738624553876 0.23007152646343512\n"
     ]
    }
   ],
   "source": [
    "va_val=X_val[:,-2:]\n",
    "print_ccc_for_val_preds(va_val)"
   ]
  },
  {
   "cell_type": "code",
   "execution_count": 107,
   "metadata": {},
   "outputs": [
    {
     "name": "stdout",
     "output_type": "stream",
     "text": [
      "0.4497610961983525 0.20638218523489857\n"
     ]
    }
   ],
   "source": [
    "va_train=X_train[:,-2:]\n",
    "print(CCC_numpy(y_train[:,0],va_train[:,0]),CCC_numpy(y_train[:,1],va_train[:,1]))"
   ]
  },
  {
   "cell_type": "markdown",
   "metadata": {},
   "source": [
    "### Smooth validation predictions"
   ]
  },
  {
   "cell_type": "code",
   "execution_count": 108,
   "metadata": {},
   "outputs": [
    {
     "name": "stderr",
     "output_type": "stream",
     "text": [
      "100%|██████████| 76/76 [00:24<00:00,  3.04it/s]"
     ]
    },
    {
     "name": "stdout",
     "output_type": "stream",
     "text": [
      "76\n"
     ]
    },
    {
     "name": "stderr",
     "output_type": "stream",
     "text": [
      "\n"
     ]
    }
   ],
   "source": [
    "data_dir=os.path.join(DATA_DIR,'faces')\n",
    "dirpath=os.path.join(DATA_DIR,'VA_Estimation_Challenge/Validation_Set')\n",
    "test_videos={}\n",
    "for filename in tqdm(os.listdir(dirpath)):\n",
    "    fn, ext = os.path.splitext(os.path.basename(filename))\n",
    "    if ext.lower()=='.txt':\n",
    "        X,indices,y_true=[],[],[]\n",
    "        with open(os.path.join(dirpath,filename)) as f:\n",
    "            lines = f.read().splitlines()\n",
    "            prev_val=None\n",
    "            for i,line in enumerate(lines):\n",
    "                if i>0:\n",
    "                    imagename=fn+'/'+get_names(i)+'.jpg'\n",
    "                    if imagename in filename2featuresAll:\n",
    "                        X.append(filename2featuresAll[imagename][1])\n",
    "                        indices.append(i)\n",
    "                        \n",
    "                        splitted_line=line.split(',')\n",
    "                        valence=float(splitted_line[0])\n",
    "                        arousal=float(splitted_line[1])\n",
    "                        y_true.append((valence,arousal))\n",
    "                        \n",
    "        test_videos[fn]=(mlpModel.predict(np.array(X),verbose=0),indices,np.array(y_true))\n",
    "print(len(test_videos))"
   ]
  },
  {
   "cell_type": "code",
   "execution_count": 109,
   "metadata": {},
   "outputs": [
    {
     "name": "stdout",
     "output_type": "stream",
     "text": [
      "1 (0.47388161776505733, 0.5454483472514844, 0.5096649825082709)\n",
      "10 (0.4957487055418829, 0.5833074673675026, 0.5395280864546927)\n",
      "25 (0.5125732030705081, 0.6107215863623221, 0.5616473947164151)\n",
      "50 (0.5191404219351573, 0.6160994373767202, 0.5676199296559388)\n",
      "100 (0.5107432980494155, 0.5916885351550036, 0.5512159166022096)\n",
      "200 (0.4877753631081433, 0.5450888931780282, 0.5164321281430857)\n"
     ]
    }
   ],
   "source": [
    "deltas=[1,10,25,50,100,200]\n",
    "total_true=[]\n",
    "total_preds=[[] for _ in range(len(deltas))]\n",
    "for videoname,(y_pred_va,indices,y_true) in test_videos.items():\n",
    "    for i,ind in enumerate(indices):\n",
    "        if y_true[i][0]>=-1 and y_true[i][1]>=-1:\n",
    "            total_true.append(y_true[i])\n",
    "    cur_ind=0\n",
    "    preds=[]\n",
    "    for i in range(indices[-1]):\n",
    "        if indices[cur_ind]-1==i:\n",
    "            preds.append(y_pred_va[cur_ind])\n",
    "            cur_ind+=1\n",
    "        else:\n",
    "            if cur_ind==0:\n",
    "                preds.append(y_pred_va[cur_ind])\n",
    "            else:\n",
    "                w=1-(i-indices[cur_ind-1]+1)/(indices[cur_ind]-indices[cur_ind-1])\n",
    "                pred=w*y_pred_va[cur_ind-1]+(1-w)*y_pred_va[cur_ind]\n",
    "                preds.append(pred)\n",
    "    \n",
    "    preds=np.array(preds)\n",
    "    for hInd,delta in enumerate(deltas):\n",
    "        cur_preds=[]\n",
    "        for i in range(len(preds)):\n",
    "            i1=max(i-delta,0)\n",
    "            pred=np.mean(preds[i1:i+delta+1],axis=0)\n",
    "            cur_preds.append(pred)\n",
    "        for i,ind in enumerate(indices):\n",
    "            if y_true[i][0]>=-1 and y_true[i][1]>=-1:\n",
    "                total_preds[hInd].append(cur_preds[ind-1])\n",
    "\n",
    "total_true=np.array(total_true)\n",
    "gt_V=total_true[:,0]\n",
    "gt_A=total_true[:,1]\n",
    "\n",
    "for hInd,delta in enumerate(deltas):\n",
    "    preds=np.array(total_preds[hInd])\n",
    "    pred_V=preds[:,0]\n",
    "    pred_A=preds[:,1]\n",
    "    print(delta,metric_for_VA(gt_V,gt_A,pred_V,pred_A))"
   ]
  },
  {
   "cell_type": "markdown",
   "metadata": {},
   "source": [
    "vgaf:\n",
    "1 (0.44875087823993354, 0.5283116909318734, 0.48853128458590345)\n",
    "10 (0.4684252179690231, 0.5658810666512365, 0.5171531423101298)\n",
    "25 (0.4838215785829268, 0.5921912567094488, 0.5380064176461878)\n",
    "50 (0.48999702278941953, 0.5955375478706236, 0.5427672853300216)\n",
    "100 (0.4824520565285041, 0.5694326567832584, 0.5259423566558812)\n",
    "200 (0.46156615573225407, 0.5209989880709679, 0.49128257190161095)\n",
    "\n",
    "mtl:\n",
    "1 (0.4497322853156013, 0.5302893781650251, 0.4900108317403132)\n",
    "10 (0.46963786100578786, 0.5716260813822904, 0.5206319711940391)\n",
    "25 (0.4843495213418185, 0.6004171233716765, 0.5423833223567476)\n",
    "50 (0.48997545654787067, 0.6038755689432846, 0.5469255127455777)\n",
    "100 (0.48241128098915237, 0.5749223688356685, 0.5286668249124105)\n",
    "200 (0.46145788788100156, 0.5220036569168273, 0.4917307723989144)\n",
    "\n",
    "mobilevit:\n",
    "1 (0.4519141824658053, 0.5364566840126457, 0.4941854332392255)\n",
    "10 (0.4729821091836075, 0.5787780954208082, 0.5258801023022078)\n",
    "25 (0.48735650719430057, 0.6068810731377108, 0.5471187901660057)\n",
    "50 (0.49251574941611365, 0.6123478119869349, 0.5524317807015242)\n",
    "100 (0.4837213847903914, 0.5877672380013604, 0.535744311395876)\n",
    "200 (0.4619291289073237, 0.5412889919068609, 0.5016090604070923)\n",
    "\n",
    "mbf_va\n",
    "aligned\n",
    "1 (0.4454935971130078, 0.5436244052809025, 0.4945590011969552)\n",
    "10 (0.46419939071383803, 0.5849226964959962, 0.5245610436049171)\n",
    "25 (0.4782627706510026, 0.6130468926132803, 0.5456548316321415)\n",
    "50 (0.4826473183124306, 0.6172188370430775, 0.549933077677754)\n",
    "100 (0.47342917698341913, 0.5908499883483496, 0.5321395826658843)\n",
    "200 (0.4519681051409956, 0.5416571527309345, 0.49681262893596506)\n",
    "\n",
    "cropped\n",
    "1 (0.44425051319227377, 0.5412209929235514, 0.4927357530579126)\n",
    "10 (0.46317117806596475, 0.5803567594599781, 0.5217639687629714)\n",
    "25 (0.47784630968960773, 0.6066599212195685, 0.5422531154545881)\n",
    "50 (0.48329123443223443, 0.6097693319702527, 0.5465302832012435)\n",
    "100 (0.4752441002765603, 0.5832174504275345, 0.5292307753520473)\n",
    "200 (0.45449967125743845, 0.5365046008005447, 0.4955021360289916)\n",
    "\n",
    "ddamfnet_8\n",
    "1 (0.44404224361229355, 0.5328501439537299, 0.4884461937830117)\n",
    "10 (0.4640465013162864, 0.5676875386176197, 0.515867019966953)\n",
    "25 (0.47901406923550843, 0.5937242357067752, 0.5363691524711418)\n",
    "50 (0.4849817862941038, 0.5977626889930204, 0.5413722376435621)\n",
    "100 (0.47720553753616796, 0.5729072064850123, 0.5250563720105901)\n",
    "200 (0.4555514321445706, 0.5273521035288176, 0.4914517678366941)\n",
    "\n",
    "ddamfnet_8_mtl\n",
    "1 (0.47388161776505733, 0.5454483472514844, 0.5096649825082709)\n",
    "10 (0.4957487055418829, 0.5833074673675026, 0.5395280864546927)\n",
    "25 (0.5125732030705081, 0.6107215863623221, 0.5616473947164151)\n",
    "50 (0.5191404219351573, 0.6160994373767202, 0.5676199296559388)\n",
    "100 (0.5107432980494155, 0.5916885351550036, 0.5512159166022096)\n",
    "200 (0.4877753631081433, 0.5450888931780282, 0.5164321281430857)"
   ]
  },
  {
   "cell_type": "markdown",
   "metadata": {},
   "source": [
    "### Save test results "
   ]
  },
  {
   "cell_type": "code",
   "execution_count": 19,
   "metadata": {},
   "outputs": [
    {
     "name": "stdout",
     "output_type": "stream",
     "text": [
      "927211 ['image_location,valence,arousal', '2-30-640x360/00001.jpg,0.5,-0.5', '2-30-640x360/00002.jpg,0.5,-0.5', '2-30-640x360/00003.jpg,0.5,-0.5', '2-30-640x360/00004.jpg,0.5,-0.5']\n",
      "162\n"
     ]
    }
   ],
   "source": [
    "with open(os.path.join(DATA_DIR,'../test_set_examples/CVPR_6th_ABAW_VA_test_set_example.txt'),'r') as f:\n",
    "    test_set_sample=f.read().splitlines()\n",
    "print(len(test_set_sample),test_set_sample[:5])\n",
    "\n",
    "test_set_videos={}\n",
    "for s in test_set_sample[1:]:\n",
    "    videoname,img_name=s.split(',')[0].split('/')\n",
    "    if videoname not in test_set_videos:\n",
    "        test_set_videos[videoname]=[]\n",
    "    test_set_videos[videoname].append(img_name)\n",
    "    \n",
    "print(len(test_set_videos))"
   ]
  },
  {
   "cell_type": "code",
   "execution_count": 20,
   "metadata": {},
   "outputs": [
    {
     "name": "stderr",
     "output_type": "stream",
     "text": [
      "100%|██████████| 162/162 [01:04<00:00,  2.53it/s]"
     ]
    },
    {
     "name": "stdout",
     "output_type": "stream",
     "text": [
      "162\n"
     ]
    },
    {
     "name": "stderr",
     "output_type": "stream",
     "text": [
      "\n"
     ]
    }
   ],
   "source": [
    "test_videos={}\n",
    "test_videos_num_frames={}\n",
    "for videoname,img_files in tqdm(test_set_videos.items()):\n",
    "    X,indices,filenames=[],[],[]\n",
    "    num_present=num_missed=0\n",
    "    for img_name in img_files:\n",
    "        k=videoname+'/'+img_name\n",
    "        if k in filename2featuresAll:\n",
    "            X.append(filename2featuresAll[k][1])\n",
    "            indices.append(int(img_name[:-4]))\n",
    "            filenames.append(k)\n",
    "            num_present+=1\n",
    "        else:\n",
    "            num_missed+=1\n",
    "    X=np.array(X)\n",
    "    test_videos[videoname]=(mlpModel.predict(X,verbose=0),indices,filenames)\n",
    "    test_videos_num_frames[videoname]=(num_present,num_missed)\n",
    "print(len(test_videos))"
   ]
  },
  {
   "cell_type": "code",
   "execution_count": 22,
   "metadata": {},
   "outputs": [
    {
     "name": "stdout",
     "output_type": "stream",
     "text": [
      "/home/HDD6TB/datasets/emotions/ABAW/ABAW_6/6th_ABAW_Annotations/test_results/VA\n"
     ]
    }
   ],
   "source": [
    "delta=50 # 0 2 4 7\n",
    "OUTPUT_DIR=DATA_DIR+'/test_results/VA'\n",
    "if not os.path.exists(OUTPUT_DIR):\n",
    "    os.mkdir(OUTPUT_DIR)\n",
    "print(OUTPUT_DIR)"
   ]
  },
  {
   "cell_type": "code",
   "execution_count": 23,
   "metadata": {},
   "outputs": [],
   "source": [
    "def write_va_results(res_filename):\n",
    "    with open(os.path.join(OUTPUT_DIR,res_filename), 'w') as f:\n",
    "        f.write(test_set_sample[0]+'\\n')\n",
    "        for videoname,(y_pred_va,indices,filenames) in test_videos.items():\n",
    "            cur_ind=0\n",
    "            preds=[]\n",
    "            for i in range(indices[-1]):\n",
    "                if indices[cur_ind]-1==i:\n",
    "                    preds.append(y_pred_va[cur_ind])\n",
    "                    cur_ind+=1\n",
    "                else:\n",
    "                    if cur_ind==0:\n",
    "                        preds.append(y_pred_va[cur_ind])\n",
    "                    else:\n",
    "                        w=1-(i-indices[cur_ind-1]+1)/(indices[cur_ind]-indices[cur_ind-1])\n",
    "                        pred=w*y_pred_va[cur_ind-1]+(1-w)*y_pred_va[cur_ind]\n",
    "                        preds.append(pred)\n",
    "\n",
    "            pred=y_pred_va[cur_ind-1]\n",
    "            for _ in range(indices[-1],len(test_set_videos[videoname])):\n",
    "                preds.append(pred)\n",
    "\n",
    "            preds=np.array(preds)\n",
    "            for i,img_name in enumerate(test_set_videos[videoname]):\n",
    "                i1=max(i-delta,0)\n",
    "                pred=np.mean(preds[i1:i+delta+1],axis=0)\n",
    "                f.write(videoname+'/'+img_name+','+str(pred[0])+','+str(pred[1])+'\\n')"
   ]
  },
  {
   "cell_type": "code",
   "execution_count": 24,
   "metadata": {},
   "outputs": [
    {
     "name": "stdout",
     "output_type": "stream",
     "text": [
      "50\n"
     ]
    }
   ],
   "source": [
    "#res_filename='predictions_1_ddamfn_mtl.txt'\n",
    "#res_filename='predictions_2_mvit.txt'\n",
    "res_filename='predictions_3_mbf_aligned.txt'\n",
    "#res_filename='predictions_4_ddamfn.txt'\n",
    "#res_filename='predictions_5_mt_mlp_train_val.txt'\n",
    "print(delta)\n",
    "write_va_results(res_filename)"
   ]
  },
  {
   "cell_type": "markdown",
   "metadata": {},
   "source": [
    "## AU (Action Units)"
   ]
  },
  {
   "cell_type": "code",
   "execution_count": 12,
   "metadata": {},
   "outputs": [
    {
     "name": "stdout",
     "output_type": "stream",
     "text": [
      "(1359519, 768) (1359519, 12) 4\n",
      "(445836, 768) (445836, 12) 9\n"
     ]
    }
   ],
   "source": [
    "def get_image2AU(dirname):\n",
    "    dirpath=os.path.join(DATA_DIR,'AU_Detection_Challenge/',dirname)\n",
    "    num_missed=0\n",
    "    X,y=[],[]\n",
    "    for filename in os.listdir(dirpath):\n",
    "        fn, ext = os.path.splitext(os.path.basename(filename))\n",
    "        fn_short=fn\n",
    "        if fn.endswith('_left'):\n",
    "            fn_short=fn[:-5]\n",
    "        elif fn.endswith('_right'):\n",
    "            fn_short=fn[:-6]\n",
    "        if ext.lower()=='.txt':\n",
    "            with open(os.path.join(dirpath,filename)) as f:\n",
    "                lines = f.read().splitlines()\n",
    "                for i,line in enumerate(lines):\n",
    "                    if i>0:\n",
    "                        splitted_line=line.split(',')\n",
    "                        aus=list(map(int,splitted_line))\n",
    "                        if min(aus)>=0:\n",
    "                            imagename_short=fn_short+'/'+get_names(i)+'.jpg'\n",
    "                            imagename=fn+'/'+get_names(i)+'.jpg'\n",
    "                            has_image=imagename_short in filename2audio_features\n",
    "                            if dirname=='Validation_Set':\n",
    "                                has_frame=os.path.exists(os.path.join(DATA_DIR,'cropped',imagename))\n",
    "                                if has_image:\n",
    "                                    has_image=has_frame\n",
    "                                elif has_frame:\n",
    "                                    imagename_short=fn_short+'/'+get_names(i-1)+'.jpg'\n",
    "                                    has_image=imagename_short in filename2audio_features\n",
    "                            if has_image:\n",
    "                                X.append(filename2audio_features[imagename_short])\n",
    "                                y.append(aus)\n",
    "                            else:\n",
    "                                num_missed+=1\n",
    "    X=np.array(X)\n",
    "    y=np.array(y)\n",
    "    print(X.shape,y.shape,num_missed)\n",
    "    return X,y\n",
    "\n",
    "X_train,y_train=get_image2AU('Train_Set')\n",
    "X_val,y_val=get_image2AU('Validation_Set')\n",
    "TRAIN_VAL=False"
   ]
  },
  {
   "cell_type": "code",
   "execution_count": 25,
   "metadata": {},
   "outputs": [
    {
     "data": {
      "text/plain": [
       "1637"
      ]
     },
     "execution_count": 25,
     "metadata": {},
     "output_type": "execute_result"
    }
   ],
   "source": [
    "gc.collect()"
   ]
  },
  {
   "cell_type": "code",
   "execution_count": 13,
   "metadata": {},
   "outputs": [
    {
     "name": "stdout",
     "output_type": "stream",
     "text": [
      "(445836, 1280) (445836, 12) 9\n"
     ]
    }
   ],
   "source": [
    "def get_image2AU(dirname):\n",
    "    dirpath=os.path.join(DATA_DIR,'AU_Detection_Challenge/',dirname)\n",
    "    num_missed=0\n",
    "    X,y=[],[]\n",
    "    for filename in os.listdir(dirpath):\n",
    "        fn, ext = os.path.splitext(os.path.basename(filename))\n",
    "        if ext.lower()=='.txt':\n",
    "            with open(os.path.join(dirpath,filename)) as f:\n",
    "                lines = f.read().splitlines()\n",
    "                for i,line in enumerate(lines):\n",
    "                    if i>0:\n",
    "                        splitted_line=line.split(',')\n",
    "                        aus=list(map(int,splitted_line))\n",
    "                        if min(aus)>=0:\n",
    "                            imagename=fn+'/'+get_names(i)+'.jpg'\n",
    "                            if imagename in filename2featuresAll:\n",
    "                                X.append(filename2featuresAll[imagename][0])\n",
    "                                #X.append(filename2featuresAll[imagename][1])\n",
    "                                y.append(aus)\n",
    "                            else:\n",
    "                                num_missed+=1\n",
    "    X=np.array(X)\n",
    "    y=np.array(y)\n",
    "    print(X.shape,y.shape,num_missed)\n",
    "    return X,y\n",
    "\n",
    "#X_train,y_train=get_image2AU('Train_Set')\n",
    "X_val,y_val=get_image2AU('Validation_Set')\n",
    "TRAIN_VAL=False"
   ]
  },
  {
   "cell_type": "code",
   "execution_count": 31,
   "metadata": {},
   "outputs": [],
   "source": [
    "if False:\n",
    "    TRAIN_VAL=True\n",
    "    X_train=np.concatenate((X_train,X_val))\n",
    "    y_train=np.concatenate((y_train,y_val))\n",
    "    print(X_train.shape,y_train.shape)"
   ]
  },
  {
   "cell_type": "code",
   "execution_count": 14,
   "metadata": {},
   "outputs": [],
   "source": [
    "def print_au():\n",
    "    y_val_preds=mlpModel.predict(X_val,verbose=0)\n",
    "    new_pred = ((y_val_preds >= 0.5) * 1)\n",
    "    print(np.mean([f1_score(y_true=y_val[:,i],y_pred=new_pred[:,i]) for i in range(y_val_preds.shape[1])]))\n",
    "    print(f1_score_max(y_val,y_val_preds,thresh=np.arange(0.1,1,0.1)))\n"
   ]
  },
  {
   "cell_type": "code",
   "execution_count": 15,
   "metadata": {},
   "outputs": [
    {
     "name": "stdout",
     "output_type": "stream",
     "text": [
      "12\n"
     ]
    }
   ],
   "source": [
    "num_labels=12 #y_train.shape[1]\n",
    "print(num_labels)"
   ]
  },
  {
   "cell_type": "code",
   "execution_count": 15,
   "metadata": {},
   "outputs": [
    {
     "name": "stdout",
     "output_type": "stream",
     "text": [
      "12\n",
      "[[ 0.56699251  4.23176065]\n",
      " [ 0.52619425 10.04407954]\n",
      " [ 0.59098984  3.24755959]\n",
      " [ 0.68128675  1.87903072]\n",
      " [ 0.82920106  1.25941432]\n",
      " [ 0.76269582  1.45167103]\n",
      " [ 0.66217018  2.04159042]\n",
      " [ 0.51446164 17.78710963]\n",
      " [ 0.51622814 15.90534362]\n",
      " [ 0.5131443  19.51965355]\n",
      " [ 1.33894495  0.79799333]\n",
      " [ 0.540114    6.73223767]]\n"
     ]
    }
   ],
   "source": [
    "from sklearn.utils.class_weight import compute_class_weight\n",
    "class_weights = np.empty([num_labels, 2])\n",
    "for i in range(num_labels):\n",
    "    neg, pos = np.bincount(y_train[:, i])\n",
    "    total = neg + pos\n",
    "    weight_for_0 = (1 / neg) * (total / 2.0)\n",
    "    weight_for_1 = (1 / pos) * (total / 2.0)\n",
    "\n",
    "    class_weights[i][0]=weight_for_0\n",
    "    class_weights[i][1]=weight_for_1\n",
    "    #class_weights[i] = compute_class_weight('balanced', [0,1], y_train[:, i])\n",
    "print(class_weights)"
   ]
  },
  {
   "cell_type": "code",
   "execution_count": 16,
   "metadata": {},
   "outputs": [],
   "source": [
    "if False:\n",
    "    loss='binary_crossentropy'\n",
    "    #loss='hinge'\n",
    "else:\n",
    "    import tensorflow.keras.backend as K\n",
    "    def get_weighted_loss(weights):\n",
    "        def weighted_loss(y_true, y_pred):\n",
    "            y_true=tf.cast(y_true, tf.float32)\n",
    "            ce=K.binary_crossentropy(y_true, y_pred)\n",
    "            return K.mean((weights[:,0]**(1-y_true))*(weights[:,1]**(y_true))*ce, axis=-1)\n",
    "        return weighted_loss\n",
    "    loss=get_weighted_loss(class_weights)"
   ]
  },
  {
   "cell_type": "code",
   "execution_count": 17,
   "metadata": {},
   "outputs": [],
   "source": [
    "metrics=[tf.keras.metrics.AUC(multi_label=True,name='auc'), tf.keras.metrics.BinaryAccuracy(),tf.keras.metrics.Recall(),tf.keras.metrics.Precision()] # "
   ]
  },
  {
   "cell_type": "code",
   "execution_count": 16,
   "metadata": {},
   "outputs": [],
   "source": [
    "batch_size=512 #256 #128\n",
    "mlpModel=Sequential()\n",
    "if False:\n",
    "    mlpModel.add(Dense(y_train.shape[1], input_shape=X_train.shape[1:],activation='sigmoid',use_bias=True,kernel_regularizer=tf.keras.regularizers.l2(1.0/batch_size)))\n",
    "else:\n",
    "    mlpModel.add(Dense(128, input_shape=X_val.shape[1:],activation='relu')) #256\n",
    "    mlpModel.add(Dense(y_val.shape[1],activation='sigmoid'))"
   ]
  },
  {
   "cell_type": "code",
   "execution_count": 19,
   "metadata": {},
   "outputs": [
    {
     "name": "stdout",
     "output_type": "stream",
     "text": [
      "Model: \"sequential\"\n",
      "_________________________________________________________________\n",
      " Layer (type)                Output Shape              Param #   \n",
      "=================================================================\n",
      " dense (Dense)               (None, 128)               163968    \n",
      "                                                                 \n",
      " dense_1 (Dense)             (None, 12)                1548      \n",
      "                                                                 \n",
      "=================================================================\n",
      "Total params: 165516 (646.55 KB)\n",
      "Trainable params: 165516 (646.55 KB)\n",
      "Non-trainable params: 0 (0.00 Byte)\n",
      "_________________________________________________________________\n",
      "Epoch 1/5\n",
      "2650/2650 [==============================] - 27s 9ms/step - loss: 0.3159 - auc: 0.9372 - binary_accuracy: 0.8615 - recall: 0.8396 - precision: 0.6070 - val_loss: 0.7022 - val_auc: 0.8198 - val_binary_accuracy: 0.8261 - val_recall: 0.7448 - val_precision: 0.5593\n",
      "Epoch 2/5\n",
      "2650/2650 [==============================] - 22s 8ms/step - loss: 0.2556 - auc: 0.9573 - binary_accuracy: 0.8879 - recall: 0.8671 - precision: 0.6648 - val_loss: 0.8108 - val_auc: 0.8144 - val_binary_accuracy: 0.8342 - val_recall: 0.7323 - val_precision: 0.5777\n",
      "Epoch 3/5\n",
      "2650/2650 [==============================] - 22s 8ms/step - loss: 0.2352 - auc: 0.9630 - binary_accuracy: 0.8966 - recall: 0.8761 - precision: 0.6855 - val_loss: 0.8477 - val_auc: 0.8113 - val_binary_accuracy: 0.8283 - val_recall: 0.7310 - val_precision: 0.5652\n",
      "Epoch 4/5\n",
      "2650/2650 [==============================] - 22s 8ms/step - loss: 0.2222 - auc: 0.9663 - binary_accuracy: 0.9022 - recall: 0.8817 - precision: 0.6994 - val_loss: 0.9307 - val_auc: 0.8062 - val_binary_accuracy: 0.8334 - val_recall: 0.7202 - val_precision: 0.5775\n",
      "Epoch 5/5\n",
      "2650/2650 [==============================] - 22s 8ms/step - loss: 0.2131 - auc: 0.9686 - binary_accuracy: 0.9061 - recall: 0.8856 - precision: 0.7092 - val_loss: 0.9694 - val_auc: 0.8040 - val_binary_accuracy: 0.8354 - val_recall: 0.6971 - val_precision: 0.5852\n",
      "0.7021927833557129\n"
     ]
    }
   ],
   "source": [
    "mlpModel.compile(optimizer=Adam(learning_rate=1e-3), loss=loss, metrics=metrics)\n",
    "mlpModel.summary()\n",
    "\n",
    "save_best_model = SaveBestModel('val_loss',False)\n",
    "mlpModel.fit(X_train,y_train, batch_size=batch_size, epochs=1 if TRAIN_VAL else 5, verbose=1, callbacks=[save_best_model], validation_data=(X_val,y_val))\n",
    "best_model_weights = save_best_model.best_model_weights\n",
    "print(save_best_model.best)"
   ]
  },
  {
   "cell_type": "code",
   "execution_count": 21,
   "metadata": {},
   "outputs": [
    {
     "name": "stdout",
     "output_type": "stream",
     "text": [
      "0.491911464367663\n",
      "(0.5078419186907625, 0.625, array([0.52540132, 0.43592915, 0.5570637 , 0.59322889, 0.73249075,\n",
      "       0.73485564, 0.69902627, 0.29454367, 0.18605841, 0.17785543,\n",
      "       0.83247551, 0.32517427]), array([0.8, 0.8, 0.7, 0.5, 0.4, 0.5, 0.6, 0.8, 0.8, 0.9, 0.2, 0.5]), array([0.87440225, 0.90385254, 0.86444343, 0.79203339, 0.76590271,\n",
      "       0.79922438, 0.85330032, 0.95171543, 0.95005563, 0.95778044,\n",
      "       0.76229376, 0.81739249]))\n",
      "Best weights:\n",
      "0.49971426758356574\n",
      "(0.5233585232566621, 0.6583333333333333, array([0.54733899, 0.44180561, 0.56990565, 0.61997328, 0.73956417,\n",
      "       0.74692377, 0.72684634, 0.33222808, 0.17383676, 0.20608964,\n",
      "       0.83688068, 0.33890931]), array([0.7, 0.8, 0.7, 0.6, 0.5, 0.6, 0.7, 0.8, 0.7, 0.9, 0.3, 0.6]), array([0.86638136, 0.90711158, 0.86534735, 0.80346585, 0.77356472,\n",
      "       0.81736558, 0.86728304, 0.94037269, 0.9450807 , 0.96134229,\n",
      "       0.77520658, 0.83503575]))\n"
     ]
    }
   ],
   "source": [
    "print_au()\n",
    "print('Best weights:')\n",
    "mlpModel.set_weights(best_model_weights)\n",
    "print_au()"
   ]
  },
  {
   "cell_type": "code",
   "execution_count": 22,
   "metadata": {},
   "outputs": [],
   "source": [
    "if True:\n",
    "    mlpModel.save_weights('au_enet0_vgaf.h5') #0.49971426758356574   with thresholds 0.5233585232566621\n",
    "    #mlpModel.save_weights('au_enet0_mtl.h5') #0.5051735938712013\n",
    "else:\n",
    "    #mlpModel.load_weights('au_enet0_mtl.h5') #0.5051735938712013\n",
    "    mlpModel.load_weights('../au_enet0_vgaf.h5') #0.507568027779308\n",
    "    print_au()"
   ]
  },
  {
   "cell_type": "code",
   "execution_count": 17,
   "metadata": {},
   "outputs": [
    {
     "name": "stdout",
     "output_type": "stream",
     "text": [
      "0.5367145284583944\n"
     ]
    }
   ],
   "source": [
    "#mlpModel.load_weights('au_enet0_mtl.h5') \n",
    "mlpModel.load_weights('../au_enet0_vgaf.h5')\n",
    "#mlpModel.load_weights('au_enet0_vgaf.h5')\n",
    "y_val_preds=mlpModel.predict(X_val,verbose=0)\n",
    "\n",
    "thresholds=0.5\n",
    "#thresholds=np.array([0.8, 0.7, 0.7, 0.6, 0.4, 0.5, 0.7, 0.8, 0.7, 0.8, 0.3, 0.6]) #mtl 0.5231335444336457\n",
    "thresholds=np.array([0.8, 0.8, 0.7, 0.5, 0.5, 0.5, 0.6, 0.8, 0.8, 0.8, 0.3, 0.7]) #vgaf 0.5367145284583944\n",
    "#thresholds=np.array([0.7, 0.8, 0.7, 0.6, 0.5, 0.6, 0.7, 0.8, 0.7, 0.9, 0.3, 0.6]) #new vgaf 0.5233\n",
    "\n",
    "new_pred = ((y_val_preds >= thresholds) * 1)\n",
    "print(np.mean([f1_score(y_true=y_val[:,i],y_pred=new_pred[:,i]) for i in range(y_val_preds.shape[1])]))"
   ]
  },
  {
   "cell_type": "markdown",
   "metadata": {},
   "source": [
    "enet_b0_8_best_vgaf\n",
    "features\n",
    "dense: 0.507568027779308\n",
    "(0.5367145284583944, 0.65, array([0.56438654, 0.47163507, 0.57207889, 0.61677155, 0.74818918,\n",
    "       0.74534595, 0.71942028, 0.35743029, 0.19360184, 0.24140214,\n",
    "       0.83680711, 0.37350551]), array([0.8, 0.8, 0.7, 0.5, 0.5, 0.5, 0.6, 0.8, 0.8, 0.8, 0.3, 0.7]), array([0.8884859 , 0.90530374, 0.8692748 , 0.79757579, 0.78782557,\n",
    "       0.80682583, 0.8569631 , 0.94949937, 0.94323473, 0.95116814,\n",
    "       0.77594452, 0.85026333]))\n",
    "       \n",
    "       \n",
    " mtl\n",
    " 0.49428877376095776\n",
    "(0.524806956530541, 0.7000000000000001, array([0.54610128, 0.42494575, 0.55170266, 0.62691763, 0.74382282,\n",
    "       0.74725918, 0.7251595 , 0.31431459, 0.21263799, 0.1999356 ,\n",
    "       0.83512272, 0.36976376]), array([0.8, 0.8, 0.8, 0.6, 0.6, 0.6, 0.6, 0.9, 0.8, 0.9, 0.3, 0.7]), array([0.87291964, 0.89063243, 0.86118887, 0.81252075, 0.78728725,\n",
    "       0.81416036, 0.86124943, 0.95587391, 0.95360626, 0.94984479,\n",
    "       0.76649485, 0.83221633]))\n",
    "  \n",
    "mobilevit\n",
    "\n",
    "\n",
    "mbf va\n",
    "aligned\n",
    "0.49395180549777845\n",
    "(0.5138956655767873, 0.6166666666666667, array([0.55458993, 0.46030387, 0.52201501, 0.60131261, 0.73701005,\n",
    "       0.74490043, 0.72465352, 0.21345907, 0.20569011, 0.18655959,\n",
    "       0.83514125, 0.38111255]), array([0.7, 0.7, 0.7, 0.5, 0.5, 0.5, 0.6, 0.7, 0.8, 0.8, 0.2, 0.7]), array([0.87584923, 0.89682289, 0.83610672, 0.77777254, 0.77706153,\n",
    "       0.80617479, 0.86328433, 0.9176844 , 0.93431125, 0.91548408,\n",
    "       0.76428355, 0.85886126]))\n",
    "       \n",
    "cropped\n",
    "0.48976671672471106\n",
    "(0.5118960500450163, 0.65, array([0.5574673 , 0.44718576, 0.5341304 , 0.62001219, 0.73774852,\n",
    "       0.7362523 , 0.72324681, 0.21351073, 0.17458311, 0.19521589,\n",
    "       0.8317598 , 0.3716398 ]), array([0.8, 0.8, 0.7, 0.5, 0.5, 0.5, 0.6, 0.8, 0.9, 0.8, 0.3, 0.6]), array([0.88496667, 0.90139423, 0.84635382, 0.79159377, 0.77860245,\n",
    "       0.80225015, 0.85873505, 0.93317498, 0.95459093, 0.92876304,\n",
    "       0.76869746, 0.83395464]))\n",
    "       \n",
    "       \n",
    "ddamfnet_8\n",
    "0.4814973773696072\n",
    "(0.4995985310266646, 0.6249999999999999, array([0.53501881, 0.40728173, 0.5185663 , 0.60379126, 0.72403863,\n",
    "       0.74413836, 0.71912137, 0.27730055, 0.12892977, 0.15080272,\n",
    "       0.83702449, 0.34916839]), array([0.7, 0.7, 0.6, 0.5, 0.5, 0.6, 0.7, 0.8, 0.8, 0.7, 0.3, 0.6]), array([0.86551781, 0.8840291 , 0.84430149, 0.78176953, 0.76399842,\n",
    "       0.81302317, 0.86852565, 0.933009  , 0.92989799, 0.911611  ,\n",
    "       0.77073632, 0.80953983]))\n",
    "       \n",
    "ddamfnet_8_mtl\n",
    "0.4942434829749742\n",
    "(0.5186135341795804, 0.6249999999999999, array([0.54665768, 0.42375098, 0.55403914, 0.58823144, 0.74101162,\n",
    "       0.74306217, 0.71142892, 0.31996645, 0.16365459, 0.22078036,\n",
    "       0.83975962, 0.37101944]), array([0.8, 0.7, 0.7, 0.5, 0.5, 0.5, 0.6, 0.8, 0.8, 0.8, 0.2, 0.6]), array([0.87629981, 0.88140931, 0.85949766, 0.77443499, 0.78094187,\n",
    "       0.80757498, 0.85580572, 0.95272028, 0.94197642, 0.94019998,\n",
    "       0.7711109 , 0.82482796]))\n",
    "       \n",
    "       \n",
    "wav2vec2\n",
    "0.2840194507261368\n",
    "(0.3132785640731865, 0.2833333333333334, array([0.25667474, 0.16895004, 0.2680858 , 0.41130376, 0.56997966,\n",
    "       0.52191738, 0.40528612, 0.0650814 , 0.05036584, 0.06110345,\n",
    "       0.7870438 , 0.19355077]), array([0.4, 0.2, 0.1, 0.3, 0.1, 0.3, 0.2, 0.5, 0.5, 0.4, 0.1, 0.3]), array([0.27618003, 0.10473807, 0.16910478, 0.41023156, 0.398595  ,\n",
    "       0.38639545, 0.31180299, 0.7723894 , 0.59011834, 0.45318009,\n",
    "       0.64886416, 0.16771862]))"
   ]
  },
  {
   "cell_type": "markdown",
   "metadata": {},
   "source": [
    "### Smooth validation predictions"
   ]
  },
  {
   "cell_type": "code",
   "execution_count": 22,
   "metadata": {},
   "outputs": [
    {
     "name": "stderr",
     "output_type": "stream",
     "text": [
      "100%|██████████| 105/105 [00:38<00:00,  2.70it/s]"
     ]
    },
    {
     "name": "stdout",
     "output_type": "stream",
     "text": [
      "105\n"
     ]
    },
    {
     "name": "stderr",
     "output_type": "stream",
     "text": [
      "\n"
     ]
    }
   ],
   "source": [
    "data_dir=os.path.join(DATA_DIR,'faces')\n",
    "dirpath=os.path.join(DATA_DIR,'AU_Detection_Challenge/Validation_Set')\n",
    "test_videos={}\n",
    "for filename in tqdm(os.listdir(dirpath)):\n",
    "    fn, ext = os.path.splitext(os.path.basename(filename))\n",
    "    if ext.lower()=='.txt':\n",
    "        X,indices,y_true=[],[],[]\n",
    "        with open(os.path.join(dirpath,filename)) as f:\n",
    "            lines = f.read().splitlines()\n",
    "            prev_val=None\n",
    "            for i,line in enumerate(lines):\n",
    "                if i>0:\n",
    "                    imagename=fn+'/'+get_names(i)+'.jpg'\n",
    "                    if imagename in filename2featuresAll:\n",
    "                        X.append(filename2featuresAll[imagename][0])\n",
    "                        indices.append(i)\n",
    "                        splitted_line=line.split(',')\n",
    "                        aus=list(map(int,splitted_line))\n",
    "                        y_true.append(aus)\n",
    "        test_videos[fn]=(mlpModel.predict(np.array(X),verbose=0),indices,np.array(y_true))\n",
    "print(len(test_videos))"
   ]
  },
  {
   "cell_type": "code",
   "execution_count": 23,
   "metadata": {},
   "outputs": [
    {
     "name": "stdout",
     "output_type": "stream",
     "text": [
      "[0.8 0.8 0.7 0.5 0.5 0.5 0.6 0.8 0.8 0.8 0.3 0.7]\n"
     ]
    }
   ],
   "source": [
    "#thresholds=np.array([0.7, 0.7, 0.7, 0.5, 0.5, 0.5, 0.6, 0.7, 0.8, 0.8, 0.2, 0.7])\n",
    "print(thresholds)"
   ]
  },
  {
   "cell_type": "code",
   "execution_count": 24,
   "metadata": {},
   "outputs": [
    {
     "name": "stdout",
     "output_type": "stream",
     "text": [
      "[0.8 0.8 0.7 0.5 0.5 0.5 0.6 0.8 0.8 0.8 0.3 0.7]\n",
      "0 0.5367145284583944 [0.5643865382761913, 0.47163506664163696, 0.5720788851524985, 0.6167715525660951, 0.7481891822104622, 0.7453459491425192, 0.7194202822032445, 0.35743029196038706, 0.1936018353301045, 0.24140213944736752, 0.8368071098332, 0.37350550873702587]\n",
      "3 0.5456822065868149 [0.5675945700693865, 0.47961255224573734, 0.5848487169666795, 0.628011471864264, 0.7567708903077084, 0.7562556656908057, 0.7304457640325658, 0.3765327897569832, 0.19647175421209118, 0.24637173650830707, 0.8441359824979983, 0.38113458488925267]\n",
      "5 0.5454552939073799 [0.5660423118540353, 0.4809454111779693, 0.5857568833985207, 0.6315989382135226, 0.7584234592339255, 0.7565109819851433, 0.7330824865376382, 0.3782388563486549, 0.1837140879196954, 0.24740191734471922, 0.8442784774770199, 0.37946971539771346]\n",
      "7 0.5446267456097115 [0.561316420201025, 0.480574231235534, 0.5853860710990162, 0.6356760218431688, 0.759301916370733, 0.7552581546398808, 0.7336239402128402, 0.37812574625592743, 0.1750276650682405, 0.2494686392998541, 0.8435891401485656, 0.3781730009417521]\n",
      "10 0.5418115763394616 [0.5543320776586497, 0.47843479730681465, 0.584511496979473, 0.6390034289682712, 0.7587050229381018, 0.753651672845848, 0.7337673876098614, 0.37506195567513984, 0.1574943187432072, 0.2502683900888908, 0.8422044513685163, 0.3743039158907649]\n",
      "15 0.53522486196649 [0.5378748053442308, 0.4714650951163496, 0.581453634085213, 0.6426004417126603, 0.7574207845894863, 0.75095650722893, 0.7316105206103645, 0.36956682710107364, 0.12495963835970296, 0.24533786503286972, 0.83998089845908, 0.36947132595791854]\n",
      "20 0.5297795725236669 [0.5251817500658148, 0.46565753525806686, 0.5783122726791918, 0.6448481038629944, 0.7555063617835344, 0.748244937347912, 0.7284128298987917, 0.36282812799386854, 0.1006715261436033, 0.24514585442164352, 0.8383794766011383, 0.36416609422744395]\n",
      "25 0.5239066336092612 [0.5118636733600519, 0.45818225767464343, 0.5736875916256239, 0.6468404088290991, 0.753699141788464, 0.7453973929236498, 0.7261512125004072, 0.35179256097078937, 0.08244937319189971, 0.24310068757652822, 0.8371843311270164, 0.3565309717429599]\n",
      "50 0.5011585963898221 [0.4532613348259854, 0.4237691001697793, 0.5473669749190729, 0.6485601804750741, 0.7440373020852162, 0.7334709387993723, 0.7100628273246585, 0.30889344441052036, 0.042986425339366516, 0.23424820385589495, 0.8324932233163782, 0.3347532011565469]\n"
     ]
    }
   ],
   "source": [
    "deltas=[0,3,5,7,10,15,20,25,50]\n",
    "total_true=[]\n",
    "total_preds=[[] for _ in range(len(deltas))]\n",
    "print(thresholds)\n",
    "for videoname,(y_pred_aus,indices,y_true) in test_videos.items():\n",
    "    for i,ind in enumerate(indices):\n",
    "        if min(y_true[i])>=0:\n",
    "            total_true.append(y_true[i])\n",
    "    cur_ind=0\n",
    "    preds=[]\n",
    "    for i in range(indices[-1]):\n",
    "        if indices[cur_ind]-1==i:\n",
    "            preds.append(y_pred_aus[cur_ind])\n",
    "            cur_ind+=1\n",
    "        else:\n",
    "            if cur_ind==0:\n",
    "                preds.append(y_pred_aus[cur_ind])\n",
    "            else:\n",
    "                w=1-(i-indices[cur_ind-1]+1)/(indices[cur_ind]-indices[cur_ind-1])\n",
    "                pred=w*y_pred_aus[cur_ind-1]+(1-w)*y_pred_aus[cur_ind]\n",
    "                preds.append(pred)\n",
    "    \n",
    "    preds=np.array(preds)\n",
    "    for hInd,delta in enumerate(deltas):\n",
    "        cur_preds=[]\n",
    "        for i in range(len(preds)):\n",
    "            i1=max(i-delta,0)\n",
    "            pred=np.mean(preds[i1:i+delta+1],axis=0)\n",
    "            aus=(pred>=thresholds)*1\n",
    "            #aus=(pred>=0.5)*1\n",
    "            cur_preds.append(aus)\n",
    "        for i,ind in enumerate(indices):\n",
    "            if min(y_true[i])>=0:\n",
    "                total_preds[hInd].append(cur_preds[ind-1])\n",
    "    \n",
    "\n",
    "total_true=np.array(total_true)\n",
    "for hInd,delta in enumerate(deltas):\n",
    "    preds=np.array(total_preds[hInd])\n",
    "    f1scores=[f1_score(y_true=total_true[:,i],y_pred=preds[:,i]) for i in range(preds.shape[1])]\n",
    "    print(delta,np.mean(f1scores),f1scores)"
   ]
  },
  {
   "cell_type": "markdown",
   "metadata": {},
   "source": [
    "### Save test results"
   ]
  },
  {
   "cell_type": "code",
   "execution_count": 25,
   "metadata": {},
   "outputs": [
    {
     "name": "stdout",
     "output_type": "stream",
     "text": [
      "729737 ['image_location,AU1,AU2,AU4,AU6,AU7,AU10,AU12,AU15,AU23,AU24,AU25,AU26', '2-30-640x360/00001.jpg,1,0,1,1,1,0,0,1,0,0,0,1', '2-30-640x360/00002.jpg,1,0,1,1,1,0,0,1,0,0,0,1', '2-30-640x360/00003.jpg,1,0,1,1,1,0,0,1,0,0,0,1', '2-30-640x360/00004.jpg,1,0,1,1,1,0,0,1,0,0,0,1']\n",
      "141\n"
     ]
    }
   ],
   "source": [
    "with open(os.path.join(DATA_DIR,'../test_set_examples/CVPR_6th_ABAW_AU_test_set_example.txt'),'r') as f:\n",
    "    test_set_sample=f.read().splitlines()\n",
    "print(len(test_set_sample),test_set_sample[:5])\n",
    "\n",
    "test_set_videos={}\n",
    "for s in test_set_sample[1:]:\n",
    "    videoname,img_name=s.split(',')[0].split('/')\n",
    "    if videoname not in test_set_videos:\n",
    "        test_set_videos[videoname]=[]\n",
    "    test_set_videos[videoname].append(img_name)\n",
    "    \n",
    "print(len(test_set_videos))"
   ]
  },
  {
   "cell_type": "code",
   "execution_count": 28,
   "metadata": {},
   "outputs": [
    {
     "name": "stderr",
     "output_type": "stream",
     "text": [
      "100%|██████████| 141/141 [00:58<00:00,  2.40it/s]"
     ]
    },
    {
     "name": "stdout",
     "output_type": "stream",
     "text": [
      "141\n"
     ]
    },
    {
     "name": "stderr",
     "output_type": "stream",
     "text": [
      "\n"
     ]
    }
   ],
   "source": [
    "test_videos={}\n",
    "test_videos_num_frames={}\n",
    "for videoname,img_files in tqdm(test_set_videos.items()):\n",
    "    X,indices,filenames=[],[],[]\n",
    "    num_present=num_missed=0\n",
    "    for img_name in img_files:\n",
    "        k=videoname+'/'+img_name\n",
    "        if k in filename2featuresAll:\n",
    "            X.append(filename2featuresAll[k][0])\n",
    "            indices.append(int(img_name[:-4]))\n",
    "            filenames.append(k)\n",
    "            num_present+=1\n",
    "        else:\n",
    "            num_missed+=1\n",
    "    X=np.array(X)\n",
    "    test_videos[videoname]=(mlpModel.predict(X,verbose=0),indices,filenames)\n",
    "    test_videos_num_frames[videoname]=(num_present,num_missed)\n",
    "print(len(test_videos))\n"
   ]
  },
  {
   "cell_type": "code",
   "execution_count": 30,
   "metadata": {},
   "outputs": [
    {
     "name": "stdout",
     "output_type": "stream",
     "text": [
      "/home/HDD6TB/datasets/emotions/ABAW/ABAW_6/6th_ABAW_Annotations/test_results/AU\n"
     ]
    }
   ],
   "source": [
    "delta=5\n",
    "OUTPUT_DIR=DATA_DIR+'/test_results/AU'\n",
    "if not os.path.exists(OUTPUT_DIR):\n",
    "    os.mkdir(OUTPUT_DIR)\n",
    "print(OUTPUT_DIR)"
   ]
  },
  {
   "cell_type": "code",
   "execution_count": 33,
   "metadata": {},
   "outputs": [],
   "source": [
    "def write_au_results(res_filename):\n",
    "    with open(os.path.join(OUTPUT_DIR,res_filename), 'w') as f:\n",
    "        f.write(test_set_sample[0]+'\\n')\n",
    "        for videoname,(y_pred_au,indices,filenames) in test_videos.items():\n",
    "            cur_ind=0\n",
    "            preds=[]\n",
    "            for i in range(indices[-1]):\n",
    "                if indices[cur_ind]-1==i:\n",
    "                    preds.append(y_pred_au[cur_ind])\n",
    "                    cur_ind+=1\n",
    "                else:\n",
    "                    if cur_ind==0:\n",
    "                        preds.append(y_pred_au[cur_ind])\n",
    "                    else:\n",
    "                        w=1-(i-indices[cur_ind-1]+1)/(indices[cur_ind]-indices[cur_ind-1])\n",
    "                        pred=w*y_pred_au[cur_ind-1]+(1-w)*y_pred_au[cur_ind]\n",
    "                        preds.append(pred)\n",
    "\n",
    "            pred=y_pred_au[cur_ind-1]\n",
    "            for _ in range(indices[-1],len(test_set_videos[videoname])):\n",
    "                preds.append(pred)\n",
    "\n",
    "            preds=np.array(preds)\n",
    "            for i,img_name in enumerate(test_set_videos[videoname]):\n",
    "                i1=max(i-delta,0)\n",
    "                pred=np.mean(preds[i1:i+delta+1],axis=0)\n",
    "                aus=(pred>=thresholds)*1\n",
    "                f.write(videoname+'/'+img_name+','+','.join(map(str,aus))+'\\n')\n"
   ]
  },
  {
   "cell_type": "code",
   "execution_count": 34,
   "metadata": {},
   "outputs": [],
   "source": [
    "res_filename='predictions_1_vgaf.txt'\n",
    "#res_filename='predictions_2_vgaf_mlp.txt'\n",
    "#res_filename='predictions_5_vgaf_mlp_train_val.txt'\n",
    "write_au_results(res_filename)"
   ]
  }
 ],
 "metadata": {
  "kernelspec": {
   "display_name": "Python 3",
   "language": "python",
   "name": "python3"
  },
  "language_info": {
   "codemirror_mode": {
    "name": "ipython",
    "version": 3
   },
   "file_extension": ".py",
   "mimetype": "text/x-python",
   "name": "python",
   "nbconvert_exporter": "python",
   "pygments_lexer": "ipython3",
   "version": "3.8.10"
  }
 },
 "nbformat": 4,
 "nbformat_minor": 2
}
