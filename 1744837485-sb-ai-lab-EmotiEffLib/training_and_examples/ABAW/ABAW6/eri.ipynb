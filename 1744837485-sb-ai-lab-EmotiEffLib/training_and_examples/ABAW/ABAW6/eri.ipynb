{
 "cells": [
  {
   "cell_type": "code",
   "execution_count": 1,
   "metadata": {},
   "outputs": [
    {
     "name": "stdout",
     "output_type": "stream",
     "text": [
      "env: CUDA_VISIBLE_DEVICES=1\n"
     ]
    }
   ],
   "source": [
    "%env CUDA_VISIBLE_DEVICES=1"
   ]
  },
  {
   "cell_type": "code",
   "execution_count": 2,
   "metadata": {},
   "outputs": [],
   "source": [
    "DATA_DIR = '/home/HDD6TB/datasets/emotions/ABAW/ABAW_6/ERI/'\n",
    "VIDEO_DIR=DATA_DIR+'raw/'\n",
    "AUDIO_DIR=DATA_DIR+'audio/'\n",
    "FRAMES_DIR=DATA_DIR+'frames/'\n",
    "FACES_DIR=DATA_DIR+'face_images/'\n",
    "TRAIN_LABELS=DATA_DIR+'train_split.csv'\n",
    "VAL_LABELS=DATA_DIR+'valid_split.csv'\n",
    "\n",
    "TEST_DATA_DIR = DATA_DIR+'test_data/'\n",
    "TEST_VIDEO_DIR=TEST_DATA_DIR+'raw/'\n",
    "TEST_AUDIO_DIR=TEST_DATA_DIR+'audio/'\n",
    "TEST_FRAMES_DIR=TEST_DATA_DIR+'frames/'\n",
    "TEST_FACES_DIR=TEST_DATA_DIR+'face_images/'"
   ]
  },
  {
   "cell_type": "code",
   "execution_count": 3,
   "metadata": {},
   "outputs": [],
   "source": [
    "import os\n",
    "from PIL import Image\n",
    "import cv2\n",
    "import pathlib\n",
    "\n",
    "from sklearn.model_selection import train_test_split\n",
    "from sklearn import preprocessing\n",
    "from sklearn import svm\n",
    "from sklearn.ensemble import RandomForestClassifier,RandomForestRegressor\n",
    "from sklearn import svm,metrics,preprocessing\n",
    "from sklearn.neighbors import KNeighborsClassifier\n",
    "from sklearn.decomposition import PCA\n",
    "from sklearn.pipeline import Pipeline\n",
    "from sklearn.metrics import precision_score, recall_score, accuracy_score, f1_score,roc_auc_score,average_precision_score\n",
    "\n",
    "from collections import defaultdict\n",
    "import os\n",
    "import glob\n",
    "import random\n",
    "import numpy as np\n",
    "from tqdm import tqdm\n",
    "import time\n",
    "import pickle\n",
    "import pandas as pd\n",
    "import random\n",
    "import csv  \n",
    "import matplotlib.pyplot as plt"
   ]
  },
  {
   "cell_type": "code",
   "execution_count": 4,
   "metadata": {},
   "outputs": [],
   "source": [
    "def get_names(id):\n",
    "    name = \"\"\n",
    "    if id>=0 and id<10:\n",
    "        name = \"0000\" + str(id)\n",
    "    elif id>=10 and id<100:\n",
    "        name = \"000\" + str(id)\n",
    "    elif id>=100 and id<1000:\n",
    "        name = \"00\" + str(id)\n",
    "    elif id>=1000 and id<10000:\n",
    "        name = \"0\" + str(id)\n",
    "    else:\n",
    "        name = str(id)\n",
    "    return name"
   ]
  },
  {
   "cell_type": "code",
   "execution_count": 5,
   "metadata": {},
   "outputs": [],
   "source": [
    "compare_filenames=lambda x: int(os.path.splitext(x)[0])"
   ]
  },
  {
   "cell_type": "markdown",
   "metadata": {},
   "source": [
    "# Extract features"
   ]
  },
  {
   "cell_type": "code",
   "execution_count": 9,
   "metadata": {},
   "outputs": [
    {
     "name": "stdout",
     "output_type": "stream",
     "text": [
      "Torch: 2.0.1+cu118\n",
      "True\n"
     ]
    }
   ],
   "source": [
    "import glob\n",
    "from itertools import chain\n",
    "import os\n",
    "import random\n",
    "import zipfile\n",
    "\n",
    "import matplotlib.pyplot as plt\n",
    "import numpy as np\n",
    "import pandas as pd\n",
    "import torch\n",
    "import torch.nn as nn\n",
    "import torch.nn.functional as F\n",
    "import torch.optim as optim\n",
    "from PIL import Image\n",
    "from sklearn.model_selection import train_test_split\n",
    "from torch.optim.lr_scheduler import StepLR\n",
    "from torch.utils.data import DataLoader, Dataset\n",
    "from torchvision import datasets, transforms\n",
    "from tqdm.notebook import tqdm\n",
    "\n",
    "print(f\"Torch: {torch.__version__}\")\n",
    "device = 'cuda'\n",
    "use_cuda = torch.cuda.is_available()\n",
    "print(use_cuda)"
   ]
  },
  {
   "cell_type": "code",
   "execution_count": 10,
   "metadata": {},
   "outputs": [],
   "source": [
    "if True:\n",
    "    if False:\n",
    "        model_name='mbf_va_mtl.pt'\n",
    "\n",
    "        IMG_SIZE=112\n",
    "\n",
    "        test_transforms = transforms.Compose(\n",
    "        [\n",
    "            transforms.Resize((112,112)),\n",
    "            #transforms.RandomHorizontalFlip(),\n",
    "            transforms.ToTensor(),\n",
    "            transforms.Normalize(mean=[0.5, 0.5, 0.5],std=[0.5, 0.5, 0.5])\n",
    "        ]\n",
    "        )\n",
    "\n",
    "        import sys\n",
    "        import os\n",
    "        FILE_DIR = pathlib.Path(__file__).parent.resolve()\n",
    "        path_to_backbones = os.path.join(FILE_DIR, \"..\", \"..\", \"..\", \"emotiefflib\", \"backbones\")\n",
    "        if path_to_backbones not in sys.path:\n",
    "            sys.path.append(path_to_backbones)\n",
    "        import mobilefacenet\n",
    "    else:\n",
    "        if False:\n",
    "            #model_name='affectnet_vggface2_enet2_gmp_smooth.pt'\n",
    "            model_name='enet_b2_8_best.pt'\n",
    "            #model_name='enet_b2_7.pt'\n",
    "            IMG_SIZE=260 #224 #\n",
    "        else:\n",
    "            #model_name='affectnet_vggface2_enet0.pt'\n",
    "            #model_name='affectnet_vggface2_enet0_new.pt'\n",
    "            #model_name='enet_b0_7.pt'\n",
    "            #model_name='enet_b0_8_best_afew.pt'\n",
    "            #model_name='enet_b0_8_best_vgaf.pt'\n",
    "            model_name='enet_b0_8_va_mtl.pt'\n",
    "            #model_name='mobilevit_va_mtl.pt'\n",
    "\n",
    "            IMG_SIZE=224\n",
    "\n",
    "        #IMG_SIZE=112\n",
    "\n",
    "        test_transforms = transforms.Compose(\n",
    "            [\n",
    "                transforms.Resize((IMG_SIZE,IMG_SIZE)),\n",
    "                #transforms.RandomHorizontalFlip(),\n",
    "                transforms.ToTensor(),\n",
    "                transforms.Normalize(mean=[0.485, 0.456, 0.406],\n",
    "                                             std=[0.229, 0.224, 0.225])\n",
    "            ]\n",
    "        )\n",
    "        np_transforms = transforms.Compose(\n",
    "            [\n",
    "                transforms.ToPILImage(None),\n",
    "                transforms.Resize((IMG_SIZE,IMG_SIZE)),\n",
    "                #transforms.RandomHorizontalFlip(),\n",
    "                transforms.ToTensor(),\n",
    "                transforms.Normalize(mean=[0.485, 0.456, 0.406],\n",
    "                                             std=[0.229, 0.224, 0.225])\n",
    "            ]\n",
    "        )\n",
    "\n",
    "\n",
    "    print(model_name)\n",
    "    feature_extractor_model = torch.load('/home/avsavchenko/src/face-emotion-recognition/models/affectnet_emotions/'+model_name)\n",
    "\n",
    "else:\n",
    "    IMG_SIZE=112\n",
    "    \n",
    "    test_transforms = transforms.Compose([\n",
    "        transforms.Resize((IMG_SIZE, IMG_SIZE)),\n",
    "        transforms.ToTensor(),\n",
    "        transforms.Normalize(mean=[0.485, 0.456, 0.406],\n",
    "                                 std=[0.229, 0.224, 0.225])])  \n",
    "    \n",
    "    import sys\n",
    "    DDAMNFN_PATH='/home/avsavchenko/src/distr/DDAMFN'\n",
    "    sys.path.append(DDAMNFN_PATH)\n",
    "    from networks.DDAM import DDAMNet\n",
    "\n",
    "    if True:\n",
    "        feature_extractor_model = DDAMNet(num_class=8, num_head=2)\n",
    "        model_name='affectnet8_epoch4_acc0.6462'\n",
    "    else:\n",
    "        feature_extractor_model = DDAMNet(num_class=10, num_head=2)\n",
    "        model_name='affectnet8_epoch9_acc0.642_mtl_2'\n",
    "    feature_extractor_model.load_state_dict(torch.load(DDAMNFN_PATH+'/checkpoints/'+model_name+'.pth')['model_state_dict'])\n",
    "    feature_extractor_model.bn=torch.nn.Identity()\n",
    "    print(model_name)"
   ]
  },
  {
   "cell_type": "code",
   "execution_count": 12,
   "metadata": {},
   "outputs": [
    {
     "data": {
      "text/plain": [
       "EfficientNet(\n",
       "  (conv_stem): Conv2dSame(3, 32, kernel_size=(3, 3), stride=(2, 2), bias=False)\n",
       "  (bn1): BatchNormAct2d(\n",
       "    32, eps=0.001, momentum=0.1, affine=True, track_running_stats=True\n",
       "    (drop): Identity()\n",
       "    (act): SiLU(inplace=True)\n",
       "  )\n",
       "  (blocks): Sequential(\n",
       "    (0): Sequential(\n",
       "      (0): DepthwiseSeparableConv(\n",
       "        (conv_dw): Conv2d(32, 32, kernel_size=(3, 3), stride=(1, 1), padding=(1, 1), groups=32, bias=False)\n",
       "        (bn1): BatchNormAct2d(\n",
       "          32, eps=0.001, momentum=0.1, affine=True, track_running_stats=True\n",
       "          (drop): Identity()\n",
       "          (act): SiLU(inplace=True)\n",
       "        )\n",
       "        (se): SqueezeExcite(\n",
       "          (conv_reduce): Conv2d(32, 8, kernel_size=(1, 1), stride=(1, 1))\n",
       "          (act1): SiLU(inplace=True)\n",
       "          (conv_expand): Conv2d(8, 32, kernel_size=(1, 1), stride=(1, 1))\n",
       "          (gate): Sigmoid()\n",
       "        )\n",
       "        (conv_pw): Conv2d(32, 16, kernel_size=(1, 1), stride=(1, 1), bias=False)\n",
       "        (bn2): BatchNormAct2d(\n",
       "          16, eps=0.001, momentum=0.1, affine=True, track_running_stats=True\n",
       "          (drop): Identity()\n",
       "          (act): Identity()\n",
       "        )\n",
       "        (drop_path): Identity()\n",
       "      )\n",
       "    )\n",
       "    (1): Sequential(\n",
       "      (0): InvertedResidual(\n",
       "        (conv_pw): Conv2d(16, 96, kernel_size=(1, 1), stride=(1, 1), bias=False)\n",
       "        (bn1): BatchNormAct2d(\n",
       "          96, eps=0.001, momentum=0.1, affine=True, track_running_stats=True\n",
       "          (drop): Identity()\n",
       "          (act): SiLU(inplace=True)\n",
       "        )\n",
       "        (conv_dw): Conv2dSame(96, 96, kernel_size=(3, 3), stride=(2, 2), groups=96, bias=False)\n",
       "        (bn2): BatchNormAct2d(\n",
       "          96, eps=0.001, momentum=0.1, affine=True, track_running_stats=True\n",
       "          (drop): Identity()\n",
       "          (act): SiLU(inplace=True)\n",
       "        )\n",
       "        (se): SqueezeExcite(\n",
       "          (conv_reduce): Conv2d(96, 4, kernel_size=(1, 1), stride=(1, 1))\n",
       "          (act1): SiLU(inplace=True)\n",
       "          (conv_expand): Conv2d(4, 96, kernel_size=(1, 1), stride=(1, 1))\n",
       "          (gate): Sigmoid()\n",
       "        )\n",
       "        (conv_pwl): Conv2d(96, 24, kernel_size=(1, 1), stride=(1, 1), bias=False)\n",
       "        (bn3): BatchNormAct2d(\n",
       "          24, eps=0.001, momentum=0.1, affine=True, track_running_stats=True\n",
       "          (drop): Identity()\n",
       "          (act): Identity()\n",
       "        )\n",
       "        (drop_path): Identity()\n",
       "      )\n",
       "      (1): InvertedResidual(\n",
       "        (conv_pw): Conv2d(24, 144, kernel_size=(1, 1), stride=(1, 1), bias=False)\n",
       "        (bn1): BatchNormAct2d(\n",
       "          144, eps=0.001, momentum=0.1, affine=True, track_running_stats=True\n",
       "          (drop): Identity()\n",
       "          (act): SiLU(inplace=True)\n",
       "        )\n",
       "        (conv_dw): Conv2d(144, 144, kernel_size=(3, 3), stride=(1, 1), padding=(1, 1), groups=144, bias=False)\n",
       "        (bn2): BatchNormAct2d(\n",
       "          144, eps=0.001, momentum=0.1, affine=True, track_running_stats=True\n",
       "          (drop): Identity()\n",
       "          (act): SiLU(inplace=True)\n",
       "        )\n",
       "        (se): SqueezeExcite(\n",
       "          (conv_reduce): Conv2d(144, 6, kernel_size=(1, 1), stride=(1, 1))\n",
       "          (act1): SiLU(inplace=True)\n",
       "          (conv_expand): Conv2d(6, 144, kernel_size=(1, 1), stride=(1, 1))\n",
       "          (gate): Sigmoid()\n",
       "        )\n",
       "        (conv_pwl): Conv2d(144, 24, kernel_size=(1, 1), stride=(1, 1), bias=False)\n",
       "        (bn3): BatchNormAct2d(\n",
       "          24, eps=0.001, momentum=0.1, affine=True, track_running_stats=True\n",
       "          (drop): Identity()\n",
       "          (act): Identity()\n",
       "        )\n",
       "        (drop_path): Identity()\n",
       "      )\n",
       "    )\n",
       "    (2): Sequential(\n",
       "      (0): InvertedResidual(\n",
       "        (conv_pw): Conv2d(24, 144, kernel_size=(1, 1), stride=(1, 1), bias=False)\n",
       "        (bn1): BatchNormAct2d(\n",
       "          144, eps=0.001, momentum=0.1, affine=True, track_running_stats=True\n",
       "          (drop): Identity()\n",
       "          (act): SiLU(inplace=True)\n",
       "        )\n",
       "        (conv_dw): Conv2dSame(144, 144, kernel_size=(5, 5), stride=(2, 2), groups=144, bias=False)\n",
       "        (bn2): BatchNormAct2d(\n",
       "          144, eps=0.001, momentum=0.1, affine=True, track_running_stats=True\n",
       "          (drop): Identity()\n",
       "          (act): SiLU(inplace=True)\n",
       "        )\n",
       "        (se): SqueezeExcite(\n",
       "          (conv_reduce): Conv2d(144, 6, kernel_size=(1, 1), stride=(1, 1))\n",
       "          (act1): SiLU(inplace=True)\n",
       "          (conv_expand): Conv2d(6, 144, kernel_size=(1, 1), stride=(1, 1))\n",
       "          (gate): Sigmoid()\n",
       "        )\n",
       "        (conv_pwl): Conv2d(144, 40, kernel_size=(1, 1), stride=(1, 1), bias=False)\n",
       "        (bn3): BatchNormAct2d(\n",
       "          40, eps=0.001, momentum=0.1, affine=True, track_running_stats=True\n",
       "          (drop): Identity()\n",
       "          (act): Identity()\n",
       "        )\n",
       "        (drop_path): Identity()\n",
       "      )\n",
       "      (1): InvertedResidual(\n",
       "        (conv_pw): Conv2d(40, 240, kernel_size=(1, 1), stride=(1, 1), bias=False)\n",
       "        (bn1): BatchNormAct2d(\n",
       "          240, eps=0.001, momentum=0.1, affine=True, track_running_stats=True\n",
       "          (drop): Identity()\n",
       "          (act): SiLU(inplace=True)\n",
       "        )\n",
       "        (conv_dw): Conv2d(240, 240, kernel_size=(5, 5), stride=(1, 1), padding=(2, 2), groups=240, bias=False)\n",
       "        (bn2): BatchNormAct2d(\n",
       "          240, eps=0.001, momentum=0.1, affine=True, track_running_stats=True\n",
       "          (drop): Identity()\n",
       "          (act): SiLU(inplace=True)\n",
       "        )\n",
       "        (se): SqueezeExcite(\n",
       "          (conv_reduce): Conv2d(240, 10, kernel_size=(1, 1), stride=(1, 1))\n",
       "          (act1): SiLU(inplace=True)\n",
       "          (conv_expand): Conv2d(10, 240, kernel_size=(1, 1), stride=(1, 1))\n",
       "          (gate): Sigmoid()\n",
       "        )\n",
       "        (conv_pwl): Conv2d(240, 40, kernel_size=(1, 1), stride=(1, 1), bias=False)\n",
       "        (bn3): BatchNormAct2d(\n",
       "          40, eps=0.001, momentum=0.1, affine=True, track_running_stats=True\n",
       "          (drop): Identity()\n",
       "          (act): Identity()\n",
       "        )\n",
       "        (drop_path): Identity()\n",
       "      )\n",
       "    )\n",
       "    (3): Sequential(\n",
       "      (0): InvertedResidual(\n",
       "        (conv_pw): Conv2d(40, 240, kernel_size=(1, 1), stride=(1, 1), bias=False)\n",
       "        (bn1): BatchNormAct2d(\n",
       "          240, eps=0.001, momentum=0.1, affine=True, track_running_stats=True\n",
       "          (drop): Identity()\n",
       "          (act): SiLU(inplace=True)\n",
       "        )\n",
       "        (conv_dw): Conv2dSame(240, 240, kernel_size=(3, 3), stride=(2, 2), groups=240, bias=False)\n",
       "        (bn2): BatchNormAct2d(\n",
       "          240, eps=0.001, momentum=0.1, affine=True, track_running_stats=True\n",
       "          (drop): Identity()\n",
       "          (act): SiLU(inplace=True)\n",
       "        )\n",
       "        (se): SqueezeExcite(\n",
       "          (conv_reduce): Conv2d(240, 10, kernel_size=(1, 1), stride=(1, 1))\n",
       "          (act1): SiLU(inplace=True)\n",
       "          (conv_expand): Conv2d(10, 240, kernel_size=(1, 1), stride=(1, 1))\n",
       "          (gate): Sigmoid()\n",
       "        )\n",
       "        (conv_pwl): Conv2d(240, 80, kernel_size=(1, 1), stride=(1, 1), bias=False)\n",
       "        (bn3): BatchNormAct2d(\n",
       "          80, eps=0.001, momentum=0.1, affine=True, track_running_stats=True\n",
       "          (drop): Identity()\n",
       "          (act): Identity()\n",
       "        )\n",
       "        (drop_path): Identity()\n",
       "      )\n",
       "      (1): InvertedResidual(\n",
       "        (conv_pw): Conv2d(80, 480, kernel_size=(1, 1), stride=(1, 1), bias=False)\n",
       "        (bn1): BatchNormAct2d(\n",
       "          480, eps=0.001, momentum=0.1, affine=True, track_running_stats=True\n",
       "          (drop): Identity()\n",
       "          (act): SiLU(inplace=True)\n",
       "        )\n",
       "        (conv_dw): Conv2d(480, 480, kernel_size=(3, 3), stride=(1, 1), padding=(1, 1), groups=480, bias=False)\n",
       "        (bn2): BatchNormAct2d(\n",
       "          480, eps=0.001, momentum=0.1, affine=True, track_running_stats=True\n",
       "          (drop): Identity()\n",
       "          (act): SiLU(inplace=True)\n",
       "        )\n",
       "        (se): SqueezeExcite(\n",
       "          (conv_reduce): Conv2d(480, 20, kernel_size=(1, 1), stride=(1, 1))\n",
       "          (act1): SiLU(inplace=True)\n",
       "          (conv_expand): Conv2d(20, 480, kernel_size=(1, 1), stride=(1, 1))\n",
       "          (gate): Sigmoid()\n",
       "        )\n",
       "        (conv_pwl): Conv2d(480, 80, kernel_size=(1, 1), stride=(1, 1), bias=False)\n",
       "        (bn3): BatchNormAct2d(\n",
       "          80, eps=0.001, momentum=0.1, affine=True, track_running_stats=True\n",
       "          (drop): Identity()\n",
       "          (act): Identity()\n",
       "        )\n",
       "        (drop_path): Identity()\n",
       "      )\n",
       "      (2): InvertedResidual(\n",
       "        (conv_pw): Conv2d(80, 480, kernel_size=(1, 1), stride=(1, 1), bias=False)\n",
       "        (bn1): BatchNormAct2d(\n",
       "          480, eps=0.001, momentum=0.1, affine=True, track_running_stats=True\n",
       "          (drop): Identity()\n",
       "          (act): SiLU(inplace=True)\n",
       "        )\n",
       "        (conv_dw): Conv2d(480, 480, kernel_size=(3, 3), stride=(1, 1), padding=(1, 1), groups=480, bias=False)\n",
       "        (bn2): BatchNormAct2d(\n",
       "          480, eps=0.001, momentum=0.1, affine=True, track_running_stats=True\n",
       "          (drop): Identity()\n",
       "          (act): SiLU(inplace=True)\n",
       "        )\n",
       "        (se): SqueezeExcite(\n",
       "          (conv_reduce): Conv2d(480, 20, kernel_size=(1, 1), stride=(1, 1))\n",
       "          (act1): SiLU(inplace=True)\n",
       "          (conv_expand): Conv2d(20, 480, kernel_size=(1, 1), stride=(1, 1))\n",
       "          (gate): Sigmoid()\n",
       "        )\n",
       "        (conv_pwl): Conv2d(480, 80, kernel_size=(1, 1), stride=(1, 1), bias=False)\n",
       "        (bn3): BatchNormAct2d(\n",
       "          80, eps=0.001, momentum=0.1, affine=True, track_running_stats=True\n",
       "          (drop): Identity()\n",
       "          (act): Identity()\n",
       "        )\n",
       "        (drop_path): Identity()\n",
       "      )\n",
       "    )\n",
       "    (4): Sequential(\n",
       "      (0): InvertedResidual(\n",
       "        (conv_pw): Conv2d(80, 480, kernel_size=(1, 1), stride=(1, 1), bias=False)\n",
       "        (bn1): BatchNormAct2d(\n",
       "          480, eps=0.001, momentum=0.1, affine=True, track_running_stats=True\n",
       "          (drop): Identity()\n",
       "          (act): SiLU(inplace=True)\n",
       "        )\n",
       "        (conv_dw): Conv2d(480, 480, kernel_size=(5, 5), stride=(1, 1), padding=(2, 2), groups=480, bias=False)\n",
       "        (bn2): BatchNormAct2d(\n",
       "          480, eps=0.001, momentum=0.1, affine=True, track_running_stats=True\n",
       "          (drop): Identity()\n",
       "          (act): SiLU(inplace=True)\n",
       "        )\n",
       "        (se): SqueezeExcite(\n",
       "          (conv_reduce): Conv2d(480, 20, kernel_size=(1, 1), stride=(1, 1))\n",
       "          (act1): SiLU(inplace=True)\n",
       "          (conv_expand): Conv2d(20, 480, kernel_size=(1, 1), stride=(1, 1))\n",
       "          (gate): Sigmoid()\n",
       "        )\n",
       "        (conv_pwl): Conv2d(480, 112, kernel_size=(1, 1), stride=(1, 1), bias=False)\n",
       "        (bn3): BatchNormAct2d(\n",
       "          112, eps=0.001, momentum=0.1, affine=True, track_running_stats=True\n",
       "          (drop): Identity()\n",
       "          (act): Identity()\n",
       "        )\n",
       "        (drop_path): Identity()\n",
       "      )\n",
       "      (1): InvertedResidual(\n",
       "        (conv_pw): Conv2d(112, 672, kernel_size=(1, 1), stride=(1, 1), bias=False)\n",
       "        (bn1): BatchNormAct2d(\n",
       "          672, eps=0.001, momentum=0.1, affine=True, track_running_stats=True\n",
       "          (drop): Identity()\n",
       "          (act): SiLU(inplace=True)\n",
       "        )\n",
       "        (conv_dw): Conv2d(672, 672, kernel_size=(5, 5), stride=(1, 1), padding=(2, 2), groups=672, bias=False)\n",
       "        (bn2): BatchNormAct2d(\n",
       "          672, eps=0.001, momentum=0.1, affine=True, track_running_stats=True\n",
       "          (drop): Identity()\n",
       "          (act): SiLU(inplace=True)\n",
       "        )\n",
       "        (se): SqueezeExcite(\n",
       "          (conv_reduce): Conv2d(672, 28, kernel_size=(1, 1), stride=(1, 1))\n",
       "          (act1): SiLU(inplace=True)\n",
       "          (conv_expand): Conv2d(28, 672, kernel_size=(1, 1), stride=(1, 1))\n",
       "          (gate): Sigmoid()\n",
       "        )\n",
       "        (conv_pwl): Conv2d(672, 112, kernel_size=(1, 1), stride=(1, 1), bias=False)\n",
       "        (bn3): BatchNormAct2d(\n",
       "          112, eps=0.001, momentum=0.1, affine=True, track_running_stats=True\n",
       "          (drop): Identity()\n",
       "          (act): Identity()\n",
       "        )\n",
       "        (drop_path): Identity()\n",
       "      )\n",
       "      (2): InvertedResidual(\n",
       "        (conv_pw): Conv2d(112, 672, kernel_size=(1, 1), stride=(1, 1), bias=False)\n",
       "        (bn1): BatchNormAct2d(\n",
       "          672, eps=0.001, momentum=0.1, affine=True, track_running_stats=True\n",
       "          (drop): Identity()\n",
       "          (act): SiLU(inplace=True)\n",
       "        )\n",
       "        (conv_dw): Conv2d(672, 672, kernel_size=(5, 5), stride=(1, 1), padding=(2, 2), groups=672, bias=False)\n",
       "        (bn2): BatchNormAct2d(\n",
       "          672, eps=0.001, momentum=0.1, affine=True, track_running_stats=True\n",
       "          (drop): Identity()\n",
       "          (act): SiLU(inplace=True)\n",
       "        )\n",
       "        (se): SqueezeExcite(\n",
       "          (conv_reduce): Conv2d(672, 28, kernel_size=(1, 1), stride=(1, 1))\n",
       "          (act1): SiLU(inplace=True)\n",
       "          (conv_expand): Conv2d(28, 672, kernel_size=(1, 1), stride=(1, 1))\n",
       "          (gate): Sigmoid()\n",
       "        )\n",
       "        (conv_pwl): Conv2d(672, 112, kernel_size=(1, 1), stride=(1, 1), bias=False)\n",
       "        (bn3): BatchNormAct2d(\n",
       "          112, eps=0.001, momentum=0.1, affine=True, track_running_stats=True\n",
       "          (drop): Identity()\n",
       "          (act): Identity()\n",
       "        )\n",
       "        (drop_path): Identity()\n",
       "      )\n",
       "    )\n",
       "    (5): Sequential(\n",
       "      (0): InvertedResidual(\n",
       "        (conv_pw): Conv2d(112, 672, kernel_size=(1, 1), stride=(1, 1), bias=False)\n",
       "        (bn1): BatchNormAct2d(\n",
       "          672, eps=0.001, momentum=0.1, affine=True, track_running_stats=True\n",
       "          (drop): Identity()\n",
       "          (act): SiLU(inplace=True)\n",
       "        )\n",
       "        (conv_dw): Conv2dSame(672, 672, kernel_size=(5, 5), stride=(2, 2), groups=672, bias=False)\n",
       "        (bn2): BatchNormAct2d(\n",
       "          672, eps=0.001, momentum=0.1, affine=True, track_running_stats=True\n",
       "          (drop): Identity()\n",
       "          (act): SiLU(inplace=True)\n",
       "        )\n",
       "        (se): SqueezeExcite(\n",
       "          (conv_reduce): Conv2d(672, 28, kernel_size=(1, 1), stride=(1, 1))\n",
       "          (act1): SiLU(inplace=True)\n",
       "          (conv_expand): Conv2d(28, 672, kernel_size=(1, 1), stride=(1, 1))\n",
       "          (gate): Sigmoid()\n",
       "        )\n",
       "        (conv_pwl): Conv2d(672, 192, kernel_size=(1, 1), stride=(1, 1), bias=False)\n",
       "        (bn3): BatchNormAct2d(\n",
       "          192, eps=0.001, momentum=0.1, affine=True, track_running_stats=True\n",
       "          (drop): Identity()\n",
       "          (act): Identity()\n",
       "        )\n",
       "        (drop_path): Identity()\n",
       "      )\n",
       "      (1): InvertedResidual(\n",
       "        (conv_pw): Conv2d(192, 1152, kernel_size=(1, 1), stride=(1, 1), bias=False)\n",
       "        (bn1): BatchNormAct2d(\n",
       "          1152, eps=0.001, momentum=0.1, affine=True, track_running_stats=True\n",
       "          (drop): Identity()\n",
       "          (act): SiLU(inplace=True)\n",
       "        )\n",
       "        (conv_dw): Conv2d(1152, 1152, kernel_size=(5, 5), stride=(1, 1), padding=(2, 2), groups=1152, bias=False)\n",
       "        (bn2): BatchNormAct2d(\n",
       "          1152, eps=0.001, momentum=0.1, affine=True, track_running_stats=True\n",
       "          (drop): Identity()\n",
       "          (act): SiLU(inplace=True)\n",
       "        )\n",
       "        (se): SqueezeExcite(\n",
       "          (conv_reduce): Conv2d(1152, 48, kernel_size=(1, 1), stride=(1, 1))\n",
       "          (act1): SiLU(inplace=True)\n",
       "          (conv_expand): Conv2d(48, 1152, kernel_size=(1, 1), stride=(1, 1))\n",
       "          (gate): Sigmoid()\n",
       "        )\n",
       "        (conv_pwl): Conv2d(1152, 192, kernel_size=(1, 1), stride=(1, 1), bias=False)\n",
       "        (bn3): BatchNormAct2d(\n",
       "          192, eps=0.001, momentum=0.1, affine=True, track_running_stats=True\n",
       "          (drop): Identity()\n",
       "          (act): Identity()\n",
       "        )\n",
       "        (drop_path): Identity()\n",
       "      )\n",
       "      (2): InvertedResidual(\n",
       "        (conv_pw): Conv2d(192, 1152, kernel_size=(1, 1), stride=(1, 1), bias=False)\n",
       "        (bn1): BatchNormAct2d(\n",
       "          1152, eps=0.001, momentum=0.1, affine=True, track_running_stats=True\n",
       "          (drop): Identity()\n",
       "          (act): SiLU(inplace=True)\n",
       "        )\n",
       "        (conv_dw): Conv2d(1152, 1152, kernel_size=(5, 5), stride=(1, 1), padding=(2, 2), groups=1152, bias=False)\n",
       "        (bn2): BatchNormAct2d(\n",
       "          1152, eps=0.001, momentum=0.1, affine=True, track_running_stats=True\n",
       "          (drop): Identity()\n",
       "          (act): SiLU(inplace=True)\n",
       "        )\n",
       "        (se): SqueezeExcite(\n",
       "          (conv_reduce): Conv2d(1152, 48, kernel_size=(1, 1), stride=(1, 1))\n",
       "          (act1): SiLU(inplace=True)\n",
       "          (conv_expand): Conv2d(48, 1152, kernel_size=(1, 1), stride=(1, 1))\n",
       "          (gate): Sigmoid()\n",
       "        )\n",
       "        (conv_pwl): Conv2d(1152, 192, kernel_size=(1, 1), stride=(1, 1), bias=False)\n",
       "        (bn3): BatchNormAct2d(\n",
       "          192, eps=0.001, momentum=0.1, affine=True, track_running_stats=True\n",
       "          (drop): Identity()\n",
       "          (act): Identity()\n",
       "        )\n",
       "        (drop_path): Identity()\n",
       "      )\n",
       "      (3): InvertedResidual(\n",
       "        (conv_pw): Conv2d(192, 1152, kernel_size=(1, 1), stride=(1, 1), bias=False)\n",
       "        (bn1): BatchNormAct2d(\n",
       "          1152, eps=0.001, momentum=0.1, affine=True, track_running_stats=True\n",
       "          (drop): Identity()\n",
       "          (act): SiLU(inplace=True)\n",
       "        )\n",
       "        (conv_dw): Conv2d(1152, 1152, kernel_size=(5, 5), stride=(1, 1), padding=(2, 2), groups=1152, bias=False)\n",
       "        (bn2): BatchNormAct2d(\n",
       "          1152, eps=0.001, momentum=0.1, affine=True, track_running_stats=True\n",
       "          (drop): Identity()\n",
       "          (act): SiLU(inplace=True)\n",
       "        )\n",
       "        (se): SqueezeExcite(\n",
       "          (conv_reduce): Conv2d(1152, 48, kernel_size=(1, 1), stride=(1, 1))\n",
       "          (act1): SiLU(inplace=True)\n",
       "          (conv_expand): Conv2d(48, 1152, kernel_size=(1, 1), stride=(1, 1))\n",
       "          (gate): Sigmoid()\n",
       "        )\n",
       "        (conv_pwl): Conv2d(1152, 192, kernel_size=(1, 1), stride=(1, 1), bias=False)\n",
       "        (bn3): BatchNormAct2d(\n",
       "          192, eps=0.001, momentum=0.1, affine=True, track_running_stats=True\n",
       "          (drop): Identity()\n",
       "          (act): Identity()\n",
       "        )\n",
       "        (drop_path): Identity()\n",
       "      )\n",
       "    )\n",
       "    (6): Sequential(\n",
       "      (0): InvertedResidual(\n",
       "        (conv_pw): Conv2d(192, 1152, kernel_size=(1, 1), stride=(1, 1), bias=False)\n",
       "        (bn1): BatchNormAct2d(\n",
       "          1152, eps=0.001, momentum=0.1, affine=True, track_running_stats=True\n",
       "          (drop): Identity()\n",
       "          (act): SiLU(inplace=True)\n",
       "        )\n",
       "        (conv_dw): Conv2d(1152, 1152, kernel_size=(3, 3), stride=(1, 1), padding=(1, 1), groups=1152, bias=False)\n",
       "        (bn2): BatchNormAct2d(\n",
       "          1152, eps=0.001, momentum=0.1, affine=True, track_running_stats=True\n",
       "          (drop): Identity()\n",
       "          (act): SiLU(inplace=True)\n",
       "        )\n",
       "        (se): SqueezeExcite(\n",
       "          (conv_reduce): Conv2d(1152, 48, kernel_size=(1, 1), stride=(1, 1))\n",
       "          (act1): SiLU(inplace=True)\n",
       "          (conv_expand): Conv2d(48, 1152, kernel_size=(1, 1), stride=(1, 1))\n",
       "          (gate): Sigmoid()\n",
       "        )\n",
       "        (conv_pwl): Conv2d(1152, 320, kernel_size=(1, 1), stride=(1, 1), bias=False)\n",
       "        (bn3): BatchNormAct2d(\n",
       "          320, eps=0.001, momentum=0.1, affine=True, track_running_stats=True\n",
       "          (drop): Identity()\n",
       "          (act): Identity()\n",
       "        )\n",
       "        (drop_path): Identity()\n",
       "      )\n",
       "    )\n",
       "  )\n",
       "  (conv_head): Conv2d(320, 1280, kernel_size=(1, 1), stride=(1, 1), bias=False)\n",
       "  (bn2): BatchNormAct2d(\n",
       "    1280, eps=0.001, momentum=0.1, affine=True, track_running_stats=True\n",
       "    (drop): Identity()\n",
       "    (act): SiLU(inplace=True)\n",
       "  )\n",
       "  (global_pool): SelectAdaptivePool2d (pool_type=avg, flatten=Flatten(start_dim=1, end_dim=-1))\n",
       "  (classifier): Linear(in_features=1280, out_features=10, bias=True)\n",
       ")"
      ]
     },
     "execution_count": 12,
     "metadata": {},
     "output_type": "execute_result"
    }
   ],
   "source": [
    "feature_extractor_model"
   ]
  },
  {
   "cell_type": "code",
   "execution_count": 13,
   "metadata": {},
   "outputs": [
    {
     "name": "stdout",
     "output_type": "stream",
     "text": [
      "(10, 1280) [[ 0.00679121  0.09001139  0.0694934  ...  0.10351563 -0.00995514\n",
      "  -0.17376047]\n",
      " [-0.004085   -0.07134113 -0.12164655 ... -0.05029012  0.03059323\n",
      "   0.08198261]\n",
      " [-0.0034241  -0.06510569 -0.00448079 ...  0.04248156 -0.10535879\n",
      "  -0.00544419]\n",
      " ...\n",
      " [ 0.07878461 -0.03540913 -0.06665969 ... -0.10314589  0.1332206\n",
      "  -0.06119434]\n",
      " [-0.02409821 -0.00270485  0.00887998 ... -0.00501176  0.01345664\n",
      "  -0.02131553]\n",
      " [-0.04529824 -0.04590099 -0.00950194 ...  0.00753843  0.02128105\n",
      "  -0.05743075]]\n",
      "(10,) [-0.03629377 -0.00268708 -0.05411524  0.01482256  0.13788255  0.09921926\n",
      " -0.05259513 -0.0124341   0.0816549   0.04621203]\n"
     ]
    }
   ],
   "source": [
    "if False:\n",
    "    classifier_weights=feature_extractor_model.classifier[0].weight.cpu().data.numpy()\n",
    "    classifier_bias=feature_extractor_model.classifier[0].bias.cpu().data.numpy()\n",
    "elif True:\n",
    "    classifier_weights=feature_extractor_model.classifier.weight.cpu().data.numpy()\n",
    "    classifier_bias=feature_extractor_model.classifier.bias.cpu().data.numpy()\n",
    "elif False:\n",
    "    classifier_weights=feature_extractor_model.head.fc.weight.cpu().data.numpy()\n",
    "    classifier_bias=feature_extractor_model.head.fc.bias.cpu().data.numpy()\n",
    "else:\n",
    "    classifier_weights=feature_extractor_model.fc.weight.cpu().data.numpy()\n",
    "    classifier_bias=feature_extractor_model.fc.bias.cpu().data.numpy()\n",
    "print(classifier_weights.shape,classifier_weights)\n",
    "print(classifier_bias.shape,classifier_bias)"
   ]
  },
  {
   "cell_type": "code",
   "execution_count": 14,
   "metadata": {},
   "outputs": [
    {
     "data": {
      "text/plain": [
       "EfficientNet(\n",
       "  (conv_stem): Conv2dSame(3, 32, kernel_size=(3, 3), stride=(2, 2), bias=False)\n",
       "  (bn1): BatchNormAct2d(\n",
       "    32, eps=0.001, momentum=0.1, affine=True, track_running_stats=True\n",
       "    (drop): Identity()\n",
       "    (act): SiLU(inplace=True)\n",
       "  )\n",
       "  (blocks): Sequential(\n",
       "    (0): Sequential(\n",
       "      (0): DepthwiseSeparableConv(\n",
       "        (conv_dw): Conv2d(32, 32, kernel_size=(3, 3), stride=(1, 1), padding=(1, 1), groups=32, bias=False)\n",
       "        (bn1): BatchNormAct2d(\n",
       "          32, eps=0.001, momentum=0.1, affine=True, track_running_stats=True\n",
       "          (drop): Identity()\n",
       "          (act): SiLU(inplace=True)\n",
       "        )\n",
       "        (se): SqueezeExcite(\n",
       "          (conv_reduce): Conv2d(32, 8, kernel_size=(1, 1), stride=(1, 1))\n",
       "          (act1): SiLU(inplace=True)\n",
       "          (conv_expand): Conv2d(8, 32, kernel_size=(1, 1), stride=(1, 1))\n",
       "          (gate): Sigmoid()\n",
       "        )\n",
       "        (conv_pw): Conv2d(32, 16, kernel_size=(1, 1), stride=(1, 1), bias=False)\n",
       "        (bn2): BatchNormAct2d(\n",
       "          16, eps=0.001, momentum=0.1, affine=True, track_running_stats=True\n",
       "          (drop): Identity()\n",
       "          (act): Identity()\n",
       "        )\n",
       "        (drop_path): Identity()\n",
       "      )\n",
       "    )\n",
       "    (1): Sequential(\n",
       "      (0): InvertedResidual(\n",
       "        (conv_pw): Conv2d(16, 96, kernel_size=(1, 1), stride=(1, 1), bias=False)\n",
       "        (bn1): BatchNormAct2d(\n",
       "          96, eps=0.001, momentum=0.1, affine=True, track_running_stats=True\n",
       "          (drop): Identity()\n",
       "          (act): SiLU(inplace=True)\n",
       "        )\n",
       "        (conv_dw): Conv2dSame(96, 96, kernel_size=(3, 3), stride=(2, 2), groups=96, bias=False)\n",
       "        (bn2): BatchNormAct2d(\n",
       "          96, eps=0.001, momentum=0.1, affine=True, track_running_stats=True\n",
       "          (drop): Identity()\n",
       "          (act): SiLU(inplace=True)\n",
       "        )\n",
       "        (se): SqueezeExcite(\n",
       "          (conv_reduce): Conv2d(96, 4, kernel_size=(1, 1), stride=(1, 1))\n",
       "          (act1): SiLU(inplace=True)\n",
       "          (conv_expand): Conv2d(4, 96, kernel_size=(1, 1), stride=(1, 1))\n",
       "          (gate): Sigmoid()\n",
       "        )\n",
       "        (conv_pwl): Conv2d(96, 24, kernel_size=(1, 1), stride=(1, 1), bias=False)\n",
       "        (bn3): BatchNormAct2d(\n",
       "          24, eps=0.001, momentum=0.1, affine=True, track_running_stats=True\n",
       "          (drop): Identity()\n",
       "          (act): Identity()\n",
       "        )\n",
       "        (drop_path): Identity()\n",
       "      )\n",
       "      (1): InvertedResidual(\n",
       "        (conv_pw): Conv2d(24, 144, kernel_size=(1, 1), stride=(1, 1), bias=False)\n",
       "        (bn1): BatchNormAct2d(\n",
       "          144, eps=0.001, momentum=0.1, affine=True, track_running_stats=True\n",
       "          (drop): Identity()\n",
       "          (act): SiLU(inplace=True)\n",
       "        )\n",
       "        (conv_dw): Conv2d(144, 144, kernel_size=(3, 3), stride=(1, 1), padding=(1, 1), groups=144, bias=False)\n",
       "        (bn2): BatchNormAct2d(\n",
       "          144, eps=0.001, momentum=0.1, affine=True, track_running_stats=True\n",
       "          (drop): Identity()\n",
       "          (act): SiLU(inplace=True)\n",
       "        )\n",
       "        (se): SqueezeExcite(\n",
       "          (conv_reduce): Conv2d(144, 6, kernel_size=(1, 1), stride=(1, 1))\n",
       "          (act1): SiLU(inplace=True)\n",
       "          (conv_expand): Conv2d(6, 144, kernel_size=(1, 1), stride=(1, 1))\n",
       "          (gate): Sigmoid()\n",
       "        )\n",
       "        (conv_pwl): Conv2d(144, 24, kernel_size=(1, 1), stride=(1, 1), bias=False)\n",
       "        (bn3): BatchNormAct2d(\n",
       "          24, eps=0.001, momentum=0.1, affine=True, track_running_stats=True\n",
       "          (drop): Identity()\n",
       "          (act): Identity()\n",
       "        )\n",
       "        (drop_path): Identity()\n",
       "      )\n",
       "    )\n",
       "    (2): Sequential(\n",
       "      (0): InvertedResidual(\n",
       "        (conv_pw): Conv2d(24, 144, kernel_size=(1, 1), stride=(1, 1), bias=False)\n",
       "        (bn1): BatchNormAct2d(\n",
       "          144, eps=0.001, momentum=0.1, affine=True, track_running_stats=True\n",
       "          (drop): Identity()\n",
       "          (act): SiLU(inplace=True)\n",
       "        )\n",
       "        (conv_dw): Conv2dSame(144, 144, kernel_size=(5, 5), stride=(2, 2), groups=144, bias=False)\n",
       "        (bn2): BatchNormAct2d(\n",
       "          144, eps=0.001, momentum=0.1, affine=True, track_running_stats=True\n",
       "          (drop): Identity()\n",
       "          (act): SiLU(inplace=True)\n",
       "        )\n",
       "        (se): SqueezeExcite(\n",
       "          (conv_reduce): Conv2d(144, 6, kernel_size=(1, 1), stride=(1, 1))\n",
       "          (act1): SiLU(inplace=True)\n",
       "          (conv_expand): Conv2d(6, 144, kernel_size=(1, 1), stride=(1, 1))\n",
       "          (gate): Sigmoid()\n",
       "        )\n",
       "        (conv_pwl): Conv2d(144, 40, kernel_size=(1, 1), stride=(1, 1), bias=False)\n",
       "        (bn3): BatchNormAct2d(\n",
       "          40, eps=0.001, momentum=0.1, affine=True, track_running_stats=True\n",
       "          (drop): Identity()\n",
       "          (act): Identity()\n",
       "        )\n",
       "        (drop_path): Identity()\n",
       "      )\n",
       "      (1): InvertedResidual(\n",
       "        (conv_pw): Conv2d(40, 240, kernel_size=(1, 1), stride=(1, 1), bias=False)\n",
       "        (bn1): BatchNormAct2d(\n",
       "          240, eps=0.001, momentum=0.1, affine=True, track_running_stats=True\n",
       "          (drop): Identity()\n",
       "          (act): SiLU(inplace=True)\n",
       "        )\n",
       "        (conv_dw): Conv2d(240, 240, kernel_size=(5, 5), stride=(1, 1), padding=(2, 2), groups=240, bias=False)\n",
       "        (bn2): BatchNormAct2d(\n",
       "          240, eps=0.001, momentum=0.1, affine=True, track_running_stats=True\n",
       "          (drop): Identity()\n",
       "          (act): SiLU(inplace=True)\n",
       "        )\n",
       "        (se): SqueezeExcite(\n",
       "          (conv_reduce): Conv2d(240, 10, kernel_size=(1, 1), stride=(1, 1))\n",
       "          (act1): SiLU(inplace=True)\n",
       "          (conv_expand): Conv2d(10, 240, kernel_size=(1, 1), stride=(1, 1))\n",
       "          (gate): Sigmoid()\n",
       "        )\n",
       "        (conv_pwl): Conv2d(240, 40, kernel_size=(1, 1), stride=(1, 1), bias=False)\n",
       "        (bn3): BatchNormAct2d(\n",
       "          40, eps=0.001, momentum=0.1, affine=True, track_running_stats=True\n",
       "          (drop): Identity()\n",
       "          (act): Identity()\n",
       "        )\n",
       "        (drop_path): Identity()\n",
       "      )\n",
       "    )\n",
       "    (3): Sequential(\n",
       "      (0): InvertedResidual(\n",
       "        (conv_pw): Conv2d(40, 240, kernel_size=(1, 1), stride=(1, 1), bias=False)\n",
       "        (bn1): BatchNormAct2d(\n",
       "          240, eps=0.001, momentum=0.1, affine=True, track_running_stats=True\n",
       "          (drop): Identity()\n",
       "          (act): SiLU(inplace=True)\n",
       "        )\n",
       "        (conv_dw): Conv2dSame(240, 240, kernel_size=(3, 3), stride=(2, 2), groups=240, bias=False)\n",
       "        (bn2): BatchNormAct2d(\n",
       "          240, eps=0.001, momentum=0.1, affine=True, track_running_stats=True\n",
       "          (drop): Identity()\n",
       "          (act): SiLU(inplace=True)\n",
       "        )\n",
       "        (se): SqueezeExcite(\n",
       "          (conv_reduce): Conv2d(240, 10, kernel_size=(1, 1), stride=(1, 1))\n",
       "          (act1): SiLU(inplace=True)\n",
       "          (conv_expand): Conv2d(10, 240, kernel_size=(1, 1), stride=(1, 1))\n",
       "          (gate): Sigmoid()\n",
       "        )\n",
       "        (conv_pwl): Conv2d(240, 80, kernel_size=(1, 1), stride=(1, 1), bias=False)\n",
       "        (bn3): BatchNormAct2d(\n",
       "          80, eps=0.001, momentum=0.1, affine=True, track_running_stats=True\n",
       "          (drop): Identity()\n",
       "          (act): Identity()\n",
       "        )\n",
       "        (drop_path): Identity()\n",
       "      )\n",
       "      (1): InvertedResidual(\n",
       "        (conv_pw): Conv2d(80, 480, kernel_size=(1, 1), stride=(1, 1), bias=False)\n",
       "        (bn1): BatchNormAct2d(\n",
       "          480, eps=0.001, momentum=0.1, affine=True, track_running_stats=True\n",
       "          (drop): Identity()\n",
       "          (act): SiLU(inplace=True)\n",
       "        )\n",
       "        (conv_dw): Conv2d(480, 480, kernel_size=(3, 3), stride=(1, 1), padding=(1, 1), groups=480, bias=False)\n",
       "        (bn2): BatchNormAct2d(\n",
       "          480, eps=0.001, momentum=0.1, affine=True, track_running_stats=True\n",
       "          (drop): Identity()\n",
       "          (act): SiLU(inplace=True)\n",
       "        )\n",
       "        (se): SqueezeExcite(\n",
       "          (conv_reduce): Conv2d(480, 20, kernel_size=(1, 1), stride=(1, 1))\n",
       "          (act1): SiLU(inplace=True)\n",
       "          (conv_expand): Conv2d(20, 480, kernel_size=(1, 1), stride=(1, 1))\n",
       "          (gate): Sigmoid()\n",
       "        )\n",
       "        (conv_pwl): Conv2d(480, 80, kernel_size=(1, 1), stride=(1, 1), bias=False)\n",
       "        (bn3): BatchNormAct2d(\n",
       "          80, eps=0.001, momentum=0.1, affine=True, track_running_stats=True\n",
       "          (drop): Identity()\n",
       "          (act): Identity()\n",
       "        )\n",
       "        (drop_path): Identity()\n",
       "      )\n",
       "      (2): InvertedResidual(\n",
       "        (conv_pw): Conv2d(80, 480, kernel_size=(1, 1), stride=(1, 1), bias=False)\n",
       "        (bn1): BatchNormAct2d(\n",
       "          480, eps=0.001, momentum=0.1, affine=True, track_running_stats=True\n",
       "          (drop): Identity()\n",
       "          (act): SiLU(inplace=True)\n",
       "        )\n",
       "        (conv_dw): Conv2d(480, 480, kernel_size=(3, 3), stride=(1, 1), padding=(1, 1), groups=480, bias=False)\n",
       "        (bn2): BatchNormAct2d(\n",
       "          480, eps=0.001, momentum=0.1, affine=True, track_running_stats=True\n",
       "          (drop): Identity()\n",
       "          (act): SiLU(inplace=True)\n",
       "        )\n",
       "        (se): SqueezeExcite(\n",
       "          (conv_reduce): Conv2d(480, 20, kernel_size=(1, 1), stride=(1, 1))\n",
       "          (act1): SiLU(inplace=True)\n",
       "          (conv_expand): Conv2d(20, 480, kernel_size=(1, 1), stride=(1, 1))\n",
       "          (gate): Sigmoid()\n",
       "        )\n",
       "        (conv_pwl): Conv2d(480, 80, kernel_size=(1, 1), stride=(1, 1), bias=False)\n",
       "        (bn3): BatchNormAct2d(\n",
       "          80, eps=0.001, momentum=0.1, affine=True, track_running_stats=True\n",
       "          (drop): Identity()\n",
       "          (act): Identity()\n",
       "        )\n",
       "        (drop_path): Identity()\n",
       "      )\n",
       "    )\n",
       "    (4): Sequential(\n",
       "      (0): InvertedResidual(\n",
       "        (conv_pw): Conv2d(80, 480, kernel_size=(1, 1), stride=(1, 1), bias=False)\n",
       "        (bn1): BatchNormAct2d(\n",
       "          480, eps=0.001, momentum=0.1, affine=True, track_running_stats=True\n",
       "          (drop): Identity()\n",
       "          (act): SiLU(inplace=True)\n",
       "        )\n",
       "        (conv_dw): Conv2d(480, 480, kernel_size=(5, 5), stride=(1, 1), padding=(2, 2), groups=480, bias=False)\n",
       "        (bn2): BatchNormAct2d(\n",
       "          480, eps=0.001, momentum=0.1, affine=True, track_running_stats=True\n",
       "          (drop): Identity()\n",
       "          (act): SiLU(inplace=True)\n",
       "        )\n",
       "        (se): SqueezeExcite(\n",
       "          (conv_reduce): Conv2d(480, 20, kernel_size=(1, 1), stride=(1, 1))\n",
       "          (act1): SiLU(inplace=True)\n",
       "          (conv_expand): Conv2d(20, 480, kernel_size=(1, 1), stride=(1, 1))\n",
       "          (gate): Sigmoid()\n",
       "        )\n",
       "        (conv_pwl): Conv2d(480, 112, kernel_size=(1, 1), stride=(1, 1), bias=False)\n",
       "        (bn3): BatchNormAct2d(\n",
       "          112, eps=0.001, momentum=0.1, affine=True, track_running_stats=True\n",
       "          (drop): Identity()\n",
       "          (act): Identity()\n",
       "        )\n",
       "        (drop_path): Identity()\n",
       "      )\n",
       "      (1): InvertedResidual(\n",
       "        (conv_pw): Conv2d(112, 672, kernel_size=(1, 1), stride=(1, 1), bias=False)\n",
       "        (bn1): BatchNormAct2d(\n",
       "          672, eps=0.001, momentum=0.1, affine=True, track_running_stats=True\n",
       "          (drop): Identity()\n",
       "          (act): SiLU(inplace=True)\n",
       "        )\n",
       "        (conv_dw): Conv2d(672, 672, kernel_size=(5, 5), stride=(1, 1), padding=(2, 2), groups=672, bias=False)\n",
       "        (bn2): BatchNormAct2d(\n",
       "          672, eps=0.001, momentum=0.1, affine=True, track_running_stats=True\n",
       "          (drop): Identity()\n",
       "          (act): SiLU(inplace=True)\n",
       "        )\n",
       "        (se): SqueezeExcite(\n",
       "          (conv_reduce): Conv2d(672, 28, kernel_size=(1, 1), stride=(1, 1))\n",
       "          (act1): SiLU(inplace=True)\n",
       "          (conv_expand): Conv2d(28, 672, kernel_size=(1, 1), stride=(1, 1))\n",
       "          (gate): Sigmoid()\n",
       "        )\n",
       "        (conv_pwl): Conv2d(672, 112, kernel_size=(1, 1), stride=(1, 1), bias=False)\n",
       "        (bn3): BatchNormAct2d(\n",
       "          112, eps=0.001, momentum=0.1, affine=True, track_running_stats=True\n",
       "          (drop): Identity()\n",
       "          (act): Identity()\n",
       "        )\n",
       "        (drop_path): Identity()\n",
       "      )\n",
       "      (2): InvertedResidual(\n",
       "        (conv_pw): Conv2d(112, 672, kernel_size=(1, 1), stride=(1, 1), bias=False)\n",
       "        (bn1): BatchNormAct2d(\n",
       "          672, eps=0.001, momentum=0.1, affine=True, track_running_stats=True\n",
       "          (drop): Identity()\n",
       "          (act): SiLU(inplace=True)\n",
       "        )\n",
       "        (conv_dw): Conv2d(672, 672, kernel_size=(5, 5), stride=(1, 1), padding=(2, 2), groups=672, bias=False)\n",
       "        (bn2): BatchNormAct2d(\n",
       "          672, eps=0.001, momentum=0.1, affine=True, track_running_stats=True\n",
       "          (drop): Identity()\n",
       "          (act): SiLU(inplace=True)\n",
       "        )\n",
       "        (se): SqueezeExcite(\n",
       "          (conv_reduce): Conv2d(672, 28, kernel_size=(1, 1), stride=(1, 1))\n",
       "          (act1): SiLU(inplace=True)\n",
       "          (conv_expand): Conv2d(28, 672, kernel_size=(1, 1), stride=(1, 1))\n",
       "          (gate): Sigmoid()\n",
       "        )\n",
       "        (conv_pwl): Conv2d(672, 112, kernel_size=(1, 1), stride=(1, 1), bias=False)\n",
       "        (bn3): BatchNormAct2d(\n",
       "          112, eps=0.001, momentum=0.1, affine=True, track_running_stats=True\n",
       "          (drop): Identity()\n",
       "          (act): Identity()\n",
       "        )\n",
       "        (drop_path): Identity()\n",
       "      )\n",
       "    )\n",
       "    (5): Sequential(\n",
       "      (0): InvertedResidual(\n",
       "        (conv_pw): Conv2d(112, 672, kernel_size=(1, 1), stride=(1, 1), bias=False)\n",
       "        (bn1): BatchNormAct2d(\n",
       "          672, eps=0.001, momentum=0.1, affine=True, track_running_stats=True\n",
       "          (drop): Identity()\n",
       "          (act): SiLU(inplace=True)\n",
       "        )\n",
       "        (conv_dw): Conv2dSame(672, 672, kernel_size=(5, 5), stride=(2, 2), groups=672, bias=False)\n",
       "        (bn2): BatchNormAct2d(\n",
       "          672, eps=0.001, momentum=0.1, affine=True, track_running_stats=True\n",
       "          (drop): Identity()\n",
       "          (act): SiLU(inplace=True)\n",
       "        )\n",
       "        (se): SqueezeExcite(\n",
       "          (conv_reduce): Conv2d(672, 28, kernel_size=(1, 1), stride=(1, 1))\n",
       "          (act1): SiLU(inplace=True)\n",
       "          (conv_expand): Conv2d(28, 672, kernel_size=(1, 1), stride=(1, 1))\n",
       "          (gate): Sigmoid()\n",
       "        )\n",
       "        (conv_pwl): Conv2d(672, 192, kernel_size=(1, 1), stride=(1, 1), bias=False)\n",
       "        (bn3): BatchNormAct2d(\n",
       "          192, eps=0.001, momentum=0.1, affine=True, track_running_stats=True\n",
       "          (drop): Identity()\n",
       "          (act): Identity()\n",
       "        )\n",
       "        (drop_path): Identity()\n",
       "      )\n",
       "      (1): InvertedResidual(\n",
       "        (conv_pw): Conv2d(192, 1152, kernel_size=(1, 1), stride=(1, 1), bias=False)\n",
       "        (bn1): BatchNormAct2d(\n",
       "          1152, eps=0.001, momentum=0.1, affine=True, track_running_stats=True\n",
       "          (drop): Identity()\n",
       "          (act): SiLU(inplace=True)\n",
       "        )\n",
       "        (conv_dw): Conv2d(1152, 1152, kernel_size=(5, 5), stride=(1, 1), padding=(2, 2), groups=1152, bias=False)\n",
       "        (bn2): BatchNormAct2d(\n",
       "          1152, eps=0.001, momentum=0.1, affine=True, track_running_stats=True\n",
       "          (drop): Identity()\n",
       "          (act): SiLU(inplace=True)\n",
       "        )\n",
       "        (se): SqueezeExcite(\n",
       "          (conv_reduce): Conv2d(1152, 48, kernel_size=(1, 1), stride=(1, 1))\n",
       "          (act1): SiLU(inplace=True)\n",
       "          (conv_expand): Conv2d(48, 1152, kernel_size=(1, 1), stride=(1, 1))\n",
       "          (gate): Sigmoid()\n",
       "        )\n",
       "        (conv_pwl): Conv2d(1152, 192, kernel_size=(1, 1), stride=(1, 1), bias=False)\n",
       "        (bn3): BatchNormAct2d(\n",
       "          192, eps=0.001, momentum=0.1, affine=True, track_running_stats=True\n",
       "          (drop): Identity()\n",
       "          (act): Identity()\n",
       "        )\n",
       "        (drop_path): Identity()\n",
       "      )\n",
       "      (2): InvertedResidual(\n",
       "        (conv_pw): Conv2d(192, 1152, kernel_size=(1, 1), stride=(1, 1), bias=False)\n",
       "        (bn1): BatchNormAct2d(\n",
       "          1152, eps=0.001, momentum=0.1, affine=True, track_running_stats=True\n",
       "          (drop): Identity()\n",
       "          (act): SiLU(inplace=True)\n",
       "        )\n",
       "        (conv_dw): Conv2d(1152, 1152, kernel_size=(5, 5), stride=(1, 1), padding=(2, 2), groups=1152, bias=False)\n",
       "        (bn2): BatchNormAct2d(\n",
       "          1152, eps=0.001, momentum=0.1, affine=True, track_running_stats=True\n",
       "          (drop): Identity()\n",
       "          (act): SiLU(inplace=True)\n",
       "        )\n",
       "        (se): SqueezeExcite(\n",
       "          (conv_reduce): Conv2d(1152, 48, kernel_size=(1, 1), stride=(1, 1))\n",
       "          (act1): SiLU(inplace=True)\n",
       "          (conv_expand): Conv2d(48, 1152, kernel_size=(1, 1), stride=(1, 1))\n",
       "          (gate): Sigmoid()\n",
       "        )\n",
       "        (conv_pwl): Conv2d(1152, 192, kernel_size=(1, 1), stride=(1, 1), bias=False)\n",
       "        (bn3): BatchNormAct2d(\n",
       "          192, eps=0.001, momentum=0.1, affine=True, track_running_stats=True\n",
       "          (drop): Identity()\n",
       "          (act): Identity()\n",
       "        )\n",
       "        (drop_path): Identity()\n",
       "      )\n",
       "      (3): InvertedResidual(\n",
       "        (conv_pw): Conv2d(192, 1152, kernel_size=(1, 1), stride=(1, 1), bias=False)\n",
       "        (bn1): BatchNormAct2d(\n",
       "          1152, eps=0.001, momentum=0.1, affine=True, track_running_stats=True\n",
       "          (drop): Identity()\n",
       "          (act): SiLU(inplace=True)\n",
       "        )\n",
       "        (conv_dw): Conv2d(1152, 1152, kernel_size=(5, 5), stride=(1, 1), padding=(2, 2), groups=1152, bias=False)\n",
       "        (bn2): BatchNormAct2d(\n",
       "          1152, eps=0.001, momentum=0.1, affine=True, track_running_stats=True\n",
       "          (drop): Identity()\n",
       "          (act): SiLU(inplace=True)\n",
       "        )\n",
       "        (se): SqueezeExcite(\n",
       "          (conv_reduce): Conv2d(1152, 48, kernel_size=(1, 1), stride=(1, 1))\n",
       "          (act1): SiLU(inplace=True)\n",
       "          (conv_expand): Conv2d(48, 1152, kernel_size=(1, 1), stride=(1, 1))\n",
       "          (gate): Sigmoid()\n",
       "        )\n",
       "        (conv_pwl): Conv2d(1152, 192, kernel_size=(1, 1), stride=(1, 1), bias=False)\n",
       "        (bn3): BatchNormAct2d(\n",
       "          192, eps=0.001, momentum=0.1, affine=True, track_running_stats=True\n",
       "          (drop): Identity()\n",
       "          (act): Identity()\n",
       "        )\n",
       "        (drop_path): Identity()\n",
       "      )\n",
       "    )\n",
       "    (6): Sequential(\n",
       "      (0): InvertedResidual(\n",
       "        (conv_pw): Conv2d(192, 1152, kernel_size=(1, 1), stride=(1, 1), bias=False)\n",
       "        (bn1): BatchNormAct2d(\n",
       "          1152, eps=0.001, momentum=0.1, affine=True, track_running_stats=True\n",
       "          (drop): Identity()\n",
       "          (act): SiLU(inplace=True)\n",
       "        )\n",
       "        (conv_dw): Conv2d(1152, 1152, kernel_size=(3, 3), stride=(1, 1), padding=(1, 1), groups=1152, bias=False)\n",
       "        (bn2): BatchNormAct2d(\n",
       "          1152, eps=0.001, momentum=0.1, affine=True, track_running_stats=True\n",
       "          (drop): Identity()\n",
       "          (act): SiLU(inplace=True)\n",
       "        )\n",
       "        (se): SqueezeExcite(\n",
       "          (conv_reduce): Conv2d(1152, 48, kernel_size=(1, 1), stride=(1, 1))\n",
       "          (act1): SiLU(inplace=True)\n",
       "          (conv_expand): Conv2d(48, 1152, kernel_size=(1, 1), stride=(1, 1))\n",
       "          (gate): Sigmoid()\n",
       "        )\n",
       "        (conv_pwl): Conv2d(1152, 320, kernel_size=(1, 1), stride=(1, 1), bias=False)\n",
       "        (bn3): BatchNormAct2d(\n",
       "          320, eps=0.001, momentum=0.1, affine=True, track_running_stats=True\n",
       "          (drop): Identity()\n",
       "          (act): Identity()\n",
       "        )\n",
       "        (drop_path): Identity()\n",
       "      )\n",
       "    )\n",
       "  )\n",
       "  (conv_head): Conv2d(320, 1280, kernel_size=(1, 1), stride=(1, 1), bias=False)\n",
       "  (bn2): BatchNormAct2d(\n",
       "    1280, eps=0.001, momentum=0.1, affine=True, track_running_stats=True\n",
       "    (drop): Identity()\n",
       "    (act): SiLU(inplace=True)\n",
       "  )\n",
       "  (global_pool): SelectAdaptivePool2d (pool_type=avg, flatten=Flatten(start_dim=1, end_dim=-1))\n",
       "  (classifier): Identity()\n",
       ")"
      ]
     },
     "execution_count": 14,
     "metadata": {},
     "output_type": "execute_result"
    }
   ],
   "source": [
    "if True:\n",
    "    feature_extractor_model.classifier=torch.nn.Identity()\n",
    "elif False:\n",
    "    feature_extractor_model.head.fc=torch.nn.Identity()\n",
    "else:\n",
    "    feature_extractor_model.fc=torch.nn.Identity()\n",
    "feature_extractor_model=feature_extractor_model.to(device)\n",
    "feature_extractor_model.eval()"
   ]
  },
  {
   "cell_type": "code",
   "execution_count": 15,
   "metadata": {},
   "outputs": [],
   "source": [
    "def get_probab(features):\n",
    "    x=np.dot(features,np.transpose(classifier_weights))+classifier_bias\n",
    "    return x"
   ]
  },
  {
   "cell_type": "code",
   "execution_count": null,
   "metadata": {},
   "outputs": [
    {
     "name": "stdout",
     "output_type": "stream",
     "text": [
      "Compose(\n",
      "    Resize(size=(224, 224), interpolation=bilinear, max_size=None, antialias=warn)\n",
      "    ToTensor()\n",
      "    Normalize(mean=[0.485, 0.456, 0.406], std=[0.229, 0.224, 0.225])\n",
      ")\n",
      "/home/HDD6TB/datasets/emotions/ABAW/ABAW_6/ERI/detected_faces/\n"
     ]
    },
    {
     "data": {
      "application/vnd.jupyter.widget-view+json": {
       "model_id": "8cdabdde4aa14101a1b03aeaec9e5df5",
       "version_major": 2,
       "version_minor": 0
      },
      "text/plain": [
       "  0%|          | 0/12660 [00:00<?, ?it/s]"
      ]
     },
     "metadata": {},
     "output_type": "display_data"
    }
   ],
   "source": [
    "print(test_transforms)\n",
    "data_dir=FACES_DIR\n",
    "print(data_dir)\n",
    "\n",
    "videoname2features,videoname2scores={},{}\n",
    "for videoname in sorted(os.listdir(data_dir)):\n",
    "    video_dir=os.path.join(data_dir,videoname)   \n",
    "    print(videoname)\n",
    "    X_features,img_names=[],[]\n",
    "    imgs=[]\n",
    "    for img_name in sorted(os.listdir(video_dir), key=compare_filenames)[::5]:\n",
    "        #print(video_dir,img_name)\n",
    "        img = Image.open(os.path.join(video_dir,img_name))\n",
    "        img_tensor = test_transforms(img)\n",
    "        if img.size:\n",
    "            img_names.append(videoname+'/'+img_name)\n",
    "            imgs.append(img_tensor)\n",
    "            if len(imgs)>=64: #96: #48: #32:        \n",
    "                #features,_,_ = feature_extractor_model(torch.stack(imgs, dim=0).to(device))\n",
    "                features = feature_extractor_model(torch.stack(imgs, dim=0).to(device))\n",
    "                features=features.data.cpu().numpy()\n",
    "                #print(features.shape)\n",
    "\n",
    "                if len(X_features)==0:\n",
    "                    X_features=features\n",
    "                else:\n",
    "                    X_features=np.concatenate((X_features,features),axis=0)\n",
    "                imgs=[]\n",
    "    #if videoname=='00002':\n",
    "    #    break\n",
    "\n",
    "    if len(imgs)>0:        \n",
    "        #features,_,_ = feature_extractor_model(torch.stack(imgs, dim=0).to(device))\n",
    "        features = feature_extractor_model(torch.stack(imgs, dim=0).to(device))\n",
    "        features=features.data.cpu().numpy()\n",
    "\n",
    "        if len(X_features)==0:\n",
    "            X_features=features\n",
    "        else:\n",
    "            X_features=np.concatenate((X_features,features),axis=0)\n",
    "\n",
    "        imgs=[]\n",
    "    if len(X_features)>0:\n",
    "        X_scores=get_probab(X_features)\n",
    "        print(X_features.shape,X_scores.shape)\n",
    "        videoname2features[videoname]=X_features\n",
    "        videoname2scores[videoname]=X_scores"
   ]
  },
  {
   "cell_type": "markdown",
   "metadata": {},
   "source": [
    "### Save/load features "
   ]
  },
  {
   "cell_type": "code",
   "execution_count": 82,
   "metadata": {},
   "outputs": [
    {
     "name": "stdout",
     "output_type": "stream",
     "text": [
      "eri_ddamfnet_mtl_orig_faces.pickle\n"
     ]
    }
   ],
   "source": [
    "import pickle\n",
    "if False:\n",
    "    #model_name='enet_b2_8_best'\n",
    "    #model_name='enet_b0_8_best_vgaf'\n",
    "    model_name='ddamfnet_8'\n",
    "    has_va=False\n",
    "else:\n",
    "    #model_name='enet_b0_8_va_mtl'\n",
    "    #model_name='mobilevit_va_mtl'\n",
    "    #model_name='mbf_va'\n",
    "    model_name='ddamfnet_mtl'\n",
    "    has_va=True\n",
    "    \n",
    "#MODEL2FEATURES='eri_dict_'+model_name+'.pickle' \n",
    "\n",
    "MODEL2FEATURES='eri_'+model_name+'_orig_faces.pickle' \n",
    "#MODEL2FEATURES='eri_ddamfnet_mtl_orig_faces.pickle'\n",
    "#MODEL2FEATURES='eri_mbf_va_orig_faces.pickle'\n",
    "#MODEL2FEATURES='eri_mobilevit_va_mtl_orig_faces.pickle'\n",
    "\n",
    "print(MODEL2FEATURES)"
   ]
  },
  {
   "cell_type": "code",
   "execution_count": null,
   "metadata": {},
   "outputs": [],
   "source": [
    "if False:\n",
    "    with open(MODEL2FEATURES, 'wb') as handle:\n",
    "        pickle.dump([videoname2features,videoname2scores], handle, protocol=pickle.HIGHEST_PROTOCOL)"
   ]
  },
  {
   "cell_type": "code",
   "execution_count": 83,
   "metadata": {},
   "outputs": [
    {
     "name": "stdout",
     "output_type": "stream",
     "text": [
      "17255 (39, 512) (39, 10)\n"
     ]
    }
   ],
   "source": [
    "filename=MODEL2FEATURES\n",
    "with open(filename, 'rb') as handle:\n",
    "    videoname2features,videoname2scores=pickle.load(handle)\n",
    "print(len(videoname2features),videoname2features['00001'].shape,videoname2scores['00001'].shape)"
   ]
  },
  {
   "cell_type": "code",
   "execution_count": 76,
   "metadata": {},
   "outputs": [
    {
     "name": "stdout",
     "output_type": "stream",
     "text": [
      "eri_test_ddamfnet_mtl_orig_faces.pickle\n",
      "4586 (39, 512) (39, 10)\n"
     ]
    }
   ],
   "source": [
    "filename='eri_test_'+model_name+'_orig_faces.pickle'\n",
    "print(filename)\n",
    "with open(filename, 'rb') as handle:\n",
    "    videoname2features_test,videoname2scores_test=pickle.load(handle)\n",
    "print(len(videoname2features_test),videoname2features_test['12660'].shape,videoname2scores_test['12660'].shape)"
   ]
  },
  {
   "cell_type": "markdown",
   "metadata": {},
   "source": [
    "### Audio"
   ]
  },
  {
   "cell_type": "code",
   "execution_count": 6,
   "metadata": {},
   "outputs": [],
   "source": [
    "from transformers import Wav2Vec2Processor, Wav2Vec2Model\n",
    "import torchaudio\n",
    "import torch"
   ]
  },
  {
   "cell_type": "code",
   "execution_count": 7,
   "metadata": {},
   "outputs": [
    {
     "name": "stderr",
     "output_type": "stream",
     "text": [
      "Some weights of Wav2Vec2Model were not initialized from the model checkpoint at facebook/wav2vec2-base-960h and are newly initialized: ['wav2vec2.masked_spec_embed']\n",
      "You should probably TRAIN this model on a down-stream task to be able to use it for predictions and inference.\n"
     ]
    },
    {
     "data": {
      "text/plain": [
       "Wav2Vec2Model(\n",
       "  (feature_extractor): Wav2Vec2FeatureEncoder(\n",
       "    (conv_layers): ModuleList(\n",
       "      (0): Wav2Vec2GroupNormConvLayer(\n",
       "        (conv): Conv1d(1, 512, kernel_size=(10,), stride=(5,), bias=False)\n",
       "        (activation): GELUActivation()\n",
       "        (layer_norm): GroupNorm(512, 512, eps=1e-05, affine=True)\n",
       "      )\n",
       "      (1-4): 4 x Wav2Vec2NoLayerNormConvLayer(\n",
       "        (conv): Conv1d(512, 512, kernel_size=(3,), stride=(2,), bias=False)\n",
       "        (activation): GELUActivation()\n",
       "      )\n",
       "      (5-6): 2 x Wav2Vec2NoLayerNormConvLayer(\n",
       "        (conv): Conv1d(512, 512, kernel_size=(2,), stride=(2,), bias=False)\n",
       "        (activation): GELUActivation()\n",
       "      )\n",
       "    )\n",
       "  )\n",
       "  (feature_projection): Wav2Vec2FeatureProjection(\n",
       "    (layer_norm): LayerNorm((512,), eps=1e-05, elementwise_affine=True)\n",
       "    (projection): Linear(in_features=512, out_features=768, bias=True)\n",
       "    (dropout): Dropout(p=0.1, inplace=False)\n",
       "  )\n",
       "  (encoder): Wav2Vec2Encoder(\n",
       "    (pos_conv_embed): Wav2Vec2PositionalConvEmbedding(\n",
       "      (conv): Conv1d(768, 768, kernel_size=(128,), stride=(1,), padding=(64,), groups=16)\n",
       "      (padding): Wav2Vec2SamePadLayer()\n",
       "      (activation): GELUActivation()\n",
       "    )\n",
       "    (layer_norm): LayerNorm((768,), eps=1e-05, elementwise_affine=True)\n",
       "    (dropout): Dropout(p=0.1, inplace=False)\n",
       "    (layers): ModuleList(\n",
       "      (0-11): 12 x Wav2Vec2EncoderLayer(\n",
       "        (attention): Wav2Vec2Attention(\n",
       "          (k_proj): Linear(in_features=768, out_features=768, bias=True)\n",
       "          (v_proj): Linear(in_features=768, out_features=768, bias=True)\n",
       "          (q_proj): Linear(in_features=768, out_features=768, bias=True)\n",
       "          (out_proj): Linear(in_features=768, out_features=768, bias=True)\n",
       "        )\n",
       "        (dropout): Dropout(p=0.1, inplace=False)\n",
       "        (layer_norm): LayerNorm((768,), eps=1e-05, elementwise_affine=True)\n",
       "        (feed_forward): Wav2Vec2FeedForward(\n",
       "          (intermediate_dropout): Dropout(p=0.1, inplace=False)\n",
       "          (intermediate_dense): Linear(in_features=768, out_features=3072, bias=True)\n",
       "          (intermediate_act_fn): GELUActivation()\n",
       "          (output_dense): Linear(in_features=3072, out_features=768, bias=True)\n",
       "          (output_dropout): Dropout(p=0.1, inplace=False)\n",
       "        )\n",
       "        (final_layer_norm): LayerNorm((768,), eps=1e-05, elementwise_affine=True)\n",
       "      )\n",
       "    )\n",
       "  )\n",
       ")"
      ]
     },
     "execution_count": 7,
     "metadata": {},
     "output_type": "execute_result"
    }
   ],
   "source": [
    "processor = Wav2Vec2Processor.from_pretrained(\"facebook/wav2vec2-base-960h\")\n",
    "model = Wav2Vec2Model.from_pretrained(\"facebook/wav2vec2-base-960h\")\n",
    "model.eval()"
   ]
  },
  {
   "cell_type": "code",
   "execution_count": 12,
   "metadata": {},
   "outputs": [
    {
     "name": "stdout",
     "output_type": "stream",
     "text": [
      "16000\n",
      "Hidden state shape: (768,) torch.Size([1, 294, 768])\n"
     ]
    }
   ],
   "source": [
    "array, fs = torchaudio.load(os.path.join(AUDIO_DIR,'00000.mp3'))\n",
    "print(fs)\n",
    "inp = processor(array.squeeze(), sampling_rate=fs, return_tensors=\"pt\")\n",
    "\n",
    "# apply the model to the input array from wav\n",
    "with torch.no_grad():\n",
    "    outputs = model(**inp)\n",
    "\n",
    "# extract last hidden state, compute average, convert to numpy\n",
    "last_hidden_states = outputs.last_hidden_state.squeeze().mean(axis=0).numpy()\n",
    "\n",
    "# change to list to print\n",
    "print(f\"Hidden state shape: {last_hidden_states.shape} {outputs.last_hidden_state.shape}\")\n",
    "# Hidden state shape: (768,)"
   ]
  },
  {
   "cell_type": "code",
   "execution_count": 14,
   "metadata": {},
   "outputs": [
    {
     "name": "stderr",
     "output_type": "stream",
     "text": [
      "100%|██████████| 965/965 [03:22<00:00,  4.76it/s]\n"
     ]
    }
   ],
   "source": [
    "videoname2features={}\n",
    "for filename in tqdm(sorted(os.listdir(AUDIO_DIR))):\n",
    "    videoname,_=os.path.splitext(filename)\n",
    "    #print(videoname)\n",
    "    array, fs = torchaudio.load(os.path.join(AUDIO_DIR,filename))\n",
    "    inp = processor(array.squeeze(), sampling_rate=fs, return_tensors=\"pt\")\n",
    "    with torch.no_grad():\n",
    "        outputs = model(**inp)\n",
    "    videoname2features[videoname]=outputs.last_hidden_state.numpy()[0]\n",
    "    #print(videoname2features[videoname].shape)"
   ]
  },
  {
   "cell_type": "code",
   "execution_count": 16,
   "metadata": {},
   "outputs": [
    {
     "data": {
      "text/plain": [
       "(12660, (62495, 768))"
      ]
     },
     "execution_count": 16,
     "metadata": {},
     "output_type": "execute_result"
    }
   ],
   "source": [
    "len(videoname2features),videoname2features['11694'].shape"
   ]
  },
  {
   "cell_type": "code",
   "execution_count": 9,
   "metadata": {},
   "outputs": [
    {
     "name": "stdout",
     "output_type": "stream",
     "text": [
      "12660 (306, 768)\n"
     ]
    }
   ],
   "source": [
    "MODEL2AUDIOFEATURES='eri_dict_wav2vec2.pickle'\n",
    "#MODEL2AUDIOFEATURES='eri_dict_mobilevit_frames.pickle'\n",
    "#MODEL2AUDIOFEATURES='eri_mbf_vggface2_orig_faces.pickle'\n",
    "\n",
    "if False:\n",
    "    with open(MODEL2AUDIOFEATURES, 'wb') as handle:\n",
    "        pickle.dump(videoname2audio_features, handle, protocol=pickle.HIGHEST_PROTOCOL)\n",
    "else:\n",
    "    with open(MODEL2AUDIOFEATURES, 'rb') as handle:\n",
    "        videoname2audio_features=pickle.load(handle)\n",
    "print(len(videoname2audio_features),videoname2audio_features['00001'].shape)"
   ]
  },
  {
   "cell_type": "code",
   "execution_count": null,
   "metadata": {},
   "outputs": [],
   "source": [
    "import wave, struct\n",
    "from fnmatch import fnmatch\n",
    "for filename in tqdm(os.listdir(TEST_VIDEO_DIR)):\n",
    "    #print(filename)\n",
    "    video_path=os.path.join(TEST_VIDEO_DIR,filename)\n",
    "    fn=os.path.splitext(filename)[0]\n",
    "    waveFile = os.path.join(TEST_AUDIO_DIR, fn+'.wav')\n",
    "    command = \"ffmpeg -i \"+video_path+\" -ac 1 -ar 16000 -vn \"+waveFile\n",
    "    #print(command)\n",
    "    os.system(command=command)"
   ]
  },
  {
   "cell_type": "code",
   "execution_count": null,
   "metadata": {},
   "outputs": [],
   "source": [
    "videoname2audio_features_test={}\n",
    "for filename in sorted(os.listdir(TEST_AUDIO_DIR)):\n",
    "    videoname,_=os.path.splitext(filename)\n",
    "    array, fs = torchaudio.load(os.path.join(TEST_AUDIO_DIR,filename))\n",
    "    inp = processor(array.squeeze(), sampling_rate=fs, return_tensors=\"pt\")\n",
    "    with torch.no_grad():\n",
    "        outputs = model(**inp)\n",
    "    videoname2audio_features_test[videoname]=outputs.last_hidden_state.numpy()[0]\n",
    "    print(videoname,videoname2audio_features_test[videoname].shape)"
   ]
  },
  {
   "cell_type": "code",
   "execution_count": 10,
   "metadata": {},
   "outputs": [
    {
     "name": "stdout",
     "output_type": "stream",
     "text": [
      "4586 (305, 768)\n"
     ]
    }
   ],
   "source": [
    "MODEL2AUDIOFEATURES='eri_test_wav2vec2.pickle'\n",
    "\n",
    "if False:\n",
    "    with open(MODEL2AUDIOFEATURES, 'wb') as handle:\n",
    "        pickle.dump(videoname2audiofeatures, handle, protocol=pickle.HIGHEST_PROTOCOL)\n",
    "else:\n",
    "    with open(MODEL2AUDIOFEATURES, 'rb') as handle:\n",
    "        videoname2audio_features_test=pickle.load(handle)\n",
    "print(len(videoname2audio_features_test),videoname2audio_features_test['12660'].shape)"
   ]
  },
  {
   "cell_type": "markdown",
   "metadata": {},
   "source": [
    "# Preprocess data"
   ]
  },
  {
   "cell_type": "code",
   "execution_count": 88,
   "metadata": {},
   "outputs": [
    {
     "name": "stdout",
     "output_type": "stream",
     "text": [
      "(8072, 40) (8072, 6) 0\n",
      "(4588, 40) (4588, 6) 0\n"
     ]
    }
   ],
   "source": [
    "def get_video2targets(videoname2features,filename):\n",
    "    num_missed=0\n",
    "    X,y=[],[]\n",
    "    with open(os.path.join(DATA_DIR,filename)) as f:\n",
    "        lines = f.read().splitlines()\n",
    "        for i,line in enumerate(lines):\n",
    "            if i>0:\n",
    "                splitted_line=line.split(',')\n",
    "                videoname=splitted_line[0]\n",
    "                if videoname in videoname2features:\n",
    "                    features=videoname2features[videoname]\n",
    "\n",
    "                    mean_features=features.mean(axis=0)\n",
    "                    std_features=features.std(axis=0)\n",
    "                    min_features=features.min(axis=0)\n",
    "                    max_features=features.max(axis=0)\n",
    "                    aggregated_feature = np.concatenate((mean_features, std_features, min_features, max_features), axis=None)\n",
    "                    #aggregated_feature=mean_features\n",
    "\n",
    "                    X.append(aggregated_feature)\n",
    "\n",
    "                    targets=[float(s) for s in splitted_line[1:]]\n",
    "                    y.append(targets)\n",
    "                else:\n",
    "                    num_missed+=1\n",
    "                    print('Missed:',videoname)\n",
    "        X=np.array(X)\n",
    "        y=np.array(y)\n",
    "        print(X.shape,y.shape,num_missed)\n",
    "        return X,y\n",
    "\n",
    "if True:\n",
    "    X_train,y_train=get_video2targets(videoname2scores,TRAIN_LABELS)\n",
    "    X_val,y_val=get_video2targets(videoname2scores,VAL_LABELS)\n",
    "else:\n",
    "    #Audio\n",
    "    X_train,y_train=get_video2targets(videoname2audio_features,TRAIN_LABELS)\n",
    "    X_val,y_val=get_video2targets(videoname2audio_features,VAL_LABELS)\n",
    "\n",
    "TRAIN_VAL=False"
   ]
  },
  {
   "cell_type": "code",
   "execution_count": 96,
   "metadata": {},
   "outputs": [
    {
     "name": "stdout",
     "output_type": "stream",
     "text": [
      "(12660, 40) (12660, 6)\n"
     ]
    }
   ],
   "source": [
    "if True:\n",
    "    TRAIN_VAL=True\n",
    "    X_train=np.concatenate((X_train,X_val))\n",
    "    y_train=np.concatenate((y_train,y_val))\n",
    "    print(X_train.shape,y_train.shape)"
   ]
  },
  {
   "cell_type": "code",
   "execution_count": 12,
   "metadata": {},
   "outputs": [
    {
     "name": "stdout",
     "output_type": "stream",
     "text": [
      "['Admiration', 'Amusement', 'Determination', 'Empathic Pain', 'Excitement', 'Joy'] 6\n"
     ]
    }
   ],
   "source": [
    "classes=['Admiration','Amusement','Determination','Empathic Pain','Excitement','Joy']\n",
    "num_classes=len(classes)\n",
    "print(classes,num_classes)"
   ]
  },
  {
   "cell_type": "code",
   "execution_count": 10,
   "metadata": {},
   "outputs": [
    {
     "data": {
      "text/plain": [
       "<Figure size 216x216 with 0 Axes>"
      ]
     },
     "metadata": {},
     "output_type": "display_data"
    },
    {
     "data": {
      "image/png": "[encoded data removed]",
      "text/plain": [
       "<Figure size 432x288 with 2 Axes>"
      ]
     },
     "metadata": {
      "needs_background": "light"
     },
     "output_type": "display_data"
    },
    {
     "data": {
      "text/plain": [
       "<Figure size 216x216 with 0 Axes>"
      ]
     },
     "metadata": {},
     "output_type": "display_data"
    },
    {
     "data": {
      "image/png": "[encoded data removed]",
      "text/plain": [
       "<Figure size 432x288 with 2 Axes>"
      ]
     },
     "metadata": {
      "needs_background": "light"
     },
     "output_type": "display_data"
    },
    {
     "data": {
      "text/plain": [
       "<Figure size 216x216 with 0 Axes>"
      ]
     },
     "metadata": {},
     "output_type": "display_data"
    },
    {
     "data": {
      "image/png": "[encoded data removed]",
      "text/plain": [
       "<Figure size 432x288 with 2 Axes>"
      ]
     },
     "metadata": {
      "needs_background": "light"
     },
     "output_type": "display_data"
    },
    {
     "data": {
      "text/plain": [
       "<Figure size 216x216 with 0 Axes>"
      ]
     },
     "metadata": {},
     "output_type": "display_data"
    },
    {
     "data": {
      "image/png": "[encoded data removed]",
      "text/plain": [
       "<Figure size 432x288 with 2 Axes>"
      ]
     },
     "metadata": {
      "needs_background": "light"
     },
     "output_type": "display_data"
    },
    {
     "data": {
      "text/plain": [
       "<Figure size 216x216 with 0 Axes>"
      ]
     },
     "metadata": {},
     "output_type": "display_data"
    },
    {
     "data": {
      "image/png": "[encoded data removed]",
      "text/plain": [
       "<Figure size 432x288 with 2 Axes>"
      ]
     },
     "metadata": {
      "needs_background": "light"
     },
     "output_type": "display_data"
    },
    {
     "data": {
      "text/plain": [
       "<Figure size 216x216 with 0 Axes>"
      ]
     },
     "metadata": {},
     "output_type": "display_data"
    },
    {
     "data": {
      "image/png": "[encoded data removed]",
      "text/plain": [
       "<Figure size 432x288 with 2 Axes>"
      ]
     },
     "metadata": {
      "needs_background": "light"
     },
     "output_type": "display_data"
    }
   ],
   "source": [
    "for i, cls in enumerate(classes):\n",
    "    plt.figure(figsize=(3, 3))\n",
    "    fig, axs = plt.subplots(1, 2, sharey=True, tight_layout=True)\n",
    "    axs[0].hist(y_train[:,i], bins=20)\n",
    "    axs[0].set_title(cls+' (Train)')\n",
    "    axs[1].hist(y_val[:,i], bins=20)\n",
    "    axs[1].set_title(cls+' (val)')"
   ]
  },
  {
   "cell_type": "markdown",
   "metadata": {},
   "source": [
    "# Learning"
   ]
  },
  {
   "cell_type": "code",
   "execution_count": 13,
   "metadata": {},
   "outputs": [
    {
     "name": "stdout",
     "output_type": "stream",
     "text": [
      "2.13.1\n"
     ]
    }
   ],
   "source": [
    "import tensorflow as tf\n",
    "from tensorflow.keras.models import Model,Sequential, load_model,model_from_json\n",
    "from tensorflow.keras.applications import mobilenet,mobilenet_v2,densenet,inception_resnet_v2,inception_v3,vgg16,resnet_v2,resnet\n",
    "import efficientnet.tfkeras as enet\n",
    "from tensorflow.keras.layers import Flatten, Dense, Dropout,GlobalAveragePooling2D,Activation, Conv2D, Reshape,DepthwiseConv2D,Input\n",
    "from tensorflow.keras.optimizers import SGD, Adam\n",
    "from tensorflow.keras.utils import to_categorical\n",
    "from tensorflow.keras.callbacks import ModelCheckpoint, TensorBoard, Callback, CSVLogger, EarlyStopping\n",
    "from tensorflow.keras.metrics import top_k_categorical_accuracy\n",
    "import numpy as np\n",
    "from sklearn.metrics import confusion_matrix\n",
    "from tensorflow.keras.preprocessing.image import ImageDataGenerator\n",
    "\n",
    "import tensorflow.keras.backend as K \n",
    "\n",
    "print(tf.__version__)\n",
    "from tensorflow.compat.v1.keras.backend import set_session \n",
    "config = tf.compat.v1.ConfigProto()\n",
    "config.gpu_options.allow_growth = True\n",
    "sess=tf.compat.v1.Session(config=config)\n",
    "set_session(sess)"
   ]
  },
  {
   "cell_type": "code",
   "execution_count": 14,
   "metadata": {},
   "outputs": [],
   "source": [
    "from copy import deepcopy\n",
    "class SaveBestModel(tf.keras.callbacks.Callback):\n",
    "    def __init__(self, save_best_metric='val_loss', this_max=False):\n",
    "        self.save_best_metric = save_best_metric\n",
    "        self.max = this_max\n",
    "        if this_max:\n",
    "            self.best = float('-inf')\n",
    "        else:\n",
    "            self.best = float('inf')\n",
    "\n",
    "    def on_epoch_end(self, epoch, logs=None):\n",
    "        metric_value = logs[self.save_best_metric]\n",
    "        if self.max:\n",
    "            if metric_value > self.best:\n",
    "                self.best = metric_value\n",
    "                self.best_model_weights = deepcopy(self.model.get_weights())\n",
    "\n",
    "        else:\n",
    "            if metric_value < self.best:\n",
    "                self.best = metric_value\n",
    "                self.best_model_weights = deepcopy(self.model.get_weights())"
   ]
  },
  {
   "cell_type": "code",
   "execution_count": 15,
   "metadata": {},
   "outputs": [],
   "source": [
    "def CCC_score(x, y):\n",
    "    vx = x - np.mean(x)\n",
    "    vy = y - np.mean(y)\n",
    "    rho = np.sum(vx * vy) / (np.sqrt(np.sum(vx**2)) * np.sqrt(np.sum(vy**2)))\n",
    "    x_m = np.mean(x)\n",
    "    y_m = np.mean(y)\n",
    "    x_s = np.std(x)\n",
    "    y_s = np.std(y)\n",
    "    ccc = 2*rho*x_s*y_s/(x_s**2 + y_s**2 + (x_m - y_m)**2)\n",
    "    return ccc\n",
    "\n",
    "\n",
    "def CCC_numpy(y_true, y_pred):\n",
    "    '''Reference numpy implementation of Lin's Concordance correlation coefficient'''\n",
    "    \n",
    "    # covariance between y_true and y_pred\n",
    "    s_xy = np.cov([y_true, y_pred])[0,1]\n",
    "    # means\n",
    "    x_m = np.mean(y_true)\n",
    "    y_m = np.mean(y_pred)\n",
    "    # variances\n",
    "    s_x_sq = np.var(y_true)\n",
    "    s_y_sq = np.var(y_pred)\n",
    "    \n",
    "    # condordance correlation coefficient\n",
    "    ccc = (2.0*s_xy) / (s_x_sq + s_y_sq + (x_m-y_m)**2)\n",
    "    \n",
    "    return ccc\n",
    "\n",
    "def CCC(y_true, y_pred):\n",
    "    '''Lin's Concordance correlation coefficient: https://en.wikipedia.org/wiki/Concordance_correlation_coefficient\n",
    "    \n",
    "    The concordance correlation coefficient is the correlation between two variables that fall on the 45 degree line through the origin.\n",
    "    \n",
    "    It is a product of\n",
    "    - precision (Pearson correlation coefficient) and\n",
    "    - accuracy (closeness to 45 degree line)\n",
    "\n",
    "    Interpretation:\n",
    "    - `rho_c =  1` : perfect agreement\n",
    "    - `rho_c =  0` : no agreement\n",
    "    - `rho_c = -1` : perfect disagreement \n",
    "    \n",
    "    Args: \n",
    "    - y_true: ground truth\n",
    "    - y_pred: predicted values\n",
    "    \n",
    "    Returns:\n",
    "    - concordance correlation coefficient (float)\n",
    "    '''\n",
    "    \n",
    "    \n",
    "    # covariance between y_true and y_pred\n",
    "    #N = K.int_shape(y_pred)[-1]\n",
    "    #s_xy = 1.0 / (N - 1.0 + K.epsilon()) * K.sum((y_true - K.mean(y_true)) * (y_pred - K.mean(y_pred)))\n",
    "    #s_xy = K.mean(K.sum((y_true - K.mean(y_true)) * (y_pred - K.mean(y_pred))))\n",
    "    s_xy = K.mean((y_true - K.mean(y_true)) * (y_pred - K.mean(y_pred)))\n",
    "    # means\n",
    "    x_m = K.mean(y_true)\n",
    "    y_m = K.mean(y_pred)\n",
    "    # variances\n",
    "    s_x_sq = K.var(y_true)\n",
    "    s_y_sq = K.var(y_pred)\n",
    "    \n",
    "    # condordance correlation coefficient\n",
    "    ccc = (2.0*s_xy) / (s_x_sq + s_y_sq + (x_m-y_m)**2+K.epsilon())\n",
    "    #print(s_xy,s_x_sq,s_y_sq,x_m,y_m)\n",
    "    return ccc\n",
    "\n",
    "def CCC_ERI(y_true, y_pred):\n",
    "    loss=0\n",
    "    #print(y_true.shape,y_pred.shape)\n",
    "    for i in range(num_classes):\n",
    "        loss+=CCC(y_true[:,i], y_pred[:,i])\n",
    "    return 1-loss/num_classes\n",
    "\n",
    "from scipy import stats \n",
    "import numpy as np\n",
    "\n",
    "def calc_pearsons(preds,labels):\n",
    "    r = stats.pearsonr(preds, labels)\n",
    "    return r[0]\n",
    "\n",
    "def mean_pearsons(preds,labels):\n",
    "    preds = np.row_stack([np.array(p) for p in preds])\n",
    "    labels = np.row_stack([np.array(l) for l in labels])\n",
    "    num_classes = preds.shape[1]\n",
    "    class_wise_r = np.array([calc_pearsons(preds[:,i], labels[:,i]) for i in range(num_classes)])\n",
    "    mean_r = np.mean(class_wise_r)\n",
    "    return mean_r, class_wise_r"
   ]
  },
  {
   "cell_type": "code",
   "execution_count": 16,
   "metadata": {},
   "outputs": [
    {
     "name": "stdout",
     "output_type": "stream",
     "text": [
      "[0.47058824 0.05882353 0.11764706 0.23529412 0.05882353 0.05882353] 1.0\n"
     ]
    }
   ],
   "source": [
    "#counts=np.array([0.04752795, 0.25179336, 0.12408552, 0.08759098, 0.24792852, 0.28702279])\n",
    "counts=np.array([1, 8, 4, 2, 8, 8])\n",
    "class_weights=1/counts\n",
    "class_weights/=class_weights.sum()\n",
    "class_weights_sum=class_weights.sum()\n",
    "print(class_weights,class_weights_sum)"
   ]
  },
  {
   "cell_type": "code",
   "execution_count": 17,
   "metadata": {},
   "outputs": [],
   "source": [
    "def Pearson(y_true, y_pred):\n",
    "    # covariance between y_true and y_pred\n",
    "    #N = K.int_shape(y_pred)[-1]\n",
    "    #s_xy = 1.0 / (N - 1.0 + K.epsilon()) * K.sum((y_true - K.mean(y_true)) * (y_pred - K.mean(y_pred)))\n",
    "    #s_xy = K.mean(K.sum((y_true - K.mean(y_true)) * (y_pred - K.mean(y_pred))))\n",
    "    s_xy = K.mean((y_true - K.mean(y_true)) * (y_pred - K.mean(y_pred)))\n",
    "    # variances\n",
    "    s_x_sq = K.std(y_true)\n",
    "    s_y_sq = K.std(y_pred)\n",
    "    \n",
    "    # pearson correlation coefficient\n",
    "    pcc = (s_xy) / (s_x_sq * s_y_sq + K.epsilon())\n",
    "    return pcc\n",
    "\n",
    "def Pearson_ERI_loss(y_true, y_pred):\n",
    "    loss=0\n",
    "    #print(y_true.shape,y_pred.shape)\n",
    "    for i in range(y_true.shape[1]):\n",
    "        loss+=Pearson(y_true[:,i], y_pred[:,i])# *class_weights[i]\n",
    "    return 1-loss/y_true.shape[1]#+0.1*K.binary_crossentropy(y_true, y_pred)\n",
    "\n",
    "def Pearson_ERI_loss_weighted(y_true, y_pred):\n",
    "    loss=0\n",
    "    for i in range(y_true.shape[1]):\n",
    "        loss+=Pearson(y_true[:,i], y_pred[:,i]) *class_weights[i]\n",
    "    return 1-loss\n",
    "\n",
    "\n",
    "def ProdLoss(y_true, y_pred):\n",
    "    return K.mean(y_true  * y_pred)\n",
    "\n",
    "def Prod_ERI_loss(y_true, y_pred):\n",
    "    loss=0\n",
    "    for i in range(y_true.shape[1]):\n",
    "        loss+=ProdLoss(y_true[:,i], y_pred[:,i]) *class_weights[i]\n",
    "    return 1-loss/y_true.shape[1]\n",
    "\n",
    "def correlation(x, y):    \n",
    "    mx = tf.math.reduce_mean(x)\n",
    "    my = tf.math.reduce_mean(y)\n",
    "    xm, ym = x-mx, y-my\n",
    "    r_num = tf.math.reduce_mean(tf.multiply(xm,ym))        \n",
    "    r_den = tf.math.reduce_std(xm) * tf.math.reduce_std(ym)\n",
    "    return r_num / r_den\n",
    "\n",
    "def pearson_correlation(y_true, y_pred):\n",
    "    r=0\n",
    "    for i in range(y_true.shape[1]):\n",
    "        r+=correlation(y_true[:,i], y_pred[:,i])\n",
    "    return r/y_true.shape[1]\n"
   ]
  },
  {
   "cell_type": "code",
   "execution_count": 18,
   "metadata": {},
   "outputs": [],
   "source": [
    "def print_metrics():\n",
    "    y_val_preds=mlpModel.predict(X_val,verbose=0)\n",
    "    print(mean_pearsons(y_val_preds,y_val))"
   ]
  },
  {
   "cell_type": "code",
   "execution_count": 19,
   "metadata": {},
   "outputs": [],
   "source": [
    "if True:\n",
    "    loss='binary_crossentropy'\n",
    "    #loss='hinge'\n",
    "else:\n",
    "    import tensorflow.keras.backend as K\n",
    "    def get_weighted_loss(weights):\n",
    "        def weighted_loss(y_true, y_pred):\n",
    "            y_true=tf.cast(y_true, tf.float32)\n",
    "            ce=K.binary_crossentropy(y_true, y_pred)\n",
    "            return K.mean((weights[:,0]**(1-y_true))*(weights[:,1]**(y_true))*ce, axis=-1)\n",
    "        return weighted_loss\n",
    "    loss=get_weighted_loss(class_weights)"
   ]
  },
  {
   "cell_type": "code",
   "execution_count": 20,
   "metadata": {},
   "outputs": [],
   "source": [
    "from tensorflow.keras import backend as K\n",
    "def relu_advanced(x):\n",
    "    return K.relu(x, max_value=1)"
   ]
  },
  {
   "cell_type": "code",
   "execution_count": 99,
   "metadata": {},
   "outputs": [
    {
     "name": "stdout",
     "output_type": "stream",
     "text": [
      "Model: \"sequential_11\"\n",
      "_________________________________________________________________\n",
      " Layer (type)                Output Shape              Param #   \n",
      "=================================================================\n",
      " dense_14 (Dense)            (None, 64)                2624      \n",
      "                                                                 \n",
      " dense_15 (Dense)            (None, 6)                 390       \n",
      "                                                                 \n",
      "=================================================================\n",
      "Total params: 3014 (11.77 KB)\n",
      "Trainable params: 3014 (11.77 KB)\n",
      "Non-trainable params: 0 (0.00 Byte)\n",
      "_________________________________________________________________\n",
      "Epoch 1/20\n",
      "25/25 [==============================] - 2s 22ms/step - loss: 1.0031 - pearson_correlation: 0.0276 - val_loss: 0.9543 - val_pearson_correlation: 0.0800\n",
      "Epoch 2/20\n",
      "25/25 [==============================] - 0s 11ms/step - loss: 0.9277 - pearson_correlation: 0.1107 - val_loss: 0.9116 - val_pearson_correlation: 0.1334\n",
      "Epoch 3/20\n",
      "25/25 [==============================] - 0s 12ms/step - loss: 0.9013 - pearson_correlation: 0.1498 - val_loss: 0.8924 - val_pearson_correlation: 0.1622\n",
      "Epoch 4/20\n",
      "25/25 [==============================] - 0s 12ms/step - loss: 0.8875 - pearson_correlation: 0.1670 - val_loss: 0.8840 - val_pearson_correlation: 0.1726\n",
      "Epoch 5/20\n",
      "25/25 [==============================] - 0s 12ms/step - loss: 0.8837 - pearson_correlation: 0.1721 - val_loss: 0.8764 - val_pearson_correlation: 0.1791\n",
      "Epoch 6/20\n",
      "25/25 [==============================] - 0s 12ms/step - loss: 0.8767 - pearson_correlation: 0.1773 - val_loss: 0.8692 - val_pearson_correlation: 0.1846\n",
      "Epoch 7/20\n",
      "25/25 [==============================] - 0s 12ms/step - loss: 0.8727 - pearson_correlation: 0.1805 - val_loss: 0.8641 - val_pearson_correlation: 0.1884\n",
      "Epoch 8/20\n",
      "25/25 [==============================] - 0s 12ms/step - loss: 0.8714 - pearson_correlation: 0.1822 - val_loss: 0.8584 - val_pearson_correlation: 0.1922\n",
      "Epoch 9/20\n",
      "25/25 [==============================] - 0s 12ms/step - loss: 0.8678 - pearson_correlation: 0.1851 - val_loss: 0.8555 - val_pearson_correlation: 0.1946\n",
      "Epoch 10/20\n",
      "25/25 [==============================] - 0s 12ms/step - loss: 0.8618 - pearson_correlation: 0.1888 - val_loss: 0.8557 - val_pearson_correlation: 0.1955\n",
      "Epoch 11/20\n",
      "25/25 [==============================] - 0s 12ms/step - loss: 0.8617 - pearson_correlation: 0.1888 - val_loss: 0.8508 - val_pearson_correlation: 0.1980\n",
      "Epoch 12/20\n",
      "25/25 [==============================] - 0s 12ms/step - loss: 0.8595 - pearson_correlation: 0.1901 - val_loss: 0.8497 - val_pearson_correlation: 0.1993\n",
      "Epoch 13/20\n",
      "25/25 [==============================] - 0s 12ms/step - loss: 0.8556 - pearson_correlation: 0.1924 - val_loss: 0.8459 - val_pearson_correlation: 0.2015\n",
      "Epoch 14/20\n",
      "25/25 [==============================] - 0s 12ms/step - loss: 0.8526 - pearson_correlation: 0.1944 - val_loss: 0.8478 - val_pearson_correlation: 0.2015\n",
      "Epoch 15/20\n",
      "25/25 [==============================] - 0s 12ms/step - loss: 0.8537 - pearson_correlation: 0.1941 - val_loss: 0.8446 - val_pearson_correlation: 0.2033\n",
      "Epoch 16/20\n",
      "25/25 [==============================] - 0s 12ms/step - loss: 0.8525 - pearson_correlation: 0.1948 - val_loss: 0.8450 - val_pearson_correlation: 0.2031\n",
      "Epoch 17/20\n",
      "25/25 [==============================] - 0s 12ms/step - loss: 0.8499 - pearson_correlation: 0.1959 - val_loss: 0.8404 - val_pearson_correlation: 0.2059\n",
      "Epoch 18/20\n",
      "25/25 [==============================] - 0s 12ms/step - loss: 0.8464 - pearson_correlation: 0.1988 - val_loss: 0.8386 - val_pearson_correlation: 0.2069\n",
      "Epoch 19/20\n",
      "25/25 [==============================] - 0s 12ms/step - loss: 0.8461 - pearson_correlation: 0.1980 - val_loss: 0.8393 - val_pearson_correlation: 0.2069\n",
      "Epoch 20/20\n",
      "25/25 [==============================] - 0s 12ms/step - loss: 0.8430 - pearson_correlation: 0.2003 - val_loss: 0.8409 - val_pearson_correlation: 0.2068\n",
      "0.20692402124404907\n",
      "(0.20722834026265025, array([0.14143847, 0.27388051, 0.14860383, 0.11305055, 0.26359059,\n",
      "       0.30280611]))\n",
      "Best weights:\n",
      "(0.20730008760096288, array([0.14848842, 0.27207796, 0.14821708, 0.10883879, 0.26369189,\n",
      "       0.30248639]))\n"
     ]
    }
   ],
   "source": [
    "batch_size=512 #128 #1024 #\n",
    "mlpModel=Sequential()\n",
    "mlpModel.add(Dense(64, input_shape=X_train.shape[1:],activation='relu')) #256\n",
    "mlpModel.add(Dense(num_classes,activation='sigmoid'))\n",
    "    \n",
    "#mlpModel.compile(optimizer=Adam(learning_rate=1e-3), loss=CCC_ERI, metrics=[correlation]) #'mae','mse'\n",
    "#mlpModel.compile(optimizer=Adam(learning_rate=1e-3), loss=Prod_ERI_loss, metrics=[pearson_correlation])\n",
    "#mlpModel.compile(optimizer=tf.keras.optimizers.Adam(learning_rate=1e-3), loss=Pearson_ERI_loss, metrics=[pearson_correlation])\n",
    "mlpModel.compile(optimizer=tf.keras.optimizers.Adam(learning_rate=1e-3), loss=Pearson_ERI_loss_weighted, metrics=[pearson_correlation])\n",
    "#mlpModel.compile(optimizer=Adam(learning_rate=1e-3), loss='mse', metrics=[pearson_correlation])\n",
    "#mlpModel.compile(optimizer=Adam(learning_rate=1e-3), loss=loss, metrics=[pearson_correlation])\n",
    "mlpModel.summary()\n",
    "\n",
    "#save_best_model = SaveBestModel('val_loss',False)\n",
    "save_best_model = SaveBestModel('val_pearson_correlation',True)\n",
    "mlpModel.fit(X_train,y_train, batch_size=batch_size, epochs=20, verbose=1, callbacks=[save_best_model], validation_data=(X_val,y_val))\n",
    "best_model_weights = save_best_model.best_model_weights\n",
    "print(save_best_model.best)\n",
    "\n",
    "print_metrics()\n",
    "print('Best weights:')\n",
    "mlpModel.set_weights(best_model_weights)\n",
    "print_metrics()"
   ]
  },
  {
   "cell_type": "code",
   "execution_count": 100,
   "metadata": {},
   "outputs": [
    {
     "name": "stdout",
     "output_type": "stream",
     "text": [
      "Model: \"sequential_12\"\n",
      "_________________________________________________________________\n",
      " Layer (type)                Output Shape              Param #   \n",
      "=================================================================\n",
      " dense_16 (Dense)            (None, 6)                 246       \n",
      "                                                                 \n",
      "=================================================================\n",
      "Total params: 246 (984.00 Byte)\n",
      "Trainable params: 246 (984.00 Byte)\n",
      "Non-trainable params: 0 (0.00 Byte)\n",
      "_________________________________________________________________\n",
      "Epoch 1/100\n",
      "25/25 [==============================] - 2s 22ms/step - loss: 1.0258 - pearson_correlation: -0.0061 - val_loss: 0.9922 - val_pearson_correlation: 0.0269\n",
      "Epoch 2/100\n",
      "25/25 [==============================] - 0s 11ms/step - loss: 0.9823 - pearson_correlation: 0.0373 - val_loss: 0.9526 - val_pearson_correlation: 0.0657\n",
      "Epoch 3/100\n",
      "25/25 [==============================] - 0s 12ms/step - loss: 0.9482 - pearson_correlation: 0.0701 - val_loss: 0.9284 - val_pearson_correlation: 0.0893\n",
      "Epoch 4/100\n",
      "25/25 [==============================] - 0s 11ms/step - loss: 0.9258 - pearson_correlation: 0.0918 - val_loss: 0.9107 - val_pearson_correlation: 0.1064\n",
      "Epoch 5/100\n",
      "25/25 [==============================] - 0s 11ms/step - loss: 0.9082 - pearson_correlation: 0.1088 - val_loss: 0.8945 - val_pearson_correlation: 0.1220\n",
      "Epoch 6/100\n",
      "25/25 [==============================] - 0s 11ms/step - loss: 0.8906 - pearson_correlation: 0.1260 - val_loss: 0.8771 - val_pearson_correlation: 0.1389\n",
      "Epoch 7/100\n",
      "25/25 [==============================] - 0s 12ms/step - loss: 0.8734 - pearson_correlation: 0.1426 - val_loss: 0.8630 - val_pearson_correlation: 0.1524\n",
      "Epoch 8/100\n",
      "25/25 [==============================] - 0s 11ms/step - loss: 0.8633 - pearson_correlation: 0.1524 - val_loss: 0.8555 - val_pearson_correlation: 0.1594\n",
      "Epoch 9/100\n",
      "25/25 [==============================] - 0s 11ms/step - loss: 0.8574 - pearson_correlation: 0.1572 - val_loss: 0.8510 - val_pearson_correlation: 0.1633\n",
      "Epoch 10/100\n",
      "25/25 [==============================] - 0s 11ms/step - loss: 0.8542 - pearson_correlation: 0.1598 - val_loss: 0.8475 - val_pearson_correlation: 0.1662\n",
      "Epoch 11/100\n",
      "25/25 [==============================] - 0s 11ms/step - loss: 0.8504 - pearson_correlation: 0.1633 - val_loss: 0.8450 - val_pearson_correlation: 0.1682\n",
      "Epoch 12/100\n",
      "25/25 [==============================] - 0s 11ms/step - loss: 0.8480 - pearson_correlation: 0.1650 - val_loss: 0.8427 - val_pearson_correlation: 0.1699\n",
      "Epoch 13/100\n",
      "25/25 [==============================] - 0s 11ms/step - loss: 0.8459 - pearson_correlation: 0.1665 - val_loss: 0.8408 - val_pearson_correlation: 0.1714\n",
      "Epoch 14/100\n",
      "25/25 [==============================] - 0s 11ms/step - loss: 0.8440 - pearson_correlation: 0.1680 - val_loss: 0.8391 - val_pearson_correlation: 0.1726\n",
      "Epoch 15/100\n",
      "25/25 [==============================] - 0s 11ms/step - loss: 0.8420 - pearson_correlation: 0.1700 - val_loss: 0.8377 - val_pearson_correlation: 0.1736\n",
      "Epoch 16/100\n",
      "25/25 [==============================] - 0s 12ms/step - loss: 0.8413 - pearson_correlation: 0.1701 - val_loss: 0.8362 - val_pearson_correlation: 0.1746\n",
      "Epoch 17/100\n",
      "25/25 [==============================] - 0s 11ms/step - loss: 0.8401 - pearson_correlation: 0.1708 - val_loss: 0.8351 - val_pearson_correlation: 0.1753\n",
      "Epoch 18/100\n",
      "25/25 [==============================] - 0s 11ms/step - loss: 0.8393 - pearson_correlation: 0.1709 - val_loss: 0.8340 - val_pearson_correlation: 0.1760\n",
      "Epoch 19/100\n",
      "25/25 [==============================] - 0s 11ms/step - loss: 0.8379 - pearson_correlation: 0.1721 - val_loss: 0.8329 - val_pearson_correlation: 0.1767\n",
      "Epoch 20/100\n",
      "25/25 [==============================] - 0s 12ms/step - loss: 0.8375 - pearson_correlation: 0.1723 - val_loss: 0.8320 - val_pearson_correlation: 0.1772\n",
      "Epoch 21/100\n",
      "25/25 [==============================] - 0s 11ms/step - loss: 0.8360 - pearson_correlation: 0.1733 - val_loss: 0.8309 - val_pearson_correlation: 0.1780\n",
      "Epoch 22/100\n",
      "25/25 [==============================] - 0s 11ms/step - loss: 0.8348 - pearson_correlation: 0.1747 - val_loss: 0.8300 - val_pearson_correlation: 0.1786\n",
      "Epoch 23/100\n",
      "25/25 [==============================] - 0s 11ms/step - loss: 0.8341 - pearson_correlation: 0.1743 - val_loss: 0.8292 - val_pearson_correlation: 0.1791\n",
      "Epoch 24/100\n",
      "25/25 [==============================] - 0s 11ms/step - loss: 0.8336 - pearson_correlation: 0.1749 - val_loss: 0.8284 - val_pearson_correlation: 0.1796\n",
      "Epoch 25/100\n",
      "25/25 [==============================] - 0s 11ms/step - loss: 0.8326 - pearson_correlation: 0.1750 - val_loss: 0.8276 - val_pearson_correlation: 0.1801\n",
      "Epoch 26/100\n",
      "25/25 [==============================] - 0s 11ms/step - loss: 0.8327 - pearson_correlation: 0.1748 - val_loss: 0.8268 - val_pearson_correlation: 0.1806\n",
      "Epoch 27/100\n",
      "25/25 [==============================] - 0s 11ms/step - loss: 0.8312 - pearson_correlation: 0.1768 - val_loss: 0.8260 - val_pearson_correlation: 0.1812\n",
      "Epoch 28/100\n",
      "25/25 [==============================] - 0s 11ms/step - loss: 0.8303 - pearson_correlation: 0.1769 - val_loss: 0.8253 - val_pearson_correlation: 0.1816\n",
      "Epoch 29/100\n",
      "25/25 [==============================] - 0s 11ms/step - loss: 0.8293 - pearson_correlation: 0.1772 - val_loss: 0.8244 - val_pearson_correlation: 0.1823\n",
      "Epoch 30/100\n",
      "25/25 [==============================] - 0s 12ms/step - loss: 0.8291 - pearson_correlation: 0.1777 - val_loss: 0.8236 - val_pearson_correlation: 0.1829\n",
      "Epoch 31/100\n",
      "25/25 [==============================] - 0s 11ms/step - loss: 0.8288 - pearson_correlation: 0.1780 - val_loss: 0.8229 - val_pearson_correlation: 0.1834\n",
      "Epoch 32/100\n",
      "25/25 [==============================] - 0s 11ms/step - loss: 0.8279 - pearson_correlation: 0.1784 - val_loss: 0.8224 - val_pearson_correlation: 0.1837\n",
      "Epoch 33/100\n",
      "25/25 [==============================] - 0s 12ms/step - loss: 0.8276 - pearson_correlation: 0.1788 - val_loss: 0.8212 - val_pearson_correlation: 0.1847\n",
      "Epoch 34/100\n",
      "25/25 [==============================] - 0s 12ms/step - loss: 0.8265 - pearson_correlation: 0.1794 - val_loss: 0.8207 - val_pearson_correlation: 0.1850\n",
      "Epoch 35/100\n",
      "25/25 [==============================] - 0s 12ms/step - loss: 0.8260 - pearson_correlation: 0.1795 - val_loss: 0.8197 - val_pearson_correlation: 0.1859\n",
      "Epoch 36/100\n",
      "25/25 [==============================] - 0s 12ms/step - loss: 0.8256 - pearson_correlation: 0.1802 - val_loss: 0.8191 - val_pearson_correlation: 0.1863\n",
      "Epoch 37/100\n",
      "25/25 [==============================] - 0s 11ms/step - loss: 0.8250 - pearson_correlation: 0.1807 - val_loss: 0.8182 - val_pearson_correlation: 0.1871\n",
      "Epoch 38/100\n",
      "25/25 [==============================] - 0s 11ms/step - loss: 0.8244 - pearson_correlation: 0.1811 - val_loss: 0.8177 - val_pearson_correlation: 0.1875\n",
      "Epoch 39/100\n",
      "25/25 [==============================] - 0s 12ms/step - loss: 0.8246 - pearson_correlation: 0.1806 - val_loss: 0.8171 - val_pearson_correlation: 0.1879\n",
      "Epoch 40/100\n",
      "25/25 [==============================] - 0s 11ms/step - loss: 0.8236 - pearson_correlation: 0.1814 - val_loss: 0.8161 - val_pearson_correlation: 0.1888\n",
      "Epoch 41/100\n",
      "25/25 [==============================] - 0s 11ms/step - loss: 0.8223 - pearson_correlation: 0.1827 - val_loss: 0.8159 - val_pearson_correlation: 0.1889\n",
      "Epoch 42/100\n",
      "25/25 [==============================] - 0s 11ms/step - loss: 0.8228 - pearson_correlation: 0.1822 - val_loss: 0.8151 - val_pearson_correlation: 0.1896\n",
      "Epoch 43/100\n",
      "25/25 [==============================] - 0s 11ms/step - loss: 0.8220 - pearson_correlation: 0.1825 - val_loss: 0.8145 - val_pearson_correlation: 0.1900\n",
      "Epoch 44/100\n",
      "25/25 [==============================] - 0s 11ms/step - loss: 0.8209 - pearson_correlation: 0.1832 - val_loss: 0.8145 - val_pearson_correlation: 0.1900\n",
      "Epoch 45/100\n",
      "25/25 [==============================] - 0s 11ms/step - loss: 0.8209 - pearson_correlation: 0.1837 - val_loss: 0.8138 - val_pearson_correlation: 0.1905\n",
      "Epoch 46/100\n",
      "25/25 [==============================] - 0s 11ms/step - loss: 0.8207 - pearson_correlation: 0.1839 - val_loss: 0.8134 - val_pearson_correlation: 0.1909\n",
      "Epoch 47/100\n",
      "25/25 [==============================] - 0s 11ms/step - loss: 0.8203 - pearson_correlation: 0.1842 - val_loss: 0.8130 - val_pearson_correlation: 0.1912\n",
      "Epoch 48/100\n",
      "25/25 [==============================] - 0s 12ms/step - loss: 0.8202 - pearson_correlation: 0.1842 - val_loss: 0.8126 - val_pearson_correlation: 0.1915\n",
      "Epoch 49/100\n",
      "25/25 [==============================] - 0s 12ms/step - loss: 0.8196 - pearson_correlation: 0.1844 - val_loss: 0.8121 - val_pearson_correlation: 0.1918\n",
      "Epoch 50/100\n",
      "25/25 [==============================] - 0s 11ms/step - loss: 0.8197 - pearson_correlation: 0.1842 - val_loss: 0.8118 - val_pearson_correlation: 0.1921\n",
      "Epoch 51/100\n",
      "25/25 [==============================] - 0s 11ms/step - loss: 0.8190 - pearson_correlation: 0.1848 - val_loss: 0.8117 - val_pearson_correlation: 0.1922\n",
      "Epoch 52/100\n",
      "25/25 [==============================] - 0s 12ms/step - loss: 0.8190 - pearson_correlation: 0.1845 - val_loss: 0.8118 - val_pearson_correlation: 0.1920\n",
      "Epoch 53/100\n",
      "25/25 [==============================] - 0s 11ms/step - loss: 0.8189 - pearson_correlation: 0.1848 - val_loss: 0.8111 - val_pearson_correlation: 0.1926\n",
      "Epoch 54/100\n",
      "25/25 [==============================] - 0s 11ms/step - loss: 0.8184 - pearson_correlation: 0.1853 - val_loss: 0.8109 - val_pearson_correlation: 0.1927\n",
      "Epoch 55/100\n",
      "25/25 [==============================] - 0s 12ms/step - loss: 0.8178 - pearson_correlation: 0.1860 - val_loss: 0.8106 - val_pearson_correlation: 0.1929\n",
      "Epoch 56/100\n",
      "25/25 [==============================] - 0s 11ms/step - loss: 0.8178 - pearson_correlation: 0.1856 - val_loss: 0.8105 - val_pearson_correlation: 0.1930\n",
      "Epoch 57/100\n",
      "25/25 [==============================] - 0s 11ms/step - loss: 0.8177 - pearson_correlation: 0.1862 - val_loss: 0.8100 - val_pearson_correlation: 0.1934\n",
      "Epoch 58/100\n",
      "25/25 [==============================] - 0s 11ms/step - loss: 0.8170 - pearson_correlation: 0.1864 - val_loss: 0.8098 - val_pearson_correlation: 0.1935\n",
      "Epoch 59/100\n",
      "25/25 [==============================] - 0s 12ms/step - loss: 0.8164 - pearson_correlation: 0.1864 - val_loss: 0.8099 - val_pearson_correlation: 0.1934\n",
      "Epoch 60/100\n",
      "25/25 [==============================] - 0s 11ms/step - loss: 0.8165 - pearson_correlation: 0.1866 - val_loss: 0.8096 - val_pearson_correlation: 0.1936\n",
      "Epoch 61/100\n",
      "25/25 [==============================] - 0s 11ms/step - loss: 0.8168 - pearson_correlation: 0.1866 - val_loss: 0.8093 - val_pearson_correlation: 0.1939\n",
      "Epoch 62/100\n",
      "25/25 [==============================] - 0s 12ms/step - loss: 0.8163 - pearson_correlation: 0.1872 - val_loss: 0.8092 - val_pearson_correlation: 0.1940\n",
      "Epoch 63/100\n",
      "25/25 [==============================] - 0s 12ms/step - loss: 0.8157 - pearson_correlation: 0.1875 - val_loss: 0.8090 - val_pearson_correlation: 0.1941\n",
      "Epoch 64/100\n",
      "25/25 [==============================] - 0s 11ms/step - loss: 0.8164 - pearson_correlation: 0.1870 - val_loss: 0.8086 - val_pearson_correlation: 0.1944\n",
      "Epoch 65/100\n",
      "25/25 [==============================] - 0s 11ms/step - loss: 0.8163 - pearson_correlation: 0.1867 - val_loss: 0.8089 - val_pearson_correlation: 0.1942\n",
      "Epoch 66/100\n",
      "25/25 [==============================] - 0s 11ms/step - loss: 0.8152 - pearson_correlation: 0.1876 - val_loss: 0.8089 - val_pearson_correlation: 0.1941\n",
      "Epoch 67/100\n",
      "25/25 [==============================] - 0s 11ms/step - loss: 0.8157 - pearson_correlation: 0.1873 - val_loss: 0.8084 - val_pearson_correlation: 0.1945\n",
      "Epoch 68/100\n",
      "25/25 [==============================] - 0s 11ms/step - loss: 0.8155 - pearson_correlation: 0.1876 - val_loss: 0.8082 - val_pearson_correlation: 0.1947\n",
      "Epoch 69/100\n",
      "25/25 [==============================] - 0s 12ms/step - loss: 0.8149 - pearson_correlation: 0.1880 - val_loss: 0.8080 - val_pearson_correlation: 0.1949\n",
      "Epoch 70/100\n",
      "25/25 [==============================] - 0s 12ms/step - loss: 0.8144 - pearson_correlation: 0.1887 - val_loss: 0.8077 - val_pearson_correlation: 0.1951\n",
      "Epoch 71/100\n",
      "25/25 [==============================] - 0s 11ms/step - loss: 0.8156 - pearson_correlation: 0.1868 - val_loss: 0.8080 - val_pearson_correlation: 0.1948\n",
      "Epoch 72/100\n",
      "25/25 [==============================] - 0s 11ms/step - loss: 0.8142 - pearson_correlation: 0.1888 - val_loss: 0.8076 - val_pearson_correlation: 0.1952\n",
      "Epoch 73/100\n",
      "25/25 [==============================] - 0s 11ms/step - loss: 0.8149 - pearson_correlation: 0.1880 - val_loss: 0.8074 - val_pearson_correlation: 0.1954\n",
      "Epoch 74/100\n",
      "25/25 [==============================] - 0s 11ms/step - loss: 0.8147 - pearson_correlation: 0.1881 - val_loss: 0.8075 - val_pearson_correlation: 0.1952\n",
      "Epoch 75/100\n",
      "25/25 [==============================] - 0s 11ms/step - loss: 0.8138 - pearson_correlation: 0.1895 - val_loss: 0.8076 - val_pearson_correlation: 0.1951\n",
      "Epoch 76/100\n",
      "25/25 [==============================] - 0s 12ms/step - loss: 0.8143 - pearson_correlation: 0.1885 - val_loss: 0.8073 - val_pearson_correlation: 0.1954\n",
      "Epoch 77/100\n",
      "25/25 [==============================] - 0s 11ms/step - loss: 0.8145 - pearson_correlation: 0.1884 - val_loss: 0.8075 - val_pearson_correlation: 0.1952\n",
      "Epoch 78/100\n",
      "25/25 [==============================] - 0s 11ms/step - loss: 0.8141 - pearson_correlation: 0.1889 - val_loss: 0.8073 - val_pearson_correlation: 0.1953\n",
      "Epoch 79/100\n",
      "25/25 [==============================] - 0s 11ms/step - loss: 0.8139 - pearson_correlation: 0.1890 - val_loss: 0.8069 - val_pearson_correlation: 0.1957\n",
      "Epoch 80/100\n",
      "25/25 [==============================] - 0s 12ms/step - loss: 0.8136 - pearson_correlation: 0.1888 - val_loss: 0.8073 - val_pearson_correlation: 0.1953\n",
      "Epoch 81/100\n",
      "25/25 [==============================] - 0s 11ms/step - loss: 0.8138 - pearson_correlation: 0.1892 - val_loss: 0.8073 - val_pearson_correlation: 0.1953\n",
      "Epoch 82/100\n",
      "25/25 [==============================] - 0s 11ms/step - loss: 0.8137 - pearson_correlation: 0.1884 - val_loss: 0.8069 - val_pearson_correlation: 0.1956\n",
      "Epoch 83/100\n",
      "25/25 [==============================] - 0s 12ms/step - loss: 0.8131 - pearson_correlation: 0.1894 - val_loss: 0.8060 - val_pearson_correlation: 0.1965\n",
      "Epoch 84/100\n",
      "25/25 [==============================] - 0s 12ms/step - loss: 0.8134 - pearson_correlation: 0.1891 - val_loss: 0.8065 - val_pearson_correlation: 0.1960\n",
      "Epoch 85/100\n",
      "25/25 [==============================] - 0s 12ms/step - loss: 0.8128 - pearson_correlation: 0.1901 - val_loss: 0.8069 - val_pearson_correlation: 0.1956\n",
      "Epoch 86/100\n",
      "25/25 [==============================] - 0s 11ms/step - loss: 0.8138 - pearson_correlation: 0.1886 - val_loss: 0.8066 - val_pearson_correlation: 0.1959\n",
      "Epoch 87/100\n",
      "25/25 [==============================] - 0s 11ms/step - loss: 0.8132 - pearson_correlation: 0.1894 - val_loss: 0.8064 - val_pearson_correlation: 0.1961\n",
      "Epoch 88/100\n",
      "25/25 [==============================] - 0s 11ms/step - loss: 0.8135 - pearson_correlation: 0.1891 - val_loss: 0.8061 - val_pearson_correlation: 0.1963\n",
      "Epoch 89/100\n",
      "25/25 [==============================] - 0s 11ms/step - loss: 0.8134 - pearson_correlation: 0.1893 - val_loss: 0.8060 - val_pearson_correlation: 0.1964\n",
      "Epoch 90/100\n",
      "25/25 [==============================] - 0s 12ms/step - loss: 0.8127 - pearson_correlation: 0.1896 - val_loss: 0.8062 - val_pearson_correlation: 0.1963\n",
      "Epoch 91/100\n",
      "25/25 [==============================] - 0s 12ms/step - loss: 0.8126 - pearson_correlation: 0.1895 - val_loss: 0.8062 - val_pearson_correlation: 0.1962\n",
      "Epoch 92/100\n",
      "25/25 [==============================] - 0s 12ms/step - loss: 0.8122 - pearson_correlation: 0.1906 - val_loss: 0.8052 - val_pearson_correlation: 0.1972\n",
      "Epoch 93/100\n",
      "25/25 [==============================] - 0s 11ms/step - loss: 0.8125 - pearson_correlation: 0.1900 - val_loss: 0.8053 - val_pearson_correlation: 0.1971\n",
      "Epoch 94/100\n",
      "25/25 [==============================] - 0s 11ms/step - loss: 0.8123 - pearson_correlation: 0.1902 - val_loss: 0.8064 - val_pearson_correlation: 0.1960\n",
      "Epoch 95/100\n",
      "25/25 [==============================] - 0s 12ms/step - loss: 0.8127 - pearson_correlation: 0.1902 - val_loss: 0.8058 - val_pearson_correlation: 0.1966\n",
      "Epoch 96/100\n",
      "25/25 [==============================] - 0s 11ms/step - loss: 0.8130 - pearson_correlation: 0.1892 - val_loss: 0.8051 - val_pearson_correlation: 0.1972\n"
     ]
    },
    {
     "name": "stdout",
     "output_type": "stream",
     "text": [
      "Epoch 97/100\n",
      "25/25 [==============================] - 0s 11ms/step - loss: 0.8124 - pearson_correlation: 0.1902 - val_loss: 0.8057 - val_pearson_correlation: 0.1966\n",
      "Epoch 98/100\n",
      "25/25 [==============================] - 0s 12ms/step - loss: 0.8119 - pearson_correlation: 0.1905 - val_loss: 0.8058 - val_pearson_correlation: 0.1966\n",
      "Epoch 99/100\n",
      "25/25 [==============================] - 0s 11ms/step - loss: 0.8120 - pearson_correlation: 0.1905 - val_loss: 0.8048 - val_pearson_correlation: 0.1975\n",
      "Epoch 100/100\n",
      "25/25 [==============================] - 0s 11ms/step - loss: 0.8120 - pearson_correlation: 0.1903 - val_loss: 0.8055 - val_pearson_correlation: 0.1968\n",
      "0.19748176634311676\n",
      "(0.19678219453484558, array([0.10060672, 0.27729754, 0.14392887, 0.09481543, 0.2646922 ,\n",
      "       0.29935241]))\n",
      "Best weights:\n",
      "(0.19750310533254925, array([0.10209893, 0.27784445, 0.14552538, 0.09495002, 0.2645854 ,\n",
      "       0.30001444]))\n"
     ]
    }
   ],
   "source": [
    "batch_size=512 #128 #1024 #\n",
    "mlpModel=Sequential()\n",
    "\n",
    "#mlpModel.add(Dense(num_classes, input_shape=X_train.shape[1:],activation='tanh',use_bias=True,kernel_regularizer=tf.keras.regularizers.l2(1.0/batch_size)))\n",
    "mlpModel.add(Dense(num_classes, input_shape=X_train.shape[1:],activation='sigmoid',use_bias=True,kernel_regularizer=tf.keras.regularizers.l2(1.0/batch_size)))\n",
    "    \n",
    "#mlpModel.compile(optimizer=Adam(learning_rate=1e-3), loss=CCC_ERI, metrics=[correlation]) #'mae','mse'\n",
    "#mlpModel.compile(optimizer=Adam(learning_rate=1e-3), loss=Prod_ERI_loss, metrics=[pearson_correlation])\n",
    "#mlpModel.compile(optimizer=Adam(learning_rate=1e-3), loss=loss, metrics=[pearson_correlation])\n",
    "\n",
    "#mlpModel.compile(optimizer=Adam(learning_rate=1e-3), loss='mse', metrics=[pearson_correlation])\n",
    "mlpModel.compile(optimizer=Adam(learning_rate=1e-3), loss=Pearson_ERI_loss, metrics=[pearson_correlation])\n",
    "#mlpModel.compile(optimizer=Adam(learning_rate=1e-3), loss=Pearson_ERI_loss_weighted, metrics=[pearson_correlation])\n",
    "\n",
    "\n",
    "mlpModel.summary()\n",
    "\n",
    "#save_best_model = SaveBestModel('val_loss',False)\n",
    "save_best_model = SaveBestModel('val_pearson_correlation',True)\n",
    "mlpModel.fit(X_train,y_train, batch_size=batch_size, epochs=100, verbose=1, callbacks=[save_best_model], validation_data=(X_val,y_val))\n",
    "best_model_weights = save_best_model.best_model_weights\n",
    "print(save_best_model.best)\n",
    "\n",
    "print_metrics()\n",
    "print('Best weights:')\n",
    "mlpModel.set_weights(best_model_weights)\n",
    "print_metrics()"
   ]
  },
  {
   "cell_type": "code",
   "execution_count": 91,
   "metadata": {},
   "outputs": [
    {
     "name": "stdout",
     "output_type": "stream",
     "text": [
      "(0.1723227638265419, array([0.03896451, 0.24999949, 0.12893387, 0.0788345 , 0.254864  ,\n",
      "       0.28234021]))\n",
      "0.1424794447778636\n"
     ]
    }
   ],
   "source": [
    "y_val_preds=mlpModel.predict(X_val,verbose=0)\n",
    "print(mean_pearsons(y_val_preds,y_val))\n",
    "def correlation_np(x, y):    \n",
    "    mx = np.mean(x)\n",
    "    my = np.mean(y)\n",
    "    xm, ym = x-mx, y-my\n",
    "    r_num = np.mean(np.multiply(xm,ym))        \n",
    "    r_den = np.std(xm) * np.std(ym)\n",
    "    return r_num / r_den\n",
    "print(correlation_np(y_val_preds,y_val))"
   ]
  },
  {
   "cell_type": "code",
   "execution_count": 33,
   "metadata": {},
   "outputs": [
    {
     "name": "stdout",
     "output_type": "stream",
     "text": [
      "(0.2361361954257474, array([0.30001496, 0.1883828 , 0.2457414 , 0.31087313, 0.22221633,\n",
      "       0.14958856]))\n"
     ]
    }
   ],
   "source": [
    "if False:\n",
    "    mlpModel.save_weights('eri_mbf_va_face_images.h5')#(0.18358024829438388, array([0.07515647, 0.25664032, 0.12777257, 0.10387064, 0.25493754,0.28310395]))\n",
    "    #mlpModel.save_weights('eri_ddamfnet_mtl_face_images.h5')#(0.17381719697341094, array([0.05892773, 0.26441864, 0.12007343, 0.06789432, 0.24262809,0.28896098]))\n",
    "    #(0.18164753736100603, array([0.06823453, 0.25565953, 0.12300463, 0.10762958, 0.2540667 ,       0.28129026]))\n",
    "    #mlpModel.save_weights('eri_audio.h5')#(0.2361361954257474, array([0.30001496, 0.1883828 , 0.2457414 , 0.31087313, 0.22221633, 0.14958856]))\n",
    "else:\n",
    "    mlpModel.load_weights('eri_audio.h5')\n",
    "    #mlpModel.load_weights('eri_mbf_va_face_images.h5')\n",
    "    print_metrics()"
   ]
  },
  {
   "cell_type": "code",
   "execution_count": 92,
   "metadata": {},
   "outputs": [
    {
     "name": "stdout",
     "output_type": "stream",
     "text": [
      "(0.17381719697341094, array([0.05892773, 0.26441864, 0.12007343, 0.06789432, 0.24262809,\n",
      "       0.28896098]))\n"
     ]
    }
   ],
   "source": [
    "#mlpModel.load_weights('eri_mbf_va_face_images.h5')\n",
    "mlpModel.load_weights('eri_ddamfnet_mtl_face_images.h5')\n",
    "y_val_preds=mlpModel.predict(X_val,verbose=0)\n",
    "print(mean_pearsons(y_val_preds,y_val))"
   ]
  },
  {
   "cell_type": "code",
   "execution_count": 22,
   "metadata": {},
   "outputs": [
    {
     "name": "stdout",
     "output_type": "stream",
     "text": [
      "(0.2361361954257474, array([0.30001496, 0.1883828 , 0.2457414 , 0.31087313, 0.22221633,\n",
      "       0.14958856]))\n"
     ]
    }
   ],
   "source": [
    "#mlpModel.load_weights('eri_audio.h5')\n",
    "y_val_preds_audio=mlpModel.predict(X_val,verbose=0)\n",
    "print(mean_pearsons(y_val_preds_audio,y_val))"
   ]
  },
  {
   "cell_type": "code",
   "execution_count": 93,
   "metadata": {},
   "outputs": [
    {
     "name": "stdout",
     "output_type": "stream",
     "text": [
      "0.0 (0.2361361954257474, array([0.30001496, 0.1883828 , 0.2457414 , 0.31087313, 0.22221633,\n",
      "       0.14958856]))\n",
      "0.1 (0.2766607780610694, array([0.29939705, 0.30790504, 0.2299955 , 0.26716812, 0.30084063,\n",
      "       0.25465833]))\n",
      "0.2 (0.2534510821230262, array([0.27630457, 0.29589146, 0.18426352, 0.19087555, 0.27699984,\n",
      "       0.29637155]))\n",
      "0.30000000000000004 (0.2335363882808826, array([0.23818648, 0.28554371, 0.16056439, 0.1463164 , 0.26442896,\n",
      "       0.30617838]))\n",
      "0.4 (0.21773468157625944, array([0.19727908, 0.27890312, 0.14701614, 0.12010699, 0.25719966,\n",
      "       0.3059031 ]))\n",
      "0.5 (0.20541742792022932, array([0.1608613 , 0.27443537, 0.13837785, 0.10330707, 0.25256196,\n",
      "       0.30296101]))\n",
      "0.6000000000000001 (0.19586478088214376, array([0.13085505, 0.27125555, 0.1324211 , 0.09173367, 0.24934703,\n",
      "       0.29957628]))\n",
      "0.7000000000000001 (0.18840020530271975, array([0.10674362, 0.26888635, 0.12807504, 0.08331274, 0.24699121,\n",
      "       0.29639227]))\n",
      "0.8 (0.1824841490131773, array([0.0873978 , 0.26705634, 0.12476807, 0.07692483, 0.24519225,\n",
      "       0.29356561]))\n",
      "0.9 (0.17771847029045626, array([0.07174508, 0.2656018 , 0.12216903, 0.0719193 , 0.24377425,\n",
      "       0.29110137]))\n",
      "1.0 (0.17381719697341094, array([0.05892773, 0.26441864, 0.12007343, 0.06789432, 0.24262809,\n",
      "       0.28896098]))\n"
     ]
    }
   ],
   "source": [
    "for w in np.linspace(0,1,11):\n",
    "    y_ensemble=w*y_val_preds+(1-w)*y_val_preds_audio\n",
    "    print(w,mean_pearsons(y_ensemble,y_val))"
   ]
  },
  {
   "cell_type": "code",
   "execution_count": 38,
   "metadata": {},
   "outputs": [
    {
     "name": "stdout",
     "output_type": "stream",
     "text": [
      "(0.29894266463043945, array([0.30411956, 0.30041602, 0.25837018, 0.3147965 , 0.31599936,\n",
      "       0.29995437]))\n"
     ]
    }
   ],
   "source": [
    "#mbf va\n",
    "w=0.1\n",
    "y_ensemble=w*y_val_preds+(1-w)*y_val_preds_audio\n",
    "\n",
    "#y_ensemble[:,2]=y_val_preds_audio[:,2]\n",
    "#y_ensemble[:,3]=y_val_preds_audio[:,3]\n",
    "\n",
    "w=0.4\n",
    "y_ensemble[:,-1]=w*y_val_preds[:,-1]+(1-w)*y_val_preds_audio[:,-1]\n",
    "\n",
    "print(mean_pearsons(y_ensemble,y_val))\n",
    "#(0.29894266463043945, array([0.30411956, 0.30041602, 0.25837018, 0.3147965 , 0.31599936,       0.29995437]))"
   ]
  },
  {
   "cell_type": "code",
   "execution_count": 64,
   "metadata": {},
   "outputs": [
    {
     "name": "stdout",
     "output_type": "stream",
     "text": [
      "(0.2930225475405564, array([0.30303093, 0.27842321, 0.24698102, 0.31087313, 0.31754198,\n",
      "       0.30128502]))\n"
     ]
    }
   ],
   "source": [
    "#mobilevit\n",
    "w=0.1\n",
    "y_ensemble=w*y_val_preds+(1-w)*y_val_preds_audio\n",
    "\n",
    "y_ensemble[:,3]=y_val_preds_audio[:,3]\n",
    "\n",
    "w=0.4\n",
    "y_ensemble[:,-1]=w*y_val_preds[:,-1]+(1-w)*y_val_preds_audio[:,-1]\n",
    "\n",
    "print(mean_pearsons(y_ensemble,y_val))\n",
    "#(0.2981795621039914, array([0.30110888, 0.29684512, 0.25949711, 0.31087313, 0.31708184, 0.3036713 ]))"
   ]
  },
  {
   "cell_type": "code",
   "execution_count": 95,
   "metadata": {},
   "outputs": [
    {
     "name": "stdout",
     "output_type": "stream",
     "text": [
      "(0.29511005836193643, array([0.29939705, 0.30790504, 0.2457414 , 0.31087313, 0.30084063,\n",
      "       0.3059031 ]))\n"
     ]
    }
   ],
   "source": [
    "#ddamfnet\n",
    "w=0.1\n",
    "y_ensemble=w*y_val_preds+(1-w)*y_val_preds_audio\n",
    "\n",
    "y_ensemble[:,2]=y_val_preds_audio[:,2]\n",
    "y_ensemble[:,3]=y_val_preds_audio[:,3]\n",
    "\n",
    "w=0.4\n",
    "y_ensemble[:,-1]=w*y_val_preds[:,-1]+(1-w)*y_val_preds_audio[:,-1]\n",
    "\n",
    "print(mean_pearsons(y_ensemble,y_val))\n",
    "#(0.2952040356818089, array([0.3022263 , 0.29957365, 0.2457414 , 0.31087313, 0.31403546, 0.29877427]))"
   ]
  },
  {
   "cell_type": "code",
   "execution_count": 39,
   "metadata": {},
   "outputs": [
    {
     "data": {
      "text/plain": [
       "<Figure size 216x216 with 0 Axes>"
      ]
     },
     "metadata": {},
     "output_type": "display_data"
    },
    {
     "data": {
      "image/png": "[encoded data removed]",
      "text/plain": [
       "<Figure size 432x288 with 2 Axes>"
      ]
     },
     "metadata": {
      "needs_background": "light"
     },
     "output_type": "display_data"
    },
    {
     "data": {
      "image/png": "[encoded data removed]",
      "text/plain": [
       "<Figure size 216x216 with 1 Axes>"
      ]
     },
     "metadata": {
      "needs_background": "light"
     },
     "output_type": "display_data"
    },
    {
     "data": {
      "text/plain": [
       "<Figure size 216x216 with 0 Axes>"
      ]
     },
     "metadata": {},
     "output_type": "display_data"
    },
    {
     "data": {
      "image/png": "[encoded data removed]",
      "text/plain": [
       "<Figure size 432x288 with 2 Axes>"
      ]
     },
     "metadata": {
      "needs_background": "light"
     },
     "output_type": "display_data"
    },
    {
     "data": {
      "image/png": "[encoded data removed]",
      "text/plain": [
       "<Figure size 216x216 with 1 Axes>"
      ]
     },
     "metadata": {
      "needs_background": "light"
     },
     "output_type": "display_data"
    },
    {
     "data": {
      "text/plain": [
       "<Figure size 216x216 with 0 Axes>"
      ]
     },
     "metadata": {},
     "output_type": "display_data"
    },
    {
     "data": {
      "image/png": "[encoded data removed]",
      "text/plain": [
       "<Figure size 432x288 with 2 Axes>"
      ]
     },
     "metadata": {
      "needs_background": "light"
     },
     "output_type": "display_data"
    },
    {
     "data": {
      "image/png": "[encoded data removed]",
      "text/plain": [
       "<Figure size 216x216 with 1 Axes>"
      ]
     },
     "metadata": {
      "needs_background": "light"
     },
     "output_type": "display_data"
    },
    {
     "data": {
      "text/plain": [
       "<Figure size 216x216 with 0 Axes>"
      ]
     },
     "metadata": {},
     "output_type": "display_data"
    },
    {
     "data": {
      "image/png": "[encoded data removed]",
      "text/plain": [
       "<Figure size 432x288 with 2 Axes>"
      ]
     },
     "metadata": {
      "needs_background": "light"
     },
     "output_type": "display_data"
    },
    {
     "data": {
      "image/png": "[encoded data removed]",
      "text/plain": [
       "<Figure size 216x216 with 1 Axes>"
      ]
     },
     "metadata": {
      "needs_background": "light"
     },
     "output_type": "display_data"
    },
    {
     "data": {
      "text/plain": [
       "<Figure size 216x216 with 0 Axes>"
      ]
     },
     "metadata": {},
     "output_type": "display_data"
    },
    {
     "data": {
      "image/png": "[encoded data removed]",
      "text/plain": [
       "<Figure size 432x288 with 2 Axes>"
      ]
     },
     "metadata": {
      "needs_background": "light"
     },
     "output_type": "display_data"
    },
    {
     "data": {
      "image/png": "[encoded data removed]",
      "text/plain": [
       "<Figure size 216x216 with 1 Axes>"
      ]
     },
     "metadata": {
      "needs_background": "light"
     },
     "output_type": "display_data"
    },
    {
     "data": {
      "text/plain": [
       "<Figure size 216x216 with 0 Axes>"
      ]
     },
     "metadata": {},
     "output_type": "display_data"
    },
    {
     "data": {
      "image/png": "[encoded data removed]",
      "text/plain": [
       "<Figure size 432x288 with 2 Axes>"
      ]
     },
     "metadata": {
      "needs_background": "light"
     },
     "output_type": "display_data"
    },
    {
     "data": {
      "image/png": "[encoded data removed]",
      "text/plain": [
       "<Figure size 216x216 with 1 Axes>"
      ]
     },
     "metadata": {
      "needs_background": "light"
     },
     "output_type": "display_data"
    }
   ],
   "source": [
    "for i, cls in enumerate(classes):\n",
    "    plt.figure(figsize=(3, 3))\n",
    "    fig, axs = plt.subplots(1, 2, sharey=True, tight_layout=True)\n",
    "    axs[0].hist(y_val[:,i], bins=20)\n",
    "    axs[0].set_title(cls+' (val)')\n",
    "    axs[1].hist(y_val_preds[:,i], bins=20)\n",
    "    axs[1].set_title(cls+' (pred)')\n",
    "\n",
    "    plt.figure(figsize=(3, 3))\n",
    "    plt.scatter(y_val_preds[:,i],y_val[:,i])\n",
    "    plt.xlabel('pred')\n",
    "    plt.ylabel('val')\n",
    "    plt.title(cls)"
   ]
  },
  {
   "cell_type": "code",
   "execution_count": 33,
   "metadata": {},
   "outputs": [
    {
     "data": {
      "text/plain": [
       "<Figure size 216x216 with 0 Axes>"
      ]
     },
     "metadata": {},
     "output_type": "display_data"
    },
    {
     "data": {
      "image/png": "[encoded data removed]",
      "text/plain": [
       "<Figure size 432x288 with 2 Axes>"
      ]
     },
     "metadata": {
      "needs_background": "light"
     },
     "output_type": "display_data"
    },
    {
     "data": {
      "text/plain": [
       "<Figure size 216x216 with 0 Axes>"
      ]
     },
     "metadata": {},
     "output_type": "display_data"
    },
    {
     "data": {
      "image/png": "[encoded data removed]",
      "text/plain": [
       "<Figure size 432x288 with 2 Axes>"
      ]
     },
     "metadata": {
      "needs_background": "light"
     },
     "output_type": "display_data"
    },
    {
     "data": {
      "text/plain": [
       "<Figure size 216x216 with 0 Axes>"
      ]
     },
     "metadata": {},
     "output_type": "display_data"
    },
    {
     "data": {
      "image/png": "[encoded data removed]",
      "text/plain": [
       "<Figure size 432x288 with 2 Axes>"
      ]
     },
     "metadata": {
      "needs_background": "light"
     },
     "output_type": "display_data"
    },
    {
     "data": {
      "text/plain": [
       "<Figure size 216x216 with 0 Axes>"
      ]
     },
     "metadata": {},
     "output_type": "display_data"
    },
    {
     "data": {
      "image/png": "[encoded data removed]",
      "text/plain": [
       "<Figure size 432x288 with 2 Axes>"
      ]
     },
     "metadata": {
      "needs_background": "light"
     },
     "output_type": "display_data"
    },
    {
     "data": {
      "text/plain": [
       "<Figure size 216x216 with 0 Axes>"
      ]
     },
     "metadata": {},
     "output_type": "display_data"
    },
    {
     "data": {
      "image/png": "[encoded data removed]",
      "text/plain": [
       "<Figure size 432x288 with 2 Axes>"
      ]
     },
     "metadata": {
      "needs_background": "light"
     },
     "output_type": "display_data"
    },
    {
     "data": {
      "text/plain": [
       "<Figure size 216x216 with 0 Axes>"
      ]
     },
     "metadata": {},
     "output_type": "display_data"
    },
    {
     "data": {
      "image/png": "[encoded data removed]",
      "text/plain": [
       "<Figure size 432x288 with 2 Axes>"
      ]
     },
     "metadata": {
      "needs_background": "light"
     },
     "output_type": "display_data"
    }
   ],
   "source": [
    "y_train_preds=mlpModel.predict(X_train,verbose=0)\n",
    "for i, cls in enumerate(classes):\n",
    "    plt.figure(figsize=(3, 3))\n",
    "    fig, axs = plt.subplots(1, 2, sharey=True, tight_layout=True)\n",
    "    axs[0].hist(y_train[:,i], bins=20)\n",
    "    axs[0].set_title(cls+' (val)')\n",
    "    axs[1].hist(y_train_preds[:,i], bins=20)\n",
    "    axs[1].set_title(cls+' (pred)')\n"
   ]
  },
  {
   "cell_type": "markdown",
   "metadata": {},
   "source": [
    "best_vgaf\n",
    "features: 0.16468719325142459, array([0.04719238, 0.23872681, 0.12715181, 0.10167664, 0.22254081,\n",
    "       0.25083472])\n",
    "agg features: 0.16581090507195018, array([0.05959792, 0.2307677 , 0.13180669, 0.07433949, 0.23725057,\n",
    "       0.26110306])\n",
    "scores: 0.15956704687617598, array([0.01631927, 0.23423282, 0.13149749, 0.07082677, 0.22806896,\n",
    "       0.27645697])\n",
    "agg scores: 0.16445071167985162, array([0.01858242, 0.24766241, 0.12774497, 0.07869363, 0.22775766,\n",
    "       0.28626319])\n",
    "\n",
    "       \n",
    "mbf_va\n",
    "features:0.15182967597822564, array([0.02151467, 0.22876023, 0.11397221, 0.0691848 , 0.22993618,\n",
    "       0.24760996])\n",
    "aggregate all features: 0.1645556550825007, array([0.05571004, 0.23802543, 0.13028415, 0.07030688, 0.23254514,\n",
    "       0.26046229])\n",
    "       \n",
    "scores:0.16669173598326226, array([0.02758822, 0.23673681, 0.13362706, 0.08069747, 0.25155482,\n",
    "       0.26994605])\n",
    "aggregate all scores: (0.1732400927843647, array([0.02851866, 0.24981956, 0.13175185, 0.09749259, 0.25425177,\n",
    "       0.27760613]))\n",
    "\n",
    "ddamfnet\n",
    "features:0.16198426966650922, array([0.01388326, 0.25147838, 0.12110723, 0.08410949, 0.23725866,\n",
    "       0.2640686 ])\n",
    "agg features: 0.16027512223492021, array([0.0594543 , 0.21693791, 0.13550432, 0.0687296 , 0.22447545,\n",
    "       0.25654916])\n",
    "scores:0.16402727920369453, array([0.01738167, 0.24622458, 0.12570119, 0.07402645, 0.24381048,\n",
    "       0.27701931])\n",
    "agg scores: 0.16844250684501985, array([0.03538154, 0.24612609, 0.1304421 , 0.06341882, 0.24262173,\n",
    "       0.29266476])\n",
    "       \n",
    "\n",
    "ddamfnet_mtl\n",
    "features:0.1628087073637761, array([0.02887615, 0.23853502, 0.128083  , 0.07613977, 0.23631758,\n",
    "       0.26890072])\n",
    "agg features: 0.17225771735921067, array([0.06134339, 0.23192009, 0.12823768, 0.10641768, 0.24464429,\n",
    "       0.26098318])\n",
    "scores: 0.1681939929777879, array([0.04078771, 0.23336167, 0.13869368, 0.08245851, 0.24289292,\n",
    "       0.27096947])\n",
    "agg scores:0.17033144680551396, array([0.02886761, 0.24497157, 0.12979594, 0.08784128, 0.24102297,\n",
    "       0.2894893 ])\n",
    "     \n",
    "enet_b0_8_va_mtl\n",
    "features: 0.16319175647904235, array([0.01617428, 0.23361139, 0.12388217, 0.10008462, 0.23394534,\n",
    "       0.27145273])\n",
    "agg features: (0.16725336033256263, array([0.03485187, 0.23179741, 0.13797108, 0.08773678, 0.24282352,\n",
    "       0.26833951]))\n",
    "scores:0.15836499311048943, array([0.02748861, 0.21146971, 0.1258152 , 0.08053375, 0.2273209 ,\n",
    "       0.27756179])\n",
    "agg scores: 0.15903670612437162, array([0.01880236, 0.23347567, 0.11501619, 0.07293681, 0.23117079,\n",
    "       0.28281842])\n",
    "\n",
    "mobile_vit\n",
    "features: (0.16443273392150856, array([0.03788293, 0.23138948, 0.13868397, 0.07806633, 0.23335648,\n",
    "       0.26721721]))\n",
    "agg features: (0.16830869683333383, array([0.04331888, 0.24586312, 0.13468709, 0.0778735 , 0.23820341,\n",
    "       0.26990619]))\n",
    "scores: (0.16418244416927788, array([0.03213561, 0.24843837, 0.14901467, 0.0674399 , 0.23996759,\n",
    "       0.24809851]))\n",
    "agg scores:(0.17267761008941043, array([0.06208776, 0.25483363, 0.14304662, 0.06244557, 0.23984525,\n",
    "       0.27380682]))\n",
    "       \n",
    "mobile_vit_orig_faces\n",
    "agg scores: 0.17534107901477416, array([0.04539285, 0.26071049, 0.12750846, 0.08337933, 0.25092688,\n",
    "       0.28412847])\n",
    "       \n",
    "       \n",
    "mbf_vggface2_orig_faces\n",
    "features: 0.07342328092964157, array([0.02346451, 0.05420641, 0.06448213, 0.08374254, 0.10532716,\n",
    "       0.10931693])\n",
    "aff features: 0.09717403864507052, array([0.03742797, 0.10086592, 0.0981474 , 0.09717746, 0.13195505,\n",
    "       0.11747044])\n",
    "\n",
    "\n",
    "all frames:\n",
    "mobile vit features: (0.017115893185091147, array([0.05163362, 0.00402961, 0.00614032, 0.00229844, 0.02800543,\n",
    "       0.01058794]))\n",
    "       \n",
    "audio\n",
    "agg features: (0.2361361954257474, array([0.30001496, 0.1883828 , 0.2457414 , 0.31087313, 0.22221633,\n",
    "       0.14958856]))\n",
    "        \n",
    "ensemble\n",
    "audio agg features+ \n",
    "eri_mbf_va_face_images\n",
    "mbf_va agg features: (0.28981449809217746, array([0.30411956, 0.30041602, 0.25837018, 0.3147965 , 0.31599936,\n",
    "       0.24518537]))\n",
    "       \n",
    "#mbf va\n",
    "w=0.1\n",
    "y_ensemble=w*y_val_preds+(1-w)*y_val_preds_audio\n",
    "\n",
    "#y_ensemble[:,2]=y_val_preds_audio[:,2]\n",
    "#y_ensemble[:,3]=y_val_preds_audio[:,3]\n",
    "\n",
    "w=0.4\n",
    "y_ensemble[:,-1]=w*y_val_preds[:,-1]+(1-w)*y_val_preds_audio[:,-1]\n",
    "#(0.29894266463043945, array([0.30411956, 0.30041602, 0.25837018, 0.3147965 , 0.31599936,       0.29995437]))\n",
    "\n",
    "\n",
    "\n",
    "+mobilevit:\n",
    "0.1 (0.2828523451828629, array([0.30110888, 0.29684512, 0.25949711, 0.30738044, 0.31708184,\n",
    "       0.21520069]))\n",
    "w=0.1\n",
    "y_ensemble=w*y_val_preds+(1-w)*y_val_preds_audio\n",
    "\n",
    "y_ensemble[:,3]=y_val_preds_audio[:,3]\n",
    "\n",
    "w=0.5\n",
    "y_ensemble[:,-1]=w*y_val_preds[:,-1]+(1-w)*y_val_preds_audio[:,-1]\n",
    "#(0.2981795621039914, array([0.30110888, 0.29684512, 0.25949711, 0.31087313, 0.31708184, 0.3036713 ]))\n",
    "\n",
    "\n",
    "ddamfn_va\n",
    "0.1 (0.28359835070967354, array([0.3022263 , 0.29957365, 0.23646923, 0.30028883, 0.31403546,\n",
    "       0.24899663]))\n",
    "#ddamfnet\n",
    "w=0.1\n",
    "y_ensemble=w*y_val_preds+(1-w)*y_val_preds_audio\n",
    "\n",
    "y_ensemble[:,2]=y_val_preds_audio[:,2]\n",
    "y_ensemble[:,3]=y_val_preds_audio[:,3]\n",
    "\n",
    "w=0.4\n",
    "y_ensemble[:,-1]=w*y_val_preds[:,-1]+(1-w)*y_val_preds_audio[:,-1]\n",
    "\n",
    "print(mean_pearsons(y_ensemble,y_val))\n",
    "#(0.2952040356818089, array([0.3022263 , 0.29957365, 0.2457414 , 0.31087313, 0.31403546, 0.29877427]))"
   ]
  },
  {
   "cell_type": "code",
   "execution_count": 38,
   "metadata": {},
   "outputs": [
    {
     "name": "stderr",
     "output_type": "stream",
     "text": [
      "<ipython-input-38-5104b2b09224>:18: RuntimeWarning: More than 20 figures have been opened. Figures created through the pyplot interface (`matplotlib.pyplot.figure`) are retained until explicitly closed and may consume too much memory. (To control this warning, see the rcParam `figure.max_open_warning`).\n",
      "  plt.figure(figsize=(3, 3))\n"
     ]
    },
    {
     "data": {
      "text/plain": [
       "<Figure size 216x216 with 0 Axes>"
      ]
     },
     "metadata": {},
     "output_type": "display_data"
    },
    {
     "data": {
      "image/png": "[encoded data removed]",
      "text/plain": [
       "<Figure size 432x288 with 2 Axes>"
      ]
     },
     "metadata": {
      "needs_background": "light"
     },
     "output_type": "display_data"
    },
    {
     "data": {
      "image/png": "[encoded data removed]",
      "text/plain": [
       "<Figure size 216x216 with 1 Axes>"
      ]
     },
     "metadata": {
      "needs_background": "light"
     },
     "output_type": "display_data"
    },
    {
     "data": {
      "text/plain": [
       "<Figure size 216x216 with 0 Axes>"
      ]
     },
     "metadata": {},
     "output_type": "display_data"
    },
    {
     "data": {
      "image/png": "[encoded data removed]",
      "text/plain": [
       "<Figure size 432x288 with 2 Axes>"
      ]
     },
     "metadata": {
      "needs_background": "light"
     },
     "output_type": "display_data"
    },
    {
     "data": {
      "image/png": "[encoded data removed]",
      "text/plain": [
       "<Figure size 216x216 with 1 Axes>"
      ]
     },
     "metadata": {
      "needs_background": "light"
     },
     "output_type": "display_data"
    },
    {
     "data": {
      "text/plain": [
       "<Figure size 216x216 with 0 Axes>"
      ]
     },
     "metadata": {},
     "output_type": "display_data"
    },
    {
     "data": {
      "image/png": "[encoded data removed]",
      "text/plain": [
       "<Figure size 432x288 with 2 Axes>"
      ]
     },
     "metadata": {
      "needs_background": "light"
     },
     "output_type": "display_data"
    },
    {
     "data": {
      "image/png": "[encoded data removed]",
      "text/plain": [
       "<Figure size 216x216 with 1 Axes>"
      ]
     },
     "metadata": {
      "needs_background": "light"
     },
     "output_type": "display_data"
    },
    {
     "data": {
      "text/plain": [
       "<Figure size 216x216 with 0 Axes>"
      ]
     },
     "metadata": {},
     "output_type": "display_data"
    },
    {
     "data": {
      "image/png": "[encoded data removed]",
      "text/plain": [
       "<Figure size 432x288 with 2 Axes>"
      ]
     },
     "metadata": {
      "needs_background": "light"
     },
     "output_type": "display_data"
    },
    {
     "data": {
      "image/png": "[encoded data removed]",
      "text/plain": [
       "<Figure size 216x216 with 1 Axes>"
      ]
     },
     "metadata": {
      "needs_background": "light"
     },
     "output_type": "display_data"
    },
    {
     "data": {
      "text/plain": [
       "<Figure size 216x216 with 0 Axes>"
      ]
     },
     "metadata": {},
     "output_type": "display_data"
    },
    {
     "data": {
      "image/png": "[encoded data removed]",
      "text/plain": [
       "<Figure size 432x288 with 2 Axes>"
      ]
     },
     "metadata": {
      "needs_background": "light"
     },
     "output_type": "display_data"
    },
    {
     "data": {
      "image/png": "[encoded data removed]",
      "text/plain": [
       "<Figure size 216x216 with 1 Axes>"
      ]
     },
     "metadata": {
      "needs_background": "light"
     },
     "output_type": "display_data"
    },
    {
     "data": {
      "text/plain": [
       "<Figure size 216x216 with 0 Axes>"
      ]
     },
     "metadata": {},
     "output_type": "display_data"
    },
    {
     "data": {
      "image/png": "[encoded data removed]",
      "text/plain": [
       "<Figure size 432x288 with 2 Axes>"
      ]
     },
     "metadata": {
      "needs_background": "light"
     },
     "output_type": "display_data"
    },
    {
     "data": {
      "image/png": "[encoded data removed]",
      "text/plain": [
       "<Figure size 216x216 with 1 Axes>"
      ]
     },
     "metadata": {
      "needs_background": "light"
     },
     "output_type": "display_data"
    },
    {
     "data": {
      "text/plain": [
       "<Figure size 216x216 with 0 Axes>"
      ]
     },
     "metadata": {},
     "output_type": "display_data"
    },
    {
     "data": {
      "image/png": "[encoded data removed]",
      "text/plain": [
       "<Figure size 432x288 with 2 Axes>"
      ]
     },
     "metadata": {
      "needs_background": "light"
     },
     "output_type": "display_data"
    },
    {
     "data": {
      "text/plain": [
       "<Figure size 216x216 with 0 Axes>"
      ]
     },
     "metadata": {},
     "output_type": "display_data"
    },
    {
     "data": {
      "image/png": "[encoded data removed]",
      "text/plain": [
       "<Figure size 432x288 with 2 Axes>"
      ]
     },
     "metadata": {
      "needs_background": "light"
     },
     "output_type": "display_data"
    },
    {
     "data": {
      "text/plain": [
       "<Figure size 216x216 with 0 Axes>"
      ]
     },
     "metadata": {},
     "output_type": "display_data"
    },
    {
     "data": {
      "image/png": "[encoded data removed]",
      "text/plain": [
       "<Figure size 432x288 with 2 Axes>"
      ]
     },
     "metadata": {
      "needs_background": "light"
     },
     "output_type": "display_data"
    },
    {
     "data": {
      "text/plain": [
       "<Figure size 216x216 with 0 Axes>"
      ]
     },
     "metadata": {},
     "output_type": "display_data"
    },
    {
     "data": {
      "image/png": "[encoded data removed]",
      "text/plain": [
       "<Figure size 432x288 with 2 Axes>"
      ]
     },
     "metadata": {
      "needs_background": "light"
     },
     "output_type": "display_data"
    },
    {
     "data": {
      "text/plain": [
       "<Figure size 216x216 with 0 Axes>"
      ]
     },
     "metadata": {},
     "output_type": "display_data"
    },
    {
     "data": {
      "image/png": "[encoded data removed]",
      "text/plain": [
       "<Figure size 432x288 with 2 Axes>"
      ]
     },
     "metadata": {
      "needs_background": "light"
     },
     "output_type": "display_data"
    },
    {
     "data": {
      "text/plain": [
       "<Figure size 216x216 with 0 Axes>"
      ]
     },
     "metadata": {},
     "output_type": "display_data"
    },
    {
     "data": {
      "image/png": "[encoded data removed]",
      "text/plain": [
       "<Figure size 432x288 with 2 Axes>"
      ]
     },
     "metadata": {
      "needs_background": "light"
     },
     "output_type": "display_data"
    }
   ],
   "source": [
    "#Audio\n",
    "for i, cls in enumerate(classes):\n",
    "    plt.figure(figsize=(3, 3))\n",
    "    fig, axs = plt.subplots(1, 2, sharey=True, tight_layout=True)\n",
    "    axs[0].hist(y_val[:,i], bins=20)\n",
    "    axs[0].set_title(cls+' (val)')\n",
    "    axs[1].hist(y_val_preds[:,i], bins=20)\n",
    "    axs[1].set_title(cls+' (pred)')\n",
    "\n",
    "    plt.figure(figsize=(3, 3))\n",
    "    plt.scatter(y_val_preds[:,i],y_val[:,i])\n",
    "    plt.xlabel('pred')\n",
    "    plt.ylabel('val')\n",
    "    plt.title(cls)\n",
    "    \n",
    "y_train_preds=mlpModel.predict(X_train,verbose=0)\n",
    "for i, cls in enumerate(classes):\n",
    "    plt.figure(figsize=(3, 3))\n",
    "    fig, axs = plt.subplots(1, 2, sharey=True, tight_layout=True)\n",
    "    axs[0].hist(y_train[:,i], bins=20)\n",
    "    axs[0].set_title(cls+' (val)')\n",
    "    axs[1].hist(y_train_preds[:,i], bins=20)\n",
    "    axs[1].set_title(cls+' (pred)')\n"
   ]
  },
  {
   "cell_type": "markdown",
   "metadata": {},
   "source": [
    "# Save test results "
   ]
  },
  {
   "cell_type": "code",
   "execution_count": 24,
   "metadata": {},
   "outputs": [],
   "source": [
    "def get_test_video_features(videoname2features):\n",
    "    X=[]\n",
    "    for videoname in videoname2features:\n",
    "        features=videoname2features[videoname]\n",
    "\n",
    "        mean_features=features.mean(axis=0)\n",
    "        std_features=features.std(axis=0)\n",
    "        min_features=features.min(axis=0)\n",
    "        max_features=features.max(axis=0)\n",
    "        aggregated_feature = np.concatenate((mean_features, std_features, min_features, max_features), axis=None)\n",
    "        #aggregated_feature=mean_features\n",
    "\n",
    "        X.append(aggregated_feature)\n",
    "    X=np.array(X)\n",
    "    print(X.shape)\n",
    "    return X"
   ]
  },
  {
   "cell_type": "code",
   "execution_count": 101,
   "metadata": {},
   "outputs": [
    {
     "name": "stdout",
     "output_type": "stream",
     "text": [
      "(4586, 40)\n",
      "(4586, 6)\n"
     ]
    }
   ],
   "source": [
    "X_test=get_test_video_features(videoname2scores_test)\n",
    "y_test_preds=mlpModel.predict(X_test,verbose=0)\n",
    "print(y_test_preds.shape)"
   ]
  },
  {
   "cell_type": "code",
   "execution_count": 28,
   "metadata": {},
   "outputs": [
    {
     "name": "stdout",
     "output_type": "stream",
     "text": [
      "(4586, 6)\n"
     ]
    }
   ],
   "source": [
    "X_audio_test=get_test_video_features(videoname2audio_features_test)\n",
    "y_test_audio_preds=mlpModel.predict(X_audio_test,verbose=0)\n",
    "print(y_test_audio_preds.shape)"
   ]
  },
  {
   "cell_type": "code",
   "execution_count": 52,
   "metadata": {},
   "outputs": [
    {
     "name": "stdout",
     "output_type": "stream",
     "text": [
      "[[0.4900853  0.18769468 0.1107658  0.07411952 0.1295931  0.31471333]\n",
      " [0.46249324 0.18448764 0.123752   0.06644058 0.12972072 0.30980292]\n",
      " [0.43635917 0.15393153 0.13985907 0.0826392  0.10105472 0.23562363]\n",
      " ...\n",
      " [0.47143847 0.15335515 0.11553539 0.06589058 0.12406084 0.23210227]\n",
      " [0.49563345 0.23212674 0.10952677 0.0529507  0.14789248 0.45930958]\n",
      " [0.4395843  0.20130783 0.11465646 0.04543256 0.16921626 0.53058743]]\n"
     ]
    }
   ],
   "source": [
    "#mbf va\n",
    "w=0.1\n",
    "y_ensemble=w*y_test_preds+(1-w)*y_test_audio_preds\n",
    "\n",
    "#y_ensemble[:,2]=y_test_audio_preds[:,2]\n",
    "#y_ensemble[:,3]=y_test_audio_preds[:,3]\n",
    "\n",
    "w=0.4\n",
    "y_ensemble[:,-1]=w*y_test_preds[:,-1]+(1-w)*y_test_audio_preds[:,-1]\n",
    "\n",
    "print(y_ensemble)"
   ]
  },
  {
   "cell_type": "code",
   "execution_count": 72,
   "metadata": {},
   "outputs": [
    {
     "name": "stdout",
     "output_type": "stream",
     "text": [
      "[[0.4764402  0.16222474 0.11267997 0.06543092 0.11425896 0.27271718]\n",
      " [0.4463017  0.1858146  0.12318463 0.03853837 0.11992976 0.3112323 ]\n",
      " [0.42441052 0.15228902 0.13503066 0.04854969 0.0983649  0.25195074]\n",
      " ...\n",
      " [0.4573025  0.1512935  0.11363418 0.0356353  0.11630695 0.24457934]\n",
      " [0.4749427  0.20056097 0.11918769 0.04558285 0.12102737 0.34596974]\n",
      " [0.42152154 0.17093337 0.12249492 0.03619546 0.14776582 0.40528202]]\n"
     ]
    }
   ],
   "source": [
    "#mobilevit\n",
    "w=0.1\n",
    "y_ensemble=w*y_test_preds+(1-w)*y_test_audio_preds\n",
    "\n",
    "y_ensemble[:,3]=y_test_audio_preds[:,3]\n",
    "\n",
    "w=0.4\n",
    "y_ensemble[:,-1]=w*y_test_preds[:,-1]+(1-w)*y_test_audio_preds[:,-1]\n",
    "\n",
    "print(y_ensemble)"
   ]
  },
  {
   "cell_type": "code",
   "execution_count": 104,
   "metadata": {},
   "outputs": [
    {
     "name": "stdout",
     "output_type": "stream",
     "text": [
      "[[0.4888609  0.19192505 0.0720555  0.06543092 0.13774614 0.37444824]\n",
      " [0.4513509  0.18847406 0.08493616 0.03853837 0.13655794 0.35755914]\n",
      " [0.42719418 0.1548291  0.08851245 0.04854969 0.10329178 0.23074332]\n",
      " ...\n",
      " [0.4608904  0.14542416 0.06549436 0.0356353  0.12120492 0.21933019]\n",
      " [0.48574778 0.23193245 0.08611117 0.04558285 0.15967399 0.49751943]\n",
      " [0.4304653  0.20841119 0.08957669 0.03619546 0.18445885 0.6005862 ]]\n"
     ]
    }
   ],
   "source": [
    "#ddamfnet\n",
    "w=0.1\n",
    "y_ensemble=w*y_test_preds+(1-w)*y_test_audio_preds\n",
    "\n",
    "y_ensemble[:,2]=y_test_audio_preds[:,2]\n",
    "y_ensemble[:,3]=y_test_audio_preds[:,3]\n",
    "\n",
    "w=0.4\n",
    "y_ensemble[:,-1]=w*y_test_preds[:,-1]+(1-w)*y_test_audio_preds[:,-1]\n",
    "\n",
    "print(y_ensemble)"
   ]
  },
  {
   "cell_type": "code",
   "execution_count": 42,
   "metadata": {},
   "outputs": [
    {
     "name": "stdout",
     "output_type": "stream",
     "text": [
      "/home/HDD6TB/datasets/emotions/ABAW/ABAW_6/ERI/test_data/outputs\n"
     ]
    }
   ],
   "source": [
    "OUTDIR=os.path.join(DATA_DIR,'test_data','outputs')\n",
    "print(OUTDIR)\n",
    "if not os.path.exists(OUTDIR):\n",
    "    os.makedirs(OUTDIR)"
   ]
  },
  {
   "cell_type": "code",
   "execution_count": 105,
   "metadata": {},
   "outputs": [],
   "source": [
    "#with open(os.path.join(OUTDIR,'1_mbf_va.txt'), 'w') as f:\n",
    "#with open(os.path.join(OUTDIR,'2_mbf_va_train_val.txt'), 'w') as f:\n",
    "#with open(os.path.join(OUTDIR,'4_mobilevit_train_val.txt'), 'w') as f:\n",
    "with open(os.path.join(OUTDIR,'5_ddamnfn_va_train_val.txt'), 'w') as f:\n",
    "    f.write('Filename,Admiration,Amusement,Determination,Empathic Pain,Excitement,Joy\\n')\n",
    "    for videoname,y in zip(videoname2scores_test,y_ensemble):\n",
    "        f.write(videoname+','+','.join(map(str,y))+'\\n')"
   ]
  },
  {
   "cell_type": "code",
   "execution_count": 56,
   "metadata": {},
   "outputs": [],
   "source": [
    "with open(os.path.join(OUTDIR,'3_mbf_va_train_val_single.txt'), 'w') as f:\n",
    "    f.write('Filename,Admiration,Amusement,Determination,Empathic Pain,Excitement,Joy\\n')\n",
    "    for videoname,y in zip(videoname2scores_test,y_test_preds):\n",
    "        f.write(videoname+','+','.join(map(str,y))+'\\n')"
   ]
  },
  {
   "cell_type": "code",
   "execution_count": 106,
   "metadata": {},
   "outputs": [],
   "source": [
    "with open(os.path.join(OUTDIR,'6_wav2vec2.txt'), 'w') as f:\n",
    "    f.write('Filename,Admiration,Amusement,Determination,Empathic Pain,Excitement,Joy\\n')\n",
    "    for videoname,y in zip(videoname2scores_test,y_test_audio_preds):\n",
    "        f.write(videoname+','+','.join(map(str,y))+'\\n')"
   ]
  }
 ],
 "metadata": {
  "kernelspec": {
   "display_name": "Python 3",
   "language": "python",
   "name": "python3"
  },
  "language_info": {
   "codemirror_mode": {
    "name": "ipython",
    "version": 3
   },
   "file_extension": ".py",
   "mimetype": "text/x-python",
   "name": "python",
   "nbconvert_exporter": "python",
   "pygments_lexer": "ipython3",
   "version": "3.8.10"
  }
 },
 "nbformat": 4,
 "nbformat_minor": 2
}
