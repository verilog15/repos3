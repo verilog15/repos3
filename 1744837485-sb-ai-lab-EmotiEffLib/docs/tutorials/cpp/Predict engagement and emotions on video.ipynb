{
 "cells": [
  {
   "cell_type": "markdown",
   "id": "6af76f3d-1a49-48b8-ab49-40f7f0cfd88e",
   "metadata": {},
   "source": [
    "# Predict engagement and emotions on video with EmotiEffCppLib"
   ]
  },
  {
   "cell_type": "markdown",
   "id": "c05274d4-de69-4ed4-8527-be0e607703e3",
   "metadata": {},
   "source": [
    "Include some system headers:"
   ]
  },
  {
   "cell_type": "code",
   "execution_count": 1,
   "id": "fa265a92-efbb-43d5-afc0-6eaa02d3cafe",
   "metadata": {},
   "outputs": [],
   "source": [
    "#include <iostream>\n",
    "#include <string>\n",
    "#include <vector>\n",
    "#include <fstream>"
   ]
  },
  {
   "cell_type": "markdown",
   "id": "70695a6e-c5ff-4227-bfb6-6f56ea08dea6",
   "metadata": {},
   "source": [
    "Specify local path to the directory with EmotiEffLib:"
   ]
  },
  {
   "cell_type": "code",
   "execution_count": 2,
   "id": "06939297-1dab-4f14-8d1a-46d5c39c5d2d",
   "metadata": {},
   "outputs": [],
   "source": [
    "const std::string emotiEffLibRootDir = \"/home/jovyan\";"
   ]
  },
  {
   "cell_type": "markdown",
   "id": "fe906e19-ef36-4f33-a3de-2cba488171f5",
   "metadata": {},
   "source": [
    "Specify some pragmas related to the emotiEffLibRootDir directory:"
   ]
  },
  {
   "cell_type": "code",
   "execution_count": 3,
   "id": "ddf5887d-320a-469b-96e5-053b5b814e73",
   "metadata": {},
   "outputs": [],
   "source": [
    "// NOTE: It is important that all paths in pragma should be specified as a string constant.\n",
    "// Please, copy value of emotiEffLibRootDir to the next pragmas:\n",
    "\n",
    "// Path to EmotiEffCpp lib dependencies\n",
    "#pragma cling add_include_path(\"/home/jovyan/emotieffcpplib/include\")\n",
    "#pragma cling add_include_path(\"/home/jovyan/emotieffcpplib/3rdparty/opencv-mtcnn/lib/include\")\n",
    "#pragma cling add_include_path(\"/home/jovyan/emotieffcpplib/3rdparty/xtensor/include\")\n",
    "\n",
    "// Path to includes for drawing images\n",
    "#pragma cling add_include_path(\"./json/single_include\")\n",
    "#pragma cling add_include_path(\"/home/jovyan/emotieffcpplib/3rdparty/xtl/include\")\n",
    "\n",
    "// Link libraries\n",
    "#pragma cling add_library_path(\"/home/jovyan/build/lib\")\n",
    "#pragma cling load(\"emotiefflib\")\n",
    "#pragma cling load(\"mtcnn\")"
   ]
  },
  {
   "cell_type": "markdown",
   "id": "54c117ba-b19a-49f5-8b31-e87e5d09b903",
   "metadata": {},
   "source": [
    "Specify here paths to the directories with runtimes:"
   ]
  },
  {
   "cell_type": "code",
   "execution_count": 4,
   "id": "99fb7335-2136-4d10-8de8-e05bc10aa1ab",
   "metadata": {},
   "outputs": [],
   "source": [
    "// Path to ONNXRuntime\n",
    "#pragma cling add_include_path(\"/home/jovyan/onnxruntime/include\")\n",
    "// Path to Libtorch\n",
    "#pragma cling add_include_path(\"/home/jovyan/libtorch/include\")"
   ]
  },
  {
   "cell_type": "markdown",
   "id": "eaf5dd20-3031-44a8-b517-16619b15eee2",
   "metadata": {},
   "source": [
    "Add linking with OpenCV libraries:"
   ]
  },
  {
   "cell_type": "code",
   "execution_count": 5,
   "id": "cc8d16b9-3cf7-49a1-ac42-6c276db54514",
   "metadata": {},
   "outputs": [],
   "source": [
    "// Path to OpenCV\n",
    "#pragma cling add_include_path(\"/usr/include/opencv4\")\n",
    "\n",
    "// OpenCV libs\n",
    "#pragma cling load(\"libopencv_shape\")\n",
    "#pragma cling load(\"libopencv_stitching\")\n",
    "#pragma cling load(\"libopencv_objdetect\")\n",
    "#pragma cling load(\"libopencv_superres\")\n",
    "#pragma cling load(\"libopencv_videostab\")\n",
    "#pragma cling load(\"libopencv_calib3d\")\n",
    "#pragma cling load(\"libopencv_features2d\")\n",
    "#pragma cling load(\"libopencv_highgui\")\n",
    "#pragma cling load(\"libopencv_videoio\")\n",
    "#pragma cling load(\"libopencv_imgcodecs\")\n",
    "#pragma cling load(\"libopencv_video\")\n",
    "#pragma cling load(\"libopencv_photo\")\n",
    "#pragma cling load(\"libopencv_ml\")\n",
    "#pragma cling load(\"libopencv_imgproc\")\n",
    "#pragma cling load(\"libopencv_dnn\")\n",
    "#pragma cling load(\"libopencv_viz\")"
   ]
  },
  {
   "cell_type": "markdown",
   "id": "767cef61-9aad-4eb6-8316-2207e0c1e493",
   "metadata": {},
   "source": [
    "Include necessary headers:"
   ]
  },
  {
   "cell_type": "code",
   "execution_count": 6,
   "id": "62271fe5-9934-4cfe-87e1-54d59fccd758",
   "metadata": {},
   "outputs": [],
   "source": [
    "#include <emotiefflib/facial_analysis.h>\n",
    "#include <mtcnn/detector.h>\n",
    "\n",
    "#include <xtensor/xarray.hpp>\n",
    "#include <xtensor/xio.hpp>\n",
    "#include <xtensor/xmath.hpp>\n",
    "#include <xtensor/xsort.hpp>\n",
    "\n",
    "#include \"xtl/xbase64.hpp\"\n",
    "#include \"nlohmann/json.hpp\""
   ]
  },
  {
   "cell_type": "markdown",
   "id": "ed4867d9-9585-41b7-b62e-455c61ba3473",
   "metadata": {},
   "source": [
    "Define some common variables:"
   ]
  },
  {
   "cell_type": "code",
   "execution_count": 7,
   "id": "825dc54e-ec7b-43be-8980-4219e67dc1aa",
   "metadata": {},
   "outputs": [],
   "source": [
    "auto videoPath = emotiEffLibRootDir + \"/tests/data/video_samples/engagement/engaged/1_video1.mp4\";\n",
    "std::string backend;\n",
    "std::string modelName;\n",
    "std::unique_ptr<EmotiEffLib::EmotiEffLibRecognizer> fer;\n",
    "std::string ext;"
   ]
  },
  {
   "cell_type": "markdown",
   "id": "fa86daf9-942e-4837-b882-5b0dbffaa045",
   "metadata": {},
   "source": [
    "## Helper functions"
   ]
  },
  {
   "cell_type": "markdown",
   "id": "2d86ec9b-b8a8-47cf-9603-1c30ccef935f",
   "metadata": {},
   "source": [
    "Functions to draw image:"
   ]
  },
  {
   "cell_type": "code",
   "execution_count": 8,
   "id": "8879974a-01d6-4d34-9a9b-567410372e6e",
   "metadata": {},
   "outputs": [],
   "source": [
    "namespace nl = nlohmann;\n",
    "\n",
    "namespace im\n",
    "{\n",
    "    struct image\n",
    "    {\n",
    "        inline image(const std::string& filename)\n",
    "        {\n",
    "            std::ifstream fin(filename, std::ios::binary);\n",
    "            m_buffer << fin.rdbuf();\n",
    "        }\n",
    "\n",
    "        image(const cv::Mat& image)\n",
    "        {\n",
    "            // Encode the image into memory\n",
    "            std::vector<uchar> buffer;\n",
    "            cv::imencode(\".jpg\", image, buffer);\n",
    "            \n",
    "            m_buffer.write(reinterpret_cast<const char*>(buffer.data()), buffer.size());\n",
    "        }\n",
    "\n",
    "        std::stringstream m_buffer;\n",
    "    };\n",
    "\n",
    "    nl::json mime_bundle_repr(const image& i)\n",
    "    {\n",
    "        auto bundle = nl::json::object();\n",
    "        bundle[\"image/png\"] = xtl::base64encode(i.m_buffer.str());\n",
    "        return bundle;\n",
    "    }\n",
    "}"
   ]
  },
  {
   "cell_type": "markdown",
   "id": "f7f5ab4d-5b69-4b96-bfb2-09a53cf98960",
   "metadata": {},
   "source": [
    "Helper function to resize cv::Mat:"
   ]
  },
  {
   "cell_type": "code",
   "execution_count": 9,
   "id": "88f88659-47eb-4693-b2b1-3b127ba09b14",
   "metadata": {},
   "outputs": [],
   "source": [
    "cv::Mat resizeWithAspectRatio(const cv::Mat& img, int target_width = 0, int target_height = 0) {\n",
    "    if (img.empty()) {\n",
    "        std::cerr << \"Error: Image is empty!\" << std::endl;\n",
    "        return cv::Mat();\n",
    "    }\n",
    "\n",
    "    int original_width = img.cols;\n",
    "    int original_height = img.rows;\n",
    "    double aspect_ratio = (double)original_width / original_height;\n",
    "\n",
    "    int new_width = target_width;\n",
    "    int new_height = target_height;\n",
    "\n",
    "    if (target_width > 0 && target_height == 0) {\n",
    "        new_height = static_cast<int>(target_width / aspect_ratio);\n",
    "    } else if (target_height > 0 && target_width == 0) {\n",
    "        new_width = static_cast<int>(target_height * aspect_ratio);\n",
    "    } else if (target_width == 0 && target_height == 0) {\n",
    "        return img.clone();  // No resizing needed\n",
    "    }\n",
    "\n",
    "    cv::Mat resized_img;\n",
    "    cv::resize(img, resized_img, cv::Size(new_width, new_height), 0, 0, cv::INTER_LINEAR);\n",
    "    return resized_img;\n",
    "}"
   ]
  },
  {
   "cell_type": "markdown",
   "id": "ff5a3446-5d65-417d-9e44-e760733e6853",
   "metadata": {},
   "source": [
    "To improve performance, we downscale the input image before faces recognition:"
   ]
  },
  {
   "cell_type": "code",
   "execution_count": 10,
   "id": "fce69cf4-c643-4ecf-ab81-4412fc5b66e2",
   "metadata": {},
   "outputs": [],
   "source": [
    "cv::Mat downscaleImageToWidth(const cv::Mat& inputImage, int targetWidth) {\n",
    "    // Get the original dimensions\n",
    "    int originalWidth = inputImage.cols;\n",
    "    int originalHeight = inputImage.rows;\n",
    "\n",
    "    if (originalWidth < targetWidth)\n",
    "        return inputImage;\n",
    "\n",
    "    // Calculate the scaling factor\n",
    "    double scaleFactor = static_cast<double>(targetWidth) / originalWidth;\n",
    "\n",
    "    // Calculate the new height while maintaining the aspect ratio\n",
    "    int targetHeight = static_cast<int>(originalHeight * scaleFactor);\n",
    "\n",
    "    // Resize the image\n",
    "    cv::Mat outputImage;\n",
    "    cv::resize(inputImage, outputImage, cv::Size(targetWidth, targetHeight));\n",
    "\n",
    "    return outputImage;\n",
    "}"
   ]
  },
  {
   "cell_type": "markdown",
   "id": "b6382c31-6313-4788-82f5-d03953921a50",
   "metadata": {},
   "source": [
    "Function for faces recognition:"
   ]
  },
  {
   "cell_type": "code",
   "execution_count": 11,
   "id": "23b7f868-742c-4585-8d93-87b2b4432677",
   "metadata": {},
   "outputs": [],
   "source": [
    "std::vector<cv::Mat> recognizeFaces(const cv::Mat& frame, int downscaleWidth = 500) {\n",
    "    auto dirWithModels = emotiEffLibRootDir + \"/emotieffcpplib/3rdparty/opencv-mtcnn/data/models\";\n",
    "    ProposalNetwork::Config pConfig;\n",
    "    pConfig.protoText = dirWithModels + \"/det1.prototxt\";\n",
    "    pConfig.caffeModel = dirWithModels + \"/det1.caffemodel\";\n",
    "    pConfig.threshold = 0.6f;\n",
    "    RefineNetwork::Config rConfig;\n",
    "    rConfig.protoText = dirWithModels + \"/det2.prototxt\";\n",
    "    rConfig.caffeModel = dirWithModels + \"/det2.caffemodel\";\n",
    "    rConfig.threshold = 0.7f;\n",
    "    OutputNetwork::Config oConfig;\n",
    "    oConfig.protoText = dirWithModels + \"/det3.prototxt\";\n",
    "    oConfig.caffeModel = dirWithModels + \"/det3.caffemodel\";\n",
    "    oConfig.threshold = 0.7f;\n",
    "    MTCNNDetector detector(pConfig, rConfig, oConfig);\n",
    "    auto scaledFrame = downscaleImageToWidth(frame, downscaleWidth);\n",
    "    double downcastRatioW = static_cast<double>(frame.cols) / scaledFrame.cols;\n",
    "    double downcastRatioH = static_cast<double>(frame.rows) / scaledFrame.rows;\n",
    "    std::vector<Face> faces = detector.detect(scaledFrame, 20.f, 0.709f);\n",
    "    std::vector<cv::Mat> cvFaces = {};\n",
    "    cvFaces.reserve(faces.size());\n",
    "    for (auto& face : faces) {\n",
    "        face.bbox.x1 *= downcastRatioW;\n",
    "        face.bbox.x2 *= downcastRatioW;\n",
    "        face.bbox.y1 *= downcastRatioH;\n",
    "        face.bbox.y2 *= downcastRatioH;\n",
    "        cv::Rect roi(face.bbox.x1, face.bbox.y1, face.bbox.x2 - face.bbox.x1,\n",
    "                     face.bbox.y2 - face.bbox.y1);\n",
    "        cv::Mat f = frame(roi).clone();\n",
    "        cvFaces.push_back(f);\n",
    "    }\n",
    "    return cvFaces;\n",
    "}"
   ]
  },
  {
   "cell_type": "markdown",
   "id": "a7d3ba31-edc9-4bbe-8062-c49b87f532b4",
   "metadata": {},
   "source": [
    "## Emotions recognition ONNX"
   ]
  },
  {
   "cell_type": "markdown",
   "id": "e5a5a78c-d6d4-4ec5-bada-91adf4af5ddf",
   "metadata": {},
   "source": [
    "Define backend and model name:"
   ]
  },
  {
   "cell_type": "code",
   "execution_count": 12,
   "id": "4447f166-ae01-42e8-9c11-d87c7314d869",
   "metadata": {},
   "outputs": [],
   "source": [
    "backend = \"onnx\";\n",
    "modelName = EmotiEffLib::getSupportedModels(backend)[0];\n",
    "ext = \".onnx\";"
   ]
  },
  {
   "cell_type": "markdown",
   "id": "a71de426-2c23-4a38-a22c-cc60154ea8a8",
   "metadata": {},
   "source": [
    "### Read video and recognize engagement:"
   ]
  },
  {
   "cell_type": "markdown",
   "id": "ff1ae037-4057-47f0-8401-3fd682e0d76d",
   "metadata": {},
   "source": [
    "For engagement recognition, we need to collect a sequence of video frames before predicting engagement class. To avoid extracting visual features for the same frames in different sliding windows, it is better to read the whole video before recognizing engagement or extract visual features for each frame before passing them to classifier."
   ]
  },
  {
   "cell_type": "markdown",
   "id": "4a59795c-d850-49ef-8db2-4a2ff47d9278",
   "metadata": {},
   "source": [
    "Read the whole video:"
   ]
  },
  {
   "cell_type": "code",
   "execution_count": 13,
   "id": "a0c5fb20-25d7-4870-b785-4b39926027bd",
   "metadata": {},
   "outputs": [],
   "source": [
    "cv::VideoCapture cap(videoPath);\n",
    "if (!cap.isOpened()) {\n",
    "    throw std::runtime_error(\"Cannot open video file!\");\n",
    "}\n",
    "\n",
    "cv::Mat frame;\n",
    "std::vector<cv::Mat> allFaces;\n",
    "while (cap.read(frame)) {\n",
    "    auto faces = recognizeFaces(frame);\n",
    "    if (faces.size() == 0) {\n",
    "        continue;\n",
    "    }\n",
    "    allFaces.insert(allFaces.end(), faces.begin(), faces.end());\n",
    "}\n",
    "\n",
    "cap.release();"
   ]
  },
  {
   "cell_type": "markdown",
   "id": "e64ea593-df75-4a2f-a0e8-76cb62827d7a",
   "metadata": {},
   "source": [
    "Display 100th frame:"
   ]
  },
  {
   "cell_type": "code",
   "execution_count": 14,
   "id": "851bb47f-9f1e-4ebd-91be-c59f51e81a80",
   "metadata": {},
   "outputs": [
    {
     "data": {
      "image/png": "[encoded data removed]"
     },
     "execution_count": 14,
     "metadata": {},
     "output_type": "execute_result"
    }
   ],
   "source": [
    "im::image img(resizeWithAspectRatio(allFaces[99], 300));\n",
    "img"
   ]
  },
  {
   "cell_type": "markdown",
   "id": "fe4fbf00-cf5d-478a-8479-59a551370170",
   "metadata": {},
   "source": [
    "Recognize engagement using predict_engagement method:"
   ]
  },
  {
   "cell_type": "code",
   "execution_count": 15,
   "id": "682322ea-c121-4ceb-834e-65e04f06c3c5",
   "metadata": {},
   "outputs": [
    {
     "name": "stdout",
     "output_type": "stream",
     "text": [
      "Engaged == Engaged\n"
     ]
    }
   ],
   "source": [
    "std::string featureExtractorPath = emotiEffLibRootDir + \"/models/emotieffcpplib_prepared_models/features_extractor_\" + modelName + ext;\n",
    "std::string engagementClassifierPath = emotiEffLibRootDir + \"/models/emotieffcpplib_prepared_models/engagement_classifier_2560_128\" + ext;\n",
    "EmotiEffLib::EmotiEffLibConfig config;\n",
    "config.backend = backend;\n",
    "config.featureExtractorPath = featureExtractorPath;\n",
    "config.engagementClassifierPath = engagementClassifierPath;\n",
    "config.modelName = modelName;\n",
    "\n",
    "fer = EmotiEffLib::EmotiEffLibRecognizer::createInstance(config);\n",
    "auto res = fer->predictEngagement(allFaces);\n",
    "auto score = xt::mean(res.scores, {0});\n",
    "auto engagement_idx = xt::argmax(score)[0];\n",
    "\n",
    "std::cout << fer->getEngagementClassById(engagement_idx) << \" == Engaged\" << std::endl;"
   ]
  },
  {
   "cell_type": "markdown",
   "id": "1da1e718-b295-48c6-acde-15dd4b95004c",
   "metadata": {},
   "source": [
    "### Recognize engagement and emotions on a sequence of frames by calling features extractor and classifier separately"
   ]
  },
  {
   "cell_type": "code",
   "execution_count": 16,
   "id": "93925464-6a76-41ab-a95c-8f3595a4c626",
   "metadata": {},
   "outputs": [
    {
     "name": "stdout",
     "output_type": "stream",
     "text": [
      "Anger == Anger\n",
      "Engaged == Engaged\n"
     ]
    }
   ],
   "source": [
    "std::string featureExtractorPath = emotiEffLibRootDir + \"/models/emotieffcpplib_prepared_models/features_extractor_\" + modelName + ext;\n",
    "std::string classifierPath = emotiEffLibRootDir + \"/models/emotieffcpplib_prepared_models/classifier_\" + modelName + ext;\n",
    "std::string engagementClassifierPath = emotiEffLibRootDir + \"/models/emotieffcpplib_prepared_models/engagement_classifier_2560_128\" + ext;\n",
    "EmotiEffLib::EmotiEffLibConfig config;\n",
    "config.backend = backend;\n",
    "config.featureExtractorPath = featureExtractorPath;\n",
    "config.classifierPath = classifierPath;\n",
    "config.engagementClassifierPath = engagementClassifierPath;\n",
    "config.modelName = modelName;\n",
    "\n",
    "fer = EmotiEffLib::EmotiEffLibRecognizer::createInstance(config);\n",
    "auto features = fer->extractFeatures(allFaces);\n",
    "auto res_emotions = fer->classifyEmotions(features, true);\n",
    "auto score_emotions = xt::mean(res_emotions.scores, {0});\n",
    "auto emotion_idx = xt::argmax(score_emotions)[0];\n",
    "auto res_engagement = fer->classifyEngagement(features);\n",
    "auto score_engagement = xt::mean(res_engagement.scores, {0});\n",
    "auto engagement_idx = xt::argmax(score_engagement)[0];\n",
    "std::cout << fer->getEmotionClassById(emotion_idx) << \" == Anger\" << std::endl;\n",
    "std::cout << fer->getEngagementClassById(engagement_idx) << \" == Engaged\" << std::endl;"
   ]
  },
  {
   "cell_type": "markdown",
   "id": "4c45a65f-0780-4ecd-a300-098ab8f9dee2",
   "metadata": {},
   "source": [
    "## Emotions recognition Torch"
   ]
  },
  {
   "cell_type": "markdown",
   "id": "9efd664d-a7ef-4560-9d36-78279095f1d2",
   "metadata": {},
   "source": [
    "Define backend and model name:"
   ]
  },
  {
   "cell_type": "code",
   "execution_count": 17,
   "id": "9728edec-6824-4d8d-9198-b09bcd35d0e9",
   "metadata": {},
   "outputs": [],
   "source": [
    "backend = \"torch\";\n",
    "modelName = EmotiEffLib::getSupportedModels(backend)[0];\n",
    "ext = \".pt\";"
   ]
  },
  {
   "cell_type": "markdown",
   "id": "fecb8f7d-0712-413f-8c92-022ce39608d1",
   "metadata": {},
   "source": [
    "### Read video and recognize engagement:"
   ]
  },
  {
   "cell_type": "markdown",
   "id": "baeee7b3-a707-4def-a230-fc1466f07641",
   "metadata": {},
   "source": [
    "For engagement recognition, we need to collect a sequence of video frames before predicting engagement class. To avoid extracting visual features for the same frames in different sliding windows, it is better to read the whole video before recognizing engagement or extract visual features for each frame before passing them to classifier."
   ]
  },
  {
   "cell_type": "markdown",
   "id": "2da34bff-2604-4253-89c2-adfa67246438",
   "metadata": {},
   "source": [
    "Read the whole video:"
   ]
  },
  {
   "cell_type": "code",
   "execution_count": 18,
   "id": "f30629e0-cc1c-43c3-938b-e82e10fb9f19",
   "metadata": {},
   "outputs": [],
   "source": [
    "cv::VideoCapture cap(videoPath);\n",
    "if (!cap.isOpened()) {\n",
    "    throw std::runtime_error(\"Cannot open video file!\");\n",
    "}\n",
    "\n",
    "cv::Mat frame;\n",
    "std::vector<cv::Mat> allFaces;\n",
    "while (cap.read(frame)) {\n",
    "    auto faces = recognizeFaces(frame);\n",
    "    if (faces.size() == 0) {\n",
    "        continue;\n",
    "    }\n",
    "    allFaces.insert(allFaces.end(), faces.begin(), faces.end());\n",
    "}\n",
    "\n",
    "cap.release();"
   ]
  },
  {
   "cell_type": "markdown",
   "id": "957d2e7e-355b-4b41-bfe5-687dc93da815",
   "metadata": {},
   "source": [
    "Display 100th frame:"
   ]
  },
  {
   "cell_type": "code",
   "execution_count": 19,
   "id": "ef26ff6d-0f17-41bd-a106-a5fe6790a346",
   "metadata": {},
   "outputs": [
    {
     "data": {
      "image/png": "[encoded data removed]"
     },
     "execution_count": 19,
     "metadata": {},
     "output_type": "execute_result"
    }
   ],
   "source": [
    "im::image img(resizeWithAspectRatio(allFaces[99], 300));\n",
    "img"
   ]
  },
  {
   "cell_type": "markdown",
   "id": "5cbe8736-9737-42c3-81b2-99f17f6983d7",
   "metadata": {},
   "source": [
    "Recognize engagement using predict_engagement method:"
   ]
  },
  {
   "cell_type": "code",
   "execution_count": 20,
   "id": "a903cc0f-04ab-499f-b2d4-21693cda0b98",
   "metadata": {},
   "outputs": [],
   "source": [
    "std::string featureExtractorPath = emotiEffLibRootDir + \"/models/emotieffcpplib_prepared_models/features_extractor_\" + modelName + ext;\n",
    "std::string engagementClassifierPath = emotiEffLibRootDir + \"/models/emotieffcpplib_prepared_models/engagement_classifier_2560_128\" + ext;\n",
    "EmotiEffLib::EmotiEffLibConfig config;\n",
    "config.backend = backend;\n",
    "config.featureExtractorPath = featureExtractorPath;\n",
    "config.engagementClassifierPath = engagementClassifierPath;\n",
    "config.modelName = modelName;\n",
    "\n",
    "fer = EmotiEffLib::EmotiEffLibRecognizer::createInstance(config);\n",
    "auto res = fer->predictEngagement(allFaces);\n",
    "auto score = xt::mean(res.scores, {0});\n",
    "auto engagement_idx = xt::argmax(score)[0];\n",
    "\n",
    "std::cout << fer->getEngagementClassById(engagement_idx) << \" == Engaged\" << std::endl;"
   ]
  },
  {
   "cell_type": "markdown",
   "id": "3c5dfd11-87b6-4e5f-a2d0-a06ab2324d8d",
   "metadata": {},
   "source": [
    "### Recognize engagement and emotions on a sequence of frames by calling features extractor and classifier separately"
   ]
  },
  {
   "cell_type": "code",
   "execution_count": 21,
   "id": "2854d3a9-41c1-4b9b-ba54-a3c8dff9deab",
   "metadata": {},
   "outputs": [
    {
     "name": "stdout",
     "output_type": "stream",
     "text": [
      "Anger == Anger\n",
      "Engaged == Engaged\n"
     ]
    }
   ],
   "source": [
    "std::string featureExtractorPath = emotiEffLibRootDir + \"/models/emotieffcpplib_prepared_models/features_extractor_\" + modelName + ext;\n",
    "std::string classifierPath = emotiEffLibRootDir + \"/models/emotieffcpplib_prepared_models/classifier_\" + modelName + ext;\n",
    "std::string engagementClassifierPath = emotiEffLibRootDir + \"/models/emotieffcpplib_prepared_models/engagement_classifier_2560_128\" + ext;\n",
    "EmotiEffLib::EmotiEffLibConfig config;\n",
    "config.backend = backend;\n",
    "config.featureExtractorPath = featureExtractorPath;\n",
    "config.classifierPath = classifierPath;\n",
    "config.engagementClassifierPath = engagementClassifierPath;\n",
    "config.modelName = modelName;\n",
    "\n",
    "fer = EmotiEffLib::EmotiEffLibRecognizer::createInstance(config);\n",
    "auto features = fer->extractFeatures(allFaces);\n",
    "auto res_emotions = fer->classifyEmotions(features, true);\n",
    "auto score_emotions = xt::mean(res_emotions.scores, {0});\n",
    "auto emotion_idx = xt::argmax(score_emotions)[0];\n",
    "auto res_engagement = fer->classifyEngagement(features);\n",
    "auto score_engagement = xt::mean(res_engagement.scores, {0});\n",
    "auto engagement_idx = xt::argmax(score_engagement)[0];\n",
    "std::cout << fer->getEmotionClassById(emotion_idx) << \" == Anger\" << std::endl;\n",
    "std::cout << fer->getEngagementClassById(engagement_idx) << \" == Engaged\" << std::endl;"
   ]
  }
 ],
 "metadata": {
  "kernelspec": {
   "display_name": "C++17",
   "language": "C++17",
   "name": "xcpp17"
  },
  "language_info": {
   "codemirror_mode": "text/x-c++src",
   "file_extension": ".cpp",
   "mimetype": "text/x-c++src",
   "name": "c++",
   "version": "17"
  }
 },
 "nbformat": 4,
 "nbformat_minor": 5
}
